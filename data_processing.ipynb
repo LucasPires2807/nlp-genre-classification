{
 "cells": [
  {
   "cell_type": "markdown",
   "id": "74352454",
   "metadata": {},
   "source": [
    "# IMDb Movie Genre Classification Dataset\n",
    "## IMD1107 - Natural Language Processing\n",
    "### Lucas Pires de Souza, Mariana Emerenciano"
   ]
  },
  {
   "cell_type": "markdown",
   "id": "bfaa58e3",
   "metadata": {},
   "source": [
    "# Movie Dataset Description\n",
    "\n",
    "## Overview\n",
    "\n",
    "This dataset contains information about movies along with their genres, structured across two related CSV files. The data enables analysis of movie synopses and their associated genres, making it particularly useful for Natural Language Processing (NLP) tasks and multi-label classification problems.\n",
    "\n",
    "## File Structure\n",
    "\n",
    "### 1. `movies_overview.csv`\n",
    "\n",
    "This file contains the core movie information:\n",
    "\n",
    "| Column     | Type   | Description                                                                 |\n",
    "|------------|--------|-----------------------------------------------------------------------------|\n",
    "| `title`    | string | The title of the movie                                                      |\n",
    "| `overview` | string | A brief description or synopsis of the movie's plot                         |\n",
    "| `genre_ids`| string | One or more genre identifiers (comma-separated if multiple) associated with the movie |\n",
    "\n",
    "**Key Characteristics:**\n",
    "- Each row represents a unique movie\n",
    "- The `genre_ids` field may contain multiple values (multi-label)\n",
    "- The `overview` provides textual data suitable for NLP analysis\n",
    "\n",
    "### 2. `movies_genres.csv`\n",
    "\n",
    "This file provides the genre reference mapping:\n",
    "\n",
    "| Column | Type   | Description                          |\n",
    "|--------|--------|--------------------------------------|\n",
    "| `id`   | int    | Unique identifier for each genre     |\n",
    "| `name` | string | The human-readable name of the genre |\n",
    "\n",
    "**Key Characteristics:**\n",
    "- Serves as a lookup table for genre identifiers\n",
    "- Enables conversion of numeric genre IDs to meaningful labels\n",
    "- Typically contains standard film genres (e.g., Action, Comedy, Drama)\n",
    "\n",
    "## Dataset Relationships\n",
    "\n",
    "The two files relate through the genre identifiers:\n",
    "- `movies_overview.genre_ids` → `movies_genres.id`\n",
    "- Multiple genres per movie are represented as comma-separated IDs in `genre_ids`\n"
   ]
  },
  {
   "cell_type": "code",
   "execution_count": 1,
   "id": "938fe7a5",
   "metadata": {},
   "outputs": [],
   "source": [
    "# Import libraries with standard conventions\n",
    "import pandas as pd\n",
    "import numpy as np\n",
    "import re\n",
    "from ast import literal_eval\n",
    "from itertools import chain\n",
    "from collections import Counter\n",
    "from pprint import pprint\n",
    "import plotly.express as px\n",
    "import plotly.graph_objects as go\n",
    "import spacy\n",
    "import nltk\n",
    "from nltk.corpus import stopwords\n",
    "from nltk.stem import WordNetLemmatizer\n",
    "from sklearn.feature_extraction.text import CountVectorizer, TfidfVectorizer\n",
    "\n",
    "\n",
    "# Loading the data\n",
    "df_movies = pd.read_csv('data/movies_overview.csv')\n",
    "df_genres = pd.read_csv('data/movies_genres.csv')"
   ]
  },
  {
   "cell_type": "code",
   "execution_count": 2,
   "id": "23a12b6a",
   "metadata": {},
   "outputs": [
    {
     "name": "stderr",
     "output_type": "stream",
     "text": [
      "[nltk_data] Downloading package stopwords to /home/lucas/nltk_data...\n",
      "[nltk_data]   Package stopwords is already up-to-date!\n",
      "[nltk_data] Downloading package wordnet to /home/lucas/nltk_data...\n",
      "[nltk_data]   Package wordnet is already up-to-date!\n"
     ]
    },
    {
     "data": {
      "text/plain": [
       "True"
      ]
     },
     "execution_count": 2,
     "metadata": {},
     "output_type": "execute_result"
    }
   ],
   "source": [
    "# Download NLTK resources\n",
    "nltk.download('stopwords')\n",
    "nltk.download('wordnet')"
   ]
  },
  {
   "cell_type": "markdown",
   "id": "71d93b9e",
   "metadata": {},
   "source": [
    "# EDA"
   ]
  },
  {
   "cell_type": "code",
   "execution_count": 3,
   "id": "31749b59",
   "metadata": {},
   "outputs": [
    {
     "name": "stdout",
     "output_type": "stream",
     "text": [
      "=== Movies Overview ===\n"
     ]
    },
    {
     "data": {
      "application/vnd.microsoft.datawrangler.viewer.v0+json": {
       "columns": [
        {
         "name": "index",
         "rawType": "int64",
         "type": "integer"
        },
        {
         "name": "title",
         "rawType": "object",
         "type": "string"
        },
        {
         "name": "overview",
         "rawType": "object",
         "type": "string"
        },
        {
         "name": "genre_ids",
         "rawType": "object",
         "type": "string"
        }
       ],
       "conversionMethod": "pd.DataFrame",
       "ref": "dfd1f120-afd1-4faa-9ef5-b62ad33117c3",
       "rows": [
        [
         "0",
         "The Shawshank Redemption",
         "Imprisoned in the 1940s for the double murder of his wife and her lover, upstanding banker Andy Dufresne begins a new life at the Shawshank prison, where he puts his accounting skills to work for an amoral warden. During his long stretch in prison, Dufresne comes to be admired by the other inmates -- including an older prisoner named Red -- for his integrity and unquenchable sense of hope.",
         "[18, 80]"
        ],
        [
         "1",
         "The Godfather",
         "Spanning the years 1945 to 1955, a chronicle of the fictional Italian-American Corleone crime family. When organized crime family patriarch, Vito Corleone barely survives an attempt on his life, his youngest son, Michael steps in to take care of the would-be killers, launching a campaign of bloody revenge.",
         "[18, 80]"
        ],
        [
         "2",
         "The Godfather Part II",
         "In the continuing saga of the Corleone crime family, a young Vito Corleone grows up in Sicily and in 1910s New York. In the 1950s, Michael Corleone attempts to expand the family business into Las Vegas, Hollywood and Cuba.",
         "[18, 80]"
        ],
        [
         "3",
         "Schindler's List",
         "The true story of how businessman Oskar Schindler saved over a thousand Jewish lives from the Nazis while they worked as slaves in his factory during World War II.",
         "[18, 36, 10752]"
        ],
        [
         "4",
         "12 Angry Men",
         "The defense and the prosecution have rested and the jury is filing into the jury room to decide if a young Spanish-American is guilty or innocent of murdering his father. What begins as an open and shut case soon becomes a mini-drama of each of the jurors' prejudices and preconceptions about the trial, the accused, and each other.",
         "[18]"
        ]
       ],
       "shape": {
        "columns": 3,
        "rows": 5
       }
      },
      "text/html": [
       "<div>\n",
       "<style scoped>\n",
       "    .dataframe tbody tr th:only-of-type {\n",
       "        vertical-align: middle;\n",
       "    }\n",
       "\n",
       "    .dataframe tbody tr th {\n",
       "        vertical-align: top;\n",
       "    }\n",
       "\n",
       "    .dataframe thead th {\n",
       "        text-align: right;\n",
       "    }\n",
       "</style>\n",
       "<table border=\"1\" class=\"dataframe\">\n",
       "  <thead>\n",
       "    <tr style=\"text-align: right;\">\n",
       "      <th></th>\n",
       "      <th>title</th>\n",
       "      <th>overview</th>\n",
       "      <th>genre_ids</th>\n",
       "    </tr>\n",
       "  </thead>\n",
       "  <tbody>\n",
       "    <tr>\n",
       "      <th>0</th>\n",
       "      <td>The Shawshank Redemption</td>\n",
       "      <td>Imprisoned in the 1940s for the double murder ...</td>\n",
       "      <td>[18, 80]</td>\n",
       "    </tr>\n",
       "    <tr>\n",
       "      <th>1</th>\n",
       "      <td>The Godfather</td>\n",
       "      <td>Spanning the years 1945 to 1955, a chronicle o...</td>\n",
       "      <td>[18, 80]</td>\n",
       "    </tr>\n",
       "    <tr>\n",
       "      <th>2</th>\n",
       "      <td>The Godfather Part II</td>\n",
       "      <td>In the continuing saga of the Corleone crime f...</td>\n",
       "      <td>[18, 80]</td>\n",
       "    </tr>\n",
       "    <tr>\n",
       "      <th>3</th>\n",
       "      <td>Schindler's List</td>\n",
       "      <td>The true story of how businessman Oskar Schind...</td>\n",
       "      <td>[18, 36, 10752]</td>\n",
       "    </tr>\n",
       "    <tr>\n",
       "      <th>4</th>\n",
       "      <td>12 Angry Men</td>\n",
       "      <td>The defense and the prosecution have rested an...</td>\n",
       "      <td>[18]</td>\n",
       "    </tr>\n",
       "  </tbody>\n",
       "</table>\n",
       "</div>"
      ],
      "text/plain": [
       "                      title  \\\n",
       "0  The Shawshank Redemption   \n",
       "1             The Godfather   \n",
       "2     The Godfather Part II   \n",
       "3          Schindler's List   \n",
       "4              12 Angry Men   \n",
       "\n",
       "                                            overview        genre_ids  \n",
       "0  Imprisoned in the 1940s for the double murder ...         [18, 80]  \n",
       "1  Spanning the years 1945 to 1955, a chronicle o...         [18, 80]  \n",
       "2  In the continuing saga of the Corleone crime f...         [18, 80]  \n",
       "3  The true story of how businessman Oskar Schind...  [18, 36, 10752]  \n",
       "4  The defense and the prosecution have rested an...             [18]  "
      ]
     },
     "metadata": {},
     "output_type": "display_data"
    },
    {
     "name": "stdout",
     "output_type": "stream",
     "text": [
      "\n",
      "=== Genres ===\n"
     ]
    },
    {
     "data": {
      "application/vnd.microsoft.datawrangler.viewer.v0+json": {
       "columns": [
        {
         "name": "index",
         "rawType": "int64",
         "type": "integer"
        },
        {
         "name": "id",
         "rawType": "int64",
         "type": "integer"
        },
        {
         "name": "name",
         "rawType": "object",
         "type": "string"
        }
       ],
       "conversionMethod": "pd.DataFrame",
       "ref": "92a460c9-3af5-4ed3-844a-fd4df1594154",
       "rows": [
        [
         "0",
         "28",
         "Action"
        ],
        [
         "1",
         "12",
         "Adventure"
        ],
        [
         "2",
         "16",
         "Animation"
        ],
        [
         "3",
         "35",
         "Comedy"
        ],
        [
         "4",
         "80",
         "Crime"
        ]
       ],
       "shape": {
        "columns": 2,
        "rows": 5
       }
      },
      "text/html": [
       "<div>\n",
       "<style scoped>\n",
       "    .dataframe tbody tr th:only-of-type {\n",
       "        vertical-align: middle;\n",
       "    }\n",
       "\n",
       "    .dataframe tbody tr th {\n",
       "        vertical-align: top;\n",
       "    }\n",
       "\n",
       "    .dataframe thead th {\n",
       "        text-align: right;\n",
       "    }\n",
       "</style>\n",
       "<table border=\"1\" class=\"dataframe\">\n",
       "  <thead>\n",
       "    <tr style=\"text-align: right;\">\n",
       "      <th></th>\n",
       "      <th>id</th>\n",
       "      <th>name</th>\n",
       "    </tr>\n",
       "  </thead>\n",
       "  <tbody>\n",
       "    <tr>\n",
       "      <th>0</th>\n",
       "      <td>28</td>\n",
       "      <td>Action</td>\n",
       "    </tr>\n",
       "    <tr>\n",
       "      <th>1</th>\n",
       "      <td>12</td>\n",
       "      <td>Adventure</td>\n",
       "    </tr>\n",
       "    <tr>\n",
       "      <th>2</th>\n",
       "      <td>16</td>\n",
       "      <td>Animation</td>\n",
       "    </tr>\n",
       "    <tr>\n",
       "      <th>3</th>\n",
       "      <td>35</td>\n",
       "      <td>Comedy</td>\n",
       "    </tr>\n",
       "    <tr>\n",
       "      <th>4</th>\n",
       "      <td>80</td>\n",
       "      <td>Crime</td>\n",
       "    </tr>\n",
       "  </tbody>\n",
       "</table>\n",
       "</div>"
      ],
      "text/plain": [
       "   id       name\n",
       "0  28     Action\n",
       "1  12  Adventure\n",
       "2  16  Animation\n",
       "3  35     Comedy\n",
       "4  80      Crime"
      ]
     },
     "metadata": {},
     "output_type": "display_data"
    },
    {
     "name": "stdout",
     "output_type": "stream",
     "text": [
      "\n",
      "Movie dataset information:\n",
      "- Total records: 9980\n",
      "- Columns: ['title', 'overview', 'genre_ids']\n",
      "- Null values:\n",
      "title        0\n",
      "overview     0\n",
      "genre_ids    0\n",
      "dtype: int64\n"
     ]
    }
   ],
   "source": [
    "print(\"=== Movies Overview ===\")\n",
    "display(df_movies.head())\n",
    "print(\"\\n=== Genres ===\")\n",
    "display(df_genres.head())\n",
    "\n",
    "\n",
    "print(\"\\nMovie dataset information:\")\n",
    "print(f\"- Total records: {len(df_movies)}\")\n",
    "print(f\"- Columns: {df_movies.columns.tolist()}\")\n",
    "print(f\"- Null values:\\n{df_movies.isna().sum()}\")"
   ]
  },
  {
   "cell_type": "code",
   "execution_count": 4,
   "id": "f80a6540",
   "metadata": {},
   "outputs": [
    {
     "data": {
      "text/plain": [
       "genre_ids\n",
       "[18]                           577\n",
       "[35]                           571\n",
       "[18, 10749]                    273\n",
       "[35, 10749]                    246\n",
       "[35, 18]                       232\n",
       "                              ... \n",
       "[28, 53, 18, 12]                 1\n",
       "[16, 35, 878, 10770, 10749]      1\n",
       "[878, 53, 80, 9648]              1\n",
       "[16, 878, 10751, 12]             1\n",
       "[18, 36, 35, 10749]              1\n",
       "Name: count, Length: 2222, dtype: int64"
      ]
     },
     "execution_count": 4,
     "metadata": {},
     "output_type": "execute_result"
    }
   ],
   "source": [
    "df_movies[\"genre_ids\"].value_counts()"
   ]
  },
  {
   "cell_type": "code",
   "execution_count": 5,
   "id": "8b76673e",
   "metadata": {},
   "outputs": [],
   "source": [
    "id_name_map = pd.read_csv('data/movies_genres.csv').to_dict(orient='records')\n",
    "id_name_map = {item['id']: item['name'] for item in id_name_map}"
   ]
  },
  {
   "cell_type": "markdown",
   "id": "4f62fecf",
   "metadata": {},
   "source": [
    "An interesting topic is see how well distributed is the the occurrecies of each the genres are among our dataset.\n",
    "\n",
    "Considering that we have almost 10000 data points, it's interesting to propose the usage of imbalanced techniques such as SMOTE for classes such as the ones with less than 500 entries.\n",
    "\n",
    "It needs to be checked the impact since it is a multi label classification problem.\n",
    "\n",
    "Looking at the top genres shown in the code, we can observe that Drama and Comedy dominate the dataset with more than 3000 occurrences each, followed by Thriller and Action with more than 2000 instances. On the other hand, genres like Western, TV Movie, and Music have less than 300 occurrences, indicating a significant imbalance in the dataset distribution.\n",
    "\n",
    "This imbalance could potentially affect the model's performance in predicting these underrepresented genres."
   ]
  },
  {
   "cell_type": "code",
   "execution_count": 6,
   "id": "c8c8c2a3",
   "metadata": {},
   "outputs": [
    {
     "name": "stdout",
     "output_type": "stream",
     "text": [
      "{12: 'Adventure',\n",
      " 14: 'Fantasy',\n",
      " 16: 'Animation',\n",
      " 18: 'Drama',\n",
      " 27: 'Horror',\n",
      " 28: 'Action',\n",
      " 35: 'Comedy',\n",
      " 36: 'History',\n",
      " 37: 'Western',\n",
      " 53: 'Thriller',\n",
      " 80: 'Crime',\n",
      " 99: 'Documentary',\n",
      " 878: 'Science Fiction',\n",
      " 9648: 'Mystery',\n",
      " 10402: 'Music',\n",
      " 10749: 'Romance',\n",
      " 10751: 'Family',\n",
      " 10752: 'War',\n",
      " 10770: 'TV Movie'}\n",
      "[{'genre_ids': '[18, 36, 10752]',\n",
      "  'overview': 'Two families, abolitionist Northerners the Stonemans and '\n",
      "              'Southern landowners the Camerons, intertwine. When Confederate '\n",
      "              'colonel Ben Cameron is captured in battle, nurse Elsie Stoneman '\n",
      "              'petitions for his pardon. In Reconstruction-era South Carolina, '\n",
      "              \"Cameron founds the Ku Klux Klan, battling Elsie's congressman \"\n",
      "              'father and his African-American protégé, Silas Lynch.'},\n",
      " {'genre_ids': '[9648, 27, 878]',\n",
      "  'overview': 'In the middle of a routine patrol, officer Daniel Carter '\n",
      "              'happens upon a blood-soaked figure limping down a deserted '\n",
      "              'stretch of road. He rushes the young man to a nearby rural '\n",
      "              'hospital staffed by a skeleton crew, only to discover that '\n",
      "              'patients and personnel are transforming into something inhuman. '\n",
      "              'As the horror intensifies, Carter leads the other survivors on '\n",
      "              'a hellish voyage into the subterranean depths of the hospital '\n",
      "              \"in a desperate bid to end the nightmare before it's too late.\"},\n",
      " {'genre_ids': '[35, 18]',\n",
      "  'overview': 'A couple of high school graduates spend one final night '\n",
      "              'cruising the strip with their buddies before they go off to '\n",
      "              'college.'},\n",
      " {'genre_ids': '[18, 10402]',\n",
      "  'overview': 'Under the direction of a ruthless instructor, a talented young '\n",
      "              'drummer begins to pursue perfection at any cost, even his '\n",
      "              'humanity.'},\n",
      " {'genre_ids': '[12, 14, 10751]',\n",
      "  'overview': 'An Edinburgh professor and assorted colleagues follow an '\n",
      "              \"explorer's trail down an extinct Icelandic volcano to the \"\n",
      "              \"earth's center.\"}]\n"
     ]
    }
   ],
   "source": [
    "from pprint import pprint\n",
    "\n",
    "pprint(id_name_map)\n",
    "pprint(df_movies[[\"overview\", \"genre_ids\"]].sample(5).to_dict(orient='records'))"
   ]
  },
  {
   "cell_type": "code",
   "execution_count": 7,
   "id": "f2f19f92",
   "metadata": {},
   "outputs": [],
   "source": [
    "import re\n",
    "\n",
    "def remove_extra_spaces(text):\n",
    "    return re.sub(r'\\s+', ' ', text).strip()\n",
    "\n",
    "def remove_punctuation(text):\n",
    "    return re.sub(r'[^\\w\\s]', '', text)\n",
    "\n",
    "\n",
    "df_movies[\"overview\"] = df_movies[\"overview\"].apply(remove_punctuation)\n",
    "df_movies[\"overview\"] = df_movies[\"overview\"].apply(remove_extra_spaces)"
   ]
  },
  {
   "cell_type": "markdown",
   "id": "03e77f75",
   "metadata": {},
   "source": [
    "The graph shows the distribution of overviews lentghs, there is a dense occurrence around 25 count of words, meaning that the texts are not long.\n",
    "\n",
    "There are some occurences which has less than 10 words, this could lead to some genres that is not identifiable because of too little data. Let's check how it looks like."
   ]
  },
  {
   "cell_type": "code",
   "execution_count": 8,
   "id": "43b5c82c",
   "metadata": {},
   "outputs": [
    {
     "data": {
      "application/vnd.plotly.v1+json": {
       "config": {
        "plotlyServerURL": "https://plot.ly"
       },
       "data": [
        {
         "type": "histogram",
         "x": {
          "bdata": "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",
          "dtype": "i2"
         }
        }
       ],
       "layout": {
        "template": {
         "data": {
          "bar": [
           {
            "error_x": {
             "color": "#2a3f5f"
            },
            "error_y": {
             "color": "#2a3f5f"
            },
            "marker": {
             "line": {
              "color": "#E5ECF6",
              "width": 0.5
             },
             "pattern": {
              "fillmode": "overlay",
              "size": 10,
              "solidity": 0.2
             }
            },
            "type": "bar"
           }
          ],
          "barpolar": [
           {
            "marker": {
             "line": {
              "color": "#E5ECF6",
              "width": 0.5
             },
             "pattern": {
              "fillmode": "overlay",
              "size": 10,
              "solidity": 0.2
             }
            },
            "type": "barpolar"
           }
          ],
          "carpet": [
           {
            "aaxis": {
             "endlinecolor": "#2a3f5f",
             "gridcolor": "white",
             "linecolor": "white",
             "minorgridcolor": "white",
             "startlinecolor": "#2a3f5f"
            },
            "baxis": {
             "endlinecolor": "#2a3f5f",
             "gridcolor": "white",
             "linecolor": "white",
             "minorgridcolor": "white",
             "startlinecolor": "#2a3f5f"
            },
            "type": "carpet"
           }
          ],
          "choropleth": [
           {
            "colorbar": {
             "outlinewidth": 0,
             "ticks": ""
            },
            "type": "choropleth"
           }
          ],
          "contour": [
           {
            "colorbar": {
             "outlinewidth": 0,
             "ticks": ""
            },
            "colorscale": [
             [
              0,
              "#0d0887"
             ],
             [
              0.1111111111111111,
              "#46039f"
             ],
             [
              0.2222222222222222,
              "#7201a8"
             ],
             [
              0.3333333333333333,
              "#9c179e"
             ],
             [
              0.4444444444444444,
              "#bd3786"
             ],
             [
              0.5555555555555556,
              "#d8576b"
             ],
             [
              0.6666666666666666,
              "#ed7953"
             ],
             [
              0.7777777777777778,
              "#fb9f3a"
             ],
             [
              0.8888888888888888,
              "#fdca26"
             ],
             [
              1,
              "#f0f921"
             ]
            ],
            "type": "contour"
           }
          ],
          "contourcarpet": [
           {
            "colorbar": {
             "outlinewidth": 0,
             "ticks": ""
            },
            "type": "contourcarpet"
           }
          ],
          "heatmap": [
           {
            "colorbar": {
             "outlinewidth": 0,
             "ticks": ""
            },
            "colorscale": [
             [
              0,
              "#0d0887"
             ],
             [
              0.1111111111111111,
              "#46039f"
             ],
             [
              0.2222222222222222,
              "#7201a8"
             ],
             [
              0.3333333333333333,
              "#9c179e"
             ],
             [
              0.4444444444444444,
              "#bd3786"
             ],
             [
              0.5555555555555556,
              "#d8576b"
             ],
             [
              0.6666666666666666,
              "#ed7953"
             ],
             [
              0.7777777777777778,
              "#fb9f3a"
             ],
             [
              0.8888888888888888,
              "#fdca26"
             ],
             [
              1,
              "#f0f921"
             ]
            ],
            "type": "heatmap"
           }
          ],
          "histogram": [
           {
            "marker": {
             "pattern": {
              "fillmode": "overlay",
              "size": 10,
              "solidity": 0.2
             }
            },
            "type": "histogram"
           }
          ],
          "histogram2d": [
           {
            "colorbar": {
             "outlinewidth": 0,
             "ticks": ""
            },
            "colorscale": [
             [
              0,
              "#0d0887"
             ],
             [
              0.1111111111111111,
              "#46039f"
             ],
             [
              0.2222222222222222,
              "#7201a8"
             ],
             [
              0.3333333333333333,
              "#9c179e"
             ],
             [
              0.4444444444444444,
              "#bd3786"
             ],
             [
              0.5555555555555556,
              "#d8576b"
             ],
             [
              0.6666666666666666,
              "#ed7953"
             ],
             [
              0.7777777777777778,
              "#fb9f3a"
             ],
             [
              0.8888888888888888,
              "#fdca26"
             ],
             [
              1,
              "#f0f921"
             ]
            ],
            "type": "histogram2d"
           }
          ],
          "histogram2dcontour": [
           {
            "colorbar": {
             "outlinewidth": 0,
             "ticks": ""
            },
            "colorscale": [
             [
              0,
              "#0d0887"
             ],
             [
              0.1111111111111111,
              "#46039f"
             ],
             [
              0.2222222222222222,
              "#7201a8"
             ],
             [
              0.3333333333333333,
              "#9c179e"
             ],
             [
              0.4444444444444444,
              "#bd3786"
             ],
             [
              0.5555555555555556,
              "#d8576b"
             ],
             [
              0.6666666666666666,
              "#ed7953"
             ],
             [
              0.7777777777777778,
              "#fb9f3a"
             ],
             [
              0.8888888888888888,
              "#fdca26"
             ],
             [
              1,
              "#f0f921"
             ]
            ],
            "type": "histogram2dcontour"
           }
          ],
          "mesh3d": [
           {
            "colorbar": {
             "outlinewidth": 0,
             "ticks": ""
            },
            "type": "mesh3d"
           }
          ],
          "parcoords": [
           {
            "line": {
             "colorbar": {
              "outlinewidth": 0,
              "ticks": ""
             }
            },
            "type": "parcoords"
           }
          ],
          "pie": [
           {
            "automargin": true,
            "type": "pie"
           }
          ],
          "scatter": [
           {
            "fillpattern": {
             "fillmode": "overlay",
             "size": 10,
             "solidity": 0.2
            },
            "type": "scatter"
           }
          ],
          "scatter3d": [
           {
            "line": {
             "colorbar": {
              "outlinewidth": 0,
              "ticks": ""
             }
            },
            "marker": {
             "colorbar": {
              "outlinewidth": 0,
              "ticks": ""
             }
            },
            "type": "scatter3d"
           }
          ],
          "scattercarpet": [
           {
            "marker": {
             "colorbar": {
              "outlinewidth": 0,
              "ticks": ""
             }
            },
            "type": "scattercarpet"
           }
          ],
          "scattergeo": [
           {
            "marker": {
             "colorbar": {
              "outlinewidth": 0,
              "ticks": ""
             }
            },
            "type": "scattergeo"
           }
          ],
          "scattergl": [
           {
            "marker": {
             "colorbar": {
              "outlinewidth": 0,
              "ticks": ""
             }
            },
            "type": "scattergl"
           }
          ],
          "scattermap": [
           {
            "marker": {
             "colorbar": {
              "outlinewidth": 0,
              "ticks": ""
             }
            },
            "type": "scattermap"
           }
          ],
          "scattermapbox": [
           {
            "marker": {
             "colorbar": {
              "outlinewidth": 0,
              "ticks": ""
             }
            },
            "type": "scattermapbox"
           }
          ],
          "scatterpolar": [
           {
            "marker": {
             "colorbar": {
              "outlinewidth": 0,
              "ticks": ""
             }
            },
            "type": "scatterpolar"
           }
          ],
          "scatterpolargl": [
           {
            "marker": {
             "colorbar": {
              "outlinewidth": 0,
              "ticks": ""
             }
            },
            "type": "scatterpolargl"
           }
          ],
          "scatterternary": [
           {
            "marker": {
             "colorbar": {
              "outlinewidth": 0,
              "ticks": ""
             }
            },
            "type": "scatterternary"
           }
          ],
          "surface": [
           {
            "colorbar": {
             "outlinewidth": 0,
             "ticks": ""
            },
            "colorscale": [
             [
              0,
              "#0d0887"
             ],
             [
              0.1111111111111111,
              "#46039f"
             ],
             [
              0.2222222222222222,
              "#7201a8"
             ],
             [
              0.3333333333333333,
              "#9c179e"
             ],
             [
              0.4444444444444444,
              "#bd3786"
             ],
             [
              0.5555555555555556,
              "#d8576b"
             ],
             [
              0.6666666666666666,
              "#ed7953"
             ],
             [
              0.7777777777777778,
              "#fb9f3a"
             ],
             [
              0.8888888888888888,
              "#fdca26"
             ],
             [
              1,
              "#f0f921"
             ]
            ],
            "type": "surface"
           }
          ],
          "table": [
           {
            "cells": {
             "fill": {
              "color": "#EBF0F8"
             },
             "line": {
              "color": "white"
             }
            },
            "header": {
             "fill": {
              "color": "#C8D4E3"
             },
             "line": {
              "color": "white"
             }
            },
            "type": "table"
           }
          ]
         },
         "layout": {
          "annotationdefaults": {
           "arrowcolor": "#2a3f5f",
           "arrowhead": 0,
           "arrowwidth": 1
          },
          "autotypenumbers": "strict",
          "coloraxis": {
           "colorbar": {
            "outlinewidth": 0,
            "ticks": ""
           }
          },
          "colorscale": {
           "diverging": [
            [
             0,
             "#8e0152"
            ],
            [
             0.1,
             "#c51b7d"
            ],
            [
             0.2,
             "#de77ae"
            ],
            [
             0.3,
             "#f1b6da"
            ],
            [
             0.4,
             "#fde0ef"
            ],
            [
             0.5,
             "#f7f7f7"
            ],
            [
             0.6,
             "#e6f5d0"
            ],
            [
             0.7,
             "#b8e186"
            ],
            [
             0.8,
             "#7fbc41"
            ],
            [
             0.9,
             "#4d9221"
            ],
            [
             1,
             "#276419"
            ]
           ],
           "sequential": [
            [
             0,
             "#0d0887"
            ],
            [
             0.1111111111111111,
             "#46039f"
            ],
            [
             0.2222222222222222,
             "#7201a8"
            ],
            [
             0.3333333333333333,
             "#9c179e"
            ],
            [
             0.4444444444444444,
             "#bd3786"
            ],
            [
             0.5555555555555556,
             "#d8576b"
            ],
            [
             0.6666666666666666,
             "#ed7953"
            ],
            [
             0.7777777777777778,
             "#fb9f3a"
            ],
            [
             0.8888888888888888,
             "#fdca26"
            ],
            [
             1,
             "#f0f921"
            ]
           ],
           "sequentialminus": [
            [
             0,
             "#0d0887"
            ],
            [
             0.1111111111111111,
             "#46039f"
            ],
            [
             0.2222222222222222,
             "#7201a8"
            ],
            [
             0.3333333333333333,
             "#9c179e"
            ],
            [
             0.4444444444444444,
             "#bd3786"
            ],
            [
             0.5555555555555556,
             "#d8576b"
            ],
            [
             0.6666666666666666,
             "#ed7953"
            ],
            [
             0.7777777777777778,
             "#fb9f3a"
            ],
            [
             0.8888888888888888,
             "#fdca26"
            ],
            [
             1,
             "#f0f921"
            ]
           ]
          },
          "colorway": [
           "#636efa",
           "#EF553B",
           "#00cc96",
           "#ab63fa",
           "#FFA15A",
           "#19d3f3",
           "#FF6692",
           "#B6E880",
           "#FF97FF",
           "#FECB52"
          ],
          "font": {
           "color": "#2a3f5f"
          },
          "geo": {
           "bgcolor": "white",
           "lakecolor": "white",
           "landcolor": "#E5ECF6",
           "showlakes": true,
           "showland": true,
           "subunitcolor": "white"
          },
          "hoverlabel": {
           "align": "left"
          },
          "hovermode": "closest",
          "mapbox": {
           "style": "light"
          },
          "paper_bgcolor": "white",
          "plot_bgcolor": "#E5ECF6",
          "polar": {
           "angularaxis": {
            "gridcolor": "white",
            "linecolor": "white",
            "ticks": ""
           },
           "bgcolor": "#E5ECF6",
           "radialaxis": {
            "gridcolor": "white",
            "linecolor": "white",
            "ticks": ""
           }
          },
          "scene": {
           "xaxis": {
            "backgroundcolor": "#E5ECF6",
            "gridcolor": "white",
            "gridwidth": 2,
            "linecolor": "white",
            "showbackground": true,
            "ticks": "",
            "zerolinecolor": "white"
           },
           "yaxis": {
            "backgroundcolor": "#E5ECF6",
            "gridcolor": "white",
            "gridwidth": 2,
            "linecolor": "white",
            "showbackground": true,
            "ticks": "",
            "zerolinecolor": "white"
           },
           "zaxis": {
            "backgroundcolor": "#E5ECF6",
            "gridcolor": "white",
            "gridwidth": 2,
            "linecolor": "white",
            "showbackground": true,
            "ticks": "",
            "zerolinecolor": "white"
           }
          },
          "shapedefaults": {
           "line": {
            "color": "#2a3f5f"
           }
          },
          "ternary": {
           "aaxis": {
            "gridcolor": "white",
            "linecolor": "white",
            "ticks": ""
           },
           "baxis": {
            "gridcolor": "white",
            "linecolor": "white",
            "ticks": ""
           },
           "bgcolor": "#E5ECF6",
           "caxis": {
            "gridcolor": "white",
            "linecolor": "white",
            "ticks": ""
           }
          },
          "title": {
           "x": 0.05
          },
          "xaxis": {
           "automargin": true,
           "gridcolor": "white",
           "linecolor": "white",
           "ticks": "",
           "title": {
            "standoff": 15
           },
           "zerolinecolor": "white",
           "zerolinewidth": 2
          },
          "yaxis": {
           "automargin": true,
           "gridcolor": "white",
           "linecolor": "white",
           "ticks": "",
           "title": {
            "standoff": 15
           },
           "zerolinecolor": "white",
           "zerolinewidth": 2
          }
         }
        },
        "title": {
         "text": "Distribution of Word Count in Movie Overviews"
        },
        "xaxis": {
         "dtick": 1,
         "range": [
          0,
          80
         ],
         "tickmode": "linear",
         "title": {
          "text": "Word Count"
         }
        },
        "yaxis": {
         "title": {
          "text": "Frequency"
         }
        }
       }
      }
     },
     "metadata": {},
     "output_type": "display_data"
    }
   ],
   "source": [
    "import plotly.graph_objects as go\n",
    "\n",
    "word_count = df_movies[\"overview\"].str.split().str.len()\n",
    "\n",
    "fig = go.Figure(data=[go.Histogram(x=word_count)])\n",
    "\n",
    "fig.update_layout(\n",
    "    title=\"Distribution of Word Count in Movie Overviews\",\n",
    "    xaxis_title=\"Word Count\",\n",
    "    yaxis_title=\"Frequency\",\n",
    "    xaxis=dict(\n",
    "        tickmode='linear',\n",
    "        dtick=1,\n",
    "        range=[0, 80]\n",
    "    )\n",
    ")\n",
    "fig.show()"
   ]
  },
  {
   "cell_type": "markdown",
   "id": "ca1897f9",
   "metadata": {},
   "source": [
    "Clearly there is not much information in these overviews with less than 10 words, compared to longer overviews with 80+ words.\n",
    "\n",
    "The longer overviews tend to provide more detailed plot descriptions and better context for genre classification, often containing 80-100 words. These detailed synopses typically include multiple plot points, character relationships, and thematic elements that are valuable for accurately determining movie genres.\n",
    "\n",
    "In contrast, the shorter overviews (under 10 words) are often too brief to provide enough context, sometimes containing only basic statements or incomplete descriptions that make genre classification more challenging.\n",
    "\n",
    "This observation suggests that setting a minimum overview length requirement could improve the quality of our dataset for genre prediction tasks. But not necessarly is the case, since some has a good detail to predict the genre."
   ]
  },
  {
   "cell_type": "code",
   "execution_count": 9,
   "id": "56f7f962",
   "metadata": {},
   "outputs": [
    {
     "name": "stdout",
     "output_type": "stream",
     "text": [
      "[{'genre_ids': '[35, 10749]',\n",
      "  'overview': 'Two emotionally unavailable men attempt a relationship',\n",
      "  'title': 'Bros'},\n",
      " {'genre_ids': '[35]',\n",
      "  'overview': 'A comedy show',\n",
      "  'title': 'Tel chi el telùn'},\n",
      " {'genre_ids': '[18, 10402]',\n",
      "  'overview': 'A ferocious bullying music teacher teaches a dedicated student',\n",
      "  'title': 'Whiplash'},\n",
      " {'genre_ids': '[16, 35]',\n",
      "  'overview': 'Bill struggles to put together his shattered psyche',\n",
      "  'title': \"It's Such a Beautiful Day\"},\n",
      " {'genre_ids': '[18]',\n",
      "  'overview': 'The life story of Brazilian football legend Pele',\n",
      "  'title': 'Pelé: Birth of a Legend'},\n",
      " {'genre_ids': '[18]',\n",
      "  'overview': '8mm work directed by Norihiko Morinaga',\n",
      "  'title': 'RETURN'},\n",
      " {'genre_ids': '[35]',\n",
      "  'overview': 'A comic movie divided in three episodes',\n",
      "  'title': 'Grande, grosso e Verdone'},\n",
      " {'genre_ids': '[35]',\n",
      "  'overview': 'Four different stories about italian football teams supporter',\n",
      "  'title': 'Tifosi'},\n",
      " {'genre_ids': '[18, 10749]',\n",
      "  'overview': 'A bad boy and a socialite girl hookup',\n",
      "  'title': 'Three Steps Over Heaven'},\n",
      " {'genre_ids': '[18, 14, 27, 53]',\n",
      "  'overview': 'An orphaned childs dreamsand nightmaresmanifest physically as '\n",
      "              'he sleeps',\n",
      "  'title': 'Before I Wake'}]\n"
     ]
    }
   ],
   "source": [
    "pprint(df_movies[df_movies[\"overview\"].apply(lambda overview: len(overview.split()) <= 9)].sample(10).to_dict(orient='records'))"
   ]
  },
  {
   "cell_type": "code",
   "execution_count": 10,
   "id": "c14f0636",
   "metadata": {},
   "outputs": [
    {
     "name": "stdout",
     "output_type": "stream",
     "text": [
      "[{'genre_ids': '[28, 53, 80]',\n",
      "  'overview': 'Chev Chelios a hit man wanting to go straight lets his latest '\n",
      "              'target slip away Then he awakes the next morning to a phone '\n",
      "              'call that informs him he has been poisoned and has only an hour '\n",
      "              'to live unless he keeps adrenaline coursing through his body '\n",
      "              'while he searches for an antidote',\n",
      "  'title': 'Crank'},\n",
      " {'genre_ids': '[35, 10749, 878]',\n",
      "  'overview': 'Three magazine employees head out on an assignment to interview '\n",
      "              'a guy who placed a classified ad seeking a companion for time '\n",
      "              'travel',\n",
      "  'title': 'Safety Not Guaranteed'},\n",
      " {'genre_ids': '[18, 12, 10751]',\n",
      "  'overview': 'The adventure of Bella a dog who embarks on an epic 400mile '\n",
      "              'journey home after she is separated from her beloved human',\n",
      "  'title': \"A Dog's Way Home\"},\n",
      " {'genre_ids': '[28, 35]',\n",
      "  'overview': 'Victor Maynard is a middleaged solitary assassin who lives to '\n",
      "              'please his formidable mother despite his own peerless '\n",
      "              'reputation for lethal efficiency His professional routine is '\n",
      "              'interrupted when he finds himself drawn to one of his intended '\n",
      "              'victims After sparing her life he unexpectedly acquires a young '\n",
      "              'apprentice Believing Victor to be a private detective his two '\n",
      "              'new companions tag along while he attempts to thwart the '\n",
      "              'murderous attentions of his unhappy client',\n",
      "  'title': 'Wild Target'},\n",
      " {'genre_ids': '[18, 28, 80, 53]',\n",
      "  'overview': 'Batman raises the stakes in his war on crime With the help of '\n",
      "              'Lt Jim Gordon and District Attorney Harvey Dent Batman sets out '\n",
      "              'to dismantle the remaining criminal organizations that plague '\n",
      "              'the streets The partnership proves to be effective but they '\n",
      "              'soon find themselves prey to a reign of chaos unleashed by a '\n",
      "              'rising criminal mastermind known to the terrified citizens of '\n",
      "              'Gotham as the Joker',\n",
      "  'title': 'The Dark Knight'},\n",
      " {'genre_ids': '[18, 10749]',\n",
      "  'overview': 'In 1900s India Calcuttan zamindar Devdas Mukherjee unable to '\n",
      "              'marry his lover takes up alcohol and the company of a courtesan '\n",
      "              'to alleviate the pain',\n",
      "  'title': 'Devdas'},\n",
      " {'genre_ids': '[18]',\n",
      "  'overview': 'New York City newspaper writer JJ Hunsecker holds considerable '\n",
      "              'sway over public opinion with his Broadway column but one thing '\n",
      "              'that he cant control is his younger sister Susan who is in a '\n",
      "              'relationship with aspiring jazz guitarist Steve Dallas '\n",
      "              'Hunsecker strongly disapproves of the romance and recruits '\n",
      "              'publicist Sidney Falco to find a way to split the couple no '\n",
      "              'matter how ruthless the method',\n",
      "  'title': 'Sweet Smell of Success'},\n",
      " {'genre_ids': '[14, 18, 80]',\n",
      "  'overview': 'A supernatural tale set on death row in a Southern prison where '\n",
      "              'gentle giant John Coffey possesses the mysterious power to heal '\n",
      "              'peoples ailments When the cell blocks head guard Paul Edgecomb '\n",
      "              'recognizes Coffeys miraculous gift he tries desperately to help '\n",
      "              'stave off the condemned mans execution',\n",
      "  'title': 'The Green Mile'},\n",
      " {'genre_ids': '[28, 80, 18, 53]',\n",
      "  'overview': 'Two criminal drifters without sympathy get more than they '\n",
      "              'bargained for after kidnapping and holding for ransom the '\n",
      "              'surrogate mother of a powerful and shady man',\n",
      "  'title': 'The Way of the Gun'},\n",
      " {'genre_ids': '[12, 14, 28]',\n",
      "  'overview': 'A quest that begins as a personal vendetta for the fierce '\n",
      "              'Cimmerian warrior soon turns into an epic battle against '\n",
      "              'hulking rivals horrific monsters and impossible odds as Conan '\n",
      "              'realizes he is the only hope of saving the great nations of '\n",
      "              'Hyboria from an encroaching reign of supernatural evil',\n",
      "  'title': 'Conan the Barbarian'}]\n"
     ]
    }
   ],
   "source": [
    "pprint(df_movies[df_movies[\"overview\"].apply(lambda overview: len(overview.split()) > 20)].sample(10).to_dict(orient='records'))"
   ]
  },
  {
   "cell_type": "markdown",
   "id": "9140a419",
   "metadata": {},
   "source": [
    "As up for now, there is much noise in our dataset with stopwords, some transpassing 20000 occurrences.\n",
    "\n",
    "Common words like \"the,\" \"and,\" \"to,\" and other stop words dominate the dataset frequency, reaching over 20,000 occurrences. These high-frequency stop words provide little value in understanding genre-specific vocabulary, as they are universally used across all text regardless of genre. To better identify genre patterns, we need to filter out these common stop words and focus on words which content could indicate specific genres like \"murder\" for crime or \"love\" for romance."
   ]
  },
  {
   "cell_type": "code",
   "execution_count": 11,
   "id": "69c97d1e",
   "metadata": {},
   "outputs": [
    {
     "data": {
      "application/vnd.plotly.v1+json": {
       "config": {
        "plotlyServerURL": "https://plot.ly"
       },
       "data": [
        {
         "type": "bar",
         "x": [
          "the",
          "a",
          "to",
          "and",
          "of",
          "in",
          "his",
          "is",
          "with",
          "her",
          "for",
          "an",
          "he",
          "on",
          "their",
          "that",
          "by",
          "who",
          "from",
          "as",
          "A",
          "they",
          "The",
          "when",
          "has",
          "into",
          "are",
          "she",
          "life",
          "him",
          "at",
          "When",
          "young",
          "but",
          "up",
          "out",
          "be",
          "one",
          "family",
          "after"
         ],
         "y": [
          22320,
          18492,
          15115,
          12723,
          12385,
          7296,
          7225,
          5845,
          4272,
          4218,
          3376,
          3301,
          3147,
          3082,
          3067,
          2986,
          2573,
          2395,
          2282,
          2228,
          2220,
          1849,
          1665,
          1635,
          1626,
          1577,
          1543,
          1539,
          1505,
          1503,
          1432,
          1312,
          1277,
          1250,
          1188,
          1116,
          1033,
          1030,
          986,
          967
         ]
        }
       ],
       "layout": {
        "template": {
         "data": {
          "bar": [
           {
            "error_x": {
             "color": "#2a3f5f"
            },
            "error_y": {
             "color": "#2a3f5f"
            },
            "marker": {
             "line": {
              "color": "#E5ECF6",
              "width": 0.5
             },
             "pattern": {
              "fillmode": "overlay",
              "size": 10,
              "solidity": 0.2
             }
            },
            "type": "bar"
           }
          ],
          "barpolar": [
           {
            "marker": {
             "line": {
              "color": "#E5ECF6",
              "width": 0.5
             },
             "pattern": {
              "fillmode": "overlay",
              "size": 10,
              "solidity": 0.2
             }
            },
            "type": "barpolar"
           }
          ],
          "carpet": [
           {
            "aaxis": {
             "endlinecolor": "#2a3f5f",
             "gridcolor": "white",
             "linecolor": "white",
             "minorgridcolor": "white",
             "startlinecolor": "#2a3f5f"
            },
            "baxis": {
             "endlinecolor": "#2a3f5f",
             "gridcolor": "white",
             "linecolor": "white",
             "minorgridcolor": "white",
             "startlinecolor": "#2a3f5f"
            },
            "type": "carpet"
           }
          ],
          "choropleth": [
           {
            "colorbar": {
             "outlinewidth": 0,
             "ticks": ""
            },
            "type": "choropleth"
           }
          ],
          "contour": [
           {
            "colorbar": {
             "outlinewidth": 0,
             "ticks": ""
            },
            "colorscale": [
             [
              0,
              "#0d0887"
             ],
             [
              0.1111111111111111,
              "#46039f"
             ],
             [
              0.2222222222222222,
              "#7201a8"
             ],
             [
              0.3333333333333333,
              "#9c179e"
             ],
             [
              0.4444444444444444,
              "#bd3786"
             ],
             [
              0.5555555555555556,
              "#d8576b"
             ],
             [
              0.6666666666666666,
              "#ed7953"
             ],
             [
              0.7777777777777778,
              "#fb9f3a"
             ],
             [
              0.8888888888888888,
              "#fdca26"
             ],
             [
              1,
              "#f0f921"
             ]
            ],
            "type": "contour"
           }
          ],
          "contourcarpet": [
           {
            "colorbar": {
             "outlinewidth": 0,
             "ticks": ""
            },
            "type": "contourcarpet"
           }
          ],
          "heatmap": [
           {
            "colorbar": {
             "outlinewidth": 0,
             "ticks": ""
            },
            "colorscale": [
             [
              0,
              "#0d0887"
             ],
             [
              0.1111111111111111,
              "#46039f"
             ],
             [
              0.2222222222222222,
              "#7201a8"
             ],
             [
              0.3333333333333333,
              "#9c179e"
             ],
             [
              0.4444444444444444,
              "#bd3786"
             ],
             [
              0.5555555555555556,
              "#d8576b"
             ],
             [
              0.6666666666666666,
              "#ed7953"
             ],
             [
              0.7777777777777778,
              "#fb9f3a"
             ],
             [
              0.8888888888888888,
              "#fdca26"
             ],
             [
              1,
              "#f0f921"
             ]
            ],
            "type": "heatmap"
           }
          ],
          "histogram": [
           {
            "marker": {
             "pattern": {
              "fillmode": "overlay",
              "size": 10,
              "solidity": 0.2
             }
            },
            "type": "histogram"
           }
          ],
          "histogram2d": [
           {
            "colorbar": {
             "outlinewidth": 0,
             "ticks": ""
            },
            "colorscale": [
             [
              0,
              "#0d0887"
             ],
             [
              0.1111111111111111,
              "#46039f"
             ],
             [
              0.2222222222222222,
              "#7201a8"
             ],
             [
              0.3333333333333333,
              "#9c179e"
             ],
             [
              0.4444444444444444,
              "#bd3786"
             ],
             [
              0.5555555555555556,
              "#d8576b"
             ],
             [
              0.6666666666666666,
              "#ed7953"
             ],
             [
              0.7777777777777778,
              "#fb9f3a"
             ],
             [
              0.8888888888888888,
              "#fdca26"
             ],
             [
              1,
              "#f0f921"
             ]
            ],
            "type": "histogram2d"
           }
          ],
          "histogram2dcontour": [
           {
            "colorbar": {
             "outlinewidth": 0,
             "ticks": ""
            },
            "colorscale": [
             [
              0,
              "#0d0887"
             ],
             [
              0.1111111111111111,
              "#46039f"
             ],
             [
              0.2222222222222222,
              "#7201a8"
             ],
             [
              0.3333333333333333,
              "#9c179e"
             ],
             [
              0.4444444444444444,
              "#bd3786"
             ],
             [
              0.5555555555555556,
              "#d8576b"
             ],
             [
              0.6666666666666666,
              "#ed7953"
             ],
             [
              0.7777777777777778,
              "#fb9f3a"
             ],
             [
              0.8888888888888888,
              "#fdca26"
             ],
             [
              1,
              "#f0f921"
             ]
            ],
            "type": "histogram2dcontour"
           }
          ],
          "mesh3d": [
           {
            "colorbar": {
             "outlinewidth": 0,
             "ticks": ""
            },
            "type": "mesh3d"
           }
          ],
          "parcoords": [
           {
            "line": {
             "colorbar": {
              "outlinewidth": 0,
              "ticks": ""
             }
            },
            "type": "parcoords"
           }
          ],
          "pie": [
           {
            "automargin": true,
            "type": "pie"
           }
          ],
          "scatter": [
           {
            "fillpattern": {
             "fillmode": "overlay",
             "size": 10,
             "solidity": 0.2
            },
            "type": "scatter"
           }
          ],
          "scatter3d": [
           {
            "line": {
             "colorbar": {
              "outlinewidth": 0,
              "ticks": ""
             }
            },
            "marker": {
             "colorbar": {
              "outlinewidth": 0,
              "ticks": ""
             }
            },
            "type": "scatter3d"
           }
          ],
          "scattercarpet": [
           {
            "marker": {
             "colorbar": {
              "outlinewidth": 0,
              "ticks": ""
             }
            },
            "type": "scattercarpet"
           }
          ],
          "scattergeo": [
           {
            "marker": {
             "colorbar": {
              "outlinewidth": 0,
              "ticks": ""
             }
            },
            "type": "scattergeo"
           }
          ],
          "scattergl": [
           {
            "marker": {
             "colorbar": {
              "outlinewidth": 0,
              "ticks": ""
             }
            },
            "type": "scattergl"
           }
          ],
          "scattermap": [
           {
            "marker": {
             "colorbar": {
              "outlinewidth": 0,
              "ticks": ""
             }
            },
            "type": "scattermap"
           }
          ],
          "scattermapbox": [
           {
            "marker": {
             "colorbar": {
              "outlinewidth": 0,
              "ticks": ""
             }
            },
            "type": "scattermapbox"
           }
          ],
          "scatterpolar": [
           {
            "marker": {
             "colorbar": {
              "outlinewidth": 0,
              "ticks": ""
             }
            },
            "type": "scatterpolar"
           }
          ],
          "scatterpolargl": [
           {
            "marker": {
             "colorbar": {
              "outlinewidth": 0,
              "ticks": ""
             }
            },
            "type": "scatterpolargl"
           }
          ],
          "scatterternary": [
           {
            "marker": {
             "colorbar": {
              "outlinewidth": 0,
              "ticks": ""
             }
            },
            "type": "scatterternary"
           }
          ],
          "surface": [
           {
            "colorbar": {
             "outlinewidth": 0,
             "ticks": ""
            },
            "colorscale": [
             [
              0,
              "#0d0887"
             ],
             [
              0.1111111111111111,
              "#46039f"
             ],
             [
              0.2222222222222222,
              "#7201a8"
             ],
             [
              0.3333333333333333,
              "#9c179e"
             ],
             [
              0.4444444444444444,
              "#bd3786"
             ],
             [
              0.5555555555555556,
              "#d8576b"
             ],
             [
              0.6666666666666666,
              "#ed7953"
             ],
             [
              0.7777777777777778,
              "#fb9f3a"
             ],
             [
              0.8888888888888888,
              "#fdca26"
             ],
             [
              1,
              "#f0f921"
             ]
            ],
            "type": "surface"
           }
          ],
          "table": [
           {
            "cells": {
             "fill": {
              "color": "#EBF0F8"
             },
             "line": {
              "color": "white"
             }
            },
            "header": {
             "fill": {
              "color": "#C8D4E3"
             },
             "line": {
              "color": "white"
             }
            },
            "type": "table"
           }
          ]
         },
         "layout": {
          "annotationdefaults": {
           "arrowcolor": "#2a3f5f",
           "arrowhead": 0,
           "arrowwidth": 1
          },
          "autotypenumbers": "strict",
          "coloraxis": {
           "colorbar": {
            "outlinewidth": 0,
            "ticks": ""
           }
          },
          "colorscale": {
           "diverging": [
            [
             0,
             "#8e0152"
            ],
            [
             0.1,
             "#c51b7d"
            ],
            [
             0.2,
             "#de77ae"
            ],
            [
             0.3,
             "#f1b6da"
            ],
            [
             0.4,
             "#fde0ef"
            ],
            [
             0.5,
             "#f7f7f7"
            ],
            [
             0.6,
             "#e6f5d0"
            ],
            [
             0.7,
             "#b8e186"
            ],
            [
             0.8,
             "#7fbc41"
            ],
            [
             0.9,
             "#4d9221"
            ],
            [
             1,
             "#276419"
            ]
           ],
           "sequential": [
            [
             0,
             "#0d0887"
            ],
            [
             0.1111111111111111,
             "#46039f"
            ],
            [
             0.2222222222222222,
             "#7201a8"
            ],
            [
             0.3333333333333333,
             "#9c179e"
            ],
            [
             0.4444444444444444,
             "#bd3786"
            ],
            [
             0.5555555555555556,
             "#d8576b"
            ],
            [
             0.6666666666666666,
             "#ed7953"
            ],
            [
             0.7777777777777778,
             "#fb9f3a"
            ],
            [
             0.8888888888888888,
             "#fdca26"
            ],
            [
             1,
             "#f0f921"
            ]
           ],
           "sequentialminus": [
            [
             0,
             "#0d0887"
            ],
            [
             0.1111111111111111,
             "#46039f"
            ],
            [
             0.2222222222222222,
             "#7201a8"
            ],
            [
             0.3333333333333333,
             "#9c179e"
            ],
            [
             0.4444444444444444,
             "#bd3786"
            ],
            [
             0.5555555555555556,
             "#d8576b"
            ],
            [
             0.6666666666666666,
             "#ed7953"
            ],
            [
             0.7777777777777778,
             "#fb9f3a"
            ],
            [
             0.8888888888888888,
             "#fdca26"
            ],
            [
             1,
             "#f0f921"
            ]
           ]
          },
          "colorway": [
           "#636efa",
           "#EF553B",
           "#00cc96",
           "#ab63fa",
           "#FFA15A",
           "#19d3f3",
           "#FF6692",
           "#B6E880",
           "#FF97FF",
           "#FECB52"
          ],
          "font": {
           "color": "#2a3f5f"
          },
          "geo": {
           "bgcolor": "white",
           "lakecolor": "white",
           "landcolor": "#E5ECF6",
           "showlakes": true,
           "showland": true,
           "subunitcolor": "white"
          },
          "hoverlabel": {
           "align": "left"
          },
          "hovermode": "closest",
          "mapbox": {
           "style": "light"
          },
          "paper_bgcolor": "white",
          "plot_bgcolor": "#E5ECF6",
          "polar": {
           "angularaxis": {
            "gridcolor": "white",
            "linecolor": "white",
            "ticks": ""
           },
           "bgcolor": "#E5ECF6",
           "radialaxis": {
            "gridcolor": "white",
            "linecolor": "white",
            "ticks": ""
           }
          },
          "scene": {
           "xaxis": {
            "backgroundcolor": "#E5ECF6",
            "gridcolor": "white",
            "gridwidth": 2,
            "linecolor": "white",
            "showbackground": true,
            "ticks": "",
            "zerolinecolor": "white"
           },
           "yaxis": {
            "backgroundcolor": "#E5ECF6",
            "gridcolor": "white",
            "gridwidth": 2,
            "linecolor": "white",
            "showbackground": true,
            "ticks": "",
            "zerolinecolor": "white"
           },
           "zaxis": {
            "backgroundcolor": "#E5ECF6",
            "gridcolor": "white",
            "gridwidth": 2,
            "linecolor": "white",
            "showbackground": true,
            "ticks": "",
            "zerolinecolor": "white"
           }
          },
          "shapedefaults": {
           "line": {
            "color": "#2a3f5f"
           }
          },
          "ternary": {
           "aaxis": {
            "gridcolor": "white",
            "linecolor": "white",
            "ticks": ""
           },
           "baxis": {
            "gridcolor": "white",
            "linecolor": "white",
            "ticks": ""
           },
           "bgcolor": "#E5ECF6",
           "caxis": {
            "gridcolor": "white",
            "linecolor": "white",
            "ticks": ""
           }
          },
          "title": {
           "x": 0.05
          },
          "xaxis": {
           "automargin": true,
           "gridcolor": "white",
           "linecolor": "white",
           "ticks": "",
           "title": {
            "standoff": 15
           },
           "zerolinecolor": "white",
           "zerolinewidth": 2
          },
          "yaxis": {
           "automargin": true,
           "gridcolor": "white",
           "linecolor": "white",
           "ticks": "",
           "title": {
            "standoff": 15
           },
           "zerolinecolor": "white",
           "zerolinewidth": 2
          }
         }
        },
        "title": {
         "text": "Top 40 most frequent words in the text",
         "x": 0.5
        },
        "xaxis": {
         "tickangle": -45,
         "title": {
          "text": "Words"
         }
        },
        "yaxis": {
         "title": {
          "text": "Frequency"
         }
        }
       }
      }
     },
     "metadata": {},
     "output_type": "display_data"
    }
   ],
   "source": [
    "from collections import Counter\n",
    "\n",
    "def most_frequent_words(texts, n=10):\n",
    "    words = [word for txt in texts for word in txt.split()]\n",
    "\n",
    "    word_counts = Counter(words)\n",
    "\n",
    "    most_common = dict(word_counts.most_common(n))\n",
    "\n",
    "    fig = go.Figure(\n",
    "        go.Bar(\n",
    "            x=list(most_common.keys()),\n",
    "            y=list(most_common.values())\n",
    "        )\n",
    "    )\n",
    "    fig.update_layout(\n",
    "        title_text=f\"Top {n} most frequent words in the text\",\n",
    "        title_x=0.5,  # Center the title\n",
    "        xaxis_title=\"Words\",\n",
    "        yaxis_title=\"Frequency\",\n",
    "        xaxis_tickangle=-45,\n",
    "    )\n",
    "    fig.show()\n",
    "most_frequent_words(df_movies[\"overview\"], 40)\n"
   ]
  },
  {
   "cell_type": "markdown",
   "id": "82f42653",
   "metadata": {},
   "source": [
    "# Preprocessing"
   ]
  },
  {
   "cell_type": "code",
   "execution_count": 12,
   "id": "97bb5855",
   "metadata": {},
   "outputs": [
    {
     "name": "stdout",
     "output_type": "stream",
     "text": [
      "Collecting en-core-web-sm==3.8.0\n",
      "  Downloading https://github.com/explosion/spacy-models/releases/download/en_core_web_sm-3.8.0/en_core_web_sm-3.8.0-py3-none-any.whl (12.8 MB)\n",
      "\u001b[2K     \u001b[38;2;114;156;31m━━━━━━━━━━━━━━━━━━━━━━━━━━━━━━━━━━━━━━━━\u001b[0m \u001b[32m12.8/12.8 MB\u001b[0m \u001b[31m18.7 MB/s\u001b[0m eta \u001b[36m0:00:00\u001b[0m MB/s\u001b[0m eta \u001b[36m0:00:01\u001b[0m01\u001b[0m\n",
      "\u001b[?25hInstalling collected packages: en-core-web-sm\n",
      "Successfully installed en-core-web-sm-3.8.0\n",
      "\u001b[38;5;2m✔ Download and installation successful\u001b[0m\n",
      "You can now load the package via spacy.load('en_core_web_sm')\n"
     ]
    }
   ],
   "source": [
    "!python -m spacy download en_core_web_sm"
   ]
  },
  {
   "cell_type": "code",
   "execution_count": 13,
   "id": "3b58a5fe",
   "metadata": {},
   "outputs": [
    {
     "data": {
      "text/plain": [
       "['already',\n",
       " 'amount',\n",
       " 'through',\n",
       " 'out',\n",
       " 'various',\n",
       " '’ve',\n",
       " 'himself',\n",
       " 'off',\n",
       " 'was',\n",
       " 'by']"
      ]
     },
     "execution_count": 13,
     "metadata": {},
     "output_type": "execute_result"
    }
   ],
   "source": [
    "import spacy\n",
    "\n",
    "nlp = spacy.load(\"en_core_web_sm\")\n",
    "\n",
    "stop_words_spacy = nlp.Defaults.stop_words\n",
    "\n",
    "list(stop_words_spacy)[:10]"
   ]
  },
  {
   "cell_type": "markdown",
   "id": "ce7a4bf0",
   "metadata": {},
   "source": [
    "It's also a nice thing to check for duplicity in our dataset. It'll not contribute to the training step, besides leading towards a greater training time."
   ]
  },
  {
   "cell_type": "code",
   "execution_count": 14,
   "id": "4b62924c",
   "metadata": {},
   "outputs": [
    {
     "data": {
      "application/vnd.microsoft.datawrangler.viewer.v0+json": {
       "columns": [
        {
         "name": "index",
         "rawType": "int64",
         "type": "integer"
        },
        {
         "name": "title",
         "rawType": "object",
         "type": "string"
        },
        {
         "name": "overview",
         "rawType": "object",
         "type": "string"
        },
        {
         "name": "genre_ids",
         "rawType": "object",
         "type": "string"
        }
       ],
       "conversionMethod": "pd.DataFrame",
       "ref": "1cfc1c97-c169-4f58-b7f8-12d5fe712e3e",
       "rows": [
        [
         "0",
         "The Shawshank Redemption",
         "Imprisoned in the 1940s for the double murder of his wife and her lover upstanding banker Andy Dufresne begins a new life at the Shawshank prison where he puts his accounting skills to work for an amoral warden During his long stretch in prison Dufresne comes to be admired by the other inmates including an older prisoner named Red for his integrity and unquenchable sense of hope",
         "[18, 80]"
        ],
        [
         "1",
         "The Godfather",
         "Spanning the years 1945 to 1955 a chronicle of the fictional ItalianAmerican Corleone crime family When organized crime family patriarch Vito Corleone barely survives an attempt on his life his youngest son Michael steps in to take care of the wouldbe killers launching a campaign of bloody revenge",
         "[18, 80]"
        ],
        [
         "2",
         "The Godfather Part II",
         "In the continuing saga of the Corleone crime family a young Vito Corleone grows up in Sicily and in 1910s New York In the 1950s Michael Corleone attempts to expand the family business into Las Vegas Hollywood and Cuba",
         "[18, 80]"
        ],
        [
         "3",
         "Schindler's List",
         "The true story of how businessman Oskar Schindler saved over a thousand Jewish lives from the Nazis while they worked as slaves in his factory during World War II",
         "[18, 36, 10752]"
        ],
        [
         "4",
         "12 Angry Men",
         "The defense and the prosecution have rested and the jury is filing into the jury room to decide if a young SpanishAmerican is guilty or innocent of murdering his father What begins as an open and shut case soon becomes a minidrama of each of the jurors prejudices and preconceptions about the trial the accused and each other",
         "[18]"
        ],
        [
         "5",
         "Spirited Away",
         "A young girl Chihiro becomes trapped in a strange new world of spirits When her parents undergo a mysterious transformation she must call upon the courage she never knew she had to free her family",
         "[16, 10751, 14]"
        ],
        [
         "6",
         "Dilwale Dulhania Le Jayenge",
         "Raj is a rich carefree happygolucky second generation NRI Simran is the daughter of Chaudhary Baldev Singh who in spite of being an NRI is very strict about adherence to Indian values Simran has left for India to be married to her childhood fiancé Raj leaves for India with a mission at his hands to claim his lady love under the noses of her whole family Thus begins a saga",
         "[35, 18, 10749]"
        ],
        [
         "7",
         "The Dark Knight",
         "Batman raises the stakes in his war on crime With the help of Lt Jim Gordon and District Attorney Harvey Dent Batman sets out to dismantle the remaining criminal organizations that plague the streets The partnership proves to be effective but they soon find themselves prey to a reign of chaos unleashed by a rising criminal mastermind known to the terrified citizens of Gotham as the Joker",
         "[18, 28, 80, 53]"
        ],
        [
         "8",
         "The Green Mile",
         "A supernatural tale set on death row in a Southern prison where gentle giant John Coffey possesses the mysterious power to heal peoples ailments When the cell blocks head guard Paul Edgecomb recognizes Coffeys miraculous gift he tries desperately to help stave off the condemned mans execution",
         "[14, 18, 80]"
        ],
        [
         "9",
         "Parasite",
         "All unemployed Kitaeks family takes peculiar interest in the wealthy and glamorous Parks for their livelihood until they get entangled in an unexpected incident",
         "[35, 53, 18]"
        ],
        [
         "10",
         "Counterattack",
         "When a hostage rescue mission creates a new enemy Capt Guerrero and his elite soldiers must face an ambush by a criminal group",
         "[28, 12, 53]"
        ],
        [
         "11",
         "Pulp Fiction",
         "A burgerloving hit man his philosophical partner a drugaddled gangsters moll and a washedup boxer converge in this sprawling comedic crime caper Their adventures unfurl in three stories that ingeniously trip back and forth in time",
         "[53, 80]"
        ],
        [
         "12",
         "Your Name.",
         "High schoolers Mitsuha and Taki are complete strangers living separate lives But one night they suddenly switch places Mitsuha wakes up in Takis body and he in hers This bizarre occurrence continues to happen randomly and the two must adjust their lives around each other",
         "[16, 10749, 18]"
        ],
        [
         "13",
         "The Lord of the Rings: The Return of the King",
         "As armies mass for a final battle that will decide the fate of the worldand powerful ancient forces of Light and Dark compete to determine the outcomeone member of the Fellowship of the Ring is revealed as the noble heir to the throne of the Kings of Men Yet the sole hope for triumph over evil lies with a brave hobbit Frodo who accompanied by his loyal friend Sam and the hideous wretched Gollum ventures deep into the very dark heart of Mordor on his seemingly impossible quest to destroy the Ring of Power",
         "[12, 14, 28]"
        ],
        [
         "14",
         "Forrest Gump",
         "A man with a low IQ has accomplished great things in his life and been present during significant historic eventsin each case far exceeding what anyone imagined he could do But despite all he has achieved his one true love eludes him",
         "[35, 18, 10749]"
        ],
        [
         "15",
         "The Good, the Bad and the Ugly",
         "While the Civil War rages on between the Union and the Confederacy three men a quiet loner a ruthless hitman and a Mexican bandit comb the American Southwest in search of a strongbox containing 200000 in stolen gold",
         "[37]"
        ],
        [
         "16",
         "GoodFellas",
         "The true story of Henry Hill a halfIrish halfSicilian Brooklyn kid who is adopted by neighbourhood gangsters at an early age and climbs the ranks of a Mafia family under the guidance of Jimmy Conway",
         "[18, 80]"
        ],
        [
         "17",
         "Seven Samurai",
         "A samurai answers a villages request for protection after he falls on hard times The town needs protection from bandits so the samurai gathers six others to help him teach the people how to defend themselves and the villagers provide the soldiers with food",
         "[28, 18]"
        ],
        [
         "18",
         "Interstellar",
         "The adventures of a group of explorers who make use of a newly discovered wormhole to surpass the limitations on human space travel and conquer the vast distances involved in an interstellar voyage",
         "[12, 18, 878]"
        ],
        [
         "19",
         "Grave of the Fireflies",
         "In the final months of World War II 14yearold Seita and his sister Setsuko are orphaned when their mother is killed during an air raid in Kobe Japan After a falling out with their aunt they move into an abandoned bomb shelter With no surviving relatives and their emergency rations depleted Seita and Setsuko struggle to survive",
         "[16, 18, 10752]"
        ],
        [
         "20",
         "Life Is Beautiful",
         "A touching story of an Italian book seller of Jewish ancestry who lives in his own little fairy tale His creative and happy life would come to an abrupt halt when his entire family is deported to a concentration camp during World War II While locked up he tries to convince his son that the whole thing is just a game",
         "[35, 18]"
        ],
        [
         "21",
         "Fight Club",
         "A tickingtimebomb insomniac and a slippery soap salesman channel primal male aggression into a shocking new form of therapy Their concept catches on with underground fight clubs forming in every town until an eccentric gets in the way and ignites an outofcontrol spiral toward oblivion",
         "[18]"
        ],
        [
         "22",
         "Cinema Paradiso",
         "A filmmaker recalls his childhood when he fell in love with the movies at his villages theater and formed a deep friendship with the theaters projectionist",
         "[18, 10749]"
        ],
        [
         "23",
         "City of God",
         "In the povertystricken favelas of Rio de Janeiro in the 1970s two young men choose different paths Rocket is a budding photographer who documents the increasing drugrelated violence of his neighborhood while José Zé Pequeno is an ambitious drug dealer diving into a dangerous life of crime",
         "[18, 80]"
        ],
        [
         "24",
         "Psycho",
         "When larcenous real estate clerk Marion Crane goes on the lam with a wad of cash and hopes of starting a new life she ends up at the notorious Bates Motel where manager Norman Bates cares for his housebound mother",
         "[27, 53, 9648]"
        ],
        [
         "25",
         "Impossible Things",
         "After the death of her abusive husband Matilde finds her new best friend in Miguel her young insecure and disoriented neighbor",
         "[10751, 18]"
        ],
        [
         "26",
         "The Lord of the Rings: The Fellowship of the Ring",
         "Young hobbit Frodo Baggins after inheriting a mysterious ring from his uncle Bilbo must leave his home in order to keep it from falling into the hands of its evil creator Along the way a fellowship is formed to protect the ringbearer and make sure that the ring arrives at its final destination Mt Doom the only place where it can be destroyed",
         "[12, 14, 28]"
        ],
        [
         "27",
         "A Dog's Will",
         "The lively João Grilo and the sly Chicó are poor guys living in the hinterland who cheat a bunch of people in a small town in Northeastern Brazil When they die they have to be judged by Christ the Devil and the Virgin Mary before they are admitted to paradise",
         "[35, 18, 14]"
        ],
        [
         "28",
         "Once Upon a Time in America",
         "A former Prohibitionera Jewish gangster returns to the Lower East Side of Manhattan over thirty years later where he once again must confront the ghosts and regrets of his old life",
         "[18, 80]"
        ],
        [
         "29",
         "One Flew Over the Cuckoo's Nest",
         "A petty criminal fakes insanity to serve his sentence in a mental ward rather than prison He soon finds himself as a leader to the other patientsand an enemy to the cruel domineering nurse who runs the ward",
         "[18]"
        ],
        [
         "30",
         "Harakiri",
         "Downonhisluck veteran Tsugumo Hanshirō enters the courtyard of the prosperous House of Iyi Unemployed and with no family he hopes to find a place to commit seppukuand a worthy second to deliver the coup de grâce in his suicide ritual The senior counselor for the Iyi clan questions the ronins resolve and integrity suspecting Hanshirō of seeking charity rather than an honorable end What follows is a pair of interlocking stories which lay bare the difference between honor and respect and promises to examine the legendary foundations of the Samurai code",
         "[28, 18, 36]"
        ],
        [
         "31",
         "Gabriel's Inferno",
         "An intriguing and sinful exploration of seduction forbidden love and redemption Gabriels Inferno is a captivating and wildly passionate tale of one mans escape from his own personal hell as he tries to earn the impossibleforgiveness and love",
         "[10749, 18]"
        ],
        [
         "32",
         "The Lord of the Rings: The Two Towers",
         "Frodo Baggins and the other members of the Fellowship continue on their sacred quest to destroy the One Ringbut on separate paths Their destinies lie at two towersOrthanc Tower in Isengard where the corrupt wizard Saruman awaits and Saurons fortress at Baraddur deep within the dark lands of Mordor Frodo and Sam are trekking to Mordor to destroy the One Ring of Power while Gimli Legolas and Aragorn search for the orccaptured Merry and Pippin All along nefarious wizard Saruman awaits the Fellowship members at the Orthanc Tower in Isengard",
         "[12, 14, 28]"
        ],
        [
         "33",
         "Howl's Moving Castle",
         "Sophie a young milliner is turned into an elderly woman by a witch who enters her shop and curses her She encounters a wizard named Howl and gets caught up in his resistance to fighting for the king",
         "[14, 16, 12]"
        ],
        [
         "34",
         "Spider-Man: Into the Spider-Verse",
         "Struggling to find his place in the world while juggling school and family Brooklyn teenager Miles Morales is unexpectedly bitten by a radioactive spider and develops unfathomable powers just like the one and only SpiderMan While wrestling with the implications of his new abilities Miles discovers a super collider created by the madman Wilson Kingpin Fisk causing others from across the SpiderVerse to be inadvertently transported to his dimension",
         "[16, 28, 12, 878]"
        ],
        [
         "35",
         "The Empire Strikes Back",
         "The epic saga continues as Luke Skywalker in hopes of defeating the evil Galactic Empire learns the ways of the Jedi from aging master Yoda But Darth Vader is more determined than ever to capture Luke Meanwhile rebel leader Princess Leia cocky Han Solo Chewbacca and droids C3PO and R2D2 are thrown into various stages of capture betrayal and despair",
         "[12, 28, 878]"
        ],
        [
         "36",
         "Radical",
         "In a Mexican border town plagued by neglect corruption and violence a frustrated teacher tries an unorthodox new method to break through his students apathy and unlock their curiosity their potential and perhaps even their genius",
         "[18]"
        ],
        [
         "37",
         "Primal: Tales of Savagery",
         "Genndy Tartakovskys Primal Tales of Savagery features a caveman and a dinosaur on the brink of extinction Bonded by tragedy this unlikely friendship becomes the only hope of survival",
         "[28, 12, 16, 18]"
        ],
        [
         "38",
         "Gabriel's Inferno: Part II",
         "Professor Gabriel Emerson finally learns the truth about Julia Mitchells identity but his realization comes a moment too late Julia is done waiting for the wellrespected Dante specialist to remember her and wants nothing more to do with him Can Gabriel win back her heart before she finds love in anothers arms",
         "[10749, 18]"
        ],
        [
         "39",
         "A Silent Voice: The Movie",
         "Shouya Ishida starts bullying the new girl in class Shouko Nishimiya because she is deaf But as the teasing continues the rest of the class starts to turn on Shouya for his lack of compassion When they leave elementary school Shouko and Shouya do not speak to each other again until an older wiser Shouya tormented by his past behaviour decides he must see Shouko once more He wants to atone for his sins but is it already too late",
         "[16, 18, 10749]"
        ],
        [
         "40",
         "Gabriel's Inferno: Part III",
         "The final part of the film adaption of the erotic romance novel Gabriels Inferno written by an anonymous Canadian author under the pen name Sylvain Reynard",
         "[10749, 18]"
        ],
        [
         "41",
         "The Pianist",
         "The true story of pianist Władysław Szpilmans experiences in Warsaw during the Nazi occupation When the Jews of the city find themselves forced into a ghetto Szpilman finds work playing in a café and when his family is deported in 1942 he stays behind works for a while as a laborer and eventually goes into hiding in the ruins of the wartorn city",
         "[18, 10752]"
        ],
        [
         "42",
         "Hope",
         "After 8yearold Sowon narrowly survives a brutal sexual assault her family labors to help her heal while coping with their own rage and grief",
         "[18]"
        ],
        [
         "43",
         "Whiplash",
         "Under the direction of a ruthless instructor a talented young drummer begins to pursue perfection at any cost even his humanity",
         "[18, 10402]"
        ],
        [
         "44",
         "Se7en",
         "Two homicide detectives are on a desperate hunt for a serial killer whose crimes are based on the seven deadly sins in this dark and haunting film that takes viewers from the tortured remains of one victim to the next The seasoned Det Somerset researches each sin in an effort to get inside the killers mind while his novice partner Mills scoffs at his efforts to unravel the case",
         "[80, 9648, 53]"
        ],
        [
         "45",
         "Inception",
         "Cobb a skilled thief who commits corporate espionage by infiltrating the subconscious of his targets is offered a chance to regain his old life as payment for a task considered to be impossible inception the implantation of another persons idea into a targets subconscious",
         "[28, 878, 12]"
        ],
        [
         "46",
         "Lucy Shimmers and the Prince of Peace",
         "Second chances start when a hardened criminal crosses paths with a precocious little girl who is helped by an angel to change hearts during the holiday season",
         "[18, 10751]"
        ],
        [
         "47",
         "Dou kyu sei – Classmates",
         "Rihito Sajo an honor student with a perfect score on the entrance exam and Hikaru Kusakabe in a band and popular among girls would have never crossed paths Until one day they started talking at the practice for their schools upcoming chorus festival After school the two meet regularly as Hikaru helps Rihito to improve his singing skills While they listen to each others voice and harmonize their hearts start to beat together",
         "[10749, 16]"
        ],
        [
         "48",
         "Rear Window",
         "A wheelchairbound photographer spies on his neighbors from his apartment window and becomes convinced one of them has committed murder",
         "[53, 9648]"
        ],
        [
         "49",
         "The Legend of Hei",
         "When cat spirit Luo Xiaoheis home is deforested by humans he must find a new one He runs into a group of other spirit creatures who take him under their wing with dreams of reconquering the land they say is rightfully theirs However they run into a human known as Wuxian who separates Luo Xiaohei from the other spirits and the two go on a journey with the cat spirit learning to control his abilities as well as forming his own thoughts on whether or not he should ally with the spirits or the humans",
         "[16, 14, 28]"
        ]
       ],
       "shape": {
        "columns": 3,
        "rows": 9971
       }
      },
      "text/html": [
       "<div>\n",
       "<style scoped>\n",
       "    .dataframe tbody tr th:only-of-type {\n",
       "        vertical-align: middle;\n",
       "    }\n",
       "\n",
       "    .dataframe tbody tr th {\n",
       "        vertical-align: top;\n",
       "    }\n",
       "\n",
       "    .dataframe thead th {\n",
       "        text-align: right;\n",
       "    }\n",
       "</style>\n",
       "<table border=\"1\" class=\"dataframe\">\n",
       "  <thead>\n",
       "    <tr style=\"text-align: right;\">\n",
       "      <th></th>\n",
       "      <th>title</th>\n",
       "      <th>overview</th>\n",
       "      <th>genre_ids</th>\n",
       "    </tr>\n",
       "  </thead>\n",
       "  <tbody>\n",
       "    <tr>\n",
       "      <th>0</th>\n",
       "      <td>The Shawshank Redemption</td>\n",
       "      <td>Imprisoned in the 1940s for the double murder ...</td>\n",
       "      <td>[18, 80]</td>\n",
       "    </tr>\n",
       "    <tr>\n",
       "      <th>1</th>\n",
       "      <td>The Godfather</td>\n",
       "      <td>Spanning the years 1945 to 1955 a chronicle of...</td>\n",
       "      <td>[18, 80]</td>\n",
       "    </tr>\n",
       "    <tr>\n",
       "      <th>2</th>\n",
       "      <td>The Godfather Part II</td>\n",
       "      <td>In the continuing saga of the Corleone crime f...</td>\n",
       "      <td>[18, 80]</td>\n",
       "    </tr>\n",
       "    <tr>\n",
       "      <th>3</th>\n",
       "      <td>Schindler's List</td>\n",
       "      <td>The true story of how businessman Oskar Schind...</td>\n",
       "      <td>[18, 36, 10752]</td>\n",
       "    </tr>\n",
       "    <tr>\n",
       "      <th>4</th>\n",
       "      <td>12 Angry Men</td>\n",
       "      <td>The defense and the prosecution have rested an...</td>\n",
       "      <td>[18]</td>\n",
       "    </tr>\n",
       "    <tr>\n",
       "      <th>...</th>\n",
       "      <td>...</td>\n",
       "      <td>...</td>\n",
       "      <td>...</td>\n",
       "    </tr>\n",
       "    <tr>\n",
       "      <th>9975</th>\n",
       "      <td>Double Dragon</td>\n",
       "      <td>Two brothers have half of a powerful ancient C...</td>\n",
       "      <td>[28, 12, 35, 14, 878]</td>\n",
       "    </tr>\n",
       "    <tr>\n",
       "      <th>9976</th>\n",
       "      <td>The Fanatic</td>\n",
       "      <td>A rabid film fan stalks his favorite action he...</td>\n",
       "      <td>[80, 53]</td>\n",
       "    </tr>\n",
       "    <tr>\n",
       "      <th>9977</th>\n",
       "      <td>SPF-18</td>\n",
       "      <td>18yearold Penny Cooper spent years pining for ...</td>\n",
       "      <td>[10749, 18]</td>\n",
       "    </tr>\n",
       "    <tr>\n",
       "      <th>9978</th>\n",
       "      <td>Fantastic Four</td>\n",
       "      <td>Four young outsiders teleport to a dangerous u...</td>\n",
       "      <td>[28, 12, 878]</td>\n",
       "    </tr>\n",
       "    <tr>\n",
       "      <th>9979</th>\n",
       "      <td>Natale in Sudafrica</td>\n",
       "      <td>Carlo on vacation in South Africa with his sec...</td>\n",
       "      <td>[35]</td>\n",
       "    </tr>\n",
       "  </tbody>\n",
       "</table>\n",
       "<p>9971 rows × 3 columns</p>\n",
       "</div>"
      ],
      "text/plain": [
       "                         title  \\\n",
       "0     The Shawshank Redemption   \n",
       "1                The Godfather   \n",
       "2        The Godfather Part II   \n",
       "3             Schindler's List   \n",
       "4                 12 Angry Men   \n",
       "...                        ...   \n",
       "9975             Double Dragon   \n",
       "9976               The Fanatic   \n",
       "9977                    SPF-18   \n",
       "9978            Fantastic Four   \n",
       "9979       Natale in Sudafrica   \n",
       "\n",
       "                                               overview              genre_ids  \n",
       "0     Imprisoned in the 1940s for the double murder ...               [18, 80]  \n",
       "1     Spanning the years 1945 to 1955 a chronicle of...               [18, 80]  \n",
       "2     In the continuing saga of the Corleone crime f...               [18, 80]  \n",
       "3     The true story of how businessman Oskar Schind...        [18, 36, 10752]  \n",
       "4     The defense and the prosecution have rested an...                   [18]  \n",
       "...                                                 ...                    ...  \n",
       "9975  Two brothers have half of a powerful ancient C...  [28, 12, 35, 14, 878]  \n",
       "9976  A rabid film fan stalks his favorite action he...               [80, 53]  \n",
       "9977  18yearold Penny Cooper spent years pining for ...            [10749, 18]  \n",
       "9978  Four young outsiders teleport to a dangerous u...          [28, 12, 878]  \n",
       "9979  Carlo on vacation in South Africa with his sec...                   [35]  \n",
       "\n",
       "[9971 rows x 3 columns]"
      ]
     },
     "execution_count": 14,
     "metadata": {},
     "output_type": "execute_result"
    }
   ],
   "source": [
    "#removing duplicates\n",
    "movies_clean = df_movies.drop_duplicates(subset=['overview'])\n",
    "movies_clean"
   ]
  },
  {
   "cell_type": "markdown",
   "id": "5c9e1ee9",
   "metadata": {},
   "source": [
    "To help visualize the genres with the movies, let's add a column of the genre names assigned to the movies."
   ]
  },
  {
   "cell_type": "code",
   "execution_count": 15,
   "id": "8441506e",
   "metadata": {},
   "outputs": [
    {
     "name": "stderr",
     "output_type": "stream",
     "text": [
      "/tmp/ipykernel_26613/1993850315.py:10: SettingWithCopyWarning:\n",
      "\n",
      "\n",
      "A value is trying to be set on a copy of a slice from a DataFrame.\n",
      "Try using .loc[row_indexer,col_indexer] = value instead\n",
      "\n",
      "See the caveats in the documentation: https://pandas.pydata.org/pandas-docs/stable/user_guide/indexing.html#returning-a-view-versus-a-copy\n",
      "\n"
     ]
    },
    {
     "data": {
      "application/vnd.microsoft.datawrangler.viewer.v0+json": {
       "columns": [
        {
         "name": "index",
         "rawType": "int64",
         "type": "integer"
        },
        {
         "name": "title",
         "rawType": "object",
         "type": "string"
        },
        {
         "name": "overview",
         "rawType": "object",
         "type": "string"
        },
        {
         "name": "genre_ids",
         "rawType": "object",
         "type": "string"
        },
        {
         "name": "genres",
         "rawType": "object",
         "type": "unknown"
        }
       ],
       "conversionMethod": "pd.DataFrame",
       "ref": "80981298-5b79-4207-a990-07566b4d5ebd",
       "rows": [
        [
         "0",
         "The Shawshank Redemption",
         "Imprisoned in the 1940s for the double murder of his wife and her lover upstanding banker Andy Dufresne begins a new life at the Shawshank prison where he puts his accounting skills to work for an amoral warden During his long stretch in prison Dufresne comes to be admired by the other inmates including an older prisoner named Red for his integrity and unquenchable sense of hope",
         "[18, 80]",
         "['Drama', 'Crime']"
        ],
        [
         "1",
         "The Godfather",
         "Spanning the years 1945 to 1955 a chronicle of the fictional ItalianAmerican Corleone crime family When organized crime family patriarch Vito Corleone barely survives an attempt on his life his youngest son Michael steps in to take care of the wouldbe killers launching a campaign of bloody revenge",
         "[18, 80]",
         "['Drama', 'Crime']"
        ],
        [
         "2",
         "The Godfather Part II",
         "In the continuing saga of the Corleone crime family a young Vito Corleone grows up in Sicily and in 1910s New York In the 1950s Michael Corleone attempts to expand the family business into Las Vegas Hollywood and Cuba",
         "[18, 80]",
         "['Drama', 'Crime']"
        ],
        [
         "3",
         "Schindler's List",
         "The true story of how businessman Oskar Schindler saved over a thousand Jewish lives from the Nazis while they worked as slaves in his factory during World War II",
         "[18, 36, 10752]",
         "['Drama', 'History', 'War']"
        ],
        [
         "4",
         "12 Angry Men",
         "The defense and the prosecution have rested and the jury is filing into the jury room to decide if a young SpanishAmerican is guilty or innocent of murdering his father What begins as an open and shut case soon becomes a minidrama of each of the jurors prejudices and preconceptions about the trial the accused and each other",
         "[18]",
         "['Drama']"
        ],
        [
         "5",
         "Spirited Away",
         "A young girl Chihiro becomes trapped in a strange new world of spirits When her parents undergo a mysterious transformation she must call upon the courage she never knew she had to free her family",
         "[16, 10751, 14]",
         "['Animation', 'Family', 'Fantasy']"
        ],
        [
         "6",
         "Dilwale Dulhania Le Jayenge",
         "Raj is a rich carefree happygolucky second generation NRI Simran is the daughter of Chaudhary Baldev Singh who in spite of being an NRI is very strict about adherence to Indian values Simran has left for India to be married to her childhood fiancé Raj leaves for India with a mission at his hands to claim his lady love under the noses of her whole family Thus begins a saga",
         "[35, 18, 10749]",
         "['Comedy', 'Drama', 'Romance']"
        ],
        [
         "7",
         "The Dark Knight",
         "Batman raises the stakes in his war on crime With the help of Lt Jim Gordon and District Attorney Harvey Dent Batman sets out to dismantle the remaining criminal organizations that plague the streets The partnership proves to be effective but they soon find themselves prey to a reign of chaos unleashed by a rising criminal mastermind known to the terrified citizens of Gotham as the Joker",
         "[18, 28, 80, 53]",
         "['Drama', 'Action', 'Crime', 'Thriller']"
        ],
        [
         "8",
         "The Green Mile",
         "A supernatural tale set on death row in a Southern prison where gentle giant John Coffey possesses the mysterious power to heal peoples ailments When the cell blocks head guard Paul Edgecomb recognizes Coffeys miraculous gift he tries desperately to help stave off the condemned mans execution",
         "[14, 18, 80]",
         "['Fantasy', 'Drama', 'Crime']"
        ],
        [
         "9",
         "Parasite",
         "All unemployed Kitaeks family takes peculiar interest in the wealthy and glamorous Parks for their livelihood until they get entangled in an unexpected incident",
         "[35, 53, 18]",
         "['Comedy', 'Thriller', 'Drama']"
        ],
        [
         "10",
         "Counterattack",
         "When a hostage rescue mission creates a new enemy Capt Guerrero and his elite soldiers must face an ambush by a criminal group",
         "[28, 12, 53]",
         "['Action', 'Adventure', 'Thriller']"
        ],
        [
         "11",
         "Pulp Fiction",
         "A burgerloving hit man his philosophical partner a drugaddled gangsters moll and a washedup boxer converge in this sprawling comedic crime caper Their adventures unfurl in three stories that ingeniously trip back and forth in time",
         "[53, 80]",
         "['Thriller', 'Crime']"
        ],
        [
         "12",
         "Your Name.",
         "High schoolers Mitsuha and Taki are complete strangers living separate lives But one night they suddenly switch places Mitsuha wakes up in Takis body and he in hers This bizarre occurrence continues to happen randomly and the two must adjust their lives around each other",
         "[16, 10749, 18]",
         "['Animation', 'Romance', 'Drama']"
        ],
        [
         "13",
         "The Lord of the Rings: The Return of the King",
         "As armies mass for a final battle that will decide the fate of the worldand powerful ancient forces of Light and Dark compete to determine the outcomeone member of the Fellowship of the Ring is revealed as the noble heir to the throne of the Kings of Men Yet the sole hope for triumph over evil lies with a brave hobbit Frodo who accompanied by his loyal friend Sam and the hideous wretched Gollum ventures deep into the very dark heart of Mordor on his seemingly impossible quest to destroy the Ring of Power",
         "[12, 14, 28]",
         "['Adventure', 'Fantasy', 'Action']"
        ],
        [
         "14",
         "Forrest Gump",
         "A man with a low IQ has accomplished great things in his life and been present during significant historic eventsin each case far exceeding what anyone imagined he could do But despite all he has achieved his one true love eludes him",
         "[35, 18, 10749]",
         "['Comedy', 'Drama', 'Romance']"
        ],
        [
         "15",
         "The Good, the Bad and the Ugly",
         "While the Civil War rages on between the Union and the Confederacy three men a quiet loner a ruthless hitman and a Mexican bandit comb the American Southwest in search of a strongbox containing 200000 in stolen gold",
         "[37]",
         "['Western']"
        ],
        [
         "16",
         "GoodFellas",
         "The true story of Henry Hill a halfIrish halfSicilian Brooklyn kid who is adopted by neighbourhood gangsters at an early age and climbs the ranks of a Mafia family under the guidance of Jimmy Conway",
         "[18, 80]",
         "['Drama', 'Crime']"
        ],
        [
         "17",
         "Seven Samurai",
         "A samurai answers a villages request for protection after he falls on hard times The town needs protection from bandits so the samurai gathers six others to help him teach the people how to defend themselves and the villagers provide the soldiers with food",
         "[28, 18]",
         "['Action', 'Drama']"
        ],
        [
         "18",
         "Interstellar",
         "The adventures of a group of explorers who make use of a newly discovered wormhole to surpass the limitations on human space travel and conquer the vast distances involved in an interstellar voyage",
         "[12, 18, 878]",
         "['Adventure', 'Drama', 'Science Fiction']"
        ],
        [
         "19",
         "Grave of the Fireflies",
         "In the final months of World War II 14yearold Seita and his sister Setsuko are orphaned when their mother is killed during an air raid in Kobe Japan After a falling out with their aunt they move into an abandoned bomb shelter With no surviving relatives and their emergency rations depleted Seita and Setsuko struggle to survive",
         "[16, 18, 10752]",
         "['Animation', 'Drama', 'War']"
        ],
        [
         "20",
         "Life Is Beautiful",
         "A touching story of an Italian book seller of Jewish ancestry who lives in his own little fairy tale His creative and happy life would come to an abrupt halt when his entire family is deported to a concentration camp during World War II While locked up he tries to convince his son that the whole thing is just a game",
         "[35, 18]",
         "['Comedy', 'Drama']"
        ],
        [
         "21",
         "Fight Club",
         "A tickingtimebomb insomniac and a slippery soap salesman channel primal male aggression into a shocking new form of therapy Their concept catches on with underground fight clubs forming in every town until an eccentric gets in the way and ignites an outofcontrol spiral toward oblivion",
         "[18]",
         "['Drama']"
        ],
        [
         "22",
         "Cinema Paradiso",
         "A filmmaker recalls his childhood when he fell in love with the movies at his villages theater and formed a deep friendship with the theaters projectionist",
         "[18, 10749]",
         "['Drama', 'Romance']"
        ],
        [
         "23",
         "City of God",
         "In the povertystricken favelas of Rio de Janeiro in the 1970s two young men choose different paths Rocket is a budding photographer who documents the increasing drugrelated violence of his neighborhood while José Zé Pequeno is an ambitious drug dealer diving into a dangerous life of crime",
         "[18, 80]",
         "['Drama', 'Crime']"
        ],
        [
         "24",
         "Psycho",
         "When larcenous real estate clerk Marion Crane goes on the lam with a wad of cash and hopes of starting a new life she ends up at the notorious Bates Motel where manager Norman Bates cares for his housebound mother",
         "[27, 53, 9648]",
         "['Horror', 'Thriller', 'Mystery']"
        ],
        [
         "25",
         "Impossible Things",
         "After the death of her abusive husband Matilde finds her new best friend in Miguel her young insecure and disoriented neighbor",
         "[10751, 18]",
         "['Family', 'Drama']"
        ],
        [
         "26",
         "The Lord of the Rings: The Fellowship of the Ring",
         "Young hobbit Frodo Baggins after inheriting a mysterious ring from his uncle Bilbo must leave his home in order to keep it from falling into the hands of its evil creator Along the way a fellowship is formed to protect the ringbearer and make sure that the ring arrives at its final destination Mt Doom the only place where it can be destroyed",
         "[12, 14, 28]",
         "['Adventure', 'Fantasy', 'Action']"
        ],
        [
         "27",
         "A Dog's Will",
         "The lively João Grilo and the sly Chicó are poor guys living in the hinterland who cheat a bunch of people in a small town in Northeastern Brazil When they die they have to be judged by Christ the Devil and the Virgin Mary before they are admitted to paradise",
         "[35, 18, 14]",
         "['Comedy', 'Drama', 'Fantasy']"
        ],
        [
         "28",
         "Once Upon a Time in America",
         "A former Prohibitionera Jewish gangster returns to the Lower East Side of Manhattan over thirty years later where he once again must confront the ghosts and regrets of his old life",
         "[18, 80]",
         "['Drama', 'Crime']"
        ],
        [
         "29",
         "One Flew Over the Cuckoo's Nest",
         "A petty criminal fakes insanity to serve his sentence in a mental ward rather than prison He soon finds himself as a leader to the other patientsand an enemy to the cruel domineering nurse who runs the ward",
         "[18]",
         "['Drama']"
        ],
        [
         "30",
         "Harakiri",
         "Downonhisluck veteran Tsugumo Hanshirō enters the courtyard of the prosperous House of Iyi Unemployed and with no family he hopes to find a place to commit seppukuand a worthy second to deliver the coup de grâce in his suicide ritual The senior counselor for the Iyi clan questions the ronins resolve and integrity suspecting Hanshirō of seeking charity rather than an honorable end What follows is a pair of interlocking stories which lay bare the difference between honor and respect and promises to examine the legendary foundations of the Samurai code",
         "[28, 18, 36]",
         "['Action', 'Drama', 'History']"
        ],
        [
         "31",
         "Gabriel's Inferno",
         "An intriguing and sinful exploration of seduction forbidden love and redemption Gabriels Inferno is a captivating and wildly passionate tale of one mans escape from his own personal hell as he tries to earn the impossibleforgiveness and love",
         "[10749, 18]",
         "['Romance', 'Drama']"
        ],
        [
         "32",
         "The Lord of the Rings: The Two Towers",
         "Frodo Baggins and the other members of the Fellowship continue on their sacred quest to destroy the One Ringbut on separate paths Their destinies lie at two towersOrthanc Tower in Isengard where the corrupt wizard Saruman awaits and Saurons fortress at Baraddur deep within the dark lands of Mordor Frodo and Sam are trekking to Mordor to destroy the One Ring of Power while Gimli Legolas and Aragorn search for the orccaptured Merry and Pippin All along nefarious wizard Saruman awaits the Fellowship members at the Orthanc Tower in Isengard",
         "[12, 14, 28]",
         "['Adventure', 'Fantasy', 'Action']"
        ],
        [
         "33",
         "Howl's Moving Castle",
         "Sophie a young milliner is turned into an elderly woman by a witch who enters her shop and curses her She encounters a wizard named Howl and gets caught up in his resistance to fighting for the king",
         "[14, 16, 12]",
         "['Fantasy', 'Animation', 'Adventure']"
        ],
        [
         "34",
         "Spider-Man: Into the Spider-Verse",
         "Struggling to find his place in the world while juggling school and family Brooklyn teenager Miles Morales is unexpectedly bitten by a radioactive spider and develops unfathomable powers just like the one and only SpiderMan While wrestling with the implications of his new abilities Miles discovers a super collider created by the madman Wilson Kingpin Fisk causing others from across the SpiderVerse to be inadvertently transported to his dimension",
         "[16, 28, 12, 878]",
         "['Animation', 'Action', 'Adventure', 'Science Fiction']"
        ],
        [
         "35",
         "The Empire Strikes Back",
         "The epic saga continues as Luke Skywalker in hopes of defeating the evil Galactic Empire learns the ways of the Jedi from aging master Yoda But Darth Vader is more determined than ever to capture Luke Meanwhile rebel leader Princess Leia cocky Han Solo Chewbacca and droids C3PO and R2D2 are thrown into various stages of capture betrayal and despair",
         "[12, 28, 878]",
         "['Adventure', 'Action', 'Science Fiction']"
        ],
        [
         "36",
         "Radical",
         "In a Mexican border town plagued by neglect corruption and violence a frustrated teacher tries an unorthodox new method to break through his students apathy and unlock their curiosity their potential and perhaps even their genius",
         "[18]",
         "['Drama']"
        ],
        [
         "37",
         "Primal: Tales of Savagery",
         "Genndy Tartakovskys Primal Tales of Savagery features a caveman and a dinosaur on the brink of extinction Bonded by tragedy this unlikely friendship becomes the only hope of survival",
         "[28, 12, 16, 18]",
         "['Action', 'Adventure', 'Animation', 'Drama']"
        ],
        [
         "38",
         "Gabriel's Inferno: Part II",
         "Professor Gabriel Emerson finally learns the truth about Julia Mitchells identity but his realization comes a moment too late Julia is done waiting for the wellrespected Dante specialist to remember her and wants nothing more to do with him Can Gabriel win back her heart before she finds love in anothers arms",
         "[10749, 18]",
         "['Romance', 'Drama']"
        ],
        [
         "39",
         "A Silent Voice: The Movie",
         "Shouya Ishida starts bullying the new girl in class Shouko Nishimiya because she is deaf But as the teasing continues the rest of the class starts to turn on Shouya for his lack of compassion When they leave elementary school Shouko and Shouya do not speak to each other again until an older wiser Shouya tormented by his past behaviour decides he must see Shouko once more He wants to atone for his sins but is it already too late",
         "[16, 18, 10749]",
         "['Animation', 'Drama', 'Romance']"
        ],
        [
         "40",
         "Gabriel's Inferno: Part III",
         "The final part of the film adaption of the erotic romance novel Gabriels Inferno written by an anonymous Canadian author under the pen name Sylvain Reynard",
         "[10749, 18]",
         "['Romance', 'Drama']"
        ],
        [
         "41",
         "The Pianist",
         "The true story of pianist Władysław Szpilmans experiences in Warsaw during the Nazi occupation When the Jews of the city find themselves forced into a ghetto Szpilman finds work playing in a café and when his family is deported in 1942 he stays behind works for a while as a laborer and eventually goes into hiding in the ruins of the wartorn city",
         "[18, 10752]",
         "['Drama', 'War']"
        ],
        [
         "42",
         "Hope",
         "After 8yearold Sowon narrowly survives a brutal sexual assault her family labors to help her heal while coping with their own rage and grief",
         "[18]",
         "['Drama']"
        ],
        [
         "43",
         "Whiplash",
         "Under the direction of a ruthless instructor a talented young drummer begins to pursue perfection at any cost even his humanity",
         "[18, 10402]",
         "['Drama', 'Music']"
        ],
        [
         "44",
         "Se7en",
         "Two homicide detectives are on a desperate hunt for a serial killer whose crimes are based on the seven deadly sins in this dark and haunting film that takes viewers from the tortured remains of one victim to the next The seasoned Det Somerset researches each sin in an effort to get inside the killers mind while his novice partner Mills scoffs at his efforts to unravel the case",
         "[80, 9648, 53]",
         "['Crime', 'Mystery', 'Thriller']"
        ],
        [
         "45",
         "Inception",
         "Cobb a skilled thief who commits corporate espionage by infiltrating the subconscious of his targets is offered a chance to regain his old life as payment for a task considered to be impossible inception the implantation of another persons idea into a targets subconscious",
         "[28, 878, 12]",
         "['Action', 'Science Fiction', 'Adventure']"
        ],
        [
         "46",
         "Lucy Shimmers and the Prince of Peace",
         "Second chances start when a hardened criminal crosses paths with a precocious little girl who is helped by an angel to change hearts during the holiday season",
         "[18, 10751]",
         "['Drama', 'Family']"
        ],
        [
         "47",
         "Dou kyu sei – Classmates",
         "Rihito Sajo an honor student with a perfect score on the entrance exam and Hikaru Kusakabe in a band and popular among girls would have never crossed paths Until one day they started talking at the practice for their schools upcoming chorus festival After school the two meet regularly as Hikaru helps Rihito to improve his singing skills While they listen to each others voice and harmonize their hearts start to beat together",
         "[10749, 16]",
         "['Romance', 'Animation']"
        ],
        [
         "48",
         "Rear Window",
         "A wheelchairbound photographer spies on his neighbors from his apartment window and becomes convinced one of them has committed murder",
         "[53, 9648]",
         "['Thriller', 'Mystery']"
        ],
        [
         "49",
         "The Legend of Hei",
         "When cat spirit Luo Xiaoheis home is deforested by humans he must find a new one He runs into a group of other spirit creatures who take him under their wing with dreams of reconquering the land they say is rightfully theirs However they run into a human known as Wuxian who separates Luo Xiaohei from the other spirits and the two go on a journey with the cat spirit learning to control his abilities as well as forming his own thoughts on whether or not he should ally with the spirits or the humans",
         "[16, 14, 28]",
         "['Animation', 'Fantasy', 'Action']"
        ]
       ],
       "shape": {
        "columns": 4,
        "rows": 9971
       }
      },
      "text/html": [
       "<div>\n",
       "<style scoped>\n",
       "    .dataframe tbody tr th:only-of-type {\n",
       "        vertical-align: middle;\n",
       "    }\n",
       "\n",
       "    .dataframe tbody tr th {\n",
       "        vertical-align: top;\n",
       "    }\n",
       "\n",
       "    .dataframe thead th {\n",
       "        text-align: right;\n",
       "    }\n",
       "</style>\n",
       "<table border=\"1\" class=\"dataframe\">\n",
       "  <thead>\n",
       "    <tr style=\"text-align: right;\">\n",
       "      <th></th>\n",
       "      <th>title</th>\n",
       "      <th>overview</th>\n",
       "      <th>genre_ids</th>\n",
       "      <th>genres</th>\n",
       "    </tr>\n",
       "  </thead>\n",
       "  <tbody>\n",
       "    <tr>\n",
       "      <th>0</th>\n",
       "      <td>The Shawshank Redemption</td>\n",
       "      <td>Imprisoned in the 1940s for the double murder ...</td>\n",
       "      <td>[18, 80]</td>\n",
       "      <td>[Drama, Crime]</td>\n",
       "    </tr>\n",
       "    <tr>\n",
       "      <th>1</th>\n",
       "      <td>The Godfather</td>\n",
       "      <td>Spanning the years 1945 to 1955 a chronicle of...</td>\n",
       "      <td>[18, 80]</td>\n",
       "      <td>[Drama, Crime]</td>\n",
       "    </tr>\n",
       "    <tr>\n",
       "      <th>2</th>\n",
       "      <td>The Godfather Part II</td>\n",
       "      <td>In the continuing saga of the Corleone crime f...</td>\n",
       "      <td>[18, 80]</td>\n",
       "      <td>[Drama, Crime]</td>\n",
       "    </tr>\n",
       "    <tr>\n",
       "      <th>3</th>\n",
       "      <td>Schindler's List</td>\n",
       "      <td>The true story of how businessman Oskar Schind...</td>\n",
       "      <td>[18, 36, 10752]</td>\n",
       "      <td>[Drama, History, War]</td>\n",
       "    </tr>\n",
       "    <tr>\n",
       "      <th>4</th>\n",
       "      <td>12 Angry Men</td>\n",
       "      <td>The defense and the prosecution have rested an...</td>\n",
       "      <td>[18]</td>\n",
       "      <td>[Drama]</td>\n",
       "    </tr>\n",
       "    <tr>\n",
       "      <th>...</th>\n",
       "      <td>...</td>\n",
       "      <td>...</td>\n",
       "      <td>...</td>\n",
       "      <td>...</td>\n",
       "    </tr>\n",
       "    <tr>\n",
       "      <th>9975</th>\n",
       "      <td>Double Dragon</td>\n",
       "      <td>Two brothers have half of a powerful ancient C...</td>\n",
       "      <td>[28, 12, 35, 14, 878]</td>\n",
       "      <td>[Action, Adventure, Comedy, Fantasy, Science F...</td>\n",
       "    </tr>\n",
       "    <tr>\n",
       "      <th>9976</th>\n",
       "      <td>The Fanatic</td>\n",
       "      <td>A rabid film fan stalks his favorite action he...</td>\n",
       "      <td>[80, 53]</td>\n",
       "      <td>[Crime, Thriller]</td>\n",
       "    </tr>\n",
       "    <tr>\n",
       "      <th>9977</th>\n",
       "      <td>SPF-18</td>\n",
       "      <td>18yearold Penny Cooper spent years pining for ...</td>\n",
       "      <td>[10749, 18]</td>\n",
       "      <td>[Romance, Drama]</td>\n",
       "    </tr>\n",
       "    <tr>\n",
       "      <th>9978</th>\n",
       "      <td>Fantastic Four</td>\n",
       "      <td>Four young outsiders teleport to a dangerous u...</td>\n",
       "      <td>[28, 12, 878]</td>\n",
       "      <td>[Action, Adventure, Science Fiction]</td>\n",
       "    </tr>\n",
       "    <tr>\n",
       "      <th>9979</th>\n",
       "      <td>Natale in Sudafrica</td>\n",
       "      <td>Carlo on vacation in South Africa with his sec...</td>\n",
       "      <td>[35]</td>\n",
       "      <td>[Comedy]</td>\n",
       "    </tr>\n",
       "  </tbody>\n",
       "</table>\n",
       "<p>9971 rows × 4 columns</p>\n",
       "</div>"
      ],
      "text/plain": [
       "                         title  \\\n",
       "0     The Shawshank Redemption   \n",
       "1                The Godfather   \n",
       "2        The Godfather Part II   \n",
       "3             Schindler's List   \n",
       "4                 12 Angry Men   \n",
       "...                        ...   \n",
       "9975             Double Dragon   \n",
       "9976               The Fanatic   \n",
       "9977                    SPF-18   \n",
       "9978            Fantastic Four   \n",
       "9979       Natale in Sudafrica   \n",
       "\n",
       "                                               overview  \\\n",
       "0     Imprisoned in the 1940s for the double murder ...   \n",
       "1     Spanning the years 1945 to 1955 a chronicle of...   \n",
       "2     In the continuing saga of the Corleone crime f...   \n",
       "3     The true story of how businessman Oskar Schind...   \n",
       "4     The defense and the prosecution have rested an...   \n",
       "...                                                 ...   \n",
       "9975  Two brothers have half of a powerful ancient C...   \n",
       "9976  A rabid film fan stalks his favorite action he...   \n",
       "9977  18yearold Penny Cooper spent years pining for ...   \n",
       "9978  Four young outsiders teleport to a dangerous u...   \n",
       "9979  Carlo on vacation in South Africa with his sec...   \n",
       "\n",
       "                  genre_ids                                             genres  \n",
       "0                  [18, 80]                                     [Drama, Crime]  \n",
       "1                  [18, 80]                                     [Drama, Crime]  \n",
       "2                  [18, 80]                                     [Drama, Crime]  \n",
       "3           [18, 36, 10752]                              [Drama, History, War]  \n",
       "4                      [18]                                            [Drama]  \n",
       "...                     ...                                                ...  \n",
       "9975  [28, 12, 35, 14, 878]  [Action, Adventure, Comedy, Fantasy, Science F...  \n",
       "9976               [80, 53]                                  [Crime, Thriller]  \n",
       "9977            [10749, 18]                                   [Romance, Drama]  \n",
       "9978          [28, 12, 878]               [Action, Adventure, Science Fiction]  \n",
       "9979                   [35]                                           [Comedy]  \n",
       "\n",
       "[9971 rows x 4 columns]"
      ]
     },
     "execution_count": 15,
     "metadata": {},
     "output_type": "execute_result"
    }
   ],
   "source": [
    "import ast\n",
    "import re\n",
    "\n",
    "def parse_genre_ids_alternative(x):\n",
    "    if pd.isnull(x):\n",
    "        return []\n",
    "    ids = re.findall(r'\\d+', str(x))\n",
    "    return [id_name_map[int(id)] for id in ids if int(id) in id_name_map]\n",
    "\n",
    "movies_clean['genres'] = movies_clean['genre_ids'].apply(parse_genre_ids_alternative)\n",
    "\n",
    "movies_clean"
   ]
  },
  {
   "cell_type": "markdown",
   "id": "add43955",
   "metadata": {},
   "source": [
    "An interesting topic is see how well distributed is the the occurrecies of each the genres are among our dataset.\n",
    "\n",
    "Considering that we have almost 10000 data points, it's interesting to propose the usage of imbalanced techniques such as SMOTE for classes such as\n",
    "the ones with less than 500 entries.\n",
    "\n",
    "It needs to be checked the impact since it is a multi label classification problem."
   ]
  },
  {
   "cell_type": "code",
   "execution_count": 16,
   "id": "c3dbcd11",
   "metadata": {},
   "outputs": [
    {
     "data": {
      "text/plain": [
       "Counter({'Drama': 4523,\n",
       "         'Comedy': 3626,\n",
       "         'Thriller': 2757,\n",
       "         'Action': 2349,\n",
       "         'Adventure': 1700,\n",
       "         'Romance': 1699,\n",
       "         'Crime': 1573,\n",
       "         'Horror': 1475,\n",
       "         'Science Fiction': 1235,\n",
       "         'Fantasy': 1154,\n",
       "         'Family': 1134,\n",
       "         'Mystery': 966,\n",
       "         'Animation': 910,\n",
       "         'History': 490,\n",
       "         'War': 324,\n",
       "         'Music': 279,\n",
       "         'Western': 152,\n",
       "         'TV Movie': 119})"
      ]
     },
     "execution_count": 16,
     "metadata": {},
     "output_type": "execute_result"
    }
   ],
   "source": [
    "from ast import literal_eval\n",
    "from itertools import chain\n",
    "from collections import Counter\n",
    "\n",
    "\n",
    "genre_list_id = list(chain.from_iterable(df_movies[\"genre_ids\"].apply(literal_eval)))\n",
    "\n",
    "genre_list = [id_name_map[genre_id] for genre_id in genre_list_id if genre_id in id_name_map]\n",
    "\n",
    "genre_counter = Counter(genre_list)\n",
    "\n",
    "genre_counter"
   ]
  },
  {
   "cell_type": "markdown",
   "id": "cf205d40",
   "metadata": {},
   "source": [
    "Now we have a prettier way to see the genres distributions. It'll be seen after that some n-grams are related to these genre distributions."
   ]
  },
  {
   "cell_type": "code",
   "execution_count": 17,
   "id": "b91a337e",
   "metadata": {},
   "outputs": [
    {
     "data": {
      "application/vnd.plotly.v1+json": {
       "config": {
        "plotlyServerURL": "https://plot.ly"
       },
       "data": [
        {
         "hovertemplate": "Genre=%{x}<br>Count=%{y}<extra></extra>",
         "legendgroup": "",
         "marker": {
          "color": "#636efa",
          "pattern": {
           "shape": ""
          }
         },
         "name": "",
         "orientation": "v",
         "showlegend": false,
         "textposition": "auto",
         "type": "bar",
         "x": [
          "Drama",
          "Comedy",
          "Thriller",
          "Action",
          "Adventure",
          "Romance",
          "Crime",
          "Horror",
          "Science Fiction",
          "Fantasy",
          "Family",
          "Mystery",
          "Animation",
          "History",
          "War",
          "Music",
          "Western",
          "TV Movie"
         ],
         "xaxis": "x",
         "y": {
          "bdata": "pxElDsUKLAmkBqAGJAbDBdMEfwRsBMYDjAPqAUQBFwGYAHcA",
          "dtype": "i2"
         },
         "yaxis": "y"
        }
       ],
       "layout": {
        "barmode": "relative",
        "legend": {
         "tracegroupgap": 0
        },
        "template": {
         "data": {
          "bar": [
           {
            "error_x": {
             "color": "#2a3f5f"
            },
            "error_y": {
             "color": "#2a3f5f"
            },
            "marker": {
             "line": {
              "color": "#E5ECF6",
              "width": 0.5
             },
             "pattern": {
              "fillmode": "overlay",
              "size": 10,
              "solidity": 0.2
             }
            },
            "type": "bar"
           }
          ],
          "barpolar": [
           {
            "marker": {
             "line": {
              "color": "#E5ECF6",
              "width": 0.5
             },
             "pattern": {
              "fillmode": "overlay",
              "size": 10,
              "solidity": 0.2
             }
            },
            "type": "barpolar"
           }
          ],
          "carpet": [
           {
            "aaxis": {
             "endlinecolor": "#2a3f5f",
             "gridcolor": "white",
             "linecolor": "white",
             "minorgridcolor": "white",
             "startlinecolor": "#2a3f5f"
            },
            "baxis": {
             "endlinecolor": "#2a3f5f",
             "gridcolor": "white",
             "linecolor": "white",
             "minorgridcolor": "white",
             "startlinecolor": "#2a3f5f"
            },
            "type": "carpet"
           }
          ],
          "choropleth": [
           {
            "colorbar": {
             "outlinewidth": 0,
             "ticks": ""
            },
            "type": "choropleth"
           }
          ],
          "contour": [
           {
            "colorbar": {
             "outlinewidth": 0,
             "ticks": ""
            },
            "colorscale": [
             [
              0,
              "#0d0887"
             ],
             [
              0.1111111111111111,
              "#46039f"
             ],
             [
              0.2222222222222222,
              "#7201a8"
             ],
             [
              0.3333333333333333,
              "#9c179e"
             ],
             [
              0.4444444444444444,
              "#bd3786"
             ],
             [
              0.5555555555555556,
              "#d8576b"
             ],
             [
              0.6666666666666666,
              "#ed7953"
             ],
             [
              0.7777777777777778,
              "#fb9f3a"
             ],
             [
              0.8888888888888888,
              "#fdca26"
             ],
             [
              1,
              "#f0f921"
             ]
            ],
            "type": "contour"
           }
          ],
          "contourcarpet": [
           {
            "colorbar": {
             "outlinewidth": 0,
             "ticks": ""
            },
            "type": "contourcarpet"
           }
          ],
          "heatmap": [
           {
            "colorbar": {
             "outlinewidth": 0,
             "ticks": ""
            },
            "colorscale": [
             [
              0,
              "#0d0887"
             ],
             [
              0.1111111111111111,
              "#46039f"
             ],
             [
              0.2222222222222222,
              "#7201a8"
             ],
             [
              0.3333333333333333,
              "#9c179e"
             ],
             [
              0.4444444444444444,
              "#bd3786"
             ],
             [
              0.5555555555555556,
              "#d8576b"
             ],
             [
              0.6666666666666666,
              "#ed7953"
             ],
             [
              0.7777777777777778,
              "#fb9f3a"
             ],
             [
              0.8888888888888888,
              "#fdca26"
             ],
             [
              1,
              "#f0f921"
             ]
            ],
            "type": "heatmap"
           }
          ],
          "histogram": [
           {
            "marker": {
             "pattern": {
              "fillmode": "overlay",
              "size": 10,
              "solidity": 0.2
             }
            },
            "type": "histogram"
           }
          ],
          "histogram2d": [
           {
            "colorbar": {
             "outlinewidth": 0,
             "ticks": ""
            },
            "colorscale": [
             [
              0,
              "#0d0887"
             ],
             [
              0.1111111111111111,
              "#46039f"
             ],
             [
              0.2222222222222222,
              "#7201a8"
             ],
             [
              0.3333333333333333,
              "#9c179e"
             ],
             [
              0.4444444444444444,
              "#bd3786"
             ],
             [
              0.5555555555555556,
              "#d8576b"
             ],
             [
              0.6666666666666666,
              "#ed7953"
             ],
             [
              0.7777777777777778,
              "#fb9f3a"
             ],
             [
              0.8888888888888888,
              "#fdca26"
             ],
             [
              1,
              "#f0f921"
             ]
            ],
            "type": "histogram2d"
           }
          ],
          "histogram2dcontour": [
           {
            "colorbar": {
             "outlinewidth": 0,
             "ticks": ""
            },
            "colorscale": [
             [
              0,
              "#0d0887"
             ],
             [
              0.1111111111111111,
              "#46039f"
             ],
             [
              0.2222222222222222,
              "#7201a8"
             ],
             [
              0.3333333333333333,
              "#9c179e"
             ],
             [
              0.4444444444444444,
              "#bd3786"
             ],
             [
              0.5555555555555556,
              "#d8576b"
             ],
             [
              0.6666666666666666,
              "#ed7953"
             ],
             [
              0.7777777777777778,
              "#fb9f3a"
             ],
             [
              0.8888888888888888,
              "#fdca26"
             ],
             [
              1,
              "#f0f921"
             ]
            ],
            "type": "histogram2dcontour"
           }
          ],
          "mesh3d": [
           {
            "colorbar": {
             "outlinewidth": 0,
             "ticks": ""
            },
            "type": "mesh3d"
           }
          ],
          "parcoords": [
           {
            "line": {
             "colorbar": {
              "outlinewidth": 0,
              "ticks": ""
             }
            },
            "type": "parcoords"
           }
          ],
          "pie": [
           {
            "automargin": true,
            "type": "pie"
           }
          ],
          "scatter": [
           {
            "fillpattern": {
             "fillmode": "overlay",
             "size": 10,
             "solidity": 0.2
            },
            "type": "scatter"
           }
          ],
          "scatter3d": [
           {
            "line": {
             "colorbar": {
              "outlinewidth": 0,
              "ticks": ""
             }
            },
            "marker": {
             "colorbar": {
              "outlinewidth": 0,
              "ticks": ""
             }
            },
            "type": "scatter3d"
           }
          ],
          "scattercarpet": [
           {
            "marker": {
             "colorbar": {
              "outlinewidth": 0,
              "ticks": ""
             }
            },
            "type": "scattercarpet"
           }
          ],
          "scattergeo": [
           {
            "marker": {
             "colorbar": {
              "outlinewidth": 0,
              "ticks": ""
             }
            },
            "type": "scattergeo"
           }
          ],
          "scattergl": [
           {
            "marker": {
             "colorbar": {
              "outlinewidth": 0,
              "ticks": ""
             }
            },
            "type": "scattergl"
           }
          ],
          "scattermap": [
           {
            "marker": {
             "colorbar": {
              "outlinewidth": 0,
              "ticks": ""
             }
            },
            "type": "scattermap"
           }
          ],
          "scattermapbox": [
           {
            "marker": {
             "colorbar": {
              "outlinewidth": 0,
              "ticks": ""
             }
            },
            "type": "scattermapbox"
           }
          ],
          "scatterpolar": [
           {
            "marker": {
             "colorbar": {
              "outlinewidth": 0,
              "ticks": ""
             }
            },
            "type": "scatterpolar"
           }
          ],
          "scatterpolargl": [
           {
            "marker": {
             "colorbar": {
              "outlinewidth": 0,
              "ticks": ""
             }
            },
            "type": "scatterpolargl"
           }
          ],
          "scatterternary": [
           {
            "marker": {
             "colorbar": {
              "outlinewidth": 0,
              "ticks": ""
             }
            },
            "type": "scatterternary"
           }
          ],
          "surface": [
           {
            "colorbar": {
             "outlinewidth": 0,
             "ticks": ""
            },
            "colorscale": [
             [
              0,
              "#0d0887"
             ],
             [
              0.1111111111111111,
              "#46039f"
             ],
             [
              0.2222222222222222,
              "#7201a8"
             ],
             [
              0.3333333333333333,
              "#9c179e"
             ],
             [
              0.4444444444444444,
              "#bd3786"
             ],
             [
              0.5555555555555556,
              "#d8576b"
             ],
             [
              0.6666666666666666,
              "#ed7953"
             ],
             [
              0.7777777777777778,
              "#fb9f3a"
             ],
             [
              0.8888888888888888,
              "#fdca26"
             ],
             [
              1,
              "#f0f921"
             ]
            ],
            "type": "surface"
           }
          ],
          "table": [
           {
            "cells": {
             "fill": {
              "color": "#EBF0F8"
             },
             "line": {
              "color": "white"
             }
            },
            "header": {
             "fill": {
              "color": "#C8D4E3"
             },
             "line": {
              "color": "white"
             }
            },
            "type": "table"
           }
          ]
         },
         "layout": {
          "annotationdefaults": {
           "arrowcolor": "#2a3f5f",
           "arrowhead": 0,
           "arrowwidth": 1
          },
          "autotypenumbers": "strict",
          "coloraxis": {
           "colorbar": {
            "outlinewidth": 0,
            "ticks": ""
           }
          },
          "colorscale": {
           "diverging": [
            [
             0,
             "#8e0152"
            ],
            [
             0.1,
             "#c51b7d"
            ],
            [
             0.2,
             "#de77ae"
            ],
            [
             0.3,
             "#f1b6da"
            ],
            [
             0.4,
             "#fde0ef"
            ],
            [
             0.5,
             "#f7f7f7"
            ],
            [
             0.6,
             "#e6f5d0"
            ],
            [
             0.7,
             "#b8e186"
            ],
            [
             0.8,
             "#7fbc41"
            ],
            [
             0.9,
             "#4d9221"
            ],
            [
             1,
             "#276419"
            ]
           ],
           "sequential": [
            [
             0,
             "#0d0887"
            ],
            [
             0.1111111111111111,
             "#46039f"
            ],
            [
             0.2222222222222222,
             "#7201a8"
            ],
            [
             0.3333333333333333,
             "#9c179e"
            ],
            [
             0.4444444444444444,
             "#bd3786"
            ],
            [
             0.5555555555555556,
             "#d8576b"
            ],
            [
             0.6666666666666666,
             "#ed7953"
            ],
            [
             0.7777777777777778,
             "#fb9f3a"
            ],
            [
             0.8888888888888888,
             "#fdca26"
            ],
            [
             1,
             "#f0f921"
            ]
           ],
           "sequentialminus": [
            [
             0,
             "#0d0887"
            ],
            [
             0.1111111111111111,
             "#46039f"
            ],
            [
             0.2222222222222222,
             "#7201a8"
            ],
            [
             0.3333333333333333,
             "#9c179e"
            ],
            [
             0.4444444444444444,
             "#bd3786"
            ],
            [
             0.5555555555555556,
             "#d8576b"
            ],
            [
             0.6666666666666666,
             "#ed7953"
            ],
            [
             0.7777777777777778,
             "#fb9f3a"
            ],
            [
             0.8888888888888888,
             "#fdca26"
            ],
            [
             1,
             "#f0f921"
            ]
           ]
          },
          "colorway": [
           "#636efa",
           "#EF553B",
           "#00cc96",
           "#ab63fa",
           "#FFA15A",
           "#19d3f3",
           "#FF6692",
           "#B6E880",
           "#FF97FF",
           "#FECB52"
          ],
          "font": {
           "color": "#2a3f5f"
          },
          "geo": {
           "bgcolor": "white",
           "lakecolor": "white",
           "landcolor": "#E5ECF6",
           "showlakes": true,
           "showland": true,
           "subunitcolor": "white"
          },
          "hoverlabel": {
           "align": "left"
          },
          "hovermode": "closest",
          "mapbox": {
           "style": "light"
          },
          "paper_bgcolor": "white",
          "plot_bgcolor": "#E5ECF6",
          "polar": {
           "angularaxis": {
            "gridcolor": "white",
            "linecolor": "white",
            "ticks": ""
           },
           "bgcolor": "#E5ECF6",
           "radialaxis": {
            "gridcolor": "white",
            "linecolor": "white",
            "ticks": ""
           }
          },
          "scene": {
           "xaxis": {
            "backgroundcolor": "#E5ECF6",
            "gridcolor": "white",
            "gridwidth": 2,
            "linecolor": "white",
            "showbackground": true,
            "ticks": "",
            "zerolinecolor": "white"
           },
           "yaxis": {
            "backgroundcolor": "#E5ECF6",
            "gridcolor": "white",
            "gridwidth": 2,
            "linecolor": "white",
            "showbackground": true,
            "ticks": "",
            "zerolinecolor": "white"
           },
           "zaxis": {
            "backgroundcolor": "#E5ECF6",
            "gridcolor": "white",
            "gridwidth": 2,
            "linecolor": "white",
            "showbackground": true,
            "ticks": "",
            "zerolinecolor": "white"
           }
          },
          "shapedefaults": {
           "line": {
            "color": "#2a3f5f"
           }
          },
          "ternary": {
           "aaxis": {
            "gridcolor": "white",
            "linecolor": "white",
            "ticks": ""
           },
           "baxis": {
            "gridcolor": "white",
            "linecolor": "white",
            "ticks": ""
           },
           "bgcolor": "#E5ECF6",
           "caxis": {
            "gridcolor": "white",
            "linecolor": "white",
            "ticks": ""
           }
          },
          "title": {
           "x": 0.05
          },
          "xaxis": {
           "automargin": true,
           "gridcolor": "white",
           "linecolor": "white",
           "ticks": "",
           "title": {
            "standoff": 15
           },
           "zerolinecolor": "white",
           "zerolinewidth": 2
          },
          "yaxis": {
           "automargin": true,
           "gridcolor": "white",
           "linecolor": "white",
           "ticks": "",
           "title": {
            "standoff": 15
           },
           "zerolinecolor": "white",
           "zerolinewidth": 2
          }
         }
        },
        "title": {
         "text": "Genre Distribution"
        },
        "xaxis": {
         "anchor": "y",
         "domain": [
          0,
          1
         ],
         "tickangle": -45,
         "title": {
          "text": "Genre"
         }
        },
        "yaxis": {
         "anchor": "x",
         "domain": [
          0,
          1
         ],
         "title": {
          "text": "Count"
         }
        }
       }
      }
     },
     "metadata": {},
     "output_type": "display_data"
    }
   ],
   "source": [
    "import plotly.express as px\n",
    "\n",
    "\n",
    "exploded_genres = movies_clean.explode('genres')\n",
    "\n",
    "# Genre counts\n",
    "genre_counts = exploded_genres['genres'].value_counts().reset_index()\n",
    "genre_counts.columns = ['Genre', 'Count']\n",
    "\n",
    "# Plot with Plotly\n",
    "fig = px.bar(genre_counts, x='Genre', y='Count', title='Genre Distribution')\n",
    "fig.update_layout(xaxis_tickangle=-45)\n",
    "fig.show()"
   ]
  },
  {
   "cell_type": "markdown",
   "id": "6b4625ad",
   "metadata": {},
   "source": [
    "After removing stop words, we can observe that meaningful content words like \"life\", \"young\", \"world\", \"family\", \"love\" have emerged as the most frequent terms. This is an improvement over our case with stopwords\n",
    "\n",
    "However, these common content words still appear frequently across multiple genres and don't necessarily help distinguish between them."
   ]
  },
  {
   "cell_type": "code",
   "execution_count": 18,
   "id": "75ba7c5a",
   "metadata": {},
   "outputs": [
    {
     "name": "stderr",
     "output_type": "stream",
     "text": [
      "/tmp/ipykernel_26613/457518852.py:13: SettingWithCopyWarning:\n",
      "\n",
      "\n",
      "A value is trying to be set on a copy of a slice from a DataFrame.\n",
      "Try using .loc[row_indexer,col_indexer] = value instead\n",
      "\n",
      "See the caveats in the documentation: https://pandas.pydata.org/pandas-docs/stable/user_guide/indexing.html#returning-a-view-versus-a-copy\n",
      "\n"
     ]
    },
    {
     "data": {
      "application/vnd.plotly.v1+json": {
       "config": {
        "plotlyServerURL": "https://plot.ly"
       },
       "data": [
        {
         "type": "bar",
         "x": [
          "life",
          "find",
          "new",
          "young",
          "world",
          "family",
          "friend",
          "man",
          "year",
          "woman",
          "love",
          "help",
          "story",
          "home",
          "time",
          "father",
          "girl",
          "way",
          "begin",
          "school",
          "day",
          "soon",
          "set",
          "group",
          "war",
          "daughter",
          "wife",
          "son",
          "turn",
          "mysterious",
          "town",
          "come",
          "city",
          "meet",
          "team",
          "mother",
          "try",
          "secret",
          "take",
          "save"
         ],
         "y": [
          2085,
          1523,
          1369,
          1319,
          1138,
          1136,
          1051,
          932,
          877,
          836,
          817,
          650,
          630,
          627,
          625,
          597,
          592,
          570,
          569,
          565,
          560,
          524,
          518,
          516,
          503,
          498,
          495,
          495,
          495,
          489,
          486,
          485,
          485,
          478,
          478,
          476,
          465,
          450,
          441,
          440
         ]
        }
       ],
       "layout": {
        "template": {
         "data": {
          "bar": [
           {
            "error_x": {
             "color": "#2a3f5f"
            },
            "error_y": {
             "color": "#2a3f5f"
            },
            "marker": {
             "line": {
              "color": "#E5ECF6",
              "width": 0.5
             },
             "pattern": {
              "fillmode": "overlay",
              "size": 10,
              "solidity": 0.2
             }
            },
            "type": "bar"
           }
          ],
          "barpolar": [
           {
            "marker": {
             "line": {
              "color": "#E5ECF6",
              "width": 0.5
             },
             "pattern": {
              "fillmode": "overlay",
              "size": 10,
              "solidity": 0.2
             }
            },
            "type": "barpolar"
           }
          ],
          "carpet": [
           {
            "aaxis": {
             "endlinecolor": "#2a3f5f",
             "gridcolor": "white",
             "linecolor": "white",
             "minorgridcolor": "white",
             "startlinecolor": "#2a3f5f"
            },
            "baxis": {
             "endlinecolor": "#2a3f5f",
             "gridcolor": "white",
             "linecolor": "white",
             "minorgridcolor": "white",
             "startlinecolor": "#2a3f5f"
            },
            "type": "carpet"
           }
          ],
          "choropleth": [
           {
            "colorbar": {
             "outlinewidth": 0,
             "ticks": ""
            },
            "type": "choropleth"
           }
          ],
          "contour": [
           {
            "colorbar": {
             "outlinewidth": 0,
             "ticks": ""
            },
            "colorscale": [
             [
              0,
              "#0d0887"
             ],
             [
              0.1111111111111111,
              "#46039f"
             ],
             [
              0.2222222222222222,
              "#7201a8"
             ],
             [
              0.3333333333333333,
              "#9c179e"
             ],
             [
              0.4444444444444444,
              "#bd3786"
             ],
             [
              0.5555555555555556,
              "#d8576b"
             ],
             [
              0.6666666666666666,
              "#ed7953"
             ],
             [
              0.7777777777777778,
              "#fb9f3a"
             ],
             [
              0.8888888888888888,
              "#fdca26"
             ],
             [
              1,
              "#f0f921"
             ]
            ],
            "type": "contour"
           }
          ],
          "contourcarpet": [
           {
            "colorbar": {
             "outlinewidth": 0,
             "ticks": ""
            },
            "type": "contourcarpet"
           }
          ],
          "heatmap": [
           {
            "colorbar": {
             "outlinewidth": 0,
             "ticks": ""
            },
            "colorscale": [
             [
              0,
              "#0d0887"
             ],
             [
              0.1111111111111111,
              "#46039f"
             ],
             [
              0.2222222222222222,
              "#7201a8"
             ],
             [
              0.3333333333333333,
              "#9c179e"
             ],
             [
              0.4444444444444444,
              "#bd3786"
             ],
             [
              0.5555555555555556,
              "#d8576b"
             ],
             [
              0.6666666666666666,
              "#ed7953"
             ],
             [
              0.7777777777777778,
              "#fb9f3a"
             ],
             [
              0.8888888888888888,
              "#fdca26"
             ],
             [
              1,
              "#f0f921"
             ]
            ],
            "type": "heatmap"
           }
          ],
          "histogram": [
           {
            "marker": {
             "pattern": {
              "fillmode": "overlay",
              "size": 10,
              "solidity": 0.2
             }
            },
            "type": "histogram"
           }
          ],
          "histogram2d": [
           {
            "colorbar": {
             "outlinewidth": 0,
             "ticks": ""
            },
            "colorscale": [
             [
              0,
              "#0d0887"
             ],
             [
              0.1111111111111111,
              "#46039f"
             ],
             [
              0.2222222222222222,
              "#7201a8"
             ],
             [
              0.3333333333333333,
              "#9c179e"
             ],
             [
              0.4444444444444444,
              "#bd3786"
             ],
             [
              0.5555555555555556,
              "#d8576b"
             ],
             [
              0.6666666666666666,
              "#ed7953"
             ],
             [
              0.7777777777777778,
              "#fb9f3a"
             ],
             [
              0.8888888888888888,
              "#fdca26"
             ],
             [
              1,
              "#f0f921"
             ]
            ],
            "type": "histogram2d"
           }
          ],
          "histogram2dcontour": [
           {
            "colorbar": {
             "outlinewidth": 0,
             "ticks": ""
            },
            "colorscale": [
             [
              0,
              "#0d0887"
             ],
             [
              0.1111111111111111,
              "#46039f"
             ],
             [
              0.2222222222222222,
              "#7201a8"
             ],
             [
              0.3333333333333333,
              "#9c179e"
             ],
             [
              0.4444444444444444,
              "#bd3786"
             ],
             [
              0.5555555555555556,
              "#d8576b"
             ],
             [
              0.6666666666666666,
              "#ed7953"
             ],
             [
              0.7777777777777778,
              "#fb9f3a"
             ],
             [
              0.8888888888888888,
              "#fdca26"
             ],
             [
              1,
              "#f0f921"
             ]
            ],
            "type": "histogram2dcontour"
           }
          ],
          "mesh3d": [
           {
            "colorbar": {
             "outlinewidth": 0,
             "ticks": ""
            },
            "type": "mesh3d"
           }
          ],
          "parcoords": [
           {
            "line": {
             "colorbar": {
              "outlinewidth": 0,
              "ticks": ""
             }
            },
            "type": "parcoords"
           }
          ],
          "pie": [
           {
            "automargin": true,
            "type": "pie"
           }
          ],
          "scatter": [
           {
            "fillpattern": {
             "fillmode": "overlay",
             "size": 10,
             "solidity": 0.2
            },
            "type": "scatter"
           }
          ],
          "scatter3d": [
           {
            "line": {
             "colorbar": {
              "outlinewidth": 0,
              "ticks": ""
             }
            },
            "marker": {
             "colorbar": {
              "outlinewidth": 0,
              "ticks": ""
             }
            },
            "type": "scatter3d"
           }
          ],
          "scattercarpet": [
           {
            "marker": {
             "colorbar": {
              "outlinewidth": 0,
              "ticks": ""
             }
            },
            "type": "scattercarpet"
           }
          ],
          "scattergeo": [
           {
            "marker": {
             "colorbar": {
              "outlinewidth": 0,
              "ticks": ""
             }
            },
            "type": "scattergeo"
           }
          ],
          "scattergl": [
           {
            "marker": {
             "colorbar": {
              "outlinewidth": 0,
              "ticks": ""
             }
            },
            "type": "scattergl"
           }
          ],
          "scattermap": [
           {
            "marker": {
             "colorbar": {
              "outlinewidth": 0,
              "ticks": ""
             }
            },
            "type": "scattermap"
           }
          ],
          "scattermapbox": [
           {
            "marker": {
             "colorbar": {
              "outlinewidth": 0,
              "ticks": ""
             }
            },
            "type": "scattermapbox"
           }
          ],
          "scatterpolar": [
           {
            "marker": {
             "colorbar": {
              "outlinewidth": 0,
              "ticks": ""
             }
            },
            "type": "scatterpolar"
           }
          ],
          "scatterpolargl": [
           {
            "marker": {
             "colorbar": {
              "outlinewidth": 0,
              "ticks": ""
             }
            },
            "type": "scatterpolargl"
           }
          ],
          "scatterternary": [
           {
            "marker": {
             "colorbar": {
              "outlinewidth": 0,
              "ticks": ""
             }
            },
            "type": "scatterternary"
           }
          ],
          "surface": [
           {
            "colorbar": {
             "outlinewidth": 0,
             "ticks": ""
            },
            "colorscale": [
             [
              0,
              "#0d0887"
             ],
             [
              0.1111111111111111,
              "#46039f"
             ],
             [
              0.2222222222222222,
              "#7201a8"
             ],
             [
              0.3333333333333333,
              "#9c179e"
             ],
             [
              0.4444444444444444,
              "#bd3786"
             ],
             [
              0.5555555555555556,
              "#d8576b"
             ],
             [
              0.6666666666666666,
              "#ed7953"
             ],
             [
              0.7777777777777778,
              "#fb9f3a"
             ],
             [
              0.8888888888888888,
              "#fdca26"
             ],
             [
              1,
              "#f0f921"
             ]
            ],
            "type": "surface"
           }
          ],
          "table": [
           {
            "cells": {
             "fill": {
              "color": "#EBF0F8"
             },
             "line": {
              "color": "white"
             }
            },
            "header": {
             "fill": {
              "color": "#C8D4E3"
             },
             "line": {
              "color": "white"
             }
            },
            "type": "table"
           }
          ]
         },
         "layout": {
          "annotationdefaults": {
           "arrowcolor": "#2a3f5f",
           "arrowhead": 0,
           "arrowwidth": 1
          },
          "autotypenumbers": "strict",
          "coloraxis": {
           "colorbar": {
            "outlinewidth": 0,
            "ticks": ""
           }
          },
          "colorscale": {
           "diverging": [
            [
             0,
             "#8e0152"
            ],
            [
             0.1,
             "#c51b7d"
            ],
            [
             0.2,
             "#de77ae"
            ],
            [
             0.3,
             "#f1b6da"
            ],
            [
             0.4,
             "#fde0ef"
            ],
            [
             0.5,
             "#f7f7f7"
            ],
            [
             0.6,
             "#e6f5d0"
            ],
            [
             0.7,
             "#b8e186"
            ],
            [
             0.8,
             "#7fbc41"
            ],
            [
             0.9,
             "#4d9221"
            ],
            [
             1,
             "#276419"
            ]
           ],
           "sequential": [
            [
             0,
             "#0d0887"
            ],
            [
             0.1111111111111111,
             "#46039f"
            ],
            [
             0.2222222222222222,
             "#7201a8"
            ],
            [
             0.3333333333333333,
             "#9c179e"
            ],
            [
             0.4444444444444444,
             "#bd3786"
            ],
            [
             0.5555555555555556,
             "#d8576b"
            ],
            [
             0.6666666666666666,
             "#ed7953"
            ],
            [
             0.7777777777777778,
             "#fb9f3a"
            ],
            [
             0.8888888888888888,
             "#fdca26"
            ],
            [
             1,
             "#f0f921"
            ]
           ],
           "sequentialminus": [
            [
             0,
             "#0d0887"
            ],
            [
             0.1111111111111111,
             "#46039f"
            ],
            [
             0.2222222222222222,
             "#7201a8"
            ],
            [
             0.3333333333333333,
             "#9c179e"
            ],
            [
             0.4444444444444444,
             "#bd3786"
            ],
            [
             0.5555555555555556,
             "#d8576b"
            ],
            [
             0.6666666666666666,
             "#ed7953"
            ],
            [
             0.7777777777777778,
             "#fb9f3a"
            ],
            [
             0.8888888888888888,
             "#fdca26"
            ],
            [
             1,
             "#f0f921"
            ]
           ]
          },
          "colorway": [
           "#636efa",
           "#EF553B",
           "#00cc96",
           "#ab63fa",
           "#FFA15A",
           "#19d3f3",
           "#FF6692",
           "#B6E880",
           "#FF97FF",
           "#FECB52"
          ],
          "font": {
           "color": "#2a3f5f"
          },
          "geo": {
           "bgcolor": "white",
           "lakecolor": "white",
           "landcolor": "#E5ECF6",
           "showlakes": true,
           "showland": true,
           "subunitcolor": "white"
          },
          "hoverlabel": {
           "align": "left"
          },
          "hovermode": "closest",
          "mapbox": {
           "style": "light"
          },
          "paper_bgcolor": "white",
          "plot_bgcolor": "#E5ECF6",
          "polar": {
           "angularaxis": {
            "gridcolor": "white",
            "linecolor": "white",
            "ticks": ""
           },
           "bgcolor": "#E5ECF6",
           "radialaxis": {
            "gridcolor": "white",
            "linecolor": "white",
            "ticks": ""
           }
          },
          "scene": {
           "xaxis": {
            "backgroundcolor": "#E5ECF6",
            "gridcolor": "white",
            "gridwidth": 2,
            "linecolor": "white",
            "showbackground": true,
            "ticks": "",
            "zerolinecolor": "white"
           },
           "yaxis": {
            "backgroundcolor": "#E5ECF6",
            "gridcolor": "white",
            "gridwidth": 2,
            "linecolor": "white",
            "showbackground": true,
            "ticks": "",
            "zerolinecolor": "white"
           },
           "zaxis": {
            "backgroundcolor": "#E5ECF6",
            "gridcolor": "white",
            "gridwidth": 2,
            "linecolor": "white",
            "showbackground": true,
            "ticks": "",
            "zerolinecolor": "white"
           }
          },
          "shapedefaults": {
           "line": {
            "color": "#2a3f5f"
           }
          },
          "ternary": {
           "aaxis": {
            "gridcolor": "white",
            "linecolor": "white",
            "ticks": ""
           },
           "baxis": {
            "gridcolor": "white",
            "linecolor": "white",
            "ticks": ""
           },
           "bgcolor": "#E5ECF6",
           "caxis": {
            "gridcolor": "white",
            "linecolor": "white",
            "ticks": ""
           }
          },
          "title": {
           "x": 0.05
          },
          "xaxis": {
           "automargin": true,
           "gridcolor": "white",
           "linecolor": "white",
           "ticks": "",
           "title": {
            "standoff": 15
           },
           "zerolinecolor": "white",
           "zerolinewidth": 2
          },
          "yaxis": {
           "automargin": true,
           "gridcolor": "white",
           "linecolor": "white",
           "ticks": "",
           "title": {
            "standoff": 15
           },
           "zerolinecolor": "white",
           "zerolinewidth": 2
          }
         }
        },
        "title": {
         "text": "Top 40 most frequent words in the text",
         "x": 0.5
        },
        "xaxis": {
         "tickangle": -45,
         "title": {
          "text": "Words"
         }
        },
        "yaxis": {
         "title": {
          "text": "Frequency"
         }
        }
       }
      }
     },
     "metadata": {},
     "output_type": "display_data"
    }
   ],
   "source": [
    "import string\n",
    "\n",
    "stop_words = set(stopwords.words('english')) | set(stop_words_spacy)\n",
    "lemmatizer = WordNetLemmatizer()\n",
    "\n",
    "def clean_text(text):\n",
    "    text = text.translate(str.maketrans('', '', string.punctuation))\n",
    "    text = text.lower()\n",
    "    tokens = text.split()\n",
    "    tokens = [lemmatizer.lemmatize(word) for word in tokens if word not in stop_words]\n",
    "    return ' '.join(tokens)\n",
    "\n",
    "movies_clean['cleaned_overview'] = movies_clean['overview'].apply(clean_text)\n",
    "most_frequent_words(movies_clean[\"cleaned_overview\"], 40)"
   ]
  },
  {
   "cell_type": "markdown",
   "id": "d79c74be",
   "metadata": {},
   "source": [
    "Some of the representations of the cleaned overview text with CountVectorizer e TF-IDF."
   ]
  },
  {
   "cell_type": "code",
   "execution_count": 19,
   "id": "6cdf2365",
   "metadata": {},
   "outputs": [
    {
     "name": "stdout",
     "output_type": "stream",
     "text": [
      "One-hot matrix dimensions: (9971, 1000)\n"
     ]
    },
    {
     "data": {
      "application/vnd.microsoft.datawrangler.viewer.v0+json": {
       "columns": [
        {
         "name": "index",
         "rawType": "int64",
         "type": "integer"
        },
        {
         "name": "abandoned",
         "rawType": "int64",
         "type": "integer"
        },
        {
         "name": "ability",
         "rawType": "int64",
         "type": "integer"
        },
        {
         "name": "able",
         "rawType": "int64",
         "type": "integer"
        },
        {
         "name": "accident",
         "rawType": "int64",
         "type": "integer"
        },
        {
         "name": "accidentally",
         "rawType": "int64",
         "type": "integer"
        },
        {
         "name": "accused",
         "rawType": "int64",
         "type": "integer"
        },
        {
         "name": "act",
         "rawType": "int64",
         "type": "integer"
        },
        {
         "name": "action",
         "rawType": "int64",
         "type": "integer"
        },
        {
         "name": "actor",
         "rawType": "int64",
         "type": "integer"
        },
        {
         "name": "actress",
         "rawType": "int64",
         "type": "integer"
        }
       ],
       "conversionMethod": "pd.DataFrame",
       "ref": "3a22a9b7-86cc-4251-b2a2-5659a10a3bab",
       "rows": [
        [
         "0",
         "0",
         "0",
         "0",
         "0",
         "0",
         "0",
         "0",
         "0",
         "0",
         "0"
        ],
        [
         "1",
         "0",
         "0",
         "0",
         "0",
         "0",
         "0",
         "0",
         "0",
         "0",
         "0"
        ],
        [
         "2",
         "0",
         "0",
         "0",
         "0",
         "0",
         "0",
         "0",
         "0",
         "0",
         "0"
        ],
        [
         "3",
         "0",
         "0",
         "0",
         "0",
         "0",
         "0",
         "0",
         "0",
         "0",
         "0"
        ],
        [
         "4",
         "0",
         "0",
         "0",
         "0",
         "0",
         "1",
         "0",
         "0",
         "0",
         "0"
        ]
       ],
       "shape": {
        "columns": 10,
        "rows": 5
       }
      },
      "text/html": [
       "<div>\n",
       "<style scoped>\n",
       "    .dataframe tbody tr th:only-of-type {\n",
       "        vertical-align: middle;\n",
       "    }\n",
       "\n",
       "    .dataframe tbody tr th {\n",
       "        vertical-align: top;\n",
       "    }\n",
       "\n",
       "    .dataframe thead th {\n",
       "        text-align: right;\n",
       "    }\n",
       "</style>\n",
       "<table border=\"1\" class=\"dataframe\">\n",
       "  <thead>\n",
       "    <tr style=\"text-align: right;\">\n",
       "      <th></th>\n",
       "      <th>abandoned</th>\n",
       "      <th>ability</th>\n",
       "      <th>able</th>\n",
       "      <th>accident</th>\n",
       "      <th>accidentally</th>\n",
       "      <th>accused</th>\n",
       "      <th>act</th>\n",
       "      <th>action</th>\n",
       "      <th>actor</th>\n",
       "      <th>actress</th>\n",
       "    </tr>\n",
       "  </thead>\n",
       "  <tbody>\n",
       "    <tr>\n",
       "      <th>0</th>\n",
       "      <td>0</td>\n",
       "      <td>0</td>\n",
       "      <td>0</td>\n",
       "      <td>0</td>\n",
       "      <td>0</td>\n",
       "      <td>0</td>\n",
       "      <td>0</td>\n",
       "      <td>0</td>\n",
       "      <td>0</td>\n",
       "      <td>0</td>\n",
       "    </tr>\n",
       "    <tr>\n",
       "      <th>1</th>\n",
       "      <td>0</td>\n",
       "      <td>0</td>\n",
       "      <td>0</td>\n",
       "      <td>0</td>\n",
       "      <td>0</td>\n",
       "      <td>0</td>\n",
       "      <td>0</td>\n",
       "      <td>0</td>\n",
       "      <td>0</td>\n",
       "      <td>0</td>\n",
       "    </tr>\n",
       "    <tr>\n",
       "      <th>2</th>\n",
       "      <td>0</td>\n",
       "      <td>0</td>\n",
       "      <td>0</td>\n",
       "      <td>0</td>\n",
       "      <td>0</td>\n",
       "      <td>0</td>\n",
       "      <td>0</td>\n",
       "      <td>0</td>\n",
       "      <td>0</td>\n",
       "      <td>0</td>\n",
       "    </tr>\n",
       "    <tr>\n",
       "      <th>3</th>\n",
       "      <td>0</td>\n",
       "      <td>0</td>\n",
       "      <td>0</td>\n",
       "      <td>0</td>\n",
       "      <td>0</td>\n",
       "      <td>0</td>\n",
       "      <td>0</td>\n",
       "      <td>0</td>\n",
       "      <td>0</td>\n",
       "      <td>0</td>\n",
       "    </tr>\n",
       "    <tr>\n",
       "      <th>4</th>\n",
       "      <td>0</td>\n",
       "      <td>0</td>\n",
       "      <td>0</td>\n",
       "      <td>0</td>\n",
       "      <td>0</td>\n",
       "      <td>1</td>\n",
       "      <td>0</td>\n",
       "      <td>0</td>\n",
       "      <td>0</td>\n",
       "      <td>0</td>\n",
       "    </tr>\n",
       "  </tbody>\n",
       "</table>\n",
       "</div>"
      ],
      "text/plain": [
       "   abandoned  ability  able  accident  accidentally  accused  act  action  \\\n",
       "0          0        0     0         0             0        0    0       0   \n",
       "1          0        0     0         0             0        0    0       0   \n",
       "2          0        0     0         0             0        0    0       0   \n",
       "3          0        0     0         0             0        0    0       0   \n",
       "4          0        0     0         0             0        1    0       0   \n",
       "\n",
       "   actor  actress  \n",
       "0      0        0  \n",
       "1      0        0  \n",
       "2      0        0  \n",
       "3      0        0  \n",
       "4      0        0  "
      ]
     },
     "metadata": {},
     "output_type": "display_data"
    }
   ],
   "source": [
    "\n",
    "count_vec = CountVectorizer(binary=True, max_features=1000)\n",
    "\n",
    "X_count = count_vec.fit_transform(movies_clean['cleaned_overview'])\n",
    "\n",
    "count_df = pd.DataFrame(X_count.toarray(), columns=count_vec.get_feature_names_out())\n",
    "print(\"One-hot matrix dimensions:\", X_count.shape)\n",
    "display(count_df.iloc[:5, :10]) \n"
   ]
  },
  {
   "cell_type": "code",
   "execution_count": 20,
   "id": "9ff19a40",
   "metadata": {},
   "outputs": [
    {
     "name": "stdout",
     "output_type": "stream",
     "text": [
      "TF-IDF matrix dimensions: (9971, 1000)\n"
     ]
    },
    {
     "data": {
      "application/vnd.microsoft.datawrangler.viewer.v0+json": {
       "columns": [
        {
         "name": "index",
         "rawType": "int64",
         "type": "integer"
        },
        {
         "name": "abandoned",
         "rawType": "float64",
         "type": "float"
        },
        {
         "name": "ability",
         "rawType": "float64",
         "type": "float"
        },
        {
         "name": "able",
         "rawType": "float64",
         "type": "float"
        },
        {
         "name": "accident",
         "rawType": "float64",
         "type": "float"
        },
        {
         "name": "accidentally",
         "rawType": "float64",
         "type": "float"
        },
        {
         "name": "accused",
         "rawType": "float64",
         "type": "float"
        },
        {
         "name": "act",
         "rawType": "float64",
         "type": "float"
        },
        {
         "name": "action",
         "rawType": "float64",
         "type": "float"
        },
        {
         "name": "actor",
         "rawType": "float64",
         "type": "float"
        },
        {
         "name": "actress",
         "rawType": "float64",
         "type": "float"
        }
       ],
       "conversionMethod": "pd.DataFrame",
       "ref": "7714d460-a78b-4910-9629-0c8b324d3b7c",
       "rows": [
        [
         "0",
         "0.0",
         "0.0",
         "0.0",
         "0.0",
         "0.0",
         "0.0",
         "0.0",
         "0.0",
         "0.0",
         "0.0"
        ],
        [
         "1",
         "0.0",
         "0.0",
         "0.0",
         "0.0",
         "0.0",
         "0.0",
         "0.0",
         "0.0",
         "0.0",
         "0.0"
        ],
        [
         "2",
         "0.0",
         "0.0",
         "0.0",
         "0.0",
         "0.0",
         "0.0",
         "0.0",
         "0.0",
         "0.0",
         "0.0"
        ],
        [
         "3",
         "0.0",
         "0.0",
         "0.0",
         "0.0",
         "0.0",
         "0.0",
         "0.0",
         "0.0",
         "0.0",
         "0.0"
        ],
        [
         "4",
         "0.0",
         "0.0",
         "0.0",
         "0.0",
         "0.0",
         "0.3705119690503031",
         "0.0",
         "0.0",
         "0.0",
         "0.0"
        ]
       ],
       "shape": {
        "columns": 10,
        "rows": 5
       }
      },
      "text/html": [
       "<div>\n",
       "<style scoped>\n",
       "    .dataframe tbody tr th:only-of-type {\n",
       "        vertical-align: middle;\n",
       "    }\n",
       "\n",
       "    .dataframe tbody tr th {\n",
       "        vertical-align: top;\n",
       "    }\n",
       "\n",
       "    .dataframe thead th {\n",
       "        text-align: right;\n",
       "    }\n",
       "</style>\n",
       "<table border=\"1\" class=\"dataframe\">\n",
       "  <thead>\n",
       "    <tr style=\"text-align: right;\">\n",
       "      <th></th>\n",
       "      <th>abandoned</th>\n",
       "      <th>ability</th>\n",
       "      <th>able</th>\n",
       "      <th>accident</th>\n",
       "      <th>accidentally</th>\n",
       "      <th>accused</th>\n",
       "      <th>act</th>\n",
       "      <th>action</th>\n",
       "      <th>actor</th>\n",
       "      <th>actress</th>\n",
       "    </tr>\n",
       "  </thead>\n",
       "  <tbody>\n",
       "    <tr>\n",
       "      <th>0</th>\n",
       "      <td>0.0</td>\n",
       "      <td>0.0</td>\n",
       "      <td>0.0</td>\n",
       "      <td>0.0</td>\n",
       "      <td>0.0</td>\n",
       "      <td>0.000000</td>\n",
       "      <td>0.0</td>\n",
       "      <td>0.0</td>\n",
       "      <td>0.0</td>\n",
       "      <td>0.0</td>\n",
       "    </tr>\n",
       "    <tr>\n",
       "      <th>1</th>\n",
       "      <td>0.0</td>\n",
       "      <td>0.0</td>\n",
       "      <td>0.0</td>\n",
       "      <td>0.0</td>\n",
       "      <td>0.0</td>\n",
       "      <td>0.000000</td>\n",
       "      <td>0.0</td>\n",
       "      <td>0.0</td>\n",
       "      <td>0.0</td>\n",
       "      <td>0.0</td>\n",
       "    </tr>\n",
       "    <tr>\n",
       "      <th>2</th>\n",
       "      <td>0.0</td>\n",
       "      <td>0.0</td>\n",
       "      <td>0.0</td>\n",
       "      <td>0.0</td>\n",
       "      <td>0.0</td>\n",
       "      <td>0.000000</td>\n",
       "      <td>0.0</td>\n",
       "      <td>0.0</td>\n",
       "      <td>0.0</td>\n",
       "      <td>0.0</td>\n",
       "    </tr>\n",
       "    <tr>\n",
       "      <th>3</th>\n",
       "      <td>0.0</td>\n",
       "      <td>0.0</td>\n",
       "      <td>0.0</td>\n",
       "      <td>0.0</td>\n",
       "      <td>0.0</td>\n",
       "      <td>0.000000</td>\n",
       "      <td>0.0</td>\n",
       "      <td>0.0</td>\n",
       "      <td>0.0</td>\n",
       "      <td>0.0</td>\n",
       "    </tr>\n",
       "    <tr>\n",
       "      <th>4</th>\n",
       "      <td>0.0</td>\n",
       "      <td>0.0</td>\n",
       "      <td>0.0</td>\n",
       "      <td>0.0</td>\n",
       "      <td>0.0</td>\n",
       "      <td>0.370512</td>\n",
       "      <td>0.0</td>\n",
       "      <td>0.0</td>\n",
       "      <td>0.0</td>\n",
       "      <td>0.0</td>\n",
       "    </tr>\n",
       "  </tbody>\n",
       "</table>\n",
       "</div>"
      ],
      "text/plain": [
       "   abandoned  ability  able  accident  accidentally   accused  act  action  \\\n",
       "0        0.0      0.0   0.0       0.0           0.0  0.000000  0.0     0.0   \n",
       "1        0.0      0.0   0.0       0.0           0.0  0.000000  0.0     0.0   \n",
       "2        0.0      0.0   0.0       0.0           0.0  0.000000  0.0     0.0   \n",
       "3        0.0      0.0   0.0       0.0           0.0  0.000000  0.0     0.0   \n",
       "4        0.0      0.0   0.0       0.0           0.0  0.370512  0.0     0.0   \n",
       "\n",
       "   actor  actress  \n",
       "0    0.0      0.0  \n",
       "1    0.0      0.0  \n",
       "2    0.0      0.0  \n",
       "3    0.0      0.0  \n",
       "4    0.0      0.0  "
      ]
     },
     "metadata": {},
     "output_type": "display_data"
    }
   ],
   "source": [
    "tfidf_vec = TfidfVectorizer(max_features=1000, ngram_range=(1, 2))\n",
    "\n",
    "X_tfidf = tfidf_vec.fit_transform(movies_clean['cleaned_overview'])\n",
    "\n",
    "tfidf_df = pd.DataFrame(X_tfidf.toarray(), columns=tfidf_vec.get_feature_names_out())\n",
    "print(\"TF-IDF matrix dimensions:\", X_tfidf.shape)\n",
    "display(tfidf_df.iloc[:5, :10])  "
   ]
  },
  {
   "cell_type": "markdown",
   "id": "6f2b9e66",
   "metadata": {},
   "source": [
    "The bigram analysis reveals interesting patterns in the movie overviews:\n",
    "\n",
    "- Location-based phrases like \"new york\", \"los angeles\", and \"york city\" are among the most frequent, suggesting many movies are set in major cities\n",
    "- Character relationships and demographics appear often through bigrams like \"best friend\", \"young woman\", \"young man\", \"young girl\" and \"young boy\"\n",
    "- Time-related phrases such as \"year later\", \"year old\", \"year ago\" are common narrative devices\n",
    "- Plot elements emerge through phrases like \"fall love\", \"world war\", \"true story\", \"serial killer\"\n",
    "- Professional roles appear in bigrams like \"police officer\", \"fbi agent\"\n",
    "\n",
    "The high frequency of youth-related terms (\"young woman/man/girl/boy\") and relationship terms (\"best friend\", \"fall love\") suggests many movies focus on coming-of-age stories and relationships. The presence of action-oriented phrases (\"police officer\", \"serial killer\") and historical terms (\"world war\") reflects the prominence of crime, action and historical genres."
   ]
  },
  {
   "cell_type": "code",
   "execution_count": 30,
   "id": "3223a6f5",
   "metadata": {},
   "outputs": [
    {
     "data": {
      "application/vnd.plotly.v1+json": {
       "config": {
        "plotlyServerURL": "https://plot.ly"
       },
       "data": [
        {
         "hovertemplate": "Count=%{x}<br>Bigram=%{y}<extra></extra>",
         "legendgroup": "",
         "marker": {
          "color": "#636efa",
          "pattern": {
           "shape": ""
          }
         },
         "name": "",
         "orientation": "h",
         "showlegend": false,
         "textposition": "auto",
         "type": "bar",
         "x": {
          "bdata": "LwH8AMcApACOAIcAgQB5AGsAZgBjAF0AVABOAE0ASQBIAEUARABBAEAAPgA9ADwANwAyADEAMAAuAC0A",
          "dtype": "i2"
         },
         "xaxis": "x",
         "y": [
          "new york",
          "high school",
          "best friend",
          "young woman",
          "fall love",
          "los angeles",
          "world war",
          "young man",
          "york city",
          "true story",
          "serial killer",
          "war ii",
          "small town",
          "year later",
          "find way",
          "young girl",
          "return home",
          "year old",
          "soon find",
          "young boy",
          "join force",
          "police officer",
          "new life",
          "united state",
          "year ago",
          "road trip",
          "christmas eve",
          "fbi agent",
          "martial art",
          "tell story"
         ],
         "yaxis": "y"
        }
       ],
       "layout": {
        "barmode": "relative",
        "legend": {
         "tracegroupgap": 0
        },
        "template": {
         "data": {
          "bar": [
           {
            "error_x": {
             "color": "#2a3f5f"
            },
            "error_y": {
             "color": "#2a3f5f"
            },
            "marker": {
             "line": {
              "color": "#E5ECF6",
              "width": 0.5
             },
             "pattern": {
              "fillmode": "overlay",
              "size": 10,
              "solidity": 0.2
             }
            },
            "type": "bar"
           }
          ],
          "barpolar": [
           {
            "marker": {
             "line": {
              "color": "#E5ECF6",
              "width": 0.5
             },
             "pattern": {
              "fillmode": "overlay",
              "size": 10,
              "solidity": 0.2
             }
            },
            "type": "barpolar"
           }
          ],
          "carpet": [
           {
            "aaxis": {
             "endlinecolor": "#2a3f5f",
             "gridcolor": "white",
             "linecolor": "white",
             "minorgridcolor": "white",
             "startlinecolor": "#2a3f5f"
            },
            "baxis": {
             "endlinecolor": "#2a3f5f",
             "gridcolor": "white",
             "linecolor": "white",
             "minorgridcolor": "white",
             "startlinecolor": "#2a3f5f"
            },
            "type": "carpet"
           }
          ],
          "choropleth": [
           {
            "colorbar": {
             "outlinewidth": 0,
             "ticks": ""
            },
            "type": "choropleth"
           }
          ],
          "contour": [
           {
            "colorbar": {
             "outlinewidth": 0,
             "ticks": ""
            },
            "colorscale": [
             [
              0,
              "#0d0887"
             ],
             [
              0.1111111111111111,
              "#46039f"
             ],
             [
              0.2222222222222222,
              "#7201a8"
             ],
             [
              0.3333333333333333,
              "#9c179e"
             ],
             [
              0.4444444444444444,
              "#bd3786"
             ],
             [
              0.5555555555555556,
              "#d8576b"
             ],
             [
              0.6666666666666666,
              "#ed7953"
             ],
             [
              0.7777777777777778,
              "#fb9f3a"
             ],
             [
              0.8888888888888888,
              "#fdca26"
             ],
             [
              1,
              "#f0f921"
             ]
            ],
            "type": "contour"
           }
          ],
          "contourcarpet": [
           {
            "colorbar": {
             "outlinewidth": 0,
             "ticks": ""
            },
            "type": "contourcarpet"
           }
          ],
          "heatmap": [
           {
            "colorbar": {
             "outlinewidth": 0,
             "ticks": ""
            },
            "colorscale": [
             [
              0,
              "#0d0887"
             ],
             [
              0.1111111111111111,
              "#46039f"
             ],
             [
              0.2222222222222222,
              "#7201a8"
             ],
             [
              0.3333333333333333,
              "#9c179e"
             ],
             [
              0.4444444444444444,
              "#bd3786"
             ],
             [
              0.5555555555555556,
              "#d8576b"
             ],
             [
              0.6666666666666666,
              "#ed7953"
             ],
             [
              0.7777777777777778,
              "#fb9f3a"
             ],
             [
              0.8888888888888888,
              "#fdca26"
             ],
             [
              1,
              "#f0f921"
             ]
            ],
            "type": "heatmap"
           }
          ],
          "histogram": [
           {
            "marker": {
             "pattern": {
              "fillmode": "overlay",
              "size": 10,
              "solidity": 0.2
             }
            },
            "type": "histogram"
           }
          ],
          "histogram2d": [
           {
            "colorbar": {
             "outlinewidth": 0,
             "ticks": ""
            },
            "colorscale": [
             [
              0,
              "#0d0887"
             ],
             [
              0.1111111111111111,
              "#46039f"
             ],
             [
              0.2222222222222222,
              "#7201a8"
             ],
             [
              0.3333333333333333,
              "#9c179e"
             ],
             [
              0.4444444444444444,
              "#bd3786"
             ],
             [
              0.5555555555555556,
              "#d8576b"
             ],
             [
              0.6666666666666666,
              "#ed7953"
             ],
             [
              0.7777777777777778,
              "#fb9f3a"
             ],
             [
              0.8888888888888888,
              "#fdca26"
             ],
             [
              1,
              "#f0f921"
             ]
            ],
            "type": "histogram2d"
           }
          ],
          "histogram2dcontour": [
           {
            "colorbar": {
             "outlinewidth": 0,
             "ticks": ""
            },
            "colorscale": [
             [
              0,
              "#0d0887"
             ],
             [
              0.1111111111111111,
              "#46039f"
             ],
             [
              0.2222222222222222,
              "#7201a8"
             ],
             [
              0.3333333333333333,
              "#9c179e"
             ],
             [
              0.4444444444444444,
              "#bd3786"
             ],
             [
              0.5555555555555556,
              "#d8576b"
             ],
             [
              0.6666666666666666,
              "#ed7953"
             ],
             [
              0.7777777777777778,
              "#fb9f3a"
             ],
             [
              0.8888888888888888,
              "#fdca26"
             ],
             [
              1,
              "#f0f921"
             ]
            ],
            "type": "histogram2dcontour"
           }
          ],
          "mesh3d": [
           {
            "colorbar": {
             "outlinewidth": 0,
             "ticks": ""
            },
            "type": "mesh3d"
           }
          ],
          "parcoords": [
           {
            "line": {
             "colorbar": {
              "outlinewidth": 0,
              "ticks": ""
             }
            },
            "type": "parcoords"
           }
          ],
          "pie": [
           {
            "automargin": true,
            "type": "pie"
           }
          ],
          "scatter": [
           {
            "fillpattern": {
             "fillmode": "overlay",
             "size": 10,
             "solidity": 0.2
            },
            "type": "scatter"
           }
          ],
          "scatter3d": [
           {
            "line": {
             "colorbar": {
              "outlinewidth": 0,
              "ticks": ""
             }
            },
            "marker": {
             "colorbar": {
              "outlinewidth": 0,
              "ticks": ""
             }
            },
            "type": "scatter3d"
           }
          ],
          "scattercarpet": [
           {
            "marker": {
             "colorbar": {
              "outlinewidth": 0,
              "ticks": ""
             }
            },
            "type": "scattercarpet"
           }
          ],
          "scattergeo": [
           {
            "marker": {
             "colorbar": {
              "outlinewidth": 0,
              "ticks": ""
             }
            },
            "type": "scattergeo"
           }
          ],
          "scattergl": [
           {
            "marker": {
             "colorbar": {
              "outlinewidth": 0,
              "ticks": ""
             }
            },
            "type": "scattergl"
           }
          ],
          "scattermap": [
           {
            "marker": {
             "colorbar": {
              "outlinewidth": 0,
              "ticks": ""
             }
            },
            "type": "scattermap"
           }
          ],
          "scattermapbox": [
           {
            "marker": {
             "colorbar": {
              "outlinewidth": 0,
              "ticks": ""
             }
            },
            "type": "scattermapbox"
           }
          ],
          "scatterpolar": [
           {
            "marker": {
             "colorbar": {
              "outlinewidth": 0,
              "ticks": ""
             }
            },
            "type": "scatterpolar"
           }
          ],
          "scatterpolargl": [
           {
            "marker": {
             "colorbar": {
              "outlinewidth": 0,
              "ticks": ""
             }
            },
            "type": "scatterpolargl"
           }
          ],
          "scatterternary": [
           {
            "marker": {
             "colorbar": {
              "outlinewidth": 0,
              "ticks": ""
             }
            },
            "type": "scatterternary"
           }
          ],
          "surface": [
           {
            "colorbar": {
             "outlinewidth": 0,
             "ticks": ""
            },
            "colorscale": [
             [
              0,
              "#0d0887"
             ],
             [
              0.1111111111111111,
              "#46039f"
             ],
             [
              0.2222222222222222,
              "#7201a8"
             ],
             [
              0.3333333333333333,
              "#9c179e"
             ],
             [
              0.4444444444444444,
              "#bd3786"
             ],
             [
              0.5555555555555556,
              "#d8576b"
             ],
             [
              0.6666666666666666,
              "#ed7953"
             ],
             [
              0.7777777777777778,
              "#fb9f3a"
             ],
             [
              0.8888888888888888,
              "#fdca26"
             ],
             [
              1,
              "#f0f921"
             ]
            ],
            "type": "surface"
           }
          ],
          "table": [
           {
            "cells": {
             "fill": {
              "color": "#EBF0F8"
             },
             "line": {
              "color": "white"
             }
            },
            "header": {
             "fill": {
              "color": "#C8D4E3"
             },
             "line": {
              "color": "white"
             }
            },
            "type": "table"
           }
          ]
         },
         "layout": {
          "annotationdefaults": {
           "arrowcolor": "#2a3f5f",
           "arrowhead": 0,
           "arrowwidth": 1
          },
          "autotypenumbers": "strict",
          "coloraxis": {
           "colorbar": {
            "outlinewidth": 0,
            "ticks": ""
           }
          },
          "colorscale": {
           "diverging": [
            [
             0,
             "#8e0152"
            ],
            [
             0.1,
             "#c51b7d"
            ],
            [
             0.2,
             "#de77ae"
            ],
            [
             0.3,
             "#f1b6da"
            ],
            [
             0.4,
             "#fde0ef"
            ],
            [
             0.5,
             "#f7f7f7"
            ],
            [
             0.6,
             "#e6f5d0"
            ],
            [
             0.7,
             "#b8e186"
            ],
            [
             0.8,
             "#7fbc41"
            ],
            [
             0.9,
             "#4d9221"
            ],
            [
             1,
             "#276419"
            ]
           ],
           "sequential": [
            [
             0,
             "#0d0887"
            ],
            [
             0.1111111111111111,
             "#46039f"
            ],
            [
             0.2222222222222222,
             "#7201a8"
            ],
            [
             0.3333333333333333,
             "#9c179e"
            ],
            [
             0.4444444444444444,
             "#bd3786"
            ],
            [
             0.5555555555555556,
             "#d8576b"
            ],
            [
             0.6666666666666666,
             "#ed7953"
            ],
            [
             0.7777777777777778,
             "#fb9f3a"
            ],
            [
             0.8888888888888888,
             "#fdca26"
            ],
            [
             1,
             "#f0f921"
            ]
           ],
           "sequentialminus": [
            [
             0,
             "#0d0887"
            ],
            [
             0.1111111111111111,
             "#46039f"
            ],
            [
             0.2222222222222222,
             "#7201a8"
            ],
            [
             0.3333333333333333,
             "#9c179e"
            ],
            [
             0.4444444444444444,
             "#bd3786"
            ],
            [
             0.5555555555555556,
             "#d8576b"
            ],
            [
             0.6666666666666666,
             "#ed7953"
            ],
            [
             0.7777777777777778,
             "#fb9f3a"
            ],
            [
             0.8888888888888888,
             "#fdca26"
            ],
            [
             1,
             "#f0f921"
            ]
           ]
          },
          "colorway": [
           "#636efa",
           "#EF553B",
           "#00cc96",
           "#ab63fa",
           "#FFA15A",
           "#19d3f3",
           "#FF6692",
           "#B6E880",
           "#FF97FF",
           "#FECB52"
          ],
          "font": {
           "color": "#2a3f5f"
          },
          "geo": {
           "bgcolor": "white",
           "lakecolor": "white",
           "landcolor": "#E5ECF6",
           "showlakes": true,
           "showland": true,
           "subunitcolor": "white"
          },
          "hoverlabel": {
           "align": "left"
          },
          "hovermode": "closest",
          "mapbox": {
           "style": "light"
          },
          "paper_bgcolor": "white",
          "plot_bgcolor": "#E5ECF6",
          "polar": {
           "angularaxis": {
            "gridcolor": "white",
            "linecolor": "white",
            "ticks": ""
           },
           "bgcolor": "#E5ECF6",
           "radialaxis": {
            "gridcolor": "white",
            "linecolor": "white",
            "ticks": ""
           }
          },
          "scene": {
           "xaxis": {
            "backgroundcolor": "#E5ECF6",
            "gridcolor": "white",
            "gridwidth": 2,
            "linecolor": "white",
            "showbackground": true,
            "ticks": "",
            "zerolinecolor": "white"
           },
           "yaxis": {
            "backgroundcolor": "#E5ECF6",
            "gridcolor": "white",
            "gridwidth": 2,
            "linecolor": "white",
            "showbackground": true,
            "ticks": "",
            "zerolinecolor": "white"
           },
           "zaxis": {
            "backgroundcolor": "#E5ECF6",
            "gridcolor": "white",
            "gridwidth": 2,
            "linecolor": "white",
            "showbackground": true,
            "ticks": "",
            "zerolinecolor": "white"
           }
          },
          "shapedefaults": {
           "line": {
            "color": "#2a3f5f"
           }
          },
          "ternary": {
           "aaxis": {
            "gridcolor": "white",
            "linecolor": "white",
            "ticks": ""
           },
           "baxis": {
            "gridcolor": "white",
            "linecolor": "white",
            "ticks": ""
           },
           "bgcolor": "#E5ECF6",
           "caxis": {
            "gridcolor": "white",
            "linecolor": "white",
            "ticks": ""
           }
          },
          "title": {
           "x": 0.05
          },
          "xaxis": {
           "automargin": true,
           "gridcolor": "white",
           "linecolor": "white",
           "ticks": "",
           "title": {
            "standoff": 15
           },
           "zerolinecolor": "white",
           "zerolinewidth": 2
          },
          "yaxis": {
           "automargin": true,
           "gridcolor": "white",
           "linecolor": "white",
           "ticks": "",
           "title": {
            "standoff": 15
           },
           "zerolinecolor": "white",
           "zerolinewidth": 2
          }
         }
        },
        "title": {
         "text": "Top 20 Most Frequent Bigrams"
        },
        "xaxis": {
         "anchor": "y",
         "domain": [
          0,
          1
         ],
         "title": {
          "text": "Count"
         }
        },
        "yaxis": {
         "anchor": "x",
         "domain": [
          0,
          1
         ],
         "title": {
          "text": "Bigram"
         }
        }
       }
      }
     },
     "metadata": {},
     "output_type": "display_data"
    }
   ],
   "source": [
    "bigram_vec = CountVectorizer(ngram_range=(2, 2), max_features=30)\n",
    "X_bigram = bigram_vec.fit_transform(movies_clean['cleaned_overview'])\n",
    "\n",
    "bigram_counts = X_bigram.sum(axis=0)\n",
    "bigram_freq = [(word, bigram_counts[0, idx]) for word, idx in bigram_vec.vocabulary_.items()]\n",
    "bigram_freq = sorted(bigram_freq, key=lambda x: x[1], reverse=True)\n",
    "\n",
    "bigram_df = pd.DataFrame(bigram_freq, columns=['Bigram', 'Count'])\n",
    "\n",
    "fig = px.bar(bigram_df, x='Count', y='Bigram', orientation='h',\n",
    "             title='Top 20 Most Frequent Bigrams')\n",
    "fig.show()"
   ]
  },
  {
   "cell_type": "markdown",
   "id": "f1bdf331",
   "metadata": {},
   "source": [
    "The trigram analysis provides deeper insights into narrative patterns in movie overviews:\n",
    "\n",
    "Common time-related phrases:\n",
    "- \"world war ii\" reflects the prevalence of WWII historical dramas and war films\n",
    "- \"life begin change\" and \"takes place future\" signal key plot transitions and drama settings\n",
    "\n",
    "Character relationships and demographics: \n",
    "- \"young high school\" and \"high school student\" highlight coming-of-age stories and teen films\n",
    "- \"one day life\" and \"man young woman\" indicate relationship-focused narratives\n",
    "\n",
    "Location-based descriptors:\n",
    "- \"new york city\" appears frequently, reinforcing New York as a popular setting\n",
    "- \"los angeles california\" establishes west coast locations\n",
    "\n",
    "Action and plot elements:\n",
    "- \"must find way\" and \"trying find way\" suggest quest/journey narratives\n",
    "- \"group young people\" hints at ensemble casts and team dynamics\n",
    "\n",
    "These trigrams reveal common storytelling structures and thematic elements across genres, providing insight into how movie plots are typically constructed and described.\n",
    "\n",
    "While some leads towards some genre like wwii to war, some is cross-genre terms."
   ]
  },
  {
   "cell_type": "code",
   "execution_count": null,
   "id": "7e7c9862",
   "metadata": {},
   "outputs": [
    {
     "data": {
      "application/vnd.plotly.v1+json": {
       "config": {
        "plotlyServerURL": "https://plot.ly"
       },
       "data": [
        {
         "hovertemplate": "Count=%{x}<br>Trigram=%{y}<extra></extra>",
         "legendgroup": "",
         "marker": {
          "color": "#636efa",
          "pattern": {
           "shape": ""
          }
         },
         "name": "",
         "orientation": "h",
         "showlegend": false,
         "textposition": "auto",
         "type": "bar",
         "x": {
          "bdata": "a1kjGRQRDw4MDAwLCwsKCgoKCQgICAgHBwcHBwcH",
          "dtype": "i1"
         },
         "xaxis": "x",
         "y": [
          "new york city",
          "world war ii",
          "high school student",
          "based true story",
          "high school senior",
          "life turned upside",
          "change life forever",
          "dream come true",
          "president united state",
          "game cat mouse",
          "secret service agent",
          "come face face",
          "take unexpected turn",
          "find way home",
          "rio de janeiro",
          "year high school",
          "go horribly wrong",
          "great white shark",
          "new year eve",
          "film tell story",
          "start new life",
          "stay step ahead",
          "real estate agent",
          "childhood best friend",
          "living new york",
          "hell break loose",
          "high school teacher",
          "high school sweetheart",
          "young girl named",
          "move new york"
         ],
         "yaxis": "y"
        }
       ],
       "layout": {
        "barmode": "relative",
        "legend": {
         "tracegroupgap": 0
        },
        "template": {
         "data": {
          "bar": [
           {
            "error_x": {
             "color": "#2a3f5f"
            },
            "error_y": {
             "color": "#2a3f5f"
            },
            "marker": {
             "line": {
              "color": "#E5ECF6",
              "width": 0.5
             },
             "pattern": {
              "fillmode": "overlay",
              "size": 10,
              "solidity": 0.2
             }
            },
            "type": "bar"
           }
          ],
          "barpolar": [
           {
            "marker": {
             "line": {
              "color": "#E5ECF6",
              "width": 0.5
             },
             "pattern": {
              "fillmode": "overlay",
              "size": 10,
              "solidity": 0.2
             }
            },
            "type": "barpolar"
           }
          ],
          "carpet": [
           {
            "aaxis": {
             "endlinecolor": "#2a3f5f",
             "gridcolor": "white",
             "linecolor": "white",
             "minorgridcolor": "white",
             "startlinecolor": "#2a3f5f"
            },
            "baxis": {
             "endlinecolor": "#2a3f5f",
             "gridcolor": "white",
             "linecolor": "white",
             "minorgridcolor": "white",
             "startlinecolor": "#2a3f5f"
            },
            "type": "carpet"
           }
          ],
          "choropleth": [
           {
            "colorbar": {
             "outlinewidth": 0,
             "ticks": ""
            },
            "type": "choropleth"
           }
          ],
          "contour": [
           {
            "colorbar": {
             "outlinewidth": 0,
             "ticks": ""
            },
            "colorscale": [
             [
              0,
              "#0d0887"
             ],
             [
              0.1111111111111111,
              "#46039f"
             ],
             [
              0.2222222222222222,
              "#7201a8"
             ],
             [
              0.3333333333333333,
              "#9c179e"
             ],
             [
              0.4444444444444444,
              "#bd3786"
             ],
             [
              0.5555555555555556,
              "#d8576b"
             ],
             [
              0.6666666666666666,
              "#ed7953"
             ],
             [
              0.7777777777777778,
              "#fb9f3a"
             ],
             [
              0.8888888888888888,
              "#fdca26"
             ],
             [
              1,
              "#f0f921"
             ]
            ],
            "type": "contour"
           }
          ],
          "contourcarpet": [
           {
            "colorbar": {
             "outlinewidth": 0,
             "ticks": ""
            },
            "type": "contourcarpet"
           }
          ],
          "heatmap": [
           {
            "colorbar": {
             "outlinewidth": 0,
             "ticks": ""
            },
            "colorscale": [
             [
              0,
              "#0d0887"
             ],
             [
              0.1111111111111111,
              "#46039f"
             ],
             [
              0.2222222222222222,
              "#7201a8"
             ],
             [
              0.3333333333333333,
              "#9c179e"
             ],
             [
              0.4444444444444444,
              "#bd3786"
             ],
             [
              0.5555555555555556,
              "#d8576b"
             ],
             [
              0.6666666666666666,
              "#ed7953"
             ],
             [
              0.7777777777777778,
              "#fb9f3a"
             ],
             [
              0.8888888888888888,
              "#fdca26"
             ],
             [
              1,
              "#f0f921"
             ]
            ],
            "type": "heatmap"
           }
          ],
          "histogram": [
           {
            "marker": {
             "pattern": {
              "fillmode": "overlay",
              "size": 10,
              "solidity": 0.2
             }
            },
            "type": "histogram"
           }
          ],
          "histogram2d": [
           {
            "colorbar": {
             "outlinewidth": 0,
             "ticks": ""
            },
            "colorscale": [
             [
              0,
              "#0d0887"
             ],
             [
              0.1111111111111111,
              "#46039f"
             ],
             [
              0.2222222222222222,
              "#7201a8"
             ],
             [
              0.3333333333333333,
              "#9c179e"
             ],
             [
              0.4444444444444444,
              "#bd3786"
             ],
             [
              0.5555555555555556,
              "#d8576b"
             ],
             [
              0.6666666666666666,
              "#ed7953"
             ],
             [
              0.7777777777777778,
              "#fb9f3a"
             ],
             [
              0.8888888888888888,
              "#fdca26"
             ],
             [
              1,
              "#f0f921"
             ]
            ],
            "type": "histogram2d"
           }
          ],
          "histogram2dcontour": [
           {
            "colorbar": {
             "outlinewidth": 0,
             "ticks": ""
            },
            "colorscale": [
             [
              0,
              "#0d0887"
             ],
             [
              0.1111111111111111,
              "#46039f"
             ],
             [
              0.2222222222222222,
              "#7201a8"
             ],
             [
              0.3333333333333333,
              "#9c179e"
             ],
             [
              0.4444444444444444,
              "#bd3786"
             ],
             [
              0.5555555555555556,
              "#d8576b"
             ],
             [
              0.6666666666666666,
              "#ed7953"
             ],
             [
              0.7777777777777778,
              "#fb9f3a"
             ],
             [
              0.8888888888888888,
              "#fdca26"
             ],
             [
              1,
              "#f0f921"
             ]
            ],
            "type": "histogram2dcontour"
           }
          ],
          "mesh3d": [
           {
            "colorbar": {
             "outlinewidth": 0,
             "ticks": ""
            },
            "type": "mesh3d"
           }
          ],
          "parcoords": [
           {
            "line": {
             "colorbar": {
              "outlinewidth": 0,
              "ticks": ""
             }
            },
            "type": "parcoords"
           }
          ],
          "pie": [
           {
            "automargin": true,
            "type": "pie"
           }
          ],
          "scatter": [
           {
            "fillpattern": {
             "fillmode": "overlay",
             "size": 10,
             "solidity": 0.2
            },
            "type": "scatter"
           }
          ],
          "scatter3d": [
           {
            "line": {
             "colorbar": {
              "outlinewidth": 0,
              "ticks": ""
             }
            },
            "marker": {
             "colorbar": {
              "outlinewidth": 0,
              "ticks": ""
             }
            },
            "type": "scatter3d"
           }
          ],
          "scattercarpet": [
           {
            "marker": {
             "colorbar": {
              "outlinewidth": 0,
              "ticks": ""
             }
            },
            "type": "scattercarpet"
           }
          ],
          "scattergeo": [
           {
            "marker": {
             "colorbar": {
              "outlinewidth": 0,
              "ticks": ""
             }
            },
            "type": "scattergeo"
           }
          ],
          "scattergl": [
           {
            "marker": {
             "colorbar": {
              "outlinewidth": 0,
              "ticks": ""
             }
            },
            "type": "scattergl"
           }
          ],
          "scattermap": [
           {
            "marker": {
             "colorbar": {
              "outlinewidth": 0,
              "ticks": ""
             }
            },
            "type": "scattermap"
           }
          ],
          "scattermapbox": [
           {
            "marker": {
             "colorbar": {
              "outlinewidth": 0,
              "ticks": ""
             }
            },
            "type": "scattermapbox"
           }
          ],
          "scatterpolar": [
           {
            "marker": {
             "colorbar": {
              "outlinewidth": 0,
              "ticks": ""
             }
            },
            "type": "scatterpolar"
           }
          ],
          "scatterpolargl": [
           {
            "marker": {
             "colorbar": {
              "outlinewidth": 0,
              "ticks": ""
             }
            },
            "type": "scatterpolargl"
           }
          ],
          "scatterternary": [
           {
            "marker": {
             "colorbar": {
              "outlinewidth": 0,
              "ticks": ""
             }
            },
            "type": "scatterternary"
           }
          ],
          "surface": [
           {
            "colorbar": {
             "outlinewidth": 0,
             "ticks": ""
            },
            "colorscale": [
             [
              0,
              "#0d0887"
             ],
             [
              0.1111111111111111,
              "#46039f"
             ],
             [
              0.2222222222222222,
              "#7201a8"
             ],
             [
              0.3333333333333333,
              "#9c179e"
             ],
             [
              0.4444444444444444,
              "#bd3786"
             ],
             [
              0.5555555555555556,
              "#d8576b"
             ],
             [
              0.6666666666666666,
              "#ed7953"
             ],
             [
              0.7777777777777778,
              "#fb9f3a"
             ],
             [
              0.8888888888888888,
              "#fdca26"
             ],
             [
              1,
              "#f0f921"
             ]
            ],
            "type": "surface"
           }
          ],
          "table": [
           {
            "cells": {
             "fill": {
              "color": "#EBF0F8"
             },
             "line": {
              "color": "white"
             }
            },
            "header": {
             "fill": {
              "color": "#C8D4E3"
             },
             "line": {
              "color": "white"
             }
            },
            "type": "table"
           }
          ]
         },
         "layout": {
          "annotationdefaults": {
           "arrowcolor": "#2a3f5f",
           "arrowhead": 0,
           "arrowwidth": 1
          },
          "autotypenumbers": "strict",
          "coloraxis": {
           "colorbar": {
            "outlinewidth": 0,
            "ticks": ""
           }
          },
          "colorscale": {
           "diverging": [
            [
             0,
             "#8e0152"
            ],
            [
             0.1,
             "#c51b7d"
            ],
            [
             0.2,
             "#de77ae"
            ],
            [
             0.3,
             "#f1b6da"
            ],
            [
             0.4,
             "#fde0ef"
            ],
            [
             0.5,
             "#f7f7f7"
            ],
            [
             0.6,
             "#e6f5d0"
            ],
            [
             0.7,
             "#b8e186"
            ],
            [
             0.8,
             "#7fbc41"
            ],
            [
             0.9,
             "#4d9221"
            ],
            [
             1,
             "#276419"
            ]
           ],
           "sequential": [
            [
             0,
             "#0d0887"
            ],
            [
             0.1111111111111111,
             "#46039f"
            ],
            [
             0.2222222222222222,
             "#7201a8"
            ],
            [
             0.3333333333333333,
             "#9c179e"
            ],
            [
             0.4444444444444444,
             "#bd3786"
            ],
            [
             0.5555555555555556,
             "#d8576b"
            ],
            [
             0.6666666666666666,
             "#ed7953"
            ],
            [
             0.7777777777777778,
             "#fb9f3a"
            ],
            [
             0.8888888888888888,
             "#fdca26"
            ],
            [
             1,
             "#f0f921"
            ]
           ],
           "sequentialminus": [
            [
             0,
             "#0d0887"
            ],
            [
             0.1111111111111111,
             "#46039f"
            ],
            [
             0.2222222222222222,
             "#7201a8"
            ],
            [
             0.3333333333333333,
             "#9c179e"
            ],
            [
             0.4444444444444444,
             "#bd3786"
            ],
            [
             0.5555555555555556,
             "#d8576b"
            ],
            [
             0.6666666666666666,
             "#ed7953"
            ],
            [
             0.7777777777777778,
             "#fb9f3a"
            ],
            [
             0.8888888888888888,
             "#fdca26"
            ],
            [
             1,
             "#f0f921"
            ]
           ]
          },
          "colorway": [
           "#636efa",
           "#EF553B",
           "#00cc96",
           "#ab63fa",
           "#FFA15A",
           "#19d3f3",
           "#FF6692",
           "#B6E880",
           "#FF97FF",
           "#FECB52"
          ],
          "font": {
           "color": "#2a3f5f"
          },
          "geo": {
           "bgcolor": "white",
           "lakecolor": "white",
           "landcolor": "#E5ECF6",
           "showlakes": true,
           "showland": true,
           "subunitcolor": "white"
          },
          "hoverlabel": {
           "align": "left"
          },
          "hovermode": "closest",
          "mapbox": {
           "style": "light"
          },
          "paper_bgcolor": "white",
          "plot_bgcolor": "#E5ECF6",
          "polar": {
           "angularaxis": {
            "gridcolor": "white",
            "linecolor": "white",
            "ticks": ""
           },
           "bgcolor": "#E5ECF6",
           "radialaxis": {
            "gridcolor": "white",
            "linecolor": "white",
            "ticks": ""
           }
          },
          "scene": {
           "xaxis": {
            "backgroundcolor": "#E5ECF6",
            "gridcolor": "white",
            "gridwidth": 2,
            "linecolor": "white",
            "showbackground": true,
            "ticks": "",
            "zerolinecolor": "white"
           },
           "yaxis": {
            "backgroundcolor": "#E5ECF6",
            "gridcolor": "white",
            "gridwidth": 2,
            "linecolor": "white",
            "showbackground": true,
            "ticks": "",
            "zerolinecolor": "white"
           },
           "zaxis": {
            "backgroundcolor": "#E5ECF6",
            "gridcolor": "white",
            "gridwidth": 2,
            "linecolor": "white",
            "showbackground": true,
            "ticks": "",
            "zerolinecolor": "white"
           }
          },
          "shapedefaults": {
           "line": {
            "color": "#2a3f5f"
           }
          },
          "ternary": {
           "aaxis": {
            "gridcolor": "white",
            "linecolor": "white",
            "ticks": ""
           },
           "baxis": {
            "gridcolor": "white",
            "linecolor": "white",
            "ticks": ""
           },
           "bgcolor": "#E5ECF6",
           "caxis": {
            "gridcolor": "white",
            "linecolor": "white",
            "ticks": ""
           }
          },
          "title": {
           "x": 0.05
          },
          "xaxis": {
           "automargin": true,
           "gridcolor": "white",
           "linecolor": "white",
           "ticks": "",
           "title": {
            "standoff": 15
           },
           "zerolinecolor": "white",
           "zerolinewidth": 2
          },
          "yaxis": {
           "automargin": true,
           "gridcolor": "white",
           "linecolor": "white",
           "ticks": "",
           "title": {
            "standoff": 15
           },
           "zerolinecolor": "white",
           "zerolinewidth": 2
          }
         }
        },
        "title": {
         "text": "Top 30 Most Frequent Trigrams"
        },
        "xaxis": {
         "anchor": "y",
         "domain": [
          0,
          1
         ],
         "title": {
          "text": "Count"
         }
        },
        "yaxis": {
         "anchor": "x",
         "domain": [
          0,
          1
         ],
         "title": {
          "text": "Trigram"
         }
        }
       }
      }
     },
     "metadata": {},
     "output_type": "display_data"
    }
   ],
   "source": [
    "trigram_vec = CountVectorizer(ngram_range=(3, 3), max_features=30)\n",
    "X_trigram = trigram_vec.fit_transform(movies_clean['cleaned_overview'])\n",
    "\n",
    "trigram_counts = X_trigram.sum(axis=0)\n",
    "trigram_freq = [(word, trigram_counts[0, idx]) for word, idx in trigram_vec.vocabulary_.items()]\n",
    "trigram_freq = sorted(trigram_freq, key=lambda x: x[1], reverse=True)\n",
    "\n",
    "trigram_df = pd.DataFrame(trigram_freq, columns=['Trigram', 'Count'])\n",
    "\n",
    "fig = px.bar(trigram_df, x='Count', y='Trigram', orientation='h',\n",
    "             title='Top 30 Most Frequent Trigrams')\n",
    "fig.show()"
   ]
  }
 ],
 "metadata": {
  "kernelspec": {
   "display_name": ".venv",
   "language": "python",
   "name": "python3"
  },
  "language_info": {
   "codemirror_mode": {
    "name": "ipython",
    "version": 3
   },
   "file_extension": ".py",
   "mimetype": "text/x-python",
   "name": "python",
   "nbconvert_exporter": "python",
   "pygments_lexer": "ipython3",
   "version": "3.12.10"
  }
 },
 "nbformat": 4,
 "nbformat_minor": 5
}
