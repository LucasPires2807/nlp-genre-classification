{
 "cells": [
  {
   "cell_type": "markdown",
   "id": "48cf7163",
   "metadata": {},
   "source": [
    "# IMDb Movie Genre Classification Dataset - Topic Modeling\n",
    "## IMD1107 - Natural Language Processing\n",
    "### Lucas Pires de Souza, Mariana Emerenciano"
   ]
  },
  {
   "cell_type": "markdown",
   "id": "038e6747",
   "metadata": {},
   "source": [
    "This notebook provides a comprehensive workflow for discovering, analyzing, and visualizing thematic topics from movie synopses using the BERTopic library. The process can be broken down into several key stages"
   ]
  },
  {
   "cell_type": "markdown",
   "id": "020da9ab",
   "metadata": {},
   "source": [
    "## 1. Setup and Library Imports\n",
    "\n",
    "The notebook begins by importing the necessary libraries, each serving a specific purpose:\n",
    "\n",
    "* **pandas**: The cornerstone for data manipulation, used to load and manage the movie data from the CSV files.\n",
    "* **sentence_transformers**: This library is used under the hood by BERTopic but is sometimes imported for advanced use cases. It provides the language models that convert text into meaningful numerical embeddings.\n",
    "* **bertopic**: The core library for the entire analysis. It orchestrates the topic modeling pipeline.\n",
    "* **plotly.express**: A powerful and user-friendly library for creating interactive visualizations. It is used in the notebook as an alternative method for plotting the \"Topics per Genre\" distribution.\n",
    "* **sklearn (Scikit-learn)**: Used for various machine learning utilities, such as splitting data (`train_test_split`) or, in more advanced steps, for vectorization (`TfidfVectorizer`) and clustering."
   ]
  },
  {
   "cell_type": "code",
   "execution_count": 1,
   "id": "90fe06cb",
   "metadata": {},
   "outputs": [
    {
     "name": "stderr",
     "output_type": "stream",
     "text": [
      "c:\\Users\\08857413403\\Desktop\\nlp-final\\nlp-genre-classification\\.venv\\Lib\\site-packages\\tqdm\\auto.py:21: TqdmWarning: IProgress not found. Please update jupyter and ipywidgets. See https://ipywidgets.readthedocs.io/en/stable/user_install.html\n",
      "  from .autonotebook import tqdm as notebook_tqdm\n"
     ]
    }
   ],
   "source": [
    "import os\n",
    "import zipfile\n",
    "import pandas as pd\n",
    "from sklearn.model_selection import train_test_split\n",
    "from sentence_transformers import SentenceTransformer, InputExample, losses\n",
    "from torch.utils.data import DataLoader\n",
    "from bertopic import BERTopic\n",
    "\n",
    "# loading data\n",
    "overview_df = pd.read_csv(\"data/movies_overview.csv\")\n",
    "genres_df = pd.read_csv(\"data/movies_genres.csv\")\n",
    "\n",
    "# mapping genre IDs to names\n",
    "genre_map = dict(zip(genres_df[\"id\"], genres_df[\"name\"]))\n",
    "\n",
    "def decode_genres(genre_ids_str):\n",
    "    import ast\n",
    "    try:\n",
    "        genre_ids = ast.literal_eval(genre_ids_str)\n",
    "        return \", \".join([genre_map.get(gid, \"\") for gid in genre_ids])\n",
    "    except:\n",
    "        return \"\"\n",
    "\n",
    "overview_df[\"genres\"] = overview_df[\"genre_ids\"].apply(decode_genres)\n",
    "\n"
   ]
  },
  {
   "cell_type": "markdown",
   "id": "5e6e737d",
   "metadata": {},
   "source": [
    "## 2. Data Loading and Preprocessing\n",
    "\n",
    "This is a critical stage where the raw data is prepared for analysis.\n",
    "\n",
    "* **Loading Data**: The notebook loads two datasets: `movies_overview.csv` (containing movie titles, overviews, and genre IDs) and `movies_genres.csv` (which acts as a lookup table for genre IDs and their names).\n",
    "* **Merging & Mapping Genres**: The most important preprocessing step performed here is the mapping of `genre_ids` to human-readable `genre_names`. The code creates a dictionary from the `genres_df` (e.g., `{18: 'Drama', 80: 'Crime'}`) and then applies it to the `genre_ids` column in the `overview_df`. This enriches the main dataset, making it possible to later analyze topics in the context of their known genres. This step is fundamental for generating the \"Topics per Class\" visualization.\n",
    "* **Data Cleaning**: The notebook likely includes steps to handle missing values, for instance, by dropping rows where the movie overview is empty, as this text is essential for the topic modeling process."
   ]
  },
  {
   "cell_type": "code",
   "execution_count": 2,
   "id": "dc58e34c",
   "metadata": {},
   "outputs": [],
   "source": [
    "# unzipping the fine-tuned model\n",
    "\n",
    "zip_path = 'models/fine_tuned_imdb_model.zip'\n",
    "\n",
    "extract_path = 'models/fine_tuned_imdb_model'\n",
    "\n",
    "with zipfile.ZipFile(zip_path, 'r') as zip_ref:\n",
    "    zip_ref.extractall(extract_path)\n"
   ]
  },
  {
   "cell_type": "code",
   "execution_count": 3,
   "id": "a7dce0ff",
   "metadata": {},
   "outputs": [],
   "source": [
    "# fine tuning\n",
    "# creating pairs of overviews (e.g., same overview with the same genre)\n",
    "examples = [\n",
    "    InputExample(texts=[row[\"overview\"], row[\"overview\"]], label=1.0)\n",
    "    for _, row in overview_df.iterrows()\n",
    "    if isinstance(row[\"overview\"], str) and row[\"overview\"].strip() != \"\"\n",
    "]\n",
    "\n",
    "# base model \n",
    "base_model = SentenceTransformer(\"all-MiniLM-L6-v2\")\n",
    "base_model = base_model.load(\"models/fine_tuned_imdb_model/fine_tuned_imdb_model\")\n"
   ]
  },
  {
   "cell_type": "code",
   "execution_count": 4,
   "id": "fbfa64d6",
   "metadata": {},
   "outputs": [
    {
     "name": "stderr",
     "output_type": "stream",
     "text": [
      "Batches: 100%|██████████| 312/312 [00:37<00:00,  8.22it/s]\n"
     ]
    }
   ],
   "source": [
    "# generating embeddings \n",
    "valid_overviews = overview_df[\"overview\"].dropna().tolist()\n",
    "embeddings = base_model.encode(valid_overviews, show_progress_bar=True)\n"
   ]
  },
  {
   "cell_type": "markdown",
   "id": "b0d667ec",
   "metadata": {},
   "source": [
    "## 3. BERTopic Model Training\n",
    "\n",
    "This is the core of the discovery phase.\n",
    "\n",
    "* **Model Instantiation**: A BERTopic model object is created with `topic_model = BERTopic(...)`. Key parameters may be configured here, such as `min_topic_size` (to control the minimum number of movies required to form a topic) or `language` (to select the appropriate embedding model).\n",
    "* **Fitting the Model**: The `topic_model.fit_transform(docs)` command is executed, where `docs` is the list of movie overviews. This single command triggers the entire BERTopic pipeline:\n",
    "    * **Embedding**: Each movie overview is converted into a high-dimensional vector that captures its semantic meaning.\n",
    "    * **Dimensionality Reduction**: `UMAP` is used to reduce the dimensions of these vectors, making them easier to cluster while preserving their spatial relationships.\n",
    "    * **Clustering**: `HDBSCAN` is applied to group similar movie overviews into clusters. Each cluster represents a potential topic. Outlier documents that don't fit well into any cluster are grouped into `Topic -1`.\n",
    "    * **Topic Representation**: The `c-TF-IDF` algorithm is used to extract the most representative keywords for each cluster, allowing for human interpretation of the topics."
   ]
  },
  {
   "cell_type": "code",
   "execution_count": 5,
   "id": "8f82565f",
   "metadata": {},
   "outputs": [],
   "source": [
    "from umap import UMAP\n",
    "from sklearn.feature_extraction.text import CountVectorizer\n",
    "\n",
    "# umap model for dimensionality reduction\n",
    "umap_model = UMAP(n_neighbors=15, n_components=5, min_dist=0.0, metric='cosine', random_state=42)\n",
    "\n",
    "# count vectorizer\n",
    "vectorizer_model = CountVectorizer(stop_words=\"english\", min_df=2, ngram_range=(1, 3))\n",
    "\n",
    "topic_model = BERTopic(\n",
    "    embedding_model=base_model,\n",
    "    umap_model=umap_model,\n",
    "    vectorizer_model=vectorizer_model,\n",
    "    verbose=True\n",
    ")\n"
   ]
  },
  {
   "cell_type": "markdown",
   "id": "88565dff",
   "metadata": {},
   "source": [
    "## 4. Generating Visualizations and Insights\n",
    "\n",
    "After the model is trained, the notebook proceeds to generate the suite of visualizations you shared. This is how each one was created:\n",
    "\n",
    "* **Barchart of Topic-Word Scores (`visualize_barchart`)**\n",
    "    * This was created by calling `topic_model.visualize_barchart()`. This function accesses the calculated `c-TF-IDF` scores for each topic and plots the top N words, providing a direct view into the theme of each topic cluster.\n",
    "\n",
    "* **Intertopic Distance Map (`visualize_topics`)**\n",
    "    * This map was generated by calling `topic_model.visualize_topics()`. The function takes the topic embeddings, applies a 2D projection (like `UMAP`), and plots them using `Plotly`. The size of each circle is automatically scaled based on the topic's frequency.\n",
    "\n",
    "* **Hierarchical Clustering Dendrogram (`visualize_hierarchy`)**\n",
    "    * This chart was created using `topic_model.visualize_hierarchy()`. This function uses the topic embeddings to perform a hierarchical clustering analysis and plots the resulting tree structure, showing how topics are related and how they can be merged.\n",
    "\n",
    "* **Topics per Class (Genre Distribution)**\n",
    "    * This was the most involved visualization, as shown in the notebook snippet. The process was:\n",
    "        * **Prepare the Dataframe**: A new DataFrame (`counts`) was meticulously prepared. It lists every movie-genre-topic combination and calculates the frequency of each topic within each genre.\n",
    "        * **Call the Plotting Function**: The notebook then calls `topic_model.visualize_topics_per_class(counts, ...)`. This function is specifically designed to take such a pre-aggregated DataFrame and create the stacked bar chart. Parameters like `normalize_frequency=True` are used to show the relative distribution rather than raw counts.\n",
    "        * **Fallback Visualization**: The notebook wisely includes a `try...except` block. If the BERTopic function fails for any reason, it falls back to a custom plot using `plotly.express`. This alternative creates a faceted bar chart, which is another effective way to show the same information, demonstrating robust coding practices."
   ]
  },
  {
   "cell_type": "code",
   "execution_count": 6,
   "id": "bb2c1fe6",
   "metadata": {},
   "outputs": [
    {
     "name": "stderr",
     "output_type": "stream",
     "text": [
      "2025-06-21 09:43:30,008 - BERTopic - Dimensionality - Fitting the dimensionality reduction algorithm\n",
      "2025-06-21 09:44:02,320 - BERTopic - Dimensionality - Completed ✓\n",
      "2025-06-21 09:44:02,320 - BERTopic - Cluster - Start clustering the reduced embeddings\n",
      "2025-06-21 09:44:02,771 - BERTopic - Cluster - Completed ✓\n",
      "2025-06-21 09:44:02,771 - BERTopic - Representation - Fine-tuning topics using representation models.\n",
      "2025-06-21 09:44:03,536 - BERTopic - Representation - Completed ✓\n"
     ]
    },
    {
     "data": {
      "application/vnd.plotly.v1+json": {
       "config": {
        "plotlyServerURL": "https://plot.ly"
       },
       "data": [
        {
         "customdata": [
          [
           0,
           "planet | earth | alien | space | crew",
           354
          ],
          [
           1,
           "king | ancient | goku | dragon | evil",
           344
          ],
          [
           2,
           "film | music | star | life | band",
           290
          ],
          [
           3,
           "killer | police | cop | murder | prison",
           145
          ],
          [
           4,
           "group | friends | discover | group friends | survive",
           145
          ],
          [
           5,
           "war | world war | war ii | world war ii | ii",
           121
          ],
          [
           6,
           "mother | father | girl | finds | discovers",
           91
          ],
          [
           7,
           "love | relationship | couple | friends | relationships",
           86
          ],
          [
           8,
           "cia | agent | nuclear | government | international",
           84
          ],
          [
           9,
           "school | students | teacher | high school | student",
           79
          ],
          [
           10,
           "woman | life | author | young | love",
           78
          ],
          [
           11,
           "pooh | egg | bear | tigger | named",
           70
          ],
          [
           12,
           "team | coach | football | league | baseball",
           69
          ],
          [
           13,
           "school | high | girl | boss | high school",
           67
          ],
          [
           14,
           "married | wedding | marriage | relationship | sol",
           60
          ],
          [
           15,
           "dating | life | buddy | day | just",
           59
          ],
          [
           16,
           "superman | earth | planet | green lantern | lantern",
           58
          ],
          [
           17,
           "hospital | mental hospital | mental | mother | man",
           51
          ],
          [
           18,
           "chef | company | salesmen | business | scam",
           50
          ],
          [
           19,
           "fairy | princess | ariel | prince | godmother",
           49
          ],
          [
           20,
           "cop | police | gang | case | drug",
           49
          ],
          [
           21,
           "school | dad | year old | old | son",
           49
          ],
          [
           22,
           "christmas | santa | claus | santa claus | christmas eve",
           46
          ],
          [
           23,
           "money | pay | bank | preston | check",
           38
          ],
          [
           24,
           "spider | sonic | hero | super | villain",
           37
          ],
          [
           25,
           "champion | tennis | rocky | boxer | boxing",
           33
          ],
          [
           26,
           "sorority | girl | discover | father | son",
           32
          ],
          [
           27,
           "priest | religious | vatican | exorcism | faith",
           28
          ],
          [
           28,
           "che | revolution | gates | solomon | cuban",
           27
          ],
          [
           29,
           "gotham | batman | gotham city | joker | bruce wayne",
           27
          ],
          [
           30,
           "lance | hugo | arthur | farther | papa",
           23
          ],
          [
           31,
           "moore | father | murdered | murder | mother",
           22
          ],
          [
           32,
           "giacomo | aldo | giovanni | aldo giovanni | amin",
           22
          ],
          [
           33,
           "jamie | holes | redfield | wakes | strange",
           21
          ],
          [
           34,
           "mother | custody battle | family | adoption | younger",
           21
          ],
          [
           35,
           "school | shelley | headmistress | regina | cady",
           21
          ],
          [
           36,
           "martial | kung fu | china | martial arts | fu",
           20
          ],
          [
           37,
           "queen | elizabeth | mary | king | england",
           19
          ],
          [
           38,
           "driver | car | gets | irene | delivery",
           19
          ],
          [
           39,
           "husband | affair | married woman | married | wife",
           18
          ],
          [
           40,
           "locke | deeds | low | powder | helpless",
           17
          ],
          [
           41,
           "year old girl | old girl | year old | girl | teenager",
           17
          ],
          [
           42,
           "platoon | dodge | navy | submarine | nuclear",
           17
          ],
          [
           43,
           "presidential | election | president | senator | scandal",
           17
          ],
          [
           44,
           "hotel | rich | cal | mouth | naples",
           14
          ],
          [
           45,
           "high school | high | school | friends | reunion",
           14
          ],
          [
           46,
           "rath | mayor | city crime | city | reigns",
           14
          ],
          [
           47,
           "student | college | graduate | high school | college graduate",
           12
          ],
          [
           48,
           "hit | mike | hitman | melvin | jeffrey",
           12
          ],
          [
           49,
           "1950s | african american | african | connecticut | struggles",
           12
          ],
          [
           50,
           "court | supreme court | supreme | murder | case",
           12
          ],
          [
           51,
           "south african | young man | charged | horrific | gangster",
           12
          ],
          [
           52,
           "witches | witch | wendy | marnie | casper",
           12
          ],
          [
           53,
           "birthday party | fagin | birthday | greg | max",
           12
          ],
          [
           54,
           "claudio | juliette | helena | jean | pastry",
           11
          ],
          [
           55,
           "megan | friend | annika | old | year old",
           10
          ],
          [
           56,
           "monster | frankenstein | dracula | samurai | frankenstein monster",
           10
          ],
          [
           57,
           "carla | woman | traumatic | patient | mental",
           10
          ],
          [
           58,
           "drug | undercover | dealer | marcus | drug dealer",
           10
          ]
         ],
         "hovertemplate": "<b>Topic %{customdata[0]}</b><br>%{customdata[1]}<br>Size: %{customdata[2]}",
         "legendgroup": "",
         "marker": {
          "color": "#B0BEC5",
          "line": {
           "color": "DarkSlateGrey",
           "width": 2
          },
          "size": {
           "bdata": "YgFYASIBkQCRAHkAWwBWAFQATwBOAEYARQBDADwAOwA6ADMAMgAxADEAMQAuACYAJQAhACAAHAAbABsAFwAWABYAFQAVABUAFAATABMAEgARABEAEQARAA4ADgAOAAwADAAMAAwADAAMAAwACwAKAAoACgAKAA==",
           "dtype": "i2"
          },
          "sizemode": "area",
          "sizeref": 0.22125,
          "symbol": "circle"
         },
         "mode": "markers",
         "name": "",
         "orientation": "v",
         "showlegend": false,
         "type": "scatter",
         "x": {
          "bdata": "7iy8wOnezsCs6gjAgfSiQP4+wsB57FfB/A08QYo9FkEoPYpAyOjlPqMbQUEYK9TAgDwiwEq+NkGpYRVBX3nqPiS7zcA599TAtuWhwMAvzkC6EZZAQIJVPuKiF8CJDKbA7QzMwJZ7JcC42MvAsIkUwJbOWcFm5MbAprgKwATyPkHPywZBKLzLwAg/jT1AHjpBKNlYwRbjQUG8za7A/r1EPW/IDMBasYo+qqaaQKNgh0Cw0QhB34p2PyGSyMCBiEg/b3q3wHgyzj6RzKhA4gvOwD0vzkCDww8/LcUHQQUhFEHC4c/Aev3XwJydl0A=",
          "dtype": "f4"
         },
         "xaxis": "x",
         "y": {
          "bdata": "p14NQVqAEEHxt9lBFFTAvo/wCUHYQHNBMjoewI8tV8FLBIS+hQeGQNPvMcDEcQ5B7jhVwKUGG8DaCVjBpzKSQGS4wz4QKdxA3jHuQNPGOEGgZqa+SimEQKDb10FFk/FAcabePk8qUsDV1uhAKETYQR9gcUFEVvpA3XvZQYbFC8BrXFJBQGcGQfffUEAj9RPAXlVyQdWHMsDcrfVAuXJMQGA72UFqjnpA227BvaNgZb7aZFRBk+V8QGSW/EDGHnRA5dD4QLLtf0BjU3++z0nnQJbGOEHzJJlAb1FTQV5KWcFcjQ9BrDLYQMpJYb4=",
          "dtype": "f4"
         },
         "yaxis": "y"
        }
       ],
       "layout": {
        "annotations": [
         {
          "showarrow": false,
          "text": "D1",
          "x": -15.654876708984375,
          "y": 7.839641571044922,
          "yshift": 10
         },
         {
          "showarrow": false,
          "text": "D2",
          "x": -0.8596224784851074,
          "xshift": 10,
          "y": 31.29703712463379
         }
        ],
        "height": 650,
        "hoverlabel": {
         "bgcolor": "white",
         "font": {
          "family": "Rockwell",
          "size": 16
         }
        },
        "legend": {
         "itemsizing": "constant",
         "tracegroupgap": 0
        },
        "margin": {
         "t": 60
        },
        "shapes": [
         {
          "line": {
           "color": "#CFD8DC",
           "width": 2
          },
          "type": "line",
          "x0": -0.8596224784851074,
          "x1": -0.8596224784851074,
          "y0": -15.617753982543945,
          "y1": 31.29703712463379
         },
         {
          "line": {
           "color": "#9E9E9E",
           "width": 2
          },
          "type": "line",
          "x0": -15.654876708984375,
          "x1": 13.93563175201416,
          "y0": 7.839641571044922,
          "y1": 7.839641571044922
         }
        ],
        "sliders": [
         {
          "active": 0,
          "pad": {
           "t": 50
          },
          "steps": [
           {
            "args": [
             {
              "marker.color": [
               [
                "red",
                "#B0BEC5",
                "#B0BEC5",
                "#B0BEC5",
                "#B0BEC5",
                "#B0BEC5",
                "#B0BEC5",
                "#B0BEC5",
                "#B0BEC5",
                "#B0BEC5",
                "#B0BEC5",
                "#B0BEC5",
                "#B0BEC5",
                "#B0BEC5",
                "#B0BEC5",
                "#B0BEC5",
                "#B0BEC5",
                "#B0BEC5",
                "#B0BEC5",
                "#B0BEC5",
                "#B0BEC5",
                "#B0BEC5",
                "#B0BEC5",
                "#B0BEC5",
                "#B0BEC5",
                "#B0BEC5",
                "#B0BEC5",
                "#B0BEC5",
                "#B0BEC5",
                "#B0BEC5",
                "#B0BEC5",
                "#B0BEC5",
                "#B0BEC5",
                "#B0BEC5",
                "#B0BEC5",
                "#B0BEC5",
                "#B0BEC5",
                "#B0BEC5",
                "#B0BEC5",
                "#B0BEC5",
                "#B0BEC5",
                "#B0BEC5",
                "#B0BEC5",
                "#B0BEC5",
                "#B0BEC5",
                "#B0BEC5",
                "#B0BEC5",
                "#B0BEC5",
                "#B0BEC5",
                "#B0BEC5",
                "#B0BEC5",
                "#B0BEC5",
                "#B0BEC5",
                "#B0BEC5",
                "#B0BEC5",
                "#B0BEC5",
                "#B0BEC5",
                "#B0BEC5",
                "#B0BEC5"
               ]
              ]
             }
            ],
            "label": "Topic 0",
            "method": "update"
           },
           {
            "args": [
             {
              "marker.color": [
               [
                "#B0BEC5",
                "red",
                "#B0BEC5",
                "#B0BEC5",
                "#B0BEC5",
                "#B0BEC5",
                "#B0BEC5",
                "#B0BEC5",
                "#B0BEC5",
                "#B0BEC5",
                "#B0BEC5",
                "#B0BEC5",
                "#B0BEC5",
                "#B0BEC5",
                "#B0BEC5",
                "#B0BEC5",
                "#B0BEC5",
                "#B0BEC5",
                "#B0BEC5",
                "#B0BEC5",
                "#B0BEC5",
                "#B0BEC5",
                "#B0BEC5",
                "#B0BEC5",
                "#B0BEC5",
                "#B0BEC5",
                "#B0BEC5",
                "#B0BEC5",
                "#B0BEC5",
                "#B0BEC5",
                "#B0BEC5",
                "#B0BEC5",
                "#B0BEC5",
                "#B0BEC5",
                "#B0BEC5",
                "#B0BEC5",
                "#B0BEC5",
                "#B0BEC5",
                "#B0BEC5",
                "#B0BEC5",
                "#B0BEC5",
                "#B0BEC5",
                "#B0BEC5",
                "#B0BEC5",
                "#B0BEC5",
                "#B0BEC5",
                "#B0BEC5",
                "#B0BEC5",
                "#B0BEC5",
                "#B0BEC5",
                "#B0BEC5",
                "#B0BEC5",
                "#B0BEC5",
                "#B0BEC5",
                "#B0BEC5",
                "#B0BEC5",
                "#B0BEC5",
                "#B0BEC5",
                "#B0BEC5"
               ]
              ]
             }
            ],
            "label": "Topic 1",
            "method": "update"
           },
           {
            "args": [
             {
              "marker.color": [
               [
                "#B0BEC5",
                "#B0BEC5",
                "red",
                "#B0BEC5",
                "#B0BEC5",
                "#B0BEC5",
                "#B0BEC5",
                "#B0BEC5",
                "#B0BEC5",
                "#B0BEC5",
                "#B0BEC5",
                "#B0BEC5",
                "#B0BEC5",
                "#B0BEC5",
                "#B0BEC5",
                "#B0BEC5",
                "#B0BEC5",
                "#B0BEC5",
                "#B0BEC5",
                "#B0BEC5",
                "#B0BEC5",
                "#B0BEC5",
                "#B0BEC5",
                "#B0BEC5",
                "#B0BEC5",
                "#B0BEC5",
                "#B0BEC5",
                "#B0BEC5",
                "#B0BEC5",
                "#B0BEC5",
                "#B0BEC5",
                "#B0BEC5",
                "#B0BEC5",
                "#B0BEC5",
                "#B0BEC5",
                "#B0BEC5",
                "#B0BEC5",
                "#B0BEC5",
                "#B0BEC5",
                "#B0BEC5",
                "#B0BEC5",
                "#B0BEC5",
                "#B0BEC5",
                "#B0BEC5",
                "#B0BEC5",
                "#B0BEC5",
                "#B0BEC5",
                "#B0BEC5",
                "#B0BEC5",
                "#B0BEC5",
                "#B0BEC5",
                "#B0BEC5",
                "#B0BEC5",
                "#B0BEC5",
                "#B0BEC5",
                "#B0BEC5",
                "#B0BEC5",
                "#B0BEC5",
                "#B0BEC5"
               ]
              ]
             }
            ],
            "label": "Topic 2",
            "method": "update"
           },
           {
            "args": [
             {
              "marker.color": [
               [
                "#B0BEC5",
                "#B0BEC5",
                "#B0BEC5",
                "red",
                "#B0BEC5",
                "#B0BEC5",
                "#B0BEC5",
                "#B0BEC5",
                "#B0BEC5",
                "#B0BEC5",
                "#B0BEC5",
                "#B0BEC5",
                "#B0BEC5",
                "#B0BEC5",
                "#B0BEC5",
                "#B0BEC5",
                "#B0BEC5",
                "#B0BEC5",
                "#B0BEC5",
                "#B0BEC5",
                "#B0BEC5",
                "#B0BEC5",
                "#B0BEC5",
                "#B0BEC5",
                "#B0BEC5",
                "#B0BEC5",
                "#B0BEC5",
                "#B0BEC5",
                "#B0BEC5",
                "#B0BEC5",
                "#B0BEC5",
                "#B0BEC5",
                "#B0BEC5",
                "#B0BEC5",
                "#B0BEC5",
                "#B0BEC5",
                "#B0BEC5",
                "#B0BEC5",
                "#B0BEC5",
                "#B0BEC5",
                "#B0BEC5",
                "#B0BEC5",
                "#B0BEC5",
                "#B0BEC5",
                "#B0BEC5",
                "#B0BEC5",
                "#B0BEC5",
                "#B0BEC5",
                "#B0BEC5",
                "#B0BEC5",
                "#B0BEC5",
                "#B0BEC5",
                "#B0BEC5",
                "#B0BEC5",
                "#B0BEC5",
                "#B0BEC5",
                "#B0BEC5",
                "#B0BEC5",
                "#B0BEC5"
               ]
              ]
             }
            ],
            "label": "Topic 3",
            "method": "update"
           },
           {
            "args": [
             {
              "marker.color": [
               [
                "#B0BEC5",
                "#B0BEC5",
                "#B0BEC5",
                "#B0BEC5",
                "red",
                "#B0BEC5",
                "#B0BEC5",
                "#B0BEC5",
                "#B0BEC5",
                "#B0BEC5",
                "#B0BEC5",
                "#B0BEC5",
                "#B0BEC5",
                "#B0BEC5",
                "#B0BEC5",
                "#B0BEC5",
                "#B0BEC5",
                "#B0BEC5",
                "#B0BEC5",
                "#B0BEC5",
                "#B0BEC5",
                "#B0BEC5",
                "#B0BEC5",
                "#B0BEC5",
                "#B0BEC5",
                "#B0BEC5",
                "#B0BEC5",
                "#B0BEC5",
                "#B0BEC5",
                "#B0BEC5",
                "#B0BEC5",
                "#B0BEC5",
                "#B0BEC5",
                "#B0BEC5",
                "#B0BEC5",
                "#B0BEC5",
                "#B0BEC5",
                "#B0BEC5",
                "#B0BEC5",
                "#B0BEC5",
                "#B0BEC5",
                "#B0BEC5",
                "#B0BEC5",
                "#B0BEC5",
                "#B0BEC5",
                "#B0BEC5",
                "#B0BEC5",
                "#B0BEC5",
                "#B0BEC5",
                "#B0BEC5",
                "#B0BEC5",
                "#B0BEC5",
                "#B0BEC5",
                "#B0BEC5",
                "#B0BEC5",
                "#B0BEC5",
                "#B0BEC5",
                "#B0BEC5",
                "#B0BEC5"
               ]
              ]
             }
            ],
            "label": "Topic 4",
            "method": "update"
           },
           {
            "args": [
             {
              "marker.color": [
               [
                "#B0BEC5",
                "#B0BEC5",
                "#B0BEC5",
                "#B0BEC5",
                "#B0BEC5",
                "red",
                "#B0BEC5",
                "#B0BEC5",
                "#B0BEC5",
                "#B0BEC5",
                "#B0BEC5",
                "#B0BEC5",
                "#B0BEC5",
                "#B0BEC5",
                "#B0BEC5",
                "#B0BEC5",
                "#B0BEC5",
                "#B0BEC5",
                "#B0BEC5",
                "#B0BEC5",
                "#B0BEC5",
                "#B0BEC5",
                "#B0BEC5",
                "#B0BEC5",
                "#B0BEC5",
                "#B0BEC5",
                "#B0BEC5",
                "#B0BEC5",
                "#B0BEC5",
                "#B0BEC5",
                "#B0BEC5",
                "#B0BEC5",
                "#B0BEC5",
                "#B0BEC5",
                "#B0BEC5",
                "#B0BEC5",
                "#B0BEC5",
                "#B0BEC5",
                "#B0BEC5",
                "#B0BEC5",
                "#B0BEC5",
                "#B0BEC5",
                "#B0BEC5",
                "#B0BEC5",
                "#B0BEC5",
                "#B0BEC5",
                "#B0BEC5",
                "#B0BEC5",
                "#B0BEC5",
                "#B0BEC5",
                "#B0BEC5",
                "#B0BEC5",
                "#B0BEC5",
                "#B0BEC5",
                "#B0BEC5",
                "#B0BEC5",
                "#B0BEC5",
                "#B0BEC5",
                "#B0BEC5"
               ]
              ]
             }
            ],
            "label": "Topic 5",
            "method": "update"
           },
           {
            "args": [
             {
              "marker.color": [
               [
                "#B0BEC5",
                "#B0BEC5",
                "#B0BEC5",
                "#B0BEC5",
                "#B0BEC5",
                "#B0BEC5",
                "red",
                "#B0BEC5",
                "#B0BEC5",
                "#B0BEC5",
                "#B0BEC5",
                "#B0BEC5",
                "#B0BEC5",
                "#B0BEC5",
                "#B0BEC5",
                "#B0BEC5",
                "#B0BEC5",
                "#B0BEC5",
                "#B0BEC5",
                "#B0BEC5",
                "#B0BEC5",
                "#B0BEC5",
                "#B0BEC5",
                "#B0BEC5",
                "#B0BEC5",
                "#B0BEC5",
                "#B0BEC5",
                "#B0BEC5",
                "#B0BEC5",
                "#B0BEC5",
                "#B0BEC5",
                "#B0BEC5",
                "#B0BEC5",
                "#B0BEC5",
                "#B0BEC5",
                "#B0BEC5",
                "#B0BEC5",
                "#B0BEC5",
                "#B0BEC5",
                "#B0BEC5",
                "#B0BEC5",
                "#B0BEC5",
                "#B0BEC5",
                "#B0BEC5",
                "#B0BEC5",
                "#B0BEC5",
                "#B0BEC5",
                "#B0BEC5",
                "#B0BEC5",
                "#B0BEC5",
                "#B0BEC5",
                "#B0BEC5",
                "#B0BEC5",
                "#B0BEC5",
                "#B0BEC5",
                "#B0BEC5",
                "#B0BEC5",
                "#B0BEC5",
                "#B0BEC5"
               ]
              ]
             }
            ],
            "label": "Topic 6",
            "method": "update"
           },
           {
            "args": [
             {
              "marker.color": [
               [
                "#B0BEC5",
                "#B0BEC5",
                "#B0BEC5",
                "#B0BEC5",
                "#B0BEC5",
                "#B0BEC5",
                "#B0BEC5",
                "red",
                "#B0BEC5",
                "#B0BEC5",
                "#B0BEC5",
                "#B0BEC5",
                "#B0BEC5",
                "#B0BEC5",
                "#B0BEC5",
                "#B0BEC5",
                "#B0BEC5",
                "#B0BEC5",
                "#B0BEC5",
                "#B0BEC5",
                "#B0BEC5",
                "#B0BEC5",
                "#B0BEC5",
                "#B0BEC5",
                "#B0BEC5",
                "#B0BEC5",
                "#B0BEC5",
                "#B0BEC5",
                "#B0BEC5",
                "#B0BEC5",
                "#B0BEC5",
                "#B0BEC5",
                "#B0BEC5",
                "#B0BEC5",
                "#B0BEC5",
                "#B0BEC5",
                "#B0BEC5",
                "#B0BEC5",
                "#B0BEC5",
                "#B0BEC5",
                "#B0BEC5",
                "#B0BEC5",
                "#B0BEC5",
                "#B0BEC5",
                "#B0BEC5",
                "#B0BEC5",
                "#B0BEC5",
                "#B0BEC5",
                "#B0BEC5",
                "#B0BEC5",
                "#B0BEC5",
                "#B0BEC5",
                "#B0BEC5",
                "#B0BEC5",
                "#B0BEC5",
                "#B0BEC5",
                "#B0BEC5",
                "#B0BEC5",
                "#B0BEC5"
               ]
              ]
             }
            ],
            "label": "Topic 7",
            "method": "update"
           },
           {
            "args": [
             {
              "marker.color": [
               [
                "#B0BEC5",
                "#B0BEC5",
                "#B0BEC5",
                "#B0BEC5",
                "#B0BEC5",
                "#B0BEC5",
                "#B0BEC5",
                "#B0BEC5",
                "red",
                "#B0BEC5",
                "#B0BEC5",
                "#B0BEC5",
                "#B0BEC5",
                "#B0BEC5",
                "#B0BEC5",
                "#B0BEC5",
                "#B0BEC5",
                "#B0BEC5",
                "#B0BEC5",
                "#B0BEC5",
                "#B0BEC5",
                "#B0BEC5",
                "#B0BEC5",
                "#B0BEC5",
                "#B0BEC5",
                "#B0BEC5",
                "#B0BEC5",
                "#B0BEC5",
                "#B0BEC5",
                "#B0BEC5",
                "#B0BEC5",
                "#B0BEC5",
                "#B0BEC5",
                "#B0BEC5",
                "#B0BEC5",
                "#B0BEC5",
                "#B0BEC5",
                "#B0BEC5",
                "#B0BEC5",
                "#B0BEC5",
                "#B0BEC5",
                "#B0BEC5",
                "#B0BEC5",
                "#B0BEC5",
                "#B0BEC5",
                "#B0BEC5",
                "#B0BEC5",
                "#B0BEC5",
                "#B0BEC5",
                "#B0BEC5",
                "#B0BEC5",
                "#B0BEC5",
                "#B0BEC5",
                "#B0BEC5",
                "#B0BEC5",
                "#B0BEC5",
                "#B0BEC5",
                "#B0BEC5",
                "#B0BEC5"
               ]
              ]
             }
            ],
            "label": "Topic 8",
            "method": "update"
           },
           {
            "args": [
             {
              "marker.color": [
               [
                "#B0BEC5",
                "#B0BEC5",
                "#B0BEC5",
                "#B0BEC5",
                "#B0BEC5",
                "#B0BEC5",
                "#B0BEC5",
                "#B0BEC5",
                "#B0BEC5",
                "red",
                "#B0BEC5",
                "#B0BEC5",
                "#B0BEC5",
                "#B0BEC5",
                "#B0BEC5",
                "#B0BEC5",
                "#B0BEC5",
                "#B0BEC5",
                "#B0BEC5",
                "#B0BEC5",
                "#B0BEC5",
                "#B0BEC5",
                "#B0BEC5",
                "#B0BEC5",
                "#B0BEC5",
                "#B0BEC5",
                "#B0BEC5",
                "#B0BEC5",
                "#B0BEC5",
                "#B0BEC5",
                "#B0BEC5",
                "#B0BEC5",
                "#B0BEC5",
                "#B0BEC5",
                "#B0BEC5",
                "#B0BEC5",
                "#B0BEC5",
                "#B0BEC5",
                "#B0BEC5",
                "#B0BEC5",
                "#B0BEC5",
                "#B0BEC5",
                "#B0BEC5",
                "#B0BEC5",
                "#B0BEC5",
                "#B0BEC5",
                "#B0BEC5",
                "#B0BEC5",
                "#B0BEC5",
                "#B0BEC5",
                "#B0BEC5",
                "#B0BEC5",
                "#B0BEC5",
                "#B0BEC5",
                "#B0BEC5",
                "#B0BEC5",
                "#B0BEC5",
                "#B0BEC5",
                "#B0BEC5"
               ]
              ]
             }
            ],
            "label": "Topic 9",
            "method": "update"
           },
           {
            "args": [
             {
              "marker.color": [
               [
                "#B0BEC5",
                "#B0BEC5",
                "#B0BEC5",
                "#B0BEC5",
                "#B0BEC5",
                "#B0BEC5",
                "#B0BEC5",
                "#B0BEC5",
                "#B0BEC5",
                "#B0BEC5",
                "red",
                "#B0BEC5",
                "#B0BEC5",
                "#B0BEC5",
                "#B0BEC5",
                "#B0BEC5",
                "#B0BEC5",
                "#B0BEC5",
                "#B0BEC5",
                "#B0BEC5",
                "#B0BEC5",
                "#B0BEC5",
                "#B0BEC5",
                "#B0BEC5",
                "#B0BEC5",
                "#B0BEC5",
                "#B0BEC5",
                "#B0BEC5",
                "#B0BEC5",
                "#B0BEC5",
                "#B0BEC5",
                "#B0BEC5",
                "#B0BEC5",
                "#B0BEC5",
                "#B0BEC5",
                "#B0BEC5",
                "#B0BEC5",
                "#B0BEC5",
                "#B0BEC5",
                "#B0BEC5",
                "#B0BEC5",
                "#B0BEC5",
                "#B0BEC5",
                "#B0BEC5",
                "#B0BEC5",
                "#B0BEC5",
                "#B0BEC5",
                "#B0BEC5",
                "#B0BEC5",
                "#B0BEC5",
                "#B0BEC5",
                "#B0BEC5",
                "#B0BEC5",
                "#B0BEC5",
                "#B0BEC5",
                "#B0BEC5",
                "#B0BEC5",
                "#B0BEC5",
                "#B0BEC5"
               ]
              ]
             }
            ],
            "label": "Topic 10",
            "method": "update"
           },
           {
            "args": [
             {
              "marker.color": [
               [
                "#B0BEC5",
                "#B0BEC5",
                "#B0BEC5",
                "#B0BEC5",
                "#B0BEC5",
                "#B0BEC5",
                "#B0BEC5",
                "#B0BEC5",
                "#B0BEC5",
                "#B0BEC5",
                "#B0BEC5",
                "red",
                "#B0BEC5",
                "#B0BEC5",
                "#B0BEC5",
                "#B0BEC5",
                "#B0BEC5",
                "#B0BEC5",
                "#B0BEC5",
                "#B0BEC5",
                "#B0BEC5",
                "#B0BEC5",
                "#B0BEC5",
                "#B0BEC5",
                "#B0BEC5",
                "#B0BEC5",
                "#B0BEC5",
                "#B0BEC5",
                "#B0BEC5",
                "#B0BEC5",
                "#B0BEC5",
                "#B0BEC5",
                "#B0BEC5",
                "#B0BEC5",
                "#B0BEC5",
                "#B0BEC5",
                "#B0BEC5",
                "#B0BEC5",
                "#B0BEC5",
                "#B0BEC5",
                "#B0BEC5",
                "#B0BEC5",
                "#B0BEC5",
                "#B0BEC5",
                "#B0BEC5",
                "#B0BEC5",
                "#B0BEC5",
                "#B0BEC5",
                "#B0BEC5",
                "#B0BEC5",
                "#B0BEC5",
                "#B0BEC5",
                "#B0BEC5",
                "#B0BEC5",
                "#B0BEC5",
                "#B0BEC5",
                "#B0BEC5",
                "#B0BEC5",
                "#B0BEC5"
               ]
              ]
             }
            ],
            "label": "Topic 11",
            "method": "update"
           },
           {
            "args": [
             {
              "marker.color": [
               [
                "#B0BEC5",
                "#B0BEC5",
                "#B0BEC5",
                "#B0BEC5",
                "#B0BEC5",
                "#B0BEC5",
                "#B0BEC5",
                "#B0BEC5",
                "#B0BEC5",
                "#B0BEC5",
                "#B0BEC5",
                "#B0BEC5",
                "red",
                "#B0BEC5",
                "#B0BEC5",
                "#B0BEC5",
                "#B0BEC5",
                "#B0BEC5",
                "#B0BEC5",
                "#B0BEC5",
                "#B0BEC5",
                "#B0BEC5",
                "#B0BEC5",
                "#B0BEC5",
                "#B0BEC5",
                "#B0BEC5",
                "#B0BEC5",
                "#B0BEC5",
                "#B0BEC5",
                "#B0BEC5",
                "#B0BEC5",
                "#B0BEC5",
                "#B0BEC5",
                "#B0BEC5",
                "#B0BEC5",
                "#B0BEC5",
                "#B0BEC5",
                "#B0BEC5",
                "#B0BEC5",
                "#B0BEC5",
                "#B0BEC5",
                "#B0BEC5",
                "#B0BEC5",
                "#B0BEC5",
                "#B0BEC5",
                "#B0BEC5",
                "#B0BEC5",
                "#B0BEC5",
                "#B0BEC5",
                "#B0BEC5",
                "#B0BEC5",
                "#B0BEC5",
                "#B0BEC5",
                "#B0BEC5",
                "#B0BEC5",
                "#B0BEC5",
                "#B0BEC5",
                "#B0BEC5",
                "#B0BEC5"
               ]
              ]
             }
            ],
            "label": "Topic 12",
            "method": "update"
           },
           {
            "args": [
             {
              "marker.color": [
               [
                "#B0BEC5",
                "#B0BEC5",
                "#B0BEC5",
                "#B0BEC5",
                "#B0BEC5",
                "#B0BEC5",
                "#B0BEC5",
                "#B0BEC5",
                "#B0BEC5",
                "#B0BEC5",
                "#B0BEC5",
                "#B0BEC5",
                "#B0BEC5",
                "red",
                "#B0BEC5",
                "#B0BEC5",
                "#B0BEC5",
                "#B0BEC5",
                "#B0BEC5",
                "#B0BEC5",
                "#B0BEC5",
                "#B0BEC5",
                "#B0BEC5",
                "#B0BEC5",
                "#B0BEC5",
                "#B0BEC5",
                "#B0BEC5",
                "#B0BEC5",
                "#B0BEC5",
                "#B0BEC5",
                "#B0BEC5",
                "#B0BEC5",
                "#B0BEC5",
                "#B0BEC5",
                "#B0BEC5",
                "#B0BEC5",
                "#B0BEC5",
                "#B0BEC5",
                "#B0BEC5",
                "#B0BEC5",
                "#B0BEC5",
                "#B0BEC5",
                "#B0BEC5",
                "#B0BEC5",
                "#B0BEC5",
                "#B0BEC5",
                "#B0BEC5",
                "#B0BEC5",
                "#B0BEC5",
                "#B0BEC5",
                "#B0BEC5",
                "#B0BEC5",
                "#B0BEC5",
                "#B0BEC5",
                "#B0BEC5",
                "#B0BEC5",
                "#B0BEC5",
                "#B0BEC5",
                "#B0BEC5"
               ]
              ]
             }
            ],
            "label": "Topic 13",
            "method": "update"
           },
           {
            "args": [
             {
              "marker.color": [
               [
                "#B0BEC5",
                "#B0BEC5",
                "#B0BEC5",
                "#B0BEC5",
                "#B0BEC5",
                "#B0BEC5",
                "#B0BEC5",
                "#B0BEC5",
                "#B0BEC5",
                "#B0BEC5",
                "#B0BEC5",
                "#B0BEC5",
                "#B0BEC5",
                "#B0BEC5",
                "red",
                "#B0BEC5",
                "#B0BEC5",
                "#B0BEC5",
                "#B0BEC5",
                "#B0BEC5",
                "#B0BEC5",
                "#B0BEC5",
                "#B0BEC5",
                "#B0BEC5",
                "#B0BEC5",
                "#B0BEC5",
                "#B0BEC5",
                "#B0BEC5",
                "#B0BEC5",
                "#B0BEC5",
                "#B0BEC5",
                "#B0BEC5",
                "#B0BEC5",
                "#B0BEC5",
                "#B0BEC5",
                "#B0BEC5",
                "#B0BEC5",
                "#B0BEC5",
                "#B0BEC5",
                "#B0BEC5",
                "#B0BEC5",
                "#B0BEC5",
                "#B0BEC5",
                "#B0BEC5",
                "#B0BEC5",
                "#B0BEC5",
                "#B0BEC5",
                "#B0BEC5",
                "#B0BEC5",
                "#B0BEC5",
                "#B0BEC5",
                "#B0BEC5",
                "#B0BEC5",
                "#B0BEC5",
                "#B0BEC5",
                "#B0BEC5",
                "#B0BEC5",
                "#B0BEC5",
                "#B0BEC5"
               ]
              ]
             }
            ],
            "label": "Topic 14",
            "method": "update"
           },
           {
            "args": [
             {
              "marker.color": [
               [
                "#B0BEC5",
                "#B0BEC5",
                "#B0BEC5",
                "#B0BEC5",
                "#B0BEC5",
                "#B0BEC5",
                "#B0BEC5",
                "#B0BEC5",
                "#B0BEC5",
                "#B0BEC5",
                "#B0BEC5",
                "#B0BEC5",
                "#B0BEC5",
                "#B0BEC5",
                "#B0BEC5",
                "red",
                "#B0BEC5",
                "#B0BEC5",
                "#B0BEC5",
                "#B0BEC5",
                "#B0BEC5",
                "#B0BEC5",
                "#B0BEC5",
                "#B0BEC5",
                "#B0BEC5",
                "#B0BEC5",
                "#B0BEC5",
                "#B0BEC5",
                "#B0BEC5",
                "#B0BEC5",
                "#B0BEC5",
                "#B0BEC5",
                "#B0BEC5",
                "#B0BEC5",
                "#B0BEC5",
                "#B0BEC5",
                "#B0BEC5",
                "#B0BEC5",
                "#B0BEC5",
                "#B0BEC5",
                "#B0BEC5",
                "#B0BEC5",
                "#B0BEC5",
                "#B0BEC5",
                "#B0BEC5",
                "#B0BEC5",
                "#B0BEC5",
                "#B0BEC5",
                "#B0BEC5",
                "#B0BEC5",
                "#B0BEC5",
                "#B0BEC5",
                "#B0BEC5",
                "#B0BEC5",
                "#B0BEC5",
                "#B0BEC5",
                "#B0BEC5",
                "#B0BEC5",
                "#B0BEC5"
               ]
              ]
             }
            ],
            "label": "Topic 15",
            "method": "update"
           },
           {
            "args": [
             {
              "marker.color": [
               [
                "#B0BEC5",
                "#B0BEC5",
                "#B0BEC5",
                "#B0BEC5",
                "#B0BEC5",
                "#B0BEC5",
                "#B0BEC5",
                "#B0BEC5",
                "#B0BEC5",
                "#B0BEC5",
                "#B0BEC5",
                "#B0BEC5",
                "#B0BEC5",
                "#B0BEC5",
                "#B0BEC5",
                "#B0BEC5",
                "red",
                "#B0BEC5",
                "#B0BEC5",
                "#B0BEC5",
                "#B0BEC5",
                "#B0BEC5",
                "#B0BEC5",
                "#B0BEC5",
                "#B0BEC5",
                "#B0BEC5",
                "#B0BEC5",
                "#B0BEC5",
                "#B0BEC5",
                "#B0BEC5",
                "#B0BEC5",
                "#B0BEC5",
                "#B0BEC5",
                "#B0BEC5",
                "#B0BEC5",
                "#B0BEC5",
                "#B0BEC5",
                "#B0BEC5",
                "#B0BEC5",
                "#B0BEC5",
                "#B0BEC5",
                "#B0BEC5",
                "#B0BEC5",
                "#B0BEC5",
                "#B0BEC5",
                "#B0BEC5",
                "#B0BEC5",
                "#B0BEC5",
                "#B0BEC5",
                "#B0BEC5",
                "#B0BEC5",
                "#B0BEC5",
                "#B0BEC5",
                "#B0BEC5",
                "#B0BEC5",
                "#B0BEC5",
                "#B0BEC5",
                "#B0BEC5",
                "#B0BEC5"
               ]
              ]
             }
            ],
            "label": "Topic 16",
            "method": "update"
           },
           {
            "args": [
             {
              "marker.color": [
               [
                "#B0BEC5",
                "#B0BEC5",
                "#B0BEC5",
                "#B0BEC5",
                "#B0BEC5",
                "#B0BEC5",
                "#B0BEC5",
                "#B0BEC5",
                "#B0BEC5",
                "#B0BEC5",
                "#B0BEC5",
                "#B0BEC5",
                "#B0BEC5",
                "#B0BEC5",
                "#B0BEC5",
                "#B0BEC5",
                "#B0BEC5",
                "red",
                "#B0BEC5",
                "#B0BEC5",
                "#B0BEC5",
                "#B0BEC5",
                "#B0BEC5",
                "#B0BEC5",
                "#B0BEC5",
                "#B0BEC5",
                "#B0BEC5",
                "#B0BEC5",
                "#B0BEC5",
                "#B0BEC5",
                "#B0BEC5",
                "#B0BEC5",
                "#B0BEC5",
                "#B0BEC5",
                "#B0BEC5",
                "#B0BEC5",
                "#B0BEC5",
                "#B0BEC5",
                "#B0BEC5",
                "#B0BEC5",
                "#B0BEC5",
                "#B0BEC5",
                "#B0BEC5",
                "#B0BEC5",
                "#B0BEC5",
                "#B0BEC5",
                "#B0BEC5",
                "#B0BEC5",
                "#B0BEC5",
                "#B0BEC5",
                "#B0BEC5",
                "#B0BEC5",
                "#B0BEC5",
                "#B0BEC5",
                "#B0BEC5",
                "#B0BEC5",
                "#B0BEC5",
                "#B0BEC5",
                "#B0BEC5"
               ]
              ]
             }
            ],
            "label": "Topic 17",
            "method": "update"
           },
           {
            "args": [
             {
              "marker.color": [
               [
                "#B0BEC5",
                "#B0BEC5",
                "#B0BEC5",
                "#B0BEC5",
                "#B0BEC5",
                "#B0BEC5",
                "#B0BEC5",
                "#B0BEC5",
                "#B0BEC5",
                "#B0BEC5",
                "#B0BEC5",
                "#B0BEC5",
                "#B0BEC5",
                "#B0BEC5",
                "#B0BEC5",
                "#B0BEC5",
                "#B0BEC5",
                "#B0BEC5",
                "red",
                "#B0BEC5",
                "#B0BEC5",
                "#B0BEC5",
                "#B0BEC5",
                "#B0BEC5",
                "#B0BEC5",
                "#B0BEC5",
                "#B0BEC5",
                "#B0BEC5",
                "#B0BEC5",
                "#B0BEC5",
                "#B0BEC5",
                "#B0BEC5",
                "#B0BEC5",
                "#B0BEC5",
                "#B0BEC5",
                "#B0BEC5",
                "#B0BEC5",
                "#B0BEC5",
                "#B0BEC5",
                "#B0BEC5",
                "#B0BEC5",
                "#B0BEC5",
                "#B0BEC5",
                "#B0BEC5",
                "#B0BEC5",
                "#B0BEC5",
                "#B0BEC5",
                "#B0BEC5",
                "#B0BEC5",
                "#B0BEC5",
                "#B0BEC5",
                "#B0BEC5",
                "#B0BEC5",
                "#B0BEC5",
                "#B0BEC5",
                "#B0BEC5",
                "#B0BEC5",
                "#B0BEC5",
                "#B0BEC5"
               ]
              ]
             }
            ],
            "label": "Topic 18",
            "method": "update"
           },
           {
            "args": [
             {
              "marker.color": [
               [
                "#B0BEC5",
                "#B0BEC5",
                "#B0BEC5",
                "#B0BEC5",
                "#B0BEC5",
                "#B0BEC5",
                "#B0BEC5",
                "#B0BEC5",
                "#B0BEC5",
                "#B0BEC5",
                "#B0BEC5",
                "#B0BEC5",
                "#B0BEC5",
                "#B0BEC5",
                "#B0BEC5",
                "#B0BEC5",
                "#B0BEC5",
                "#B0BEC5",
                "#B0BEC5",
                "red",
                "#B0BEC5",
                "#B0BEC5",
                "#B0BEC5",
                "#B0BEC5",
                "#B0BEC5",
                "#B0BEC5",
                "#B0BEC5",
                "#B0BEC5",
                "#B0BEC5",
                "#B0BEC5",
                "#B0BEC5",
                "#B0BEC5",
                "#B0BEC5",
                "#B0BEC5",
                "#B0BEC5",
                "#B0BEC5",
                "#B0BEC5",
                "#B0BEC5",
                "#B0BEC5",
                "#B0BEC5",
                "#B0BEC5",
                "#B0BEC5",
                "#B0BEC5",
                "#B0BEC5",
                "#B0BEC5",
                "#B0BEC5",
                "#B0BEC5",
                "#B0BEC5",
                "#B0BEC5",
                "#B0BEC5",
                "#B0BEC5",
                "#B0BEC5",
                "#B0BEC5",
                "#B0BEC5",
                "#B0BEC5",
                "#B0BEC5",
                "#B0BEC5",
                "#B0BEC5",
                "#B0BEC5"
               ]
              ]
             }
            ],
            "label": "Topic 19",
            "method": "update"
           },
           {
            "args": [
             {
              "marker.color": [
               [
                "#B0BEC5",
                "#B0BEC5",
                "#B0BEC5",
                "#B0BEC5",
                "#B0BEC5",
                "#B0BEC5",
                "#B0BEC5",
                "#B0BEC5",
                "#B0BEC5",
                "#B0BEC5",
                "#B0BEC5",
                "#B0BEC5",
                "#B0BEC5",
                "#B0BEC5",
                "#B0BEC5",
                "#B0BEC5",
                "#B0BEC5",
                "#B0BEC5",
                "#B0BEC5",
                "#B0BEC5",
                "red",
                "#B0BEC5",
                "#B0BEC5",
                "#B0BEC5",
                "#B0BEC5",
                "#B0BEC5",
                "#B0BEC5",
                "#B0BEC5",
                "#B0BEC5",
                "#B0BEC5",
                "#B0BEC5",
                "#B0BEC5",
                "#B0BEC5",
                "#B0BEC5",
                "#B0BEC5",
                "#B0BEC5",
                "#B0BEC5",
                "#B0BEC5",
                "#B0BEC5",
                "#B0BEC5",
                "#B0BEC5",
                "#B0BEC5",
                "#B0BEC5",
                "#B0BEC5",
                "#B0BEC5",
                "#B0BEC5",
                "#B0BEC5",
                "#B0BEC5",
                "#B0BEC5",
                "#B0BEC5",
                "#B0BEC5",
                "#B0BEC5",
                "#B0BEC5",
                "#B0BEC5",
                "#B0BEC5",
                "#B0BEC5",
                "#B0BEC5",
                "#B0BEC5",
                "#B0BEC5"
               ]
              ]
             }
            ],
            "label": "Topic 20",
            "method": "update"
           },
           {
            "args": [
             {
              "marker.color": [
               [
                "#B0BEC5",
                "#B0BEC5",
                "#B0BEC5",
                "#B0BEC5",
                "#B0BEC5",
                "#B0BEC5",
                "#B0BEC5",
                "#B0BEC5",
                "#B0BEC5",
                "#B0BEC5",
                "#B0BEC5",
                "#B0BEC5",
                "#B0BEC5",
                "#B0BEC5",
                "#B0BEC5",
                "#B0BEC5",
                "#B0BEC5",
                "#B0BEC5",
                "#B0BEC5",
                "#B0BEC5",
                "#B0BEC5",
                "red",
                "#B0BEC5",
                "#B0BEC5",
                "#B0BEC5",
                "#B0BEC5",
                "#B0BEC5",
                "#B0BEC5",
                "#B0BEC5",
                "#B0BEC5",
                "#B0BEC5",
                "#B0BEC5",
                "#B0BEC5",
                "#B0BEC5",
                "#B0BEC5",
                "#B0BEC5",
                "#B0BEC5",
                "#B0BEC5",
                "#B0BEC5",
                "#B0BEC5",
                "#B0BEC5",
                "#B0BEC5",
                "#B0BEC5",
                "#B0BEC5",
                "#B0BEC5",
                "#B0BEC5",
                "#B0BEC5",
                "#B0BEC5",
                "#B0BEC5",
                "#B0BEC5",
                "#B0BEC5",
                "#B0BEC5",
                "#B0BEC5",
                "#B0BEC5",
                "#B0BEC5",
                "#B0BEC5",
                "#B0BEC5",
                "#B0BEC5",
                "#B0BEC5"
               ]
              ]
             }
            ],
            "label": "Topic 21",
            "method": "update"
           },
           {
            "args": [
             {
              "marker.color": [
               [
                "#B0BEC5",
                "#B0BEC5",
                "#B0BEC5",
                "#B0BEC5",
                "#B0BEC5",
                "#B0BEC5",
                "#B0BEC5",
                "#B0BEC5",
                "#B0BEC5",
                "#B0BEC5",
                "#B0BEC5",
                "#B0BEC5",
                "#B0BEC5",
                "#B0BEC5",
                "#B0BEC5",
                "#B0BEC5",
                "#B0BEC5",
                "#B0BEC5",
                "#B0BEC5",
                "#B0BEC5",
                "#B0BEC5",
                "#B0BEC5",
                "red",
                "#B0BEC5",
                "#B0BEC5",
                "#B0BEC5",
                "#B0BEC5",
                "#B0BEC5",
                "#B0BEC5",
                "#B0BEC5",
                "#B0BEC5",
                "#B0BEC5",
                "#B0BEC5",
                "#B0BEC5",
                "#B0BEC5",
                "#B0BEC5",
                "#B0BEC5",
                "#B0BEC5",
                "#B0BEC5",
                "#B0BEC5",
                "#B0BEC5",
                "#B0BEC5",
                "#B0BEC5",
                "#B0BEC5",
                "#B0BEC5",
                "#B0BEC5",
                "#B0BEC5",
                "#B0BEC5",
                "#B0BEC5",
                "#B0BEC5",
                "#B0BEC5",
                "#B0BEC5",
                "#B0BEC5",
                "#B0BEC5",
                "#B0BEC5",
                "#B0BEC5",
                "#B0BEC5",
                "#B0BEC5",
                "#B0BEC5"
               ]
              ]
             }
            ],
            "label": "Topic 22",
            "method": "update"
           },
           {
            "args": [
             {
              "marker.color": [
               [
                "#B0BEC5",
                "#B0BEC5",
                "#B0BEC5",
                "#B0BEC5",
                "#B0BEC5",
                "#B0BEC5",
                "#B0BEC5",
                "#B0BEC5",
                "#B0BEC5",
                "#B0BEC5",
                "#B0BEC5",
                "#B0BEC5",
                "#B0BEC5",
                "#B0BEC5",
                "#B0BEC5",
                "#B0BEC5",
                "#B0BEC5",
                "#B0BEC5",
                "#B0BEC5",
                "#B0BEC5",
                "#B0BEC5",
                "#B0BEC5",
                "#B0BEC5",
                "red",
                "#B0BEC5",
                "#B0BEC5",
                "#B0BEC5",
                "#B0BEC5",
                "#B0BEC5",
                "#B0BEC5",
                "#B0BEC5",
                "#B0BEC5",
                "#B0BEC5",
                "#B0BEC5",
                "#B0BEC5",
                "#B0BEC5",
                "#B0BEC5",
                "#B0BEC5",
                "#B0BEC5",
                "#B0BEC5",
                "#B0BEC5",
                "#B0BEC5",
                "#B0BEC5",
                "#B0BEC5",
                "#B0BEC5",
                "#B0BEC5",
                "#B0BEC5",
                "#B0BEC5",
                "#B0BEC5",
                "#B0BEC5",
                "#B0BEC5",
                "#B0BEC5",
                "#B0BEC5",
                "#B0BEC5",
                "#B0BEC5",
                "#B0BEC5",
                "#B0BEC5",
                "#B0BEC5",
                "#B0BEC5"
               ]
              ]
             }
            ],
            "label": "Topic 23",
            "method": "update"
           },
           {
            "args": [
             {
              "marker.color": [
               [
                "#B0BEC5",
                "#B0BEC5",
                "#B0BEC5",
                "#B0BEC5",
                "#B0BEC5",
                "#B0BEC5",
                "#B0BEC5",
                "#B0BEC5",
                "#B0BEC5",
                "#B0BEC5",
                "#B0BEC5",
                "#B0BEC5",
                "#B0BEC5",
                "#B0BEC5",
                "#B0BEC5",
                "#B0BEC5",
                "#B0BEC5",
                "#B0BEC5",
                "#B0BEC5",
                "#B0BEC5",
                "#B0BEC5",
                "#B0BEC5",
                "#B0BEC5",
                "#B0BEC5",
                "red",
                "#B0BEC5",
                "#B0BEC5",
                "#B0BEC5",
                "#B0BEC5",
                "#B0BEC5",
                "#B0BEC5",
                "#B0BEC5",
                "#B0BEC5",
                "#B0BEC5",
                "#B0BEC5",
                "#B0BEC5",
                "#B0BEC5",
                "#B0BEC5",
                "#B0BEC5",
                "#B0BEC5",
                "#B0BEC5",
                "#B0BEC5",
                "#B0BEC5",
                "#B0BEC5",
                "#B0BEC5",
                "#B0BEC5",
                "#B0BEC5",
                "#B0BEC5",
                "#B0BEC5",
                "#B0BEC5",
                "#B0BEC5",
                "#B0BEC5",
                "#B0BEC5",
                "#B0BEC5",
                "#B0BEC5",
                "#B0BEC5",
                "#B0BEC5",
                "#B0BEC5",
                "#B0BEC5"
               ]
              ]
             }
            ],
            "label": "Topic 24",
            "method": "update"
           },
           {
            "args": [
             {
              "marker.color": [
               [
                "#B0BEC5",
                "#B0BEC5",
                "#B0BEC5",
                "#B0BEC5",
                "#B0BEC5",
                "#B0BEC5",
                "#B0BEC5",
                "#B0BEC5",
                "#B0BEC5",
                "#B0BEC5",
                "#B0BEC5",
                "#B0BEC5",
                "#B0BEC5",
                "#B0BEC5",
                "#B0BEC5",
                "#B0BEC5",
                "#B0BEC5",
                "#B0BEC5",
                "#B0BEC5",
                "#B0BEC5",
                "#B0BEC5",
                "#B0BEC5",
                "#B0BEC5",
                "#B0BEC5",
                "#B0BEC5",
                "red",
                "#B0BEC5",
                "#B0BEC5",
                "#B0BEC5",
                "#B0BEC5",
                "#B0BEC5",
                "#B0BEC5",
                "#B0BEC5",
                "#B0BEC5",
                "#B0BEC5",
                "#B0BEC5",
                "#B0BEC5",
                "#B0BEC5",
                "#B0BEC5",
                "#B0BEC5",
                "#B0BEC5",
                "#B0BEC5",
                "#B0BEC5",
                "#B0BEC5",
                "#B0BEC5",
                "#B0BEC5",
                "#B0BEC5",
                "#B0BEC5",
                "#B0BEC5",
                "#B0BEC5",
                "#B0BEC5",
                "#B0BEC5",
                "#B0BEC5",
                "#B0BEC5",
                "#B0BEC5",
                "#B0BEC5",
                "#B0BEC5",
                "#B0BEC5",
                "#B0BEC5"
               ]
              ]
             }
            ],
            "label": "Topic 25",
            "method": "update"
           },
           {
            "args": [
             {
              "marker.color": [
               [
                "#B0BEC5",
                "#B0BEC5",
                "#B0BEC5",
                "#B0BEC5",
                "#B0BEC5",
                "#B0BEC5",
                "#B0BEC5",
                "#B0BEC5",
                "#B0BEC5",
                "#B0BEC5",
                "#B0BEC5",
                "#B0BEC5",
                "#B0BEC5",
                "#B0BEC5",
                "#B0BEC5",
                "#B0BEC5",
                "#B0BEC5",
                "#B0BEC5",
                "#B0BEC5",
                "#B0BEC5",
                "#B0BEC5",
                "#B0BEC5",
                "#B0BEC5",
                "#B0BEC5",
                "#B0BEC5",
                "#B0BEC5",
                "red",
                "#B0BEC5",
                "#B0BEC5",
                "#B0BEC5",
                "#B0BEC5",
                "#B0BEC5",
                "#B0BEC5",
                "#B0BEC5",
                "#B0BEC5",
                "#B0BEC5",
                "#B0BEC5",
                "#B0BEC5",
                "#B0BEC5",
                "#B0BEC5",
                "#B0BEC5",
                "#B0BEC5",
                "#B0BEC5",
                "#B0BEC5",
                "#B0BEC5",
                "#B0BEC5",
                "#B0BEC5",
                "#B0BEC5",
                "#B0BEC5",
                "#B0BEC5",
                "#B0BEC5",
                "#B0BEC5",
                "#B0BEC5",
                "#B0BEC5",
                "#B0BEC5",
                "#B0BEC5",
                "#B0BEC5",
                "#B0BEC5",
                "#B0BEC5"
               ]
              ]
             }
            ],
            "label": "Topic 26",
            "method": "update"
           },
           {
            "args": [
             {
              "marker.color": [
               [
                "#B0BEC5",
                "#B0BEC5",
                "#B0BEC5",
                "#B0BEC5",
                "#B0BEC5",
                "#B0BEC5",
                "#B0BEC5",
                "#B0BEC5",
                "#B0BEC5",
                "#B0BEC5",
                "#B0BEC5",
                "#B0BEC5",
                "#B0BEC5",
                "#B0BEC5",
                "#B0BEC5",
                "#B0BEC5",
                "#B0BEC5",
                "#B0BEC5",
                "#B0BEC5",
                "#B0BEC5",
                "#B0BEC5",
                "#B0BEC5",
                "#B0BEC5",
                "#B0BEC5",
                "#B0BEC5",
                "#B0BEC5",
                "#B0BEC5",
                "red",
                "#B0BEC5",
                "#B0BEC5",
                "#B0BEC5",
                "#B0BEC5",
                "#B0BEC5",
                "#B0BEC5",
                "#B0BEC5",
                "#B0BEC5",
                "#B0BEC5",
                "#B0BEC5",
                "#B0BEC5",
                "#B0BEC5",
                "#B0BEC5",
                "#B0BEC5",
                "#B0BEC5",
                "#B0BEC5",
                "#B0BEC5",
                "#B0BEC5",
                "#B0BEC5",
                "#B0BEC5",
                "#B0BEC5",
                "#B0BEC5",
                "#B0BEC5",
                "#B0BEC5",
                "#B0BEC5",
                "#B0BEC5",
                "#B0BEC5",
                "#B0BEC5",
                "#B0BEC5",
                "#B0BEC5",
                "#B0BEC5"
               ]
              ]
             }
            ],
            "label": "Topic 27",
            "method": "update"
           },
           {
            "args": [
             {
              "marker.color": [
               [
                "#B0BEC5",
                "#B0BEC5",
                "#B0BEC5",
                "#B0BEC5",
                "#B0BEC5",
                "#B0BEC5",
                "#B0BEC5",
                "#B0BEC5",
                "#B0BEC5",
                "#B0BEC5",
                "#B0BEC5",
                "#B0BEC5",
                "#B0BEC5",
                "#B0BEC5",
                "#B0BEC5",
                "#B0BEC5",
                "#B0BEC5",
                "#B0BEC5",
                "#B0BEC5",
                "#B0BEC5",
                "#B0BEC5",
                "#B0BEC5",
                "#B0BEC5",
                "#B0BEC5",
                "#B0BEC5",
                "#B0BEC5",
                "#B0BEC5",
                "#B0BEC5",
                "red",
                "#B0BEC5",
                "#B0BEC5",
                "#B0BEC5",
                "#B0BEC5",
                "#B0BEC5",
                "#B0BEC5",
                "#B0BEC5",
                "#B0BEC5",
                "#B0BEC5",
                "#B0BEC5",
                "#B0BEC5",
                "#B0BEC5",
                "#B0BEC5",
                "#B0BEC5",
                "#B0BEC5",
                "#B0BEC5",
                "#B0BEC5",
                "#B0BEC5",
                "#B0BEC5",
                "#B0BEC5",
                "#B0BEC5",
                "#B0BEC5",
                "#B0BEC5",
                "#B0BEC5",
                "#B0BEC5",
                "#B0BEC5",
                "#B0BEC5",
                "#B0BEC5",
                "#B0BEC5",
                "#B0BEC5"
               ]
              ]
             }
            ],
            "label": "Topic 28",
            "method": "update"
           },
           {
            "args": [
             {
              "marker.color": [
               [
                "#B0BEC5",
                "#B0BEC5",
                "#B0BEC5",
                "#B0BEC5",
                "#B0BEC5",
                "#B0BEC5",
                "#B0BEC5",
                "#B0BEC5",
                "#B0BEC5",
                "#B0BEC5",
                "#B0BEC5",
                "#B0BEC5",
                "#B0BEC5",
                "#B0BEC5",
                "#B0BEC5",
                "#B0BEC5",
                "#B0BEC5",
                "#B0BEC5",
                "#B0BEC5",
                "#B0BEC5",
                "#B0BEC5",
                "#B0BEC5",
                "#B0BEC5",
                "#B0BEC5",
                "#B0BEC5",
                "#B0BEC5",
                "#B0BEC5",
                "#B0BEC5",
                "#B0BEC5",
                "red",
                "#B0BEC5",
                "#B0BEC5",
                "#B0BEC5",
                "#B0BEC5",
                "#B0BEC5",
                "#B0BEC5",
                "#B0BEC5",
                "#B0BEC5",
                "#B0BEC5",
                "#B0BEC5",
                "#B0BEC5",
                "#B0BEC5",
                "#B0BEC5",
                "#B0BEC5",
                "#B0BEC5",
                "#B0BEC5",
                "#B0BEC5",
                "#B0BEC5",
                "#B0BEC5",
                "#B0BEC5",
                "#B0BEC5",
                "#B0BEC5",
                "#B0BEC5",
                "#B0BEC5",
                "#B0BEC5",
                "#B0BEC5",
                "#B0BEC5",
                "#B0BEC5",
                "#B0BEC5"
               ]
              ]
             }
            ],
            "label": "Topic 29",
            "method": "update"
           },
           {
            "args": [
             {
              "marker.color": [
               [
                "#B0BEC5",
                "#B0BEC5",
                "#B0BEC5",
                "#B0BEC5",
                "#B0BEC5",
                "#B0BEC5",
                "#B0BEC5",
                "#B0BEC5",
                "#B0BEC5",
                "#B0BEC5",
                "#B0BEC5",
                "#B0BEC5",
                "#B0BEC5",
                "#B0BEC5",
                "#B0BEC5",
                "#B0BEC5",
                "#B0BEC5",
                "#B0BEC5",
                "#B0BEC5",
                "#B0BEC5",
                "#B0BEC5",
                "#B0BEC5",
                "#B0BEC5",
                "#B0BEC5",
                "#B0BEC5",
                "#B0BEC5",
                "#B0BEC5",
                "#B0BEC5",
                "#B0BEC5",
                "#B0BEC5",
                "red",
                "#B0BEC5",
                "#B0BEC5",
                "#B0BEC5",
                "#B0BEC5",
                "#B0BEC5",
                "#B0BEC5",
                "#B0BEC5",
                "#B0BEC5",
                "#B0BEC5",
                "#B0BEC5",
                "#B0BEC5",
                "#B0BEC5",
                "#B0BEC5",
                "#B0BEC5",
                "#B0BEC5",
                "#B0BEC5",
                "#B0BEC5",
                "#B0BEC5",
                "#B0BEC5",
                "#B0BEC5",
                "#B0BEC5",
                "#B0BEC5",
                "#B0BEC5",
                "#B0BEC5",
                "#B0BEC5",
                "#B0BEC5",
                "#B0BEC5",
                "#B0BEC5"
               ]
              ]
             }
            ],
            "label": "Topic 30",
            "method": "update"
           },
           {
            "args": [
             {
              "marker.color": [
               [
                "#B0BEC5",
                "#B0BEC5",
                "#B0BEC5",
                "#B0BEC5",
                "#B0BEC5",
                "#B0BEC5",
                "#B0BEC5",
                "#B0BEC5",
                "#B0BEC5",
                "#B0BEC5",
                "#B0BEC5",
                "#B0BEC5",
                "#B0BEC5",
                "#B0BEC5",
                "#B0BEC5",
                "#B0BEC5",
                "#B0BEC5",
                "#B0BEC5",
                "#B0BEC5",
                "#B0BEC5",
                "#B0BEC5",
                "#B0BEC5",
                "#B0BEC5",
                "#B0BEC5",
                "#B0BEC5",
                "#B0BEC5",
                "#B0BEC5",
                "#B0BEC5",
                "#B0BEC5",
                "#B0BEC5",
                "#B0BEC5",
                "red",
                "#B0BEC5",
                "#B0BEC5",
                "#B0BEC5",
                "#B0BEC5",
                "#B0BEC5",
                "#B0BEC5",
                "#B0BEC5",
                "#B0BEC5",
                "#B0BEC5",
                "#B0BEC5",
                "#B0BEC5",
                "#B0BEC5",
                "#B0BEC5",
                "#B0BEC5",
                "#B0BEC5",
                "#B0BEC5",
                "#B0BEC5",
                "#B0BEC5",
                "#B0BEC5",
                "#B0BEC5",
                "#B0BEC5",
                "#B0BEC5",
                "#B0BEC5",
                "#B0BEC5",
                "#B0BEC5",
                "#B0BEC5",
                "#B0BEC5"
               ]
              ]
             }
            ],
            "label": "Topic 31",
            "method": "update"
           },
           {
            "args": [
             {
              "marker.color": [
               [
                "#B0BEC5",
                "#B0BEC5",
                "#B0BEC5",
                "#B0BEC5",
                "#B0BEC5",
                "#B0BEC5",
                "#B0BEC5",
                "#B0BEC5",
                "#B0BEC5",
                "#B0BEC5",
                "#B0BEC5",
                "#B0BEC5",
                "#B0BEC5",
                "#B0BEC5",
                "#B0BEC5",
                "#B0BEC5",
                "#B0BEC5",
                "#B0BEC5",
                "#B0BEC5",
                "#B0BEC5",
                "#B0BEC5",
                "#B0BEC5",
                "#B0BEC5",
                "#B0BEC5",
                "#B0BEC5",
                "#B0BEC5",
                "#B0BEC5",
                "#B0BEC5",
                "#B0BEC5",
                "#B0BEC5",
                "#B0BEC5",
                "#B0BEC5",
                "red",
                "#B0BEC5",
                "#B0BEC5",
                "#B0BEC5",
                "#B0BEC5",
                "#B0BEC5",
                "#B0BEC5",
                "#B0BEC5",
                "#B0BEC5",
                "#B0BEC5",
                "#B0BEC5",
                "#B0BEC5",
                "#B0BEC5",
                "#B0BEC5",
                "#B0BEC5",
                "#B0BEC5",
                "#B0BEC5",
                "#B0BEC5",
                "#B0BEC5",
                "#B0BEC5",
                "#B0BEC5",
                "#B0BEC5",
                "#B0BEC5",
                "#B0BEC5",
                "#B0BEC5",
                "#B0BEC5",
                "#B0BEC5"
               ]
              ]
             }
            ],
            "label": "Topic 32",
            "method": "update"
           },
           {
            "args": [
             {
              "marker.color": [
               [
                "#B0BEC5",
                "#B0BEC5",
                "#B0BEC5",
                "#B0BEC5",
                "#B0BEC5",
                "#B0BEC5",
                "#B0BEC5",
                "#B0BEC5",
                "#B0BEC5",
                "#B0BEC5",
                "#B0BEC5",
                "#B0BEC5",
                "#B0BEC5",
                "#B0BEC5",
                "#B0BEC5",
                "#B0BEC5",
                "#B0BEC5",
                "#B0BEC5",
                "#B0BEC5",
                "#B0BEC5",
                "#B0BEC5",
                "#B0BEC5",
                "#B0BEC5",
                "#B0BEC5",
                "#B0BEC5",
                "#B0BEC5",
                "#B0BEC5",
                "#B0BEC5",
                "#B0BEC5",
                "#B0BEC5",
                "#B0BEC5",
                "#B0BEC5",
                "#B0BEC5",
                "red",
                "#B0BEC5",
                "#B0BEC5",
                "#B0BEC5",
                "#B0BEC5",
                "#B0BEC5",
                "#B0BEC5",
                "#B0BEC5",
                "#B0BEC5",
                "#B0BEC5",
                "#B0BEC5",
                "#B0BEC5",
                "#B0BEC5",
                "#B0BEC5",
                "#B0BEC5",
                "#B0BEC5",
                "#B0BEC5",
                "#B0BEC5",
                "#B0BEC5",
                "#B0BEC5",
                "#B0BEC5",
                "#B0BEC5",
                "#B0BEC5",
                "#B0BEC5",
                "#B0BEC5",
                "#B0BEC5"
               ]
              ]
             }
            ],
            "label": "Topic 33",
            "method": "update"
           },
           {
            "args": [
             {
              "marker.color": [
               [
                "#B0BEC5",
                "#B0BEC5",
                "#B0BEC5",
                "#B0BEC5",
                "#B0BEC5",
                "#B0BEC5",
                "#B0BEC5",
                "#B0BEC5",
                "#B0BEC5",
                "#B0BEC5",
                "#B0BEC5",
                "#B0BEC5",
                "#B0BEC5",
                "#B0BEC5",
                "#B0BEC5",
                "#B0BEC5",
                "#B0BEC5",
                "#B0BEC5",
                "#B0BEC5",
                "#B0BEC5",
                "#B0BEC5",
                "#B0BEC5",
                "#B0BEC5",
                "#B0BEC5",
                "#B0BEC5",
                "#B0BEC5",
                "#B0BEC5",
                "#B0BEC5",
                "#B0BEC5",
                "#B0BEC5",
                "#B0BEC5",
                "#B0BEC5",
                "#B0BEC5",
                "#B0BEC5",
                "red",
                "#B0BEC5",
                "#B0BEC5",
                "#B0BEC5",
                "#B0BEC5",
                "#B0BEC5",
                "#B0BEC5",
                "#B0BEC5",
                "#B0BEC5",
                "#B0BEC5",
                "#B0BEC5",
                "#B0BEC5",
                "#B0BEC5",
                "#B0BEC5",
                "#B0BEC5",
                "#B0BEC5",
                "#B0BEC5",
                "#B0BEC5",
                "#B0BEC5",
                "#B0BEC5",
                "#B0BEC5",
                "#B0BEC5",
                "#B0BEC5",
                "#B0BEC5",
                "#B0BEC5"
               ]
              ]
             }
            ],
            "label": "Topic 34",
            "method": "update"
           },
           {
            "args": [
             {
              "marker.color": [
               [
                "#B0BEC5",
                "#B0BEC5",
                "#B0BEC5",
                "#B0BEC5",
                "#B0BEC5",
                "#B0BEC5",
                "#B0BEC5",
                "#B0BEC5",
                "#B0BEC5",
                "#B0BEC5",
                "#B0BEC5",
                "#B0BEC5",
                "#B0BEC5",
                "#B0BEC5",
                "#B0BEC5",
                "#B0BEC5",
                "#B0BEC5",
                "#B0BEC5",
                "#B0BEC5",
                "#B0BEC5",
                "#B0BEC5",
                "#B0BEC5",
                "#B0BEC5",
                "#B0BEC5",
                "#B0BEC5",
                "#B0BEC5",
                "#B0BEC5",
                "#B0BEC5",
                "#B0BEC5",
                "#B0BEC5",
                "#B0BEC5",
                "#B0BEC5",
                "#B0BEC5",
                "#B0BEC5",
                "#B0BEC5",
                "red",
                "#B0BEC5",
                "#B0BEC5",
                "#B0BEC5",
                "#B0BEC5",
                "#B0BEC5",
                "#B0BEC5",
                "#B0BEC5",
                "#B0BEC5",
                "#B0BEC5",
                "#B0BEC5",
                "#B0BEC5",
                "#B0BEC5",
                "#B0BEC5",
                "#B0BEC5",
                "#B0BEC5",
                "#B0BEC5",
                "#B0BEC5",
                "#B0BEC5",
                "#B0BEC5",
                "#B0BEC5",
                "#B0BEC5",
                "#B0BEC5",
                "#B0BEC5"
               ]
              ]
             }
            ],
            "label": "Topic 35",
            "method": "update"
           },
           {
            "args": [
             {
              "marker.color": [
               [
                "#B0BEC5",
                "#B0BEC5",
                "#B0BEC5",
                "#B0BEC5",
                "#B0BEC5",
                "#B0BEC5",
                "#B0BEC5",
                "#B0BEC5",
                "#B0BEC5",
                "#B0BEC5",
                "#B0BEC5",
                "#B0BEC5",
                "#B0BEC5",
                "#B0BEC5",
                "#B0BEC5",
                "#B0BEC5",
                "#B0BEC5",
                "#B0BEC5",
                "#B0BEC5",
                "#B0BEC5",
                "#B0BEC5",
                "#B0BEC5",
                "#B0BEC5",
                "#B0BEC5",
                "#B0BEC5",
                "#B0BEC5",
                "#B0BEC5",
                "#B0BEC5",
                "#B0BEC5",
                "#B0BEC5",
                "#B0BEC5",
                "#B0BEC5",
                "#B0BEC5",
                "#B0BEC5",
                "#B0BEC5",
                "#B0BEC5",
                "red",
                "#B0BEC5",
                "#B0BEC5",
                "#B0BEC5",
                "#B0BEC5",
                "#B0BEC5",
                "#B0BEC5",
                "#B0BEC5",
                "#B0BEC5",
                "#B0BEC5",
                "#B0BEC5",
                "#B0BEC5",
                "#B0BEC5",
                "#B0BEC5",
                "#B0BEC5",
                "#B0BEC5",
                "#B0BEC5",
                "#B0BEC5",
                "#B0BEC5",
                "#B0BEC5",
                "#B0BEC5",
                "#B0BEC5",
                "#B0BEC5"
               ]
              ]
             }
            ],
            "label": "Topic 36",
            "method": "update"
           },
           {
            "args": [
             {
              "marker.color": [
               [
                "#B0BEC5",
                "#B0BEC5",
                "#B0BEC5",
                "#B0BEC5",
                "#B0BEC5",
                "#B0BEC5",
                "#B0BEC5",
                "#B0BEC5",
                "#B0BEC5",
                "#B0BEC5",
                "#B0BEC5",
                "#B0BEC5",
                "#B0BEC5",
                "#B0BEC5",
                "#B0BEC5",
                "#B0BEC5",
                "#B0BEC5",
                "#B0BEC5",
                "#B0BEC5",
                "#B0BEC5",
                "#B0BEC5",
                "#B0BEC5",
                "#B0BEC5",
                "#B0BEC5",
                "#B0BEC5",
                "#B0BEC5",
                "#B0BEC5",
                "#B0BEC5",
                "#B0BEC5",
                "#B0BEC5",
                "#B0BEC5",
                "#B0BEC5",
                "#B0BEC5",
                "#B0BEC5",
                "#B0BEC5",
                "#B0BEC5",
                "#B0BEC5",
                "red",
                "#B0BEC5",
                "#B0BEC5",
                "#B0BEC5",
                "#B0BEC5",
                "#B0BEC5",
                "#B0BEC5",
                "#B0BEC5",
                "#B0BEC5",
                "#B0BEC5",
                "#B0BEC5",
                "#B0BEC5",
                "#B0BEC5",
                "#B0BEC5",
                "#B0BEC5",
                "#B0BEC5",
                "#B0BEC5",
                "#B0BEC5",
                "#B0BEC5",
                "#B0BEC5",
                "#B0BEC5",
                "#B0BEC5"
               ]
              ]
             }
            ],
            "label": "Topic 37",
            "method": "update"
           },
           {
            "args": [
             {
              "marker.color": [
               [
                "#B0BEC5",
                "#B0BEC5",
                "#B0BEC5",
                "#B0BEC5",
                "#B0BEC5",
                "#B0BEC5",
                "#B0BEC5",
                "#B0BEC5",
                "#B0BEC5",
                "#B0BEC5",
                "#B0BEC5",
                "#B0BEC5",
                "#B0BEC5",
                "#B0BEC5",
                "#B0BEC5",
                "#B0BEC5",
                "#B0BEC5",
                "#B0BEC5",
                "#B0BEC5",
                "#B0BEC5",
                "#B0BEC5",
                "#B0BEC5",
                "#B0BEC5",
                "#B0BEC5",
                "#B0BEC5",
                "#B0BEC5",
                "#B0BEC5",
                "#B0BEC5",
                "#B0BEC5",
                "#B0BEC5",
                "#B0BEC5",
                "#B0BEC5",
                "#B0BEC5",
                "#B0BEC5",
                "#B0BEC5",
                "#B0BEC5",
                "#B0BEC5",
                "#B0BEC5",
                "red",
                "#B0BEC5",
                "#B0BEC5",
                "#B0BEC5",
                "#B0BEC5",
                "#B0BEC5",
                "#B0BEC5",
                "#B0BEC5",
                "#B0BEC5",
                "#B0BEC5",
                "#B0BEC5",
                "#B0BEC5",
                "#B0BEC5",
                "#B0BEC5",
                "#B0BEC5",
                "#B0BEC5",
                "#B0BEC5",
                "#B0BEC5",
                "#B0BEC5",
                "#B0BEC5",
                "#B0BEC5"
               ]
              ]
             }
            ],
            "label": "Topic 38",
            "method": "update"
           },
           {
            "args": [
             {
              "marker.color": [
               [
                "#B0BEC5",
                "#B0BEC5",
                "#B0BEC5",
                "#B0BEC5",
                "#B0BEC5",
                "#B0BEC5",
                "#B0BEC5",
                "#B0BEC5",
                "#B0BEC5",
                "#B0BEC5",
                "#B0BEC5",
                "#B0BEC5",
                "#B0BEC5",
                "#B0BEC5",
                "#B0BEC5",
                "#B0BEC5",
                "#B0BEC5",
                "#B0BEC5",
                "#B0BEC5",
                "#B0BEC5",
                "#B0BEC5",
                "#B0BEC5",
                "#B0BEC5",
                "#B0BEC5",
                "#B0BEC5",
                "#B0BEC5",
                "#B0BEC5",
                "#B0BEC5",
                "#B0BEC5",
                "#B0BEC5",
                "#B0BEC5",
                "#B0BEC5",
                "#B0BEC5",
                "#B0BEC5",
                "#B0BEC5",
                "#B0BEC5",
                "#B0BEC5",
                "#B0BEC5",
                "#B0BEC5",
                "red",
                "#B0BEC5",
                "#B0BEC5",
                "#B0BEC5",
                "#B0BEC5",
                "#B0BEC5",
                "#B0BEC5",
                "#B0BEC5",
                "#B0BEC5",
                "#B0BEC5",
                "#B0BEC5",
                "#B0BEC5",
                "#B0BEC5",
                "#B0BEC5",
                "#B0BEC5",
                "#B0BEC5",
                "#B0BEC5",
                "#B0BEC5",
                "#B0BEC5",
                "#B0BEC5"
               ]
              ]
             }
            ],
            "label": "Topic 39",
            "method": "update"
           },
           {
            "args": [
             {
              "marker.color": [
               [
                "#B0BEC5",
                "#B0BEC5",
                "#B0BEC5",
                "#B0BEC5",
                "#B0BEC5",
                "#B0BEC5",
                "#B0BEC5",
                "#B0BEC5",
                "#B0BEC5",
                "#B0BEC5",
                "#B0BEC5",
                "#B0BEC5",
                "#B0BEC5",
                "#B0BEC5",
                "#B0BEC5",
                "#B0BEC5",
                "#B0BEC5",
                "#B0BEC5",
                "#B0BEC5",
                "#B0BEC5",
                "#B0BEC5",
                "#B0BEC5",
                "#B0BEC5",
                "#B0BEC5",
                "#B0BEC5",
                "#B0BEC5",
                "#B0BEC5",
                "#B0BEC5",
                "#B0BEC5",
                "#B0BEC5",
                "#B0BEC5",
                "#B0BEC5",
                "#B0BEC5",
                "#B0BEC5",
                "#B0BEC5",
                "#B0BEC5",
                "#B0BEC5",
                "#B0BEC5",
                "#B0BEC5",
                "#B0BEC5",
                "red",
                "#B0BEC5",
                "#B0BEC5",
                "#B0BEC5",
                "#B0BEC5",
                "#B0BEC5",
                "#B0BEC5",
                "#B0BEC5",
                "#B0BEC5",
                "#B0BEC5",
                "#B0BEC5",
                "#B0BEC5",
                "#B0BEC5",
                "#B0BEC5",
                "#B0BEC5",
                "#B0BEC5",
                "#B0BEC5",
                "#B0BEC5",
                "#B0BEC5"
               ]
              ]
             }
            ],
            "label": "Topic 40",
            "method": "update"
           },
           {
            "args": [
             {
              "marker.color": [
               [
                "#B0BEC5",
                "#B0BEC5",
                "#B0BEC5",
                "#B0BEC5",
                "#B0BEC5",
                "#B0BEC5",
                "#B0BEC5",
                "#B0BEC5",
                "#B0BEC5",
                "#B0BEC5",
                "#B0BEC5",
                "#B0BEC5",
                "#B0BEC5",
                "#B0BEC5",
                "#B0BEC5",
                "#B0BEC5",
                "#B0BEC5",
                "#B0BEC5",
                "#B0BEC5",
                "#B0BEC5",
                "#B0BEC5",
                "#B0BEC5",
                "#B0BEC5",
                "#B0BEC5",
                "#B0BEC5",
                "#B0BEC5",
                "#B0BEC5",
                "#B0BEC5",
                "#B0BEC5",
                "#B0BEC5",
                "#B0BEC5",
                "#B0BEC5",
                "#B0BEC5",
                "#B0BEC5",
                "#B0BEC5",
                "#B0BEC5",
                "#B0BEC5",
                "#B0BEC5",
                "#B0BEC5",
                "#B0BEC5",
                "#B0BEC5",
                "red",
                "#B0BEC5",
                "#B0BEC5",
                "#B0BEC5",
                "#B0BEC5",
                "#B0BEC5",
                "#B0BEC5",
                "#B0BEC5",
                "#B0BEC5",
                "#B0BEC5",
                "#B0BEC5",
                "#B0BEC5",
                "#B0BEC5",
                "#B0BEC5",
                "#B0BEC5",
                "#B0BEC5",
                "#B0BEC5",
                "#B0BEC5"
               ]
              ]
             }
            ],
            "label": "Topic 41",
            "method": "update"
           },
           {
            "args": [
             {
              "marker.color": [
               [
                "#B0BEC5",
                "#B0BEC5",
                "#B0BEC5",
                "#B0BEC5",
                "#B0BEC5",
                "#B0BEC5",
                "#B0BEC5",
                "#B0BEC5",
                "#B0BEC5",
                "#B0BEC5",
                "#B0BEC5",
                "#B0BEC5",
                "#B0BEC5",
                "#B0BEC5",
                "#B0BEC5",
                "#B0BEC5",
                "#B0BEC5",
                "#B0BEC5",
                "#B0BEC5",
                "#B0BEC5",
                "#B0BEC5",
                "#B0BEC5",
                "#B0BEC5",
                "#B0BEC5",
                "#B0BEC5",
                "#B0BEC5",
                "#B0BEC5",
                "#B0BEC5",
                "#B0BEC5",
                "#B0BEC5",
                "#B0BEC5",
                "#B0BEC5",
                "#B0BEC5",
                "#B0BEC5",
                "#B0BEC5",
                "#B0BEC5",
                "#B0BEC5",
                "#B0BEC5",
                "#B0BEC5",
                "#B0BEC5",
                "#B0BEC5",
                "#B0BEC5",
                "red",
                "#B0BEC5",
                "#B0BEC5",
                "#B0BEC5",
                "#B0BEC5",
                "#B0BEC5",
                "#B0BEC5",
                "#B0BEC5",
                "#B0BEC5",
                "#B0BEC5",
                "#B0BEC5",
                "#B0BEC5",
                "#B0BEC5",
                "#B0BEC5",
                "#B0BEC5",
                "#B0BEC5",
                "#B0BEC5"
               ]
              ]
             }
            ],
            "label": "Topic 42",
            "method": "update"
           },
           {
            "args": [
             {
              "marker.color": [
               [
                "#B0BEC5",
                "#B0BEC5",
                "#B0BEC5",
                "#B0BEC5",
                "#B0BEC5",
                "#B0BEC5",
                "#B0BEC5",
                "#B0BEC5",
                "#B0BEC5",
                "#B0BEC5",
                "#B0BEC5",
                "#B0BEC5",
                "#B0BEC5",
                "#B0BEC5",
                "#B0BEC5",
                "#B0BEC5",
                "#B0BEC5",
                "#B0BEC5",
                "#B0BEC5",
                "#B0BEC5",
                "#B0BEC5",
                "#B0BEC5",
                "#B0BEC5",
                "#B0BEC5",
                "#B0BEC5",
                "#B0BEC5",
                "#B0BEC5",
                "#B0BEC5",
                "#B0BEC5",
                "#B0BEC5",
                "#B0BEC5",
                "#B0BEC5",
                "#B0BEC5",
                "#B0BEC5",
                "#B0BEC5",
                "#B0BEC5",
                "#B0BEC5",
                "#B0BEC5",
                "#B0BEC5",
                "#B0BEC5",
                "#B0BEC5",
                "#B0BEC5",
                "#B0BEC5",
                "red",
                "#B0BEC5",
                "#B0BEC5",
                "#B0BEC5",
                "#B0BEC5",
                "#B0BEC5",
                "#B0BEC5",
                "#B0BEC5",
                "#B0BEC5",
                "#B0BEC5",
                "#B0BEC5",
                "#B0BEC5",
                "#B0BEC5",
                "#B0BEC5",
                "#B0BEC5",
                "#B0BEC5"
               ]
              ]
             }
            ],
            "label": "Topic 43",
            "method": "update"
           },
           {
            "args": [
             {
              "marker.color": [
               [
                "#B0BEC5",
                "#B0BEC5",
                "#B0BEC5",
                "#B0BEC5",
                "#B0BEC5",
                "#B0BEC5",
                "#B0BEC5",
                "#B0BEC5",
                "#B0BEC5",
                "#B0BEC5",
                "#B0BEC5",
                "#B0BEC5",
                "#B0BEC5",
                "#B0BEC5",
                "#B0BEC5",
                "#B0BEC5",
                "#B0BEC5",
                "#B0BEC5",
                "#B0BEC5",
                "#B0BEC5",
                "#B0BEC5",
                "#B0BEC5",
                "#B0BEC5",
                "#B0BEC5",
                "#B0BEC5",
                "#B0BEC5",
                "#B0BEC5",
                "#B0BEC5",
                "#B0BEC5",
                "#B0BEC5",
                "#B0BEC5",
                "#B0BEC5",
                "#B0BEC5",
                "#B0BEC5",
                "#B0BEC5",
                "#B0BEC5",
                "#B0BEC5",
                "#B0BEC5",
                "#B0BEC5",
                "#B0BEC5",
                "#B0BEC5",
                "#B0BEC5",
                "#B0BEC5",
                "#B0BEC5",
                "red",
                "#B0BEC5",
                "#B0BEC5",
                "#B0BEC5",
                "#B0BEC5",
                "#B0BEC5",
                "#B0BEC5",
                "#B0BEC5",
                "#B0BEC5",
                "#B0BEC5",
                "#B0BEC5",
                "#B0BEC5",
                "#B0BEC5",
                "#B0BEC5",
                "#B0BEC5"
               ]
              ]
             }
            ],
            "label": "Topic 44",
            "method": "update"
           },
           {
            "args": [
             {
              "marker.color": [
               [
                "#B0BEC5",
                "#B0BEC5",
                "#B0BEC5",
                "#B0BEC5",
                "#B0BEC5",
                "#B0BEC5",
                "#B0BEC5",
                "#B0BEC5",
                "#B0BEC5",
                "#B0BEC5",
                "#B0BEC5",
                "#B0BEC5",
                "#B0BEC5",
                "#B0BEC5",
                "#B0BEC5",
                "#B0BEC5",
                "#B0BEC5",
                "#B0BEC5",
                "#B0BEC5",
                "#B0BEC5",
                "#B0BEC5",
                "#B0BEC5",
                "#B0BEC5",
                "#B0BEC5",
                "#B0BEC5",
                "#B0BEC5",
                "#B0BEC5",
                "#B0BEC5",
                "#B0BEC5",
                "#B0BEC5",
                "#B0BEC5",
                "#B0BEC5",
                "#B0BEC5",
                "#B0BEC5",
                "#B0BEC5",
                "#B0BEC5",
                "#B0BEC5",
                "#B0BEC5",
                "#B0BEC5",
                "#B0BEC5",
                "#B0BEC5",
                "#B0BEC5",
                "#B0BEC5",
                "#B0BEC5",
                "#B0BEC5",
                "red",
                "#B0BEC5",
                "#B0BEC5",
                "#B0BEC5",
                "#B0BEC5",
                "#B0BEC5",
                "#B0BEC5",
                "#B0BEC5",
                "#B0BEC5",
                "#B0BEC5",
                "#B0BEC5",
                "#B0BEC5",
                "#B0BEC5",
                "#B0BEC5"
               ]
              ]
             }
            ],
            "label": "Topic 45",
            "method": "update"
           },
           {
            "args": [
             {
              "marker.color": [
               [
                "#B0BEC5",
                "#B0BEC5",
                "#B0BEC5",
                "#B0BEC5",
                "#B0BEC5",
                "#B0BEC5",
                "#B0BEC5",
                "#B0BEC5",
                "#B0BEC5",
                "#B0BEC5",
                "#B0BEC5",
                "#B0BEC5",
                "#B0BEC5",
                "#B0BEC5",
                "#B0BEC5",
                "#B0BEC5",
                "#B0BEC5",
                "#B0BEC5",
                "#B0BEC5",
                "#B0BEC5",
                "#B0BEC5",
                "#B0BEC5",
                "#B0BEC5",
                "#B0BEC5",
                "#B0BEC5",
                "#B0BEC5",
                "#B0BEC5",
                "#B0BEC5",
                "#B0BEC5",
                "#B0BEC5",
                "#B0BEC5",
                "#B0BEC5",
                "#B0BEC5",
                "#B0BEC5",
                "#B0BEC5",
                "#B0BEC5",
                "#B0BEC5",
                "#B0BEC5",
                "#B0BEC5",
                "#B0BEC5",
                "#B0BEC5",
                "#B0BEC5",
                "#B0BEC5",
                "#B0BEC5",
                "#B0BEC5",
                "#B0BEC5",
                "red",
                "#B0BEC5",
                "#B0BEC5",
                "#B0BEC5",
                "#B0BEC5",
                "#B0BEC5",
                "#B0BEC5",
                "#B0BEC5",
                "#B0BEC5",
                "#B0BEC5",
                "#B0BEC5",
                "#B0BEC5",
                "#B0BEC5"
               ]
              ]
             }
            ],
            "label": "Topic 46",
            "method": "update"
           },
           {
            "args": [
             {
              "marker.color": [
               [
                "#B0BEC5",
                "#B0BEC5",
                "#B0BEC5",
                "#B0BEC5",
                "#B0BEC5",
                "#B0BEC5",
                "#B0BEC5",
                "#B0BEC5",
                "#B0BEC5",
                "#B0BEC5",
                "#B0BEC5",
                "#B0BEC5",
                "#B0BEC5",
                "#B0BEC5",
                "#B0BEC5",
                "#B0BEC5",
                "#B0BEC5",
                "#B0BEC5",
                "#B0BEC5",
                "#B0BEC5",
                "#B0BEC5",
                "#B0BEC5",
                "#B0BEC5",
                "#B0BEC5",
                "#B0BEC5",
                "#B0BEC5",
                "#B0BEC5",
                "#B0BEC5",
                "#B0BEC5",
                "#B0BEC5",
                "#B0BEC5",
                "#B0BEC5",
                "#B0BEC5",
                "#B0BEC5",
                "#B0BEC5",
                "#B0BEC5",
                "#B0BEC5",
                "#B0BEC5",
                "#B0BEC5",
                "#B0BEC5",
                "#B0BEC5",
                "#B0BEC5",
                "#B0BEC5",
                "#B0BEC5",
                "#B0BEC5",
                "#B0BEC5",
                "#B0BEC5",
                "red",
                "#B0BEC5",
                "#B0BEC5",
                "#B0BEC5",
                "#B0BEC5",
                "#B0BEC5",
                "#B0BEC5",
                "#B0BEC5",
                "#B0BEC5",
                "#B0BEC5",
                "#B0BEC5",
                "#B0BEC5"
               ]
              ]
             }
            ],
            "label": "Topic 47",
            "method": "update"
           },
           {
            "args": [
             {
              "marker.color": [
               [
                "#B0BEC5",
                "#B0BEC5",
                "#B0BEC5",
                "#B0BEC5",
                "#B0BEC5",
                "#B0BEC5",
                "#B0BEC5",
                "#B0BEC5",
                "#B0BEC5",
                "#B0BEC5",
                "#B0BEC5",
                "#B0BEC5",
                "#B0BEC5",
                "#B0BEC5",
                "#B0BEC5",
                "#B0BEC5",
                "#B0BEC5",
                "#B0BEC5",
                "#B0BEC5",
                "#B0BEC5",
                "#B0BEC5",
                "#B0BEC5",
                "#B0BEC5",
                "#B0BEC5",
                "#B0BEC5",
                "#B0BEC5",
                "#B0BEC5",
                "#B0BEC5",
                "#B0BEC5",
                "#B0BEC5",
                "#B0BEC5",
                "#B0BEC5",
                "#B0BEC5",
                "#B0BEC5",
                "#B0BEC5",
                "#B0BEC5",
                "#B0BEC5",
                "#B0BEC5",
                "#B0BEC5",
                "#B0BEC5",
                "#B0BEC5",
                "#B0BEC5",
                "#B0BEC5",
                "#B0BEC5",
                "#B0BEC5",
                "#B0BEC5",
                "#B0BEC5",
                "#B0BEC5",
                "red",
                "#B0BEC5",
                "#B0BEC5",
                "#B0BEC5",
                "#B0BEC5",
                "#B0BEC5",
                "#B0BEC5",
                "#B0BEC5",
                "#B0BEC5",
                "#B0BEC5",
                "#B0BEC5"
               ]
              ]
             }
            ],
            "label": "Topic 48",
            "method": "update"
           },
           {
            "args": [
             {
              "marker.color": [
               [
                "#B0BEC5",
                "#B0BEC5",
                "#B0BEC5",
                "#B0BEC5",
                "#B0BEC5",
                "#B0BEC5",
                "#B0BEC5",
                "#B0BEC5",
                "#B0BEC5",
                "#B0BEC5",
                "#B0BEC5",
                "#B0BEC5",
                "#B0BEC5",
                "#B0BEC5",
                "#B0BEC5",
                "#B0BEC5",
                "#B0BEC5",
                "#B0BEC5",
                "#B0BEC5",
                "#B0BEC5",
                "#B0BEC5",
                "#B0BEC5",
                "#B0BEC5",
                "#B0BEC5",
                "#B0BEC5",
                "#B0BEC5",
                "#B0BEC5",
                "#B0BEC5",
                "#B0BEC5",
                "#B0BEC5",
                "#B0BEC5",
                "#B0BEC5",
                "#B0BEC5",
                "#B0BEC5",
                "#B0BEC5",
                "#B0BEC5",
                "#B0BEC5",
                "#B0BEC5",
                "#B0BEC5",
                "#B0BEC5",
                "#B0BEC5",
                "#B0BEC5",
                "#B0BEC5",
                "#B0BEC5",
                "#B0BEC5",
                "#B0BEC5",
                "#B0BEC5",
                "#B0BEC5",
                "#B0BEC5",
                "red",
                "#B0BEC5",
                "#B0BEC5",
                "#B0BEC5",
                "#B0BEC5",
                "#B0BEC5",
                "#B0BEC5",
                "#B0BEC5",
                "#B0BEC5",
                "#B0BEC5"
               ]
              ]
             }
            ],
            "label": "Topic 49",
            "method": "update"
           },
           {
            "args": [
             {
              "marker.color": [
               [
                "#B0BEC5",
                "#B0BEC5",
                "#B0BEC5",
                "#B0BEC5",
                "#B0BEC5",
                "#B0BEC5",
                "#B0BEC5",
                "#B0BEC5",
                "#B0BEC5",
                "#B0BEC5",
                "#B0BEC5",
                "#B0BEC5",
                "#B0BEC5",
                "#B0BEC5",
                "#B0BEC5",
                "#B0BEC5",
                "#B0BEC5",
                "#B0BEC5",
                "#B0BEC5",
                "#B0BEC5",
                "#B0BEC5",
                "#B0BEC5",
                "#B0BEC5",
                "#B0BEC5",
                "#B0BEC5",
                "#B0BEC5",
                "#B0BEC5",
                "#B0BEC5",
                "#B0BEC5",
                "#B0BEC5",
                "#B0BEC5",
                "#B0BEC5",
                "#B0BEC5",
                "#B0BEC5",
                "#B0BEC5",
                "#B0BEC5",
                "#B0BEC5",
                "#B0BEC5",
                "#B0BEC5",
                "#B0BEC5",
                "#B0BEC5",
                "#B0BEC5",
                "#B0BEC5",
                "#B0BEC5",
                "#B0BEC5",
                "#B0BEC5",
                "#B0BEC5",
                "#B0BEC5",
                "#B0BEC5",
                "#B0BEC5",
                "red",
                "#B0BEC5",
                "#B0BEC5",
                "#B0BEC5",
                "#B0BEC5",
                "#B0BEC5",
                "#B0BEC5",
                "#B0BEC5",
                "#B0BEC5"
               ]
              ]
             }
            ],
            "label": "Topic 50",
            "method": "update"
           },
           {
            "args": [
             {
              "marker.color": [
               [
                "#B0BEC5",
                "#B0BEC5",
                "#B0BEC5",
                "#B0BEC5",
                "#B0BEC5",
                "#B0BEC5",
                "#B0BEC5",
                "#B0BEC5",
                "#B0BEC5",
                "#B0BEC5",
                "#B0BEC5",
                "#B0BEC5",
                "#B0BEC5",
                "#B0BEC5",
                "#B0BEC5",
                "#B0BEC5",
                "#B0BEC5",
                "#B0BEC5",
                "#B0BEC5",
                "#B0BEC5",
                "#B0BEC5",
                "#B0BEC5",
                "#B0BEC5",
                "#B0BEC5",
                "#B0BEC5",
                "#B0BEC5",
                "#B0BEC5",
                "#B0BEC5",
                "#B0BEC5",
                "#B0BEC5",
                "#B0BEC5",
                "#B0BEC5",
                "#B0BEC5",
                "#B0BEC5",
                "#B0BEC5",
                "#B0BEC5",
                "#B0BEC5",
                "#B0BEC5",
                "#B0BEC5",
                "#B0BEC5",
                "#B0BEC5",
                "#B0BEC5",
                "#B0BEC5",
                "#B0BEC5",
                "#B0BEC5",
                "#B0BEC5",
                "#B0BEC5",
                "#B0BEC5",
                "#B0BEC5",
                "#B0BEC5",
                "#B0BEC5",
                "red",
                "#B0BEC5",
                "#B0BEC5",
                "#B0BEC5",
                "#B0BEC5",
                "#B0BEC5",
                "#B0BEC5",
                "#B0BEC5"
               ]
              ]
             }
            ],
            "label": "Topic 51",
            "method": "update"
           },
           {
            "args": [
             {
              "marker.color": [
               [
                "#B0BEC5",
                "#B0BEC5",
                "#B0BEC5",
                "#B0BEC5",
                "#B0BEC5",
                "#B0BEC5",
                "#B0BEC5",
                "#B0BEC5",
                "#B0BEC5",
                "#B0BEC5",
                "#B0BEC5",
                "#B0BEC5",
                "#B0BEC5",
                "#B0BEC5",
                "#B0BEC5",
                "#B0BEC5",
                "#B0BEC5",
                "#B0BEC5",
                "#B0BEC5",
                "#B0BEC5",
                "#B0BEC5",
                "#B0BEC5",
                "#B0BEC5",
                "#B0BEC5",
                "#B0BEC5",
                "#B0BEC5",
                "#B0BEC5",
                "#B0BEC5",
                "#B0BEC5",
                "#B0BEC5",
                "#B0BEC5",
                "#B0BEC5",
                "#B0BEC5",
                "#B0BEC5",
                "#B0BEC5",
                "#B0BEC5",
                "#B0BEC5",
                "#B0BEC5",
                "#B0BEC5",
                "#B0BEC5",
                "#B0BEC5",
                "#B0BEC5",
                "#B0BEC5",
                "#B0BEC5",
                "#B0BEC5",
                "#B0BEC5",
                "#B0BEC5",
                "#B0BEC5",
                "#B0BEC5",
                "#B0BEC5",
                "#B0BEC5",
                "#B0BEC5",
                "red",
                "#B0BEC5",
                "#B0BEC5",
                "#B0BEC5",
                "#B0BEC5",
                "#B0BEC5",
                "#B0BEC5"
               ]
              ]
             }
            ],
            "label": "Topic 52",
            "method": "update"
           },
           {
            "args": [
             {
              "marker.color": [
               [
                "#B0BEC5",
                "#B0BEC5",
                "#B0BEC5",
                "#B0BEC5",
                "#B0BEC5",
                "#B0BEC5",
                "#B0BEC5",
                "#B0BEC5",
                "#B0BEC5",
                "#B0BEC5",
                "#B0BEC5",
                "#B0BEC5",
                "#B0BEC5",
                "#B0BEC5",
                "#B0BEC5",
                "#B0BEC5",
                "#B0BEC5",
                "#B0BEC5",
                "#B0BEC5",
                "#B0BEC5",
                "#B0BEC5",
                "#B0BEC5",
                "#B0BEC5",
                "#B0BEC5",
                "#B0BEC5",
                "#B0BEC5",
                "#B0BEC5",
                "#B0BEC5",
                "#B0BEC5",
                "#B0BEC5",
                "#B0BEC5",
                "#B0BEC5",
                "#B0BEC5",
                "#B0BEC5",
                "#B0BEC5",
                "#B0BEC5",
                "#B0BEC5",
                "#B0BEC5",
                "#B0BEC5",
                "#B0BEC5",
                "#B0BEC5",
                "#B0BEC5",
                "#B0BEC5",
                "#B0BEC5",
                "#B0BEC5",
                "#B0BEC5",
                "#B0BEC5",
                "#B0BEC5",
                "#B0BEC5",
                "#B0BEC5",
                "#B0BEC5",
                "#B0BEC5",
                "#B0BEC5",
                "red",
                "#B0BEC5",
                "#B0BEC5",
                "#B0BEC5",
                "#B0BEC5",
                "#B0BEC5"
               ]
              ]
             }
            ],
            "label": "Topic 53",
            "method": "update"
           },
           {
            "args": [
             {
              "marker.color": [
               [
                "#B0BEC5",
                "#B0BEC5",
                "#B0BEC5",
                "#B0BEC5",
                "#B0BEC5",
                "#B0BEC5",
                "#B0BEC5",
                "#B0BEC5",
                "#B0BEC5",
                "#B0BEC5",
                "#B0BEC5",
                "#B0BEC5",
                "#B0BEC5",
                "#B0BEC5",
                "#B0BEC5",
                "#B0BEC5",
                "#B0BEC5",
                "#B0BEC5",
                "#B0BEC5",
                "#B0BEC5",
                "#B0BEC5",
                "#B0BEC5",
                "#B0BEC5",
                "#B0BEC5",
                "#B0BEC5",
                "#B0BEC5",
                "#B0BEC5",
                "#B0BEC5",
                "#B0BEC5",
                "#B0BEC5",
                "#B0BEC5",
                "#B0BEC5",
                "#B0BEC5",
                "#B0BEC5",
                "#B0BEC5",
                "#B0BEC5",
                "#B0BEC5",
                "#B0BEC5",
                "#B0BEC5",
                "#B0BEC5",
                "#B0BEC5",
                "#B0BEC5",
                "#B0BEC5",
                "#B0BEC5",
                "#B0BEC5",
                "#B0BEC5",
                "#B0BEC5",
                "#B0BEC5",
                "#B0BEC5",
                "#B0BEC5",
                "#B0BEC5",
                "#B0BEC5",
                "#B0BEC5",
                "#B0BEC5",
                "red",
                "#B0BEC5",
                "#B0BEC5",
                "#B0BEC5",
                "#B0BEC5"
               ]
              ]
             }
            ],
            "label": "Topic 54",
            "method": "update"
           },
           {
            "args": [
             {
              "marker.color": [
               [
                "#B0BEC5",
                "#B0BEC5",
                "#B0BEC5",
                "#B0BEC5",
                "#B0BEC5",
                "#B0BEC5",
                "#B0BEC5",
                "#B0BEC5",
                "#B0BEC5",
                "#B0BEC5",
                "#B0BEC5",
                "#B0BEC5",
                "#B0BEC5",
                "#B0BEC5",
                "#B0BEC5",
                "#B0BEC5",
                "#B0BEC5",
                "#B0BEC5",
                "#B0BEC5",
                "#B0BEC5",
                "#B0BEC5",
                "#B0BEC5",
                "#B0BEC5",
                "#B0BEC5",
                "#B0BEC5",
                "#B0BEC5",
                "#B0BEC5",
                "#B0BEC5",
                "#B0BEC5",
                "#B0BEC5",
                "#B0BEC5",
                "#B0BEC5",
                "#B0BEC5",
                "#B0BEC5",
                "#B0BEC5",
                "#B0BEC5",
                "#B0BEC5",
                "#B0BEC5",
                "#B0BEC5",
                "#B0BEC5",
                "#B0BEC5",
                "#B0BEC5",
                "#B0BEC5",
                "#B0BEC5",
                "#B0BEC5",
                "#B0BEC5",
                "#B0BEC5",
                "#B0BEC5",
                "#B0BEC5",
                "#B0BEC5",
                "#B0BEC5",
                "#B0BEC5",
                "#B0BEC5",
                "#B0BEC5",
                "#B0BEC5",
                "red",
                "#B0BEC5",
                "#B0BEC5",
                "#B0BEC5"
               ]
              ]
             }
            ],
            "label": "Topic 55",
            "method": "update"
           },
           {
            "args": [
             {
              "marker.color": [
               [
                "#B0BEC5",
                "#B0BEC5",
                "#B0BEC5",
                "#B0BEC5",
                "#B0BEC5",
                "#B0BEC5",
                "#B0BEC5",
                "#B0BEC5",
                "#B0BEC5",
                "#B0BEC5",
                "#B0BEC5",
                "#B0BEC5",
                "#B0BEC5",
                "#B0BEC5",
                "#B0BEC5",
                "#B0BEC5",
                "#B0BEC5",
                "#B0BEC5",
                "#B0BEC5",
                "#B0BEC5",
                "#B0BEC5",
                "#B0BEC5",
                "#B0BEC5",
                "#B0BEC5",
                "#B0BEC5",
                "#B0BEC5",
                "#B0BEC5",
                "#B0BEC5",
                "#B0BEC5",
                "#B0BEC5",
                "#B0BEC5",
                "#B0BEC5",
                "#B0BEC5",
                "#B0BEC5",
                "#B0BEC5",
                "#B0BEC5",
                "#B0BEC5",
                "#B0BEC5",
                "#B0BEC5",
                "#B0BEC5",
                "#B0BEC5",
                "#B0BEC5",
                "#B0BEC5",
                "#B0BEC5",
                "#B0BEC5",
                "#B0BEC5",
                "#B0BEC5",
                "#B0BEC5",
                "#B0BEC5",
                "#B0BEC5",
                "#B0BEC5",
                "#B0BEC5",
                "#B0BEC5",
                "#B0BEC5",
                "#B0BEC5",
                "#B0BEC5",
                "red",
                "#B0BEC5",
                "#B0BEC5"
               ]
              ]
             }
            ],
            "label": "Topic 56",
            "method": "update"
           },
           {
            "args": [
             {
              "marker.color": [
               [
                "#B0BEC5",
                "#B0BEC5",
                "#B0BEC5",
                "#B0BEC5",
                "#B0BEC5",
                "#B0BEC5",
                "#B0BEC5",
                "#B0BEC5",
                "#B0BEC5",
                "#B0BEC5",
                "#B0BEC5",
                "#B0BEC5",
                "#B0BEC5",
                "#B0BEC5",
                "#B0BEC5",
                "#B0BEC5",
                "#B0BEC5",
                "#B0BEC5",
                "#B0BEC5",
                "#B0BEC5",
                "#B0BEC5",
                "#B0BEC5",
                "#B0BEC5",
                "#B0BEC5",
                "#B0BEC5",
                "#B0BEC5",
                "#B0BEC5",
                "#B0BEC5",
                "#B0BEC5",
                "#B0BEC5",
                "#B0BEC5",
                "#B0BEC5",
                "#B0BEC5",
                "#B0BEC5",
                "#B0BEC5",
                "#B0BEC5",
                "#B0BEC5",
                "#B0BEC5",
                "#B0BEC5",
                "#B0BEC5",
                "#B0BEC5",
                "#B0BEC5",
                "#B0BEC5",
                "#B0BEC5",
                "#B0BEC5",
                "#B0BEC5",
                "#B0BEC5",
                "#B0BEC5",
                "#B0BEC5",
                "#B0BEC5",
                "#B0BEC5",
                "#B0BEC5",
                "#B0BEC5",
                "#B0BEC5",
                "#B0BEC5",
                "#B0BEC5",
                "#B0BEC5",
                "red",
                "#B0BEC5"
               ]
              ]
             }
            ],
            "label": "Topic 57",
            "method": "update"
           },
           {
            "args": [
             {
              "marker.color": [
               [
                "#B0BEC5",
                "#B0BEC5",
                "#B0BEC5",
                "#B0BEC5",
                "#B0BEC5",
                "#B0BEC5",
                "#B0BEC5",
                "#B0BEC5",
                "#B0BEC5",
                "#B0BEC5",
                "#B0BEC5",
                "#B0BEC5",
                "#B0BEC5",
                "#B0BEC5",
                "#B0BEC5",
                "#B0BEC5",
                "#B0BEC5",
                "#B0BEC5",
                "#B0BEC5",
                "#B0BEC5",
                "#B0BEC5",
                "#B0BEC5",
                "#B0BEC5",
                "#B0BEC5",
                "#B0BEC5",
                "#B0BEC5",
                "#B0BEC5",
                "#B0BEC5",
                "#B0BEC5",
                "#B0BEC5",
                "#B0BEC5",
                "#B0BEC5",
                "#B0BEC5",
                "#B0BEC5",
                "#B0BEC5",
                "#B0BEC5",
                "#B0BEC5",
                "#B0BEC5",
                "#B0BEC5",
                "#B0BEC5",
                "#B0BEC5",
                "#B0BEC5",
                "#B0BEC5",
                "#B0BEC5",
                "#B0BEC5",
                "#B0BEC5",
                "#B0BEC5",
                "#B0BEC5",
                "#B0BEC5",
                "#B0BEC5",
                "#B0BEC5",
                "#B0BEC5",
                "#B0BEC5",
                "#B0BEC5",
                "#B0BEC5",
                "#B0BEC5",
                "#B0BEC5",
                "#B0BEC5",
                "red"
               ]
              ]
             }
            ],
            "label": "Topic 58",
            "method": "update"
           }
          ]
         }
        ],
        "template": {
         "data": {
          "bar": [
           {
            "error_x": {
             "color": "rgb(36,36,36)"
            },
            "error_y": {
             "color": "rgb(36,36,36)"
            },
            "marker": {
             "line": {
              "color": "white",
              "width": 0.5
             },
             "pattern": {
              "fillmode": "overlay",
              "size": 10,
              "solidity": 0.2
             }
            },
            "type": "bar"
           }
          ],
          "barpolar": [
           {
            "marker": {
             "line": {
              "color": "white",
              "width": 0.5
             },
             "pattern": {
              "fillmode": "overlay",
              "size": 10,
              "solidity": 0.2
             }
            },
            "type": "barpolar"
           }
          ],
          "carpet": [
           {
            "aaxis": {
             "endlinecolor": "rgb(36,36,36)",
             "gridcolor": "white",
             "linecolor": "white",
             "minorgridcolor": "white",
             "startlinecolor": "rgb(36,36,36)"
            },
            "baxis": {
             "endlinecolor": "rgb(36,36,36)",
             "gridcolor": "white",
             "linecolor": "white",
             "minorgridcolor": "white",
             "startlinecolor": "rgb(36,36,36)"
            },
            "type": "carpet"
           }
          ],
          "choropleth": [
           {
            "colorbar": {
             "outlinewidth": 1,
             "tickcolor": "rgb(36,36,36)",
             "ticks": "outside"
            },
            "type": "choropleth"
           }
          ],
          "contour": [
           {
            "colorbar": {
             "outlinewidth": 1,
             "tickcolor": "rgb(36,36,36)",
             "ticks": "outside"
            },
            "colorscale": [
             [
              0,
              "#440154"
             ],
             [
              0.1111111111111111,
              "#482878"
             ],
             [
              0.2222222222222222,
              "#3e4989"
             ],
             [
              0.3333333333333333,
              "#31688e"
             ],
             [
              0.4444444444444444,
              "#26828e"
             ],
             [
              0.5555555555555556,
              "#1f9e89"
             ],
             [
              0.6666666666666666,
              "#35b779"
             ],
             [
              0.7777777777777778,
              "#6ece58"
             ],
             [
              0.8888888888888888,
              "#b5de2b"
             ],
             [
              1,
              "#fde725"
             ]
            ],
            "type": "contour"
           }
          ],
          "contourcarpet": [
           {
            "colorbar": {
             "outlinewidth": 1,
             "tickcolor": "rgb(36,36,36)",
             "ticks": "outside"
            },
            "type": "contourcarpet"
           }
          ],
          "heatmap": [
           {
            "colorbar": {
             "outlinewidth": 1,
             "tickcolor": "rgb(36,36,36)",
             "ticks": "outside"
            },
            "colorscale": [
             [
              0,
              "#440154"
             ],
             [
              0.1111111111111111,
              "#482878"
             ],
             [
              0.2222222222222222,
              "#3e4989"
             ],
             [
              0.3333333333333333,
              "#31688e"
             ],
             [
              0.4444444444444444,
              "#26828e"
             ],
             [
              0.5555555555555556,
              "#1f9e89"
             ],
             [
              0.6666666666666666,
              "#35b779"
             ],
             [
              0.7777777777777778,
              "#6ece58"
             ],
             [
              0.8888888888888888,
              "#b5de2b"
             ],
             [
              1,
              "#fde725"
             ]
            ],
            "type": "heatmap"
           }
          ],
          "histogram": [
           {
            "marker": {
             "line": {
              "color": "white",
              "width": 0.6
             }
            },
            "type": "histogram"
           }
          ],
          "histogram2d": [
           {
            "colorbar": {
             "outlinewidth": 1,
             "tickcolor": "rgb(36,36,36)",
             "ticks": "outside"
            },
            "colorscale": [
             [
              0,
              "#440154"
             ],
             [
              0.1111111111111111,
              "#482878"
             ],
             [
              0.2222222222222222,
              "#3e4989"
             ],
             [
              0.3333333333333333,
              "#31688e"
             ],
             [
              0.4444444444444444,
              "#26828e"
             ],
             [
              0.5555555555555556,
              "#1f9e89"
             ],
             [
              0.6666666666666666,
              "#35b779"
             ],
             [
              0.7777777777777778,
              "#6ece58"
             ],
             [
              0.8888888888888888,
              "#b5de2b"
             ],
             [
              1,
              "#fde725"
             ]
            ],
            "type": "histogram2d"
           }
          ],
          "histogram2dcontour": [
           {
            "colorbar": {
             "outlinewidth": 1,
             "tickcolor": "rgb(36,36,36)",
             "ticks": "outside"
            },
            "colorscale": [
             [
              0,
              "#440154"
             ],
             [
              0.1111111111111111,
              "#482878"
             ],
             [
              0.2222222222222222,
              "#3e4989"
             ],
             [
              0.3333333333333333,
              "#31688e"
             ],
             [
              0.4444444444444444,
              "#26828e"
             ],
             [
              0.5555555555555556,
              "#1f9e89"
             ],
             [
              0.6666666666666666,
              "#35b779"
             ],
             [
              0.7777777777777778,
              "#6ece58"
             ],
             [
              0.8888888888888888,
              "#b5de2b"
             ],
             [
              1,
              "#fde725"
             ]
            ],
            "type": "histogram2dcontour"
           }
          ],
          "mesh3d": [
           {
            "colorbar": {
             "outlinewidth": 1,
             "tickcolor": "rgb(36,36,36)",
             "ticks": "outside"
            },
            "type": "mesh3d"
           }
          ],
          "parcoords": [
           {
            "line": {
             "colorbar": {
              "outlinewidth": 1,
              "tickcolor": "rgb(36,36,36)",
              "ticks": "outside"
             }
            },
            "type": "parcoords"
           }
          ],
          "pie": [
           {
            "automargin": true,
            "type": "pie"
           }
          ],
          "scatter": [
           {
            "fillpattern": {
             "fillmode": "overlay",
             "size": 10,
             "solidity": 0.2
            },
            "type": "scatter"
           }
          ],
          "scatter3d": [
           {
            "line": {
             "colorbar": {
              "outlinewidth": 1,
              "tickcolor": "rgb(36,36,36)",
              "ticks": "outside"
             }
            },
            "marker": {
             "colorbar": {
              "outlinewidth": 1,
              "tickcolor": "rgb(36,36,36)",
              "ticks": "outside"
             }
            },
            "type": "scatter3d"
           }
          ],
          "scattercarpet": [
           {
            "marker": {
             "colorbar": {
              "outlinewidth": 1,
              "tickcolor": "rgb(36,36,36)",
              "ticks": "outside"
             }
            },
            "type": "scattercarpet"
           }
          ],
          "scattergeo": [
           {
            "marker": {
             "colorbar": {
              "outlinewidth": 1,
              "tickcolor": "rgb(36,36,36)",
              "ticks": "outside"
             }
            },
            "type": "scattergeo"
           }
          ],
          "scattergl": [
           {
            "marker": {
             "colorbar": {
              "outlinewidth": 1,
              "tickcolor": "rgb(36,36,36)",
              "ticks": "outside"
             }
            },
            "type": "scattergl"
           }
          ],
          "scattermap": [
           {
            "marker": {
             "colorbar": {
              "outlinewidth": 1,
              "tickcolor": "rgb(36,36,36)",
              "ticks": "outside"
             }
            },
            "type": "scattermap"
           }
          ],
          "scattermapbox": [
           {
            "marker": {
             "colorbar": {
              "outlinewidth": 1,
              "tickcolor": "rgb(36,36,36)",
              "ticks": "outside"
             }
            },
            "type": "scattermapbox"
           }
          ],
          "scatterpolar": [
           {
            "marker": {
             "colorbar": {
              "outlinewidth": 1,
              "tickcolor": "rgb(36,36,36)",
              "ticks": "outside"
             }
            },
            "type": "scatterpolar"
           }
          ],
          "scatterpolargl": [
           {
            "marker": {
             "colorbar": {
              "outlinewidth": 1,
              "tickcolor": "rgb(36,36,36)",
              "ticks": "outside"
             }
            },
            "type": "scatterpolargl"
           }
          ],
          "scatterternary": [
           {
            "marker": {
             "colorbar": {
              "outlinewidth": 1,
              "tickcolor": "rgb(36,36,36)",
              "ticks": "outside"
             }
            },
            "type": "scatterternary"
           }
          ],
          "surface": [
           {
            "colorbar": {
             "outlinewidth": 1,
             "tickcolor": "rgb(36,36,36)",
             "ticks": "outside"
            },
            "colorscale": [
             [
              0,
              "#440154"
             ],
             [
              0.1111111111111111,
              "#482878"
             ],
             [
              0.2222222222222222,
              "#3e4989"
             ],
             [
              0.3333333333333333,
              "#31688e"
             ],
             [
              0.4444444444444444,
              "#26828e"
             ],
             [
              0.5555555555555556,
              "#1f9e89"
             ],
             [
              0.6666666666666666,
              "#35b779"
             ],
             [
              0.7777777777777778,
              "#6ece58"
             ],
             [
              0.8888888888888888,
              "#b5de2b"
             ],
             [
              1,
              "#fde725"
             ]
            ],
            "type": "surface"
           }
          ],
          "table": [
           {
            "cells": {
             "fill": {
              "color": "rgb(237,237,237)"
             },
             "line": {
              "color": "white"
             }
            },
            "header": {
             "fill": {
              "color": "rgb(217,217,217)"
             },
             "line": {
              "color": "white"
             }
            },
            "type": "table"
           }
          ]
         },
         "layout": {
          "annotationdefaults": {
           "arrowhead": 0,
           "arrowwidth": 1
          },
          "autotypenumbers": "strict",
          "coloraxis": {
           "colorbar": {
            "outlinewidth": 1,
            "tickcolor": "rgb(36,36,36)",
            "ticks": "outside"
           }
          },
          "colorscale": {
           "diverging": [
            [
             0,
             "rgb(103,0,31)"
            ],
            [
             0.1,
             "rgb(178,24,43)"
            ],
            [
             0.2,
             "rgb(214,96,77)"
            ],
            [
             0.3,
             "rgb(244,165,130)"
            ],
            [
             0.4,
             "rgb(253,219,199)"
            ],
            [
             0.5,
             "rgb(247,247,247)"
            ],
            [
             0.6,
             "rgb(209,229,240)"
            ],
            [
             0.7,
             "rgb(146,197,222)"
            ],
            [
             0.8,
             "rgb(67,147,195)"
            ],
            [
             0.9,
             "rgb(33,102,172)"
            ],
            [
             1,
             "rgb(5,48,97)"
            ]
           ],
           "sequential": [
            [
             0,
             "#440154"
            ],
            [
             0.1111111111111111,
             "#482878"
            ],
            [
             0.2222222222222222,
             "#3e4989"
            ],
            [
             0.3333333333333333,
             "#31688e"
            ],
            [
             0.4444444444444444,
             "#26828e"
            ],
            [
             0.5555555555555556,
             "#1f9e89"
            ],
            [
             0.6666666666666666,
             "#35b779"
            ],
            [
             0.7777777777777778,
             "#6ece58"
            ],
            [
             0.8888888888888888,
             "#b5de2b"
            ],
            [
             1,
             "#fde725"
            ]
           ],
           "sequentialminus": [
            [
             0,
             "#440154"
            ],
            [
             0.1111111111111111,
             "#482878"
            ],
            [
             0.2222222222222222,
             "#3e4989"
            ],
            [
             0.3333333333333333,
             "#31688e"
            ],
            [
             0.4444444444444444,
             "#26828e"
            ],
            [
             0.5555555555555556,
             "#1f9e89"
            ],
            [
             0.6666666666666666,
             "#35b779"
            ],
            [
             0.7777777777777778,
             "#6ece58"
            ],
            [
             0.8888888888888888,
             "#b5de2b"
            ],
            [
             1,
             "#fde725"
            ]
           ]
          },
          "colorway": [
           "#1F77B4",
           "#FF7F0E",
           "#2CA02C",
           "#D62728",
           "#9467BD",
           "#8C564B",
           "#E377C2",
           "#7F7F7F",
           "#BCBD22",
           "#17BECF"
          ],
          "font": {
           "color": "rgb(36,36,36)"
          },
          "geo": {
           "bgcolor": "white",
           "lakecolor": "white",
           "landcolor": "white",
           "showlakes": true,
           "showland": true,
           "subunitcolor": "white"
          },
          "hoverlabel": {
           "align": "left"
          },
          "hovermode": "closest",
          "mapbox": {
           "style": "light"
          },
          "paper_bgcolor": "white",
          "plot_bgcolor": "white",
          "polar": {
           "angularaxis": {
            "gridcolor": "rgb(232,232,232)",
            "linecolor": "rgb(36,36,36)",
            "showgrid": false,
            "showline": true,
            "ticks": "outside"
           },
           "bgcolor": "white",
           "radialaxis": {
            "gridcolor": "rgb(232,232,232)",
            "linecolor": "rgb(36,36,36)",
            "showgrid": false,
            "showline": true,
            "ticks": "outside"
           }
          },
          "scene": {
           "xaxis": {
            "backgroundcolor": "white",
            "gridcolor": "rgb(232,232,232)",
            "gridwidth": 2,
            "linecolor": "rgb(36,36,36)",
            "showbackground": true,
            "showgrid": false,
            "showline": true,
            "ticks": "outside",
            "zeroline": false,
            "zerolinecolor": "rgb(36,36,36)"
           },
           "yaxis": {
            "backgroundcolor": "white",
            "gridcolor": "rgb(232,232,232)",
            "gridwidth": 2,
            "linecolor": "rgb(36,36,36)",
            "showbackground": true,
            "showgrid": false,
            "showline": true,
            "ticks": "outside",
            "zeroline": false,
            "zerolinecolor": "rgb(36,36,36)"
           },
           "zaxis": {
            "backgroundcolor": "white",
            "gridcolor": "rgb(232,232,232)",
            "gridwidth": 2,
            "linecolor": "rgb(36,36,36)",
            "showbackground": true,
            "showgrid": false,
            "showline": true,
            "ticks": "outside",
            "zeroline": false,
            "zerolinecolor": "rgb(36,36,36)"
           }
          },
          "shapedefaults": {
           "fillcolor": "black",
           "line": {
            "width": 0
           },
           "opacity": 0.3
          },
          "ternary": {
           "aaxis": {
            "gridcolor": "rgb(232,232,232)",
            "linecolor": "rgb(36,36,36)",
            "showgrid": false,
            "showline": true,
            "ticks": "outside"
           },
           "baxis": {
            "gridcolor": "rgb(232,232,232)",
            "linecolor": "rgb(36,36,36)",
            "showgrid": false,
            "showline": true,
            "ticks": "outside"
           },
           "bgcolor": "white",
           "caxis": {
            "gridcolor": "rgb(232,232,232)",
            "linecolor": "rgb(36,36,36)",
            "showgrid": false,
            "showline": true,
            "ticks": "outside"
           }
          },
          "title": {
           "x": 0.05
          },
          "xaxis": {
           "automargin": true,
           "gridcolor": "rgb(232,232,232)",
           "linecolor": "rgb(36,36,36)",
           "showgrid": false,
           "showline": true,
           "ticks": "outside",
           "title": {
            "standoff": 15
           },
           "zeroline": false,
           "zerolinecolor": "rgb(36,36,36)"
          },
          "yaxis": {
           "automargin": true,
           "gridcolor": "rgb(232,232,232)",
           "linecolor": "rgb(36,36,36)",
           "showgrid": false,
           "showline": true,
           "ticks": "outside",
           "title": {
            "standoff": 15
           },
           "zeroline": false,
           "zerolinecolor": "rgb(36,36,36)"
          }
         }
        },
        "title": {
         "font": {
          "color": "Black",
          "size": 22
         },
         "text": "<b>Intertopic Distance Map</b>",
         "x": 0.5,
         "xanchor": "center",
         "y": 0.95,
         "yanchor": "top"
        },
        "width": 650,
        "xaxis": {
         "anchor": "y",
         "domain": [
          0,
          1
         ],
         "range": [
          -15.654876708984375,
          13.93563175201416
         ],
         "title": {
          "text": ""
         },
         "visible": false
        },
        "yaxis": {
         "anchor": "x",
         "domain": [
          0,
          1
         ],
         "range": [
          -15.617753982543945,
          31.29703712463379
         ],
         "title": {
          "text": ""
         },
         "visible": false
        }
       }
      }
     },
     "metadata": {},
     "output_type": "display_data"
    },
    {
     "data": {
      "application/vnd.plotly.v1+json": {
       "config": {
        "plotlyServerURL": "https://plot.ly"
       },
       "data": [
        {
         "marker": {
          "color": "#D55E00"
         },
         "orientation": "h",
         "type": "bar",
         "x": [
          0.0173416959739969,
          0.018760206091814068,
          0.022518113375109023,
          0.030877927210956956,
          0.03089367176457623
         ],
         "xaxis": "x",
         "y": [
          "crew  ",
          "space  ",
          "alien  ",
          "earth  ",
          "planet  "
         ],
         "yaxis": "y"
        },
        {
         "marker": {
          "color": "#0072B2"
         },
         "orientation": "h",
         "type": "bar",
         "x": [
          0.012400642186812276,
          0.01277097369171821,
          0.01363518197374511,
          0.01589776851875418,
          0.026933825189624446
         ],
         "xaxis": "x2",
         "y": [
          "evil  ",
          "dragon  ",
          "goku  ",
          "ancient  ",
          "king  "
         ],
         "yaxis": "y2"
        },
        {
         "marker": {
          "color": "#CC79A7"
         },
         "orientation": "h",
         "type": "bar",
         "x": [
          0.012013784309991225,
          0.012199553574160516,
          0.013730026641641965,
          0.01645173490567732,
          0.017358452390936793
         ],
         "xaxis": "x3",
         "y": [
          "band  ",
          "life  ",
          "star  ",
          "music  ",
          "film  "
         ],
         "yaxis": "y3"
        },
        {
         "marker": {
          "color": "#E69F00"
         },
         "orientation": "h",
         "type": "bar",
         "x": [
          0.01882120143738649,
          0.01977512622082517,
          0.021906075173887506,
          0.02407181801768216,
          0.030571128649741555
         ],
         "xaxis": "x4",
         "y": [
          "prison  ",
          "murder  ",
          "cop  ",
          "police  ",
          "killer  "
         ],
         "yaxis": "y4"
        },
        {
         "marker": {
          "color": "#56B4E9"
         },
         "orientation": "h",
         "type": "bar",
         "x": [
          0.013867656757335214,
          0.014540795158006372,
          0.01683204152387118,
          0.021548124068852124,
          0.02787970114870814
         ],
         "xaxis": "x5",
         "y": [
          "survive  ",
          "group friends  ",
          "discover  ",
          "friends  ",
          "group  "
         ],
         "yaxis": "y5"
        },
        {
         "marker": {
          "color": "#009E73"
         },
         "orientation": "h",
         "type": "bar",
         "x": [
          0.0443675289476995,
          0.04507776697391125,
          0.04507776697391125,
          0.05221832532019235,
          0.05900291273485806
         ],
         "xaxis": "x6",
         "y": [
          "ii  ",
          "world war ii  ",
          "war ii  ",
          "world war  ",
          "war  "
         ],
         "yaxis": "y6"
        },
        {
         "marker": {
          "color": "#F0E442"
         },
         "orientation": "h",
         "type": "bar",
         "x": [
          0.013933678854125066,
          0.014666786167450107,
          0.014944865789503907,
          0.015253632447857803,
          0.016673087524153554
         ],
         "xaxis": "x7",
         "y": [
          "discovers  ",
          "finds  ",
          "girl  ",
          "father  ",
          "mother  "
         ],
         "yaxis": "y7"
        },
        {
         "marker": {
          "color": "#D55E00"
         },
         "orientation": "h",
         "type": "bar",
         "x": [
          0.021941961858023416,
          0.026565728104405235,
          0.029256744124921776,
          0.03135769715156853,
          0.03343857353846677
         ],
         "xaxis": "x8",
         "y": [
          "relationships  ",
          "friends  ",
          "couple  ",
          "relationship  ",
          "love  "
         ],
         "yaxis": "y8"
        },
        {
         "marker": {
          "color": "#0072B2"
         },
         "orientation": "h",
         "type": "bar",
         "x": [
          0.020007124011681646,
          0.02421058462763225,
          0.025305124972675508,
          0.02784133594994428,
          0.0391413371747291
         ],
         "xaxis": "x9",
         "y": [
          "international  ",
          "government  ",
          "nuclear  ",
          "agent  ",
          "cia  "
         ],
         "yaxis": "y9"
        },
        {
         "marker": {
          "color": "#CC79A7"
         },
         "orientation": "h",
         "type": "bar",
         "x": [
          0.03285358330853944,
          0.03469853259148183,
          0.03742338109191357,
          0.045413000555617235,
          0.059288619569871234
         ],
         "xaxis": "x10",
         "y": [
          "student  ",
          "high school  ",
          "teacher  ",
          "students  ",
          "school  "
         ],
         "yaxis": "y10"
        },
        {
         "marker": {
          "color": "#E69F00"
         },
         "orientation": "h",
         "type": "bar",
         "x": [
          0.013024881066468414,
          0.01312225491128576,
          0.013774924413238354,
          0.020576442178447434,
          0.022417931075277512
         ],
         "xaxis": "x11",
         "y": [
          "love  ",
          "young  ",
          "author  ",
          "life  ",
          "woman  "
         ],
         "yaxis": "y11"
        },
        {
         "marker": {
          "color": "#56B4E9"
         },
         "orientation": "h",
         "type": "bar",
         "x": [
          0.02154208934649987,
          0.021848711860193677,
          0.02374101322849675,
          0.02389203588367878,
          0.0242208092851188
         ],
         "xaxis": "x12",
         "y": [
          "named  ",
          "tigger  ",
          "bear  ",
          "egg  ",
          "pooh  "
         ],
         "yaxis": "y12"
        }
       ],
       "layout": {
        "annotations": [
         {
          "font": {
           "size": 16
          },
          "showarrow": false,
          "text": "Topic 0",
          "x": 0.0875,
          "xanchor": "center",
          "xref": "paper",
          "y": 1,
          "yanchor": "bottom",
          "yref": "paper"
         },
         {
          "font": {
           "size": 16
          },
          "showarrow": false,
          "text": "Topic 1",
          "x": 0.36250000000000004,
          "xanchor": "center",
          "xref": "paper",
          "y": 1,
          "yanchor": "bottom",
          "yref": "paper"
         },
         {
          "font": {
           "size": 16
          },
          "showarrow": false,
          "text": "Topic 2",
          "x": 0.6375000000000001,
          "xanchor": "center",
          "xref": "paper",
          "y": 1,
          "yanchor": "bottom",
          "yref": "paper"
         },
         {
          "font": {
           "size": 16
          },
          "showarrow": false,
          "text": "Topic 3",
          "x": 0.9125,
          "xanchor": "center",
          "xref": "paper",
          "y": 1,
          "yanchor": "bottom",
          "yref": "paper"
         },
         {
          "font": {
           "size": 16
          },
          "showarrow": false,
          "text": "Topic 4",
          "x": 0.0875,
          "xanchor": "center",
          "xref": "paper",
          "y": 0.6222222222222222,
          "yanchor": "bottom",
          "yref": "paper"
         },
         {
          "font": {
           "size": 16
          },
          "showarrow": false,
          "text": "Topic 5",
          "x": 0.36250000000000004,
          "xanchor": "center",
          "xref": "paper",
          "y": 0.6222222222222222,
          "yanchor": "bottom",
          "yref": "paper"
         },
         {
          "font": {
           "size": 16
          },
          "showarrow": false,
          "text": "Topic 6",
          "x": 0.6375000000000001,
          "xanchor": "center",
          "xref": "paper",
          "y": 0.6222222222222222,
          "yanchor": "bottom",
          "yref": "paper"
         },
         {
          "font": {
           "size": 16
          },
          "showarrow": false,
          "text": "Topic 7",
          "x": 0.9125,
          "xanchor": "center",
          "xref": "paper",
          "y": 0.6222222222222222,
          "yanchor": "bottom",
          "yref": "paper"
         },
         {
          "font": {
           "size": 16
          },
          "showarrow": false,
          "text": "Topic 8",
          "x": 0.0875,
          "xanchor": "center",
          "xref": "paper",
          "y": 0.24444444444444446,
          "yanchor": "bottom",
          "yref": "paper"
         },
         {
          "font": {
           "size": 16
          },
          "showarrow": false,
          "text": "Topic 9",
          "x": 0.36250000000000004,
          "xanchor": "center",
          "xref": "paper",
          "y": 0.24444444444444446,
          "yanchor": "bottom",
          "yref": "paper"
         },
         {
          "font": {
           "size": 16
          },
          "showarrow": false,
          "text": "Topic 10",
          "x": 0.6375000000000001,
          "xanchor": "center",
          "xref": "paper",
          "y": 0.24444444444444446,
          "yanchor": "bottom",
          "yref": "paper"
         },
         {
          "font": {
           "size": 16
          },
          "showarrow": false,
          "text": "Topic 11",
          "x": 0.9125,
          "xanchor": "center",
          "xref": "paper",
          "y": 0.24444444444444446,
          "yanchor": "bottom",
          "yref": "paper"
         }
        ],
        "height": 750,
        "hoverlabel": {
         "bgcolor": "white",
         "font": {
          "family": "Rockwell",
          "size": 16
         }
        },
        "showlegend": false,
        "template": {
         "data": {
          "bar": [
           {
            "error_x": {
             "color": "#2a3f5f"
            },
            "error_y": {
             "color": "#2a3f5f"
            },
            "marker": {
             "line": {
              "color": "white",
              "width": 0.5
             },
             "pattern": {
              "fillmode": "overlay",
              "size": 10,
              "solidity": 0.2
             }
            },
            "type": "bar"
           }
          ],
          "barpolar": [
           {
            "marker": {
             "line": {
              "color": "white",
              "width": 0.5
             },
             "pattern": {
              "fillmode": "overlay",
              "size": 10,
              "solidity": 0.2
             }
            },
            "type": "barpolar"
           }
          ],
          "carpet": [
           {
            "aaxis": {
             "endlinecolor": "#2a3f5f",
             "gridcolor": "#C8D4E3",
             "linecolor": "#C8D4E3",
             "minorgridcolor": "#C8D4E3",
             "startlinecolor": "#2a3f5f"
            },
            "baxis": {
             "endlinecolor": "#2a3f5f",
             "gridcolor": "#C8D4E3",
             "linecolor": "#C8D4E3",
             "minorgridcolor": "#C8D4E3",
             "startlinecolor": "#2a3f5f"
            },
            "type": "carpet"
           }
          ],
          "choropleth": [
           {
            "colorbar": {
             "outlinewidth": 0,
             "ticks": ""
            },
            "type": "choropleth"
           }
          ],
          "contour": [
           {
            "colorbar": {
             "outlinewidth": 0,
             "ticks": ""
            },
            "colorscale": [
             [
              0,
              "#0d0887"
             ],
             [
              0.1111111111111111,
              "#46039f"
             ],
             [
              0.2222222222222222,
              "#7201a8"
             ],
             [
              0.3333333333333333,
              "#9c179e"
             ],
             [
              0.4444444444444444,
              "#bd3786"
             ],
             [
              0.5555555555555556,
              "#d8576b"
             ],
             [
              0.6666666666666666,
              "#ed7953"
             ],
             [
              0.7777777777777778,
              "#fb9f3a"
             ],
             [
              0.8888888888888888,
              "#fdca26"
             ],
             [
              1,
              "#f0f921"
             ]
            ],
            "type": "contour"
           }
          ],
          "contourcarpet": [
           {
            "colorbar": {
             "outlinewidth": 0,
             "ticks": ""
            },
            "type": "contourcarpet"
           }
          ],
          "heatmap": [
           {
            "colorbar": {
             "outlinewidth": 0,
             "ticks": ""
            },
            "colorscale": [
             [
              0,
              "#0d0887"
             ],
             [
              0.1111111111111111,
              "#46039f"
             ],
             [
              0.2222222222222222,
              "#7201a8"
             ],
             [
              0.3333333333333333,
              "#9c179e"
             ],
             [
              0.4444444444444444,
              "#bd3786"
             ],
             [
              0.5555555555555556,
              "#d8576b"
             ],
             [
              0.6666666666666666,
              "#ed7953"
             ],
             [
              0.7777777777777778,
              "#fb9f3a"
             ],
             [
              0.8888888888888888,
              "#fdca26"
             ],
             [
              1,
              "#f0f921"
             ]
            ],
            "type": "heatmap"
           }
          ],
          "histogram": [
           {
            "marker": {
             "pattern": {
              "fillmode": "overlay",
              "size": 10,
              "solidity": 0.2
             }
            },
            "type": "histogram"
           }
          ],
          "histogram2d": [
           {
            "colorbar": {
             "outlinewidth": 0,
             "ticks": ""
            },
            "colorscale": [
             [
              0,
              "#0d0887"
             ],
             [
              0.1111111111111111,
              "#46039f"
             ],
             [
              0.2222222222222222,
              "#7201a8"
             ],
             [
              0.3333333333333333,
              "#9c179e"
             ],
             [
              0.4444444444444444,
              "#bd3786"
             ],
             [
              0.5555555555555556,
              "#d8576b"
             ],
             [
              0.6666666666666666,
              "#ed7953"
             ],
             [
              0.7777777777777778,
              "#fb9f3a"
             ],
             [
              0.8888888888888888,
              "#fdca26"
             ],
             [
              1,
              "#f0f921"
             ]
            ],
            "type": "histogram2d"
           }
          ],
          "histogram2dcontour": [
           {
            "colorbar": {
             "outlinewidth": 0,
             "ticks": ""
            },
            "colorscale": [
             [
              0,
              "#0d0887"
             ],
             [
              0.1111111111111111,
              "#46039f"
             ],
             [
              0.2222222222222222,
              "#7201a8"
             ],
             [
              0.3333333333333333,
              "#9c179e"
             ],
             [
              0.4444444444444444,
              "#bd3786"
             ],
             [
              0.5555555555555556,
              "#d8576b"
             ],
             [
              0.6666666666666666,
              "#ed7953"
             ],
             [
              0.7777777777777778,
              "#fb9f3a"
             ],
             [
              0.8888888888888888,
              "#fdca26"
             ],
             [
              1,
              "#f0f921"
             ]
            ],
            "type": "histogram2dcontour"
           }
          ],
          "mesh3d": [
           {
            "colorbar": {
             "outlinewidth": 0,
             "ticks": ""
            },
            "type": "mesh3d"
           }
          ],
          "parcoords": [
           {
            "line": {
             "colorbar": {
              "outlinewidth": 0,
              "ticks": ""
             }
            },
            "type": "parcoords"
           }
          ],
          "pie": [
           {
            "automargin": true,
            "type": "pie"
           }
          ],
          "scatter": [
           {
            "fillpattern": {
             "fillmode": "overlay",
             "size": 10,
             "solidity": 0.2
            },
            "type": "scatter"
           }
          ],
          "scatter3d": [
           {
            "line": {
             "colorbar": {
              "outlinewidth": 0,
              "ticks": ""
             }
            },
            "marker": {
             "colorbar": {
              "outlinewidth": 0,
              "ticks": ""
             }
            },
            "type": "scatter3d"
           }
          ],
          "scattercarpet": [
           {
            "marker": {
             "colorbar": {
              "outlinewidth": 0,
              "ticks": ""
             }
            },
            "type": "scattercarpet"
           }
          ],
          "scattergeo": [
           {
            "marker": {
             "colorbar": {
              "outlinewidth": 0,
              "ticks": ""
             }
            },
            "type": "scattergeo"
           }
          ],
          "scattergl": [
           {
            "marker": {
             "colorbar": {
              "outlinewidth": 0,
              "ticks": ""
             }
            },
            "type": "scattergl"
           }
          ],
          "scattermap": [
           {
            "marker": {
             "colorbar": {
              "outlinewidth": 0,
              "ticks": ""
             }
            },
            "type": "scattermap"
           }
          ],
          "scattermapbox": [
           {
            "marker": {
             "colorbar": {
              "outlinewidth": 0,
              "ticks": ""
             }
            },
            "type": "scattermapbox"
           }
          ],
          "scatterpolar": [
           {
            "marker": {
             "colorbar": {
              "outlinewidth": 0,
              "ticks": ""
             }
            },
            "type": "scatterpolar"
           }
          ],
          "scatterpolargl": [
           {
            "marker": {
             "colorbar": {
              "outlinewidth": 0,
              "ticks": ""
             }
            },
            "type": "scatterpolargl"
           }
          ],
          "scatterternary": [
           {
            "marker": {
             "colorbar": {
              "outlinewidth": 0,
              "ticks": ""
             }
            },
            "type": "scatterternary"
           }
          ],
          "surface": [
           {
            "colorbar": {
             "outlinewidth": 0,
             "ticks": ""
            },
            "colorscale": [
             [
              0,
              "#0d0887"
             ],
             [
              0.1111111111111111,
              "#46039f"
             ],
             [
              0.2222222222222222,
              "#7201a8"
             ],
             [
              0.3333333333333333,
              "#9c179e"
             ],
             [
              0.4444444444444444,
              "#bd3786"
             ],
             [
              0.5555555555555556,
              "#d8576b"
             ],
             [
              0.6666666666666666,
              "#ed7953"
             ],
             [
              0.7777777777777778,
              "#fb9f3a"
             ],
             [
              0.8888888888888888,
              "#fdca26"
             ],
             [
              1,
              "#f0f921"
             ]
            ],
            "type": "surface"
           }
          ],
          "table": [
           {
            "cells": {
             "fill": {
              "color": "#EBF0F8"
             },
             "line": {
              "color": "white"
             }
            },
            "header": {
             "fill": {
              "color": "#C8D4E3"
             },
             "line": {
              "color": "white"
             }
            },
            "type": "table"
           }
          ]
         },
         "layout": {
          "annotationdefaults": {
           "arrowcolor": "#2a3f5f",
           "arrowhead": 0,
           "arrowwidth": 1
          },
          "autotypenumbers": "strict",
          "coloraxis": {
           "colorbar": {
            "outlinewidth": 0,
            "ticks": ""
           }
          },
          "colorscale": {
           "diverging": [
            [
             0,
             "#8e0152"
            ],
            [
             0.1,
             "#c51b7d"
            ],
            [
             0.2,
             "#de77ae"
            ],
            [
             0.3,
             "#f1b6da"
            ],
            [
             0.4,
             "#fde0ef"
            ],
            [
             0.5,
             "#f7f7f7"
            ],
            [
             0.6,
             "#e6f5d0"
            ],
            [
             0.7,
             "#b8e186"
            ],
            [
             0.8,
             "#7fbc41"
            ],
            [
             0.9,
             "#4d9221"
            ],
            [
             1,
             "#276419"
            ]
           ],
           "sequential": [
            [
             0,
             "#0d0887"
            ],
            [
             0.1111111111111111,
             "#46039f"
            ],
            [
             0.2222222222222222,
             "#7201a8"
            ],
            [
             0.3333333333333333,
             "#9c179e"
            ],
            [
             0.4444444444444444,
             "#bd3786"
            ],
            [
             0.5555555555555556,
             "#d8576b"
            ],
            [
             0.6666666666666666,
             "#ed7953"
            ],
            [
             0.7777777777777778,
             "#fb9f3a"
            ],
            [
             0.8888888888888888,
             "#fdca26"
            ],
            [
             1,
             "#f0f921"
            ]
           ],
           "sequentialminus": [
            [
             0,
             "#0d0887"
            ],
            [
             0.1111111111111111,
             "#46039f"
            ],
            [
             0.2222222222222222,
             "#7201a8"
            ],
            [
             0.3333333333333333,
             "#9c179e"
            ],
            [
             0.4444444444444444,
             "#bd3786"
            ],
            [
             0.5555555555555556,
             "#d8576b"
            ],
            [
             0.6666666666666666,
             "#ed7953"
            ],
            [
             0.7777777777777778,
             "#fb9f3a"
            ],
            [
             0.8888888888888888,
             "#fdca26"
            ],
            [
             1,
             "#f0f921"
            ]
           ]
          },
          "colorway": [
           "#636efa",
           "#EF553B",
           "#00cc96",
           "#ab63fa",
           "#FFA15A",
           "#19d3f3",
           "#FF6692",
           "#B6E880",
           "#FF97FF",
           "#FECB52"
          ],
          "font": {
           "color": "#2a3f5f"
          },
          "geo": {
           "bgcolor": "white",
           "lakecolor": "white",
           "landcolor": "white",
           "showlakes": true,
           "showland": true,
           "subunitcolor": "#C8D4E3"
          },
          "hoverlabel": {
           "align": "left"
          },
          "hovermode": "closest",
          "mapbox": {
           "style": "light"
          },
          "paper_bgcolor": "white",
          "plot_bgcolor": "white",
          "polar": {
           "angularaxis": {
            "gridcolor": "#EBF0F8",
            "linecolor": "#EBF0F8",
            "ticks": ""
           },
           "bgcolor": "white",
           "radialaxis": {
            "gridcolor": "#EBF0F8",
            "linecolor": "#EBF0F8",
            "ticks": ""
           }
          },
          "scene": {
           "xaxis": {
            "backgroundcolor": "white",
            "gridcolor": "#DFE8F3",
            "gridwidth": 2,
            "linecolor": "#EBF0F8",
            "showbackground": true,
            "ticks": "",
            "zerolinecolor": "#EBF0F8"
           },
           "yaxis": {
            "backgroundcolor": "white",
            "gridcolor": "#DFE8F3",
            "gridwidth": 2,
            "linecolor": "#EBF0F8",
            "showbackground": true,
            "ticks": "",
            "zerolinecolor": "#EBF0F8"
           },
           "zaxis": {
            "backgroundcolor": "white",
            "gridcolor": "#DFE8F3",
            "gridwidth": 2,
            "linecolor": "#EBF0F8",
            "showbackground": true,
            "ticks": "",
            "zerolinecolor": "#EBF0F8"
           }
          },
          "shapedefaults": {
           "line": {
            "color": "#2a3f5f"
           }
          },
          "ternary": {
           "aaxis": {
            "gridcolor": "#DFE8F3",
            "linecolor": "#A2B1C6",
            "ticks": ""
           },
           "baxis": {
            "gridcolor": "#DFE8F3",
            "linecolor": "#A2B1C6",
            "ticks": ""
           },
           "bgcolor": "white",
           "caxis": {
            "gridcolor": "#DFE8F3",
            "linecolor": "#A2B1C6",
            "ticks": ""
           }
          },
          "title": {
           "x": 0.05
          },
          "xaxis": {
           "automargin": true,
           "gridcolor": "#EBF0F8",
           "linecolor": "#EBF0F8",
           "ticks": "",
           "title": {
            "standoff": 15
           },
           "zerolinecolor": "#EBF0F8",
           "zerolinewidth": 2
          },
          "yaxis": {
           "automargin": true,
           "gridcolor": "#EBF0F8",
           "linecolor": "#EBF0F8",
           "ticks": "",
           "title": {
            "standoff": 15
           },
           "zerolinecolor": "#EBF0F8",
           "zerolinewidth": 2
          }
         }
        },
        "title": {
         "font": {
          "color": "Black",
          "size": 22
         },
         "text": "Topic Word Scores",
         "x": 0.5,
         "xanchor": "center",
         "yanchor": "top"
        },
        "width": 1000,
        "xaxis": {
         "anchor": "y",
         "domain": [
          0,
          0.175
         ],
         "showgrid": true
        },
        "xaxis10": {
         "anchor": "y10",
         "domain": [
          0.275,
          0.45
         ],
         "showgrid": true
        },
        "xaxis11": {
         "anchor": "y11",
         "domain": [
          0.55,
          0.7250000000000001
         ],
         "showgrid": true
        },
        "xaxis12": {
         "anchor": "y12",
         "domain": [
          0.825,
          1
         ],
         "showgrid": true
        },
        "xaxis2": {
         "anchor": "y2",
         "domain": [
          0.275,
          0.45
         ],
         "showgrid": true
        },
        "xaxis3": {
         "anchor": "y3",
         "domain": [
          0.55,
          0.7250000000000001
         ],
         "showgrid": true
        },
        "xaxis4": {
         "anchor": "y4",
         "domain": [
          0.825,
          1
         ],
         "showgrid": true
        },
        "xaxis5": {
         "anchor": "y5",
         "domain": [
          0,
          0.175
         ],
         "showgrid": true
        },
        "xaxis6": {
         "anchor": "y6",
         "domain": [
          0.275,
          0.45
         ],
         "showgrid": true
        },
        "xaxis7": {
         "anchor": "y7",
         "domain": [
          0.55,
          0.7250000000000001
         ],
         "showgrid": true
        },
        "xaxis8": {
         "anchor": "y8",
         "domain": [
          0.825,
          1
         ],
         "showgrid": true
        },
        "xaxis9": {
         "anchor": "y9",
         "domain": [
          0,
          0.175
         ],
         "showgrid": true
        },
        "yaxis": {
         "anchor": "x",
         "domain": [
          0.7555555555555555,
          1
         ],
         "showgrid": true
        },
        "yaxis10": {
         "anchor": "x10",
         "domain": [
          0,
          0.24444444444444446
         ],
         "showgrid": true
        },
        "yaxis11": {
         "anchor": "x11",
         "domain": [
          0,
          0.24444444444444446
         ],
         "showgrid": true
        },
        "yaxis12": {
         "anchor": "x12",
         "domain": [
          0,
          0.24444444444444446
         ],
         "showgrid": true
        },
        "yaxis2": {
         "anchor": "x2",
         "domain": [
          0.7555555555555555,
          1
         ],
         "showgrid": true
        },
        "yaxis3": {
         "anchor": "x3",
         "domain": [
          0.7555555555555555,
          1
         ],
         "showgrid": true
        },
        "yaxis4": {
         "anchor": "x4",
         "domain": [
          0.7555555555555555,
          1
         ],
         "showgrid": true
        },
        "yaxis5": {
         "anchor": "x5",
         "domain": [
          0.37777777777777777,
          0.6222222222222222
         ],
         "showgrid": true
        },
        "yaxis6": {
         "anchor": "x6",
         "domain": [
          0.37777777777777777,
          0.6222222222222222
         ],
         "showgrid": true
        },
        "yaxis7": {
         "anchor": "x7",
         "domain": [
          0.37777777777777777,
          0.6222222222222222
         ],
         "showgrid": true
        },
        "yaxis8": {
         "anchor": "x8",
         "domain": [
          0.37777777777777777,
          0.6222222222222222
         ],
         "showgrid": true
        },
        "yaxis9": {
         "anchor": "x9",
         "domain": [
          0,
          0.24444444444444446
         ],
         "showgrid": true
        }
       }
      }
     },
     "metadata": {},
     "output_type": "display_data"
    }
   ],
   "source": [
    "# training the bertopic model\n",
    "topics, probs = topic_model.fit_transform(valid_overviews, embeddings)\n",
    "\n",
    "# results\n",
    "topic_model.visualize_topics().show()\n",
    "topic_model.visualize_barchart(top_n_topics=12).show()\n",
    "topic_model.save(\"models/bertopic_imdb_model\", serialization=\"pytorch\")\n",
    "\n"
   ]
  },
  {
   "cell_type": "markdown",
   "id": "507983ba",
   "metadata": {},
   "source": [
    "### Intertopic Distance Map\n",
    "\n",
    "The first chart is a 2D visualiztion of the \"thematic universe\" of the dataset. Each circle is a topic. The circle size represents the frequency of the topic (how many movies belong to it), and the distance between circles represents semantic similarity: nearby topics are thematically similar, distant topics are different.\n",
    "\n",
    "There's a large cluster in the center and other groups on the periphery. It suggests that there are broad thematic areas that are interconnected and more specific, distinct themes on the edges. \n",
    "\n",
    "Topic 0 is the largest bubble, indicating that the most prevalent topic in the dataset talks about common themes in sci-fi films.\n",
    "\n",
    "We can infer relationships such as Topic 2 (High School) being far from Topic 3 (Police), since the themes addressed in these types of film tend to be different. From the same perspective, we can infer that Topic 0 (planet earth, aliens) and Topic 1 (ancient king, goku??) are both addressing common themes in sci-fi films.\n",
    "\n",
    "Another inferable fact is that the 9980 movies were grouped into 11 clusters, something we can prove in future charts.\n",
    "\n",
    "Altogether, the Intertopic Distance Map offers a macro view of the movies. It not only shows the topics but also how they relate to one another, helping to understand the overall structure of the dataset."
   ]
  },
  {
   "cell_type": "markdown",
   "id": "9f432257",
   "metadata": {},
   "source": [
    "### Topic Word Scores\n",
    "\n",
    "This chart is the heart of topic interpretation. Each group of bars represents an individual topic discovered by the model. For each topic, it displays the 5 most representative words and their corresponding c-TF-IDF scores. A longer bar indicates that the word is more important and distinctive for that topic compared to all others.\n",
    "\n",
    "This visualization confirms that BERTopic has identified coherent and easily identifiable narrative themes, such as Topic 5 (war related), Topic 9 (high school related), Topic 8 (espionage related), Topic 6 (family related) and others.\n",
    "\n",
    "This chart validates the quality of the model. The clarity and coherence of the keywords for each topic demonstrate that the model was able to separate the synopses into meaningful thematic categories that make sense to a human. It serves as the foundation for subsequent analyses."
   ]
  },
  {
   "cell_type": "code",
   "execution_count": 7,
   "id": "84739f08",
   "metadata": {},
   "outputs": [
    {
     "name": "stderr",
     "output_type": "stream",
     "text": [
      "100%|██████████| 58/58 [00:00<00:00, 399.70it/s]\n"
     ]
    },
    {
     "data": {
      "application/vnd.plotly.v1+json": {
       "config": {
        "plotlyServerURL": "https://plot.ly"
       },
       "data": [
        {
         "hoverinfo": "text",
         "marker": {
          "color": "rgb(61,153,112)"
         },
         "mode": "lines",
         "text": [
          "married_wedding_marriage_relationship_sol",
          "",
          "",
          "love_relationship_couple_friends_relationships"
         ],
         "type": "scatter",
         "x": {
          "bdata": "AAAAAAAAAAACgnDXovLlPwKCcNei8uU/AAAAAAAAAAA=",
          "dtype": "f8"
         },
         "xaxis": "x",
         "y": {
          "bdata": "AAAAAAAALsAAAAAAAAAuwAAAAAAAADnAAAAAAAAAOcA=",
          "dtype": "f8"
         },
         "yaxis": "y"
        },
        {
         "hoverinfo": "text",
         "marker": {
          "color": "rgb(61,153,112)"
         },
         "mode": "lines",
         "text": [
          "husband_affair_married woman_married_wife",
          "",
          "",
          "relationship_love_married_wedding_couple"
         ],
         "type": "scatter",
         "x": {
          "bdata": "AAAAAAAAAAAjIf/1kiXtPyMh//WSJe0/AoJw16Ly5T8=",
          "dtype": "f8"
         },
         "xaxis": "x",
         "y": {
          "bdata": "AAAAAAAAFMAAAAAAAAAUwAAAAAAAADTAAAAAAAAANMA=",
          "dtype": "f8"
         },
         "yaxis": "y"
        },
        {
         "hoverinfo": "text",
         "marker": {
          "color": "rgb(61,153,112)"
         },
         "mode": "lines",
         "text": [
          "dating_life_buddy_day_just",
          "",
          "",
          "school_high_girl_boss_high school"
         ],
         "type": "scatter",
         "x": {
          "bdata": "AAAAAAAAAAAKW0xN0vjnPwpbTE3S+Oc/AAAAAAAAAAA=",
          "dtype": "f8"
         },
         "xaxis": "x",
         "y": {
          "bdata": "AAAAAACAQcAAAAAAAIBBwAAAAAAAgEbAAAAAAACARsA=",
          "dtype": "f8"
         },
         "yaxis": "y"
        },
        {
         "hoverinfo": "text",
         "marker": {
          "color": "rgb(61,153,112)"
         },
         "mode": "lines",
         "text": [
          "film_music_star_life_band",
          "",
          "",
          "woman_life_author_young_love"
         ],
         "type": "scatter",
         "x": {
          "bdata": "AAAAAAAAAABCTDd9uRjmP0JMN325GOY/AAAAAAAAAAA=",
          "dtype": "f8"
         },
         "xaxis": "x",
         "y": {
          "bdata": "AAAAAACAS8AAAAAAAIBLwAAAAAAAQFDAAAAAAABAUMA=",
          "dtype": "f8"
         },
         "yaxis": "y"
        },
        {
         "hoverinfo": "text",
         "marker": {
          "color": "rgb(61,153,112)"
         },
         "mode": "lines",
         "text": [
          "school_life_dating_high_girl",
          "",
          "",
          "life_film_music_star_story"
         ],
         "type": "scatter",
         "x": {
          "bdata": "CltMTdL45z90/fyuZpnpP3T9/K5mmek/Qkw3fbkY5j8=",
          "dtype": "f8"
         },
         "xaxis": "x",
         "y": {
          "bdata": "AAAAAAAARMAAAAAAAABEwAAAAAAAAE7AAAAAAAAATsA=",
          "dtype": "f8"
         },
         "yaxis": "y"
        },
        {
         "hoverinfo": "text",
         "marker": {
          "color": "rgb(61,153,112)"
         },
         "mode": "lines",
         "text": [
          "mother_father_girl_finds_discovers",
          "",
          "",
          "school_dad_year old_old_son"
         ],
         "type": "scatter",
         "x": {
          "bdata": "AAAAAAAAAAD3iwhXuI/oP/eLCFe4j+g/AAAAAAAAAAA=",
          "dtype": "f8"
         },
         "xaxis": "x",
         "y": {
          "bdata": "AAAAAADAUsAAAAAAAMBSwAAAAAAAQFXAAAAAAABAVcA=",
          "dtype": "f8"
         },
         "yaxis": "y"
        },
        {
         "hoverinfo": "text",
         "marker": {
          "color": "rgb(61,153,112)"
         },
         "mode": "lines",
         "text": [
          "life_music_film_star_new",
          "",
          "",
          "old_father_mother_year old_finds"
         ],
         "type": "scatter",
         "x": {
          "bdata": "dP38rmaZ6T9RzIbU2YfqP1HMhtTZh+o/94sIV7iP6D8=",
          "dtype": "f8"
         },
         "xaxis": "x",
         "y": {
          "bdata": "AAAAAAAAScAAAAAAAABJwAAAAAAAAFTAAAAAAAAAVMA=",
          "dtype": "f8"
         },
         "yaxis": "y"
        },
        {
         "hoverinfo": "text",
         "marker": {
          "color": "rgb(61,153,112)"
         },
         "mode": "lines",
         "text": [
          "married_love_relationship_wedding_couple",
          "",
          "",
          "life_music_film_new_young"
         ],
         "type": "scatter",
         "x": {
          "bdata": "IyH/9ZIl7T82bbeQXmjvPzZtt5BeaO8/UcyG1NmH6j8=",
          "dtype": "f8"
         },
         "xaxis": "x",
         "y": {
          "bdata": "AAAAAAAAKcAAAAAAAAApwAAAAAAAQFDAAAAAAABAUMA=",
          "dtype": "f8"
         },
         "yaxis": "y"
        },
        {
         "hoverinfo": "text",
         "marker": {
          "color": "rgb(255,65,54)"
         },
         "mode": "lines",
         "text": [
          "student_college_graduate_high school_college graduate",
          "",
          "",
          "school_students_teacher_high school_student"
         ],
         "type": "scatter",
         "x": {
          "bdata": "AAAAAAAAAAAg7PyMNermPyDs/Iw16uY/AAAAAAAAAAA=",
          "dtype": "f8"
         },
         "xaxis": "x",
         "y": {
          "bdata": "AAAAAABAWsAAAAAAAEBawAAAAAAAwFzAAAAAAADAXMA=",
          "dtype": "f8"
         },
         "yaxis": "y"
        },
        {
         "hoverinfo": "text",
         "marker": {
          "color": "rgb(255,65,54)"
         },
         "mode": "lines",
         "text": [
          "school_students_student_high school_teacher",
          "",
          "",
          "high school_high_school_friends_reunion"
         ],
         "type": "scatter",
         "x": {
          "bdata": "IOz8jDXq5j9Tfyvuh4LpP1N/K+6Hguk/AAAAAAAAAAA=",
          "dtype": "f8"
         },
         "xaxis": "x",
         "y": {
          "bdata": "AAAAAACAW8AAAAAAAIBbwAAAAAAAQF/AAAAAAABAX8A=",
          "dtype": "f8"
         },
         "yaxis": "y"
        },
        {
         "hoverinfo": "text",
         "marker": {
          "color": "rgb(255,65,54)"
         },
         "mode": "lines",
         "text": [
          "school_shelley_headmistress_regina_cady",
          "",
          "",
          "school_high school_students_high_student"
         ],
         "type": "scatter",
         "x": {
          "bdata": "AAAAAAAAAAAONs6IOpbrPw42zog6lus/U38r7oeC6T8=",
          "dtype": "f8"
         },
         "xaxis": "x",
         "y": {
          "bdata": "AAAAAADAV8AAAAAAAMBXwAAAAAAAYF3AAAAAAABgXcA=",
          "dtype": "f8"
         },
         "yaxis": "y"
        },
        {
         "hoverinfo": "text",
         "marker": {
          "color": "rgb(0,116,217)"
         },
         "mode": "lines",
         "text": [
          "life_love_new_relationship_music",
          "",
          "",
          "school_high school_high_students_student"
         ],
         "type": "scatter",
         "x": {
          "bdata": "Nm23kF5o7z+s/yZZjjfyP6z/JlmON/I/DjbOiDqW6z8=",
          "dtype": "f8"
         },
         "xaxis": "x",
         "y": {
          "bdata": "AAAAAABgQ8AAAAAAAGBDwAAAAAAAkFrAAAAAAACQWsA=",
          "dtype": "f8"
         },
         "yaxis": "y"
        },
        {
         "hoverinfo": "text",
         "marker": {
          "color": "rgb(35,205,205)"
         },
         "mode": "lines",
         "text": [
          "killer_police_cop_murder_prison",
          "",
          "",
          "cop_police_gang_case_drug"
         ],
         "type": "scatter",
         "x": {
          "bdata": "AAAAAAAAAABUZsk4rRnmP1RmyTitGeY/AAAAAAAAAAA=",
          "dtype": "f8"
         },
         "xaxis": "x",
         "y": {
          "bdata": "AAAAAAAgYsAAAAAAACBiwAAAAAAAYGPAAAAAAABgY8A=",
          "dtype": "f8"
         },
         "yaxis": "y"
        },
        {
         "hoverinfo": "text",
         "marker": {
          "color": "rgb(35,205,205)"
         },
         "mode": "lines",
         "text": [
          "police_cop_killer_prison_murder",
          "",
          "",
          "drug_undercover_dealer_marcus_drug dealer"
         ],
         "type": "scatter",
         "x": {
          "bdata": "VGbJOK0Z5j+xhGPlX7DrP7GEY+VfsOs/AAAAAAAAAAA=",
          "dtype": "f8"
         },
         "xaxis": "x",
         "y": {
          "bdata": "AAAAAADAYsAAAAAAAMBiwAAAAAAAoGTAAAAAAACgZMA=",
          "dtype": "f8"
         },
         "yaxis": "y"
        },
        {
         "hoverinfo": "text",
         "marker": {
          "color": "rgb(35,205,205)"
         },
         "mode": "lines",
         "text": [
          "court_supreme court_supreme_murder_case",
          "",
          "",
          "police_cop_killer_prison_drug"
         ],
         "type": "scatter",
         "x": {
          "bdata": "AAAAAAAAAADZQhX0qePtP9lCFfSp4+0/sYRj5V+w6z8=",
          "dtype": "f8"
         },
         "xaxis": "x",
         "y": {
          "bdata": "AAAAAADgYMAAAAAAAOBgwAAAAAAAsGPAAAAAAACwY8A=",
          "dtype": "f8"
         },
         "yaxis": "y"
        },
        {
         "hoverinfo": "text",
         "marker": {
          "color": "rgb(133,20,75)"
         },
         "mode": "lines",
         "text": [
          "rath_mayor_city crime_city_reigns",
          "",
          "",
          "hit_mike_hitman_melvin_jeffrey"
         ],
         "type": "scatter",
         "x": {
          "bdata": "AAAAAAAAAABlQgnyfrPsP2VCCfJ+s+w/AAAAAAAAAAA=",
          "dtype": "f8"
         },
         "xaxis": "x",
         "y": {
          "bdata": "AAAAAADgZcAAAAAAAOBlwAAAAAAAIGfAAAAAAAAgZ8A=",
          "dtype": "f8"
         },
         "yaxis": "y"
        },
        {
         "hoverinfo": "text",
         "marker": {
          "color": "rgb(133,20,75)"
         },
         "mode": "lines",
         "text": [
          "driver_car_gets_irene_delivery",
          "",
          "",
          "money_pay_bank_preston_check"
         ],
         "type": "scatter",
         "x": {
          "bdata": "AAAAAAAAAAAWJuEmpFfrPxYm4SakV+s/AAAAAAAAAAA=",
          "dtype": "f8"
         },
         "xaxis": "x",
         "y": {
          "bdata": "AAAAAABgaMAAAAAAAGBowAAAAAAAoGnAAAAAAACgacA=",
          "dtype": "f8"
         },
         "yaxis": "y"
        },
        {
         "hoverinfo": "text",
         "marker": {
          "color": "rgb(133,20,75)"
         },
         "mode": "lines",
         "text": [
          "money_driver_thief_bank_pay",
          "",
          "",
          "chef_company_salesmen_business_scam"
         ],
         "type": "scatter",
         "x": {
          "bdata": "FibhJqRX6z+UqfZAmx3sP5Sp9kCbHew/AAAAAAAAAAA=",
          "dtype": "f8"
         },
         "xaxis": "x",
         "y": {
          "bdata": "AAAAAAAAacAAAAAAAABpwAAAAAAA4GrAAAAAAADgasA=",
          "dtype": "f8"
         },
         "yaxis": "y"
        },
        {
         "hoverinfo": "text",
         "marker": {
          "color": "rgb(133,20,75)"
         },
         "mode": "lines",
         "text": [
          "assassin_job_hit_mike_rath",
          "",
          "",
          "money_job_driver_executive_bank"
         ],
         "type": "scatter",
         "x": {
          "bdata": "ZUIJ8n6z7D/0WgD6BcruP/RaAPoFyu4/lKn2QJsd7D8=",
          "dtype": "f8"
         },
         "xaxis": "x",
         "y": {
          "bdata": "AAAAAACAZsAAAAAAAIBmwAAAAAAA8GnAAAAAAADwacA=",
          "dtype": "f8"
         },
         "yaxis": "y"
        },
        {
         "hoverinfo": "text",
         "marker": {
          "color": "rgb(0,116,217)"
         },
         "mode": "lines",
         "text": [
          "police_cop_killer_murder_case",
          "",
          "",
          "money_job_bank_thief_driver"
         ],
         "type": "scatter",
         "x": {
          "bdata": "2UIV9Knj7T8Y3IksRobwPxjciSxGhvA/9FoA+gXK7j8=",
          "dtype": "f8"
         },
         "xaxis": "x",
         "y": {
          "bdata": "AAAAAABIYsAAAAAAAEhiwAAAAAAAOGjAAAAAAAA4aMA=",
          "dtype": "f8"
         },
         "yaxis": "y"
        },
        {
         "hoverinfo": "text",
         "marker": {
          "color": "rgb(255,220,0)"
         },
         "mode": "lines",
         "text": [
          "monster_frankenstein_dracula_samurai_frankenstein monster",
          "",
          "",
          "martial_kung fu_china_martial arts_fu"
         ],
         "type": "scatter",
         "x": {
          "bdata": "AAAAAAAAAAAEMLRAYWnuPwQwtEBhae4/AAAAAAAAAAA=",
          "dtype": "f8"
         },
         "xaxis": "x",
         "y": {
          "bdata": "AAAAAABgbcAAAAAAAGBtwAAAAAAAoG7AAAAAAACgbsA=",
          "dtype": "f8"
         },
         "yaxis": "y"
        },
        {
         "hoverinfo": "text",
         "marker": {
          "color": "rgb(255,220,0)"
         },
         "mode": "lines",
         "text": [
          "gotham_batman_gotham city_joker_bruce wayne",
          "",
          "",
          "martial_kung fu_china_martial arts_fu"
         ],
         "type": "scatter",
         "x": {
          "bdata": "AAAAAAAAAAAYf4QGtojvPxh/hAa2iO8/BDC0QGFp7j8=",
          "dtype": "f8"
         },
         "xaxis": "x",
         "y": {
          "bdata": "AAAAAAAgbMAAAAAAACBswAAAAAAAAG7AAAAAAAAAbsA=",
          "dtype": "f8"
         },
         "yaxis": "y"
        },
        {
         "hoverinfo": "text",
         "marker": {
          "color": "rgb(40,35,35)"
         },
         "mode": "lines",
         "text": [
          "jamie_holes_redfield_wakes_strange",
          "",
          "",
          "lance_hugo_arthur_farther_papa"
         ],
         "type": "scatter",
         "x": {
          "bdata": "AAAAAAAAAABTp3/vei/tP1Onf+96L+0/AAAAAAAAAAA=",
          "dtype": "f8"
         },
         "xaxis": "x",
         "y": {
          "bdata": "AAAAAADgb8AAAAAAAOBvwAAAAAAAkHDAAAAAAACQcMA=",
          "dtype": "f8"
         },
         "yaxis": "y"
        },
        {
         "hoverinfo": "text",
         "marker": {
          "color": "rgb(40,35,35)"
         },
         "mode": "lines",
         "text": [
          "lance_man_hugo_arthur_strange",
          "",
          "",
          "locke_deeds_low_powder_helpless"
         ],
         "type": "scatter",
         "x": {
          "bdata": "U6d/73ov7T8LV9mDUbjtPwtX2YNRuO0/AAAAAAAAAAA=",
          "dtype": "f8"
         },
         "xaxis": "x",
         "y": {
          "bdata": "AAAAAABAcMAAAAAAAEBwwAAAAAAAMHHAAAAAAAAwccA=",
          "dtype": "f8"
         },
         "yaxis": "y"
        },
        {
         "hoverinfo": "text",
         "marker": {
          "color": "rgb(40,35,35)"
         },
         "mode": "lines",
         "text": [
          "claudio_juliette_helena_jean_pastry",
          "",
          "",
          "giacomo_aldo_giovanni_aldo giovanni_amin"
         ],
         "type": "scatter",
         "x": {
          "bdata": "AAAAAAAAAACL/JVqOUjsP4v8lWo5SOw/AAAAAAAAAAA=",
          "dtype": "f8"
         },
         "xaxis": "x",
         "y": {
          "bdata": "AAAAAADQccAAAAAAANBxwAAAAAAAcHLAAAAAAABwcsA=",
          "dtype": "f8"
         },
         "yaxis": "y"
        },
        {
         "hoverinfo": "text",
         "marker": {
          "color": "rgb(40,35,35)"
         },
         "mode": "lines",
         "text": [
          "summer_claudio_giacomo_aldo_giovanni",
          "",
          "",
          "hotel_rich_cal_mouth_naples"
         ],
         "type": "scatter",
         "x": {
          "bdata": "i/yVajlI7D+qBM79PTTuP6oEzv09NO4/AAAAAAAAAAA=",
          "dtype": "f8"
         },
         "xaxis": "x",
         "y": {
          "bdata": "AAAAAAAgcsAAAAAAACBywAAAAAAAEHPAAAAAAAAQc8A=",
          "dtype": "f8"
         },
         "yaxis": "y"
        },
        {
         "hoverinfo": "text",
         "marker": {
          "color": "rgb(40,35,35)"
         },
         "mode": "lines",
         "text": [
          "man_lance_life_locke_strange",
          "",
          "",
          "summer_claudio_giacomo_aldo_love"
         ],
         "type": "scatter",
         "x": {
          "bdata": "C1fZg1G47T9VgQbBIwbvP1WBBsEjBu8/qgTO/T007j8=",
          "dtype": "f8"
         },
         "xaxis": "x",
         "y": {
          "bdata": "AAAAAAC4cMAAAAAAALhwwAAAAAAAmHLAAAAAAACYcsA=",
          "dtype": "f8"
         },
         "yaxis": "y"
        },
        {
         "hoverinfo": "text",
         "marker": {
          "color": "rgb(61,153,112)"
         },
         "mode": "lines",
         "text": [
          "1950s_african american_african_connecticut_struggles",
          "",
          "",
          "che_revolution_gates_solomon_cuban"
         ],
         "type": "scatter",
         "x": {
          "bdata": "AAAAAAAAAAC3S2C3FZ/tP7dLYLcVn+0/AAAAAAAAAAA=",
          "dtype": "f8"
         },
         "xaxis": "x",
         "y": {
          "bdata": "AAAAAACwc8AAAAAAALBzwAAAAAAAUHTAAAAAAABQdMA=",
          "dtype": "f8"
         },
         "yaxis": "y"
        },
        {
         "hoverinfo": "text",
         "marker": {
          "color": "rgb(61,153,112)"
         },
         "mode": "lines",
         "text": [
          "african_che_revolution_african american_1950s",
          "",
          "",
          "queen_elizabeth_mary_king_england"
         ],
         "type": "scatter",
         "x": {
          "bdata": "t0tgtxWf7T/9xTskQkXuP/3FOyRCRe4/AAAAAAAAAAA=",
          "dtype": "f8"
         },
         "xaxis": "x",
         "y": {
          "bdata": "AAAAAAAAdMAAAAAAAAB0wAAAAAAA8HTAAAAAAADwdMA=",
          "dtype": "f8"
         },
         "yaxis": "y"
        },
        {
         "hoverinfo": "text",
         "marker": {
          "color": "rgb(0,116,217)"
         },
         "mode": "lines",
         "text": [
          "man_life_summer_small_meets",
          "",
          "",
          "queen_revolution_slave_african_love affair"
         ],
         "type": "scatter",
         "x": {
          "bdata": "VYEGwSMG7z9/kaPvUBfwP3+Ro+9QF/A//cU7JEJF7j8=",
          "dtype": "f8"
         },
         "xaxis": "x",
         "y": {
          "bdata": "AAAAAACoccAAAAAAAKhxwAAAAAAAeHTAAAAAAAB4dMA=",
          "dtype": "f8"
         },
         "yaxis": "y"
        },
        {
         "hoverinfo": "text",
         "marker": {
          "color": "rgb(0,116,217)"
         },
         "mode": "lines",
         "text": [
          "gotham_batman_gotham city_joker_bruce wayne",
          "",
          "",
          "life_man_love_family_small"
         ],
         "type": "scatter",
         "x": {
          "bdata": "GH+EBraI7z8jQ8jPRi3wPyNDyM9GLfA/f5Gj71AX8D8=",
          "dtype": "f8"
         },
         "xaxis": "x",
         "y": {
          "bdata": "AAAAAAAQbcAAAAAAABBtwAAAAAAAEHPAAAAAAAAQc8A=",
          "dtype": "f8"
         },
         "yaxis": "y"
        },
        {
         "hoverinfo": "text",
         "marker": {
          "color": "rgb(255,65,54)"
         },
         "mode": "lines",
         "text": [
          "christmas_santa_claus_santa claus_christmas eve",
          "",
          "",
          "birthday party_fagin_birthday_greg_max"
         ],
         "type": "scatter",
         "x": {
          "bdata": "AAAAAAAAAACs/iqiOjDtP6z+KqI6MO0/AAAAAAAAAAA=",
          "dtype": "f8"
         },
         "xaxis": "x",
         "y": {
          "bdata": "AAAAAACQdcAAAAAAAJB1wAAAAAAAMHbAAAAAAAAwdsA=",
          "dtype": "f8"
         },
         "yaxis": "y"
        },
        {
         "hoverinfo": "text",
         "marker": {
          "color": "rgb(255,65,54)"
         },
         "mode": "lines",
         "text": [
          "sorority_girl_discover_father_son",
          "",
          "",
          "group_friends_discover_group friends_survive"
         ],
         "type": "scatter",
         "x": {
          "bdata": "AAAAAAAAAAAqcvv/nyLpPypy+/+fIuk/AAAAAAAAAAA=",
          "dtype": "f8"
         },
         "xaxis": "x",
         "y": {
          "bdata": "AAAAAADQdsAAAAAAANB2wAAAAAAAcHfAAAAAAABwd8A=",
          "dtype": "f8"
         },
         "yaxis": "y"
        },
        {
         "hoverinfo": "text",
         "marker": {
          "color": "rgb(255,65,54)"
         },
         "mode": "lines",
         "text": [
          "pooh_egg_bear_tigger_named",
          "",
          "",
          "fairy_princess_ariel_prince_godmother"
         ],
         "type": "scatter",
         "x": {
          "bdata": "AAAAAAAAAADiJAVOLvTqP+IkBU4u9Oo/AAAAAAAAAAA=",
          "dtype": "f8"
         },
         "xaxis": "x",
         "y": {
          "bdata": "AAAAAAAQeMAAAAAAABB4wAAAAAAAsHjAAAAAAACweMA=",
          "dtype": "f8"
         },
         "yaxis": "y"
        },
        {
         "hoverinfo": "text",
         "marker": {
          "color": "rgb(255,65,54)"
         },
         "mode": "lines",
         "text": [
          "group_friends_discover_survive_group friends",
          "",
          "",
          "fairy_princess_named_ariel_evil"
         ],
         "type": "scatter",
         "x": {
          "bdata": "KnL7/58i6T9YGg/tYCXtP1gaD+1gJe0/4iQFTi706j8=",
          "dtype": "f8"
         },
         "xaxis": "x",
         "y": {
          "bdata": "AAAAAAAgd8AAAAAAACB3wAAAAAAAYHjAAAAAAABgeMA=",
          "dtype": "f8"
         },
         "yaxis": "y"
        },
        {
         "hoverinfo": "text",
         "marker": {
          "color": "rgb(255,65,54)"
         },
         "mode": "lines",
         "text": [
          "friends_group_discover_fairy_princess",
          "",
          "",
          "witches_witch_wendy_marnie_casper"
         ],
         "type": "scatter",
         "x": {
          "bdata": "WBoP7WAl7T8GMF0t1nfuPwYwXS3Wd+4/AAAAAAAAAAA=",
          "dtype": "f8"
         },
         "xaxis": "x",
         "y": {
          "bdata": "AAAAAADAd8AAAAAAAMB3wAAAAAAAUHnAAAAAAABQecA=",
          "dtype": "f8"
         },
         "yaxis": "y"
        },
        {
         "hoverinfo": "text",
         "marker": {
          "color": "rgb(255,65,54)"
         },
         "mode": "lines",
         "text": [
          "christmas_santa_claus_santa claus_christmas eve",
          "",
          "",
          "friends_group_discover_fairy_princess"
         ],
         "type": "scatter",
         "x": {
          "bdata": "rP4qojow7T/xo5z8T7fvP/GjnPxPt+8/BjBdLdZ37j8=",
          "dtype": "f8"
         },
         "xaxis": "x",
         "y": {
          "bdata": "AAAAAADgdcAAAAAAAOB1wAAAAAAAiHjAAAAAAACIeMA=",
          "dtype": "f8"
         },
         "yaxis": "y"
        },
        {
         "hoverinfo": "text",
         "marker": {
          "color": "rgb(0,116,217)"
         },
         "mode": "lines",
         "text": [
          "gotham_batman_gotham city_life_city",
          "",
          "",
          "christmas_santa_friends_claus_group"
         ],
         "type": "scatter",
         "x": {
          "bdata": "I0PIz0Yt8D8Nnah9C+7wPw2dqH0L7vA/8aOc/E+37z8=",
          "dtype": "f8"
         },
         "xaxis": "x",
         "y": {
          "bdata": "AAAAAADMcMAAAAAAAMxwwAAAAAAANHfAAAAAAAA0d8A=",
          "dtype": "f8"
         },
         "yaxis": "y"
        },
        {
         "hoverinfo": "text",
         "marker": {
          "color": "rgb(35,205,205)"
         },
         "mode": "lines",
         "text": [
          "megan_friend_annika_old_year old",
          "",
          "",
          "year old girl_old girl_year old_girl_teenager"
         ],
         "type": "scatter",
         "x": {
          "bdata": "AAAAAAAAAAAgGOBtBTHsPyAY4G0FMew/AAAAAAAAAAA=",
          "dtype": "f8"
         },
         "xaxis": "x",
         "y": {
          "bdata": "AAAAAADwecAAAAAAAPB5wAAAAAAAkHrAAAAAAACQesA=",
          "dtype": "f8"
         },
         "yaxis": "y"
        },
        {
         "hoverinfo": "text",
         "marker": {
          "color": "rgb(61,153,112)"
         },
         "mode": "lines",
         "text": [
          "hospital_mental hospital_mental_mother_man",
          "",
          "",
          "mother_custody battle_family_adoption_younger"
         ],
         "type": "scatter",
         "x": {
          "bdata": "AAAAAAAAAAASO7YhY5nrPxI7tiFjmes/AAAAAAAAAAA=",
          "dtype": "f8"
         },
         "xaxis": "x",
         "y": {
          "bdata": "AAAAAADQe8AAAAAAANB7wAAAAAAAcHzAAAAAAABwfMA=",
          "dtype": "f8"
         },
         "yaxis": "y"
        },
        {
         "hoverinfo": "text",
         "marker": {
          "color": "rgb(61,153,112)"
         },
         "mode": "lines",
         "text": [
          "mother_family_man_hospital_mental hospital",
          "",
          "",
          "moore_father_murdered_murder_mother"
         ],
         "type": "scatter",
         "x": {
          "bdata": "Eju2IWOZ6z+ko8DWWPrrP6SjwNZY+us/AAAAAAAAAAA=",
          "dtype": "f8"
         },
         "xaxis": "x",
         "y": {
          "bdata": "AAAAAAAgfMAAAAAAACB8wAAAAAAAEH3AAAAAAAAQfcA=",
          "dtype": "f8"
         },
         "yaxis": "y"
        },
        {
         "hoverinfo": "text",
         "marker": {
          "color": "rgb(61,153,112)"
         },
         "mode": "lines",
         "text": [
          "south african_young man_charged_horrific_gangster",
          "",
          "",
          "mother_father_family_death_son"
         ],
         "type": "scatter",
         "x": {
          "bdata": "AAAAAAAAAAAoUagV6czsPyhRqBXpzOw/pKPA1lj66z8=",
          "dtype": "f8"
         },
         "xaxis": "x",
         "y": {
          "bdata": "AAAAAAAwe8AAAAAAADB7wAAAAAAAmHzAAAAAAACYfMA=",
          "dtype": "f8"
         },
         "yaxis": "y"
        },
        {
         "hoverinfo": "text",
         "marker": {
          "color": "rgb(61,153,112)"
         },
         "mode": "lines",
         "text": [
          "mother_father_family_man_murder",
          "",
          "",
          "priest_religious_vatican_exorcism_faith"
         ],
         "type": "scatter",
         "x": {
          "bdata": "KFGoFenM7D+tzZSogBLuP63NlKiAEu4/AAAAAAAAAAA=",
          "dtype": "f8"
         },
         "xaxis": "x",
         "y": {
          "bdata": "AAAAAADke8AAAAAAAOR7wAAAAAAAsH3AAAAAAACwfcA=",
          "dtype": "f8"
         },
         "yaxis": "y"
        },
        {
         "hoverinfo": "text",
         "marker": {
          "color": "rgb(61,153,112)"
         },
         "mode": "lines",
         "text": [
          "mother_father_exorcism_priest_religious",
          "",
          "",
          "carla_woman_traumatic_patient_mental"
         ],
         "type": "scatter",
         "x": {
          "bdata": "rc2UqIAS7j/Dou5FdADvP8Oi7kV0AO8/AAAAAAAAAAA=",
          "dtype": "f8"
         },
         "xaxis": "x",
         "y": {
          "bdata": "AAAAAADKfMAAAAAAAMp8wAAAAAAAUH7AAAAAAABQfsA=",
          "dtype": "f8"
         },
         "yaxis": "y"
        },
        {
         "hoverinfo": "text",
         "marker": {
          "color": "rgb(0,116,217)"
         },
         "mode": "lines",
         "text": [
          "megan_year old_old_year_year old girl",
          "",
          "",
          "mother_father_exorcism_priest_religious"
         ],
         "type": "scatter",
         "x": {
          "bdata": "IBjgbQUx7D/rE34qbwrwP+sTfipvCvA/w6LuRXQA7z8=",
          "dtype": "f8"
         },
         "xaxis": "x",
         "y": {
          "bdata": "AAAAAABAesAAAAAAAEB6wAAAAAAAjX3AAAAAAACNfcA=",
          "dtype": "f8"
         },
         "yaxis": "y"
        },
        {
         "hoverinfo": "text",
         "marker": {
          "color": "rgb(0,116,217)"
         },
         "mode": "lines",
         "text": [
          "christmas_santa_friends_group_discover",
          "",
          "",
          "mother_father_exorcism_family_man"
         ],
         "type": "scatter",
         "x": {
          "bdata": "DZ2ofQvu8D+YcHsM8pfxP5hwewzyl/E/6xN+Km8K8D8=",
          "dtype": "f8"
         },
         "xaxis": "x",
         "y": {
          "bdata": "AAAAAAAAdMAAAAAAAAB0wAAAAACA5nvAAAAAAIDme8A=",
          "dtype": "f8"
         },
         "yaxis": "y"
        },
        {
         "hoverinfo": "text",
         "marker": {
          "color": "rgb(0,116,217)"
         },
         "mode": "lines",
         "text": [
          "police_cop_killer_prison_drug",
          "",
          "",
          "christmas_santa_friends_family_young"
         ],
         "type": "scatter",
         "x": {
          "bdata": "GNyJLEaG8D9fRwRUeK7zP19HBFR4rvM/mHB7DPKX8T8=",
          "dtype": "f8"
         },
         "xaxis": "x",
         "y": {
          "bdata": "AAAAAABAZcAAAAAAAEBlwAAAAABA83fAAAAAAEDzd8A=",
          "dtype": "f8"
         },
         "yaxis": "y"
        },
        {
         "hoverinfo": "text",
         "marker": {
          "color": "rgb(255,65,54)"
         },
         "mode": "lines",
         "text": [
          "planet_earth_alien_space_crew",
          "",
          "",
          "king_ancient_goku_dragon_evil"
         ],
         "type": "scatter",
         "x": {
          "bdata": "AAAAAAAAAACn7Mpbpb/kP6fsylulv+Q/AAAAAAAAAAA=",
          "dtype": "f8"
         },
         "xaxis": "x",
         "y": {
          "bdata": "AAAAAAAYgMAAAAAAABiAwAAAAAAAaIDAAAAAAABogMA=",
          "dtype": "f8"
         },
         "yaxis": "y"
        },
        {
         "hoverinfo": "text",
         "marker": {
          "color": "rgb(255,65,54)"
         },
         "mode": "lines",
         "text": [
          "superman_earth_planet_green lantern_lantern",
          "",
          "",
          "earth_planet_king_alien_world"
         ],
         "type": "scatter",
         "x": {
          "bdata": "AAAAAAAAAAB79RDKOGfnP3v1EMo4Z+c/p+zKW6W/5D8=",
          "dtype": "f8"
         },
         "xaxis": "x",
         "y": {
          "bdata": "AAAAAACQf8AAAAAAAJB/wAAAAAAAQIDAAAAAAABAgMA=",
          "dtype": "f8"
         },
         "yaxis": "y"
        },
        {
         "hoverinfo": "text",
         "marker": {
          "color": "rgb(255,65,54)"
         },
         "mode": "lines",
         "text": [
          "spider_sonic_hero_super_villain",
          "",
          "",
          "earth_planet_king_alien_world"
         ],
         "type": "scatter",
         "x": {
          "bdata": "AAAAAAAAAABEIK1kd9bqP0QgrWR31uo/e/UQyjhn5z8=",
          "dtype": "f8"
         },
         "xaxis": "x",
         "y": {
          "bdata": "AAAAAADwfsAAAAAAAPB+wAAAAAAABIDAAAAAAAAEgMA=",
          "dtype": "f8"
         },
         "yaxis": "y"
        },
        {
         "hoverinfo": "text",
         "marker": {
          "color": "rgb(35,205,205)"
         },
         "mode": "lines",
         "text": [
          "champion_tennis_rocky_boxer_boxing",
          "",
          "",
          "team_coach_football_league_baseball"
         ],
         "type": "scatter",
         "x": {
          "bdata": "AAAAAAAAAADTjqBUBYTpP9OOoFQFhOk/AAAAAAAAAAA=",
          "dtype": "f8"
         },
         "xaxis": "x",
         "y": {
          "bdata": "AAAAAAC4gMAAAAAAALiAwAAAAAAACIHAAAAAAAAIgcA=",
          "dtype": "f8"
         },
         "yaxis": "y"
        },
        {
         "hoverinfo": "text",
         "marker": {
          "color": "rgb(133,20,75)"
         },
         "mode": "lines",
         "text": [
          "war_world war_war ii_world war ii_ii",
          "",
          "",
          "cia_agent_nuclear_government_international"
         ],
         "type": "scatter",
         "x": {
          "bdata": "AAAAAAAAAADW2aUeWbzpP9bZpR5ZvOk/AAAAAAAAAAA=",
          "dtype": "f8"
         },
         "xaxis": "x",
         "y": {
          "bdata": "AAAAAACogcAAAAAAAKiBwAAAAAAA+IHAAAAAAAD4gcA=",
          "dtype": "f8"
         },
         "yaxis": "y"
        },
        {
         "hoverinfo": "text",
         "marker": {
          "color": "rgb(133,20,75)"
         },
         "mode": "lines",
         "text": [
          "platoon_dodge_navy_submarine_nuclear",
          "",
          "",
          "war_world war_war ii_world war ii_ii"
         ],
         "type": "scatter",
         "x": {
          "bdata": "AAAAAAAAAAARkYsm1cfqPxGRiybVx+o/1tmlHlm86T8=",
          "dtype": "f8"
         },
         "xaxis": "x",
         "y": {
          "bdata": "AAAAAABYgcAAAAAAAFiBwAAAAAAA0IHAAAAAAADQgcA=",
          "dtype": "f8"
         },
         "yaxis": "y"
        },
        {
         "hoverinfo": "text",
         "marker": {
          "color": "rgb(133,20,75)"
         },
         "mode": "lines",
         "text": [
          "war_world war_world war ii_war ii_ii",
          "",
          "",
          "presidential_election_president_senator_scandal"
         ],
         "type": "scatter",
         "x": {
          "bdata": "EZGLJtXH6j9rFebu4t7uP2sV5u7i3u4/AAAAAAAAAAA=",
          "dtype": "f8"
         },
         "xaxis": "x",
         "y": {
          "bdata": "AAAAAACUgcAAAAAAAJSBwAAAAAAASILAAAAAAABIgsA=",
          "dtype": "f8"
         },
         "yaxis": "y"
        },
        {
         "hoverinfo": "text",
         "marker": {
          "color": "rgb(0,116,217)"
         },
         "mode": "lines",
         "text": [
          "team_coach_football_players_league",
          "",
          "",
          "war_world war_world war ii_war ii_ii"
         ],
         "type": "scatter",
         "x": {
          "bdata": "046gVAWE6T9v7yF6XvnwP2/vIXpe+fA/axXm7uLe7j8=",
          "dtype": "f8"
         },
         "xaxis": "x",
         "y": {
          "bdata": "AAAAAADggMAAAAAAAOCAwAAAAAAA7oHAAAAAAADugcA=",
          "dtype": "f8"
         },
         "yaxis": "y"
        },
        {
         "hoverinfo": "text",
         "marker": {
          "color": "rgb(0,116,217)"
         },
         "mode": "lines",
         "text": [
          "earth_planet_king_alien_world",
          "",
          "",
          "war_team_coach_world war_world"
         ],
         "type": "scatter",
         "x": {
          "bdata": "RCCtZHfW6j8rTqM0TXvxPytOozRNe/E/b+8hel758D8=",
          "dtype": "f8"
         },
         "xaxis": "x",
         "y": {
          "bdata": "AAAAAAB8f8AAAAAAAHx/wAAAAAAAZ4HAAAAAAABngcA=",
          "dtype": "f8"
         },
         "yaxis": "y"
        },
        {
         "hoverinfo": "text",
         "marker": {
          "color": "rgb(0,116,217)"
         },
         "mode": "lines",
         "text": [
          "christmas_man_family_young_life",
          "",
          "",
          "earth_world_team_planet_war"
         ],
         "type": "scatter",
         "x": {
          "bdata": "X0cEVHiu8z/wxCLJYxL0P/DEIsljEvQ/K06jNE178T8=",
          "dtype": "f8"
         },
         "xaxis": "x",
         "y": {
          "bdata": "AAAAAKBJccAAAAAAoElxwAAAAACAkoDAAAAAAICSgMA=",
          "dtype": "f8"
         },
         "yaxis": "y"
        },
        {
         "hoverinfo": "text",
         "marker": {
          "color": "rgb(0,116,217)"
         },
         "mode": "lines",
         "text": [
          "school_life_love_high school_new",
          "",
          "",
          "world_earth_team_war_planet"
         ],
         "type": "scatter",
         "x": {
          "bdata": "rP8mWY438j8HQyxnv2X1PwdDLGe/ZfU/8MQiyWMS9D8=",
          "dtype": "f8"
         },
         "xaxis": "x",
         "y": {
          "bdata": "AAAAAAAgUsAAAAAAACBSwAAAAABQN3nAAAAAAFA3ecA=",
          "dtype": "f8"
         },
         "yaxis": "y"
        },
        {
         "hoverinfo": "text",
         "hovertext": [
          "school_life_dating_high_girl",
          "life_music_film_star_new",
          "married_love_relationship_wedding_couple",
          "school_students_student_high school_teacher",
          "life_love_new_relationship_music",
          "police_cop_killer_prison_murder",
          "money_driver_thief_bank_pay",
          "assassin_job_hit_mike_rath",
          "police_cop_killer_murder_case",
          "lance_man_hugo_arthur_strange",
          "summer_claudio_giacomo_aldo_giovanni",
          "man_lance_life_locke_strange",
          "african_che_revolution_african american_1950s",
          "man_life_summer_small_meets",
          "gotham_batman_gotham city_joker_bruce wayne",
          "group_friends_discover_survive_group friends",
          "friends_group_discover_fairy_princess",
          "christmas_santa_claus_santa claus_christmas eve",
          "gotham_batman_gotham city_life_city",
          "mother_family_man_hospital_mental hospital",
          "mother_father_family_man_murder",
          "mother_father_exorcism_priest_religious",
          "megan_year old_old_year_year old girl",
          "christmas_santa_friends_group_discover",
          "police_cop_killer_prison_drug",
          "war_world war_world war ii_war ii_ii",
          "team_coach_football_players_league",
          "earth_planet_king_alien_world",
          "christmas_man_family_young_life",
          "school_life_love_high school_new"
         ],
         "marker": {
          "color": "black"
         },
         "mode": "markers",
         "showlegend": false,
         "type": "scatter",
         "x": [
          0.7491237172824594,
          0.7999757211436376,
          0.9108366779919702,
          0.716089988104958,
          0.9814904047483768,
          0.6906343564143733,
          0.8544483909001339,
          0.8969111182469304,
          0.9340410010573478,
          0.9120459249217937,
          0.8838164407496988,
          0.9287498068976857,
          0.9256695348325285,
          0.9694994707133825,
          0.9854383590027025,
          0.7854766845371774,
          0.910812819486476,
          0.9121373336165184,
          1.0110538593764395,
          0.8624740274843552,
          0.9000134871480769,
          0.9397586147883225,
          0.8809840341571125,
          1.0581164272824168,
          1.0327817668710448,
          0.8368936302981941,
          0.7973658230661961,
          0.8386799780209988,
          1.2300952226546185,
          1.1385634882462723
         ],
         "y": [
          -40,
          -50,
          -12.5,
          -110,
          -38.75,
          -150,
          -200,
          -180,
          -146.25,
          -260,
          -290,
          -267.5,
          -320,
          -282.5,
          -232.5,
          -370,
          -380,
          -350,
          -268.75,
          -450,
          -446.25,
          -460.625,
          -420,
          -320,
          -170,
          -562.5,
          -540,
          -503.75,
          -276.6015625,
          -72.5
         ]
        },
        {
         "hoverinfo": "text",
         "hovertext": [
          "relationship_love_married_wedding_couple",
          "life_film_music_star_story",
          "old_father_mother_year old_finds",
          "life_music_film_new_young",
          "school_high school_students_high_student",
          "school_high school_high_students_student",
          "police_cop_killer_prison_drug",
          "money_job_driver_executive_bank",
          "money_job_bank_thief_driver",
          "martial_kung fu_china_martial arts_fu",
          "summer_claudio_giacomo_aldo_love",
          "queen_revolution_slave_african_love affair",
          "life_man_love_family_small",
          "fairy_princess_named_ariel_evil",
          "friends_group_discover_fairy_princess",
          "christmas_santa_friends_claus_group",
          "mother_father_family_death_son",
          "mother_father_exorcism_priest_religious",
          "mother_father_exorcism_family_man",
          "christmas_santa_friends_family_young",
          "earth_planet_king_alien_world",
          "earth_planet_king_alien_world",
          "war_world war_war ii_world war ii_ii",
          "war_world war_world war ii_war ii_ii",
          "war_team_coach_world war_world",
          "earth_world_team_planet_war",
          "world_earth_team_war_planet"
         ],
         "marker": {
          "color": "black"
         },
         "mode": "markers",
         "showlegend": false,
         "type": "scatter",
         "x": [
          0.6858686645319383,
          0.6905181356072563,
          0.7675439548369231,
          0.8290833617123871,
          0.7971839572673879,
          0.8620884582502997,
          0.8652801017998596,
          0.8786140698260163,
          0.9621610529746634,
          0.9503637565371723,
          0.943877216064853,
          0.9459543903050754,
          1.0056924210449265,
          0.842307236083027,
          0.9521284948364162,
          0.9911270078492845,
          0.8743099398026186,
          0.9688054433691707,
          1.0025474223959872,
          1.0995960700593397,
          0.6483942787957816,
          0.7313503214460718,
          0.8042417143431588,
          0.9647078195563784,
          1.060881115989982,
          1.0926029258888643,
          1.254489694296634
         ],
         "y": [
          -20,
          -60,
          -80,
          -65,
          -117.5,
          -106.25,
          -157.5,
          -207.5,
          -193.75,
          -240,
          -297.5,
          -327.5,
          -305,
          -390,
          -392.5,
          -371.25,
          -457.5,
          -472.8125,
          -446.40625,
          -383.203125,
          -520,
          -512.5,
          -570,
          -573.75,
          -556.875,
          -530.3125,
          -403.45703125
         ]
        }
       ],
       "layout": {
        "autosize": false,
        "height": 1085,
        "hoverlabel": {
         "bgcolor": "white",
         "font": {
          "family": "Rockwell",
          "size": 16
         }
        },
        "hovermode": "closest",
        "plot_bgcolor": "#ECEFF1",
        "showlegend": false,
        "template": {
         "data": {
          "bar": [
           {
            "error_x": {
             "color": "#2a3f5f"
            },
            "error_y": {
             "color": "#2a3f5f"
            },
            "marker": {
             "line": {
              "color": "white",
              "width": 0.5
             },
             "pattern": {
              "fillmode": "overlay",
              "size": 10,
              "solidity": 0.2
             }
            },
            "type": "bar"
           }
          ],
          "barpolar": [
           {
            "marker": {
             "line": {
              "color": "white",
              "width": 0.5
             },
             "pattern": {
              "fillmode": "overlay",
              "size": 10,
              "solidity": 0.2
             }
            },
            "type": "barpolar"
           }
          ],
          "carpet": [
           {
            "aaxis": {
             "endlinecolor": "#2a3f5f",
             "gridcolor": "#C8D4E3",
             "linecolor": "#C8D4E3",
             "minorgridcolor": "#C8D4E3",
             "startlinecolor": "#2a3f5f"
            },
            "baxis": {
             "endlinecolor": "#2a3f5f",
             "gridcolor": "#C8D4E3",
             "linecolor": "#C8D4E3",
             "minorgridcolor": "#C8D4E3",
             "startlinecolor": "#2a3f5f"
            },
            "type": "carpet"
           }
          ],
          "choropleth": [
           {
            "colorbar": {
             "outlinewidth": 0,
             "ticks": ""
            },
            "type": "choropleth"
           }
          ],
          "contour": [
           {
            "colorbar": {
             "outlinewidth": 0,
             "ticks": ""
            },
            "colorscale": [
             [
              0,
              "#0d0887"
             ],
             [
              0.1111111111111111,
              "#46039f"
             ],
             [
              0.2222222222222222,
              "#7201a8"
             ],
             [
              0.3333333333333333,
              "#9c179e"
             ],
             [
              0.4444444444444444,
              "#bd3786"
             ],
             [
              0.5555555555555556,
              "#d8576b"
             ],
             [
              0.6666666666666666,
              "#ed7953"
             ],
             [
              0.7777777777777778,
              "#fb9f3a"
             ],
             [
              0.8888888888888888,
              "#fdca26"
             ],
             [
              1,
              "#f0f921"
             ]
            ],
            "type": "contour"
           }
          ],
          "contourcarpet": [
           {
            "colorbar": {
             "outlinewidth": 0,
             "ticks": ""
            },
            "type": "contourcarpet"
           }
          ],
          "heatmap": [
           {
            "colorbar": {
             "outlinewidth": 0,
             "ticks": ""
            },
            "colorscale": [
             [
              0,
              "#0d0887"
             ],
             [
              0.1111111111111111,
              "#46039f"
             ],
             [
              0.2222222222222222,
              "#7201a8"
             ],
             [
              0.3333333333333333,
              "#9c179e"
             ],
             [
              0.4444444444444444,
              "#bd3786"
             ],
             [
              0.5555555555555556,
              "#d8576b"
             ],
             [
              0.6666666666666666,
              "#ed7953"
             ],
             [
              0.7777777777777778,
              "#fb9f3a"
             ],
             [
              0.8888888888888888,
              "#fdca26"
             ],
             [
              1,
              "#f0f921"
             ]
            ],
            "type": "heatmap"
           }
          ],
          "histogram": [
           {
            "marker": {
             "pattern": {
              "fillmode": "overlay",
              "size": 10,
              "solidity": 0.2
             }
            },
            "type": "histogram"
           }
          ],
          "histogram2d": [
           {
            "colorbar": {
             "outlinewidth": 0,
             "ticks": ""
            },
            "colorscale": [
             [
              0,
              "#0d0887"
             ],
             [
              0.1111111111111111,
              "#46039f"
             ],
             [
              0.2222222222222222,
              "#7201a8"
             ],
             [
              0.3333333333333333,
              "#9c179e"
             ],
             [
              0.4444444444444444,
              "#bd3786"
             ],
             [
              0.5555555555555556,
              "#d8576b"
             ],
             [
              0.6666666666666666,
              "#ed7953"
             ],
             [
              0.7777777777777778,
              "#fb9f3a"
             ],
             [
              0.8888888888888888,
              "#fdca26"
             ],
             [
              1,
              "#f0f921"
             ]
            ],
            "type": "histogram2d"
           }
          ],
          "histogram2dcontour": [
           {
            "colorbar": {
             "outlinewidth": 0,
             "ticks": ""
            },
            "colorscale": [
             [
              0,
              "#0d0887"
             ],
             [
              0.1111111111111111,
              "#46039f"
             ],
             [
              0.2222222222222222,
              "#7201a8"
             ],
             [
              0.3333333333333333,
              "#9c179e"
             ],
             [
              0.4444444444444444,
              "#bd3786"
             ],
             [
              0.5555555555555556,
              "#d8576b"
             ],
             [
              0.6666666666666666,
              "#ed7953"
             ],
             [
              0.7777777777777778,
              "#fb9f3a"
             ],
             [
              0.8888888888888888,
              "#fdca26"
             ],
             [
              1,
              "#f0f921"
             ]
            ],
            "type": "histogram2dcontour"
           }
          ],
          "mesh3d": [
           {
            "colorbar": {
             "outlinewidth": 0,
             "ticks": ""
            },
            "type": "mesh3d"
           }
          ],
          "parcoords": [
           {
            "line": {
             "colorbar": {
              "outlinewidth": 0,
              "ticks": ""
             }
            },
            "type": "parcoords"
           }
          ],
          "pie": [
           {
            "automargin": true,
            "type": "pie"
           }
          ],
          "scatter": [
           {
            "fillpattern": {
             "fillmode": "overlay",
             "size": 10,
             "solidity": 0.2
            },
            "type": "scatter"
           }
          ],
          "scatter3d": [
           {
            "line": {
             "colorbar": {
              "outlinewidth": 0,
              "ticks": ""
             }
            },
            "marker": {
             "colorbar": {
              "outlinewidth": 0,
              "ticks": ""
             }
            },
            "type": "scatter3d"
           }
          ],
          "scattercarpet": [
           {
            "marker": {
             "colorbar": {
              "outlinewidth": 0,
              "ticks": ""
             }
            },
            "type": "scattercarpet"
           }
          ],
          "scattergeo": [
           {
            "marker": {
             "colorbar": {
              "outlinewidth": 0,
              "ticks": ""
             }
            },
            "type": "scattergeo"
           }
          ],
          "scattergl": [
           {
            "marker": {
             "colorbar": {
              "outlinewidth": 0,
              "ticks": ""
             }
            },
            "type": "scattergl"
           }
          ],
          "scattermap": [
           {
            "marker": {
             "colorbar": {
              "outlinewidth": 0,
              "ticks": ""
             }
            },
            "type": "scattermap"
           }
          ],
          "scattermapbox": [
           {
            "marker": {
             "colorbar": {
              "outlinewidth": 0,
              "ticks": ""
             }
            },
            "type": "scattermapbox"
           }
          ],
          "scatterpolar": [
           {
            "marker": {
             "colorbar": {
              "outlinewidth": 0,
              "ticks": ""
             }
            },
            "type": "scatterpolar"
           }
          ],
          "scatterpolargl": [
           {
            "marker": {
             "colorbar": {
              "outlinewidth": 0,
              "ticks": ""
             }
            },
            "type": "scatterpolargl"
           }
          ],
          "scatterternary": [
           {
            "marker": {
             "colorbar": {
              "outlinewidth": 0,
              "ticks": ""
             }
            },
            "type": "scatterternary"
           }
          ],
          "surface": [
           {
            "colorbar": {
             "outlinewidth": 0,
             "ticks": ""
            },
            "colorscale": [
             [
              0,
              "#0d0887"
             ],
             [
              0.1111111111111111,
              "#46039f"
             ],
             [
              0.2222222222222222,
              "#7201a8"
             ],
             [
              0.3333333333333333,
              "#9c179e"
             ],
             [
              0.4444444444444444,
              "#bd3786"
             ],
             [
              0.5555555555555556,
              "#d8576b"
             ],
             [
              0.6666666666666666,
              "#ed7953"
             ],
             [
              0.7777777777777778,
              "#fb9f3a"
             ],
             [
              0.8888888888888888,
              "#fdca26"
             ],
             [
              1,
              "#f0f921"
             ]
            ],
            "type": "surface"
           }
          ],
          "table": [
           {
            "cells": {
             "fill": {
              "color": "#EBF0F8"
             },
             "line": {
              "color": "white"
             }
            },
            "header": {
             "fill": {
              "color": "#C8D4E3"
             },
             "line": {
              "color": "white"
             }
            },
            "type": "table"
           }
          ]
         },
         "layout": {
          "annotationdefaults": {
           "arrowcolor": "#2a3f5f",
           "arrowhead": 0,
           "arrowwidth": 1
          },
          "autotypenumbers": "strict",
          "coloraxis": {
           "colorbar": {
            "outlinewidth": 0,
            "ticks": ""
           }
          },
          "colorscale": {
           "diverging": [
            [
             0,
             "#8e0152"
            ],
            [
             0.1,
             "#c51b7d"
            ],
            [
             0.2,
             "#de77ae"
            ],
            [
             0.3,
             "#f1b6da"
            ],
            [
             0.4,
             "#fde0ef"
            ],
            [
             0.5,
             "#f7f7f7"
            ],
            [
             0.6,
             "#e6f5d0"
            ],
            [
             0.7,
             "#b8e186"
            ],
            [
             0.8,
             "#7fbc41"
            ],
            [
             0.9,
             "#4d9221"
            ],
            [
             1,
             "#276419"
            ]
           ],
           "sequential": [
            [
             0,
             "#0d0887"
            ],
            [
             0.1111111111111111,
             "#46039f"
            ],
            [
             0.2222222222222222,
             "#7201a8"
            ],
            [
             0.3333333333333333,
             "#9c179e"
            ],
            [
             0.4444444444444444,
             "#bd3786"
            ],
            [
             0.5555555555555556,
             "#d8576b"
            ],
            [
             0.6666666666666666,
             "#ed7953"
            ],
            [
             0.7777777777777778,
             "#fb9f3a"
            ],
            [
             0.8888888888888888,
             "#fdca26"
            ],
            [
             1,
             "#f0f921"
            ]
           ],
           "sequentialminus": [
            [
             0,
             "#0d0887"
            ],
            [
             0.1111111111111111,
             "#46039f"
            ],
            [
             0.2222222222222222,
             "#7201a8"
            ],
            [
             0.3333333333333333,
             "#9c179e"
            ],
            [
             0.4444444444444444,
             "#bd3786"
            ],
            [
             0.5555555555555556,
             "#d8576b"
            ],
            [
             0.6666666666666666,
             "#ed7953"
            ],
            [
             0.7777777777777778,
             "#fb9f3a"
            ],
            [
             0.8888888888888888,
             "#fdca26"
            ],
            [
             1,
             "#f0f921"
            ]
           ]
          },
          "colorway": [
           "#636efa",
           "#EF553B",
           "#00cc96",
           "#ab63fa",
           "#FFA15A",
           "#19d3f3",
           "#FF6692",
           "#B6E880",
           "#FF97FF",
           "#FECB52"
          ],
          "font": {
           "color": "#2a3f5f"
          },
          "geo": {
           "bgcolor": "white",
           "lakecolor": "white",
           "landcolor": "white",
           "showlakes": true,
           "showland": true,
           "subunitcolor": "#C8D4E3"
          },
          "hoverlabel": {
           "align": "left"
          },
          "hovermode": "closest",
          "mapbox": {
           "style": "light"
          },
          "paper_bgcolor": "white",
          "plot_bgcolor": "white",
          "polar": {
           "angularaxis": {
            "gridcolor": "#EBF0F8",
            "linecolor": "#EBF0F8",
            "ticks": ""
           },
           "bgcolor": "white",
           "radialaxis": {
            "gridcolor": "#EBF0F8",
            "linecolor": "#EBF0F8",
            "ticks": ""
           }
          },
          "scene": {
           "xaxis": {
            "backgroundcolor": "white",
            "gridcolor": "#DFE8F3",
            "gridwidth": 2,
            "linecolor": "#EBF0F8",
            "showbackground": true,
            "ticks": "",
            "zerolinecolor": "#EBF0F8"
           },
           "yaxis": {
            "backgroundcolor": "white",
            "gridcolor": "#DFE8F3",
            "gridwidth": 2,
            "linecolor": "#EBF0F8",
            "showbackground": true,
            "ticks": "",
            "zerolinecolor": "#EBF0F8"
           },
           "zaxis": {
            "backgroundcolor": "white",
            "gridcolor": "#DFE8F3",
            "gridwidth": 2,
            "linecolor": "#EBF0F8",
            "showbackground": true,
            "ticks": "",
            "zerolinecolor": "#EBF0F8"
           }
          },
          "shapedefaults": {
           "line": {
            "color": "#2a3f5f"
           }
          },
          "ternary": {
           "aaxis": {
            "gridcolor": "#DFE8F3",
            "linecolor": "#A2B1C6",
            "ticks": ""
           },
           "baxis": {
            "gridcolor": "#DFE8F3",
            "linecolor": "#A2B1C6",
            "ticks": ""
           },
           "bgcolor": "white",
           "caxis": {
            "gridcolor": "#DFE8F3",
            "linecolor": "#A2B1C6",
            "ticks": ""
           }
          },
          "title": {
           "x": 0.05
          },
          "xaxis": {
           "automargin": true,
           "gridcolor": "#EBF0F8",
           "linecolor": "#EBF0F8",
           "ticks": "",
           "title": {
            "standoff": 15
           },
           "zerolinecolor": "#EBF0F8",
           "zerolinewidth": 2
          },
          "yaxis": {
           "automargin": true,
           "gridcolor": "#EBF0F8",
           "linecolor": "#EBF0F8",
           "ticks": "",
           "title": {
            "standoff": 15
           },
           "zerolinecolor": "#EBF0F8",
           "zerolinewidth": 2
          }
         }
        },
        "title": {
         "font": {
          "color": "Black",
          "size": 22
         },
         "text": "<b>Hierarchical Clustering</b>",
         "x": 0.5,
         "xanchor": "center",
         "yanchor": "top"
        },
        "width": 1000,
        "xaxis": {
         "mirror": "allticks",
         "rangemode": "tozero",
         "showgrid": false,
         "showline": true,
         "showticklabels": true,
         "ticks": "outside",
         "type": "linear",
         "zeroline": false
        },
        "yaxis": {
         "mirror": "allticks",
         "range": [
          -590,
          0
         ],
         "rangemode": "tozero",
         "showgrid": false,
         "showline": true,
         "showticklabels": true,
         "tickmode": "array",
         "ticks": "outside",
         "ticktext": [
          "39_husband_affair_married w...",
          "14_married_wedding_marriage",
          "7_love_relationship_couple",
          "15_dating_life_buddy",
          "13_school_high_girl",
          "2_film_music_star",
          "10_woman_life_author",
          "6_mother_father_girl",
          "21_school_dad_year old",
          "35_school_shelley_headmistr...",
          "47_student_college_graduate",
          "9_school_students_teacher",
          "45_high school_high_school",
          "50_court_supreme court_supr...",
          "3_killer_police_cop",
          "20_cop_police_gang",
          "58_drug_undercover_dealer",
          "46_rath_mayor_city crime",
          "48_hit_mike_hitman",
          "38_driver_car_gets",
          "23_money_pay_bank",
          "18_chef_company_salesmen",
          "29_gotham_batman_gotham city",
          "56_monster_frankenstein_dra...",
          "36_martial_kung fu_china",
          "33_jamie_holes_redfield",
          "30_lance_hugo_arthur",
          "40_locke_deeds_low",
          "54_claudio_juliette_helena",
          "32_giacomo_aldo_giovanni",
          "44_hotel_rich_cal",
          "49_1950s_african american_a...",
          "28_che_revolution_gates",
          "37_queen_elizabeth_mary",
          "22_christmas_santa_claus",
          "53_birthday party_fagin_bir...",
          "26_sorority_girl_discover",
          "4_group_friends_discover",
          "11_pooh_egg_bear",
          "19_fairy_princess_ariel",
          "52_witches_witch_wendy",
          "55_megan_friend_annika",
          "41_year old girl_old girl_y...",
          "51_south african_young man_...",
          "17_hospital_mental hospital...",
          "34_mother_custody battle_fa...",
          "31_moore_father_murdered",
          "27_priest_religious_vatican",
          "57_carla_woman_traumatic",
          "24_spider_sonic_hero",
          "16_superman_earth_planet",
          "0_planet_earth_alien",
          "1_king_ancient_goku",
          "25_champion_tennis_rocky",
          "12_team_coach_football",
          "42_platoon_dodge_navy",
          "5_war_world war_war ii",
          "8_cia_agent_nuclear",
          "43_presidential_election_pr..."
         ],
         "tickvals": [
          -5,
          -15,
          -25,
          -35,
          -45,
          -55,
          -65,
          -75,
          -85,
          -95,
          -105,
          -115,
          -125,
          -135,
          -145,
          -155,
          -165,
          -175,
          -185,
          -195,
          -205,
          -215,
          -225,
          -235,
          -245,
          -255,
          -265,
          -275,
          -285,
          -295,
          -305,
          -315,
          -325,
          -335,
          -345,
          -355,
          -365,
          -375,
          -385,
          -395,
          -405,
          -415,
          -425,
          -435,
          -445,
          -455,
          -465,
          -475,
          -485,
          -495,
          -505,
          -515,
          -525,
          -535,
          -545,
          -555,
          -565,
          -575,
          -585
         ],
         "type": "linear",
         "zeroline": false
        }
       }
      }
     },
     "metadata": {},
     "output_type": "display_data"
    }
   ],
   "source": [
    "# hierarchical visualization\n",
    "hierarchical_topics = topic_model.hierarchical_topics(valid_overviews)\n",
    "topic_model.visualize_hierarchy(hierarchical_topics=hierarchical_topics).show(height=800, width=1200)\n"
   ]
  },
  {
   "cell_type": "markdown",
   "id": "8751be97",
   "metadata": {},
   "source": [
    "### Hierarchical Clustering \n",
    "\n",
    "This is probably the most technical chart. It shows the \"making of\" the topic grouping. It's a tree diagram that illustrates how individual topics are merged into larger clusters as we move up the Y-axis (which represents the distance/dissimilarity).\n",
    "\n",
    "The tree structures reveals \"families\" of themes. We can see that the first topics to merge are 0 and 1 (sci-fi related), indicating that both themes address similar dynamics in sci-fi movies.\n",
    "\n",
    "The behavior inferred in the Intertopic Distance Map (the dataset being grouped in 11 clusters) can be seen in this chart, proving that these 11 clusters are a faithful representation of the hierarchical structure of the themes in the dataset. This shows that the grouping is not random but based on the semantic similarity calculated by the model."
   ]
  },
  {
   "cell_type": "code",
   "execution_count": 8,
   "id": "0b24668c",
   "metadata": {},
   "outputs": [],
   "source": [
    "import ast\n",
    "\n",
    "movies_overview = pd.read_csv('data/movies_overview.csv')\n",
    "movies_genres = pd.read_csv('data/movies_genres.csv')\n",
    "\n",
    "# converting 'genre_ids' from string to list\n",
    "movies_overview['genre_ids'] = movies_overview['genre_ids'].apply(lambda x: ast.literal_eval(x) if pd.notnull(x) else [])\n",
    "\n",
    "# genre dictionary\n",
    "genre_dict = movies_genres.set_index('id')['name'].to_dict()\n",
    "\n",
    "# creating a new column with genre names\n",
    "movies_overview['genres'] = movies_overview['genre_ids'].apply(\n",
    "    lambda ids: [genre_dict[id] for id in ids if id in genre_dict]\n",
    ")\n",
    "\n",
    "# removing rows with empty overviews\n",
    "movies_overview = movies_overview.dropna(subset=['overview']).reset_index(drop=True)"
   ]
  },
  {
   "cell_type": "code",
   "execution_count": 9,
   "id": "56e23d43",
   "metadata": {},
   "outputs": [
    {
     "data": {
      "application/vnd.plotly.v1+json": {
       "config": {
        "plotlyServerURL": "https://plot.ly"
       },
       "data": [
        {
         "hoverinfo": "text",
         "hovertext": [
          "<b>Topic 0</b><br>Words: planet, earth, alien, space, crew",
          "<b>Topic 0</b><br>Words: planet, earth, alien, space, crew",
          "<b>Topic 0</b><br>Words: planet, earth, alien, space, crew",
          "<b>Topic 0</b><br>Words: planet, earth, alien, space, crew",
          "<b>Topic 0</b><br>Words: planet, earth, alien, space, crew",
          "<b>Topic 0</b><br>Words: planet, earth, alien, space, crew",
          "<b>Topic 0</b><br>Words: planet, earth, alien, space, crew",
          "<b>Topic 0</b><br>Words: planet, earth, alien, space, crew",
          "<b>Topic 0</b><br>Words: planet, earth, alien, space, crew",
          "<b>Topic 0</b><br>Words: planet, earth, alien, space, crew",
          "<b>Topic 0</b><br>Words: planet, earth, alien, space, crew",
          "<b>Topic 0</b><br>Words: planet, earth, alien, space, crew",
          "<b>Topic 0</b><br>Words: planet, earth, alien, space, crew",
          "<b>Topic 0</b><br>Words: planet, earth, alien, space, crew",
          "<b>Topic 0</b><br>Words: planet, earth, alien, space, crew",
          "<b>Topic 0</b><br>Words: planet, earth, alien, space, crew",
          "<b>Topic 0</b><br>Words: planet, earth, alien, space, crew"
         ],
         "marker": {
          "color": "#E69F00"
         },
         "name": "0_planet_earth_alien_space",
         "orientation": "h",
         "type": "bar",
         "visible": true,
         "x": {
          "bdata": "SIPkI44V0D8YVef+cEDQP6e39QYbEL0/j4qkapM3rj8AhCP8EzeDP1vaqTHKH7E/ISKkd/6ntT9V+vcSDY64P5lteni3Iac/Smv9C/Ar1D+nCRyFbhWLP7yFsvUbW7w/dODcS/ohnz/5Rj7RW0rqP3kWjYPiz7c/ie3oLITPxz/BJNiAdFKnPw==",
          "dtype": "f8"
         },
         "y": [
          "Action",
          "Adventure",
          "Animation",
          "Comedy",
          "Crime",
          "Drama",
          "Family",
          "Fantasy",
          "History",
          "Horror",
          "Music",
          "Mystery",
          "Romance",
          "Science Fiction",
          "TV Movie",
          "Thriller",
          "War"
         ]
        },
        {
         "hoverinfo": "text",
         "hovertext": [
          "<b>Topic 1</b><br>Words: king, ancient, goku, dragon, evil",
          "<b>Topic 1</b><br>Words: king, ancient, goku, dragon, evil",
          "<b>Topic 1</b><br>Words: king, ancient, goku, dragon, evil",
          "<b>Topic 1</b><br>Words: king, ancient, goku, dragon, evil",
          "<b>Topic 1</b><br>Words: king, ancient, goku, dragon, evil",
          "<b>Topic 1</b><br>Words: king, ancient, goku, dragon, evil",
          "<b>Topic 1</b><br>Words: king, ancient, goku, dragon, evil",
          "<b>Topic 1</b><br>Words: king, ancient, goku, dragon, evil",
          "<b>Topic 1</b><br>Words: king, ancient, goku, dragon, evil",
          "<b>Topic 1</b><br>Words: king, ancient, goku, dragon, evil",
          "<b>Topic 1</b><br>Words: king, ancient, goku, dragon, evil",
          "<b>Topic 1</b><br>Words: king, ancient, goku, dragon, evil",
          "<b>Topic 1</b><br>Words: king, ancient, goku, dragon, evil",
          "<b>Topic 1</b><br>Words: king, ancient, goku, dragon, evil",
          "<b>Topic 1</b><br>Words: king, ancient, goku, dragon, evil",
          "<b>Topic 1</b><br>Words: king, ancient, goku, dragon, evil",
          "<b>Topic 1</b><br>Words: king, ancient, goku, dragon, evil",
          "<b>Topic 1</b><br>Words: king, ancient, goku, dragon, evil"
         ],
         "marker": {
          "color": "#56B4E9"
         },
         "name": "1_king_ancient_goku_dragon",
         "orientation": "h",
         "type": "bar",
         "visible": "legendonly",
         "x": {
          "bdata": "ORg2xIEc0j+8kRDPiBrcPwHDG2sygN4/vbVFKyhSsj+eGSoIS4OCPzr2LdSfG7I/ZuSL1dKm0D8Po1K6tUPgP1hXF1V9ks8/M5iPYjsgsz/gCmBuBhiKP4laZGBP15I/2SioTLu1qT9tFtGEaHnGP71TCSfJlr4/sNny5voLnT86UsEhyq7KP6Q2FL4C9rE/",
          "dtype": "f8"
         },
         "y": [
          "Action",
          "Adventure",
          "Animation",
          "Comedy",
          "Crime",
          "Drama",
          "Family",
          "Fantasy",
          "History",
          "Horror",
          "Music",
          "Mystery",
          "Romance",
          "Science Fiction",
          "TV Movie",
          "Thriller",
          "War",
          "Western"
         ]
        },
        {
         "hoverinfo": "text",
         "hovertext": [
          "<b>Topic 2</b><br>Words: film, music, star, life, band",
          "<b>Topic 2</b><br>Words: film, music, star, life, band",
          "<b>Topic 2</b><br>Words: film, music, star, life, band",
          "<b>Topic 2</b><br>Words: film, music, star, life, band",
          "<b>Topic 2</b><br>Words: film, music, star, life, band",
          "<b>Topic 2</b><br>Words: film, music, star, life, band",
          "<b>Topic 2</b><br>Words: film, music, star, life, band",
          "<b>Topic 2</b><br>Words: film, music, star, life, band",
          "<b>Topic 2</b><br>Words: film, music, star, life, band",
          "<b>Topic 2</b><br>Words: film, music, star, life, band",
          "<b>Topic 2</b><br>Words: film, music, star, life, band",
          "<b>Topic 2</b><br>Words: film, music, star, life, band",
          "<b>Topic 2</b><br>Words: film, music, star, life, band",
          "<b>Topic 2</b><br>Words: film, music, star, life, band",
          "<b>Topic 2</b><br>Words: film, music, star, life, band",
          "<b>Topic 2</b><br>Words: film, music, star, life, band"
         ],
         "marker": {
          "color": "#009E73"
         },
         "name": "2_film_music_star_life",
         "orientation": "h",
         "type": "bar",
         "visible": "legendonly",
         "x": {
          "bdata": "GIZPLlM5lT94q9wD1WufP4VQ9Mz6kKM/1pKDiscvwT+bZe2govqgP1xgcGYaSsM/ekTH0FONpz/hLi8/1SSnP1XDshNbztA/tKB7lK/4nD+TZ6/TG4TtPwVbeCpTHqY/eZZdEW0+wD/KcefLUhGXP9FF1eU71Zk/4889Hjd6uz8=",
          "dtype": "f8"
         },
         "y": [
          "Action",
          "Adventure",
          "Animation",
          "Comedy",
          "Crime",
          "Drama",
          "Family",
          "Fantasy",
          "History",
          "Horror",
          "Music",
          "Mystery",
          "Romance",
          "Science Fiction",
          "Thriller",
          "War"
         ]
        },
        {
         "hoverinfo": "text",
         "hovertext": [
          "<b>Topic 3</b><br>Words: killer, police, cop, murder, prison",
          "<b>Topic 3</b><br>Words: killer, police, cop, murder, prison",
          "<b>Topic 3</b><br>Words: killer, police, cop, murder, prison",
          "<b>Topic 3</b><br>Words: killer, police, cop, murder, prison",
          "<b>Topic 3</b><br>Words: killer, police, cop, murder, prison",
          "<b>Topic 3</b><br>Words: killer, police, cop, murder, prison",
          "<b>Topic 3</b><br>Words: killer, police, cop, murder, prison",
          "<b>Topic 3</b><br>Words: killer, police, cop, murder, prison",
          "<b>Topic 3</b><br>Words: killer, police, cop, murder, prison",
          "<b>Topic 3</b><br>Words: killer, police, cop, murder, prison",
          "<b>Topic 3</b><br>Words: killer, police, cop, murder, prison",
          "<b>Topic 3</b><br>Words: killer, police, cop, murder, prison",
          "<b>Topic 3</b><br>Words: killer, police, cop, murder, prison",
          "<b>Topic 3</b><br>Words: killer, police, cop, murder, prison",
          "<b>Topic 3</b><br>Words: killer, police, cop, murder, prison",
          "<b>Topic 3</b><br>Words: killer, police, cop, murder, prison"
         ],
         "marker": {
          "color": "#F0E442"
         },
         "name": "3_killer_police_cop_murder",
         "orientation": "h",
         "type": "bar",
         "visible": "legendonly",
         "x": {
          "bdata": "3N868tep0j8tUi7CKAKeP54DIKqkB5w/hu+X1AiAuT8zQBgZCQvmP7fmTMFSb8o/zoplcjt+hj9u3Dy+05OgPzi6HecYB5o/ft8mdyLHtz/WhOW2tBrXP0SQowjC47A/LVRuIyXRqT+EEhcbEsvKP4xYyc1ewds/ZKTJLO75tD8=",
          "dtype": "f8"
         },
         "y": [
          "Action",
          "Adventure",
          "Animation",
          "Comedy",
          "Crime",
          "Drama",
          "Family",
          "Fantasy",
          "History",
          "Horror",
          "Mystery",
          "Romance",
          "Science Fiction",
          "TV Movie",
          "Thriller",
          "Western"
         ]
        },
        {
         "hoverinfo": "text",
         "hovertext": [
          "<b>Topic 4</b><br>Words: group, friends, discover, group friends, survive",
          "<b>Topic 4</b><br>Words: group, friends, discover, group friends, survive",
          "<b>Topic 4</b><br>Words: group, friends, discover, group friends, survive",
          "<b>Topic 4</b><br>Words: group, friends, discover, group friends, survive",
          "<b>Topic 4</b><br>Words: group, friends, discover, group friends, survive",
          "<b>Topic 4</b><br>Words: group, friends, discover, group friends, survive",
          "<b>Topic 4</b><br>Words: group, friends, discover, group friends, survive",
          "<b>Topic 4</b><br>Words: group, friends, discover, group friends, survive",
          "<b>Topic 4</b><br>Words: group, friends, discover, group friends, survive",
          "<b>Topic 4</b><br>Words: group, friends, discover, group friends, survive",
          "<b>Topic 4</b><br>Words: group, friends, discover, group friends, survive",
          "<b>Topic 4</b><br>Words: group, friends, discover, group friends, survive",
          "<b>Topic 4</b><br>Words: group, friends, discover, group friends, survive",
          "<b>Topic 4</b><br>Words: group, friends, discover, group friends, survive",
          "<b>Topic 4</b><br>Words: group, friends, discover, group friends, survive"
         ],
         "marker": {
          "color": "#D55E00"
         },
         "name": "4_group_friends_discover_group friends",
         "orientation": "h",
         "type": "bar",
         "visible": "legendonly",
         "x": {
          "bdata": "WmGKpW/svT95+8X/oo/OP4piEleSeNI/U41fZy5HwT+TslaWLzOrP4f97uX6Bqs/lGv0yhClzT88XvFYf8e/PxcoKPf4ReY/xWC1e1fopT+Esr9NTSXWPzYYYbvBx4w/SIeVMHNS0T/SOoRsmqDQPwX9iCEhG7Q/",
          "dtype": "f8"
         },
         "y": [
          "Action",
          "Adventure",
          "Animation",
          "Comedy",
          "Crime",
          "Drama",
          "Family",
          "Fantasy",
          "Horror",
          "Music",
          "Mystery",
          "Romance",
          "Science Fiction",
          "Thriller",
          "Western"
         ]
        },
        {
         "hoverinfo": "text",
         "hovertext": [
          "<b>Topic 5</b><br>Words: war, world war, war ii, world war ii, ii",
          "<b>Topic 5</b><br>Words: war, world war, war ii, world war ii, ii",
          "<b>Topic 5</b><br>Words: war, world war, war ii, world war ii, ii",
          "<b>Topic 5</b><br>Words: war, world war, war ii, world war ii, ii",
          "<b>Topic 5</b><br>Words: war, world war, war ii, world war ii, ii",
          "<b>Topic 5</b><br>Words: war, world war, war ii, world war ii, ii",
          "<b>Topic 5</b><br>Words: war, world war, war ii, world war ii, ii",
          "<b>Topic 5</b><br>Words: war, world war, war ii, world war ii, ii",
          "<b>Topic 5</b><br>Words: war, world war, war ii, world war ii, ii",
          "<b>Topic 5</b><br>Words: war, world war, war ii, world war ii, ii",
          "<b>Topic 5</b><br>Words: war, world war, war ii, world war ii, ii",
          "<b>Topic 5</b><br>Words: war, world war, war ii, world war ii, ii",
          "<b>Topic 5</b><br>Words: war, world war, war ii, world war ii, ii",
          "<b>Topic 5</b><br>Words: war, world war, war ii, world war ii, ii",
          "<b>Topic 5</b><br>Words: war, world war, war ii, world war ii, ii"
         ],
         "marker": {
          "color": "#0072B2"
         },
         "name": "5_war_world war_war ii_world war ii",
         "orientation": "h",
         "type": "bar",
         "visible": "legendonly",
         "x": {
          "bdata": "MyeMuPhlqz8azASoifuhP8XeGEseSnw/B+MEZY9MhT8mmG29p11wP4v/kRecirA/HHUfVCS7gD9AX7JkrHLZP3t1Ac4EdHE/r20XD0mmaj/XzvHg402OP9JnQL5Vc5c/AOT19JwKmz9Sy7kIZdiaP749HabILO0/",
          "dtype": "f8"
         },
         "y": [
          "Action",
          "Adventure",
          "Animation",
          "Comedy",
          "Crime",
          "Drama",
          "Fantasy",
          "History",
          "Horror",
          "Mystery",
          "Romance",
          "Science Fiction",
          "TV Movie",
          "Thriller",
          "War"
         ]
        },
        {
         "hoverinfo": "text",
         "hovertext": [
          "<b>Topic 6</b><br>Words: mother, father, girl, finds, discovers",
          "<b>Topic 6</b><br>Words: mother, father, girl, finds, discovers",
          "<b>Topic 6</b><br>Words: mother, father, girl, finds, discovers",
          "<b>Topic 6</b><br>Words: mother, father, girl, finds, discovers",
          "<b>Topic 6</b><br>Words: mother, father, girl, finds, discovers",
          "<b>Topic 6</b><br>Words: mother, father, girl, finds, discovers",
          "<b>Topic 6</b><br>Words: mother, father, girl, finds, discovers",
          "<b>Topic 6</b><br>Words: mother, father, girl, finds, discovers",
          "<b>Topic 6</b><br>Words: mother, father, girl, finds, discovers",
          "<b>Topic 6</b><br>Words: mother, father, girl, finds, discovers",
          "<b>Topic 6</b><br>Words: mother, father, girl, finds, discovers",
          "<b>Topic 6</b><br>Words: mother, father, girl, finds, discovers",
          "<b>Topic 6</b><br>Words: mother, father, girl, finds, discovers",
          "<b>Topic 6</b><br>Words: mother, father, girl, finds, discovers",
          "<b>Topic 6</b><br>Words: mother, father, girl, finds, discovers",
          "<b>Topic 6</b><br>Words: mother, father, girl, finds, discovers",
          "<b>Topic 6</b><br>Words: mother, father, girl, finds, discovers"
         ],
         "marker": {
          "color": "#CC79A7"
         },
         "name": "6_mother_father_girl_finds",
         "orientation": "h",
         "type": "bar",
         "visible": "legendonly",
         "x": {
          "bdata": "dkyNxn4Wsz8wraTUGNfLP6MJqNxPHM4/Ytu7kDo8sz/HYAFIVVapP2eP539/lMY/5tuzwIJ50D+0NSO/ajDgP4aBZ/+cVaQ/s1+cbXTd2z89HkLKPNuxP/IACn0f69U//SmG2KKGxD+OKvLFHSfCPwm6FzS47tQ/lSkIKjoCzD/Au0E2UGPAPw==",
          "dtype": "f8"
         },
         "y": [
          "Action",
          "Adventure",
          "Animation",
          "Comedy",
          "Crime",
          "Drama",
          "Family",
          "Fantasy",
          "History",
          "Horror",
          "Music",
          "Mystery",
          "Romance",
          "Science Fiction",
          "TV Movie",
          "Thriller",
          "Western"
         ]
        },
        {
         "hoverinfo": "text",
         "hovertext": [
          "<b>Topic 7</b><br>Words: love, relationship, couple, friends, relationships",
          "<b>Topic 7</b><br>Words: love, relationship, couple, friends, relationships",
          "<b>Topic 7</b><br>Words: love, relationship, couple, friends, relationships",
          "<b>Topic 7</b><br>Words: love, relationship, couple, friends, relationships",
          "<b>Topic 7</b><br>Words: love, relationship, couple, friends, relationships",
          "<b>Topic 7</b><br>Words: love, relationship, couple, friends, relationships",
          "<b>Topic 7</b><br>Words: love, relationship, couple, friends, relationships",
          "<b>Topic 7</b><br>Words: love, relationship, couple, friends, relationships",
          "<b>Topic 7</b><br>Words: love, relationship, couple, friends, relationships",
          "<b>Topic 7</b><br>Words: love, relationship, couple, friends, relationships",
          "<b>Topic 7</b><br>Words: love, relationship, couple, friends, relationships",
          "<b>Topic 7</b><br>Words: love, relationship, couple, friends, relationships",
          "<b>Topic 7</b><br>Words: love, relationship, couple, friends, relationships",
          "<b>Topic 7</b><br>Words: love, relationship, couple, friends, relationships"
         ],
         "marker": {
          "color": "#E69F00"
         },
         "name": "7_love_relationship_couple_friends",
         "orientation": "h",
         "type": "bar",
         "visible": "legendonly",
         "x": {
          "bdata": "2lxoPwAGhT9CECyzqAyNP3RHGG9UIps/HeKctmqv2D82SkRpE2WfPx2IHmQGuNA/4c0ZHTfGpT/21IfCm2WVP/PBrFXq7LQ/FRNh36SPmT8HecWn+D/rP6Y0cClZ/pM/8umLxN/vyT8qilz8iOmxPw==",
          "dtype": "f8"
         },
         "y": [
          "Action",
          "Adventure",
          "Animation",
          "Comedy",
          "Crime",
          "Drama",
          "Family",
          "Fantasy",
          "Horror",
          "Mystery",
          "Romance",
          "Science Fiction",
          "TV Movie",
          "Thriller"
         ]
        },
        {
         "hoverinfo": "text",
         "hovertext": [
          "<b>Topic 8</b><br>Words: cia, agent, nuclear, government, international",
          "<b>Topic 8</b><br>Words: cia, agent, nuclear, government, international",
          "<b>Topic 8</b><br>Words: cia, agent, nuclear, government, international",
          "<b>Topic 8</b><br>Words: cia, agent, nuclear, government, international",
          "<b>Topic 8</b><br>Words: cia, agent, nuclear, government, international",
          "<b>Topic 8</b><br>Words: cia, agent, nuclear, government, international",
          "<b>Topic 8</b><br>Words: cia, agent, nuclear, government, international",
          "<b>Topic 8</b><br>Words: cia, agent, nuclear, government, international",
          "<b>Topic 8</b><br>Words: cia, agent, nuclear, government, international",
          "<b>Topic 8</b><br>Words: cia, agent, nuclear, government, international",
          "<b>Topic 8</b><br>Words: cia, agent, nuclear, government, international",
          "<b>Topic 8</b><br>Words: cia, agent, nuclear, government, international",
          "<b>Topic 8</b><br>Words: cia, agent, nuclear, government, international",
          "<b>Topic 8</b><br>Words: cia, agent, nuclear, government, international",
          "<b>Topic 8</b><br>Words: cia, agent, nuclear, government, international",
          "<b>Topic 8</b><br>Words: cia, agent, nuclear, government, international"
         ],
         "marker": {
          "color": "#56B4E9"
         },
         "name": "8_cia_agent_nuclear_government",
         "orientation": "h",
         "type": "bar",
         "visible": "legendonly",
         "x": {
          "bdata": "J/p9GS/43z8wUC9/NiLZP3tJosXbw5Y/p8RipKe1uT9VSj+5g+7SP3SAzWH8LME/YGojM61Ekj9VmVf+n/OhPzWdRtNftc8/UUm0FfwWjD/r1T/5AnK1P7QqLbboYog/SFE2wt5avT9q861Av8LFP/sQDLqaht4/nXseUyP61z8=",
          "dtype": "f8"
         },
         "y": [
          "Action",
          "Adventure",
          "Animation",
          "Comedy",
          "Crime",
          "Drama",
          "Family",
          "Fantasy",
          "History",
          "Horror",
          "Mystery",
          "Romance",
          "Science Fiction",
          "TV Movie",
          "Thriller",
          "War"
         ]
        },
        {
         "hoverinfo": "text",
         "hovertext": [
          "<b>Topic 9</b><br>Words: school, students, teacher, high school, student",
          "<b>Topic 9</b><br>Words: school, students, teacher, high school, student",
          "<b>Topic 9</b><br>Words: school, students, teacher, high school, student",
          "<b>Topic 9</b><br>Words: school, students, teacher, high school, student",
          "<b>Topic 9</b><br>Words: school, students, teacher, high school, student",
          "<b>Topic 9</b><br>Words: school, students, teacher, high school, student",
          "<b>Topic 9</b><br>Words: school, students, teacher, high school, student",
          "<b>Topic 9</b><br>Words: school, students, teacher, high school, student",
          "<b>Topic 9</b><br>Words: school, students, teacher, high school, student",
          "<b>Topic 9</b><br>Words: school, students, teacher, high school, student",
          "<b>Topic 9</b><br>Words: school, students, teacher, high school, student",
          "<b>Topic 9</b><br>Words: school, students, teacher, high school, student",
          "<b>Topic 9</b><br>Words: school, students, teacher, high school, student",
          "<b>Topic 9</b><br>Words: school, students, teacher, high school, student",
          "<b>Topic 9</b><br>Words: school, students, teacher, high school, student",
          "<b>Topic 9</b><br>Words: school, students, teacher, high school, student"
         ],
         "marker": {
          "color": "#009E73"
         },
         "name": "9_school_students_teacher_high school",
         "orientation": "h",
         "type": "bar",
         "visible": "legendonly",
         "x": {
          "bdata": "9ugOJbjEtD8m/QEBoyGTP7kklDO33qE/7KzZN3+L1z8l/v7PlgPPP4zEuPdTrNQ/O6PX3SKurD/HB0m04y6sPxoiLkLzl7A/s7ekYiRLwz8lFHwWa9vlP+aR/sSD1cA/dB97pzzy0T9ulFOqr1WaP3R9L9PjFNE/2DUFZuakxD8=",
          "dtype": "f8"
         },
         "y": [
          "Action",
          "Adventure",
          "Animation",
          "Comedy",
          "Crime",
          "Drama",
          "Family",
          "Fantasy",
          "History",
          "Horror",
          "Music",
          "Mystery",
          "Romance",
          "Science Fiction",
          "TV Movie",
          "Thriller"
         ]
        },
        {
         "hoverinfo": "text",
         "hovertext": [
          "<b>Topic 10</b><br>Words: woman, life, author, young, love",
          "<b>Topic 10</b><br>Words: woman, life, author, young, love",
          "<b>Topic 10</b><br>Words: woman, life, author, young, love",
          "<b>Topic 10</b><br>Words: woman, life, author, young, love",
          "<b>Topic 10</b><br>Words: woman, life, author, young, love",
          "<b>Topic 10</b><br>Words: woman, life, author, young, love",
          "<b>Topic 10</b><br>Words: woman, life, author, young, love",
          "<b>Topic 10</b><br>Words: woman, life, author, young, love",
          "<b>Topic 10</b><br>Words: woman, life, author, young, love",
          "<b>Topic 10</b><br>Words: woman, life, author, young, love",
          "<b>Topic 10</b><br>Words: woman, life, author, young, love",
          "<b>Topic 10</b><br>Words: woman, life, author, young, love",
          "<b>Topic 10</b><br>Words: woman, life, author, young, love",
          "<b>Topic 10</b><br>Words: woman, life, author, young, love",
          "<b>Topic 10</b><br>Words: woman, life, author, young, love",
          "<b>Topic 10</b><br>Words: woman, life, author, young, love",
          "<b>Topic 10</b><br>Words: woman, life, author, young, love"
         ],
         "marker": {
          "color": "#F0E442"
         },
         "name": "10_woman_life_author_young",
         "orientation": "h",
         "type": "bar",
         "visible": "legendonly",
         "x": {
          "bdata": "UCidK71oiz9e8GuWnGesPzlR5x0csLE/goLRCIsz0T9X0sWlInfEP7gwlRf0zNk/CXxQNlZjrD/RYmTqYuW7P7RZI37Xh9Q/i/KwHzrTxT8i4bRHjdjMP85IiFecqdA/iryKaQNb4j9NTLzCwIyzPyuVlRxX6NA/Mye60MODwT/9UbQHRXnKPw==",
          "dtype": "f8"
         },
         "y": [
          "Action",
          "Adventure",
          "Animation",
          "Comedy",
          "Crime",
          "Drama",
          "Family",
          "Fantasy",
          "History",
          "Horror",
          "Music",
          "Mystery",
          "Romance",
          "Science Fiction",
          "TV Movie",
          "Thriller",
          "Western"
         ]
        },
        {
         "hoverinfo": "text",
         "hovertext": [
          "<b>Topic 11</b><br>Words: pooh, egg, bear, tigger, named",
          "<b>Topic 11</b><br>Words: pooh, egg, bear, tigger, named",
          "<b>Topic 11</b><br>Words: pooh, egg, bear, tigger, named",
          "<b>Topic 11</b><br>Words: pooh, egg, bear, tigger, named",
          "<b>Topic 11</b><br>Words: pooh, egg, bear, tigger, named",
          "<b>Topic 11</b><br>Words: pooh, egg, bear, tigger, named",
          "<b>Topic 11</b><br>Words: pooh, egg, bear, tigger, named",
          "<b>Topic 11</b><br>Words: pooh, egg, bear, tigger, named",
          "<b>Topic 11</b><br>Words: pooh, egg, bear, tigger, named",
          "<b>Topic 11</b><br>Words: pooh, egg, bear, tigger, named",
          "<b>Topic 11</b><br>Words: pooh, egg, bear, tigger, named",
          "<b>Topic 11</b><br>Words: pooh, egg, bear, tigger, named",
          "<b>Topic 11</b><br>Words: pooh, egg, bear, tigger, named",
          "<b>Topic 11</b><br>Words: pooh, egg, bear, tigger, named"
         ],
         "marker": {
          "color": "#D55E00"
         },
         "name": "11_pooh_egg_bear_tigger",
         "orientation": "h",
         "type": "bar",
         "visible": "legendonly",
         "x": {
          "bdata": "Eel2ceXImT/+jdNXgnzUP4SlBsm6TeI/tNOtfTO0wD/1ukQPl2ihPxiWviPbB+U/4Hq8c8G20T+hLxv/4WyQP9c3tF6HtaU/PezcxH8UiT/iDROYwGOVP5rAXP0JbZ0/W5VJD+tyyT9TkpNmPZNxPw==",
          "dtype": "f8"
         },
         "y": [
          "Action",
          "Adventure",
          "Animation",
          "Comedy",
          "Drama",
          "Family",
          "Fantasy",
          "Horror",
          "Music",
          "Mystery",
          "Romance",
          "Science Fiction",
          "TV Movie",
          "Thriller"
         ]
        },
        {
         "hoverinfo": "text",
         "hovertext": [
          "<b>Topic 12</b><br>Words: team, coach, football, league, baseball",
          "<b>Topic 12</b><br>Words: team, coach, football, league, baseball",
          "<b>Topic 12</b><br>Words: team, coach, football, league, baseball",
          "<b>Topic 12</b><br>Words: team, coach, football, league, baseball",
          "<b>Topic 12</b><br>Words: team, coach, football, league, baseball",
          "<b>Topic 12</b><br>Words: team, coach, football, league, baseball",
          "<b>Topic 12</b><br>Words: team, coach, football, league, baseball",
          "<b>Topic 12</b><br>Words: team, coach, football, league, baseball",
          "<b>Topic 12</b><br>Words: team, coach, football, league, baseball",
          "<b>Topic 12</b><br>Words: team, coach, football, league, baseball",
          "<b>Topic 12</b><br>Words: team, coach, football, league, baseball",
          "<b>Topic 12</b><br>Words: team, coach, football, league, baseball",
          "<b>Topic 12</b><br>Words: team, coach, football, league, baseball"
         ],
         "marker": {
          "color": "#0072B2"
         },
         "name": "12_team_coach_football_league",
         "orientation": "h",
         "type": "bar",
         "visible": "legendonly",
         "x": {
          "bdata": "zD1dXC72sz+3/a6z2hCmP4m32wFnnKQ/CajC3ffc2T8cYkqp7dinP2zAekLIXNg/mpnJaSaK4D/idzWVxEDAP24qlTiEI+M/X0X6WnHOwD9fjOJjIo/AP/IbojjAX64/f66MrrpopD8=",
          "dtype": "f8"
         },
         "y": [
          "Action",
          "Adventure",
          "Animation",
          "Comedy",
          "Crime",
          "Drama",
          "Family",
          "Fantasy",
          "History",
          "Music",
          "Romance",
          "Science Fiction",
          "Thriller"
         ]
        },
        {
         "hoverinfo": "text",
         "hovertext": [
          "<b>Topic 13</b><br>Words: school, high, girl, boss, high school",
          "<b>Topic 13</b><br>Words: school, high, girl, boss, high school",
          "<b>Topic 13</b><br>Words: school, high, girl, boss, high school",
          "<b>Topic 13</b><br>Words: school, high, girl, boss, high school",
          "<b>Topic 13</b><br>Words: school, high, girl, boss, high school",
          "<b>Topic 13</b><br>Words: school, high, girl, boss, high school",
          "<b>Topic 13</b><br>Words: school, high, girl, boss, high school",
          "<b>Topic 13</b><br>Words: school, high, girl, boss, high school",
          "<b>Topic 13</b><br>Words: school, high, girl, boss, high school",
          "<b>Topic 13</b><br>Words: school, high, girl, boss, high school",
          "<b>Topic 13</b><br>Words: school, high, girl, boss, high school",
          "<b>Topic 13</b><br>Words: school, high, girl, boss, high school",
          "<b>Topic 13</b><br>Words: school, high, girl, boss, high school"
         ],
         "marker": {
          "color": "#CC79A7"
         },
         "name": "13_school_high_girl_boss",
         "orientation": "h",
         "type": "bar",
         "visible": "legendonly",
         "x": {
          "bdata": "BlM2EviWkT/wdKDpEW6wPwhSqs1Azdo/sAZtxY/szD/xLS6s3MbDP+QqP2p96Zk/USJz1kWDrj/Z1OfT3EWkP+/H3NMZv+A/1RQRV59Z5D+KQFg9azaYP0OUhSAEac8/mssW/CuxlT8=",
          "dtype": "f8"
         },
         "y": [
          "Adventure",
          "Animation",
          "Comedy",
          "Drama",
          "Family",
          "Fantasy",
          "History",
          "Horror",
          "Music",
          "Romance",
          "Science Fiction",
          "TV Movie",
          "Thriller"
         ]
        },
        {
         "hoverinfo": "text",
         "hovertext": [
          "<b>Topic 14</b><br>Words: married, wedding, marriage, relationship, sol",
          "<b>Topic 14</b><br>Words: married, wedding, marriage, relationship, sol",
          "<b>Topic 14</b><br>Words: married, wedding, marriage, relationship, sol",
          "<b>Topic 14</b><br>Words: married, wedding, marriage, relationship, sol",
          "<b>Topic 14</b><br>Words: married, wedding, marriage, relationship, sol",
          "<b>Topic 14</b><br>Words: married, wedding, marriage, relationship, sol",
          "<b>Topic 14</b><br>Words: married, wedding, marriage, relationship, sol",
          "<b>Topic 14</b><br>Words: married, wedding, marriage, relationship, sol",
          "<b>Topic 14</b><br>Words: married, wedding, marriage, relationship, sol",
          "<b>Topic 14</b><br>Words: married, wedding, marriage, relationship, sol",
          "<b>Topic 14</b><br>Words: married, wedding, marriage, relationship, sol",
          "<b>Topic 14</b><br>Words: married, wedding, marriage, relationship, sol"
         ],
         "marker": {
          "color": "#E69F00"
         },
         "name": "14_married_wedding_marriage_relationship",
         "orientation": "h",
         "type": "bar",
         "visible": "legendonly",
         "x": {
          "bdata": "Tluj7q1Piz/BLkRsU8bXP4i9AfKilq4/Bx53Nnrvxz/+ebvbYUmsP/6lvtpFv7U/WYhfwi2+zD9YsSVlYJqgP2+eOZLJjOo/x/F4Cyz5mT/k5AvQ4djQPyxFM7FAFq0/",
          "dtype": "f8"
         },
         "y": [
          "Action",
          "Comedy",
          "Crime",
          "Drama",
          "Family",
          "Horror",
          "Music",
          "Mystery",
          "Romance",
          "Science Fiction",
          "TV Movie",
          "Thriller"
         ]
        },
        {
         "hoverinfo": "text",
         "hovertext": [
          "<b>Topic 15</b><br>Words: dating, life, buddy, day, just",
          "<b>Topic 15</b><br>Words: dating, life, buddy, day, just",
          "<b>Topic 15</b><br>Words: dating, life, buddy, day, just",
          "<b>Topic 15</b><br>Words: dating, life, buddy, day, just",
          "<b>Topic 15</b><br>Words: dating, life, buddy, day, just",
          "<b>Topic 15</b><br>Words: dating, life, buddy, day, just",
          "<b>Topic 15</b><br>Words: dating, life, buddy, day, just",
          "<b>Topic 15</b><br>Words: dating, life, buddy, day, just",
          "<b>Topic 15</b><br>Words: dating, life, buddy, day, just",
          "<b>Topic 15</b><br>Words: dating, life, buddy, day, just",
          "<b>Topic 15</b><br>Words: dating, life, buddy, day, just",
          "<b>Topic 15</b><br>Words: dating, life, buddy, day, just",
          "<b>Topic 15</b><br>Words: dating, life, buddy, day, just",
          "<b>Topic 15</b><br>Words: dating, life, buddy, day, just"
         ],
         "marker": {
          "color": "#56B4E9"
         },
         "name": "15_dating_life_buddy_day",
         "orientation": "h",
         "type": "bar",
         "visible": "legendonly",
         "x": {
          "bdata": "+khm0r1Wkz8dNbLkkQq0PzMUCYO49ag/jdgGxXFx4D/TzRiLzKjFPxY75Ob8ttQ/TDl8vo0HpD+5OjArCIbNP5jmif5DzK4/Q0MMWk2Dxz+0enKpsDfjP4qqxqtSlss/zLceBCW3uD/N2KP5x63SPw==",
          "dtype": "f8"
         },
         "y": [
          "Action",
          "Adventure",
          "Animation",
          "Comedy",
          "Crime",
          "Drama",
          "Family",
          "Fantasy",
          "Horror",
          "Mystery",
          "Romance",
          "Science Fiction",
          "Thriller",
          "Western"
         ]
        },
        {
         "hoverinfo": "text",
         "hovertext": [
          "<b>Topic 16</b><br>Words: superman, earth, planet, green lantern, lantern",
          "<b>Topic 16</b><br>Words: superman, earth, planet, green lantern, lantern",
          "<b>Topic 16</b><br>Words: superman, earth, planet, green lantern, lantern",
          "<b>Topic 16</b><br>Words: superman, earth, planet, green lantern, lantern",
          "<b>Topic 16</b><br>Words: superman, earth, planet, green lantern, lantern",
          "<b>Topic 16</b><br>Words: superman, earth, planet, green lantern, lantern",
          "<b>Topic 16</b><br>Words: superman, earth, planet, green lantern, lantern",
          "<b>Topic 16</b><br>Words: superman, earth, planet, green lantern, lantern",
          "<b>Topic 16</b><br>Words: superman, earth, planet, green lantern, lantern",
          "<b>Topic 16</b><br>Words: superman, earth, planet, green lantern, lantern",
          "<b>Topic 16</b><br>Words: superman, earth, planet, green lantern, lantern",
          "<b>Topic 16</b><br>Words: superman, earth, planet, green lantern, lantern",
          "<b>Topic 16</b><br>Words: superman, earth, planet, green lantern, lantern",
          "<b>Topic 16</b><br>Words: superman, earth, planet, green lantern, lantern"
         ],
         "marker": {
          "color": "#009E73"
         },
         "name": "16_superman_earth_planet_green lantern",
         "orientation": "h",
         "type": "bar",
         "visible": "legendonly",
         "x": {
          "bdata": "BBUUT3+11z+O8W/dvv7bP3QTiDbsetg/mpqtCjNXlj88361XKuaePygw1y/46JE/xW++Nu2SnD+Rlj3toZHIP8Q8p5TQ94U/3ZokyOgIrT/eV/U7i8WQP37Vp15sf+Q/zj4EKq8E0T+O8CZsIKGhPw==",
          "dtype": "f8"
         },
         "y": [
          "Action",
          "Adventure",
          "Animation",
          "Comedy",
          "Crime",
          "Drama",
          "Family",
          "Fantasy",
          "Horror",
          "Music",
          "Mystery",
          "Science Fiction",
          "TV Movie",
          "Thriller"
         ]
        },
        {
         "hoverinfo": "text",
         "hovertext": [
          "<b>Topic 17</b><br>Words: hospital, mental hospital, mental, mother, man",
          "<b>Topic 17</b><br>Words: hospital, mental hospital, mental, mother, man",
          "<b>Topic 17</b><br>Words: hospital, mental hospital, mental, mother, man",
          "<b>Topic 17</b><br>Words: hospital, mental hospital, mental, mother, man",
          "<b>Topic 17</b><br>Words: hospital, mental hospital, mental, mother, man",
          "<b>Topic 17</b><br>Words: hospital, mental hospital, mental, mother, man",
          "<b>Topic 17</b><br>Words: hospital, mental hospital, mental, mother, man",
          "<b>Topic 17</b><br>Words: hospital, mental hospital, mental, mother, man",
          "<b>Topic 17</b><br>Words: hospital, mental hospital, mental, mother, man",
          "<b>Topic 17</b><br>Words: hospital, mental hospital, mental, mother, man",
          "<b>Topic 17</b><br>Words: hospital, mental hospital, mental, mother, man",
          "<b>Topic 17</b><br>Words: hospital, mental hospital, mental, mother, man",
          "<b>Topic 17</b><br>Words: hospital, mental hospital, mental, mother, man",
          "<b>Topic 17</b><br>Words: hospital, mental hospital, mental, mother, man"
         ],
         "marker": {
          "color": "#F0E442"
         },
         "name": "17_hospital_mental hospital_mental_mothe...",
         "orientation": "h",
         "type": "bar",
         "visible": "legendonly",
         "x": {
          "bdata": "1Yoik5s9xj91ir/QAYSpP+M3VeSSabY/Iy7eK+pL1D+0T5CQWdHVP11ElbTjHsQ/bbdoZm+xtz8n9gHW35zXPz6t7M2sC94/Yf7Hiud/xD9xjrXPDs3CPy0JD8yKbNw/SAxqb4TqwT+rZPQKQxjTPw==",
          "dtype": "f8"
         },
         "y": [
          "Action",
          "Animation",
          "Comedy",
          "Crime",
          "Drama",
          "Fantasy",
          "History",
          "Horror",
          "Mystery",
          "Romance",
          "Science Fiction",
          "Thriller",
          "War",
          "Western"
         ]
        },
        {
         "hoverinfo": "text",
         "hovertext": [
          "<b>Topic 18</b><br>Words: chef, company, salesmen, business, scam",
          "<b>Topic 18</b><br>Words: chef, company, salesmen, business, scam",
          "<b>Topic 18</b><br>Words: chef, company, salesmen, business, scam",
          "<b>Topic 18</b><br>Words: chef, company, salesmen, business, scam",
          "<b>Topic 18</b><br>Words: chef, company, salesmen, business, scam",
          "<b>Topic 18</b><br>Words: chef, company, salesmen, business, scam",
          "<b>Topic 18</b><br>Words: chef, company, salesmen, business, scam",
          "<b>Topic 18</b><br>Words: chef, company, salesmen, business, scam",
          "<b>Topic 18</b><br>Words: chef, company, salesmen, business, scam",
          "<b>Topic 18</b><br>Words: chef, company, salesmen, business, scam",
          "<b>Topic 18</b><br>Words: chef, company, salesmen, business, scam",
          "<b>Topic 18</b><br>Words: chef, company, salesmen, business, scam",
          "<b>Topic 18</b><br>Words: chef, company, salesmen, business, scam"
         ],
         "marker": {
          "color": "#D55E00"
         },
         "name": "18_chef_company_salesmen_business",
         "orientation": "h",
         "type": "bar",
         "visible": "legendonly",
         "x": {
          "bdata": "d4BrN5xHtz8Y91u4YxWwP/dqa4xVZNo/CPCKKdFh4T8y/fv3+WbUP5/p0xR0HKg/9p5LRXeJsj9kbTpXAoDYP8a/HlVxOsU/6GmSHdAX0D9F5mplqSO2P9D99FXKRcs/3pEACzh81j8=",
          "dtype": "f8"
         },
         "y": [
          "Action",
          "Adventure",
          "Comedy",
          "Crime",
          "Drama",
          "Family",
          "Horror",
          "Music",
          "Mystery",
          "Romance",
          "Science Fiction",
          "Thriller",
          "Western"
         ]
        },
        {
         "hoverinfo": "text",
         "hovertext": [
          "<b>Topic 19</b><br>Words: fairy, princess, ariel, prince, godmother",
          "<b>Topic 19</b><br>Words: fairy, princess, ariel, prince, godmother",
          "<b>Topic 19</b><br>Words: fairy, princess, ariel, prince, godmother",
          "<b>Topic 19</b><br>Words: fairy, princess, ariel, prince, godmother",
          "<b>Topic 19</b><br>Words: fairy, princess, ariel, prince, godmother",
          "<b>Topic 19</b><br>Words: fairy, princess, ariel, prince, godmother",
          "<b>Topic 19</b><br>Words: fairy, princess, ariel, prince, godmother",
          "<b>Topic 19</b><br>Words: fairy, princess, ariel, prince, godmother",
          "<b>Topic 19</b><br>Words: fairy, princess, ariel, prince, godmother",
          "<b>Topic 19</b><br>Words: fairy, princess, ariel, prince, godmother",
          "<b>Topic 19</b><br>Words: fairy, princess, ariel, prince, godmother"
         ],
         "marker": {
          "color": "#0072B2"
         },
         "name": "19_fairy_princess_ariel_prince",
         "orientation": "h",
         "type": "bar",
         "visible": "legendonly",
         "x": {
          "bdata": "EM4gZy2viz9NrldeblLEPzcAaG5WiuM/PWoNcTnvsT9wNfyMCpGFP+nYqF79eOE/btCr6bWy3z8OnyXAriK9P/rBvqZJI8M/nb/n4v1Tij/eiQB2yhPBPw==",
          "dtype": "f8"
         },
         "y": [
          "Action",
          "Adventure",
          "Animation",
          "Comedy",
          "Drama",
          "Family",
          "Fantasy",
          "Music",
          "Romance",
          "Science Fiction",
          "TV Movie"
         ]
        },
        {
         "hoverinfo": "text",
         "hovertext": [
          "<b>Topic 20</b><br>Words: cop, police, gang, case, drug",
          "<b>Topic 20</b><br>Words: cop, police, gang, case, drug",
          "<b>Topic 20</b><br>Words: cop, police, gang, case, drug",
          "<b>Topic 20</b><br>Words: cop, police, gang, case, drug",
          "<b>Topic 20</b><br>Words: cop, police, gang, case, drug",
          "<b>Topic 20</b><br>Words: cop, police, gang, case, drug",
          "<b>Topic 20</b><br>Words: cop, police, gang, case, drug",
          "<b>Topic 20</b><br>Words: cop, police, gang, case, drug",
          "<b>Topic 20</b><br>Words: cop, police, gang, case, drug",
          "<b>Topic 20</b><br>Words: cop, police, gang, case, drug",
          "<b>Topic 20</b><br>Words: cop, police, gang, case, drug",
          "<b>Topic 20</b><br>Words: cop, police, gang, case, drug",
          "<b>Topic 20</b><br>Words: cop, police, gang, case, drug"
         ],
         "marker": {
          "color": "#CC79A7"
         },
         "name": "20_cop_police_gang_case",
         "orientation": "h",
         "type": "bar",
         "visible": "legendonly",
         "x": {
          "bdata": "gcXtF0Gk2T9i0ErJH3m1PxITPOSZG7A/dx1mIsKQ4j/g1bgBGpDCP66J1X+pzL0/uOMx6ojMkz/tTL60aqy2P4xMHalJMJE/cR1nZIOllz9jRCRgT4LWP1rUVEuWiLY/bYt6FRMD4j8=",
          "dtype": "f8"
         },
         "y": [
          "Action",
          "Adventure",
          "Comedy",
          "Crime",
          "Drama",
          "History",
          "Horror",
          "Mystery",
          "Romance",
          "Science Fiction",
          "Thriller",
          "War",
          "Western"
         ]
        },
        {
         "hoverinfo": "text",
         "hovertext": [
          "<b>Topic 21</b><br>Words: school, dad, year old, old, son",
          "<b>Topic 21</b><br>Words: school, dad, year old, old, son",
          "<b>Topic 21</b><br>Words: school, dad, year old, old, son",
          "<b>Topic 21</b><br>Words: school, dad, year old, old, son",
          "<b>Topic 21</b><br>Words: school, dad, year old, old, son",
          "<b>Topic 21</b><br>Words: school, dad, year old, old, son",
          "<b>Topic 21</b><br>Words: school, dad, year old, old, son",
          "<b>Topic 21</b><br>Words: school, dad, year old, old, son",
          "<b>Topic 21</b><br>Words: school, dad, year old, old, son",
          "<b>Topic 21</b><br>Words: school, dad, year old, old, son",
          "<b>Topic 21</b><br>Words: school, dad, year old, old, son",
          "<b>Topic 21</b><br>Words: school, dad, year old, old, son",
          "<b>Topic 21</b><br>Words: school, dad, year old, old, son"
         ],
         "marker": {
          "color": "#E69F00"
         },
         "name": "21_school_dad_year old_old",
         "orientation": "h",
         "type": "bar",
         "visible": "legendonly",
         "x": {
          "bdata": "I5MjcmXPyz8jxMlg4urbP2GVqCcaxdI/3GjKt8VR4D+PPT0GdsHNP6GtHFFxPa0/a7DAzD43wT+81L9GaODGP318RsRSPM4/9j+TUR53sT/QIiGTbcrdP5d+DJ1+Urs/mwJ2Zshbwj8=",
          "dtype": "f8"
         },
         "y": [
          "Animation",
          "Comedy",
          "Crime",
          "Drama",
          "Family",
          "Fantasy",
          "History",
          "Horror",
          "Music",
          "Mystery",
          "Romance",
          "Science Fiction",
          "Thriller"
         ]
        },
        {
         "hoverinfo": "text",
         "hovertext": [
          "<b>Topic 22</b><br>Words: christmas, santa, claus, santa claus, christmas eve",
          "<b>Topic 22</b><br>Words: christmas, santa, claus, santa claus, christmas eve",
          "<b>Topic 22</b><br>Words: christmas, santa, claus, santa claus, christmas eve",
          "<b>Topic 22</b><br>Words: christmas, santa, claus, santa claus, christmas eve",
          "<b>Topic 22</b><br>Words: christmas, santa, claus, santa claus, christmas eve",
          "<b>Topic 22</b><br>Words: christmas, santa, claus, santa claus, christmas eve",
          "<b>Topic 22</b><br>Words: christmas, santa, claus, santa claus, christmas eve",
          "<b>Topic 22</b><br>Words: christmas, santa, claus, santa claus, christmas eve",
          "<b>Topic 22</b><br>Words: christmas, santa, claus, santa claus, christmas eve",
          "<b>Topic 22</b><br>Words: christmas, santa, claus, santa claus, christmas eve",
          "<b>Topic 22</b><br>Words: christmas, santa, claus, santa claus, christmas eve",
          "<b>Topic 22</b><br>Words: christmas, santa, claus, santa claus, christmas eve",
          "<b>Topic 22</b><br>Words: christmas, santa, claus, santa claus, christmas eve",
          "<b>Topic 22</b><br>Words: christmas, santa, claus, santa claus, christmas eve"
         ],
         "marker": {
          "color": "#56B4E9"
         },
         "name": "22_christmas_santa_claus_santa claus",
         "orientation": "h",
         "type": "bar",
         "visible": "legendonly",
         "x": {
          "bdata": "aEJZROuXpD9XZCM3jXS8P3+O3LVmQ9U/aHCFD2tYxT/ykxhxJpqIP9Gu9EHlY6U/vKsKgU3+3z9yzVMDPj/bP5qQlpDgZbA/hL53nZ1WsT90QxZ71weUPwaQXwxkgKc/YrX0S0BT5D81Eo5GyhKMPw==",
          "dtype": "f8"
         },
         "y": [
          "Action",
          "Adventure",
          "Animation",
          "Comedy",
          "Crime",
          "Drama",
          "Family",
          "Fantasy",
          "Horror",
          "Music",
          "Mystery",
          "Science Fiction",
          "TV Movie",
          "Thriller"
         ]
        },
        {
         "hoverinfo": "text",
         "hovertext": [
          "<b>Topic 23</b><br>Words: money, pay, bank, preston, check",
          "<b>Topic 23</b><br>Words: money, pay, bank, preston, check",
          "<b>Topic 23</b><br>Words: money, pay, bank, preston, check",
          "<b>Topic 23</b><br>Words: money, pay, bank, preston, check",
          "<b>Topic 23</b><br>Words: money, pay, bank, preston, check",
          "<b>Topic 23</b><br>Words: money, pay, bank, preston, check",
          "<b>Topic 23</b><br>Words: money, pay, bank, preston, check",
          "<b>Topic 23</b><br>Words: money, pay, bank, preston, check",
          "<b>Topic 23</b><br>Words: money, pay, bank, preston, check",
          "<b>Topic 23</b><br>Words: money, pay, bank, preston, check",
          "<b>Topic 23</b><br>Words: money, pay, bank, preston, check",
          "<b>Topic 23</b><br>Words: money, pay, bank, preston, check"
         ],
         "marker": {
          "color": "#009E73"
         },
         "name": "23_money_pay_bank_preston",
         "orientation": "h",
         "type": "bar",
         "visible": "legendonly",
         "x": {
          "bdata": "y+9hEwRN1D947g9O4Jm+P8Y3JE1X6dc/IqgHQrZK4z/BAvWW/TXSP7NoTfvz78Y/L0Y725QNvj+iQGrfP4PHP4RZLosp7co/oXhZsHyevj//ShSVvA/FP0PJG4MUltc/",
          "dtype": "f8"
         },
         "y": [
          "Action",
          "Adventure",
          "Comedy",
          "Crime",
          "Drama",
          "Family",
          "Fantasy",
          "Horror",
          "Mystery",
          "Romance",
          "Science Fiction",
          "Thriller"
         ]
        },
        {
         "hoverinfo": "text",
         "hovertext": [
          "<b>Topic 24</b><br>Words: spider, sonic, hero, super, villain",
          "<b>Topic 24</b><br>Words: spider, sonic, hero, super, villain",
          "<b>Topic 24</b><br>Words: spider, sonic, hero, super, villain",
          "<b>Topic 24</b><br>Words: spider, sonic, hero, super, villain",
          "<b>Topic 24</b><br>Words: spider, sonic, hero, super, villain",
          "<b>Topic 24</b><br>Words: spider, sonic, hero, super, villain",
          "<b>Topic 24</b><br>Words: spider, sonic, hero, super, villain",
          "<b>Topic 24</b><br>Words: spider, sonic, hero, super, villain",
          "<b>Topic 24</b><br>Words: spider, sonic, hero, super, villain",
          "<b>Topic 24</b><br>Words: spider, sonic, hero, super, villain",
          "<b>Topic 24</b><br>Words: spider, sonic, hero, super, villain",
          "<b>Topic 24</b><br>Words: spider, sonic, hero, super, villain",
          "<b>Topic 24</b><br>Words: spider, sonic, hero, super, villain"
         ],
         "marker": {
          "color": "#F0E442"
         },
         "name": "24_spider_sonic_hero_super",
         "orientation": "h",
         "type": "bar",
         "visible": "legendonly",
         "x": {
          "bdata": "u/tm2F1N0z+pxKTsIUXUP4rtkHnv5ts/yEJNx7QBwz98jgwm56urP/zLAC+rqYk/ExK4xo7K1D9QSvu4TiXJP1hthfRfrKM/dL4nJ14UkT+paycxN4/kP0NJ8XfwDIU/G+ZW6xbdxz8=",
          "dtype": "f8"
         },
         "y": [
          "Action",
          "Adventure",
          "Animation",
          "Comedy",
          "Crime",
          "Drama",
          "Family",
          "Fantasy",
          "Horror",
          "Romance",
          "Science Fiction",
          "Thriller",
          "Western"
         ]
        },
        {
         "hoverinfo": "text",
         "hovertext": [
          "<b>Topic 25</b><br>Words: champion, tennis, rocky, boxer, boxing",
          "<b>Topic 25</b><br>Words: champion, tennis, rocky, boxer, boxing",
          "<b>Topic 25</b><br>Words: champion, tennis, rocky, boxer, boxing",
          "<b>Topic 25</b><br>Words: champion, tennis, rocky, boxer, boxing",
          "<b>Topic 25</b><br>Words: champion, tennis, rocky, boxer, boxing",
          "<b>Topic 25</b><br>Words: champion, tennis, rocky, boxer, boxing",
          "<b>Topic 25</b><br>Words: champion, tennis, rocky, boxer, boxing",
          "<b>Topic 25</b><br>Words: champion, tennis, rocky, boxer, boxing",
          "<b>Topic 25</b><br>Words: champion, tennis, rocky, boxer, boxing"
         ],
         "marker": {
          "color": "#D55E00"
         },
         "name": "25_champion_tennis_rocky_boxer",
         "orientation": "h",
         "type": "bar",
         "visible": "legendonly",
         "x": {
          "bdata": "ccX8x4+Suz/yLkL5nXqeP2zZ3NjCAbk/+1IaTEp4oD+iIJ1wKgzUPzFiineTb+o/RZLHpTV/vj99zmhVnzbbP0DqYXkwy6I/",
          "dtype": "f8"
         },
         "y": [
          "Action",
          "Adventure",
          "Comedy",
          "Crime",
          "Drama",
          "History",
          "Romance",
          "TV Movie",
          "Thriller"
         ]
        },
        {
         "hoverinfo": "text",
         "hovertext": [
          "<b>Topic 26</b><br>Words: sorority, girl, discover, father, son",
          "<b>Topic 26</b><br>Words: sorority, girl, discover, father, son",
          "<b>Topic 26</b><br>Words: sorority, girl, discover, father, son",
          "<b>Topic 26</b><br>Words: sorority, girl, discover, father, son",
          "<b>Topic 26</b><br>Words: sorority, girl, discover, father, son",
          "<b>Topic 26</b><br>Words: sorority, girl, discover, father, son",
          "<b>Topic 26</b><br>Words: sorority, girl, discover, father, son",
          "<b>Topic 26</b><br>Words: sorority, girl, discover, father, son",
          "<b>Topic 26</b><br>Words: sorority, girl, discover, father, son",
          "<b>Topic 26</b><br>Words: sorority, girl, discover, father, son",
          "<b>Topic 26</b><br>Words: sorority, girl, discover, father, son"
         ],
         "marker": {
          "color": "#0072B2"
         },
         "name": "26_sorority_girl_discover_father",
         "orientation": "h",
         "type": "bar",
         "visible": "legendonly",
         "x": {
          "bdata": "IdV9+LOHuT/VnNFRGnW6P7RP/Yrzzrg/GYPT6Pet0D+sUBKDJTvCPwYvOfgecbo/SAAa72eE4D/pPGBBH1flPwHsED8PprE/SGEDb4hHuD8iDng9kXjYPw==",
          "dtype": "f8"
         },
         "y": [
          "Action",
          "Adventure",
          "Comedy",
          "Crime",
          "Drama",
          "Family",
          "Horror",
          "Mystery",
          "Romance",
          "Science Fiction",
          "Thriller"
         ]
        },
        {
         "hoverinfo": "text",
         "hovertext": [
          "<b>Topic 27</b><br>Words: priest, religious, vatican, exorcism, faith",
          "<b>Topic 27</b><br>Words: priest, religious, vatican, exorcism, faith",
          "<b>Topic 27</b><br>Words: priest, religious, vatican, exorcism, faith",
          "<b>Topic 27</b><br>Words: priest, religious, vatican, exorcism, faith",
          "<b>Topic 27</b><br>Words: priest, religious, vatican, exorcism, faith",
          "<b>Topic 27</b><br>Words: priest, religious, vatican, exorcism, faith",
          "<b>Topic 27</b><br>Words: priest, religious, vatican, exorcism, faith",
          "<b>Topic 27</b><br>Words: priest, religious, vatican, exorcism, faith",
          "<b>Topic 27</b><br>Words: priest, religious, vatican, exorcism, faith",
          "<b>Topic 27</b><br>Words: priest, religious, vatican, exorcism, faith",
          "<b>Topic 27</b><br>Words: priest, religious, vatican, exorcism, faith",
          "<b>Topic 27</b><br>Words: priest, religious, vatican, exorcism, faith"
         ],
         "marker": {
          "color": "#CC79A7"
         },
         "name": "27_priest_religious_vatican_exorcism",
         "orientation": "h",
         "type": "bar",
         "visible": "legendonly",
         "x": {
          "bdata": "9n7HK/oCtj/82EOtjvCyP22mwBJHA7M/QiPaqubppT9FT9ZNAHy+P7FC14LF3s0/WAC/VzuW0T9G4Vx7dErqPwyRd0Z719E/PNE6GN1JpD8Ms0mnbgHJP2i5O0rumMo/",
          "dtype": "f8"
         },
         "y": [
          "Action",
          "Animation",
          "Comedy",
          "Crime",
          "Drama",
          "Fantasy",
          "History",
          "Horror",
          "Mystery",
          "Romance",
          "Thriller",
          "War"
         ]
        },
        {
         "hoverinfo": "text",
         "hovertext": [
          "<b>Topic 28</b><br>Words: che, revolution, gates, solomon, cuban",
          "<b>Topic 28</b><br>Words: che, revolution, gates, solomon, cuban",
          "<b>Topic 28</b><br>Words: che, revolution, gates, solomon, cuban",
          "<b>Topic 28</b><br>Words: che, revolution, gates, solomon, cuban",
          "<b>Topic 28</b><br>Words: che, revolution, gates, solomon, cuban",
          "<b>Topic 28</b><br>Words: che, revolution, gates, solomon, cuban",
          "<b>Topic 28</b><br>Words: che, revolution, gates, solomon, cuban",
          "<b>Topic 28</b><br>Words: che, revolution, gates, solomon, cuban",
          "<b>Topic 28</b><br>Words: che, revolution, gates, solomon, cuban",
          "<b>Topic 28</b><br>Words: che, revolution, gates, solomon, cuban",
          "<b>Topic 28</b><br>Words: che, revolution, gates, solomon, cuban"
         ],
         "marker": {
          "color": "#E69F00"
         },
         "name": "28_che_revolution_gates_solomon",
         "orientation": "h",
         "type": "bar",
         "visible": "legendonly",
         "x": {
          "bdata": "bRnIAYWalj8mZ8jUtGynP6R/cSPy9pU/+kQHj7gYtT9nAR2OJyTAPwiB/BzKn+I/pixV4JqctD8FPWhlPHCnPxjpZ7IwQqM/zawErAqb2T/6sGcZCdXlPw==",
          "dtype": "f8"
         },
         "y": [
          "Action",
          "Adventure",
          "Comedy",
          "Crime",
          "Drama",
          "History",
          "Mystery",
          "Romance",
          "Thriller",
          "War",
          "Western"
         ]
        },
        {
         "hoverinfo": "text",
         "hovertext": [
          "<b>Topic 29</b><br>Words: gotham, batman, gotham city, joker, bruce wayne",
          "<b>Topic 29</b><br>Words: gotham, batman, gotham city, joker, bruce wayne",
          "<b>Topic 29</b><br>Words: gotham, batman, gotham city, joker, bruce wayne",
          "<b>Topic 29</b><br>Words: gotham, batman, gotham city, joker, bruce wayne",
          "<b>Topic 29</b><br>Words: gotham, batman, gotham city, joker, bruce wayne",
          "<b>Topic 29</b><br>Words: gotham, batman, gotham city, joker, bruce wayne",
          "<b>Topic 29</b><br>Words: gotham, batman, gotham city, joker, bruce wayne",
          "<b>Topic 29</b><br>Words: gotham, batman, gotham city, joker, bruce wayne",
          "<b>Topic 29</b><br>Words: gotham, batman, gotham city, joker, bruce wayne",
          "<b>Topic 29</b><br>Words: gotham, batman, gotham city, joker, bruce wayne",
          "<b>Topic 29</b><br>Words: gotham, batman, gotham city, joker, bruce wayne"
         ],
         "marker": {
          "color": "#56B4E9"
         },
         "name": "29_gotham_batman_gotham city_joker",
         "orientation": "h",
         "type": "bar",
         "visible": "legendonly",
         "x": {
          "bdata": "oRisoLS61D+Ogeu08+yzP6644CiSbeg//NT0jgWvkj+EK9J24znYP6uuAXKud6Y/Qii9Be7enT/WeSYbgFjCP1MUcZt3udM/whNE8tv/xz/ZXUZ6npK4Pw==",
          "dtype": "f8"
         },
         "y": [
          "Action",
          "Adventure",
          "Animation",
          "Comedy",
          "Crime",
          "Drama",
          "Family",
          "Fantasy",
          "Mystery",
          "Science Fiction",
          "Thriller"
         ]
        },
        {
         "hoverinfo": "text",
         "hovertext": [
          "<b>Topic 30</b><br>Words: lance, hugo, arthur, farther, papa",
          "<b>Topic 30</b><br>Words: lance, hugo, arthur, farther, papa",
          "<b>Topic 30</b><br>Words: lance, hugo, arthur, farther, papa",
          "<b>Topic 30</b><br>Words: lance, hugo, arthur, farther, papa",
          "<b>Topic 30</b><br>Words: lance, hugo, arthur, farther, papa",
          "<b>Topic 30</b><br>Words: lance, hugo, arthur, farther, papa",
          "<b>Topic 30</b><br>Words: lance, hugo, arthur, farther, papa",
          "<b>Topic 30</b><br>Words: lance, hugo, arthur, farther, papa",
          "<b>Topic 30</b><br>Words: lance, hugo, arthur, farther, papa",
          "<b>Topic 30</b><br>Words: lance, hugo, arthur, farther, papa",
          "<b>Topic 30</b><br>Words: lance, hugo, arthur, farther, papa",
          "<b>Topic 30</b><br>Words: lance, hugo, arthur, farther, papa",
          "<b>Topic 30</b><br>Words: lance, hugo, arthur, farther, papa"
         ],
         "marker": {
          "color": "#009E73"
         },
         "name": "30_lance_hugo_arthur_farther",
         "orientation": "h",
         "type": "bar",
         "visible": "legendonly",
         "x": {
          "bdata": "bo8DSOChuT+9W0atzoPNP08upEqfkds/XEmWTOya0D9cD/XUrITJPxPMwWfS98M/+feuAe/43j+2PKmkS2TRP7jqleK1Nrs/EhkVFnz42T9TRzohNKDHPyserIJsYMg/xxYPZBph0D8=",
          "dtype": "f8"
         },
         "y": [
          "Action",
          "Adventure",
          "Animation",
          "Comedy",
          "Crime",
          "Drama",
          "Family",
          "Fantasy",
          "Horror",
          "Mystery",
          "Romance",
          "Science Fiction",
          "Thriller"
         ]
        },
        {
         "hoverinfo": "text",
         "hovertext": [
          "<b>Topic 31</b><br>Words: moore, father, murdered, murder, mother",
          "<b>Topic 31</b><br>Words: moore, father, murdered, murder, mother",
          "<b>Topic 31</b><br>Words: moore, father, murdered, murder, mother",
          "<b>Topic 31</b><br>Words: moore, father, murdered, murder, mother",
          "<b>Topic 31</b><br>Words: moore, father, murdered, murder, mother",
          "<b>Topic 31</b><br>Words: moore, father, murdered, murder, mother",
          "<b>Topic 31</b><br>Words: moore, father, murdered, murder, mother",
          "<b>Topic 31</b><br>Words: moore, father, murdered, murder, mother",
          "<b>Topic 31</b><br>Words: moore, father, murdered, murder, mother",
          "<b>Topic 31</b><br>Words: moore, father, murdered, murder, mother"
         ],
         "marker": {
          "color": "#F0E442"
         },
         "name": "31_moore_father_murdered_murder",
         "orientation": "h",
         "type": "bar",
         "visible": "legendonly",
         "x": {
          "bdata": "h2YmWMV7wj9lz6YPr/KnP726ROvPJtg/hEGQNNkywz/BfrnU08/CP6RMeu7hJsY/Gaq1kb6O4D/rGLZLzdrgP5y8HdEKjqk/mYzArB6H3T8=",
          "dtype": "f8"
         },
         "y": [
          "Action",
          "Comedy",
          "Crime",
          "Drama",
          "Fantasy",
          "History",
          "Horror",
          "Mystery",
          "Romance",
          "Thriller"
         ]
        },
        {
         "hoverinfo": "text",
         "hovertext": [
          "<b>Topic 32</b><br>Words: giacomo, aldo, giovanni, aldo giovanni, amin",
          "<b>Topic 32</b><br>Words: giacomo, aldo, giovanni, aldo giovanni, amin",
          "<b>Topic 32</b><br>Words: giacomo, aldo, giovanni, aldo giovanni, amin",
          "<b>Topic 32</b><br>Words: giacomo, aldo, giovanni, aldo giovanni, amin",
          "<b>Topic 32</b><br>Words: giacomo, aldo, giovanni, aldo giovanni, amin",
          "<b>Topic 32</b><br>Words: giacomo, aldo, giovanni, aldo giovanni, amin",
          "<b>Topic 32</b><br>Words: giacomo, aldo, giovanni, aldo giovanni, amin",
          "<b>Topic 32</b><br>Words: giacomo, aldo, giovanni, aldo giovanni, amin",
          "<b>Topic 32</b><br>Words: giacomo, aldo, giovanni, aldo giovanni, amin",
          "<b>Topic 32</b><br>Words: giacomo, aldo, giovanni, aldo giovanni, amin",
          "<b>Topic 32</b><br>Words: giacomo, aldo, giovanni, aldo giovanni, amin"
         ],
         "marker": {
          "color": "#D55E00"
         },
         "name": "32_giacomo_aldo_giovanni_aldo giovanni",
         "orientation": "h",
         "type": "bar",
         "visible": "legendonly",
         "x": {
          "bdata": "0XMBRpFvwj9TtaEfYzjRP7jWK6wc7tk/jFDU9Q382T8jOUx4MKO7P106j66RKMs/5Jm+OgH7zz+TSqgnThXcP07bS1oNJOA/RPCqE5JguT/GU/RMSbymPw==",
          "dtype": "f8"
         },
         "y": [
          "Adventure",
          "Animation",
          "Comedy",
          "Drama",
          "Family",
          "Fantasy",
          "History",
          "Music",
          "Romance",
          "Science Fiction",
          "Thriller"
         ]
        },
        {
         "hoverinfo": "text",
         "hovertext": [
          "<b>Topic 33</b><br>Words: jamie, holes, redfield, wakes, strange",
          "<b>Topic 33</b><br>Words: jamie, holes, redfield, wakes, strange",
          "<b>Topic 33</b><br>Words: jamie, holes, redfield, wakes, strange",
          "<b>Topic 33</b><br>Words: jamie, holes, redfield, wakes, strange",
          "<b>Topic 33</b><br>Words: jamie, holes, redfield, wakes, strange",
          "<b>Topic 33</b><br>Words: jamie, holes, redfield, wakes, strange",
          "<b>Topic 33</b><br>Words: jamie, holes, redfield, wakes, strange",
          "<b>Topic 33</b><br>Words: jamie, holes, redfield, wakes, strange",
          "<b>Topic 33</b><br>Words: jamie, holes, redfield, wakes, strange",
          "<b>Topic 33</b><br>Words: jamie, holes, redfield, wakes, strange",
          "<b>Topic 33</b><br>Words: jamie, holes, redfield, wakes, strange",
          "<b>Topic 33</b><br>Words: jamie, holes, redfield, wakes, strange",
          "<b>Topic 33</b><br>Words: jamie, holes, redfield, wakes, strange",
          "<b>Topic 33</b><br>Words: jamie, holes, redfield, wakes, strange"
         ],
         "marker": {
          "color": "#0072B2"
         },
         "name": "33_jamie_holes_redfield_wakes",
         "orientation": "h",
         "type": "bar",
         "visible": "legendonly",
         "x": {
          "bdata": "u63us3FN1D+b/Z7ROwrFP42LVD0hNMo/igMNy8RwwD9w/K34eFGuP0PsQkdbucc/7zM3MREHtT84iNHpxanEP3E4PEv6VMg/zmcInIFK3D9GrDW0QK/YPw9zpWeKItg/L/IOLubI1z9xTRALL2bSPw==",
          "dtype": "f8"
         },
         "y": [
          "Action",
          "Adventure",
          "Animation",
          "Comedy",
          "Crime",
          "Drama",
          "Family",
          "Fantasy",
          "History",
          "Horror",
          "Mystery",
          "Science Fiction",
          "Thriller",
          "War"
         ]
        },
        {
         "hoverinfo": "text",
         "hovertext": [
          "<b>Topic 34</b><br>Words: mother, custody battle, family, adoption, younger",
          "<b>Topic 34</b><br>Words: mother, custody battle, family, adoption, younger",
          "<b>Topic 34</b><br>Words: mother, custody battle, family, adoption, younger",
          "<b>Topic 34</b><br>Words: mother, custody battle, family, adoption, younger",
          "<b>Topic 34</b><br>Words: mother, custody battle, family, adoption, younger",
          "<b>Topic 34</b><br>Words: mother, custody battle, family, adoption, younger",
          "<b>Topic 34</b><br>Words: mother, custody battle, family, adoption, younger",
          "<b>Topic 34</b><br>Words: mother, custody battle, family, adoption, younger"
         ],
         "marker": {
          "color": "#CC79A7"
         },
         "name": "34_mother_custody battle_family_adoption",
         "orientation": "h",
         "type": "bar",
         "visible": "legendonly",
         "x": {
          "bdata": "FhPAllltsj+7xS/m/+fRPwAB9TOJhMs/1JJehhxW5D8OcspmlFjdPyXhMSaJZ9Y/mPpQrRp6yT9nat0ADqDTPw==",
          "dtype": "f8"
         },
         "y": [
          "Action",
          "Comedy",
          "Crime",
          "Drama",
          "Horror",
          "Mystery",
          "Romance",
          "Thriller"
         ]
        },
        {
         "hoverinfo": "text",
         "hovertext": [
          "<b>Topic 35</b><br>Words: school, shelley, headmistress, regina, cady",
          "<b>Topic 35</b><br>Words: school, shelley, headmistress, regina, cady",
          "<b>Topic 35</b><br>Words: school, shelley, headmistress, regina, cady",
          "<b>Topic 35</b><br>Words: school, shelley, headmistress, regina, cady",
          "<b>Topic 35</b><br>Words: school, shelley, headmistress, regina, cady",
          "<b>Topic 35</b><br>Words: school, shelley, headmistress, regina, cady",
          "<b>Topic 35</b><br>Words: school, shelley, headmistress, regina, cady",
          "<b>Topic 35</b><br>Words: school, shelley, headmistress, regina, cady",
          "<b>Topic 35</b><br>Words: school, shelley, headmistress, regina, cady",
          "<b>Topic 35</b><br>Words: school, shelley, headmistress, regina, cady",
          "<b>Topic 35</b><br>Words: school, shelley, headmistress, regina, cady",
          "<b>Topic 35</b><br>Words: school, shelley, headmistress, regina, cady"
         ],
         "marker": {
          "color": "#E69F00"
         },
         "name": "35_school_shelley_headmistress_regina",
         "orientation": "h",
         "type": "bar",
         "visible": "legendonly",
         "x": {
          "bdata": "6Fgq9cmxtz+KPA7G2CHGP40ySW491NQ/pQeDQqtDxj+6vPl9VTPWP30nyAHW0NU/53OvHU97xD8DxgkhAAzSP1aosFJk2cQ/Lp7l8gTIwT/PqpwI4iflP9lu58Z6OJ0/",
          "dtype": "f8"
         },
         "y": [
          "Adventure",
          "Animation",
          "Comedy",
          "Drama",
          "Family",
          "Fantasy",
          "Horror",
          "Music",
          "Mystery",
          "Romance",
          "TV Movie",
          "Thriller"
         ]
        },
        {
         "hoverinfo": "text",
         "hovertext": [
          "<b>Topic 36</b><br>Words: martial, kung fu, china, martial arts, fu",
          "<b>Topic 36</b><br>Words: martial, kung fu, china, martial arts, fu",
          "<b>Topic 36</b><br>Words: martial, kung fu, china, martial arts, fu",
          "<b>Topic 36</b><br>Words: martial, kung fu, china, martial arts, fu",
          "<b>Topic 36</b><br>Words: martial, kung fu, china, martial arts, fu",
          "<b>Topic 36</b><br>Words: martial, kung fu, china, martial arts, fu",
          "<b>Topic 36</b><br>Words: martial, kung fu, china, martial arts, fu",
          "<b>Topic 36</b><br>Words: martial, kung fu, china, martial arts, fu",
          "<b>Topic 36</b><br>Words: martial, kung fu, china, martial arts, fu",
          "<b>Topic 36</b><br>Words: martial, kung fu, china, martial arts, fu",
          "<b>Topic 36</b><br>Words: martial, kung fu, china, martial arts, fu",
          "<b>Topic 36</b><br>Words: martial, kung fu, china, martial arts, fu"
         ],
         "marker": {
          "color": "#56B4E9"
         },
         "name": "36_martial_kung fu_china_martial arts",
         "orientation": "h",
         "type": "bar",
         "visible": "legendonly",
         "x": {
          "bdata": "l/0oskvp4D93pvYAvvbZP4cty2t3WLg/tvke4LRytj/6uCkbBlO7P/lrx9jHH9M/GDVprQkG2z9Tica73UayP1V24QKGyKQ/j7xyVYqdqT8efF70+T7LPwWLtT3bCd0/",
          "dtype": "f8"
         },
         "y": [
          "Action",
          "Adventure",
          "Comedy",
          "Crime",
          "Drama",
          "Fantasy",
          "History",
          "Mystery",
          "Romance",
          "Thriller",
          "War",
          "Western"
         ]
        },
        {
         "hoverinfo": "text",
         "hovertext": [
          "<b>Topic 37</b><br>Words: queen, elizabeth, mary, king, england",
          "<b>Topic 37</b><br>Words: queen, elizabeth, mary, king, england",
          "<b>Topic 37</b><br>Words: queen, elizabeth, mary, king, england",
          "<b>Topic 37</b><br>Words: queen, elizabeth, mary, king, england",
          "<b>Topic 37</b><br>Words: queen, elizabeth, mary, king, england",
          "<b>Topic 37</b><br>Words: queen, elizabeth, mary, king, england",
          "<b>Topic 37</b><br>Words: queen, elizabeth, mary, king, england",
          "<b>Topic 37</b><br>Words: queen, elizabeth, mary, king, england",
          "<b>Topic 37</b><br>Words: queen, elizabeth, mary, king, england"
         ],
         "marker": {
          "color": "#009E73"
         },
         "name": "37_queen_elizabeth_mary_king",
         "orientation": "h",
         "type": "bar",
         "visible": "legendonly",
         "x": {
          "bdata": "VAzCcuVemT9ucmVGkNehP2dgGa+WdMU/DhlujO+voj/9gIOZ00HuP4IpCmHUUsM//4iMifhSpj9dvLkWD4/MP3hlI1SqSY8/",
          "dtype": "f8"
         },
         "y": [
          "Adventure",
          "Comedy",
          "Drama",
          "Fantasy",
          "History",
          "Music",
          "Mystery",
          "Romance",
          "Thriller"
         ]
        },
        {
         "hoverinfo": "text",
         "hovertext": [
          "<b>Topic 38</b><br>Words: driver, car, gets, irene, delivery",
          "<b>Topic 38</b><br>Words: driver, car, gets, irene, delivery",
          "<b>Topic 38</b><br>Words: driver, car, gets, irene, delivery",
          "<b>Topic 38</b><br>Words: driver, car, gets, irene, delivery",
          "<b>Topic 38</b><br>Words: driver, car, gets, irene, delivery",
          "<b>Topic 38</b><br>Words: driver, car, gets, irene, delivery",
          "<b>Topic 38</b><br>Words: driver, car, gets, irene, delivery"
         ],
         "marker": {
          "color": "#F0E442"
         },
         "name": "38_driver_car_gets_irene",
         "orientation": "h",
         "type": "bar",
         "visible": "legendonly",
         "x": {
          "bdata": "6sAFBJzM2j/c7/62XO66P/G5nCOnQMk/DfxO9Z536T8i+RC6lT7EPwipJYlr8ro/1R5tb+/B1D8=",
          "dtype": "f8"
         },
         "y": [
          "Action",
          "Adventure",
          "Comedy",
          "Crime",
          "Drama",
          "Romance",
          "Thriller"
         ]
        },
        {
         "hoverinfo": "text",
         "hovertext": [
          "<b>Topic 39</b><br>Words: husband, affair, married woman, married, wife",
          "<b>Topic 39</b><br>Words: husband, affair, married woman, married, wife",
          "<b>Topic 39</b><br>Words: husband, affair, married woman, married, wife",
          "<b>Topic 39</b><br>Words: husband, affair, married woman, married, wife",
          "<b>Topic 39</b><br>Words: husband, affair, married woman, married, wife",
          "<b>Topic 39</b><br>Words: husband, affair, married woman, married, wife",
          "<b>Topic 39</b><br>Words: husband, affair, married woman, married, wife",
          "<b>Topic 39</b><br>Words: husband, affair, married woman, married, wife"
         ],
         "marker": {
          "color": "#D55E00"
         },
         "name": "39_husband_affair_married woman_married",
         "orientation": "h",
         "type": "bar",
         "visible": "legendonly",
         "x": {
          "bdata": "6dFlMZf7wz9Hn8lW4WziP7LWGnYRBdA/rNJVIYIduT+KnRzgRaazP/Z7jo+ZgNY/huQlRvQw4z8riGnom2XSPw==",
          "dtype": "f8"
         },
         "y": [
          "Comedy",
          "Crime",
          "Drama",
          "Fantasy",
          "Horror",
          "Mystery",
          "Romance",
          "Thriller"
         ]
        },
        {
         "hoverinfo": "text",
         "hovertext": [
          "<b>Topic 40</b><br>Words: locke, deeds, low, powder, helpless",
          "<b>Topic 40</b><br>Words: locke, deeds, low, powder, helpless",
          "<b>Topic 40</b><br>Words: locke, deeds, low, powder, helpless",
          "<b>Topic 40</b><br>Words: locke, deeds, low, powder, helpless",
          "<b>Topic 40</b><br>Words: locke, deeds, low, powder, helpless",
          "<b>Topic 40</b><br>Words: locke, deeds, low, powder, helpless",
          "<b>Topic 40</b><br>Words: locke, deeds, low, powder, helpless",
          "<b>Topic 40</b><br>Words: locke, deeds, low, powder, helpless",
          "<b>Topic 40</b><br>Words: locke, deeds, low, powder, helpless",
          "<b>Topic 40</b><br>Words: locke, deeds, low, powder, helpless",
          "<b>Topic 40</b><br>Words: locke, deeds, low, powder, helpless",
          "<b>Topic 40</b><br>Words: locke, deeds, low, powder, helpless"
         ],
         "marker": {
          "color": "#0072B2"
         },
         "name": "40_locke_deeds_low_powder",
         "orientation": "h",
         "type": "bar",
         "visible": "legendonly",
         "x": {
          "bdata": "swiwaWM/tz+soN6KS9PCPyRoCPuYstU/PZ70F5ie0z+O8ytOHKm3P1LZ2IWO3Ms/+YW0RuuC0j+LlWM0W3foPx8UjlftQ7w/HzSCFiESsD84NMyz1xu2P+VFo6j9tb0/",
          "dtype": "f8"
         },
         "y": [
          "Action",
          "Comedy",
          "Crime",
          "Drama",
          "Fantasy",
          "History",
          "Horror",
          "Music",
          "Mystery",
          "Romance",
          "Science Fiction",
          "Thriller"
         ]
        },
        {
         "hoverinfo": "text",
         "hovertext": [
          "<b>Topic 41</b><br>Words: year old girl, old girl, year old, girl, teenager",
          "<b>Topic 41</b><br>Words: year old girl, old girl, year old, girl, teenager",
          "<b>Topic 41</b><br>Words: year old girl, old girl, year old, girl, teenager",
          "<b>Topic 41</b><br>Words: year old girl, old girl, year old, girl, teenager",
          "<b>Topic 41</b><br>Words: year old girl, old girl, year old, girl, teenager",
          "<b>Topic 41</b><br>Words: year old girl, old girl, year old, girl, teenager",
          "<b>Topic 41</b><br>Words: year old girl, old girl, year old, girl, teenager",
          "<b>Topic 41</b><br>Words: year old girl, old girl, year old, girl, teenager",
          "<b>Topic 41</b><br>Words: year old girl, old girl, year old, girl, teenager"
         ],
         "marker": {
          "color": "#CC79A7"
         },
         "name": "41_year old girl_old girl_year old_girl",
         "orientation": "h",
         "type": "bar",
         "visible": "legendonly",
         "x": {
          "bdata": "yN8fkf26pD/TNr7e+CS0P5DHTbspWdM/s7ciY8N+0T+fWYeDcTTJP6jifgX/ftU/6DrgLQO3sz+lz8EQVZPpPx+gUhAIFMY/",
          "dtype": "f8"
         },
         "y": [
          "Action",
          "Comedy",
          "Crime",
          "Drama",
          "Mystery",
          "Romance",
          "Science Fiction",
          "TV Movie",
          "Thriller"
         ]
        },
        {
         "hoverinfo": "text",
         "hovertext": [
          "<b>Topic 42</b><br>Words: platoon, dodge, navy, submarine, nuclear",
          "<b>Topic 42</b><br>Words: platoon, dodge, navy, submarine, nuclear",
          "<b>Topic 42</b><br>Words: platoon, dodge, navy, submarine, nuclear",
          "<b>Topic 42</b><br>Words: platoon, dodge, navy, submarine, nuclear",
          "<b>Topic 42</b><br>Words: platoon, dodge, navy, submarine, nuclear",
          "<b>Topic 42</b><br>Words: platoon, dodge, navy, submarine, nuclear",
          "<b>Topic 42</b><br>Words: platoon, dodge, navy, submarine, nuclear",
          "<b>Topic 42</b><br>Words: platoon, dodge, navy, submarine, nuclear"
         ],
         "marker": {
          "color": "#E69F00"
         },
         "name": "42_platoon_dodge_navy_submarine",
         "orientation": "h",
         "type": "bar",
         "visible": "legendonly",
         "x": {
          "bdata": "qLjd/6QDuz9gBncfrv6vP7QDAsYdAKQ/67HDRbIIsD9KSI5t3fmfP+tKkdiqV5U/UswwD/dNuj8oD9j39XnvPw==",
          "dtype": "f8"
         },
         "y": [
          "Action",
          "Adventure",
          "Comedy",
          "Drama",
          "Family",
          "Romance",
          "Thriller",
          "War"
         ]
        },
        {
         "hoverinfo": "text",
         "hovertext": [
          "<b>Topic 43</b><br>Words: presidential, election, president, senator, scandal",
          "<b>Topic 43</b><br>Words: presidential, election, president, senator, scandal",
          "<b>Topic 43</b><br>Words: presidential, election, president, senator, scandal",
          "<b>Topic 43</b><br>Words: presidential, election, president, senator, scandal",
          "<b>Topic 43</b><br>Words: presidential, election, president, senator, scandal",
          "<b>Topic 43</b><br>Words: presidential, election, president, senator, scandal",
          "<b>Topic 43</b><br>Words: presidential, election, president, senator, scandal",
          "<b>Topic 43</b><br>Words: presidential, election, president, senator, scandal"
         ],
         "marker": {
          "color": "#56B4E9"
         },
         "name": "43_presidential_election_president_senat...",
         "orientation": "h",
         "type": "bar",
         "visible": "legendonly",
         "x": {
          "bdata": "sRWJ9nw1qT/j1b2eS1/CP1MHbb6T0rI/C2E5oVVGxT9R15b8hG/qP1v90z5mpr4/uWaiockZ3z+/2aL4Edm6Pw==",
          "dtype": "f8"
         },
         "y": [
          "Action",
          "Comedy",
          "Crime",
          "Drama",
          "History",
          "Mystery",
          "TV Movie",
          "Thriller"
         ]
        },
        {
         "hoverinfo": "text",
         "hovertext": [
          "<b>Topic 44</b><br>Words: hotel, rich, cal, mouth, naples",
          "<b>Topic 44</b><br>Words: hotel, rich, cal, mouth, naples",
          "<b>Topic 44</b><br>Words: hotel, rich, cal, mouth, naples",
          "<b>Topic 44</b><br>Words: hotel, rich, cal, mouth, naples",
          "<b>Topic 44</b><br>Words: hotel, rich, cal, mouth, naples",
          "<b>Topic 44</b><br>Words: hotel, rich, cal, mouth, naples",
          "<b>Topic 44</b><br>Words: hotel, rich, cal, mouth, naples",
          "<b>Topic 44</b><br>Words: hotel, rich, cal, mouth, naples",
          "<b>Topic 44</b><br>Words: hotel, rich, cal, mouth, naples"
         ],
         "marker": {
          "color": "#009E73"
         },
         "name": "44_hotel_rich_cal_mouth",
         "orientation": "h",
         "type": "bar",
         "visible": "legendonly",
         "x": {
          "bdata": "uny8vEiAyT8t44m6TWbWPyMN/vdigc0/eJLfMEGn2T/U/PIcPXfPP6FxQxA+y+Q/Cblz0+l81D9FnxGLUMrCP5RmPjyR1cA/",
          "dtype": "f8"
         },
         "y": [
          "Animation",
          "Comedy",
          "Crime",
          "Drama",
          "Horror",
          "Music",
          "Romance",
          "Science Fiction",
          "Thriller"
         ]
        },
        {
         "hoverinfo": "text",
         "hovertext": [
          "<b>Topic 45</b><br>Words: high school, high, school, friends, reunion",
          "<b>Topic 45</b><br>Words: high school, high, school, friends, reunion",
          "<b>Topic 45</b><br>Words: high school, high, school, friends, reunion",
          "<b>Topic 45</b><br>Words: high school, high, school, friends, reunion",
          "<b>Topic 45</b><br>Words: high school, high, school, friends, reunion",
          "<b>Topic 45</b><br>Words: high school, high, school, friends, reunion",
          "<b>Topic 45</b><br>Words: high school, high, school, friends, reunion"
         ],
         "marker": {
          "color": "#F0E442"
         },
         "name": "45_high school_high_school_friends",
         "orientation": "h",
         "type": "bar",
         "visible": "legendonly",
         "x": {
          "bdata": "zkRmM+0NsD+OvBKYpZTWPw0Qm8S3K74/7rzkPspAvD8TlRy1hBjIP7FBDIhjGbY/S1akkier7D8=",
          "dtype": "f8"
         },
         "y": [
          "Adventure",
          "Comedy",
          "Drama",
          "Mystery",
          "Romance",
          "Science Fiction",
          "TV Movie"
         ]
        },
        {
         "hoverinfo": "text",
         "hovertext": [
          "<b>Topic 46</b><br>Words: rath, mayor, city crime, city, reigns",
          "<b>Topic 46</b><br>Words: rath, mayor, city crime, city, reigns",
          "<b>Topic 46</b><br>Words: rath, mayor, city crime, city, reigns",
          "<b>Topic 46</b><br>Words: rath, mayor, city crime, city, reigns",
          "<b>Topic 46</b><br>Words: rath, mayor, city crime, city, reigns",
          "<b>Topic 46</b><br>Words: rath, mayor, city crime, city, reigns",
          "<b>Topic 46</b><br>Words: rath, mayor, city crime, city, reigns",
          "<b>Topic 46</b><br>Words: rath, mayor, city crime, city, reigns",
          "<b>Topic 46</b><br>Words: rath, mayor, city crime, city, reigns"
         ],
         "marker": {
          "color": "#D55E00"
         },
         "name": "46_rath_mayor_city crime_city",
         "orientation": "h",
         "type": "bar",
         "visible": "legendonly",
         "x": {
          "bdata": "lg4hAD3B2T/qmoz71IDOPx7PYoKk/sI/wYjw02oRwz/AIgoLebnoP9w6dhOskr4/+n51wT18vj9lSIi681jEP8B7gIIFz9I/",
          "dtype": "f8"
         },
         "y": [
          "Action",
          "Adventure",
          "Animation",
          "Comedy",
          "Crime",
          "Drama",
          "Family",
          "Romance",
          "Thriller"
         ]
        },
        {
         "hoverinfo": "text",
         "hovertext": [
          "<b>Topic 47</b><br>Words: student, college, graduate, high school, college graduate",
          "<b>Topic 47</b><br>Words: student, college, graduate, high school, college graduate",
          "<b>Topic 47</b><br>Words: student, college, graduate, high school, college graduate",
          "<b>Topic 47</b><br>Words: student, college, graduate, high school, college graduate",
          "<b>Topic 47</b><br>Words: student, college, graduate, high school, college graduate",
          "<b>Topic 47</b><br>Words: student, college, graduate, high school, college graduate",
          "<b>Topic 47</b><br>Words: student, college, graduate, high school, college graduate",
          "<b>Topic 47</b><br>Words: student, college, graduate, high school, college graduate",
          "<b>Topic 47</b><br>Words: student, college, graduate, high school, college graduate",
          "<b>Topic 47</b><br>Words: student, college, graduate, high school, college graduate"
         ],
         "marker": {
          "color": "#0072B2"
         },
         "name": "47_student_college_graduate_high school",
         "orientation": "h",
         "type": "bar",
         "visible": "legendonly",
         "x": {
          "bdata": "Bps7siE0sz9WHmHq74jKPx8wzxRbxdU/lVTWdIPrzT9rl3QvtePDP8SkyJd2i8M/WEFn3iWVzj9zQqreOFnXP/TbtIVRO+c/CeoRvJtcwD8=",
          "dtype": "f8"
         },
         "y": [
          "Action",
          "Adventure",
          "Comedy",
          "Drama",
          "Family",
          "Fantasy",
          "Horror",
          "Mystery",
          "Romance",
          "Thriller"
         ]
        },
        {
         "hoverinfo": "text",
         "hovertext": [
          "<b>Topic 48</b><br>Words: hit, mike, hitman, melvin, jeffrey",
          "<b>Topic 48</b><br>Words: hit, mike, hitman, melvin, jeffrey",
          "<b>Topic 48</b><br>Words: hit, mike, hitman, melvin, jeffrey",
          "<b>Topic 48</b><br>Words: hit, mike, hitman, melvin, jeffrey",
          "<b>Topic 48</b><br>Words: hit, mike, hitman, melvin, jeffrey",
          "<b>Topic 48</b><br>Words: hit, mike, hitman, melvin, jeffrey"
         ],
         "marker": {
          "color": "#CC79A7"
         },
         "name": "48_hit_mike_hitman_melvin",
         "orientation": "h",
         "type": "bar",
         "visible": "legendonly",
         "x": {
          "bdata": "tN9K3Kpn2z+O0BH0baO1P3uoG2S2XMk/gvEtPKti5z8kU5dREETAP1dZb8NHBd4/",
          "dtype": "f8"
         },
         "y": [
          "Action",
          "Adventure",
          "Comedy",
          "Crime",
          "Drama",
          "Thriller"
         ]
        },
        {
         "hoverinfo": "text",
         "hovertext": [
          "<b>Topic 49</b><br>Words: 1950s, african american, african, connecticut, struggles",
          "<b>Topic 49</b><br>Words: 1950s, african american, african, connecticut, struggles",
          "<b>Topic 49</b><br>Words: 1950s, african american, african, connecticut, struggles",
          "<b>Topic 49</b><br>Words: 1950s, african american, african, connecticut, struggles"
         ],
         "marker": {
          "color": "#E69F00"
         },
         "name": "49_1950s_african american_african_connec...",
         "orientation": "h",
         "type": "bar",
         "visible": "legendonly",
         "x": {
          "bdata": "DRRW98n20D+UVuh9Y43DP8khfeFKZuQ/OWoWc7qg5j8=",
          "dtype": "f8"
         },
         "y": [
          "Comedy",
          "Crime",
          "Drama",
          "Romance"
         ]
        },
        {
         "hoverinfo": "text",
         "hovertext": [
          "<b>Topic 50</b><br>Words: court, supreme court, supreme, murder, case",
          "<b>Topic 50</b><br>Words: court, supreme court, supreme, murder, case",
          "<b>Topic 50</b><br>Words: court, supreme court, supreme, murder, case",
          "<b>Topic 50</b><br>Words: court, supreme court, supreme, murder, case",
          "<b>Topic 50</b><br>Words: court, supreme court, supreme, murder, case",
          "<b>Topic 50</b><br>Words: court, supreme court, supreme, murder, case",
          "<b>Topic 50</b><br>Words: court, supreme court, supreme, murder, case"
         ],
         "marker": {
          "color": "#56B4E9"
         },
         "name": "50_court_supreme court_supreme_murder",
         "orientation": "h",
         "type": "bar",
         "visible": "legendonly",
         "x": {
          "bdata": "Pbr2Qww0oz9b8uX6o6rbP4t3/XG8UdE/EjlEJVjD4T/mObhzPwXiP+adnwXofcQ/RM6qXC7x0j8=",
          "dtype": "f8"
         },
         "y": [
          "Comedy",
          "Crime",
          "Drama",
          "History",
          "Mystery",
          "Romance",
          "Thriller"
         ]
        },
        {
         "hoverinfo": "text",
         "hovertext": [
          "<b>Topic 51</b><br>Words: south african, young man, charged, horrific, gangster",
          "<b>Topic 51</b><br>Words: south african, young man, charged, horrific, gangster",
          "<b>Topic 51</b><br>Words: south african, young man, charged, horrific, gangster",
          "<b>Topic 51</b><br>Words: south african, young man, charged, horrific, gangster",
          "<b>Topic 51</b><br>Words: south african, young man, charged, horrific, gangster",
          "<b>Topic 51</b><br>Words: south african, young man, charged, horrific, gangster",
          "<b>Topic 51</b><br>Words: south african, young man, charged, horrific, gangster",
          "<b>Topic 51</b><br>Words: south african, young man, charged, horrific, gangster",
          "<b>Topic 51</b><br>Words: south african, young man, charged, horrific, gangster",
          "<b>Topic 51</b><br>Words: south african, young man, charged, horrific, gangster",
          "<b>Topic 51</b><br>Words: south african, young man, charged, horrific, gangster",
          "<b>Topic 51</b><br>Words: south african, young man, charged, horrific, gangster",
          "<b>Topic 51</b><br>Words: south african, young man, charged, horrific, gangster"
         ],
         "marker": {
          "color": "#009E73"
         },
         "name": "51_south african_young man_charged_horri...",
         "orientation": "h",
         "type": "bar",
         "visible": "legendonly",
         "x": {
          "bdata": "SlT1kzZJtj8Pt27K6t+sPxQFfEveo7A/FtNj27IKyj+68vSG+BS3Pwy/F/OPrrY/7gJA+4W1yj8SeN9mWJ7KP0CMHy+eGLs/EADy9ObPvj9dPHgfujHFP8fGo4Kgfus/KdUizF97zD8=",
          "dtype": "f8"
         },
         "y": [
          "Action",
          "Comedy",
          "Crime",
          "Drama",
          "Family",
          "Fantasy",
          "History",
          "Horror",
          "Mystery",
          "Romance",
          "Science Fiction",
          "TV Movie",
          "Thriller"
         ]
        },
        {
         "hoverinfo": "text",
         "hovertext": [
          "<b>Topic 52</b><br>Words: witches, witch, wendy, marnie, casper",
          "<b>Topic 52</b><br>Words: witches, witch, wendy, marnie, casper",
          "<b>Topic 52</b><br>Words: witches, witch, wendy, marnie, casper",
          "<b>Topic 52</b><br>Words: witches, witch, wendy, marnie, casper",
          "<b>Topic 52</b><br>Words: witches, witch, wendy, marnie, casper",
          "<b>Topic 52</b><br>Words: witches, witch, wendy, marnie, casper",
          "<b>Topic 52</b><br>Words: witches, witch, wendy, marnie, casper",
          "<b>Topic 52</b><br>Words: witches, witch, wendy, marnie, casper",
          "<b>Topic 52</b><br>Words: witches, witch, wendy, marnie, casper",
          "<b>Topic 52</b><br>Words: witches, witch, wendy, marnie, casper",
          "<b>Topic 52</b><br>Words: witches, witch, wendy, marnie, casper"
         ],
         "marker": {
          "color": "#F0E442"
         },
         "name": "52_witches_witch_wendy_marnie",
         "orientation": "h",
         "type": "bar",
         "visible": "legendonly",
         "x": {
          "bdata": "zdIAwh1roj/0U19CdPewP5eHFvoa3ac/YKbjp4whkz9ktSXbWW/JP1Ua2sFQHsw/GmUB0wOOsz8dOdOGwtudP6EDKADYWpc/xszOCCtM7j97t59CdOyUPw==",
          "dtype": "f8"
         },
         "y": [
          "Action",
          "Adventure",
          "Comedy",
          "Drama",
          "Family",
          "Fantasy",
          "Horror",
          "Mystery",
          "Science Fiction",
          "TV Movie",
          "Thriller"
         ]
        },
        {
         "hoverinfo": "text",
         "hovertext": [
          "<b>Topic 53</b><br>Words: birthday party, fagin, birthday, greg, max",
          "<b>Topic 53</b><br>Words: birthday party, fagin, birthday, greg, max",
          "<b>Topic 53</b><br>Words: birthday party, fagin, birthday, greg, max",
          "<b>Topic 53</b><br>Words: birthday party, fagin, birthday, greg, max",
          "<b>Topic 53</b><br>Words: birthday party, fagin, birthday, greg, max",
          "<b>Topic 53</b><br>Words: birthday party, fagin, birthday, greg, max",
          "<b>Topic 53</b><br>Words: birthday party, fagin, birthday, greg, max",
          "<b>Topic 53</b><br>Words: birthday party, fagin, birthday, greg, max",
          "<b>Topic 53</b><br>Words: birthday party, fagin, birthday, greg, max",
          "<b>Topic 53</b><br>Words: birthday party, fagin, birthday, greg, max"
         ],
         "marker": {
          "color": "#D55E00"
         },
         "name": "53_birthday party_fagin_birthday_greg",
         "orientation": "h",
         "type": "bar",
         "visible": "legendonly",
         "x": {
          "bdata": "ZhRq8vqMsD+Jj0GBgt7GP+a1zIZ/XNU/kMG2RNAf2D9dPgYdMLe4P7FfCZRztuk/IrvNEpJbuj8GVgfYex/EP45U5KT04bY/gT3UzewzvD8=",
          "dtype": "f8"
         },
         "y": [
          "Action",
          "Adventure",
          "Animation",
          "Comedy",
          "Crime",
          "Family",
          "Horror",
          "Mystery",
          "Romance",
          "Thriller"
         ]
        },
        {
         "hoverinfo": "text",
         "hovertext": [
          "<b>Topic 54</b><br>Words: claudio, juliette, helena, jean, pastry",
          "<b>Topic 54</b><br>Words: claudio, juliette, helena, jean, pastry",
          "<b>Topic 54</b><br>Words: claudio, juliette, helena, jean, pastry",
          "<b>Topic 54</b><br>Words: claudio, juliette, helena, jean, pastry",
          "<b>Topic 54</b><br>Words: claudio, juliette, helena, jean, pastry",
          "<b>Topic 54</b><br>Words: claudio, juliette, helena, jean, pastry"
         ],
         "marker": {
          "color": "#0072B2"
         },
         "name": "54_claudio_juliette_helena_jean",
         "orientation": "h",
         "type": "bar",
         "visible": "legendonly",
         "x": {
          "bdata": "SN59hSnFtD8WwA6uttHQPwAS9S+H4NI/u/4+K54jxT9CiukyZLfsP+naf6dKsrE/",
          "dtype": "f8"
         },
         "y": [
          "Action",
          "Comedy",
          "Drama",
          "Fantasy",
          "Romance",
          "Thriller"
         ]
        },
        {
         "hoverinfo": "text",
         "hovertext": [
          "<b>Topic 55</b><br>Words: megan, friend, annika, old, year old",
          "<b>Topic 55</b><br>Words: megan, friend, annika, old, year old",
          "<b>Topic 55</b><br>Words: megan, friend, annika, old, year old",
          "<b>Topic 55</b><br>Words: megan, friend, annika, old, year old",
          "<b>Topic 55</b><br>Words: megan, friend, annika, old, year old"
         ],
         "marker": {
          "color": "#CC79A7"
         },
         "name": "55_megan_friend_annika_old",
         "orientation": "h",
         "type": "bar",
         "visible": "legendonly",
         "x": {
          "bdata": "E9bq39vS1z9dfE+mAKbcP8ujxVyehcM/k+zU9xRs6T+UywlUeOO0Pw==",
          "dtype": "f8"
         },
         "y": [
          "Comedy",
          "Drama",
          "Horror",
          "Romance",
          "Thriller"
         ]
        },
        {
         "hoverinfo": "text",
         "hovertext": [
          "<b>Topic 56</b><br>Words: monster, frankenstein, dracula, samurai, frankenstein monster",
          "<b>Topic 56</b><br>Words: monster, frankenstein, dracula, samurai, frankenstein monster",
          "<b>Topic 56</b><br>Words: monster, frankenstein, dracula, samurai, frankenstein monster",
          "<b>Topic 56</b><br>Words: monster, frankenstein, dracula, samurai, frankenstein monster",
          "<b>Topic 56</b><br>Words: monster, frankenstein, dracula, samurai, frankenstein monster",
          "<b>Topic 56</b><br>Words: monster, frankenstein, dracula, samurai, frankenstein monster",
          "<b>Topic 56</b><br>Words: monster, frankenstein, dracula, samurai, frankenstein monster",
          "<b>Topic 56</b><br>Words: monster, frankenstein, dracula, samurai, frankenstein monster",
          "<b>Topic 56</b><br>Words: monster, frankenstein, dracula, samurai, frankenstein monster",
          "<b>Topic 56</b><br>Words: monster, frankenstein, dracula, samurai, frankenstein monster",
          "<b>Topic 56</b><br>Words: monster, frankenstein, dracula, samurai, frankenstein monster"
         ],
         "marker": {
          "color": "#E69F00"
         },
         "name": "56_monster_frankenstein_dracula_samurai",
         "orientation": "h",
         "type": "bar",
         "visible": "legendonly",
         "x": {
          "bdata": "9UFoXZaEzj/OsVgwGE3JP5QIkwm2gs8/0vbJT9uhrz/LAx1m5Fu5P4liVmNJSbk/HNGadoRCzT+DOG8u8EzYP/QYIlbradE/aWrrIiTNtD/JgaMExJTnPw==",
          "dtype": "f8"
         },
         "y": [
          "Action",
          "Adventure",
          "Animation",
          "Comedy",
          "Drama",
          "Family",
          "History",
          "Horror",
          "Science Fiction",
          "Thriller",
          "Western"
         ]
        },
        {
         "hoverinfo": "text",
         "hovertext": [
          "<b>Topic 57</b><br>Words: carla, woman, traumatic, patient, mental",
          "<b>Topic 57</b><br>Words: carla, woman, traumatic, patient, mental",
          "<b>Topic 57</b><br>Words: carla, woman, traumatic, patient, mental",
          "<b>Topic 57</b><br>Words: carla, woman, traumatic, patient, mental",
          "<b>Topic 57</b><br>Words: carla, woman, traumatic, patient, mental",
          "<b>Topic 57</b><br>Words: carla, woman, traumatic, patient, mental",
          "<b>Topic 57</b><br>Words: carla, woman, traumatic, patient, mental",
          "<b>Topic 57</b><br>Words: carla, woman, traumatic, patient, mental",
          "<b>Topic 57</b><br>Words: carla, woman, traumatic, patient, mental"
         ],
         "marker": {
          "color": "#56B4E9"
         },
         "name": "57_carla_woman_traumatic_patient",
         "orientation": "h",
         "type": "bar",
         "visible": "legendonly",
         "x": {
          "bdata": "Nm2yT8rcyT+bGrRpWva5P6FDAhtA0MQ/gnbVheZkxD/UI2bEYenfP/xohnW7ReI/fBuu50+0uz/QQqovt5XcP2akPuxKV9U/",
          "dtype": "f8"
         },
         "y": [
          "Animation",
          "Comedy",
          "Drama",
          "Fantasy",
          "Horror",
          "Mystery",
          "Romance",
          "Science Fiction",
          "Thriller"
         ]
        },
        {
         "hoverinfo": "text",
         "hovertext": [
          "<b>Topic 58</b><br>Words: drug, undercover, dealer, marcus, drug dealer",
          "<b>Topic 58</b><br>Words: drug, undercover, dealer, marcus, drug dealer",
          "<b>Topic 58</b><br>Words: drug, undercover, dealer, marcus, drug dealer",
          "<b>Topic 58</b><br>Words: drug, undercover, dealer, marcus, drug dealer",
          "<b>Topic 58</b><br>Words: drug, undercover, dealer, marcus, drug dealer",
          "<b>Topic 58</b><br>Words: drug, undercover, dealer, marcus, drug dealer",
          "<b>Topic 58</b><br>Words: drug, undercover, dealer, marcus, drug dealer"
         ],
         "marker": {
          "color": "#009E73"
         },
         "name": "58_drug_undercover_dealer_marcus",
         "orientation": "h",
         "type": "bar",
         "visible": "legendonly",
         "x": {
          "bdata": "3VUiY1PW4T/ibtO9hei1P3ZMYUtv0M4/de8JF1et5z9zMGezALS4P/3+9gYJR8M/DC+GP5EEyz8=",
          "dtype": "f8"
         },
         "y": [
          "Action",
          "Adventure",
          "Comedy",
          "Crime",
          "Drama",
          "Mystery",
          "Thriller"
         ]
        }
       ],
       "layout": {
        "height": 600,
        "hoverlabel": {
         "bgcolor": "white",
         "font": {
          "family": "Rockwell",
          "size": 16
         }
        },
        "legend": {
         "title": {
          "text": "<b>Global Topic Representation"
         }
        },
        "template": {
         "data": {
          "bar": [
           {
            "error_x": {
             "color": "rgb(36,36,36)"
            },
            "error_y": {
             "color": "rgb(36,36,36)"
            },
            "marker": {
             "line": {
              "color": "white",
              "width": 0.5
             },
             "pattern": {
              "fillmode": "overlay",
              "size": 10,
              "solidity": 0.2
             }
            },
            "type": "bar"
           }
          ],
          "barpolar": [
           {
            "marker": {
             "line": {
              "color": "white",
              "width": 0.5
             },
             "pattern": {
              "fillmode": "overlay",
              "size": 10,
              "solidity": 0.2
             }
            },
            "type": "barpolar"
           }
          ],
          "carpet": [
           {
            "aaxis": {
             "endlinecolor": "rgb(36,36,36)",
             "gridcolor": "white",
             "linecolor": "white",
             "minorgridcolor": "white",
             "startlinecolor": "rgb(36,36,36)"
            },
            "baxis": {
             "endlinecolor": "rgb(36,36,36)",
             "gridcolor": "white",
             "linecolor": "white",
             "minorgridcolor": "white",
             "startlinecolor": "rgb(36,36,36)"
            },
            "type": "carpet"
           }
          ],
          "choropleth": [
           {
            "colorbar": {
             "outlinewidth": 1,
             "tickcolor": "rgb(36,36,36)",
             "ticks": "outside"
            },
            "type": "choropleth"
           }
          ],
          "contour": [
           {
            "colorbar": {
             "outlinewidth": 1,
             "tickcolor": "rgb(36,36,36)",
             "ticks": "outside"
            },
            "colorscale": [
             [
              0,
              "#440154"
             ],
             [
              0.1111111111111111,
              "#482878"
             ],
             [
              0.2222222222222222,
              "#3e4989"
             ],
             [
              0.3333333333333333,
              "#31688e"
             ],
             [
              0.4444444444444444,
              "#26828e"
             ],
             [
              0.5555555555555556,
              "#1f9e89"
             ],
             [
              0.6666666666666666,
              "#35b779"
             ],
             [
              0.7777777777777778,
              "#6ece58"
             ],
             [
              0.8888888888888888,
              "#b5de2b"
             ],
             [
              1,
              "#fde725"
             ]
            ],
            "type": "contour"
           }
          ],
          "contourcarpet": [
           {
            "colorbar": {
             "outlinewidth": 1,
             "tickcolor": "rgb(36,36,36)",
             "ticks": "outside"
            },
            "type": "contourcarpet"
           }
          ],
          "heatmap": [
           {
            "colorbar": {
             "outlinewidth": 1,
             "tickcolor": "rgb(36,36,36)",
             "ticks": "outside"
            },
            "colorscale": [
             [
              0,
              "#440154"
             ],
             [
              0.1111111111111111,
              "#482878"
             ],
             [
              0.2222222222222222,
              "#3e4989"
             ],
             [
              0.3333333333333333,
              "#31688e"
             ],
             [
              0.4444444444444444,
              "#26828e"
             ],
             [
              0.5555555555555556,
              "#1f9e89"
             ],
             [
              0.6666666666666666,
              "#35b779"
             ],
             [
              0.7777777777777778,
              "#6ece58"
             ],
             [
              0.8888888888888888,
              "#b5de2b"
             ],
             [
              1,
              "#fde725"
             ]
            ],
            "type": "heatmap"
           }
          ],
          "histogram": [
           {
            "marker": {
             "line": {
              "color": "white",
              "width": 0.6
             }
            },
            "type": "histogram"
           }
          ],
          "histogram2d": [
           {
            "colorbar": {
             "outlinewidth": 1,
             "tickcolor": "rgb(36,36,36)",
             "ticks": "outside"
            },
            "colorscale": [
             [
              0,
              "#440154"
             ],
             [
              0.1111111111111111,
              "#482878"
             ],
             [
              0.2222222222222222,
              "#3e4989"
             ],
             [
              0.3333333333333333,
              "#31688e"
             ],
             [
              0.4444444444444444,
              "#26828e"
             ],
             [
              0.5555555555555556,
              "#1f9e89"
             ],
             [
              0.6666666666666666,
              "#35b779"
             ],
             [
              0.7777777777777778,
              "#6ece58"
             ],
             [
              0.8888888888888888,
              "#b5de2b"
             ],
             [
              1,
              "#fde725"
             ]
            ],
            "type": "histogram2d"
           }
          ],
          "histogram2dcontour": [
           {
            "colorbar": {
             "outlinewidth": 1,
             "tickcolor": "rgb(36,36,36)",
             "ticks": "outside"
            },
            "colorscale": [
             [
              0,
              "#440154"
             ],
             [
              0.1111111111111111,
              "#482878"
             ],
             [
              0.2222222222222222,
              "#3e4989"
             ],
             [
              0.3333333333333333,
              "#31688e"
             ],
             [
              0.4444444444444444,
              "#26828e"
             ],
             [
              0.5555555555555556,
              "#1f9e89"
             ],
             [
              0.6666666666666666,
              "#35b779"
             ],
             [
              0.7777777777777778,
              "#6ece58"
             ],
             [
              0.8888888888888888,
              "#b5de2b"
             ],
             [
              1,
              "#fde725"
             ]
            ],
            "type": "histogram2dcontour"
           }
          ],
          "mesh3d": [
           {
            "colorbar": {
             "outlinewidth": 1,
             "tickcolor": "rgb(36,36,36)",
             "ticks": "outside"
            },
            "type": "mesh3d"
           }
          ],
          "parcoords": [
           {
            "line": {
             "colorbar": {
              "outlinewidth": 1,
              "tickcolor": "rgb(36,36,36)",
              "ticks": "outside"
             }
            },
            "type": "parcoords"
           }
          ],
          "pie": [
           {
            "automargin": true,
            "type": "pie"
           }
          ],
          "scatter": [
           {
            "fillpattern": {
             "fillmode": "overlay",
             "size": 10,
             "solidity": 0.2
            },
            "type": "scatter"
           }
          ],
          "scatter3d": [
           {
            "line": {
             "colorbar": {
              "outlinewidth": 1,
              "tickcolor": "rgb(36,36,36)",
              "ticks": "outside"
             }
            },
            "marker": {
             "colorbar": {
              "outlinewidth": 1,
              "tickcolor": "rgb(36,36,36)",
              "ticks": "outside"
             }
            },
            "type": "scatter3d"
           }
          ],
          "scattercarpet": [
           {
            "marker": {
             "colorbar": {
              "outlinewidth": 1,
              "tickcolor": "rgb(36,36,36)",
              "ticks": "outside"
             }
            },
            "type": "scattercarpet"
           }
          ],
          "scattergeo": [
           {
            "marker": {
             "colorbar": {
              "outlinewidth": 1,
              "tickcolor": "rgb(36,36,36)",
              "ticks": "outside"
             }
            },
            "type": "scattergeo"
           }
          ],
          "scattergl": [
           {
            "marker": {
             "colorbar": {
              "outlinewidth": 1,
              "tickcolor": "rgb(36,36,36)",
              "ticks": "outside"
             }
            },
            "type": "scattergl"
           }
          ],
          "scattermap": [
           {
            "marker": {
             "colorbar": {
              "outlinewidth": 1,
              "tickcolor": "rgb(36,36,36)",
              "ticks": "outside"
             }
            },
            "type": "scattermap"
           }
          ],
          "scattermapbox": [
           {
            "marker": {
             "colorbar": {
              "outlinewidth": 1,
              "tickcolor": "rgb(36,36,36)",
              "ticks": "outside"
             }
            },
            "type": "scattermapbox"
           }
          ],
          "scatterpolar": [
           {
            "marker": {
             "colorbar": {
              "outlinewidth": 1,
              "tickcolor": "rgb(36,36,36)",
              "ticks": "outside"
             }
            },
            "type": "scatterpolar"
           }
          ],
          "scatterpolargl": [
           {
            "marker": {
             "colorbar": {
              "outlinewidth": 1,
              "tickcolor": "rgb(36,36,36)",
              "ticks": "outside"
             }
            },
            "type": "scatterpolargl"
           }
          ],
          "scatterternary": [
           {
            "marker": {
             "colorbar": {
              "outlinewidth": 1,
              "tickcolor": "rgb(36,36,36)",
              "ticks": "outside"
             }
            },
            "type": "scatterternary"
           }
          ],
          "surface": [
           {
            "colorbar": {
             "outlinewidth": 1,
             "tickcolor": "rgb(36,36,36)",
             "ticks": "outside"
            },
            "colorscale": [
             [
              0,
              "#440154"
             ],
             [
              0.1111111111111111,
              "#482878"
             ],
             [
              0.2222222222222222,
              "#3e4989"
             ],
             [
              0.3333333333333333,
              "#31688e"
             ],
             [
              0.4444444444444444,
              "#26828e"
             ],
             [
              0.5555555555555556,
              "#1f9e89"
             ],
             [
              0.6666666666666666,
              "#35b779"
             ],
             [
              0.7777777777777778,
              "#6ece58"
             ],
             [
              0.8888888888888888,
              "#b5de2b"
             ],
             [
              1,
              "#fde725"
             ]
            ],
            "type": "surface"
           }
          ],
          "table": [
           {
            "cells": {
             "fill": {
              "color": "rgb(237,237,237)"
             },
             "line": {
              "color": "white"
             }
            },
            "header": {
             "fill": {
              "color": "rgb(217,217,217)"
             },
             "line": {
              "color": "white"
             }
            },
            "type": "table"
           }
          ]
         },
         "layout": {
          "annotationdefaults": {
           "arrowhead": 0,
           "arrowwidth": 1
          },
          "autotypenumbers": "strict",
          "coloraxis": {
           "colorbar": {
            "outlinewidth": 1,
            "tickcolor": "rgb(36,36,36)",
            "ticks": "outside"
           }
          },
          "colorscale": {
           "diverging": [
            [
             0,
             "rgb(103,0,31)"
            ],
            [
             0.1,
             "rgb(178,24,43)"
            ],
            [
             0.2,
             "rgb(214,96,77)"
            ],
            [
             0.3,
             "rgb(244,165,130)"
            ],
            [
             0.4,
             "rgb(253,219,199)"
            ],
            [
             0.5,
             "rgb(247,247,247)"
            ],
            [
             0.6,
             "rgb(209,229,240)"
            ],
            [
             0.7,
             "rgb(146,197,222)"
            ],
            [
             0.8,
             "rgb(67,147,195)"
            ],
            [
             0.9,
             "rgb(33,102,172)"
            ],
            [
             1,
             "rgb(5,48,97)"
            ]
           ],
           "sequential": [
            [
             0,
             "#440154"
            ],
            [
             0.1111111111111111,
             "#482878"
            ],
            [
             0.2222222222222222,
             "#3e4989"
            ],
            [
             0.3333333333333333,
             "#31688e"
            ],
            [
             0.4444444444444444,
             "#26828e"
            ],
            [
             0.5555555555555556,
             "#1f9e89"
            ],
            [
             0.6666666666666666,
             "#35b779"
            ],
            [
             0.7777777777777778,
             "#6ece58"
            ],
            [
             0.8888888888888888,
             "#b5de2b"
            ],
            [
             1,
             "#fde725"
            ]
           ],
           "sequentialminus": [
            [
             0,
             "#440154"
            ],
            [
             0.1111111111111111,
             "#482878"
            ],
            [
             0.2222222222222222,
             "#3e4989"
            ],
            [
             0.3333333333333333,
             "#31688e"
            ],
            [
             0.4444444444444444,
             "#26828e"
            ],
            [
             0.5555555555555556,
             "#1f9e89"
            ],
            [
             0.6666666666666666,
             "#35b779"
            ],
            [
             0.7777777777777778,
             "#6ece58"
            ],
            [
             0.8888888888888888,
             "#b5de2b"
            ],
            [
             1,
             "#fde725"
            ]
           ]
          },
          "colorway": [
           "#1F77B4",
           "#FF7F0E",
           "#2CA02C",
           "#D62728",
           "#9467BD",
           "#8C564B",
           "#E377C2",
           "#7F7F7F",
           "#BCBD22",
           "#17BECF"
          ],
          "font": {
           "color": "rgb(36,36,36)"
          },
          "geo": {
           "bgcolor": "white",
           "lakecolor": "white",
           "landcolor": "white",
           "showlakes": true,
           "showland": true,
           "subunitcolor": "white"
          },
          "hoverlabel": {
           "align": "left"
          },
          "hovermode": "closest",
          "mapbox": {
           "style": "light"
          },
          "paper_bgcolor": "white",
          "plot_bgcolor": "white",
          "polar": {
           "angularaxis": {
            "gridcolor": "rgb(232,232,232)",
            "linecolor": "rgb(36,36,36)",
            "showgrid": false,
            "showline": true,
            "ticks": "outside"
           },
           "bgcolor": "white",
           "radialaxis": {
            "gridcolor": "rgb(232,232,232)",
            "linecolor": "rgb(36,36,36)",
            "showgrid": false,
            "showline": true,
            "ticks": "outside"
           }
          },
          "scene": {
           "xaxis": {
            "backgroundcolor": "white",
            "gridcolor": "rgb(232,232,232)",
            "gridwidth": 2,
            "linecolor": "rgb(36,36,36)",
            "showbackground": true,
            "showgrid": false,
            "showline": true,
            "ticks": "outside",
            "zeroline": false,
            "zerolinecolor": "rgb(36,36,36)"
           },
           "yaxis": {
            "backgroundcolor": "white",
            "gridcolor": "rgb(232,232,232)",
            "gridwidth": 2,
            "linecolor": "rgb(36,36,36)",
            "showbackground": true,
            "showgrid": false,
            "showline": true,
            "ticks": "outside",
            "zeroline": false,
            "zerolinecolor": "rgb(36,36,36)"
           },
           "zaxis": {
            "backgroundcolor": "white",
            "gridcolor": "rgb(232,232,232)",
            "gridwidth": 2,
            "linecolor": "rgb(36,36,36)",
            "showbackground": true,
            "showgrid": false,
            "showline": true,
            "ticks": "outside",
            "zeroline": false,
            "zerolinecolor": "rgb(36,36,36)"
           }
          },
          "shapedefaults": {
           "fillcolor": "black",
           "line": {
            "width": 0
           },
           "opacity": 0.3
          },
          "ternary": {
           "aaxis": {
            "gridcolor": "rgb(232,232,232)",
            "linecolor": "rgb(36,36,36)",
            "showgrid": false,
            "showline": true,
            "ticks": "outside"
           },
           "baxis": {
            "gridcolor": "rgb(232,232,232)",
            "linecolor": "rgb(36,36,36)",
            "showgrid": false,
            "showline": true,
            "ticks": "outside"
           },
           "bgcolor": "white",
           "caxis": {
            "gridcolor": "rgb(232,232,232)",
            "linecolor": "rgb(36,36,36)",
            "showgrid": false,
            "showline": true,
            "ticks": "outside"
           }
          },
          "title": {
           "x": 0.05
          },
          "xaxis": {
           "automargin": true,
           "gridcolor": "rgb(232,232,232)",
           "linecolor": "rgb(36,36,36)",
           "showgrid": false,
           "showline": true,
           "ticks": "outside",
           "title": {
            "standoff": 15
           },
           "zeroline": false,
           "zerolinecolor": "rgb(36,36,36)"
          },
          "yaxis": {
           "automargin": true,
           "gridcolor": "rgb(232,232,232)",
           "linecolor": "rgb(36,36,36)",
           "showgrid": false,
           "showline": true,
           "ticks": "outside",
           "title": {
            "standoff": 15
           },
           "zeroline": false,
           "zerolinecolor": "rgb(36,36,36)"
          }
         }
        },
        "title": {
         "font": {
          "color": "Black",
          "size": 22
         },
         "text": "Distribuição de Tópicos por Gênero",
         "x": 0.4,
         "xanchor": "center",
         "y": 0.95,
         "yanchor": "top"
        },
        "width": 1200,
        "xaxis": {
         "showgrid": true,
         "title": {
          "text": "Normalized Frequency"
         }
        },
        "yaxis": {
         "showgrid": true,
         "title": {
          "text": "Class"
         }
        }
       }
      }
     },
     "metadata": {},
     "output_type": "display_data"
    }
   ],
   "source": [
    "from bertopic.plotting import visualize_topics_per_class\n",
    "\n",
    "\n",
    "# obtaining topic information\n",
    "topic_info = topic_model.get_topic_info()\n",
    "\n",
    "#  mapping \n",
    "topic_name_map = dict(zip(topic_info['Topic'], topic_info['Name']))\n",
    "\n",
    "# extracting words for each topic\n",
    "def get_topic_words(topic):\n",
    "    try:\n",
    "        topic_words = topic_model.get_topic(topic)\n",
    "        if isinstance(topic_words[0], tuple):\n",
    "            return [word for word, _ in topic_words[:5]]\n",
    "        else:\n",
    "            return topic_words[:5]\n",
    "    except:\n",
    "        return [\"N/A\"]\n",
    "\n",
    "\n",
    "# creating a dataframe for topics per class\n",
    "data = []\n",
    "for idx, (topic, genres) in enumerate(zip(topics, movies_overview['genres'])):\n",
    "    for genre in genres:\n",
    "        data.append({\n",
    "            'Genre': genre,\n",
    "            'Topic': topic,\n",
    "            'Name': topic_name_map.get(topic, f\"Topic_{topic}\"),\n",
    "            'Words': \", \".join(get_topic_words(topic))\n",
    "        })\n",
    "\n",
    "topics_per_class = pd.DataFrame(data)\n",
    "\n",
    "\n",
    "# calculating frequencies of topics per genre\n",
    "counts = topics_per_class.groupby(['Genre', 'Topic', 'Name', 'Words']).size().reset_index(name='Count')\n",
    "genre_totals = counts.groupby('Genre')['Count'].sum()\n",
    "counts['Frequency'] = counts.apply(lambda x: x['Count'] / genre_totals[x['Genre']], axis=1)\n",
    "\n",
    "\n",
    "try:\n",
    "    # default visualization\n",
    "    fig = topic_model.visualize_topics_per_class(\n",
    "        counts.rename(columns={'Genre': 'Class'}),\n",
    "        top_n_topics=60,\n",
    "        normalize_frequency=True,\n",
    "        title='Distribuição de Tópicos por Gênero',\n",
    "        height=600,\n",
    "        width=1200\n",
    "    )\n",
    "    fig.show()\n",
    "except Exception as e:\n",
    "    print(f\"Usando visualização alternativa devido a: {str(e)}\")\n",
    "    \n",
    "    # workaround for the issue with the default visualization\n",
    "    import plotly.express as px\n",
    "    \n",
    "    top_genres = counts.groupby('Genre')['Count'].sum().nlargest(15).index\n",
    "    filtered = counts[counts['Genre'].isin(top_genres)]\n",
    "    \n",
    "    fig = px.bar(\n",
    "        filtered.sort_values(['Genre', 'Frequency'], ascending=[True, False]),\n",
    "        x='Genre',\n",
    "        y='Frequency',\n",
    "        color='Name',\n",
    "        hover_data=['Words'],\n",
    "        facet_row='Name',\n",
    "        height=1200,\n",
    "        title='Distribuição de Tópicos por Gênero (Top 15)'\n",
    "    )\n",
    "    fig.update_layout(showlegend=False)\n",
    "    fig.show()"
   ]
  },
  {
   "cell_type": "markdown",
   "id": "0270717d",
   "metadata": {},
   "source": [
    "### Topics per Genre Distribution\n",
    "\n",
    "In this visualization, each vertical bar represents a movie genre. The bar is segmented by colors, where each color corresponds to a topic, and the size of the segment represents the frequency of that topic within the genre.\n",
    "\n",
    "With this chart, we can infer that some genres are almost entirely dominated by its respective topic, such as Topic 5 (war related) and its genre \"War\". However, it is also inferable that, in certain cases, the name of the topics does not seem to represent exactly what is expected of their genre, as is the case of topic 56 (monster, frankenstein, dracula, samurai) and the Western genre.\n",
    "\n",
    "It is also noticeable the existence of transversal topics, such as topic 6 (family related) being present in genres such as fantasy, horror, mystery and TV Movie.\n",
    "\n",
    "This chart connects the unsupervised analysis of BERTopic with the supervised nature of our data. It not only proves that the model is working but also allows us to describe genres in a much richer way. Instead of just saying the genre of a movie, we can say that the genre is composed of \"X% crime themes\", \"Y% friendship themes\" and \"Z% alien themes\", for example."
   ]
  },
  {
   "cell_type": "markdown",
   "id": "7a52bc47",
   "metadata": {},
   "source": [
    "## Summary\n",
    "\n",
    "In summary, thisnotebook executes a sophisticated unsupervised NLP project. It begins with raw data, cleans and prepares it, applies a state-of-the-art topic modeling technique, and finally, generates a suite of interactive visualizations. Each graph is a product of specific functions within the BERTopic library, designed to inspect the model's results from different angles: from the micro-level of individual topic keywords to the macro-level of the entire thematic landscape and its relationship with pre-existing metadata like genres.\n"
   ]
  }
 ],
 "metadata": {
  "kernelspec": {
   "display_name": ".venv",
   "language": "python",
   "name": "python3"
  },
  "language_info": {
   "codemirror_mode": {
    "name": "ipython",
    "version": 3
   },
   "file_extension": ".py",
   "mimetype": "text/x-python",
   "name": "python",
   "nbconvert_exporter": "python",
   "pygments_lexer": "ipython3",
   "version": "3.12.11"
  }
 },
 "nbformat": 4,
 "nbformat_minor": 5
}
