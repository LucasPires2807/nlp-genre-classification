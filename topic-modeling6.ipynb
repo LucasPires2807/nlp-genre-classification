{
 "cells": [
  {
   "cell_type": "code",
   "execution_count": 1,
   "id": "99216149",
   "metadata": {},
   "outputs": [
    {
     "name": "stderr",
     "output_type": "stream",
     "text": [
      "c:\\Users\\08857413403\\Desktop\\nlp\\nlp-genre-classification\\.venv\\Lib\\site-packages\\tqdm\\auto.py:21: TqdmWarning: IProgress not found. Please update jupyter and ipywidgets. See https://ipywidgets.readthedocs.io/en/stable/user_install.html\n",
      "  from .autonotebook import tqdm as notebook_tqdm\n"
     ]
    }
   ],
   "source": [
    "import pandas as pd\n",
    "from sklearn.model_selection import train_test_split\n",
    "from sentence_transformers import SentenceTransformer, InputExample, losses\n",
    "from torch.utils.data import DataLoader\n",
    "from bertopic import BERTopic\n",
    "\n",
    "# carregando os dados\n",
    "overview_df = pd.read_csv(\"data/movies_overview.csv\")\n",
    "genres_df = pd.read_csv(\"data/movies_genres.csv\")\n",
    "\n",
    "# juntando os generos\n",
    "genre_map = dict(zip(genres_df[\"id\"], genres_df[\"name\"]))\n",
    "\n",
    "def decode_genres(genre_ids_str):\n",
    "    import ast\n",
    "    try:\n",
    "        genre_ids = ast.literal_eval(genre_ids_str)\n",
    "        return \", \".join([genre_map.get(gid, \"\") for gid in genre_ids])\n",
    "    except:\n",
    "        return \"\"\n",
    "\n",
    "overview_df[\"genres\"] = overview_df[\"genre_ids\"].apply(decode_genres)\n",
    "\n"
   ]
  },
  {
   "cell_type": "code",
   "execution_count": 2,
   "id": "3c77273d",
   "metadata": {},
   "outputs": [
    {
     "name": "stderr",
     "output_type": "stream",
     "text": [
      "                                                                     \r"
     ]
    },
    {
     "data": {
      "text/html": [
       "\n",
       "    <div>\n",
       "      \n",
       "      <progress value='312' max='312' style='width:300px; height:20px; vertical-align: middle;'></progress>\n",
       "      [312/312 10:30, Epoch 1/1]\n",
       "    </div>\n",
       "    <table border=\"1\" class=\"dataframe\">\n",
       "  <thead>\n",
       " <tr style=\"text-align: left;\">\n",
       "      <th>Step</th>\n",
       "      <th>Training Loss</th>\n",
       "    </tr>\n",
       "  </thead>\n",
       "  <tbody>\n",
       "  </tbody>\n",
       "</table><p>"
      ],
      "text/plain": [
       "<IPython.core.display.HTML object>"
      ]
     },
     "metadata": {},
     "output_type": "display_data"
    }
   ],
   "source": [
    "# fine tuning\n",
    "# criando pares de sinopses (exemplo: mesma sinopse com mesmo gênero)\n",
    "examples = [\n",
    "    InputExample(texts=[row[\"overview\"], row[\"overview\"]], label=1.0)\n",
    "    for _, row in overview_df.iterrows()\n",
    "    if isinstance(row[\"overview\"], str) and row[\"overview\"].strip() != \"\"\n",
    "]\n",
    "\n",
    "# modelo base para fine tuning\n",
    "base_model = SentenceTransformer(\"all-MiniLM-L6-v2\")\n",
    "\n",
    "#dividindo os dados\n",
    "train_dataloader = DataLoader(examples, shuffle=True, batch_size=32)\n",
    "train_loss = losses.CosineSimilarityLoss(model=base_model)\n",
    "\n",
    "# treinando\n",
    "base_model.fit(\n",
    "    train_objectives=[(train_dataloader, train_loss)],\n",
    "    epochs=1,\n",
    "    warmup_steps=100\n",
    ")\n",
    "\n",
    "# Salvar o modelo\n",
    "base_model.save(\"fine_tuned_imdb_model\")\n"
   ]
  },
  {
   "cell_type": "code",
   "execution_count": 3,
   "id": "f3decd41",
   "metadata": {},
   "outputs": [
    {
     "name": "stderr",
     "output_type": "stream",
     "text": [
      "Batches: 100%|██████████| 312/312 [00:37<00:00,  8.23it/s]\n"
     ]
    }
   ],
   "source": [
    "# gerando embeddings\n",
    "valid_overviews = overview_df[\"overview\"].dropna().tolist()\n",
    "embeddings = base_model.encode(valid_overviews, show_progress_bar=True)\n",
    "\n"
   ]
  },
  {
   "cell_type": "code",
   "execution_count": 4,
   "id": "0a09828a",
   "metadata": {},
   "outputs": [],
   "source": [
    "from umap import UMAP\n",
    "from sklearn.feature_extraction.text import CountVectorizer\n",
    "\n",
    "#umap para redução de dimensionalidade\n",
    "umap_model = UMAP(n_neighbors=15, n_components=5, min_dist=0.0, metric='cosine', random_state=42)\n",
    "\n",
    "#  vetorizador para remover stopwords \n",
    "vectorizer_model = CountVectorizer(stop_words=\"english\", min_df=2, ngram_range=(1, 3))\n",
    "\n",
    "topic_model = BERTopic(\n",
    "    embedding_model=base_model,\n",
    "    umap_model=umap_model,\n",
    "    vectorizer_model=vectorizer_model,\n",
    "    verbose=True\n",
    ")\n"
   ]
  },
  {
   "cell_type": "code",
   "execution_count": 5,
   "id": "8aa86f7b",
   "metadata": {},
   "outputs": [
    {
     "name": "stderr",
     "output_type": "stream",
     "text": [
      "2025-06-08 21:06:52,988 - BERTopic - Dimensionality - Fitting the dimensionality reduction algorithm\n",
      "2025-06-08 21:07:25,262 - BERTopic - Dimensionality - Completed ✓\n",
      "2025-06-08 21:07:25,262 - BERTopic - Cluster - Start clustering the reduced embeddings\n",
      "2025-06-08 21:07:25,730 - BERTopic - Cluster - Completed ✓\n",
      "2025-06-08 21:07:25,730 - BERTopic - Representation - Fine-tuning topics using representation models.\n",
      "2025-06-08 21:07:26,465 - BERTopic - Representation - Completed ✓\n"
     ]
    },
    {
     "data": {
      "application/vnd.plotly.v1+json": {
       "config": {
        "plotlyServerURL": "https://plot.ly"
       },
       "data": [
        {
         "customdata": [
          [
           0,
           "life | film | story | star | music",
           557
          ],
          [
           1,
           "king | ancient | goku | power | evil",
           389
          ],
          [
           2,
           "police | cop | killer | case | officer",
           314
          ],
          [
           3,
           "earth | planet | space | alien | crew",
           140
          ],
          [
           4,
           "war | world war | war ii | world war ii | ii",
           134
          ],
          [
           5,
           "group | friends | discover | deserted | group friends",
           128
          ],
          [
           6,
           "cia | agent | nuclear | government | international",
           98
          ],
          [
           7,
           "virus | survivors | zombies | infected | outbreak",
           88
          ],
          [
           8,
           "relationship | love | couple | friends | relationships",
           87
          ],
          [
           9,
           "school | students | high school | high | student",
           87
          ],
          [
           10,
           "woman | life | 1960s | author | catherine",
           74
          ],
          [
           11,
           "team | coach | football | baseball | league",
           69
          ],
          [
           12,
           "married | wedding | relationship | sol | marriage",
           64
          ],
          [
           13,
           "mother | daughter | father | finds | birthday",
           63
          ],
          [
           14,
           "egg | bear | named | tigger | pooh",
           62
          ],
          [
           15,
           "mother | father | young | brother | woman",
           56
          ],
          [
           16,
           "christmas | santa | claus | santa claus | christmas eve",
           46
          ],
          [
           17,
           "erik | marvin | life | dr | nelson",
           46
          ],
          [
           18,
           "money | job | pay | bank | preston",
           45
          ],
          [
           19,
           "fairy | princess | ariel | kingdom | evil",
           44
          ],
          [
           20,
           "executive | blanco | invest | business | salesmen",
           40
          ],
          [
           21,
           "year old | old | school | year | boy",
           39
          ],
          [
           22,
           "man | hospital | mental | mental hospital | wife",
           38
          ],
          [
           23,
           "civil war | civil | slave | che | revolution",
           37
          ],
          [
           24,
           "sonic | spider | super | villain | ralph",
           34
          ],
          [
           25,
           "sorority | father | son | girl | mother",
           33
          ],
          [
           26,
           "claim | inheritance | moore | psychiatric | mother",
           32
          ],
          [
           27,
           "champion | boxer | boxing | match | rocky",
           30
          ],
          [
           28,
           "president | election | presidential | nixon | scandal",
           28
          ],
          [
           29,
           "priest | vatican | exorcism | religious | faith",
           27
          ],
          [
           30,
           "boss | jorge | chelsea | ugly | career",
           27
          ],
          [
           31,
           "gotham | batman | gotham city | bruce wayne | joker",
           25
          ],
          [
           32,
           "martial | ip | china | martial arts | arts",
           22
          ],
          [
           33,
           "husband | tammy | woman | affair | wife",
           22
          ],
          [
           34,
           "woman | young woman | carla | pain | suffers",
           21
          ],
          [
           35,
           "platoon | dodge | war | vietnam | mission",
           19
          ],
          [
           36,
           "year old girl | old girl | victim | teenage | year old",
           18
          ],
          [
           37,
           "hit | stone | melvin | jeffrey | scene",
           18
          ],
          [
           38,
           "school | shelley | halloweentown | regina | cady",
           18
          ],
          [
           39,
           "court | supreme | case | murder | story",
           18
          ],
          [
           40,
           "driver | taxi | car | police | seat",
           18
          ],
          [
           41,
           "superman | luthor | steel | lex luthor | lois",
           18
          ],
          [
           42,
           "societal | generational | childhood | sexual | fateful",
           16
          ],
          [
           43,
           "murder | besson | patient | woman | witness",
           16
          ],
          [
           44,
           "scooby | mystery | doo | scooby doo | gang",
           16
          ],
          [
           45,
           "queen | royal | king | elizabeth | royal family",
           14
          ],
          [
           46,
           "sage | meets | longing | duncan | elle",
           13
          ],
          [
           47,
           "taiwan | su | jong | prince charming | girl",
           13
          ],
          [
           48,
           "worlds | parallel | moments | comic | moving",
           13
          ],
          [
           49,
           "cat mouse | mouse | cat | quick | hester",
           12
          ],
          [
           50,
           "connor | terminator | john connor | captain america | john",
           12
          ],
          [
           51,
           "african american | african | long island | examination | growing",
           12
          ],
          [
           52,
           "witches | witch | wendy | marnie | casper",
           12
          ],
          [
           53,
           "high school | high | school | friends | reunion",
           12
          ],
          [
           54,
           "corleone | crime family | cuba | 1956 | organized crime",
           11
          ],
          [
           55,
           "mason | burned | egypt | caretaker | son",
           11
          ],
          [
           56,
           "shun | saved | young woman | sinister secret | djinn",
           11
          ],
          [
           57,
           "xavier | wolverine | mutants | grey | charles",
           10
          ],
          [
           58,
           "crime | life crime | spain | billionaire | benoit",
           10
          ],
          [
           59,
           "lincoln | caesar | okoye | chimpanzee | chicken",
           10
          ],
          [
           60,
           "student | high school | girls | high school student | school student",
           10
          ],
          [
           61,
           "elle | cher | school | tara | clive",
           10
          ],
          [
           62,
           "liam | strange | bodies | awakens | wakes",
           10
          ]
         ],
         "hovertemplate": "<b>Topic %{customdata[0]}</b><br>%{customdata[1]}<br>Size: %{customdata[2]}",
         "legendgroup": "",
         "marker": {
          "color": "#B0BEC5",
          "line": {
           "color": "DarkSlateGrey",
           "width": 2
          },
          "size": {
           "bdata": "LQKFAToBjACGAIAAYgBYAFcAVwBKAEUAQAA/AD4AOAAuAC4ALQAsACgAJwAmACUAIgAhACAAHgAcABsAGwAZABYAFgAVABMAEgASABIAEgASABIAEAAQABAADgANAA0ADQAMAAwADAAMAAwACwALAAsACgAKAAoACgAKAAoA",
           "dtype": "i2"
          },
          "sizemode": "area",
          "sizeref": 0.348125,
          "symbol": "circle"
         },
         "mode": "markers",
         "name": "",
         "orientation": "v",
         "showlegend": false,
         "type": "scatter",
         "x": {
          "bdata": "njmwQEi/pUDYivlASjjcv27HvEAO8ZRAJlPfwAGak0DLxENB3JO6QIyIeEE9/FRAvXJMQWPZZEHpFqRATgthQaCEo0BWLb9AsZnXQBD7YkGZcttAqG+3QP0V3UDBC7pAupkywRXbjb8asV5BxzJVQPtM38AMs19B0t20QerW9EBs7btABx5MQWB2KcCIsS3BC0VgQUAC70C1KFlB7Uf7QAuh60BWozXBeMI/QcZ4KcBABaBAo/t7QV2hTEGG6lJBOfOrQDSAY0EvtC/BkZQ9QTiXYkHFx19B+aG1QIzGe78URnNBlxQzwTC7skCAOdy/W/dfQXzdtEG0HHW/",
          "dtype": "f4"
         },
         "xaxis": "x",
         "y": {
          "bdata": "31kPQcJZpsAlQ3pBpDfev9ld+EAKfbbAbbZAQFqut8De6bBAQ3cYQaA3n0BRSJ9BSKywQLLalkAy/afAjKeJQJyXqMB+nRdBYNErQZvZuEB3Bi5B9isaQVr+LkE2MPxAXlq3P2A0/sDNnpVAl0mfQcTRQED76ZZAT9jSQP2ifEEaovdAn8ijQFRKZ0EW2t4/8aN8QCKSf0FUtqhAFWJ5QXOggEFv/p4/wMGyQLFKZ0H9KazAO4WhQMENq0Dom69ABkwQQRQHn0BVv84/Blq1QBCZs0DjEWBAz/oEQfI1+sDEg51As26zP8vNCEGTN96/jRZmQALY0kC3X/nA",
          "dtype": "f4"
         },
         "yaxis": "y"
        }
       ],
       "layout": {
        "annotations": [
         {
          "showarrow": false,
          "text": "D1",
          "x": -13.0552339553833,
          "y": 6.881047248840332,
          "yshift": 10
         },
         {
          "showarrow": false,
          "text": "D2",
          "x": 6.472161769866943,
          "xshift": 10,
          "y": 22.897571563720703
         }
        ],
        "height": 650,
        "hoverlabel": {
         "bgcolor": "white",
         "font": {
          "family": "Rockwell",
          "size": 16
         }
        },
        "legend": {
         "itemsizing": "constant",
         "tracegroupgap": 0
        },
        "margin": {
         "t": 60
        },
        "shapes": [
         {
          "line": {
           "color": "#CFD8DC",
           "width": 2
          },
          "type": "line",
          "x0": 6.472161769866943,
          "x1": 6.472161769866943,
          "y0": -9.135477066040039,
          "y1": 22.897571563720703
         },
         {
          "line": {
           "color": "#9E9E9E",
           "width": 2
          },
          "type": "line",
          "x0": -13.0552339553833,
          "x1": 25.999557495117188,
          "y0": 6.881047248840332,
          "y1": 6.881047248840332
         }
        ],
        "sliders": [
         {
          "active": 0,
          "pad": {
           "t": 50
          },
          "steps": [
           {
            "args": [
             {
              "marker.color": [
               [
                "red",
                "#B0BEC5",
                "#B0BEC5",
                "#B0BEC5",
                "#B0BEC5",
                "#B0BEC5",
                "#B0BEC5",
                "#B0BEC5",
                "#B0BEC5",
                "#B0BEC5",
                "#B0BEC5",
                "#B0BEC5",
                "#B0BEC5",
                "#B0BEC5",
                "#B0BEC5",
                "#B0BEC5",
                "#B0BEC5",
                "#B0BEC5",
                "#B0BEC5",
                "#B0BEC5",
                "#B0BEC5",
                "#B0BEC5",
                "#B0BEC5",
                "#B0BEC5",
                "#B0BEC5",
                "#B0BEC5",
                "#B0BEC5",
                "#B0BEC5",
                "#B0BEC5",
                "#B0BEC5",
                "#B0BEC5",
                "#B0BEC5",
                "#B0BEC5",
                "#B0BEC5",
                "#B0BEC5",
                "#B0BEC5",
                "#B0BEC5",
                "#B0BEC5",
                "#B0BEC5",
                "#B0BEC5",
                "#B0BEC5",
                "#B0BEC5",
                "#B0BEC5",
                "#B0BEC5",
                "#B0BEC5",
                "#B0BEC5",
                "#B0BEC5",
                "#B0BEC5",
                "#B0BEC5",
                "#B0BEC5",
                "#B0BEC5",
                "#B0BEC5",
                "#B0BEC5",
                "#B0BEC5",
                "#B0BEC5",
                "#B0BEC5",
                "#B0BEC5",
                "#B0BEC5",
                "#B0BEC5",
                "#B0BEC5",
                "#B0BEC5",
                "#B0BEC5",
                "#B0BEC5"
               ]
              ]
             }
            ],
            "label": "Topic 0",
            "method": "update"
           },
           {
            "args": [
             {
              "marker.color": [
               [
                "#B0BEC5",
                "red",
                "#B0BEC5",
                "#B0BEC5",
                "#B0BEC5",
                "#B0BEC5",
                "#B0BEC5",
                "#B0BEC5",
                "#B0BEC5",
                "#B0BEC5",
                "#B0BEC5",
                "#B0BEC5",
                "#B0BEC5",
                "#B0BEC5",
                "#B0BEC5",
                "#B0BEC5",
                "#B0BEC5",
                "#B0BEC5",
                "#B0BEC5",
                "#B0BEC5",
                "#B0BEC5",
                "#B0BEC5",
                "#B0BEC5",
                "#B0BEC5",
                "#B0BEC5",
                "#B0BEC5",
                "#B0BEC5",
                "#B0BEC5",
                "#B0BEC5",
                "#B0BEC5",
                "#B0BEC5",
                "#B0BEC5",
                "#B0BEC5",
                "#B0BEC5",
                "#B0BEC5",
                "#B0BEC5",
                "#B0BEC5",
                "#B0BEC5",
                "#B0BEC5",
                "#B0BEC5",
                "#B0BEC5",
                "#B0BEC5",
                "#B0BEC5",
                "#B0BEC5",
                "#B0BEC5",
                "#B0BEC5",
                "#B0BEC5",
                "#B0BEC5",
                "#B0BEC5",
                "#B0BEC5",
                "#B0BEC5",
                "#B0BEC5",
                "#B0BEC5",
                "#B0BEC5",
                "#B0BEC5",
                "#B0BEC5",
                "#B0BEC5",
                "#B0BEC5",
                "#B0BEC5",
                "#B0BEC5",
                "#B0BEC5",
                "#B0BEC5",
                "#B0BEC5"
               ]
              ]
             }
            ],
            "label": "Topic 1",
            "method": "update"
           },
           {
            "args": [
             {
              "marker.color": [
               [
                "#B0BEC5",
                "#B0BEC5",
                "red",
                "#B0BEC5",
                "#B0BEC5",
                "#B0BEC5",
                "#B0BEC5",
                "#B0BEC5",
                "#B0BEC5",
                "#B0BEC5",
                "#B0BEC5",
                "#B0BEC5",
                "#B0BEC5",
                "#B0BEC5",
                "#B0BEC5",
                "#B0BEC5",
                "#B0BEC5",
                "#B0BEC5",
                "#B0BEC5",
                "#B0BEC5",
                "#B0BEC5",
                "#B0BEC5",
                "#B0BEC5",
                "#B0BEC5",
                "#B0BEC5",
                "#B0BEC5",
                "#B0BEC5",
                "#B0BEC5",
                "#B0BEC5",
                "#B0BEC5",
                "#B0BEC5",
                "#B0BEC5",
                "#B0BEC5",
                "#B0BEC5",
                "#B0BEC5",
                "#B0BEC5",
                "#B0BEC5",
                "#B0BEC5",
                "#B0BEC5",
                "#B0BEC5",
                "#B0BEC5",
                "#B0BEC5",
                "#B0BEC5",
                "#B0BEC5",
                "#B0BEC5",
                "#B0BEC5",
                "#B0BEC5",
                "#B0BEC5",
                "#B0BEC5",
                "#B0BEC5",
                "#B0BEC5",
                "#B0BEC5",
                "#B0BEC5",
                "#B0BEC5",
                "#B0BEC5",
                "#B0BEC5",
                "#B0BEC5",
                "#B0BEC5",
                "#B0BEC5",
                "#B0BEC5",
                "#B0BEC5",
                "#B0BEC5",
                "#B0BEC5"
               ]
              ]
             }
            ],
            "label": "Topic 2",
            "method": "update"
           },
           {
            "args": [
             {
              "marker.color": [
               [
                "#B0BEC5",
                "#B0BEC5",
                "#B0BEC5",
                "red",
                "#B0BEC5",
                "#B0BEC5",
                "#B0BEC5",
                "#B0BEC5",
                "#B0BEC5",
                "#B0BEC5",
                "#B0BEC5",
                "#B0BEC5",
                "#B0BEC5",
                "#B0BEC5",
                "#B0BEC5",
                "#B0BEC5",
                "#B0BEC5",
                "#B0BEC5",
                "#B0BEC5",
                "#B0BEC5",
                "#B0BEC5",
                "#B0BEC5",
                "#B0BEC5",
                "#B0BEC5",
                "#B0BEC5",
                "#B0BEC5",
                "#B0BEC5",
                "#B0BEC5",
                "#B0BEC5",
                "#B0BEC5",
                "#B0BEC5",
                "#B0BEC5",
                "#B0BEC5",
                "#B0BEC5",
                "#B0BEC5",
                "#B0BEC5",
                "#B0BEC5",
                "#B0BEC5",
                "#B0BEC5",
                "#B0BEC5",
                "#B0BEC5",
                "#B0BEC5",
                "#B0BEC5",
                "#B0BEC5",
                "#B0BEC5",
                "#B0BEC5",
                "#B0BEC5",
                "#B0BEC5",
                "#B0BEC5",
                "#B0BEC5",
                "#B0BEC5",
                "#B0BEC5",
                "#B0BEC5",
                "#B0BEC5",
                "#B0BEC5",
                "#B0BEC5",
                "#B0BEC5",
                "#B0BEC5",
                "#B0BEC5",
                "#B0BEC5",
                "#B0BEC5",
                "#B0BEC5",
                "#B0BEC5"
               ]
              ]
             }
            ],
            "label": "Topic 3",
            "method": "update"
           },
           {
            "args": [
             {
              "marker.color": [
               [
                "#B0BEC5",
                "#B0BEC5",
                "#B0BEC5",
                "#B0BEC5",
                "red",
                "#B0BEC5",
                "#B0BEC5",
                "#B0BEC5",
                "#B0BEC5",
                "#B0BEC5",
                "#B0BEC5",
                "#B0BEC5",
                "#B0BEC5",
                "#B0BEC5",
                "#B0BEC5",
                "#B0BEC5",
                "#B0BEC5",
                "#B0BEC5",
                "#B0BEC5",
                "#B0BEC5",
                "#B0BEC5",
                "#B0BEC5",
                "#B0BEC5",
                "#B0BEC5",
                "#B0BEC5",
                "#B0BEC5",
                "#B0BEC5",
                "#B0BEC5",
                "#B0BEC5",
                "#B0BEC5",
                "#B0BEC5",
                "#B0BEC5",
                "#B0BEC5",
                "#B0BEC5",
                "#B0BEC5",
                "#B0BEC5",
                "#B0BEC5",
                "#B0BEC5",
                "#B0BEC5",
                "#B0BEC5",
                "#B0BEC5",
                "#B0BEC5",
                "#B0BEC5",
                "#B0BEC5",
                "#B0BEC5",
                "#B0BEC5",
                "#B0BEC5",
                "#B0BEC5",
                "#B0BEC5",
                "#B0BEC5",
                "#B0BEC5",
                "#B0BEC5",
                "#B0BEC5",
                "#B0BEC5",
                "#B0BEC5",
                "#B0BEC5",
                "#B0BEC5",
                "#B0BEC5",
                "#B0BEC5",
                "#B0BEC5",
                "#B0BEC5",
                "#B0BEC5",
                "#B0BEC5"
               ]
              ]
             }
            ],
            "label": "Topic 4",
            "method": "update"
           },
           {
            "args": [
             {
              "marker.color": [
               [
                "#B0BEC5",
                "#B0BEC5",
                "#B0BEC5",
                "#B0BEC5",
                "#B0BEC5",
                "red",
                "#B0BEC5",
                "#B0BEC5",
                "#B0BEC5",
                "#B0BEC5",
                "#B0BEC5",
                "#B0BEC5",
                "#B0BEC5",
                "#B0BEC5",
                "#B0BEC5",
                "#B0BEC5",
                "#B0BEC5",
                "#B0BEC5",
                "#B0BEC5",
                "#B0BEC5",
                "#B0BEC5",
                "#B0BEC5",
                "#B0BEC5",
                "#B0BEC5",
                "#B0BEC5",
                "#B0BEC5",
                "#B0BEC5",
                "#B0BEC5",
                "#B0BEC5",
                "#B0BEC5",
                "#B0BEC5",
                "#B0BEC5",
                "#B0BEC5",
                "#B0BEC5",
                "#B0BEC5",
                "#B0BEC5",
                "#B0BEC5",
                "#B0BEC5",
                "#B0BEC5",
                "#B0BEC5",
                "#B0BEC5",
                "#B0BEC5",
                "#B0BEC5",
                "#B0BEC5",
                "#B0BEC5",
                "#B0BEC5",
                "#B0BEC5",
                "#B0BEC5",
                "#B0BEC5",
                "#B0BEC5",
                "#B0BEC5",
                "#B0BEC5",
                "#B0BEC5",
                "#B0BEC5",
                "#B0BEC5",
                "#B0BEC5",
                "#B0BEC5",
                "#B0BEC5",
                "#B0BEC5",
                "#B0BEC5",
                "#B0BEC5",
                "#B0BEC5",
                "#B0BEC5"
               ]
              ]
             }
            ],
            "label": "Topic 5",
            "method": "update"
           },
           {
            "args": [
             {
              "marker.color": [
               [
                "#B0BEC5",
                "#B0BEC5",
                "#B0BEC5",
                "#B0BEC5",
                "#B0BEC5",
                "#B0BEC5",
                "red",
                "#B0BEC5",
                "#B0BEC5",
                "#B0BEC5",
                "#B0BEC5",
                "#B0BEC5",
                "#B0BEC5",
                "#B0BEC5",
                "#B0BEC5",
                "#B0BEC5",
                "#B0BEC5",
                "#B0BEC5",
                "#B0BEC5",
                "#B0BEC5",
                "#B0BEC5",
                "#B0BEC5",
                "#B0BEC5",
                "#B0BEC5",
                "#B0BEC5",
                "#B0BEC5",
                "#B0BEC5",
                "#B0BEC5",
                "#B0BEC5",
                "#B0BEC5",
                "#B0BEC5",
                "#B0BEC5",
                "#B0BEC5",
                "#B0BEC5",
                "#B0BEC5",
                "#B0BEC5",
                "#B0BEC5",
                "#B0BEC5",
                "#B0BEC5",
                "#B0BEC5",
                "#B0BEC5",
                "#B0BEC5",
                "#B0BEC5",
                "#B0BEC5",
                "#B0BEC5",
                "#B0BEC5",
                "#B0BEC5",
                "#B0BEC5",
                "#B0BEC5",
                "#B0BEC5",
                "#B0BEC5",
                "#B0BEC5",
                "#B0BEC5",
                "#B0BEC5",
                "#B0BEC5",
                "#B0BEC5",
                "#B0BEC5",
                "#B0BEC5",
                "#B0BEC5",
                "#B0BEC5",
                "#B0BEC5",
                "#B0BEC5",
                "#B0BEC5"
               ]
              ]
             }
            ],
            "label": "Topic 6",
            "method": "update"
           },
           {
            "args": [
             {
              "marker.color": [
               [
                "#B0BEC5",
                "#B0BEC5",
                "#B0BEC5",
                "#B0BEC5",
                "#B0BEC5",
                "#B0BEC5",
                "#B0BEC5",
                "red",
                "#B0BEC5",
                "#B0BEC5",
                "#B0BEC5",
                "#B0BEC5",
                "#B0BEC5",
                "#B0BEC5",
                "#B0BEC5",
                "#B0BEC5",
                "#B0BEC5",
                "#B0BEC5",
                "#B0BEC5",
                "#B0BEC5",
                "#B0BEC5",
                "#B0BEC5",
                "#B0BEC5",
                "#B0BEC5",
                "#B0BEC5",
                "#B0BEC5",
                "#B0BEC5",
                "#B0BEC5",
                "#B0BEC5",
                "#B0BEC5",
                "#B0BEC5",
                "#B0BEC5",
                "#B0BEC5",
                "#B0BEC5",
                "#B0BEC5",
                "#B0BEC5",
                "#B0BEC5",
                "#B0BEC5",
                "#B0BEC5",
                "#B0BEC5",
                "#B0BEC5",
                "#B0BEC5",
                "#B0BEC5",
                "#B0BEC5",
                "#B0BEC5",
                "#B0BEC5",
                "#B0BEC5",
                "#B0BEC5",
                "#B0BEC5",
                "#B0BEC5",
                "#B0BEC5",
                "#B0BEC5",
                "#B0BEC5",
                "#B0BEC5",
                "#B0BEC5",
                "#B0BEC5",
                "#B0BEC5",
                "#B0BEC5",
                "#B0BEC5",
                "#B0BEC5",
                "#B0BEC5",
                "#B0BEC5",
                "#B0BEC5"
               ]
              ]
             }
            ],
            "label": "Topic 7",
            "method": "update"
           },
           {
            "args": [
             {
              "marker.color": [
               [
                "#B0BEC5",
                "#B0BEC5",
                "#B0BEC5",
                "#B0BEC5",
                "#B0BEC5",
                "#B0BEC5",
                "#B0BEC5",
                "#B0BEC5",
                "red",
                "#B0BEC5",
                "#B0BEC5",
                "#B0BEC5",
                "#B0BEC5",
                "#B0BEC5",
                "#B0BEC5",
                "#B0BEC5",
                "#B0BEC5",
                "#B0BEC5",
                "#B0BEC5",
                "#B0BEC5",
                "#B0BEC5",
                "#B0BEC5",
                "#B0BEC5",
                "#B0BEC5",
                "#B0BEC5",
                "#B0BEC5",
                "#B0BEC5",
                "#B0BEC5",
                "#B0BEC5",
                "#B0BEC5",
                "#B0BEC5",
                "#B0BEC5",
                "#B0BEC5",
                "#B0BEC5",
                "#B0BEC5",
                "#B0BEC5",
                "#B0BEC5",
                "#B0BEC5",
                "#B0BEC5",
                "#B0BEC5",
                "#B0BEC5",
                "#B0BEC5",
                "#B0BEC5",
                "#B0BEC5",
                "#B0BEC5",
                "#B0BEC5",
                "#B0BEC5",
                "#B0BEC5",
                "#B0BEC5",
                "#B0BEC5",
                "#B0BEC5",
                "#B0BEC5",
                "#B0BEC5",
                "#B0BEC5",
                "#B0BEC5",
                "#B0BEC5",
                "#B0BEC5",
                "#B0BEC5",
                "#B0BEC5",
                "#B0BEC5",
                "#B0BEC5",
                "#B0BEC5",
                "#B0BEC5"
               ]
              ]
             }
            ],
            "label": "Topic 8",
            "method": "update"
           },
           {
            "args": [
             {
              "marker.color": [
               [
                "#B0BEC5",
                "#B0BEC5",
                "#B0BEC5",
                "#B0BEC5",
                "#B0BEC5",
                "#B0BEC5",
                "#B0BEC5",
                "#B0BEC5",
                "#B0BEC5",
                "red",
                "#B0BEC5",
                "#B0BEC5",
                "#B0BEC5",
                "#B0BEC5",
                "#B0BEC5",
                "#B0BEC5",
                "#B0BEC5",
                "#B0BEC5",
                "#B0BEC5",
                "#B0BEC5",
                "#B0BEC5",
                "#B0BEC5",
                "#B0BEC5",
                "#B0BEC5",
                "#B0BEC5",
                "#B0BEC5",
                "#B0BEC5",
                "#B0BEC5",
                "#B0BEC5",
                "#B0BEC5",
                "#B0BEC5",
                "#B0BEC5",
                "#B0BEC5",
                "#B0BEC5",
                "#B0BEC5",
                "#B0BEC5",
                "#B0BEC5",
                "#B0BEC5",
                "#B0BEC5",
                "#B0BEC5",
                "#B0BEC5",
                "#B0BEC5",
                "#B0BEC5",
                "#B0BEC5",
                "#B0BEC5",
                "#B0BEC5",
                "#B0BEC5",
                "#B0BEC5",
                "#B0BEC5",
                "#B0BEC5",
                "#B0BEC5",
                "#B0BEC5",
                "#B0BEC5",
                "#B0BEC5",
                "#B0BEC5",
                "#B0BEC5",
                "#B0BEC5",
                "#B0BEC5",
                "#B0BEC5",
                "#B0BEC5",
                "#B0BEC5",
                "#B0BEC5",
                "#B0BEC5"
               ]
              ]
             }
            ],
            "label": "Topic 9",
            "method": "update"
           },
           {
            "args": [
             {
              "marker.color": [
               [
                "#B0BEC5",
                "#B0BEC5",
                "#B0BEC5",
                "#B0BEC5",
                "#B0BEC5",
                "#B0BEC5",
                "#B0BEC5",
                "#B0BEC5",
                "#B0BEC5",
                "#B0BEC5",
                "red",
                "#B0BEC5",
                "#B0BEC5",
                "#B0BEC5",
                "#B0BEC5",
                "#B0BEC5",
                "#B0BEC5",
                "#B0BEC5",
                "#B0BEC5",
                "#B0BEC5",
                "#B0BEC5",
                "#B0BEC5",
                "#B0BEC5",
                "#B0BEC5",
                "#B0BEC5",
                "#B0BEC5",
                "#B0BEC5",
                "#B0BEC5",
                "#B0BEC5",
                "#B0BEC5",
                "#B0BEC5",
                "#B0BEC5",
                "#B0BEC5",
                "#B0BEC5",
                "#B0BEC5",
                "#B0BEC5",
                "#B0BEC5",
                "#B0BEC5",
                "#B0BEC5",
                "#B0BEC5",
                "#B0BEC5",
                "#B0BEC5",
                "#B0BEC5",
                "#B0BEC5",
                "#B0BEC5",
                "#B0BEC5",
                "#B0BEC5",
                "#B0BEC5",
                "#B0BEC5",
                "#B0BEC5",
                "#B0BEC5",
                "#B0BEC5",
                "#B0BEC5",
                "#B0BEC5",
                "#B0BEC5",
                "#B0BEC5",
                "#B0BEC5",
                "#B0BEC5",
                "#B0BEC5",
                "#B0BEC5",
                "#B0BEC5",
                "#B0BEC5",
                "#B0BEC5"
               ]
              ]
             }
            ],
            "label": "Topic 10",
            "method": "update"
           },
           {
            "args": [
             {
              "marker.color": [
               [
                "#B0BEC5",
                "#B0BEC5",
                "#B0BEC5",
                "#B0BEC5",
                "#B0BEC5",
                "#B0BEC5",
                "#B0BEC5",
                "#B0BEC5",
                "#B0BEC5",
                "#B0BEC5",
                "#B0BEC5",
                "red",
                "#B0BEC5",
                "#B0BEC5",
                "#B0BEC5",
                "#B0BEC5",
                "#B0BEC5",
                "#B0BEC5",
                "#B0BEC5",
                "#B0BEC5",
                "#B0BEC5",
                "#B0BEC5",
                "#B0BEC5",
                "#B0BEC5",
                "#B0BEC5",
                "#B0BEC5",
                "#B0BEC5",
                "#B0BEC5",
                "#B0BEC5",
                "#B0BEC5",
                "#B0BEC5",
                "#B0BEC5",
                "#B0BEC5",
                "#B0BEC5",
                "#B0BEC5",
                "#B0BEC5",
                "#B0BEC5",
                "#B0BEC5",
                "#B0BEC5",
                "#B0BEC5",
                "#B0BEC5",
                "#B0BEC5",
                "#B0BEC5",
                "#B0BEC5",
                "#B0BEC5",
                "#B0BEC5",
                "#B0BEC5",
                "#B0BEC5",
                "#B0BEC5",
                "#B0BEC5",
                "#B0BEC5",
                "#B0BEC5",
                "#B0BEC5",
                "#B0BEC5",
                "#B0BEC5",
                "#B0BEC5",
                "#B0BEC5",
                "#B0BEC5",
                "#B0BEC5",
                "#B0BEC5",
                "#B0BEC5",
                "#B0BEC5",
                "#B0BEC5"
               ]
              ]
             }
            ],
            "label": "Topic 11",
            "method": "update"
           },
           {
            "args": [
             {
              "marker.color": [
               [
                "#B0BEC5",
                "#B0BEC5",
                "#B0BEC5",
                "#B0BEC5",
                "#B0BEC5",
                "#B0BEC5",
                "#B0BEC5",
                "#B0BEC5",
                "#B0BEC5",
                "#B0BEC5",
                "#B0BEC5",
                "#B0BEC5",
                "red",
                "#B0BEC5",
                "#B0BEC5",
                "#B0BEC5",
                "#B0BEC5",
                "#B0BEC5",
                "#B0BEC5",
                "#B0BEC5",
                "#B0BEC5",
                "#B0BEC5",
                "#B0BEC5",
                "#B0BEC5",
                "#B0BEC5",
                "#B0BEC5",
                "#B0BEC5",
                "#B0BEC5",
                "#B0BEC5",
                "#B0BEC5",
                "#B0BEC5",
                "#B0BEC5",
                "#B0BEC5",
                "#B0BEC5",
                "#B0BEC5",
                "#B0BEC5",
                "#B0BEC5",
                "#B0BEC5",
                "#B0BEC5",
                "#B0BEC5",
                "#B0BEC5",
                "#B0BEC5",
                "#B0BEC5",
                "#B0BEC5",
                "#B0BEC5",
                "#B0BEC5",
                "#B0BEC5",
                "#B0BEC5",
                "#B0BEC5",
                "#B0BEC5",
                "#B0BEC5",
                "#B0BEC5",
                "#B0BEC5",
                "#B0BEC5",
                "#B0BEC5",
                "#B0BEC5",
                "#B0BEC5",
                "#B0BEC5",
                "#B0BEC5",
                "#B0BEC5",
                "#B0BEC5",
                "#B0BEC5",
                "#B0BEC5"
               ]
              ]
             }
            ],
            "label": "Topic 12",
            "method": "update"
           },
           {
            "args": [
             {
              "marker.color": [
               [
                "#B0BEC5",
                "#B0BEC5",
                "#B0BEC5",
                "#B0BEC5",
                "#B0BEC5",
                "#B0BEC5",
                "#B0BEC5",
                "#B0BEC5",
                "#B0BEC5",
                "#B0BEC5",
                "#B0BEC5",
                "#B0BEC5",
                "#B0BEC5",
                "red",
                "#B0BEC5",
                "#B0BEC5",
                "#B0BEC5",
                "#B0BEC5",
                "#B0BEC5",
                "#B0BEC5",
                "#B0BEC5",
                "#B0BEC5",
                "#B0BEC5",
                "#B0BEC5",
                "#B0BEC5",
                "#B0BEC5",
                "#B0BEC5",
                "#B0BEC5",
                "#B0BEC5",
                "#B0BEC5",
                "#B0BEC5",
                "#B0BEC5",
                "#B0BEC5",
                "#B0BEC5",
                "#B0BEC5",
                "#B0BEC5",
                "#B0BEC5",
                "#B0BEC5",
                "#B0BEC5",
                "#B0BEC5",
                "#B0BEC5",
                "#B0BEC5",
                "#B0BEC5",
                "#B0BEC5",
                "#B0BEC5",
                "#B0BEC5",
                "#B0BEC5",
                "#B0BEC5",
                "#B0BEC5",
                "#B0BEC5",
                "#B0BEC5",
                "#B0BEC5",
                "#B0BEC5",
                "#B0BEC5",
                "#B0BEC5",
                "#B0BEC5",
                "#B0BEC5",
                "#B0BEC5",
                "#B0BEC5",
                "#B0BEC5",
                "#B0BEC5",
                "#B0BEC5",
                "#B0BEC5"
               ]
              ]
             }
            ],
            "label": "Topic 13",
            "method": "update"
           },
           {
            "args": [
             {
              "marker.color": [
               [
                "#B0BEC5",
                "#B0BEC5",
                "#B0BEC5",
                "#B0BEC5",
                "#B0BEC5",
                "#B0BEC5",
                "#B0BEC5",
                "#B0BEC5",
                "#B0BEC5",
                "#B0BEC5",
                "#B0BEC5",
                "#B0BEC5",
                "#B0BEC5",
                "#B0BEC5",
                "red",
                "#B0BEC5",
                "#B0BEC5",
                "#B0BEC5",
                "#B0BEC5",
                "#B0BEC5",
                "#B0BEC5",
                "#B0BEC5",
                "#B0BEC5",
                "#B0BEC5",
                "#B0BEC5",
                "#B0BEC5",
                "#B0BEC5",
                "#B0BEC5",
                "#B0BEC5",
                "#B0BEC5",
                "#B0BEC5",
                "#B0BEC5",
                "#B0BEC5",
                "#B0BEC5",
                "#B0BEC5",
                "#B0BEC5",
                "#B0BEC5",
                "#B0BEC5",
                "#B0BEC5",
                "#B0BEC5",
                "#B0BEC5",
                "#B0BEC5",
                "#B0BEC5",
                "#B0BEC5",
                "#B0BEC5",
                "#B0BEC5",
                "#B0BEC5",
                "#B0BEC5",
                "#B0BEC5",
                "#B0BEC5",
                "#B0BEC5",
                "#B0BEC5",
                "#B0BEC5",
                "#B0BEC5",
                "#B0BEC5",
                "#B0BEC5",
                "#B0BEC5",
                "#B0BEC5",
                "#B0BEC5",
                "#B0BEC5",
                "#B0BEC5",
                "#B0BEC5",
                "#B0BEC5"
               ]
              ]
             }
            ],
            "label": "Topic 14",
            "method": "update"
           },
           {
            "args": [
             {
              "marker.color": [
               [
                "#B0BEC5",
                "#B0BEC5",
                "#B0BEC5",
                "#B0BEC5",
                "#B0BEC5",
                "#B0BEC5",
                "#B0BEC5",
                "#B0BEC5",
                "#B0BEC5",
                "#B0BEC5",
                "#B0BEC5",
                "#B0BEC5",
                "#B0BEC5",
                "#B0BEC5",
                "#B0BEC5",
                "red",
                "#B0BEC5",
                "#B0BEC5",
                "#B0BEC5",
                "#B0BEC5",
                "#B0BEC5",
                "#B0BEC5",
                "#B0BEC5",
                "#B0BEC5",
                "#B0BEC5",
                "#B0BEC5",
                "#B0BEC5",
                "#B0BEC5",
                "#B0BEC5",
                "#B0BEC5",
                "#B0BEC5",
                "#B0BEC5",
                "#B0BEC5",
                "#B0BEC5",
                "#B0BEC5",
                "#B0BEC5",
                "#B0BEC5",
                "#B0BEC5",
                "#B0BEC5",
                "#B0BEC5",
                "#B0BEC5",
                "#B0BEC5",
                "#B0BEC5",
                "#B0BEC5",
                "#B0BEC5",
                "#B0BEC5",
                "#B0BEC5",
                "#B0BEC5",
                "#B0BEC5",
                "#B0BEC5",
                "#B0BEC5",
                "#B0BEC5",
                "#B0BEC5",
                "#B0BEC5",
                "#B0BEC5",
                "#B0BEC5",
                "#B0BEC5",
                "#B0BEC5",
                "#B0BEC5",
                "#B0BEC5",
                "#B0BEC5",
                "#B0BEC5",
                "#B0BEC5"
               ]
              ]
             }
            ],
            "label": "Topic 15",
            "method": "update"
           },
           {
            "args": [
             {
              "marker.color": [
               [
                "#B0BEC5",
                "#B0BEC5",
                "#B0BEC5",
                "#B0BEC5",
                "#B0BEC5",
                "#B0BEC5",
                "#B0BEC5",
                "#B0BEC5",
                "#B0BEC5",
                "#B0BEC5",
                "#B0BEC5",
                "#B0BEC5",
                "#B0BEC5",
                "#B0BEC5",
                "#B0BEC5",
                "#B0BEC5",
                "red",
                "#B0BEC5",
                "#B0BEC5",
                "#B0BEC5",
                "#B0BEC5",
                "#B0BEC5",
                "#B0BEC5",
                "#B0BEC5",
                "#B0BEC5",
                "#B0BEC5",
                "#B0BEC5",
                "#B0BEC5",
                "#B0BEC5",
                "#B0BEC5",
                "#B0BEC5",
                "#B0BEC5",
                "#B0BEC5",
                "#B0BEC5",
                "#B0BEC5",
                "#B0BEC5",
                "#B0BEC5",
                "#B0BEC5",
                "#B0BEC5",
                "#B0BEC5",
                "#B0BEC5",
                "#B0BEC5",
                "#B0BEC5",
                "#B0BEC5",
                "#B0BEC5",
                "#B0BEC5",
                "#B0BEC5",
                "#B0BEC5",
                "#B0BEC5",
                "#B0BEC5",
                "#B0BEC5",
                "#B0BEC5",
                "#B0BEC5",
                "#B0BEC5",
                "#B0BEC5",
                "#B0BEC5",
                "#B0BEC5",
                "#B0BEC5",
                "#B0BEC5",
                "#B0BEC5",
                "#B0BEC5",
                "#B0BEC5",
                "#B0BEC5"
               ]
              ]
             }
            ],
            "label": "Topic 16",
            "method": "update"
           },
           {
            "args": [
             {
              "marker.color": [
               [
                "#B0BEC5",
                "#B0BEC5",
                "#B0BEC5",
                "#B0BEC5",
                "#B0BEC5",
                "#B0BEC5",
                "#B0BEC5",
                "#B0BEC5",
                "#B0BEC5",
                "#B0BEC5",
                "#B0BEC5",
                "#B0BEC5",
                "#B0BEC5",
                "#B0BEC5",
                "#B0BEC5",
                "#B0BEC5",
                "#B0BEC5",
                "red",
                "#B0BEC5",
                "#B0BEC5",
                "#B0BEC5",
                "#B0BEC5",
                "#B0BEC5",
                "#B0BEC5",
                "#B0BEC5",
                "#B0BEC5",
                "#B0BEC5",
                "#B0BEC5",
                "#B0BEC5",
                "#B0BEC5",
                "#B0BEC5",
                "#B0BEC5",
                "#B0BEC5",
                "#B0BEC5",
                "#B0BEC5",
                "#B0BEC5",
                "#B0BEC5",
                "#B0BEC5",
                "#B0BEC5",
                "#B0BEC5",
                "#B0BEC5",
                "#B0BEC5",
                "#B0BEC5",
                "#B0BEC5",
                "#B0BEC5",
                "#B0BEC5",
                "#B0BEC5",
                "#B0BEC5",
                "#B0BEC5",
                "#B0BEC5",
                "#B0BEC5",
                "#B0BEC5",
                "#B0BEC5",
                "#B0BEC5",
                "#B0BEC5",
                "#B0BEC5",
                "#B0BEC5",
                "#B0BEC5",
                "#B0BEC5",
                "#B0BEC5",
                "#B0BEC5",
                "#B0BEC5",
                "#B0BEC5"
               ]
              ]
             }
            ],
            "label": "Topic 17",
            "method": "update"
           },
           {
            "args": [
             {
              "marker.color": [
               [
                "#B0BEC5",
                "#B0BEC5",
                "#B0BEC5",
                "#B0BEC5",
                "#B0BEC5",
                "#B0BEC5",
                "#B0BEC5",
                "#B0BEC5",
                "#B0BEC5",
                "#B0BEC5",
                "#B0BEC5",
                "#B0BEC5",
                "#B0BEC5",
                "#B0BEC5",
                "#B0BEC5",
                "#B0BEC5",
                "#B0BEC5",
                "#B0BEC5",
                "red",
                "#B0BEC5",
                "#B0BEC5",
                "#B0BEC5",
                "#B0BEC5",
                "#B0BEC5",
                "#B0BEC5",
                "#B0BEC5",
                "#B0BEC5",
                "#B0BEC5",
                "#B0BEC5",
                "#B0BEC5",
                "#B0BEC5",
                "#B0BEC5",
                "#B0BEC5",
                "#B0BEC5",
                "#B0BEC5",
                "#B0BEC5",
                "#B0BEC5",
                "#B0BEC5",
                "#B0BEC5",
                "#B0BEC5",
                "#B0BEC5",
                "#B0BEC5",
                "#B0BEC5",
                "#B0BEC5",
                "#B0BEC5",
                "#B0BEC5",
                "#B0BEC5",
                "#B0BEC5",
                "#B0BEC5",
                "#B0BEC5",
                "#B0BEC5",
                "#B0BEC5",
                "#B0BEC5",
                "#B0BEC5",
                "#B0BEC5",
                "#B0BEC5",
                "#B0BEC5",
                "#B0BEC5",
                "#B0BEC5",
                "#B0BEC5",
                "#B0BEC5",
                "#B0BEC5",
                "#B0BEC5"
               ]
              ]
             }
            ],
            "label": "Topic 18",
            "method": "update"
           },
           {
            "args": [
             {
              "marker.color": [
               [
                "#B0BEC5",
                "#B0BEC5",
                "#B0BEC5",
                "#B0BEC5",
                "#B0BEC5",
                "#B0BEC5",
                "#B0BEC5",
                "#B0BEC5",
                "#B0BEC5",
                "#B0BEC5",
                "#B0BEC5",
                "#B0BEC5",
                "#B0BEC5",
                "#B0BEC5",
                "#B0BEC5",
                "#B0BEC5",
                "#B0BEC5",
                "#B0BEC5",
                "#B0BEC5",
                "red",
                "#B0BEC5",
                "#B0BEC5",
                "#B0BEC5",
                "#B0BEC5",
                "#B0BEC5",
                "#B0BEC5",
                "#B0BEC5",
                "#B0BEC5",
                "#B0BEC5",
                "#B0BEC5",
                "#B0BEC5",
                "#B0BEC5",
                "#B0BEC5",
                "#B0BEC5",
                "#B0BEC5",
                "#B0BEC5",
                "#B0BEC5",
                "#B0BEC5",
                "#B0BEC5",
                "#B0BEC5",
                "#B0BEC5",
                "#B0BEC5",
                "#B0BEC5",
                "#B0BEC5",
                "#B0BEC5",
                "#B0BEC5",
                "#B0BEC5",
                "#B0BEC5",
                "#B0BEC5",
                "#B0BEC5",
                "#B0BEC5",
                "#B0BEC5",
                "#B0BEC5",
                "#B0BEC5",
                "#B0BEC5",
                "#B0BEC5",
                "#B0BEC5",
                "#B0BEC5",
                "#B0BEC5",
                "#B0BEC5",
                "#B0BEC5",
                "#B0BEC5",
                "#B0BEC5"
               ]
              ]
             }
            ],
            "label": "Topic 19",
            "method": "update"
           },
           {
            "args": [
             {
              "marker.color": [
               [
                "#B0BEC5",
                "#B0BEC5",
                "#B0BEC5",
                "#B0BEC5",
                "#B0BEC5",
                "#B0BEC5",
                "#B0BEC5",
                "#B0BEC5",
                "#B0BEC5",
                "#B0BEC5",
                "#B0BEC5",
                "#B0BEC5",
                "#B0BEC5",
                "#B0BEC5",
                "#B0BEC5",
                "#B0BEC5",
                "#B0BEC5",
                "#B0BEC5",
                "#B0BEC5",
                "#B0BEC5",
                "red",
                "#B0BEC5",
                "#B0BEC5",
                "#B0BEC5",
                "#B0BEC5",
                "#B0BEC5",
                "#B0BEC5",
                "#B0BEC5",
                "#B0BEC5",
                "#B0BEC5",
                "#B0BEC5",
                "#B0BEC5",
                "#B0BEC5",
                "#B0BEC5",
                "#B0BEC5",
                "#B0BEC5",
                "#B0BEC5",
                "#B0BEC5",
                "#B0BEC5",
                "#B0BEC5",
                "#B0BEC5",
                "#B0BEC5",
                "#B0BEC5",
                "#B0BEC5",
                "#B0BEC5",
                "#B0BEC5",
                "#B0BEC5",
                "#B0BEC5",
                "#B0BEC5",
                "#B0BEC5",
                "#B0BEC5",
                "#B0BEC5",
                "#B0BEC5",
                "#B0BEC5",
                "#B0BEC5",
                "#B0BEC5",
                "#B0BEC5",
                "#B0BEC5",
                "#B0BEC5",
                "#B0BEC5",
                "#B0BEC5",
                "#B0BEC5",
                "#B0BEC5"
               ]
              ]
             }
            ],
            "label": "Topic 20",
            "method": "update"
           },
           {
            "args": [
             {
              "marker.color": [
               [
                "#B0BEC5",
                "#B0BEC5",
                "#B0BEC5",
                "#B0BEC5",
                "#B0BEC5",
                "#B0BEC5",
                "#B0BEC5",
                "#B0BEC5",
                "#B0BEC5",
                "#B0BEC5",
                "#B0BEC5",
                "#B0BEC5",
                "#B0BEC5",
                "#B0BEC5",
                "#B0BEC5",
                "#B0BEC5",
                "#B0BEC5",
                "#B0BEC5",
                "#B0BEC5",
                "#B0BEC5",
                "#B0BEC5",
                "red",
                "#B0BEC5",
                "#B0BEC5",
                "#B0BEC5",
                "#B0BEC5",
                "#B0BEC5",
                "#B0BEC5",
                "#B0BEC5",
                "#B0BEC5",
                "#B0BEC5",
                "#B0BEC5",
                "#B0BEC5",
                "#B0BEC5",
                "#B0BEC5",
                "#B0BEC5",
                "#B0BEC5",
                "#B0BEC5",
                "#B0BEC5",
                "#B0BEC5",
                "#B0BEC5",
                "#B0BEC5",
                "#B0BEC5",
                "#B0BEC5",
                "#B0BEC5",
                "#B0BEC5",
                "#B0BEC5",
                "#B0BEC5",
                "#B0BEC5",
                "#B0BEC5",
                "#B0BEC5",
                "#B0BEC5",
                "#B0BEC5",
                "#B0BEC5",
                "#B0BEC5",
                "#B0BEC5",
                "#B0BEC5",
                "#B0BEC5",
                "#B0BEC5",
                "#B0BEC5",
                "#B0BEC5",
                "#B0BEC5",
                "#B0BEC5"
               ]
              ]
             }
            ],
            "label": "Topic 21",
            "method": "update"
           },
           {
            "args": [
             {
              "marker.color": [
               [
                "#B0BEC5",
                "#B0BEC5",
                "#B0BEC5",
                "#B0BEC5",
                "#B0BEC5",
                "#B0BEC5",
                "#B0BEC5",
                "#B0BEC5",
                "#B0BEC5",
                "#B0BEC5",
                "#B0BEC5",
                "#B0BEC5",
                "#B0BEC5",
                "#B0BEC5",
                "#B0BEC5",
                "#B0BEC5",
                "#B0BEC5",
                "#B0BEC5",
                "#B0BEC5",
                "#B0BEC5",
                "#B0BEC5",
                "#B0BEC5",
                "red",
                "#B0BEC5",
                "#B0BEC5",
                "#B0BEC5",
                "#B0BEC5",
                "#B0BEC5",
                "#B0BEC5",
                "#B0BEC5",
                "#B0BEC5",
                "#B0BEC5",
                "#B0BEC5",
                "#B0BEC5",
                "#B0BEC5",
                "#B0BEC5",
                "#B0BEC5",
                "#B0BEC5",
                "#B0BEC5",
                "#B0BEC5",
                "#B0BEC5",
                "#B0BEC5",
                "#B0BEC5",
                "#B0BEC5",
                "#B0BEC5",
                "#B0BEC5",
                "#B0BEC5",
                "#B0BEC5",
                "#B0BEC5",
                "#B0BEC5",
                "#B0BEC5",
                "#B0BEC5",
                "#B0BEC5",
                "#B0BEC5",
                "#B0BEC5",
                "#B0BEC5",
                "#B0BEC5",
                "#B0BEC5",
                "#B0BEC5",
                "#B0BEC5",
                "#B0BEC5",
                "#B0BEC5",
                "#B0BEC5"
               ]
              ]
             }
            ],
            "label": "Topic 22",
            "method": "update"
           },
           {
            "args": [
             {
              "marker.color": [
               [
                "#B0BEC5",
                "#B0BEC5",
                "#B0BEC5",
                "#B0BEC5",
                "#B0BEC5",
                "#B0BEC5",
                "#B0BEC5",
                "#B0BEC5",
                "#B0BEC5",
                "#B0BEC5",
                "#B0BEC5",
                "#B0BEC5",
                "#B0BEC5",
                "#B0BEC5",
                "#B0BEC5",
                "#B0BEC5",
                "#B0BEC5",
                "#B0BEC5",
                "#B0BEC5",
                "#B0BEC5",
                "#B0BEC5",
                "#B0BEC5",
                "#B0BEC5",
                "red",
                "#B0BEC5",
                "#B0BEC5",
                "#B0BEC5",
                "#B0BEC5",
                "#B0BEC5",
                "#B0BEC5",
                "#B0BEC5",
                "#B0BEC5",
                "#B0BEC5",
                "#B0BEC5",
                "#B0BEC5",
                "#B0BEC5",
                "#B0BEC5",
                "#B0BEC5",
                "#B0BEC5",
                "#B0BEC5",
                "#B0BEC5",
                "#B0BEC5",
                "#B0BEC5",
                "#B0BEC5",
                "#B0BEC5",
                "#B0BEC5",
                "#B0BEC5",
                "#B0BEC5",
                "#B0BEC5",
                "#B0BEC5",
                "#B0BEC5",
                "#B0BEC5",
                "#B0BEC5",
                "#B0BEC5",
                "#B0BEC5",
                "#B0BEC5",
                "#B0BEC5",
                "#B0BEC5",
                "#B0BEC5",
                "#B0BEC5",
                "#B0BEC5",
                "#B0BEC5",
                "#B0BEC5"
               ]
              ]
             }
            ],
            "label": "Topic 23",
            "method": "update"
           },
           {
            "args": [
             {
              "marker.color": [
               [
                "#B0BEC5",
                "#B0BEC5",
                "#B0BEC5",
                "#B0BEC5",
                "#B0BEC5",
                "#B0BEC5",
                "#B0BEC5",
                "#B0BEC5",
                "#B0BEC5",
                "#B0BEC5",
                "#B0BEC5",
                "#B0BEC5",
                "#B0BEC5",
                "#B0BEC5",
                "#B0BEC5",
                "#B0BEC5",
                "#B0BEC5",
                "#B0BEC5",
                "#B0BEC5",
                "#B0BEC5",
                "#B0BEC5",
                "#B0BEC5",
                "#B0BEC5",
                "#B0BEC5",
                "red",
                "#B0BEC5",
                "#B0BEC5",
                "#B0BEC5",
                "#B0BEC5",
                "#B0BEC5",
                "#B0BEC5",
                "#B0BEC5",
                "#B0BEC5",
                "#B0BEC5",
                "#B0BEC5",
                "#B0BEC5",
                "#B0BEC5",
                "#B0BEC5",
                "#B0BEC5",
                "#B0BEC5",
                "#B0BEC5",
                "#B0BEC5",
                "#B0BEC5",
                "#B0BEC5",
                "#B0BEC5",
                "#B0BEC5",
                "#B0BEC5",
                "#B0BEC5",
                "#B0BEC5",
                "#B0BEC5",
                "#B0BEC5",
                "#B0BEC5",
                "#B0BEC5",
                "#B0BEC5",
                "#B0BEC5",
                "#B0BEC5",
                "#B0BEC5",
                "#B0BEC5",
                "#B0BEC5",
                "#B0BEC5",
                "#B0BEC5",
                "#B0BEC5",
                "#B0BEC5"
               ]
              ]
             }
            ],
            "label": "Topic 24",
            "method": "update"
           },
           {
            "args": [
             {
              "marker.color": [
               [
                "#B0BEC5",
                "#B0BEC5",
                "#B0BEC5",
                "#B0BEC5",
                "#B0BEC5",
                "#B0BEC5",
                "#B0BEC5",
                "#B0BEC5",
                "#B0BEC5",
                "#B0BEC5",
                "#B0BEC5",
                "#B0BEC5",
                "#B0BEC5",
                "#B0BEC5",
                "#B0BEC5",
                "#B0BEC5",
                "#B0BEC5",
                "#B0BEC5",
                "#B0BEC5",
                "#B0BEC5",
                "#B0BEC5",
                "#B0BEC5",
                "#B0BEC5",
                "#B0BEC5",
                "#B0BEC5",
                "red",
                "#B0BEC5",
                "#B0BEC5",
                "#B0BEC5",
                "#B0BEC5",
                "#B0BEC5",
                "#B0BEC5",
                "#B0BEC5",
                "#B0BEC5",
                "#B0BEC5",
                "#B0BEC5",
                "#B0BEC5",
                "#B0BEC5",
                "#B0BEC5",
                "#B0BEC5",
                "#B0BEC5",
                "#B0BEC5",
                "#B0BEC5",
                "#B0BEC5",
                "#B0BEC5",
                "#B0BEC5",
                "#B0BEC5",
                "#B0BEC5",
                "#B0BEC5",
                "#B0BEC5",
                "#B0BEC5",
                "#B0BEC5",
                "#B0BEC5",
                "#B0BEC5",
                "#B0BEC5",
                "#B0BEC5",
                "#B0BEC5",
                "#B0BEC5",
                "#B0BEC5",
                "#B0BEC5",
                "#B0BEC5",
                "#B0BEC5",
                "#B0BEC5"
               ]
              ]
             }
            ],
            "label": "Topic 25",
            "method": "update"
           },
           {
            "args": [
             {
              "marker.color": [
               [
                "#B0BEC5",
                "#B0BEC5",
                "#B0BEC5",
                "#B0BEC5",
                "#B0BEC5",
                "#B0BEC5",
                "#B0BEC5",
                "#B0BEC5",
                "#B0BEC5",
                "#B0BEC5",
                "#B0BEC5",
                "#B0BEC5",
                "#B0BEC5",
                "#B0BEC5",
                "#B0BEC5",
                "#B0BEC5",
                "#B0BEC5",
                "#B0BEC5",
                "#B0BEC5",
                "#B0BEC5",
                "#B0BEC5",
                "#B0BEC5",
                "#B0BEC5",
                "#B0BEC5",
                "#B0BEC5",
                "#B0BEC5",
                "red",
                "#B0BEC5",
                "#B0BEC5",
                "#B0BEC5",
                "#B0BEC5",
                "#B0BEC5",
                "#B0BEC5",
                "#B0BEC5",
                "#B0BEC5",
                "#B0BEC5",
                "#B0BEC5",
                "#B0BEC5",
                "#B0BEC5",
                "#B0BEC5",
                "#B0BEC5",
                "#B0BEC5",
                "#B0BEC5",
                "#B0BEC5",
                "#B0BEC5",
                "#B0BEC5",
                "#B0BEC5",
                "#B0BEC5",
                "#B0BEC5",
                "#B0BEC5",
                "#B0BEC5",
                "#B0BEC5",
                "#B0BEC5",
                "#B0BEC5",
                "#B0BEC5",
                "#B0BEC5",
                "#B0BEC5",
                "#B0BEC5",
                "#B0BEC5",
                "#B0BEC5",
                "#B0BEC5",
                "#B0BEC5",
                "#B0BEC5"
               ]
              ]
             }
            ],
            "label": "Topic 26",
            "method": "update"
           },
           {
            "args": [
             {
              "marker.color": [
               [
                "#B0BEC5",
                "#B0BEC5",
                "#B0BEC5",
                "#B0BEC5",
                "#B0BEC5",
                "#B0BEC5",
                "#B0BEC5",
                "#B0BEC5",
                "#B0BEC5",
                "#B0BEC5",
                "#B0BEC5",
                "#B0BEC5",
                "#B0BEC5",
                "#B0BEC5",
                "#B0BEC5",
                "#B0BEC5",
                "#B0BEC5",
                "#B0BEC5",
                "#B0BEC5",
                "#B0BEC5",
                "#B0BEC5",
                "#B0BEC5",
                "#B0BEC5",
                "#B0BEC5",
                "#B0BEC5",
                "#B0BEC5",
                "#B0BEC5",
                "red",
                "#B0BEC5",
                "#B0BEC5",
                "#B0BEC5",
                "#B0BEC5",
                "#B0BEC5",
                "#B0BEC5",
                "#B0BEC5",
                "#B0BEC5",
                "#B0BEC5",
                "#B0BEC5",
                "#B0BEC5",
                "#B0BEC5",
                "#B0BEC5",
                "#B0BEC5",
                "#B0BEC5",
                "#B0BEC5",
                "#B0BEC5",
                "#B0BEC5",
                "#B0BEC5",
                "#B0BEC5",
                "#B0BEC5",
                "#B0BEC5",
                "#B0BEC5",
                "#B0BEC5",
                "#B0BEC5",
                "#B0BEC5",
                "#B0BEC5",
                "#B0BEC5",
                "#B0BEC5",
                "#B0BEC5",
                "#B0BEC5",
                "#B0BEC5",
                "#B0BEC5",
                "#B0BEC5",
                "#B0BEC5"
               ]
              ]
             }
            ],
            "label": "Topic 27",
            "method": "update"
           },
           {
            "args": [
             {
              "marker.color": [
               [
                "#B0BEC5",
                "#B0BEC5",
                "#B0BEC5",
                "#B0BEC5",
                "#B0BEC5",
                "#B0BEC5",
                "#B0BEC5",
                "#B0BEC5",
                "#B0BEC5",
                "#B0BEC5",
                "#B0BEC5",
                "#B0BEC5",
                "#B0BEC5",
                "#B0BEC5",
                "#B0BEC5",
                "#B0BEC5",
                "#B0BEC5",
                "#B0BEC5",
                "#B0BEC5",
                "#B0BEC5",
                "#B0BEC5",
                "#B0BEC5",
                "#B0BEC5",
                "#B0BEC5",
                "#B0BEC5",
                "#B0BEC5",
                "#B0BEC5",
                "#B0BEC5",
                "red",
                "#B0BEC5",
                "#B0BEC5",
                "#B0BEC5",
                "#B0BEC5",
                "#B0BEC5",
                "#B0BEC5",
                "#B0BEC5",
                "#B0BEC5",
                "#B0BEC5",
                "#B0BEC5",
                "#B0BEC5",
                "#B0BEC5",
                "#B0BEC5",
                "#B0BEC5",
                "#B0BEC5",
                "#B0BEC5",
                "#B0BEC5",
                "#B0BEC5",
                "#B0BEC5",
                "#B0BEC5",
                "#B0BEC5",
                "#B0BEC5",
                "#B0BEC5",
                "#B0BEC5",
                "#B0BEC5",
                "#B0BEC5",
                "#B0BEC5",
                "#B0BEC5",
                "#B0BEC5",
                "#B0BEC5",
                "#B0BEC5",
                "#B0BEC5",
                "#B0BEC5",
                "#B0BEC5"
               ]
              ]
             }
            ],
            "label": "Topic 28",
            "method": "update"
           },
           {
            "args": [
             {
              "marker.color": [
               [
                "#B0BEC5",
                "#B0BEC5",
                "#B0BEC5",
                "#B0BEC5",
                "#B0BEC5",
                "#B0BEC5",
                "#B0BEC5",
                "#B0BEC5",
                "#B0BEC5",
                "#B0BEC5",
                "#B0BEC5",
                "#B0BEC5",
                "#B0BEC5",
                "#B0BEC5",
                "#B0BEC5",
                "#B0BEC5",
                "#B0BEC5",
                "#B0BEC5",
                "#B0BEC5",
                "#B0BEC5",
                "#B0BEC5",
                "#B0BEC5",
                "#B0BEC5",
                "#B0BEC5",
                "#B0BEC5",
                "#B0BEC5",
                "#B0BEC5",
                "#B0BEC5",
                "#B0BEC5",
                "red",
                "#B0BEC5",
                "#B0BEC5",
                "#B0BEC5",
                "#B0BEC5",
                "#B0BEC5",
                "#B0BEC5",
                "#B0BEC5",
                "#B0BEC5",
                "#B0BEC5",
                "#B0BEC5",
                "#B0BEC5",
                "#B0BEC5",
                "#B0BEC5",
                "#B0BEC5",
                "#B0BEC5",
                "#B0BEC5",
                "#B0BEC5",
                "#B0BEC5",
                "#B0BEC5",
                "#B0BEC5",
                "#B0BEC5",
                "#B0BEC5",
                "#B0BEC5",
                "#B0BEC5",
                "#B0BEC5",
                "#B0BEC5",
                "#B0BEC5",
                "#B0BEC5",
                "#B0BEC5",
                "#B0BEC5",
                "#B0BEC5",
                "#B0BEC5",
                "#B0BEC5"
               ]
              ]
             }
            ],
            "label": "Topic 29",
            "method": "update"
           },
           {
            "args": [
             {
              "marker.color": [
               [
                "#B0BEC5",
                "#B0BEC5",
                "#B0BEC5",
                "#B0BEC5",
                "#B0BEC5",
                "#B0BEC5",
                "#B0BEC5",
                "#B0BEC5",
                "#B0BEC5",
                "#B0BEC5",
                "#B0BEC5",
                "#B0BEC5",
                "#B0BEC5",
                "#B0BEC5",
                "#B0BEC5",
                "#B0BEC5",
                "#B0BEC5",
                "#B0BEC5",
                "#B0BEC5",
                "#B0BEC5",
                "#B0BEC5",
                "#B0BEC5",
                "#B0BEC5",
                "#B0BEC5",
                "#B0BEC5",
                "#B0BEC5",
                "#B0BEC5",
                "#B0BEC5",
                "#B0BEC5",
                "#B0BEC5",
                "red",
                "#B0BEC5",
                "#B0BEC5",
                "#B0BEC5",
                "#B0BEC5",
                "#B0BEC5",
                "#B0BEC5",
                "#B0BEC5",
                "#B0BEC5",
                "#B0BEC5",
                "#B0BEC5",
                "#B0BEC5",
                "#B0BEC5",
                "#B0BEC5",
                "#B0BEC5",
                "#B0BEC5",
                "#B0BEC5",
                "#B0BEC5",
                "#B0BEC5",
                "#B0BEC5",
                "#B0BEC5",
                "#B0BEC5",
                "#B0BEC5",
                "#B0BEC5",
                "#B0BEC5",
                "#B0BEC5",
                "#B0BEC5",
                "#B0BEC5",
                "#B0BEC5",
                "#B0BEC5",
                "#B0BEC5",
                "#B0BEC5",
                "#B0BEC5"
               ]
              ]
             }
            ],
            "label": "Topic 30",
            "method": "update"
           },
           {
            "args": [
             {
              "marker.color": [
               [
                "#B0BEC5",
                "#B0BEC5",
                "#B0BEC5",
                "#B0BEC5",
                "#B0BEC5",
                "#B0BEC5",
                "#B0BEC5",
                "#B0BEC5",
                "#B0BEC5",
                "#B0BEC5",
                "#B0BEC5",
                "#B0BEC5",
                "#B0BEC5",
                "#B0BEC5",
                "#B0BEC5",
                "#B0BEC5",
                "#B0BEC5",
                "#B0BEC5",
                "#B0BEC5",
                "#B0BEC5",
                "#B0BEC5",
                "#B0BEC5",
                "#B0BEC5",
                "#B0BEC5",
                "#B0BEC5",
                "#B0BEC5",
                "#B0BEC5",
                "#B0BEC5",
                "#B0BEC5",
                "#B0BEC5",
                "#B0BEC5",
                "red",
                "#B0BEC5",
                "#B0BEC5",
                "#B0BEC5",
                "#B0BEC5",
                "#B0BEC5",
                "#B0BEC5",
                "#B0BEC5",
                "#B0BEC5",
                "#B0BEC5",
                "#B0BEC5",
                "#B0BEC5",
                "#B0BEC5",
                "#B0BEC5",
                "#B0BEC5",
                "#B0BEC5",
                "#B0BEC5",
                "#B0BEC5",
                "#B0BEC5",
                "#B0BEC5",
                "#B0BEC5",
                "#B0BEC5",
                "#B0BEC5",
                "#B0BEC5",
                "#B0BEC5",
                "#B0BEC5",
                "#B0BEC5",
                "#B0BEC5",
                "#B0BEC5",
                "#B0BEC5",
                "#B0BEC5",
                "#B0BEC5"
               ]
              ]
             }
            ],
            "label": "Topic 31",
            "method": "update"
           },
           {
            "args": [
             {
              "marker.color": [
               [
                "#B0BEC5",
                "#B0BEC5",
                "#B0BEC5",
                "#B0BEC5",
                "#B0BEC5",
                "#B0BEC5",
                "#B0BEC5",
                "#B0BEC5",
                "#B0BEC5",
                "#B0BEC5",
                "#B0BEC5",
                "#B0BEC5",
                "#B0BEC5",
                "#B0BEC5",
                "#B0BEC5",
                "#B0BEC5",
                "#B0BEC5",
                "#B0BEC5",
                "#B0BEC5",
                "#B0BEC5",
                "#B0BEC5",
                "#B0BEC5",
                "#B0BEC5",
                "#B0BEC5",
                "#B0BEC5",
                "#B0BEC5",
                "#B0BEC5",
                "#B0BEC5",
                "#B0BEC5",
                "#B0BEC5",
                "#B0BEC5",
                "#B0BEC5",
                "red",
                "#B0BEC5",
                "#B0BEC5",
                "#B0BEC5",
                "#B0BEC5",
                "#B0BEC5",
                "#B0BEC5",
                "#B0BEC5",
                "#B0BEC5",
                "#B0BEC5",
                "#B0BEC5",
                "#B0BEC5",
                "#B0BEC5",
                "#B0BEC5",
                "#B0BEC5",
                "#B0BEC5",
                "#B0BEC5",
                "#B0BEC5",
                "#B0BEC5",
                "#B0BEC5",
                "#B0BEC5",
                "#B0BEC5",
                "#B0BEC5",
                "#B0BEC5",
                "#B0BEC5",
                "#B0BEC5",
                "#B0BEC5",
                "#B0BEC5",
                "#B0BEC5",
                "#B0BEC5",
                "#B0BEC5"
               ]
              ]
             }
            ],
            "label": "Topic 32",
            "method": "update"
           },
           {
            "args": [
             {
              "marker.color": [
               [
                "#B0BEC5",
                "#B0BEC5",
                "#B0BEC5",
                "#B0BEC5",
                "#B0BEC5",
                "#B0BEC5",
                "#B0BEC5",
                "#B0BEC5",
                "#B0BEC5",
                "#B0BEC5",
                "#B0BEC5",
                "#B0BEC5",
                "#B0BEC5",
                "#B0BEC5",
                "#B0BEC5",
                "#B0BEC5",
                "#B0BEC5",
                "#B0BEC5",
                "#B0BEC5",
                "#B0BEC5",
                "#B0BEC5",
                "#B0BEC5",
                "#B0BEC5",
                "#B0BEC5",
                "#B0BEC5",
                "#B0BEC5",
                "#B0BEC5",
                "#B0BEC5",
                "#B0BEC5",
                "#B0BEC5",
                "#B0BEC5",
                "#B0BEC5",
                "#B0BEC5",
                "red",
                "#B0BEC5",
                "#B0BEC5",
                "#B0BEC5",
                "#B0BEC5",
                "#B0BEC5",
                "#B0BEC5",
                "#B0BEC5",
                "#B0BEC5",
                "#B0BEC5",
                "#B0BEC5",
                "#B0BEC5",
                "#B0BEC5",
                "#B0BEC5",
                "#B0BEC5",
                "#B0BEC5",
                "#B0BEC5",
                "#B0BEC5",
                "#B0BEC5",
                "#B0BEC5",
                "#B0BEC5",
                "#B0BEC5",
                "#B0BEC5",
                "#B0BEC5",
                "#B0BEC5",
                "#B0BEC5",
                "#B0BEC5",
                "#B0BEC5",
                "#B0BEC5",
                "#B0BEC5"
               ]
              ]
             }
            ],
            "label": "Topic 33",
            "method": "update"
           },
           {
            "args": [
             {
              "marker.color": [
               [
                "#B0BEC5",
                "#B0BEC5",
                "#B0BEC5",
                "#B0BEC5",
                "#B0BEC5",
                "#B0BEC5",
                "#B0BEC5",
                "#B0BEC5",
                "#B0BEC5",
                "#B0BEC5",
                "#B0BEC5",
                "#B0BEC5",
                "#B0BEC5",
                "#B0BEC5",
                "#B0BEC5",
                "#B0BEC5",
                "#B0BEC5",
                "#B0BEC5",
                "#B0BEC5",
                "#B0BEC5",
                "#B0BEC5",
                "#B0BEC5",
                "#B0BEC5",
                "#B0BEC5",
                "#B0BEC5",
                "#B0BEC5",
                "#B0BEC5",
                "#B0BEC5",
                "#B0BEC5",
                "#B0BEC5",
                "#B0BEC5",
                "#B0BEC5",
                "#B0BEC5",
                "#B0BEC5",
                "red",
                "#B0BEC5",
                "#B0BEC5",
                "#B0BEC5",
                "#B0BEC5",
                "#B0BEC5",
                "#B0BEC5",
                "#B0BEC5",
                "#B0BEC5",
                "#B0BEC5",
                "#B0BEC5",
                "#B0BEC5",
                "#B0BEC5",
                "#B0BEC5",
                "#B0BEC5",
                "#B0BEC5",
                "#B0BEC5",
                "#B0BEC5",
                "#B0BEC5",
                "#B0BEC5",
                "#B0BEC5",
                "#B0BEC5",
                "#B0BEC5",
                "#B0BEC5",
                "#B0BEC5",
                "#B0BEC5",
                "#B0BEC5",
                "#B0BEC5",
                "#B0BEC5"
               ]
              ]
             }
            ],
            "label": "Topic 34",
            "method": "update"
           },
           {
            "args": [
             {
              "marker.color": [
               [
                "#B0BEC5",
                "#B0BEC5",
                "#B0BEC5",
                "#B0BEC5",
                "#B0BEC5",
                "#B0BEC5",
                "#B0BEC5",
                "#B0BEC5",
                "#B0BEC5",
                "#B0BEC5",
                "#B0BEC5",
                "#B0BEC5",
                "#B0BEC5",
                "#B0BEC5",
                "#B0BEC5",
                "#B0BEC5",
                "#B0BEC5",
                "#B0BEC5",
                "#B0BEC5",
                "#B0BEC5",
                "#B0BEC5",
                "#B0BEC5",
                "#B0BEC5",
                "#B0BEC5",
                "#B0BEC5",
                "#B0BEC5",
                "#B0BEC5",
                "#B0BEC5",
                "#B0BEC5",
                "#B0BEC5",
                "#B0BEC5",
                "#B0BEC5",
                "#B0BEC5",
                "#B0BEC5",
                "#B0BEC5",
                "red",
                "#B0BEC5",
                "#B0BEC5",
                "#B0BEC5",
                "#B0BEC5",
                "#B0BEC5",
                "#B0BEC5",
                "#B0BEC5",
                "#B0BEC5",
                "#B0BEC5",
                "#B0BEC5",
                "#B0BEC5",
                "#B0BEC5",
                "#B0BEC5",
                "#B0BEC5",
                "#B0BEC5",
                "#B0BEC5",
                "#B0BEC5",
                "#B0BEC5",
                "#B0BEC5",
                "#B0BEC5",
                "#B0BEC5",
                "#B0BEC5",
                "#B0BEC5",
                "#B0BEC5",
                "#B0BEC5",
                "#B0BEC5",
                "#B0BEC5"
               ]
              ]
             }
            ],
            "label": "Topic 35",
            "method": "update"
           },
           {
            "args": [
             {
              "marker.color": [
               [
                "#B0BEC5",
                "#B0BEC5",
                "#B0BEC5",
                "#B0BEC5",
                "#B0BEC5",
                "#B0BEC5",
                "#B0BEC5",
                "#B0BEC5",
                "#B0BEC5",
                "#B0BEC5",
                "#B0BEC5",
                "#B0BEC5",
                "#B0BEC5",
                "#B0BEC5",
                "#B0BEC5",
                "#B0BEC5",
                "#B0BEC5",
                "#B0BEC5",
                "#B0BEC5",
                "#B0BEC5",
                "#B0BEC5",
                "#B0BEC5",
                "#B0BEC5",
                "#B0BEC5",
                "#B0BEC5",
                "#B0BEC5",
                "#B0BEC5",
                "#B0BEC5",
                "#B0BEC5",
                "#B0BEC5",
                "#B0BEC5",
                "#B0BEC5",
                "#B0BEC5",
                "#B0BEC5",
                "#B0BEC5",
                "#B0BEC5",
                "red",
                "#B0BEC5",
                "#B0BEC5",
                "#B0BEC5",
                "#B0BEC5",
                "#B0BEC5",
                "#B0BEC5",
                "#B0BEC5",
                "#B0BEC5",
                "#B0BEC5",
                "#B0BEC5",
                "#B0BEC5",
                "#B0BEC5",
                "#B0BEC5",
                "#B0BEC5",
                "#B0BEC5",
                "#B0BEC5",
                "#B0BEC5",
                "#B0BEC5",
                "#B0BEC5",
                "#B0BEC5",
                "#B0BEC5",
                "#B0BEC5",
                "#B0BEC5",
                "#B0BEC5",
                "#B0BEC5",
                "#B0BEC5"
               ]
              ]
             }
            ],
            "label": "Topic 36",
            "method": "update"
           },
           {
            "args": [
             {
              "marker.color": [
               [
                "#B0BEC5",
                "#B0BEC5",
                "#B0BEC5",
                "#B0BEC5",
                "#B0BEC5",
                "#B0BEC5",
                "#B0BEC5",
                "#B0BEC5",
                "#B0BEC5",
                "#B0BEC5",
                "#B0BEC5",
                "#B0BEC5",
                "#B0BEC5",
                "#B0BEC5",
                "#B0BEC5",
                "#B0BEC5",
                "#B0BEC5",
                "#B0BEC5",
                "#B0BEC5",
                "#B0BEC5",
                "#B0BEC5",
                "#B0BEC5",
                "#B0BEC5",
                "#B0BEC5",
                "#B0BEC5",
                "#B0BEC5",
                "#B0BEC5",
                "#B0BEC5",
                "#B0BEC5",
                "#B0BEC5",
                "#B0BEC5",
                "#B0BEC5",
                "#B0BEC5",
                "#B0BEC5",
                "#B0BEC5",
                "#B0BEC5",
                "#B0BEC5",
                "red",
                "#B0BEC5",
                "#B0BEC5",
                "#B0BEC5",
                "#B0BEC5",
                "#B0BEC5",
                "#B0BEC5",
                "#B0BEC5",
                "#B0BEC5",
                "#B0BEC5",
                "#B0BEC5",
                "#B0BEC5",
                "#B0BEC5",
                "#B0BEC5",
                "#B0BEC5",
                "#B0BEC5",
                "#B0BEC5",
                "#B0BEC5",
                "#B0BEC5",
                "#B0BEC5",
                "#B0BEC5",
                "#B0BEC5",
                "#B0BEC5",
                "#B0BEC5",
                "#B0BEC5",
                "#B0BEC5"
               ]
              ]
             }
            ],
            "label": "Topic 37",
            "method": "update"
           },
           {
            "args": [
             {
              "marker.color": [
               [
                "#B0BEC5",
                "#B0BEC5",
                "#B0BEC5",
                "#B0BEC5",
                "#B0BEC5",
                "#B0BEC5",
                "#B0BEC5",
                "#B0BEC5",
                "#B0BEC5",
                "#B0BEC5",
                "#B0BEC5",
                "#B0BEC5",
                "#B0BEC5",
                "#B0BEC5",
                "#B0BEC5",
                "#B0BEC5",
                "#B0BEC5",
                "#B0BEC5",
                "#B0BEC5",
                "#B0BEC5",
                "#B0BEC5",
                "#B0BEC5",
                "#B0BEC5",
                "#B0BEC5",
                "#B0BEC5",
                "#B0BEC5",
                "#B0BEC5",
                "#B0BEC5",
                "#B0BEC5",
                "#B0BEC5",
                "#B0BEC5",
                "#B0BEC5",
                "#B0BEC5",
                "#B0BEC5",
                "#B0BEC5",
                "#B0BEC5",
                "#B0BEC5",
                "#B0BEC5",
                "red",
                "#B0BEC5",
                "#B0BEC5",
                "#B0BEC5",
                "#B0BEC5",
                "#B0BEC5",
                "#B0BEC5",
                "#B0BEC5",
                "#B0BEC5",
                "#B0BEC5",
                "#B0BEC5",
                "#B0BEC5",
                "#B0BEC5",
                "#B0BEC5",
                "#B0BEC5",
                "#B0BEC5",
                "#B0BEC5",
                "#B0BEC5",
                "#B0BEC5",
                "#B0BEC5",
                "#B0BEC5",
                "#B0BEC5",
                "#B0BEC5",
                "#B0BEC5",
                "#B0BEC5"
               ]
              ]
             }
            ],
            "label": "Topic 38",
            "method": "update"
           },
           {
            "args": [
             {
              "marker.color": [
               [
                "#B0BEC5",
                "#B0BEC5",
                "#B0BEC5",
                "#B0BEC5",
                "#B0BEC5",
                "#B0BEC5",
                "#B0BEC5",
                "#B0BEC5",
                "#B0BEC5",
                "#B0BEC5",
                "#B0BEC5",
                "#B0BEC5",
                "#B0BEC5",
                "#B0BEC5",
                "#B0BEC5",
                "#B0BEC5",
                "#B0BEC5",
                "#B0BEC5",
                "#B0BEC5",
                "#B0BEC5",
                "#B0BEC5",
                "#B0BEC5",
                "#B0BEC5",
                "#B0BEC5",
                "#B0BEC5",
                "#B0BEC5",
                "#B0BEC5",
                "#B0BEC5",
                "#B0BEC5",
                "#B0BEC5",
                "#B0BEC5",
                "#B0BEC5",
                "#B0BEC5",
                "#B0BEC5",
                "#B0BEC5",
                "#B0BEC5",
                "#B0BEC5",
                "#B0BEC5",
                "#B0BEC5",
                "red",
                "#B0BEC5",
                "#B0BEC5",
                "#B0BEC5",
                "#B0BEC5",
                "#B0BEC5",
                "#B0BEC5",
                "#B0BEC5",
                "#B0BEC5",
                "#B0BEC5",
                "#B0BEC5",
                "#B0BEC5",
                "#B0BEC5",
                "#B0BEC5",
                "#B0BEC5",
                "#B0BEC5",
                "#B0BEC5",
                "#B0BEC5",
                "#B0BEC5",
                "#B0BEC5",
                "#B0BEC5",
                "#B0BEC5",
                "#B0BEC5",
                "#B0BEC5"
               ]
              ]
             }
            ],
            "label": "Topic 39",
            "method": "update"
           },
           {
            "args": [
             {
              "marker.color": [
               [
                "#B0BEC5",
                "#B0BEC5",
                "#B0BEC5",
                "#B0BEC5",
                "#B0BEC5",
                "#B0BEC5",
                "#B0BEC5",
                "#B0BEC5",
                "#B0BEC5",
                "#B0BEC5",
                "#B0BEC5",
                "#B0BEC5",
                "#B0BEC5",
                "#B0BEC5",
                "#B0BEC5",
                "#B0BEC5",
                "#B0BEC5",
                "#B0BEC5",
                "#B0BEC5",
                "#B0BEC5",
                "#B0BEC5",
                "#B0BEC5",
                "#B0BEC5",
                "#B0BEC5",
                "#B0BEC5",
                "#B0BEC5",
                "#B0BEC5",
                "#B0BEC5",
                "#B0BEC5",
                "#B0BEC5",
                "#B0BEC5",
                "#B0BEC5",
                "#B0BEC5",
                "#B0BEC5",
                "#B0BEC5",
                "#B0BEC5",
                "#B0BEC5",
                "#B0BEC5",
                "#B0BEC5",
                "#B0BEC5",
                "red",
                "#B0BEC5",
                "#B0BEC5",
                "#B0BEC5",
                "#B0BEC5",
                "#B0BEC5",
                "#B0BEC5",
                "#B0BEC5",
                "#B0BEC5",
                "#B0BEC5",
                "#B0BEC5",
                "#B0BEC5",
                "#B0BEC5",
                "#B0BEC5",
                "#B0BEC5",
                "#B0BEC5",
                "#B0BEC5",
                "#B0BEC5",
                "#B0BEC5",
                "#B0BEC5",
                "#B0BEC5",
                "#B0BEC5",
                "#B0BEC5"
               ]
              ]
             }
            ],
            "label": "Topic 40",
            "method": "update"
           },
           {
            "args": [
             {
              "marker.color": [
               [
                "#B0BEC5",
                "#B0BEC5",
                "#B0BEC5",
                "#B0BEC5",
                "#B0BEC5",
                "#B0BEC5",
                "#B0BEC5",
                "#B0BEC5",
                "#B0BEC5",
                "#B0BEC5",
                "#B0BEC5",
                "#B0BEC5",
                "#B0BEC5",
                "#B0BEC5",
                "#B0BEC5",
                "#B0BEC5",
                "#B0BEC5",
                "#B0BEC5",
                "#B0BEC5",
                "#B0BEC5",
                "#B0BEC5",
                "#B0BEC5",
                "#B0BEC5",
                "#B0BEC5",
                "#B0BEC5",
                "#B0BEC5",
                "#B0BEC5",
                "#B0BEC5",
                "#B0BEC5",
                "#B0BEC5",
                "#B0BEC5",
                "#B0BEC5",
                "#B0BEC5",
                "#B0BEC5",
                "#B0BEC5",
                "#B0BEC5",
                "#B0BEC5",
                "#B0BEC5",
                "#B0BEC5",
                "#B0BEC5",
                "#B0BEC5",
                "red",
                "#B0BEC5",
                "#B0BEC5",
                "#B0BEC5",
                "#B0BEC5",
                "#B0BEC5",
                "#B0BEC5",
                "#B0BEC5",
                "#B0BEC5",
                "#B0BEC5",
                "#B0BEC5",
                "#B0BEC5",
                "#B0BEC5",
                "#B0BEC5",
                "#B0BEC5",
                "#B0BEC5",
                "#B0BEC5",
                "#B0BEC5",
                "#B0BEC5",
                "#B0BEC5",
                "#B0BEC5",
                "#B0BEC5"
               ]
              ]
             }
            ],
            "label": "Topic 41",
            "method": "update"
           },
           {
            "args": [
             {
              "marker.color": [
               [
                "#B0BEC5",
                "#B0BEC5",
                "#B0BEC5",
                "#B0BEC5",
                "#B0BEC5",
                "#B0BEC5",
                "#B0BEC5",
                "#B0BEC5",
                "#B0BEC5",
                "#B0BEC5",
                "#B0BEC5",
                "#B0BEC5",
                "#B0BEC5",
                "#B0BEC5",
                "#B0BEC5",
                "#B0BEC5",
                "#B0BEC5",
                "#B0BEC5",
                "#B0BEC5",
                "#B0BEC5",
                "#B0BEC5",
                "#B0BEC5",
                "#B0BEC5",
                "#B0BEC5",
                "#B0BEC5",
                "#B0BEC5",
                "#B0BEC5",
                "#B0BEC5",
                "#B0BEC5",
                "#B0BEC5",
                "#B0BEC5",
                "#B0BEC5",
                "#B0BEC5",
                "#B0BEC5",
                "#B0BEC5",
                "#B0BEC5",
                "#B0BEC5",
                "#B0BEC5",
                "#B0BEC5",
                "#B0BEC5",
                "#B0BEC5",
                "#B0BEC5",
                "red",
                "#B0BEC5",
                "#B0BEC5",
                "#B0BEC5",
                "#B0BEC5",
                "#B0BEC5",
                "#B0BEC5",
                "#B0BEC5",
                "#B0BEC5",
                "#B0BEC5",
                "#B0BEC5",
                "#B0BEC5",
                "#B0BEC5",
                "#B0BEC5",
                "#B0BEC5",
                "#B0BEC5",
                "#B0BEC5",
                "#B0BEC5",
                "#B0BEC5",
                "#B0BEC5",
                "#B0BEC5"
               ]
              ]
             }
            ],
            "label": "Topic 42",
            "method": "update"
           },
           {
            "args": [
             {
              "marker.color": [
               [
                "#B0BEC5",
                "#B0BEC5",
                "#B0BEC5",
                "#B0BEC5",
                "#B0BEC5",
                "#B0BEC5",
                "#B0BEC5",
                "#B0BEC5",
                "#B0BEC5",
                "#B0BEC5",
                "#B0BEC5",
                "#B0BEC5",
                "#B0BEC5",
                "#B0BEC5",
                "#B0BEC5",
                "#B0BEC5",
                "#B0BEC5",
                "#B0BEC5",
                "#B0BEC5",
                "#B0BEC5",
                "#B0BEC5",
                "#B0BEC5",
                "#B0BEC5",
                "#B0BEC5",
                "#B0BEC5",
                "#B0BEC5",
                "#B0BEC5",
                "#B0BEC5",
                "#B0BEC5",
                "#B0BEC5",
                "#B0BEC5",
                "#B0BEC5",
                "#B0BEC5",
                "#B0BEC5",
                "#B0BEC5",
                "#B0BEC5",
                "#B0BEC5",
                "#B0BEC5",
                "#B0BEC5",
                "#B0BEC5",
                "#B0BEC5",
                "#B0BEC5",
                "#B0BEC5",
                "red",
                "#B0BEC5",
                "#B0BEC5",
                "#B0BEC5",
                "#B0BEC5",
                "#B0BEC5",
                "#B0BEC5",
                "#B0BEC5",
                "#B0BEC5",
                "#B0BEC5",
                "#B0BEC5",
                "#B0BEC5",
                "#B0BEC5",
                "#B0BEC5",
                "#B0BEC5",
                "#B0BEC5",
                "#B0BEC5",
                "#B0BEC5",
                "#B0BEC5",
                "#B0BEC5"
               ]
              ]
             }
            ],
            "label": "Topic 43",
            "method": "update"
           },
           {
            "args": [
             {
              "marker.color": [
               [
                "#B0BEC5",
                "#B0BEC5",
                "#B0BEC5",
                "#B0BEC5",
                "#B0BEC5",
                "#B0BEC5",
                "#B0BEC5",
                "#B0BEC5",
                "#B0BEC5",
                "#B0BEC5",
                "#B0BEC5",
                "#B0BEC5",
                "#B0BEC5",
                "#B0BEC5",
                "#B0BEC5",
                "#B0BEC5",
                "#B0BEC5",
                "#B0BEC5",
                "#B0BEC5",
                "#B0BEC5",
                "#B0BEC5",
                "#B0BEC5",
                "#B0BEC5",
                "#B0BEC5",
                "#B0BEC5",
                "#B0BEC5",
                "#B0BEC5",
                "#B0BEC5",
                "#B0BEC5",
                "#B0BEC5",
                "#B0BEC5",
                "#B0BEC5",
                "#B0BEC5",
                "#B0BEC5",
                "#B0BEC5",
                "#B0BEC5",
                "#B0BEC5",
                "#B0BEC5",
                "#B0BEC5",
                "#B0BEC5",
                "#B0BEC5",
                "#B0BEC5",
                "#B0BEC5",
                "#B0BEC5",
                "red",
                "#B0BEC5",
                "#B0BEC5",
                "#B0BEC5",
                "#B0BEC5",
                "#B0BEC5",
                "#B0BEC5",
                "#B0BEC5",
                "#B0BEC5",
                "#B0BEC5",
                "#B0BEC5",
                "#B0BEC5",
                "#B0BEC5",
                "#B0BEC5",
                "#B0BEC5",
                "#B0BEC5",
                "#B0BEC5",
                "#B0BEC5",
                "#B0BEC5"
               ]
              ]
             }
            ],
            "label": "Topic 44",
            "method": "update"
           },
           {
            "args": [
             {
              "marker.color": [
               [
                "#B0BEC5",
                "#B0BEC5",
                "#B0BEC5",
                "#B0BEC5",
                "#B0BEC5",
                "#B0BEC5",
                "#B0BEC5",
                "#B0BEC5",
                "#B0BEC5",
                "#B0BEC5",
                "#B0BEC5",
                "#B0BEC5",
                "#B0BEC5",
                "#B0BEC5",
                "#B0BEC5",
                "#B0BEC5",
                "#B0BEC5",
                "#B0BEC5",
                "#B0BEC5",
                "#B0BEC5",
                "#B0BEC5",
                "#B0BEC5",
                "#B0BEC5",
                "#B0BEC5",
                "#B0BEC5",
                "#B0BEC5",
                "#B0BEC5",
                "#B0BEC5",
                "#B0BEC5",
                "#B0BEC5",
                "#B0BEC5",
                "#B0BEC5",
                "#B0BEC5",
                "#B0BEC5",
                "#B0BEC5",
                "#B0BEC5",
                "#B0BEC5",
                "#B0BEC5",
                "#B0BEC5",
                "#B0BEC5",
                "#B0BEC5",
                "#B0BEC5",
                "#B0BEC5",
                "#B0BEC5",
                "#B0BEC5",
                "red",
                "#B0BEC5",
                "#B0BEC5",
                "#B0BEC5",
                "#B0BEC5",
                "#B0BEC5",
                "#B0BEC5",
                "#B0BEC5",
                "#B0BEC5",
                "#B0BEC5",
                "#B0BEC5",
                "#B0BEC5",
                "#B0BEC5",
                "#B0BEC5",
                "#B0BEC5",
                "#B0BEC5",
                "#B0BEC5",
                "#B0BEC5"
               ]
              ]
             }
            ],
            "label": "Topic 45",
            "method": "update"
           },
           {
            "args": [
             {
              "marker.color": [
               [
                "#B0BEC5",
                "#B0BEC5",
                "#B0BEC5",
                "#B0BEC5",
                "#B0BEC5",
                "#B0BEC5",
                "#B0BEC5",
                "#B0BEC5",
                "#B0BEC5",
                "#B0BEC5",
                "#B0BEC5",
                "#B0BEC5",
                "#B0BEC5",
                "#B0BEC5",
                "#B0BEC5",
                "#B0BEC5",
                "#B0BEC5",
                "#B0BEC5",
                "#B0BEC5",
                "#B0BEC5",
                "#B0BEC5",
                "#B0BEC5",
                "#B0BEC5",
                "#B0BEC5",
                "#B0BEC5",
                "#B0BEC5",
                "#B0BEC5",
                "#B0BEC5",
                "#B0BEC5",
                "#B0BEC5",
                "#B0BEC5",
                "#B0BEC5",
                "#B0BEC5",
                "#B0BEC5",
                "#B0BEC5",
                "#B0BEC5",
                "#B0BEC5",
                "#B0BEC5",
                "#B0BEC5",
                "#B0BEC5",
                "#B0BEC5",
                "#B0BEC5",
                "#B0BEC5",
                "#B0BEC5",
                "#B0BEC5",
                "#B0BEC5",
                "red",
                "#B0BEC5",
                "#B0BEC5",
                "#B0BEC5",
                "#B0BEC5",
                "#B0BEC5",
                "#B0BEC5",
                "#B0BEC5",
                "#B0BEC5",
                "#B0BEC5",
                "#B0BEC5",
                "#B0BEC5",
                "#B0BEC5",
                "#B0BEC5",
                "#B0BEC5",
                "#B0BEC5",
                "#B0BEC5"
               ]
              ]
             }
            ],
            "label": "Topic 46",
            "method": "update"
           },
           {
            "args": [
             {
              "marker.color": [
               [
                "#B0BEC5",
                "#B0BEC5",
                "#B0BEC5",
                "#B0BEC5",
                "#B0BEC5",
                "#B0BEC5",
                "#B0BEC5",
                "#B0BEC5",
                "#B0BEC5",
                "#B0BEC5",
                "#B0BEC5",
                "#B0BEC5",
                "#B0BEC5",
                "#B0BEC5",
                "#B0BEC5",
                "#B0BEC5",
                "#B0BEC5",
                "#B0BEC5",
                "#B0BEC5",
                "#B0BEC5",
                "#B0BEC5",
                "#B0BEC5",
                "#B0BEC5",
                "#B0BEC5",
                "#B0BEC5",
                "#B0BEC5",
                "#B0BEC5",
                "#B0BEC5",
                "#B0BEC5",
                "#B0BEC5",
                "#B0BEC5",
                "#B0BEC5",
                "#B0BEC5",
                "#B0BEC5",
                "#B0BEC5",
                "#B0BEC5",
                "#B0BEC5",
                "#B0BEC5",
                "#B0BEC5",
                "#B0BEC5",
                "#B0BEC5",
                "#B0BEC5",
                "#B0BEC5",
                "#B0BEC5",
                "#B0BEC5",
                "#B0BEC5",
                "#B0BEC5",
                "red",
                "#B0BEC5",
                "#B0BEC5",
                "#B0BEC5",
                "#B0BEC5",
                "#B0BEC5",
                "#B0BEC5",
                "#B0BEC5",
                "#B0BEC5",
                "#B0BEC5",
                "#B0BEC5",
                "#B0BEC5",
                "#B0BEC5",
                "#B0BEC5",
                "#B0BEC5",
                "#B0BEC5"
               ]
              ]
             }
            ],
            "label": "Topic 47",
            "method": "update"
           },
           {
            "args": [
             {
              "marker.color": [
               [
                "#B0BEC5",
                "#B0BEC5",
                "#B0BEC5",
                "#B0BEC5",
                "#B0BEC5",
                "#B0BEC5",
                "#B0BEC5",
                "#B0BEC5",
                "#B0BEC5",
                "#B0BEC5",
                "#B0BEC5",
                "#B0BEC5",
                "#B0BEC5",
                "#B0BEC5",
                "#B0BEC5",
                "#B0BEC5",
                "#B0BEC5",
                "#B0BEC5",
                "#B0BEC5",
                "#B0BEC5",
                "#B0BEC5",
                "#B0BEC5",
                "#B0BEC5",
                "#B0BEC5",
                "#B0BEC5",
                "#B0BEC5",
                "#B0BEC5",
                "#B0BEC5",
                "#B0BEC5",
                "#B0BEC5",
                "#B0BEC5",
                "#B0BEC5",
                "#B0BEC5",
                "#B0BEC5",
                "#B0BEC5",
                "#B0BEC5",
                "#B0BEC5",
                "#B0BEC5",
                "#B0BEC5",
                "#B0BEC5",
                "#B0BEC5",
                "#B0BEC5",
                "#B0BEC5",
                "#B0BEC5",
                "#B0BEC5",
                "#B0BEC5",
                "#B0BEC5",
                "#B0BEC5",
                "red",
                "#B0BEC5",
                "#B0BEC5",
                "#B0BEC5",
                "#B0BEC5",
                "#B0BEC5",
                "#B0BEC5",
                "#B0BEC5",
                "#B0BEC5",
                "#B0BEC5",
                "#B0BEC5",
                "#B0BEC5",
                "#B0BEC5",
                "#B0BEC5",
                "#B0BEC5"
               ]
              ]
             }
            ],
            "label": "Topic 48",
            "method": "update"
           },
           {
            "args": [
             {
              "marker.color": [
               [
                "#B0BEC5",
                "#B0BEC5",
                "#B0BEC5",
                "#B0BEC5",
                "#B0BEC5",
                "#B0BEC5",
                "#B0BEC5",
                "#B0BEC5",
                "#B0BEC5",
                "#B0BEC5",
                "#B0BEC5",
                "#B0BEC5",
                "#B0BEC5",
                "#B0BEC5",
                "#B0BEC5",
                "#B0BEC5",
                "#B0BEC5",
                "#B0BEC5",
                "#B0BEC5",
                "#B0BEC5",
                "#B0BEC5",
                "#B0BEC5",
                "#B0BEC5",
                "#B0BEC5",
                "#B0BEC5",
                "#B0BEC5",
                "#B0BEC5",
                "#B0BEC5",
                "#B0BEC5",
                "#B0BEC5",
                "#B0BEC5",
                "#B0BEC5",
                "#B0BEC5",
                "#B0BEC5",
                "#B0BEC5",
                "#B0BEC5",
                "#B0BEC5",
                "#B0BEC5",
                "#B0BEC5",
                "#B0BEC5",
                "#B0BEC5",
                "#B0BEC5",
                "#B0BEC5",
                "#B0BEC5",
                "#B0BEC5",
                "#B0BEC5",
                "#B0BEC5",
                "#B0BEC5",
                "#B0BEC5",
                "red",
                "#B0BEC5",
                "#B0BEC5",
                "#B0BEC5",
                "#B0BEC5",
                "#B0BEC5",
                "#B0BEC5",
                "#B0BEC5",
                "#B0BEC5",
                "#B0BEC5",
                "#B0BEC5",
                "#B0BEC5",
                "#B0BEC5",
                "#B0BEC5"
               ]
              ]
             }
            ],
            "label": "Topic 49",
            "method": "update"
           },
           {
            "args": [
             {
              "marker.color": [
               [
                "#B0BEC5",
                "#B0BEC5",
                "#B0BEC5",
                "#B0BEC5",
                "#B0BEC5",
                "#B0BEC5",
                "#B0BEC5",
                "#B0BEC5",
                "#B0BEC5",
                "#B0BEC5",
                "#B0BEC5",
                "#B0BEC5",
                "#B0BEC5",
                "#B0BEC5",
                "#B0BEC5",
                "#B0BEC5",
                "#B0BEC5",
                "#B0BEC5",
                "#B0BEC5",
                "#B0BEC5",
                "#B0BEC5",
                "#B0BEC5",
                "#B0BEC5",
                "#B0BEC5",
                "#B0BEC5",
                "#B0BEC5",
                "#B0BEC5",
                "#B0BEC5",
                "#B0BEC5",
                "#B0BEC5",
                "#B0BEC5",
                "#B0BEC5",
                "#B0BEC5",
                "#B0BEC5",
                "#B0BEC5",
                "#B0BEC5",
                "#B0BEC5",
                "#B0BEC5",
                "#B0BEC5",
                "#B0BEC5",
                "#B0BEC5",
                "#B0BEC5",
                "#B0BEC5",
                "#B0BEC5",
                "#B0BEC5",
                "#B0BEC5",
                "#B0BEC5",
                "#B0BEC5",
                "#B0BEC5",
                "#B0BEC5",
                "red",
                "#B0BEC5",
                "#B0BEC5",
                "#B0BEC5",
                "#B0BEC5",
                "#B0BEC5",
                "#B0BEC5",
                "#B0BEC5",
                "#B0BEC5",
                "#B0BEC5",
                "#B0BEC5",
                "#B0BEC5",
                "#B0BEC5"
               ]
              ]
             }
            ],
            "label": "Topic 50",
            "method": "update"
           },
           {
            "args": [
             {
              "marker.color": [
               [
                "#B0BEC5",
                "#B0BEC5",
                "#B0BEC5",
                "#B0BEC5",
                "#B0BEC5",
                "#B0BEC5",
                "#B0BEC5",
                "#B0BEC5",
                "#B0BEC5",
                "#B0BEC5",
                "#B0BEC5",
                "#B0BEC5",
                "#B0BEC5",
                "#B0BEC5",
                "#B0BEC5",
                "#B0BEC5",
                "#B0BEC5",
                "#B0BEC5",
                "#B0BEC5",
                "#B0BEC5",
                "#B0BEC5",
                "#B0BEC5",
                "#B0BEC5",
                "#B0BEC5",
                "#B0BEC5",
                "#B0BEC5",
                "#B0BEC5",
                "#B0BEC5",
                "#B0BEC5",
                "#B0BEC5",
                "#B0BEC5",
                "#B0BEC5",
                "#B0BEC5",
                "#B0BEC5",
                "#B0BEC5",
                "#B0BEC5",
                "#B0BEC5",
                "#B0BEC5",
                "#B0BEC5",
                "#B0BEC5",
                "#B0BEC5",
                "#B0BEC5",
                "#B0BEC5",
                "#B0BEC5",
                "#B0BEC5",
                "#B0BEC5",
                "#B0BEC5",
                "#B0BEC5",
                "#B0BEC5",
                "#B0BEC5",
                "#B0BEC5",
                "red",
                "#B0BEC5",
                "#B0BEC5",
                "#B0BEC5",
                "#B0BEC5",
                "#B0BEC5",
                "#B0BEC5",
                "#B0BEC5",
                "#B0BEC5",
                "#B0BEC5",
                "#B0BEC5",
                "#B0BEC5"
               ]
              ]
             }
            ],
            "label": "Topic 51",
            "method": "update"
           },
           {
            "args": [
             {
              "marker.color": [
               [
                "#B0BEC5",
                "#B0BEC5",
                "#B0BEC5",
                "#B0BEC5",
                "#B0BEC5",
                "#B0BEC5",
                "#B0BEC5",
                "#B0BEC5",
                "#B0BEC5",
                "#B0BEC5",
                "#B0BEC5",
                "#B0BEC5",
                "#B0BEC5",
                "#B0BEC5",
                "#B0BEC5",
                "#B0BEC5",
                "#B0BEC5",
                "#B0BEC5",
                "#B0BEC5",
                "#B0BEC5",
                "#B0BEC5",
                "#B0BEC5",
                "#B0BEC5",
                "#B0BEC5",
                "#B0BEC5",
                "#B0BEC5",
                "#B0BEC5",
                "#B0BEC5",
                "#B0BEC5",
                "#B0BEC5",
                "#B0BEC5",
                "#B0BEC5",
                "#B0BEC5",
                "#B0BEC5",
                "#B0BEC5",
                "#B0BEC5",
                "#B0BEC5",
                "#B0BEC5",
                "#B0BEC5",
                "#B0BEC5",
                "#B0BEC5",
                "#B0BEC5",
                "#B0BEC5",
                "#B0BEC5",
                "#B0BEC5",
                "#B0BEC5",
                "#B0BEC5",
                "#B0BEC5",
                "#B0BEC5",
                "#B0BEC5",
                "#B0BEC5",
                "#B0BEC5",
                "red",
                "#B0BEC5",
                "#B0BEC5",
                "#B0BEC5",
                "#B0BEC5",
                "#B0BEC5",
                "#B0BEC5",
                "#B0BEC5",
                "#B0BEC5",
                "#B0BEC5",
                "#B0BEC5"
               ]
              ]
             }
            ],
            "label": "Topic 52",
            "method": "update"
           },
           {
            "args": [
             {
              "marker.color": [
               [
                "#B0BEC5",
                "#B0BEC5",
                "#B0BEC5",
                "#B0BEC5",
                "#B0BEC5",
                "#B0BEC5",
                "#B0BEC5",
                "#B0BEC5",
                "#B0BEC5",
                "#B0BEC5",
                "#B0BEC5",
                "#B0BEC5",
                "#B0BEC5",
                "#B0BEC5",
                "#B0BEC5",
                "#B0BEC5",
                "#B0BEC5",
                "#B0BEC5",
                "#B0BEC5",
                "#B0BEC5",
                "#B0BEC5",
                "#B0BEC5",
                "#B0BEC5",
                "#B0BEC5",
                "#B0BEC5",
                "#B0BEC5",
                "#B0BEC5",
                "#B0BEC5",
                "#B0BEC5",
                "#B0BEC5",
                "#B0BEC5",
                "#B0BEC5",
                "#B0BEC5",
                "#B0BEC5",
                "#B0BEC5",
                "#B0BEC5",
                "#B0BEC5",
                "#B0BEC5",
                "#B0BEC5",
                "#B0BEC5",
                "#B0BEC5",
                "#B0BEC5",
                "#B0BEC5",
                "#B0BEC5",
                "#B0BEC5",
                "#B0BEC5",
                "#B0BEC5",
                "#B0BEC5",
                "#B0BEC5",
                "#B0BEC5",
                "#B0BEC5",
                "#B0BEC5",
                "#B0BEC5",
                "red",
                "#B0BEC5",
                "#B0BEC5",
                "#B0BEC5",
                "#B0BEC5",
                "#B0BEC5",
                "#B0BEC5",
                "#B0BEC5",
                "#B0BEC5",
                "#B0BEC5"
               ]
              ]
             }
            ],
            "label": "Topic 53",
            "method": "update"
           },
           {
            "args": [
             {
              "marker.color": [
               [
                "#B0BEC5",
                "#B0BEC5",
                "#B0BEC5",
                "#B0BEC5",
                "#B0BEC5",
                "#B0BEC5",
                "#B0BEC5",
                "#B0BEC5",
                "#B0BEC5",
                "#B0BEC5",
                "#B0BEC5",
                "#B0BEC5",
                "#B0BEC5",
                "#B0BEC5",
                "#B0BEC5",
                "#B0BEC5",
                "#B0BEC5",
                "#B0BEC5",
                "#B0BEC5",
                "#B0BEC5",
                "#B0BEC5",
                "#B0BEC5",
                "#B0BEC5",
                "#B0BEC5",
                "#B0BEC5",
                "#B0BEC5",
                "#B0BEC5",
                "#B0BEC5",
                "#B0BEC5",
                "#B0BEC5",
                "#B0BEC5",
                "#B0BEC5",
                "#B0BEC5",
                "#B0BEC5",
                "#B0BEC5",
                "#B0BEC5",
                "#B0BEC5",
                "#B0BEC5",
                "#B0BEC5",
                "#B0BEC5",
                "#B0BEC5",
                "#B0BEC5",
                "#B0BEC5",
                "#B0BEC5",
                "#B0BEC5",
                "#B0BEC5",
                "#B0BEC5",
                "#B0BEC5",
                "#B0BEC5",
                "#B0BEC5",
                "#B0BEC5",
                "#B0BEC5",
                "#B0BEC5",
                "#B0BEC5",
                "red",
                "#B0BEC5",
                "#B0BEC5",
                "#B0BEC5",
                "#B0BEC5",
                "#B0BEC5",
                "#B0BEC5",
                "#B0BEC5",
                "#B0BEC5"
               ]
              ]
             }
            ],
            "label": "Topic 54",
            "method": "update"
           },
           {
            "args": [
             {
              "marker.color": [
               [
                "#B0BEC5",
                "#B0BEC5",
                "#B0BEC5",
                "#B0BEC5",
                "#B0BEC5",
                "#B0BEC5",
                "#B0BEC5",
                "#B0BEC5",
                "#B0BEC5",
                "#B0BEC5",
                "#B0BEC5",
                "#B0BEC5",
                "#B0BEC5",
                "#B0BEC5",
                "#B0BEC5",
                "#B0BEC5",
                "#B0BEC5",
                "#B0BEC5",
                "#B0BEC5",
                "#B0BEC5",
                "#B0BEC5",
                "#B0BEC5",
                "#B0BEC5",
                "#B0BEC5",
                "#B0BEC5",
                "#B0BEC5",
                "#B0BEC5",
                "#B0BEC5",
                "#B0BEC5",
                "#B0BEC5",
                "#B0BEC5",
                "#B0BEC5",
                "#B0BEC5",
                "#B0BEC5",
                "#B0BEC5",
                "#B0BEC5",
                "#B0BEC5",
                "#B0BEC5",
                "#B0BEC5",
                "#B0BEC5",
                "#B0BEC5",
                "#B0BEC5",
                "#B0BEC5",
                "#B0BEC5",
                "#B0BEC5",
                "#B0BEC5",
                "#B0BEC5",
                "#B0BEC5",
                "#B0BEC5",
                "#B0BEC5",
                "#B0BEC5",
                "#B0BEC5",
                "#B0BEC5",
                "#B0BEC5",
                "#B0BEC5",
                "red",
                "#B0BEC5",
                "#B0BEC5",
                "#B0BEC5",
                "#B0BEC5",
                "#B0BEC5",
                "#B0BEC5",
                "#B0BEC5"
               ]
              ]
             }
            ],
            "label": "Topic 55",
            "method": "update"
           },
           {
            "args": [
             {
              "marker.color": [
               [
                "#B0BEC5",
                "#B0BEC5",
                "#B0BEC5",
                "#B0BEC5",
                "#B0BEC5",
                "#B0BEC5",
                "#B0BEC5",
                "#B0BEC5",
                "#B0BEC5",
                "#B0BEC5",
                "#B0BEC5",
                "#B0BEC5",
                "#B0BEC5",
                "#B0BEC5",
                "#B0BEC5",
                "#B0BEC5",
                "#B0BEC5",
                "#B0BEC5",
                "#B0BEC5",
                "#B0BEC5",
                "#B0BEC5",
                "#B0BEC5",
                "#B0BEC5",
                "#B0BEC5",
                "#B0BEC5",
                "#B0BEC5",
                "#B0BEC5",
                "#B0BEC5",
                "#B0BEC5",
                "#B0BEC5",
                "#B0BEC5",
                "#B0BEC5",
                "#B0BEC5",
                "#B0BEC5",
                "#B0BEC5",
                "#B0BEC5",
                "#B0BEC5",
                "#B0BEC5",
                "#B0BEC5",
                "#B0BEC5",
                "#B0BEC5",
                "#B0BEC5",
                "#B0BEC5",
                "#B0BEC5",
                "#B0BEC5",
                "#B0BEC5",
                "#B0BEC5",
                "#B0BEC5",
                "#B0BEC5",
                "#B0BEC5",
                "#B0BEC5",
                "#B0BEC5",
                "#B0BEC5",
                "#B0BEC5",
                "#B0BEC5",
                "#B0BEC5",
                "red",
                "#B0BEC5",
                "#B0BEC5",
                "#B0BEC5",
                "#B0BEC5",
                "#B0BEC5",
                "#B0BEC5"
               ]
              ]
             }
            ],
            "label": "Topic 56",
            "method": "update"
           },
           {
            "args": [
             {
              "marker.color": [
               [
                "#B0BEC5",
                "#B0BEC5",
                "#B0BEC5",
                "#B0BEC5",
                "#B0BEC5",
                "#B0BEC5",
                "#B0BEC5",
                "#B0BEC5",
                "#B0BEC5",
                "#B0BEC5",
                "#B0BEC5",
                "#B0BEC5",
                "#B0BEC5",
                "#B0BEC5",
                "#B0BEC5",
                "#B0BEC5",
                "#B0BEC5",
                "#B0BEC5",
                "#B0BEC5",
                "#B0BEC5",
                "#B0BEC5",
                "#B0BEC5",
                "#B0BEC5",
                "#B0BEC5",
                "#B0BEC5",
                "#B0BEC5",
                "#B0BEC5",
                "#B0BEC5",
                "#B0BEC5",
                "#B0BEC5",
                "#B0BEC5",
                "#B0BEC5",
                "#B0BEC5",
                "#B0BEC5",
                "#B0BEC5",
                "#B0BEC5",
                "#B0BEC5",
                "#B0BEC5",
                "#B0BEC5",
                "#B0BEC5",
                "#B0BEC5",
                "#B0BEC5",
                "#B0BEC5",
                "#B0BEC5",
                "#B0BEC5",
                "#B0BEC5",
                "#B0BEC5",
                "#B0BEC5",
                "#B0BEC5",
                "#B0BEC5",
                "#B0BEC5",
                "#B0BEC5",
                "#B0BEC5",
                "#B0BEC5",
                "#B0BEC5",
                "#B0BEC5",
                "#B0BEC5",
                "red",
                "#B0BEC5",
                "#B0BEC5",
                "#B0BEC5",
                "#B0BEC5",
                "#B0BEC5"
               ]
              ]
             }
            ],
            "label": "Topic 57",
            "method": "update"
           },
           {
            "args": [
             {
              "marker.color": [
               [
                "#B0BEC5",
                "#B0BEC5",
                "#B0BEC5",
                "#B0BEC5",
                "#B0BEC5",
                "#B0BEC5",
                "#B0BEC5",
                "#B0BEC5",
                "#B0BEC5",
                "#B0BEC5",
                "#B0BEC5",
                "#B0BEC5",
                "#B0BEC5",
                "#B0BEC5",
                "#B0BEC5",
                "#B0BEC5",
                "#B0BEC5",
                "#B0BEC5",
                "#B0BEC5",
                "#B0BEC5",
                "#B0BEC5",
                "#B0BEC5",
                "#B0BEC5",
                "#B0BEC5",
                "#B0BEC5",
                "#B0BEC5",
                "#B0BEC5",
                "#B0BEC5",
                "#B0BEC5",
                "#B0BEC5",
                "#B0BEC5",
                "#B0BEC5",
                "#B0BEC5",
                "#B0BEC5",
                "#B0BEC5",
                "#B0BEC5",
                "#B0BEC5",
                "#B0BEC5",
                "#B0BEC5",
                "#B0BEC5",
                "#B0BEC5",
                "#B0BEC5",
                "#B0BEC5",
                "#B0BEC5",
                "#B0BEC5",
                "#B0BEC5",
                "#B0BEC5",
                "#B0BEC5",
                "#B0BEC5",
                "#B0BEC5",
                "#B0BEC5",
                "#B0BEC5",
                "#B0BEC5",
                "#B0BEC5",
                "#B0BEC5",
                "#B0BEC5",
                "#B0BEC5",
                "#B0BEC5",
                "red",
                "#B0BEC5",
                "#B0BEC5",
                "#B0BEC5",
                "#B0BEC5"
               ]
              ]
             }
            ],
            "label": "Topic 58",
            "method": "update"
           },
           {
            "args": [
             {
              "marker.color": [
               [
                "#B0BEC5",
                "#B0BEC5",
                "#B0BEC5",
                "#B0BEC5",
                "#B0BEC5",
                "#B0BEC5",
                "#B0BEC5",
                "#B0BEC5",
                "#B0BEC5",
                "#B0BEC5",
                "#B0BEC5",
                "#B0BEC5",
                "#B0BEC5",
                "#B0BEC5",
                "#B0BEC5",
                "#B0BEC5",
                "#B0BEC5",
                "#B0BEC5",
                "#B0BEC5",
                "#B0BEC5",
                "#B0BEC5",
                "#B0BEC5",
                "#B0BEC5",
                "#B0BEC5",
                "#B0BEC5",
                "#B0BEC5",
                "#B0BEC5",
                "#B0BEC5",
                "#B0BEC5",
                "#B0BEC5",
                "#B0BEC5",
                "#B0BEC5",
                "#B0BEC5",
                "#B0BEC5",
                "#B0BEC5",
                "#B0BEC5",
                "#B0BEC5",
                "#B0BEC5",
                "#B0BEC5",
                "#B0BEC5",
                "#B0BEC5",
                "#B0BEC5",
                "#B0BEC5",
                "#B0BEC5",
                "#B0BEC5",
                "#B0BEC5",
                "#B0BEC5",
                "#B0BEC5",
                "#B0BEC5",
                "#B0BEC5",
                "#B0BEC5",
                "#B0BEC5",
                "#B0BEC5",
                "#B0BEC5",
                "#B0BEC5",
                "#B0BEC5",
                "#B0BEC5",
                "#B0BEC5",
                "#B0BEC5",
                "red",
                "#B0BEC5",
                "#B0BEC5",
                "#B0BEC5"
               ]
              ]
             }
            ],
            "label": "Topic 59",
            "method": "update"
           },
           {
            "args": [
             {
              "marker.color": [
               [
                "#B0BEC5",
                "#B0BEC5",
                "#B0BEC5",
                "#B0BEC5",
                "#B0BEC5",
                "#B0BEC5",
                "#B0BEC5",
                "#B0BEC5",
                "#B0BEC5",
                "#B0BEC5",
                "#B0BEC5",
                "#B0BEC5",
                "#B0BEC5",
                "#B0BEC5",
                "#B0BEC5",
                "#B0BEC5",
                "#B0BEC5",
                "#B0BEC5",
                "#B0BEC5",
                "#B0BEC5",
                "#B0BEC5",
                "#B0BEC5",
                "#B0BEC5",
                "#B0BEC5",
                "#B0BEC5",
                "#B0BEC5",
                "#B0BEC5",
                "#B0BEC5",
                "#B0BEC5",
                "#B0BEC5",
                "#B0BEC5",
                "#B0BEC5",
                "#B0BEC5",
                "#B0BEC5",
                "#B0BEC5",
                "#B0BEC5",
                "#B0BEC5",
                "#B0BEC5",
                "#B0BEC5",
                "#B0BEC5",
                "#B0BEC5",
                "#B0BEC5",
                "#B0BEC5",
                "#B0BEC5",
                "#B0BEC5",
                "#B0BEC5",
                "#B0BEC5",
                "#B0BEC5",
                "#B0BEC5",
                "#B0BEC5",
                "#B0BEC5",
                "#B0BEC5",
                "#B0BEC5",
                "#B0BEC5",
                "#B0BEC5",
                "#B0BEC5",
                "#B0BEC5",
                "#B0BEC5",
                "#B0BEC5",
                "#B0BEC5",
                "red",
                "#B0BEC5",
                "#B0BEC5"
               ]
              ]
             }
            ],
            "label": "Topic 60",
            "method": "update"
           },
           {
            "args": [
             {
              "marker.color": [
               [
                "#B0BEC5",
                "#B0BEC5",
                "#B0BEC5",
                "#B0BEC5",
                "#B0BEC5",
                "#B0BEC5",
                "#B0BEC5",
                "#B0BEC5",
                "#B0BEC5",
                "#B0BEC5",
                "#B0BEC5",
                "#B0BEC5",
                "#B0BEC5",
                "#B0BEC5",
                "#B0BEC5",
                "#B0BEC5",
                "#B0BEC5",
                "#B0BEC5",
                "#B0BEC5",
                "#B0BEC5",
                "#B0BEC5",
                "#B0BEC5",
                "#B0BEC5",
                "#B0BEC5",
                "#B0BEC5",
                "#B0BEC5",
                "#B0BEC5",
                "#B0BEC5",
                "#B0BEC5",
                "#B0BEC5",
                "#B0BEC5",
                "#B0BEC5",
                "#B0BEC5",
                "#B0BEC5",
                "#B0BEC5",
                "#B0BEC5",
                "#B0BEC5",
                "#B0BEC5",
                "#B0BEC5",
                "#B0BEC5",
                "#B0BEC5",
                "#B0BEC5",
                "#B0BEC5",
                "#B0BEC5",
                "#B0BEC5",
                "#B0BEC5",
                "#B0BEC5",
                "#B0BEC5",
                "#B0BEC5",
                "#B0BEC5",
                "#B0BEC5",
                "#B0BEC5",
                "#B0BEC5",
                "#B0BEC5",
                "#B0BEC5",
                "#B0BEC5",
                "#B0BEC5",
                "#B0BEC5",
                "#B0BEC5",
                "#B0BEC5",
                "#B0BEC5",
                "red",
                "#B0BEC5"
               ]
              ]
             }
            ],
            "label": "Topic 61",
            "method": "update"
           },
           {
            "args": [
             {
              "marker.color": [
               [
                "#B0BEC5",
                "#B0BEC5",
                "#B0BEC5",
                "#B0BEC5",
                "#B0BEC5",
                "#B0BEC5",
                "#B0BEC5",
                "#B0BEC5",
                "#B0BEC5",
                "#B0BEC5",
                "#B0BEC5",
                "#B0BEC5",
                "#B0BEC5",
                "#B0BEC5",
                "#B0BEC5",
                "#B0BEC5",
                "#B0BEC5",
                "#B0BEC5",
                "#B0BEC5",
                "#B0BEC5",
                "#B0BEC5",
                "#B0BEC5",
                "#B0BEC5",
                "#B0BEC5",
                "#B0BEC5",
                "#B0BEC5",
                "#B0BEC5",
                "#B0BEC5",
                "#B0BEC5",
                "#B0BEC5",
                "#B0BEC5",
                "#B0BEC5",
                "#B0BEC5",
                "#B0BEC5",
                "#B0BEC5",
                "#B0BEC5",
                "#B0BEC5",
                "#B0BEC5",
                "#B0BEC5",
                "#B0BEC5",
                "#B0BEC5",
                "#B0BEC5",
                "#B0BEC5",
                "#B0BEC5",
                "#B0BEC5",
                "#B0BEC5",
                "#B0BEC5",
                "#B0BEC5",
                "#B0BEC5",
                "#B0BEC5",
                "#B0BEC5",
                "#B0BEC5",
                "#B0BEC5",
                "#B0BEC5",
                "#B0BEC5",
                "#B0BEC5",
                "#B0BEC5",
                "#B0BEC5",
                "#B0BEC5",
                "#B0BEC5",
                "#B0BEC5",
                "#B0BEC5",
                "red"
               ]
              ]
             }
            ],
            "label": "Topic 62",
            "method": "update"
           }
          ]
         }
        ],
        "template": {
         "data": {
          "bar": [
           {
            "error_x": {
             "color": "rgb(36,36,36)"
            },
            "error_y": {
             "color": "rgb(36,36,36)"
            },
            "marker": {
             "line": {
              "color": "white",
              "width": 0.5
             },
             "pattern": {
              "fillmode": "overlay",
              "size": 10,
              "solidity": 0.2
             }
            },
            "type": "bar"
           }
          ],
          "barpolar": [
           {
            "marker": {
             "line": {
              "color": "white",
              "width": 0.5
             },
             "pattern": {
              "fillmode": "overlay",
              "size": 10,
              "solidity": 0.2
             }
            },
            "type": "barpolar"
           }
          ],
          "carpet": [
           {
            "aaxis": {
             "endlinecolor": "rgb(36,36,36)",
             "gridcolor": "white",
             "linecolor": "white",
             "minorgridcolor": "white",
             "startlinecolor": "rgb(36,36,36)"
            },
            "baxis": {
             "endlinecolor": "rgb(36,36,36)",
             "gridcolor": "white",
             "linecolor": "white",
             "minorgridcolor": "white",
             "startlinecolor": "rgb(36,36,36)"
            },
            "type": "carpet"
           }
          ],
          "choropleth": [
           {
            "colorbar": {
             "outlinewidth": 1,
             "tickcolor": "rgb(36,36,36)",
             "ticks": "outside"
            },
            "type": "choropleth"
           }
          ],
          "contour": [
           {
            "colorbar": {
             "outlinewidth": 1,
             "tickcolor": "rgb(36,36,36)",
             "ticks": "outside"
            },
            "colorscale": [
             [
              0,
              "#440154"
             ],
             [
              0.1111111111111111,
              "#482878"
             ],
             [
              0.2222222222222222,
              "#3e4989"
             ],
             [
              0.3333333333333333,
              "#31688e"
             ],
             [
              0.4444444444444444,
              "#26828e"
             ],
             [
              0.5555555555555556,
              "#1f9e89"
             ],
             [
              0.6666666666666666,
              "#35b779"
             ],
             [
              0.7777777777777778,
              "#6ece58"
             ],
             [
              0.8888888888888888,
              "#b5de2b"
             ],
             [
              1,
              "#fde725"
             ]
            ],
            "type": "contour"
           }
          ],
          "contourcarpet": [
           {
            "colorbar": {
             "outlinewidth": 1,
             "tickcolor": "rgb(36,36,36)",
             "ticks": "outside"
            },
            "type": "contourcarpet"
           }
          ],
          "heatmap": [
           {
            "colorbar": {
             "outlinewidth": 1,
             "tickcolor": "rgb(36,36,36)",
             "ticks": "outside"
            },
            "colorscale": [
             [
              0,
              "#440154"
             ],
             [
              0.1111111111111111,
              "#482878"
             ],
             [
              0.2222222222222222,
              "#3e4989"
             ],
             [
              0.3333333333333333,
              "#31688e"
             ],
             [
              0.4444444444444444,
              "#26828e"
             ],
             [
              0.5555555555555556,
              "#1f9e89"
             ],
             [
              0.6666666666666666,
              "#35b779"
             ],
             [
              0.7777777777777778,
              "#6ece58"
             ],
             [
              0.8888888888888888,
              "#b5de2b"
             ],
             [
              1,
              "#fde725"
             ]
            ],
            "type": "heatmap"
           }
          ],
          "histogram": [
           {
            "marker": {
             "line": {
              "color": "white",
              "width": 0.6
             }
            },
            "type": "histogram"
           }
          ],
          "histogram2d": [
           {
            "colorbar": {
             "outlinewidth": 1,
             "tickcolor": "rgb(36,36,36)",
             "ticks": "outside"
            },
            "colorscale": [
             [
              0,
              "#440154"
             ],
             [
              0.1111111111111111,
              "#482878"
             ],
             [
              0.2222222222222222,
              "#3e4989"
             ],
             [
              0.3333333333333333,
              "#31688e"
             ],
             [
              0.4444444444444444,
              "#26828e"
             ],
             [
              0.5555555555555556,
              "#1f9e89"
             ],
             [
              0.6666666666666666,
              "#35b779"
             ],
             [
              0.7777777777777778,
              "#6ece58"
             ],
             [
              0.8888888888888888,
              "#b5de2b"
             ],
             [
              1,
              "#fde725"
             ]
            ],
            "type": "histogram2d"
           }
          ],
          "histogram2dcontour": [
           {
            "colorbar": {
             "outlinewidth": 1,
             "tickcolor": "rgb(36,36,36)",
             "ticks": "outside"
            },
            "colorscale": [
             [
              0,
              "#440154"
             ],
             [
              0.1111111111111111,
              "#482878"
             ],
             [
              0.2222222222222222,
              "#3e4989"
             ],
             [
              0.3333333333333333,
              "#31688e"
             ],
             [
              0.4444444444444444,
              "#26828e"
             ],
             [
              0.5555555555555556,
              "#1f9e89"
             ],
             [
              0.6666666666666666,
              "#35b779"
             ],
             [
              0.7777777777777778,
              "#6ece58"
             ],
             [
              0.8888888888888888,
              "#b5de2b"
             ],
             [
              1,
              "#fde725"
             ]
            ],
            "type": "histogram2dcontour"
           }
          ],
          "mesh3d": [
           {
            "colorbar": {
             "outlinewidth": 1,
             "tickcolor": "rgb(36,36,36)",
             "ticks": "outside"
            },
            "type": "mesh3d"
           }
          ],
          "parcoords": [
           {
            "line": {
             "colorbar": {
              "outlinewidth": 1,
              "tickcolor": "rgb(36,36,36)",
              "ticks": "outside"
             }
            },
            "type": "parcoords"
           }
          ],
          "pie": [
           {
            "automargin": true,
            "type": "pie"
           }
          ],
          "scatter": [
           {
            "fillpattern": {
             "fillmode": "overlay",
             "size": 10,
             "solidity": 0.2
            },
            "type": "scatter"
           }
          ],
          "scatter3d": [
           {
            "line": {
             "colorbar": {
              "outlinewidth": 1,
              "tickcolor": "rgb(36,36,36)",
              "ticks": "outside"
             }
            },
            "marker": {
             "colorbar": {
              "outlinewidth": 1,
              "tickcolor": "rgb(36,36,36)",
              "ticks": "outside"
             }
            },
            "type": "scatter3d"
           }
          ],
          "scattercarpet": [
           {
            "marker": {
             "colorbar": {
              "outlinewidth": 1,
              "tickcolor": "rgb(36,36,36)",
              "ticks": "outside"
             }
            },
            "type": "scattercarpet"
           }
          ],
          "scattergeo": [
           {
            "marker": {
             "colorbar": {
              "outlinewidth": 1,
              "tickcolor": "rgb(36,36,36)",
              "ticks": "outside"
             }
            },
            "type": "scattergeo"
           }
          ],
          "scattergl": [
           {
            "marker": {
             "colorbar": {
              "outlinewidth": 1,
              "tickcolor": "rgb(36,36,36)",
              "ticks": "outside"
             }
            },
            "type": "scattergl"
           }
          ],
          "scattermap": [
           {
            "marker": {
             "colorbar": {
              "outlinewidth": 1,
              "tickcolor": "rgb(36,36,36)",
              "ticks": "outside"
             }
            },
            "type": "scattermap"
           }
          ],
          "scattermapbox": [
           {
            "marker": {
             "colorbar": {
              "outlinewidth": 1,
              "tickcolor": "rgb(36,36,36)",
              "ticks": "outside"
             }
            },
            "type": "scattermapbox"
           }
          ],
          "scatterpolar": [
           {
            "marker": {
             "colorbar": {
              "outlinewidth": 1,
              "tickcolor": "rgb(36,36,36)",
              "ticks": "outside"
             }
            },
            "type": "scatterpolar"
           }
          ],
          "scatterpolargl": [
           {
            "marker": {
             "colorbar": {
              "outlinewidth": 1,
              "tickcolor": "rgb(36,36,36)",
              "ticks": "outside"
             }
            },
            "type": "scatterpolargl"
           }
          ],
          "scatterternary": [
           {
            "marker": {
             "colorbar": {
              "outlinewidth": 1,
              "tickcolor": "rgb(36,36,36)",
              "ticks": "outside"
             }
            },
            "type": "scatterternary"
           }
          ],
          "surface": [
           {
            "colorbar": {
             "outlinewidth": 1,
             "tickcolor": "rgb(36,36,36)",
             "ticks": "outside"
            },
            "colorscale": [
             [
              0,
              "#440154"
             ],
             [
              0.1111111111111111,
              "#482878"
             ],
             [
              0.2222222222222222,
              "#3e4989"
             ],
             [
              0.3333333333333333,
              "#31688e"
             ],
             [
              0.4444444444444444,
              "#26828e"
             ],
             [
              0.5555555555555556,
              "#1f9e89"
             ],
             [
              0.6666666666666666,
              "#35b779"
             ],
             [
              0.7777777777777778,
              "#6ece58"
             ],
             [
              0.8888888888888888,
              "#b5de2b"
             ],
             [
              1,
              "#fde725"
             ]
            ],
            "type": "surface"
           }
          ],
          "table": [
           {
            "cells": {
             "fill": {
              "color": "rgb(237,237,237)"
             },
             "line": {
              "color": "white"
             }
            },
            "header": {
             "fill": {
              "color": "rgb(217,217,217)"
             },
             "line": {
              "color": "white"
             }
            },
            "type": "table"
           }
          ]
         },
         "layout": {
          "annotationdefaults": {
           "arrowhead": 0,
           "arrowwidth": 1
          },
          "autotypenumbers": "strict",
          "coloraxis": {
           "colorbar": {
            "outlinewidth": 1,
            "tickcolor": "rgb(36,36,36)",
            "ticks": "outside"
           }
          },
          "colorscale": {
           "diverging": [
            [
             0,
             "rgb(103,0,31)"
            ],
            [
             0.1,
             "rgb(178,24,43)"
            ],
            [
             0.2,
             "rgb(214,96,77)"
            ],
            [
             0.3,
             "rgb(244,165,130)"
            ],
            [
             0.4,
             "rgb(253,219,199)"
            ],
            [
             0.5,
             "rgb(247,247,247)"
            ],
            [
             0.6,
             "rgb(209,229,240)"
            ],
            [
             0.7,
             "rgb(146,197,222)"
            ],
            [
             0.8,
             "rgb(67,147,195)"
            ],
            [
             0.9,
             "rgb(33,102,172)"
            ],
            [
             1,
             "rgb(5,48,97)"
            ]
           ],
           "sequential": [
            [
             0,
             "#440154"
            ],
            [
             0.1111111111111111,
             "#482878"
            ],
            [
             0.2222222222222222,
             "#3e4989"
            ],
            [
             0.3333333333333333,
             "#31688e"
            ],
            [
             0.4444444444444444,
             "#26828e"
            ],
            [
             0.5555555555555556,
             "#1f9e89"
            ],
            [
             0.6666666666666666,
             "#35b779"
            ],
            [
             0.7777777777777778,
             "#6ece58"
            ],
            [
             0.8888888888888888,
             "#b5de2b"
            ],
            [
             1,
             "#fde725"
            ]
           ],
           "sequentialminus": [
            [
             0,
             "#440154"
            ],
            [
             0.1111111111111111,
             "#482878"
            ],
            [
             0.2222222222222222,
             "#3e4989"
            ],
            [
             0.3333333333333333,
             "#31688e"
            ],
            [
             0.4444444444444444,
             "#26828e"
            ],
            [
             0.5555555555555556,
             "#1f9e89"
            ],
            [
             0.6666666666666666,
             "#35b779"
            ],
            [
             0.7777777777777778,
             "#6ece58"
            ],
            [
             0.8888888888888888,
             "#b5de2b"
            ],
            [
             1,
             "#fde725"
            ]
           ]
          },
          "colorway": [
           "#1F77B4",
           "#FF7F0E",
           "#2CA02C",
           "#D62728",
           "#9467BD",
           "#8C564B",
           "#E377C2",
           "#7F7F7F",
           "#BCBD22",
           "#17BECF"
          ],
          "font": {
           "color": "rgb(36,36,36)"
          },
          "geo": {
           "bgcolor": "white",
           "lakecolor": "white",
           "landcolor": "white",
           "showlakes": true,
           "showland": true,
           "subunitcolor": "white"
          },
          "hoverlabel": {
           "align": "left"
          },
          "hovermode": "closest",
          "mapbox": {
           "style": "light"
          },
          "paper_bgcolor": "white",
          "plot_bgcolor": "white",
          "polar": {
           "angularaxis": {
            "gridcolor": "rgb(232,232,232)",
            "linecolor": "rgb(36,36,36)",
            "showgrid": false,
            "showline": true,
            "ticks": "outside"
           },
           "bgcolor": "white",
           "radialaxis": {
            "gridcolor": "rgb(232,232,232)",
            "linecolor": "rgb(36,36,36)",
            "showgrid": false,
            "showline": true,
            "ticks": "outside"
           }
          },
          "scene": {
           "xaxis": {
            "backgroundcolor": "white",
            "gridcolor": "rgb(232,232,232)",
            "gridwidth": 2,
            "linecolor": "rgb(36,36,36)",
            "showbackground": true,
            "showgrid": false,
            "showline": true,
            "ticks": "outside",
            "zeroline": false,
            "zerolinecolor": "rgb(36,36,36)"
           },
           "yaxis": {
            "backgroundcolor": "white",
            "gridcolor": "rgb(232,232,232)",
            "gridwidth": 2,
            "linecolor": "rgb(36,36,36)",
            "showbackground": true,
            "showgrid": false,
            "showline": true,
            "ticks": "outside",
            "zeroline": false,
            "zerolinecolor": "rgb(36,36,36)"
           },
           "zaxis": {
            "backgroundcolor": "white",
            "gridcolor": "rgb(232,232,232)",
            "gridwidth": 2,
            "linecolor": "rgb(36,36,36)",
            "showbackground": true,
            "showgrid": false,
            "showline": true,
            "ticks": "outside",
            "zeroline": false,
            "zerolinecolor": "rgb(36,36,36)"
           }
          },
          "shapedefaults": {
           "fillcolor": "black",
           "line": {
            "width": 0
           },
           "opacity": 0.3
          },
          "ternary": {
           "aaxis": {
            "gridcolor": "rgb(232,232,232)",
            "linecolor": "rgb(36,36,36)",
            "showgrid": false,
            "showline": true,
            "ticks": "outside"
           },
           "baxis": {
            "gridcolor": "rgb(232,232,232)",
            "linecolor": "rgb(36,36,36)",
            "showgrid": false,
            "showline": true,
            "ticks": "outside"
           },
           "bgcolor": "white",
           "caxis": {
            "gridcolor": "rgb(232,232,232)",
            "linecolor": "rgb(36,36,36)",
            "showgrid": false,
            "showline": true,
            "ticks": "outside"
           }
          },
          "title": {
           "x": 0.05
          },
          "xaxis": {
           "automargin": true,
           "gridcolor": "rgb(232,232,232)",
           "linecolor": "rgb(36,36,36)",
           "showgrid": false,
           "showline": true,
           "ticks": "outside",
           "title": {
            "standoff": 15
           },
           "zeroline": false,
           "zerolinecolor": "rgb(36,36,36)"
          },
          "yaxis": {
           "automargin": true,
           "gridcolor": "rgb(232,232,232)",
           "linecolor": "rgb(36,36,36)",
           "showgrid": false,
           "showline": true,
           "ticks": "outside",
           "title": {
            "standoff": 15
           },
           "zeroline": false,
           "zerolinecolor": "rgb(36,36,36)"
          }
         }
        },
        "title": {
         "font": {
          "color": "Black",
          "size": 22
         },
         "text": "<b>Intertopic Distance Map</b>",
         "x": 0.5,
         "xanchor": "center",
         "y": 0.95,
         "yanchor": "top"
        },
        "width": 650,
        "xaxis": {
         "anchor": "y",
         "domain": [
          0,
          1
         ],
         "range": [
          -13.0552339553833,
          25.999557495117188
         ],
         "title": {
          "text": ""
         },
         "visible": false
        },
        "yaxis": {
         "anchor": "x",
         "domain": [
          0,
          1
         ],
         "range": [
          -9.135477066040039,
          22.897571563720703
         ],
         "title": {
          "text": ""
         },
         "visible": false
        }
       }
      }
     },
     "metadata": {},
     "output_type": "display_data"
    },
    {
     "data": {
      "application/vnd.plotly.v1+json": {
       "config": {
        "plotlyServerURL": "https://plot.ly"
       },
       "data": [
        {
         "marker": {
          "color": "#D55E00"
         },
         "orientation": "h",
         "type": "bar",
         "x": [
          0.009343474285959648,
          0.009415578458019484,
          0.009578575935959807,
          0.011782588508996793,
          0.01223572319850401
         ],
         "xaxis": "x",
         "y": [
          "music  ",
          "star  ",
          "story  ",
          "film  ",
          "life  "
         ],
         "yaxis": "y"
        },
        {
         "marker": {
          "color": "#0072B2"
         },
         "orientation": "h",
         "type": "bar",
         "x": [
          0.011852311200155216,
          0.011920235959545538,
          0.011957397648825746,
          0.014549038410903424,
          0.023808592839689946
         ],
         "xaxis": "x2",
         "y": [
          "evil  ",
          "power  ",
          "goku  ",
          "ancient  ",
          "king  "
         ],
         "yaxis": "y2"
        },
        {
         "marker": {
          "color": "#CC79A7"
         },
         "orientation": "h",
         "type": "bar",
         "x": [
          0.015526581025993054,
          0.01562891252057518,
          0.016271059931627568,
          0.021876612820203416,
          0.027303812191775734
         ],
         "xaxis": "x3",
         "y": [
          "officer  ",
          "case  ",
          "killer  ",
          "cop  ",
          "police  "
         ],
         "yaxis": "y3"
        },
        {
         "marker": {
          "color": "#E69F00"
         },
         "orientation": "h",
         "type": "bar",
         "x": [
          0.03135525433217237,
          0.036249243350598655,
          0.03682555984014845,
          0.041983800570128835,
          0.045461276217037404
         ],
         "xaxis": "x4",
         "y": [
          "crew  ",
          "alien  ",
          "space  ",
          "planet  ",
          "earth  "
         ],
         "yaxis": "y4"
        },
        {
         "marker": {
          "color": "#56B4E9"
         },
         "orientation": "h",
         "type": "bar",
         "x": [
          0.04329406832090438,
          0.04399594242248224,
          0.04399594242248224,
          0.051986311891579054,
          0.057250489197007114
         ],
         "xaxis": "x5",
         "y": [
          "ii  ",
          "world war ii  ",
          "war ii  ",
          "world war  ",
          "war  "
         ],
         "yaxis": "y5"
        },
        {
         "marker": {
          "color": "#009E73"
         },
         "orientation": "h",
         "type": "bar",
         "x": [
          0.013439693832771648,
          0.015609686604346383,
          0.01716441041510359,
          0.019627219832179615,
          0.029786810510720546
         ],
         "xaxis": "x6",
         "y": [
          "group friends  ",
          "deserted  ",
          "discover  ",
          "friends  ",
          "group  "
         ],
         "yaxis": "y6"
        },
        {
         "marker": {
          "color": "#F0E442"
         },
         "orientation": "h",
         "type": "bar",
         "x": [
          0.017741166213506104,
          0.020939726188273524,
          0.022214221067732652,
          0.026635779860458633,
          0.04137153496351926
         ],
         "xaxis": "x7",
         "y": [
          "international  ",
          "government  ",
          "nuclear  ",
          "agent  ",
          "cia  "
         ],
         "yaxis": "y7"
        },
        {
         "marker": {
          "color": "#D55E00"
         },
         "orientation": "h",
         "type": "bar",
         "x": [
          0.020338156581155252,
          0.023720225583149394,
          0.02527343155469933,
          0.02929343014713073,
          0.03766298161773951
         ],
         "xaxis": "x8",
         "y": [
          "outbreak  ",
          "infected  ",
          "zombies  ",
          "survivors  ",
          "virus  "
         ],
         "yaxis": "y8"
        },
        {
         "marker": {
          "color": "#0072B2"
         },
         "orientation": "h",
         "type": "bar",
         "x": [
          0.02348824708447961,
          0.026366809141766555,
          0.02654369825616613,
          0.032779829016577625,
          0.03304212809518906
         ],
         "xaxis": "x9",
         "y": [
          "relationships  ",
          "friends  ",
          "couple  ",
          "love  ",
          "relationship  "
         ],
         "yaxis": "y9"
        },
        {
         "marker": {
          "color": "#CC79A7"
         },
         "orientation": "h",
         "type": "bar",
         "x": [
          0.032281097877621866,
          0.0332137246986779,
          0.037290844913009984,
          0.03766388278272345,
          0.06306486810948582
         ],
         "xaxis": "x10",
         "y": [
          "student  ",
          "high  ",
          "high school  ",
          "students  ",
          "school  "
         ],
         "yaxis": "y10"
        }
       ],
       "layout": {
        "annotations": [
         {
          "font": {
           "size": 16
          },
          "showarrow": false,
          "text": "Topic 0",
          "x": 0.0875,
          "xanchor": "center",
          "xref": "paper",
          "y": 1,
          "yanchor": "bottom",
          "yref": "paper"
         },
         {
          "font": {
           "size": 16
          },
          "showarrow": false,
          "text": "Topic 1",
          "x": 0.36250000000000004,
          "xanchor": "center",
          "xref": "paper",
          "y": 1,
          "yanchor": "bottom",
          "yref": "paper"
         },
         {
          "font": {
           "size": 16
          },
          "showarrow": false,
          "text": "Topic 2",
          "x": 0.6375000000000001,
          "xanchor": "center",
          "xref": "paper",
          "y": 1,
          "yanchor": "bottom",
          "yref": "paper"
         },
         {
          "font": {
           "size": 16
          },
          "showarrow": false,
          "text": "Topic 3",
          "x": 0.9125,
          "xanchor": "center",
          "xref": "paper",
          "y": 1,
          "yanchor": "bottom",
          "yref": "paper"
         },
         {
          "font": {
           "size": 16
          },
          "showarrow": false,
          "text": "Topic 4",
          "x": 0.0875,
          "xanchor": "center",
          "xref": "paper",
          "y": 0.6222222222222222,
          "yanchor": "bottom",
          "yref": "paper"
         },
         {
          "font": {
           "size": 16
          },
          "showarrow": false,
          "text": "Topic 5",
          "x": 0.36250000000000004,
          "xanchor": "center",
          "xref": "paper",
          "y": 0.6222222222222222,
          "yanchor": "bottom",
          "yref": "paper"
         },
         {
          "font": {
           "size": 16
          },
          "showarrow": false,
          "text": "Topic 6",
          "x": 0.6375000000000001,
          "xanchor": "center",
          "xref": "paper",
          "y": 0.6222222222222222,
          "yanchor": "bottom",
          "yref": "paper"
         },
         {
          "font": {
           "size": 16
          },
          "showarrow": false,
          "text": "Topic 7",
          "x": 0.9125,
          "xanchor": "center",
          "xref": "paper",
          "y": 0.6222222222222222,
          "yanchor": "bottom",
          "yref": "paper"
         },
         {
          "font": {
           "size": 16
          },
          "showarrow": false,
          "text": "Topic 8",
          "x": 0.0875,
          "xanchor": "center",
          "xref": "paper",
          "y": 0.24444444444444446,
          "yanchor": "bottom",
          "yref": "paper"
         },
         {
          "font": {
           "size": 16
          },
          "showarrow": false,
          "text": "Topic 9",
          "x": 0.36250000000000004,
          "xanchor": "center",
          "xref": "paper",
          "y": 0.24444444444444446,
          "yanchor": "bottom",
          "yref": "paper"
         }
        ],
        "height": 750,
        "hoverlabel": {
         "bgcolor": "white",
         "font": {
          "family": "Rockwell",
          "size": 16
         }
        },
        "showlegend": false,
        "template": {
         "data": {
          "bar": [
           {
            "error_x": {
             "color": "#2a3f5f"
            },
            "error_y": {
             "color": "#2a3f5f"
            },
            "marker": {
             "line": {
              "color": "white",
              "width": 0.5
             },
             "pattern": {
              "fillmode": "overlay",
              "size": 10,
              "solidity": 0.2
             }
            },
            "type": "bar"
           }
          ],
          "barpolar": [
           {
            "marker": {
             "line": {
              "color": "white",
              "width": 0.5
             },
             "pattern": {
              "fillmode": "overlay",
              "size": 10,
              "solidity": 0.2
             }
            },
            "type": "barpolar"
           }
          ],
          "carpet": [
           {
            "aaxis": {
             "endlinecolor": "#2a3f5f",
             "gridcolor": "#C8D4E3",
             "linecolor": "#C8D4E3",
             "minorgridcolor": "#C8D4E3",
             "startlinecolor": "#2a3f5f"
            },
            "baxis": {
             "endlinecolor": "#2a3f5f",
             "gridcolor": "#C8D4E3",
             "linecolor": "#C8D4E3",
             "minorgridcolor": "#C8D4E3",
             "startlinecolor": "#2a3f5f"
            },
            "type": "carpet"
           }
          ],
          "choropleth": [
           {
            "colorbar": {
             "outlinewidth": 0,
             "ticks": ""
            },
            "type": "choropleth"
           }
          ],
          "contour": [
           {
            "colorbar": {
             "outlinewidth": 0,
             "ticks": ""
            },
            "colorscale": [
             [
              0,
              "#0d0887"
             ],
             [
              0.1111111111111111,
              "#46039f"
             ],
             [
              0.2222222222222222,
              "#7201a8"
             ],
             [
              0.3333333333333333,
              "#9c179e"
             ],
             [
              0.4444444444444444,
              "#bd3786"
             ],
             [
              0.5555555555555556,
              "#d8576b"
             ],
             [
              0.6666666666666666,
              "#ed7953"
             ],
             [
              0.7777777777777778,
              "#fb9f3a"
             ],
             [
              0.8888888888888888,
              "#fdca26"
             ],
             [
              1,
              "#f0f921"
             ]
            ],
            "type": "contour"
           }
          ],
          "contourcarpet": [
           {
            "colorbar": {
             "outlinewidth": 0,
             "ticks": ""
            },
            "type": "contourcarpet"
           }
          ],
          "heatmap": [
           {
            "colorbar": {
             "outlinewidth": 0,
             "ticks": ""
            },
            "colorscale": [
             [
              0,
              "#0d0887"
             ],
             [
              0.1111111111111111,
              "#46039f"
             ],
             [
              0.2222222222222222,
              "#7201a8"
             ],
             [
              0.3333333333333333,
              "#9c179e"
             ],
             [
              0.4444444444444444,
              "#bd3786"
             ],
             [
              0.5555555555555556,
              "#d8576b"
             ],
             [
              0.6666666666666666,
              "#ed7953"
             ],
             [
              0.7777777777777778,
              "#fb9f3a"
             ],
             [
              0.8888888888888888,
              "#fdca26"
             ],
             [
              1,
              "#f0f921"
             ]
            ],
            "type": "heatmap"
           }
          ],
          "histogram": [
           {
            "marker": {
             "pattern": {
              "fillmode": "overlay",
              "size": 10,
              "solidity": 0.2
             }
            },
            "type": "histogram"
           }
          ],
          "histogram2d": [
           {
            "colorbar": {
             "outlinewidth": 0,
             "ticks": ""
            },
            "colorscale": [
             [
              0,
              "#0d0887"
             ],
             [
              0.1111111111111111,
              "#46039f"
             ],
             [
              0.2222222222222222,
              "#7201a8"
             ],
             [
              0.3333333333333333,
              "#9c179e"
             ],
             [
              0.4444444444444444,
              "#bd3786"
             ],
             [
              0.5555555555555556,
              "#d8576b"
             ],
             [
              0.6666666666666666,
              "#ed7953"
             ],
             [
              0.7777777777777778,
              "#fb9f3a"
             ],
             [
              0.8888888888888888,
              "#fdca26"
             ],
             [
              1,
              "#f0f921"
             ]
            ],
            "type": "histogram2d"
           }
          ],
          "histogram2dcontour": [
           {
            "colorbar": {
             "outlinewidth": 0,
             "ticks": ""
            },
            "colorscale": [
             [
              0,
              "#0d0887"
             ],
             [
              0.1111111111111111,
              "#46039f"
             ],
             [
              0.2222222222222222,
              "#7201a8"
             ],
             [
              0.3333333333333333,
              "#9c179e"
             ],
             [
              0.4444444444444444,
              "#bd3786"
             ],
             [
              0.5555555555555556,
              "#d8576b"
             ],
             [
              0.6666666666666666,
              "#ed7953"
             ],
             [
              0.7777777777777778,
              "#fb9f3a"
             ],
             [
              0.8888888888888888,
              "#fdca26"
             ],
             [
              1,
              "#f0f921"
             ]
            ],
            "type": "histogram2dcontour"
           }
          ],
          "mesh3d": [
           {
            "colorbar": {
             "outlinewidth": 0,
             "ticks": ""
            },
            "type": "mesh3d"
           }
          ],
          "parcoords": [
           {
            "line": {
             "colorbar": {
              "outlinewidth": 0,
              "ticks": ""
             }
            },
            "type": "parcoords"
           }
          ],
          "pie": [
           {
            "automargin": true,
            "type": "pie"
           }
          ],
          "scatter": [
           {
            "fillpattern": {
             "fillmode": "overlay",
             "size": 10,
             "solidity": 0.2
            },
            "type": "scatter"
           }
          ],
          "scatter3d": [
           {
            "line": {
             "colorbar": {
              "outlinewidth": 0,
              "ticks": ""
             }
            },
            "marker": {
             "colorbar": {
              "outlinewidth": 0,
              "ticks": ""
             }
            },
            "type": "scatter3d"
           }
          ],
          "scattercarpet": [
           {
            "marker": {
             "colorbar": {
              "outlinewidth": 0,
              "ticks": ""
             }
            },
            "type": "scattercarpet"
           }
          ],
          "scattergeo": [
           {
            "marker": {
             "colorbar": {
              "outlinewidth": 0,
              "ticks": ""
             }
            },
            "type": "scattergeo"
           }
          ],
          "scattergl": [
           {
            "marker": {
             "colorbar": {
              "outlinewidth": 0,
              "ticks": ""
             }
            },
            "type": "scattergl"
           }
          ],
          "scattermap": [
           {
            "marker": {
             "colorbar": {
              "outlinewidth": 0,
              "ticks": ""
             }
            },
            "type": "scattermap"
           }
          ],
          "scattermapbox": [
           {
            "marker": {
             "colorbar": {
              "outlinewidth": 0,
              "ticks": ""
             }
            },
            "type": "scattermapbox"
           }
          ],
          "scatterpolar": [
           {
            "marker": {
             "colorbar": {
              "outlinewidth": 0,
              "ticks": ""
             }
            },
            "type": "scatterpolar"
           }
          ],
          "scatterpolargl": [
           {
            "marker": {
             "colorbar": {
              "outlinewidth": 0,
              "ticks": ""
             }
            },
            "type": "scatterpolargl"
           }
          ],
          "scatterternary": [
           {
            "marker": {
             "colorbar": {
              "outlinewidth": 0,
              "ticks": ""
             }
            },
            "type": "scatterternary"
           }
          ],
          "surface": [
           {
            "colorbar": {
             "outlinewidth": 0,
             "ticks": ""
            },
            "colorscale": [
             [
              0,
              "#0d0887"
             ],
             [
              0.1111111111111111,
              "#46039f"
             ],
             [
              0.2222222222222222,
              "#7201a8"
             ],
             [
              0.3333333333333333,
              "#9c179e"
             ],
             [
              0.4444444444444444,
              "#bd3786"
             ],
             [
              0.5555555555555556,
              "#d8576b"
             ],
             [
              0.6666666666666666,
              "#ed7953"
             ],
             [
              0.7777777777777778,
              "#fb9f3a"
             ],
             [
              0.8888888888888888,
              "#fdca26"
             ],
             [
              1,
              "#f0f921"
             ]
            ],
            "type": "surface"
           }
          ],
          "table": [
           {
            "cells": {
             "fill": {
              "color": "#EBF0F8"
             },
             "line": {
              "color": "white"
             }
            },
            "header": {
             "fill": {
              "color": "#C8D4E3"
             },
             "line": {
              "color": "white"
             }
            },
            "type": "table"
           }
          ]
         },
         "layout": {
          "annotationdefaults": {
           "arrowcolor": "#2a3f5f",
           "arrowhead": 0,
           "arrowwidth": 1
          },
          "autotypenumbers": "strict",
          "coloraxis": {
           "colorbar": {
            "outlinewidth": 0,
            "ticks": ""
           }
          },
          "colorscale": {
           "diverging": [
            [
             0,
             "#8e0152"
            ],
            [
             0.1,
             "#c51b7d"
            ],
            [
             0.2,
             "#de77ae"
            ],
            [
             0.3,
             "#f1b6da"
            ],
            [
             0.4,
             "#fde0ef"
            ],
            [
             0.5,
             "#f7f7f7"
            ],
            [
             0.6,
             "#e6f5d0"
            ],
            [
             0.7,
             "#b8e186"
            ],
            [
             0.8,
             "#7fbc41"
            ],
            [
             0.9,
             "#4d9221"
            ],
            [
             1,
             "#276419"
            ]
           ],
           "sequential": [
            [
             0,
             "#0d0887"
            ],
            [
             0.1111111111111111,
             "#46039f"
            ],
            [
             0.2222222222222222,
             "#7201a8"
            ],
            [
             0.3333333333333333,
             "#9c179e"
            ],
            [
             0.4444444444444444,
             "#bd3786"
            ],
            [
             0.5555555555555556,
             "#d8576b"
            ],
            [
             0.6666666666666666,
             "#ed7953"
            ],
            [
             0.7777777777777778,
             "#fb9f3a"
            ],
            [
             0.8888888888888888,
             "#fdca26"
            ],
            [
             1,
             "#f0f921"
            ]
           ],
           "sequentialminus": [
            [
             0,
             "#0d0887"
            ],
            [
             0.1111111111111111,
             "#46039f"
            ],
            [
             0.2222222222222222,
             "#7201a8"
            ],
            [
             0.3333333333333333,
             "#9c179e"
            ],
            [
             0.4444444444444444,
             "#bd3786"
            ],
            [
             0.5555555555555556,
             "#d8576b"
            ],
            [
             0.6666666666666666,
             "#ed7953"
            ],
            [
             0.7777777777777778,
             "#fb9f3a"
            ],
            [
             0.8888888888888888,
             "#fdca26"
            ],
            [
             1,
             "#f0f921"
            ]
           ]
          },
          "colorway": [
           "#636efa",
           "#EF553B",
           "#00cc96",
           "#ab63fa",
           "#FFA15A",
           "#19d3f3",
           "#FF6692",
           "#B6E880",
           "#FF97FF",
           "#FECB52"
          ],
          "font": {
           "color": "#2a3f5f"
          },
          "geo": {
           "bgcolor": "white",
           "lakecolor": "white",
           "landcolor": "white",
           "showlakes": true,
           "showland": true,
           "subunitcolor": "#C8D4E3"
          },
          "hoverlabel": {
           "align": "left"
          },
          "hovermode": "closest",
          "mapbox": {
           "style": "light"
          },
          "paper_bgcolor": "white",
          "plot_bgcolor": "white",
          "polar": {
           "angularaxis": {
            "gridcolor": "#EBF0F8",
            "linecolor": "#EBF0F8",
            "ticks": ""
           },
           "bgcolor": "white",
           "radialaxis": {
            "gridcolor": "#EBF0F8",
            "linecolor": "#EBF0F8",
            "ticks": ""
           }
          },
          "scene": {
           "xaxis": {
            "backgroundcolor": "white",
            "gridcolor": "#DFE8F3",
            "gridwidth": 2,
            "linecolor": "#EBF0F8",
            "showbackground": true,
            "ticks": "",
            "zerolinecolor": "#EBF0F8"
           },
           "yaxis": {
            "backgroundcolor": "white",
            "gridcolor": "#DFE8F3",
            "gridwidth": 2,
            "linecolor": "#EBF0F8",
            "showbackground": true,
            "ticks": "",
            "zerolinecolor": "#EBF0F8"
           },
           "zaxis": {
            "backgroundcolor": "white",
            "gridcolor": "#DFE8F3",
            "gridwidth": 2,
            "linecolor": "#EBF0F8",
            "showbackground": true,
            "ticks": "",
            "zerolinecolor": "#EBF0F8"
           }
          },
          "shapedefaults": {
           "line": {
            "color": "#2a3f5f"
           }
          },
          "ternary": {
           "aaxis": {
            "gridcolor": "#DFE8F3",
            "linecolor": "#A2B1C6",
            "ticks": ""
           },
           "baxis": {
            "gridcolor": "#DFE8F3",
            "linecolor": "#A2B1C6",
            "ticks": ""
           },
           "bgcolor": "white",
           "caxis": {
            "gridcolor": "#DFE8F3",
            "linecolor": "#A2B1C6",
            "ticks": ""
           }
          },
          "title": {
           "x": 0.05
          },
          "xaxis": {
           "automargin": true,
           "gridcolor": "#EBF0F8",
           "linecolor": "#EBF0F8",
           "ticks": "",
           "title": {
            "standoff": 15
           },
           "zerolinecolor": "#EBF0F8",
           "zerolinewidth": 2
          },
          "yaxis": {
           "automargin": true,
           "gridcolor": "#EBF0F8",
           "linecolor": "#EBF0F8",
           "ticks": "",
           "title": {
            "standoff": 15
           },
           "zerolinecolor": "#EBF0F8",
           "zerolinewidth": 2
          }
         }
        },
        "title": {
         "font": {
          "color": "Black",
          "size": 22
         },
         "text": "Topic Word Scores",
         "x": 0.5,
         "xanchor": "center",
         "yanchor": "top"
        },
        "width": 1000,
        "xaxis": {
         "anchor": "y",
         "domain": [
          0,
          0.175
         ],
         "showgrid": true
        },
        "xaxis10": {
         "anchor": "y10",
         "domain": [
          0.275,
          0.45
         ],
         "showgrid": true
        },
        "xaxis11": {
         "anchor": "y11",
         "domain": [
          0.55,
          0.7250000000000001
         ],
         "showgrid": true
        },
        "xaxis12": {
         "anchor": "y12",
         "domain": [
          0.825,
          1
         ],
         "showgrid": true
        },
        "xaxis2": {
         "anchor": "y2",
         "domain": [
          0.275,
          0.45
         ],
         "showgrid": true
        },
        "xaxis3": {
         "anchor": "y3",
         "domain": [
          0.55,
          0.7250000000000001
         ],
         "showgrid": true
        },
        "xaxis4": {
         "anchor": "y4",
         "domain": [
          0.825,
          1
         ],
         "showgrid": true
        },
        "xaxis5": {
         "anchor": "y5",
         "domain": [
          0,
          0.175
         ],
         "showgrid": true
        },
        "xaxis6": {
         "anchor": "y6",
         "domain": [
          0.275,
          0.45
         ],
         "showgrid": true
        },
        "xaxis7": {
         "anchor": "y7",
         "domain": [
          0.55,
          0.7250000000000001
         ],
         "showgrid": true
        },
        "xaxis8": {
         "anchor": "y8",
         "domain": [
          0.825,
          1
         ],
         "showgrid": true
        },
        "xaxis9": {
         "anchor": "y9",
         "domain": [
          0,
          0.175
         ],
         "showgrid": true
        },
        "yaxis": {
         "anchor": "x",
         "domain": [
          0.7555555555555555,
          1
         ],
         "showgrid": true
        },
        "yaxis10": {
         "anchor": "x10",
         "domain": [
          0,
          0.24444444444444446
         ],
         "showgrid": true
        },
        "yaxis11": {
         "anchor": "x11",
         "domain": [
          0,
          0.24444444444444446
         ],
         "showgrid": true
        },
        "yaxis12": {
         "anchor": "x12",
         "domain": [
          0,
          0.24444444444444446
         ],
         "showgrid": true
        },
        "yaxis2": {
         "anchor": "x2",
         "domain": [
          0.7555555555555555,
          1
         ],
         "showgrid": true
        },
        "yaxis3": {
         "anchor": "x3",
         "domain": [
          0.7555555555555555,
          1
         ],
         "showgrid": true
        },
        "yaxis4": {
         "anchor": "x4",
         "domain": [
          0.7555555555555555,
          1
         ],
         "showgrid": true
        },
        "yaxis5": {
         "anchor": "x5",
         "domain": [
          0.37777777777777777,
          0.6222222222222222
         ],
         "showgrid": true
        },
        "yaxis6": {
         "anchor": "x6",
         "domain": [
          0.37777777777777777,
          0.6222222222222222
         ],
         "showgrid": true
        },
        "yaxis7": {
         "anchor": "x7",
         "domain": [
          0.37777777777777777,
          0.6222222222222222
         ],
         "showgrid": true
        },
        "yaxis8": {
         "anchor": "x8",
         "domain": [
          0.37777777777777777,
          0.6222222222222222
         ],
         "showgrid": true
        },
        "yaxis9": {
         "anchor": "x9",
         "domain": [
          0,
          0.24444444444444446
         ],
         "showgrid": true
        }
       }
      }
     },
     "metadata": {},
     "output_type": "display_data"
    },
    {
     "name": "stderr",
     "output_type": "stream",
     "text": [
      "2025-06-08 21:07:34,410 - BERTopic - WARNING: When you use `pickle` to save/load a BERTopic model,please make sure that the environments in which you saveand load the model are **exactly** the same. The version of BERTopic,its dependencies, and python need to remain the same.\n"
     ]
    }
   ],
   "source": [
    "# treinando o modelo BERTopic\n",
    "topics, probs = topic_model.fit_transform(valid_overviews, embeddings)\n",
    "\n",
    "# 6. visualizações e resultados\n",
    "topic_model.visualize_topics().show()\n",
    "topic_model.visualize_barchart(top_n_topics=10).show()\n",
    "topic_model.save(\"bertopic_imdb_model\")\n"
   ]
  },
  {
   "cell_type": "code",
   "execution_count": 6,
   "id": "07a2594a",
   "metadata": {},
   "outputs": [
    {
     "name": "stderr",
     "output_type": "stream",
     "text": [
      "100%|██████████| 62/62 [00:00<00:00, 456.16it/s]\n"
     ]
    },
    {
     "data": {
      "application/vnd.plotly.v1+json": {
       "config": {
        "plotlyServerURL": "https://plot.ly"
       },
       "data": [
        {
         "hoverinfo": "text",
         "marker": {
          "color": "rgb(61,153,112)"
         },
         "mode": "lines",
         "text": [
          "champion_boxer_boxing_match_rocky",
          "",
          "",
          "team_coach_football_baseball_league"
         ],
         "type": "scatter",
         "x": {
          "bdata": "AAAAAAAAAAAY9YoB2FbpPxj1igHYVuk/AAAAAAAAAAA=",
          "dtype": "f8"
         },
         "xaxis": "x",
         "y": {
          "bdata": "AAAAAAAAFMAAAAAAAAAUwAAAAAAAAC7AAAAAAAAALsA=",
          "dtype": "f8"
         },
         "yaxis": "y"
        },
        {
         "hoverinfo": "text",
         "marker": {
          "color": "rgb(255,65,54)"
         },
         "mode": "lines",
         "text": [
          "president_election_presidential_nixon_scandal",
          "",
          "",
          "cia_agent_nuclear_government_international"
         ],
         "type": "scatter",
         "x": {
          "bdata": "AAAAAAAAAADiYzKAc37pP+JjMoBzfuk/AAAAAAAAAAA=",
          "dtype": "f8"
         },
         "xaxis": "x",
         "y": {
          "bdata": "AAAAAAAAOcAAAAAAAAA5wAAAAAAAgEHAAAAAAACAQcA=",
          "dtype": "f8"
         },
         "yaxis": "y"
        },
        {
         "hoverinfo": "text",
         "marker": {
          "color": "rgb(255,65,54)"
         },
         "mode": "lines",
         "text": [
          "war_world war_war ii_world war ii_ii",
          "",
          "",
          "platoon_dodge_war_vietnam_mission"
         ],
         "type": "scatter",
         "x": {
          "bdata": "AAAAAAAAAAAe4mB9gN3oPx7iYH2A3eg/AAAAAAAAAAA=",
          "dtype": "f8"
         },
         "xaxis": "x",
         "y": {
          "bdata": "AAAAAACAS8AAAAAAAIBLwAAAAAAAQFDAAAAAAABAUMA=",
          "dtype": "f8"
         },
         "yaxis": "y"
        },
        {
         "hoverinfo": "text",
         "marker": {
          "color": "rgb(255,65,54)"
         },
         "mode": "lines",
         "text": [
          "civil war_civil_slave_che_revolution",
          "",
          "",
          "war_world war_war ii_world war ii_ii"
         ],
         "type": "scatter",
         "x": {
          "bdata": "AAAAAAAAAABboCycfTjtP1ugLJx9OO0/HuJgfYDd6D8=",
          "dtype": "f8"
         },
         "xaxis": "x",
         "y": {
          "bdata": "AAAAAACARsAAAAAAAIBGwAAAAAAAAE7AAAAAAAAATsA=",
          "dtype": "f8"
         },
         "yaxis": "y"
        },
        {
         "hoverinfo": "text",
         "marker": {
          "color": "rgb(255,65,54)"
         },
         "mode": "lines",
         "text": [
          "war_world war_world war ii_war ii_ii",
          "",
          "",
          "martial_ip_china_martial arts_arts"
         ],
         "type": "scatter",
         "x": {
          "bdata": "W6AsnH047T+DimfsfSvuP4OKZ+x9K+4/AAAAAAAAAAA=",
          "dtype": "f8"
         },
         "xaxis": "x",
         "y": {
          "bdata": "AAAAAABASsAAAAAAAEBKwAAAAAAAwFLAAAAAAADAUsA=",
          "dtype": "f8"
         },
         "yaxis": "y"
        },
        {
         "hoverinfo": "text",
         "marker": {
          "color": "rgb(255,65,54)"
         },
         "mode": "lines",
         "text": [
          "cia_president_agent_government_nuclear",
          "",
          "",
          "war_world war_war ii_world war ii_ii"
         ],
         "type": "scatter",
         "x": {
          "bdata": "4mMygHN+6T+UsUYOODTvP5SxRg44NO8/g4pn7H0r7j8=",
          "dtype": "f8"
         },
         "xaxis": "x",
         "y": {
          "bdata": "AAAAAAAAPsAAAAAAAAA+wAAAAAAA4E/AAAAAAADgT8A=",
          "dtype": "f8"
         },
         "yaxis": "y"
        },
        {
         "hoverinfo": "text",
         "marker": {
          "color": "rgb(0,116,217)"
         },
         "mode": "lines",
         "text": [
          "team_coach_football_players_baseball",
          "",
          "",
          "war_world war_world war ii_war ii_ii"
         ],
         "type": "scatter",
         "x": {
          "bdata": "GPWKAdhW6T/hb/ddgCHxP+Fv912AIfE/lLFGDjg07z8=",
          "dtype": "f8"
         },
         "xaxis": "x",
         "y": {
          "bdata": "AAAAAAAAJMAAAAAAAAAkwAAAAAAAcEfAAAAAAABwR8A=",
          "dtype": "f8"
         },
         "yaxis": "y"
        },
        {
         "hoverinfo": "text",
         "marker": {
          "color": "rgb(35,205,205)"
         },
         "mode": "lines",
         "text": [
          "shun_saved_young woman_sinister secret_djinn",
          "",
          "",
          "priest_vatican_exorcism_religious_faith"
         ],
         "type": "scatter",
         "x": {
          "bdata": "AAAAAAAAAAAOLWU914LsPw4tZT3Xguw/AAAAAAAAAAA=",
          "dtype": "f8"
         },
         "xaxis": "x",
         "y": {
          "bdata": "AAAAAADAV8AAAAAAAMBXwAAAAAAAQFrAAAAAAABAWsA=",
          "dtype": "f8"
         },
         "yaxis": "y"
        },
        {
         "hoverinfo": "text",
         "marker": {
          "color": "rgb(35,205,205)"
         },
         "mode": "lines",
         "text": [
          "liam_strange_bodies_awakens_wakes",
          "",
          "",
          "priest_vatican_exorcism_religious_faith"
         ],
         "type": "scatter",
         "x": {
          "bdata": "AAAAAAAAAAA4XAHpJ6XuPzhcAeknpe4/Di1lPdeC7D8=",
          "dtype": "f8"
         },
         "xaxis": "x",
         "y": {
          "bdata": "AAAAAABAVcAAAAAAAEBVwAAAAAAAAFnAAAAAAAAAWcA=",
          "dtype": "f8"
         },
         "yaxis": "y"
        },
        {
         "hoverinfo": "text",
         "marker": {
          "color": "rgb(133,20,75)"
         },
         "mode": "lines",
         "text": [
          "scooby_mystery_doo_scooby doo_gang",
          "",
          "",
          "witches_witch_wendy_marnie_casper"
         ],
         "type": "scatter",
         "x": {
          "bdata": "AAAAAAAAAABs2O5SewHuP2zY7lJ7Ae4/AAAAAAAAAAA=",
          "dtype": "f8"
         },
         "xaxis": "x",
         "y": {
          "bdata": "AAAAAADAXMAAAAAAAMBcwAAAAAAAQF/AAAAAAABAX8A=",
          "dtype": "f8"
         },
         "yaxis": "y"
        },
        {
         "hoverinfo": "text",
         "marker": {
          "color": "rgb(133,20,75)"
         },
         "mode": "lines",
         "text": [
          "scooby_mystery_scooby doo_doo_gang",
          "",
          "",
          "christmas_santa_claus_santa claus_christmas eve"
         ],
         "type": "scatter",
         "x": {
          "bdata": "bNjuUnsB7j+xLUyOR+fuP7EtTI5H5+4/AAAAAAAAAAA=",
          "dtype": "f8"
         },
         "xaxis": "x",
         "y": {
          "bdata": "AAAAAAAAXsAAAAAAAABewAAAAAAA4GDAAAAAAADgYMA=",
          "dtype": "f8"
         },
         "yaxis": "y"
        },
        {
         "hoverinfo": "text",
         "marker": {
          "color": "rgb(133,20,75)"
         },
         "mode": "lines",
         "text": [
          "connor_terminator_john connor_captain america_john",
          "",
          "",
          "lincoln_caesar_okoye_chimpanzee_chicken"
         ],
         "type": "scatter",
         "x": {
          "bdata": "AAAAAAAAAACGD168j2PuP4YPXryPY+4/AAAAAAAAAAA=",
          "dtype": "f8"
         },
         "xaxis": "x",
         "y": {
          "bdata": "AAAAAAAgYsAAAAAAACBiwAAAAAAAYGPAAAAAAABgY8A=",
          "dtype": "f8"
         },
         "yaxis": "y"
        },
        {
         "hoverinfo": "text",
         "marker": {
          "color": "rgb(133,20,75)"
         },
         "mode": "lines",
         "text": [
          "christmas_santa_claus_santa claus_christmas eve",
          "",
          "",
          "connor_terminator_john connor_captain america_john"
         ],
         "type": "scatter",
         "x": {
          "bdata": "sS1Mjkfn7j+pvYaD4szvP6m9hoPizO8/hg9evI9j7j8=",
          "dtype": "f8"
         },
         "xaxis": "x",
         "y": {
          "bdata": "AAAAAADgX8AAAAAAAOBfwAAAAAAAwGLAAAAAAADAYsA=",
          "dtype": "f8"
         },
         "yaxis": "y"
        },
        {
         "hoverinfo": "text",
         "marker": {
          "color": "rgb(0,116,217)"
         },
         "mode": "lines",
         "text": [
          "priest_vatican_exorcism_religious_faith",
          "",
          "",
          "christmas_santa_claus_santa claus_christmas eve"
         ],
         "type": "scatter",
         "x": {
          "bdata": "OFwB6Sel7j8a73WzSQ/wPxrvdbNJD/A/qb2Gg+LM7z8=",
          "dtype": "f8"
         },
         "xaxis": "x",
         "y": {
          "bdata": "AAAAAAAgV8AAAAAAACBXwAAAAAAAWGHAAAAAAABYYcA=",
          "dtype": "f8"
         },
         "yaxis": "y"
        },
        {
         "hoverinfo": "text",
         "marker": {
          "color": "rgb(255,220,0)"
         },
         "mode": "lines",
         "text": [
          "king_ancient_goku_power_evil",
          "",
          "",
          "fairy_princess_ariel_kingdom_evil"
         ],
         "type": "scatter",
         "x": {
          "bdata": "AAAAAAAAAACyLWRxL4LmP7ItZHEvguY/AAAAAAAAAAA=",
          "dtype": "f8"
         },
         "xaxis": "x",
         "y": {
          "bdata": "AAAAAADgZcAAAAAAAOBlwAAAAAAAIGfAAAAAAAAgZ8A=",
          "dtype": "f8"
         },
         "yaxis": "y"
        },
        {
         "hoverinfo": "text",
         "marker": {
          "color": "rgb(255,220,0)"
         },
         "mode": "lines",
         "text": [
          "egg_bear_named_tigger_pooh",
          "",
          "",
          "king_evil_ancient_goku_power"
         ],
         "type": "scatter",
         "x": {
          "bdata": "AAAAAAAAAADMXhPA5WPrP8xeE8DlY+s/si1kcS+C5j8=",
          "dtype": "f8"
         },
         "xaxis": "x",
         "y": {
          "bdata": "AAAAAACgZMAAAAAAAKBkwAAAAAAAgGbAAAAAAACAZsA=",
          "dtype": "f8"
         },
         "yaxis": "y"
        },
        {
         "hoverinfo": "text",
         "marker": {
          "color": "rgb(255,220,0)"
         },
         "mode": "lines",
         "text": [
          "king_evil_ancient_dragon_named",
          "",
          "",
          "queen_royal_king_elizabeth_royal family"
         ],
         "type": "scatter",
         "x": {
          "bdata": "zF4TwOVj6z8sLPISdknuPyws8hJ2Se4/AAAAAAAAAAA=",
          "dtype": "f8"
         },
         "xaxis": "x",
         "y": {
          "bdata": "AAAAAACQZcAAAAAAAJBlwAAAAAAAYGjAAAAAAABgaMA=",
          "dtype": "f8"
         },
         "yaxis": "y"
        },
        {
         "hoverinfo": "text",
         "marker": {
          "color": "rgb(0,116,217)"
         },
         "mode": "lines",
         "text": [
          "christmas_santa_claus_santa claus_christmas eve",
          "",
          "",
          "king_evil_ancient_dragon_princess"
         ],
         "type": "scatter",
         "x": {
          "bdata": "Gu91s0kP8D9DsJoQUZPwP0OwmhBRk/A/LCzyEnZJ7j8=",
          "dtype": "f8"
         },
         "xaxis": "x",
         "y": {
          "bdata": "AAAAAADoXMAAAAAAAOhcwAAAAAAA+GbAAAAAAAD4ZsA=",
          "dtype": "f8"
         },
         "yaxis": "y"
        },
        {
         "hoverinfo": "text",
         "marker": {
          "color": "rgb(40,35,35)"
         },
         "mode": "lines",
         "text": [
          "group_friends_discover_deserted_group friends",
          "",
          "",
          "virus_survivors_zombies_infected_outbreak"
         ],
         "type": "scatter",
         "x": {
          "bdata": "AAAAAAAAAAAcoyS7SXnmPxyjJLtJeeY/AAAAAAAAAAA=",
          "dtype": "f8"
         },
         "xaxis": "x",
         "y": {
          "bdata": "AAAAAACgacAAAAAAAKBpwAAAAAAA4GrAAAAAAADgasA=",
          "dtype": "f8"
         },
         "yaxis": "y"
        },
        {
         "hoverinfo": "text",
         "marker": {
          "color": "rgb(40,35,35)"
         },
         "mode": "lines",
         "text": [
          "group_virus_survivors_deadly_friends",
          "",
          "",
          "earth_planet_space_alien_crew"
         ],
         "type": "scatter",
         "x": {
          "bdata": "HKMku0l55j/OSZ1gNxLpP85JnWA3Euk/AAAAAAAAAAA=",
          "dtype": "f8"
         },
         "xaxis": "x",
         "y": {
          "bdata": "AAAAAABAasAAAAAAAEBqwAAAAAAAIGzAAAAAAAAgbMA=",
          "dtype": "f8"
         },
         "yaxis": "y"
        },
        {
         "hoverinfo": "text",
         "marker": {
          "color": "rgb(61,153,112)"
         },
         "mode": "lines",
         "text": [
          "superman_luthor_steel_lex luthor_lois",
          "",
          "",
          "sonic_spider_super_villain_ralph"
         ],
         "type": "scatter",
         "x": {
          "bdata": "AAAAAAAAAAAIaWWTmuXrPwhpZZOa5es/AAAAAAAAAAA=",
          "dtype": "f8"
         },
         "xaxis": "x",
         "y": {
          "bdata": "AAAAAABgbcAAAAAAAGBtwAAAAAAAoG7AAAAAAACgbsA=",
          "dtype": "f8"
         },
         "yaxis": "y"
        },
        {
         "hoverinfo": "text",
         "marker": {
          "color": "rgb(61,153,112)"
         },
         "mode": "lines",
         "text": [
          "superman_luthor_steel_batman_super",
          "",
          "",
          "xavier_wolverine_mutants_grey_charles"
         ],
         "type": "scatter",
         "x": {
          "bdata": "CGllk5rl6z9vu8P4mYDtP2+7w/iZgO0/AAAAAAAAAAA=",
          "dtype": "f8"
         },
         "xaxis": "x",
         "y": {
          "bdata": "AAAAAAAAbsAAAAAAAABuwAAAAAAA4G/AAAAAAADgb8A=",
          "dtype": "f8"
         },
         "yaxis": "y"
        },
        {
         "hoverinfo": "text",
         "marker": {
          "color": "rgb(0,116,217)"
         },
         "mode": "lines",
         "text": [
          "earth_planet_alien_group_space",
          "",
          "",
          "superman_luthor_steel_super_batman"
         ],
         "type": "scatter",
         "x": {
          "bdata": "zkmdYDcS6T8HO8fUsNTwPwc7x9Sw1PA/b7vD+JmA7T8=",
          "dtype": "f8"
         },
         "xaxis": "x",
         "y": {
          "bdata": "AAAAAAAwa8AAAAAAADBrwAAAAAAA8G7AAAAAAADwbsA=",
          "dtype": "f8"
         },
         "yaxis": "y"
        },
        {
         "hoverinfo": "text",
         "marker": {
          "color": "rgb(0,116,217)"
         },
         "mode": "lines",
         "text": [
          "king_evil_christmas_santa_ancient",
          "",
          "",
          "earth_planet_alien_group_space"
         ],
         "type": "scatter",
         "x": {
          "bdata": "Q7CaEFGT8D/PiVNa/vjwP8+JU1r++PA/BzvH1LDU8D8=",
          "dtype": "f8"
         },
         "xaxis": "x",
         "y": {
          "bdata": "AAAAAAC2YsAAAAAAALZiwAAAAAAAEG3AAAAAAAAQbcA=",
          "dtype": "f8"
         },
         "yaxis": "y"
        },
        {
         "hoverinfo": "text",
         "marker": {
          "color": "rgb(0,116,217)"
         },
         "mode": "lines",
         "text": [
          "war_team_world war_war ii_world war ii",
          "",
          "",
          "earth_king_planet_world_evil"
         ],
         "type": "scatter",
         "x": {
          "bdata": "4W/3XYAh8T9r9Rn7bgjzP2v1GftuCPM/z4lTWv748D8=",
          "dtype": "f8"
         },
         "xaxis": "x",
         "y": {
          "bdata": "AAAAAABwPMAAAAAAAHA8wAAAAAAA42fAAAAAAADjZ8A=",
          "dtype": "f8"
         },
         "yaxis": "y"
        },
        {
         "hoverinfo": "text",
         "marker": {
          "color": "rgb(255,65,54)"
         },
         "mode": "lines",
         "text": [
          "taiwan_su_jong_prince charming_girl",
          "",
          "",
          "sage_meets_longing_duncan_elle"
         ],
         "type": "scatter",
         "x": {
          "bdata": "AAAAAAAAAADY4KVj8pPtP9jgpWPyk+0/AAAAAAAAAAA=",
          "dtype": "f8"
         },
         "xaxis": "x",
         "y": {
          "bdata": "AAAAAACQcMAAAAAAAJBwwAAAAAAAMHHAAAAAAAAwccA=",
          "dtype": "f8"
         },
         "yaxis": "y"
        },
        {
         "hoverinfo": "text",
         "marker": {
          "color": "rgb(255,65,54)"
         },
         "mode": "lines",
         "text": [
          "relationship_love_couple_friends_relationships",
          "",
          "",
          "married_wedding_relationship_sol_marriage"
         ],
         "type": "scatter",
         "x": {
          "bdata": "AAAAAAAAAABIoIkjCzHmP0igiSMLMeY/AAAAAAAAAAA=",
          "dtype": "f8"
         },
         "xaxis": "x",
         "y": {
          "bdata": "AAAAAADQccAAAAAAANBxwAAAAAAAcHLAAAAAAABwcsA=",
          "dtype": "f8"
         },
         "yaxis": "y"
        },
        {
         "hoverinfo": "text",
         "marker": {
          "color": "rgb(255,65,54)"
         },
         "mode": "lines",
         "text": [
          "woman_life_1960s_author_catherine",
          "",
          "",
          "life_film_story_star_music"
         ],
         "type": "scatter",
         "x": {
          "bdata": "AAAAAAAAAAAotWupS/bjPyi1a6lL9uM/AAAAAAAAAAA=",
          "dtype": "f8"
         },
         "xaxis": "x",
         "y": {
          "bdata": "AAAAAAAQc8AAAAAAABBzwAAAAAAAsHPAAAAAAACwc8A=",
          "dtype": "f8"
         },
         "yaxis": "y"
        },
        {
         "hoverinfo": "text",
         "marker": {
          "color": "rgb(255,65,54)"
         },
         "mode": "lines",
         "text": [
          "life_film_story_star_music",
          "",
          "",
          "erik_marvin_life_dr_nelson"
         ],
         "type": "scatter",
         "x": {
          "bdata": "KLVrqUv24z/qlxjeh7bpP+qXGN6Htuk/AAAAAAAAAAA=",
          "dtype": "f8"
         },
         "xaxis": "x",
         "y": {
          "bdata": "AAAAAABgc8AAAAAAAGBzwAAAAAAAUHTAAAAAAABQdMA=",
          "dtype": "f8"
         },
         "yaxis": "y"
        },
        {
         "hoverinfo": "text",
         "marker": {
          "color": "rgb(255,65,54)"
         },
         "mode": "lines",
         "text": [
          "relationship_love_married_wedding_couple",
          "",
          "",
          "life_film_story_star_world"
         ],
         "type": "scatter",
         "x": {
          "bdata": "SKCJIwsx5j+Bn14ll3zrP4GfXiWXfOs/6pcY3oe26T8=",
          "dtype": "f8"
         },
         "xaxis": "x",
         "y": {
          "bdata": "AAAAAAAgcsAAAAAAACBywAAAAAAA2HPAAAAAAADYc8A=",
          "dtype": "f8"
         },
         "yaxis": "y"
        },
        {
         "hoverinfo": "text",
         "marker": {
          "color": "rgb(255,65,54)"
         },
         "mode": "lines",
         "text": [
          "meets_su_taiwan_jong_love",
          "",
          "",
          "life_love_film_story_star"
         ],
         "type": "scatter",
         "x": {
          "bdata": "2OClY/KT7T+y/QMNEQ/uP7L9Aw0RD+4/gZ9eJZd86z8=",
          "dtype": "f8"
         },
         "xaxis": "x",
         "y": {
          "bdata": "AAAAAADgcMAAAAAAAOBwwAAAAAAA/HLAAAAAAAD8csA=",
          "dtype": "f8"
         },
         "yaxis": "y"
        },
        {
         "hoverinfo": "text",
         "marker": {
          "color": "rgb(35,205,205)"
         },
         "mode": "lines",
         "text": [
          "money_job_pay_bank_preston",
          "",
          "",
          "executive_blanco_invest_business_salesmen"
         ],
         "type": "scatter",
         "x": {
          "bdata": "AAAAAAAAAACbBx9Q5mvrP5sHH1Dma+s/AAAAAAAAAAA=",
          "dtype": "f8"
         },
         "xaxis": "x",
         "y": {
          "bdata": "AAAAAADwdMAAAAAAAPB0wAAAAAAAkHXAAAAAAACQdcA=",
          "dtype": "f8"
         },
         "yaxis": "y"
        },
        {
         "hoverinfo": "text",
         "marker": {
          "color": "rgb(35,205,205)"
         },
         "mode": "lines",
         "text": [
          "money_job_bank_executive_pay",
          "",
          "",
          "boss_jorge_chelsea_ugly_career"
         ],
         "type": "scatter",
         "x": {
          "bdata": "mwcfUOZr6z8m8lGEiBvsPybyUYSIG+w/AAAAAAAAAAA=",
          "dtype": "f8"
         },
         "xaxis": "x",
         "y": {
          "bdata": "AAAAAABAdcAAAAAAAEB1wAAAAAAAMHbAAAAAAAAwdsA=",
          "dtype": "f8"
         },
         "yaxis": "y"
        },
        {
         "hoverinfo": "text",
         "marker": {
          "color": "rgb(0,116,217)"
         },
         "mode": "lines",
         "text": [
          "life_love_film_story_relationship",
          "",
          "",
          "job_money_boss_new_career"
         ],
         "type": "scatter",
         "x": {
          "bdata": "sv0DDREP7j/2U8OpfgHwP/ZTw6l+AfA/JvJRhIgb7D8=",
          "dtype": "f8"
         },
         "xaxis": "x",
         "y": {
          "bdata": "AAAAAADuccAAAAAAAO5xwAAAAAAAuHXAAAAAAAC4dcA=",
          "dtype": "f8"
         },
         "yaxis": "y"
        },
        {
         "hoverinfo": "text",
         "marker": {
          "color": "rgb(61,153,112)"
         },
         "mode": "lines",
         "text": [
          "african american_african_long island_examination_growing",
          "",
          "",
          "year old girl_old girl_victim_teenage_year old"
         ],
         "type": "scatter",
         "x": {
          "bdata": "AAAAAAAAAABtXmQXwvzsP21eZBfC/Ow/AAAAAAAAAAA=",
          "dtype": "f8"
         },
         "xaxis": "x",
         "y": {
          "bdata": "AAAAAADQdsAAAAAAANB2wAAAAAAAcHfAAAAAAABwd8A=",
          "dtype": "f8"
         },
         "yaxis": "y"
        },
        {
         "hoverinfo": "text",
         "marker": {
          "color": "rgb(61,153,112)"
         },
         "mode": "lines",
         "text": [
          "teenage_year old girl_old girl_african american_sexual abuse",
          "",
          "",
          "societal_generational_childhood_sexual_fateful"
         ],
         "type": "scatter",
         "x": {
          "bdata": "bV5kF8L87D/wd6iWiQfuP/B3qJaJB+4/AAAAAAAAAAA=",
          "dtype": "f8"
         },
         "xaxis": "x",
         "y": {
          "bdata": "AAAAAAAgd8AAAAAAACB3wAAAAAAAEHjAAAAAAAAQeMA=",
          "dtype": "f8"
         },
         "yaxis": "y"
        },
        {
         "hoverinfo": "text",
         "marker": {
          "color": "rgb(61,153,112)"
         },
         "mode": "lines",
         "text": [
          "sexual_year old girl_old girl_love_childhood",
          "",
          "",
          "worlds_parallel_moments_comic_moving"
         ],
         "type": "scatter",
         "x": {
          "bdata": "8HeolokH7j8nLq66f7HuPycurrp/se4/AAAAAAAAAAA=",
          "dtype": "f8"
         },
         "xaxis": "x",
         "y": {
          "bdata": "AAAAAACYd8AAAAAAAJh3wAAAAAAAsHjAAAAAAACweMA=",
          "dtype": "f8"
         },
         "yaxis": "y"
        },
        {
         "hoverinfo": "text",
         "marker": {
          "color": "rgb(0,116,217)"
         },
         "mode": "lines",
         "text": [
          "life_love_new_film_story",
          "",
          "",
          "love_sexual_girl_year old girl_old girl"
         ],
         "type": "scatter",
         "x": {
          "bdata": "9lPDqX4B8D8zxMzRwJrwPzPEzNHAmvA/Jy6uun+x7j8=",
          "dtype": "f8"
         },
         "xaxis": "x",
         "y": {
          "bdata": "AAAAAADTc8AAAAAAANNzwAAAAAAAJHjAAAAAAAAkeMA=",
          "dtype": "f8"
         },
         "yaxis": "y"
        },
        {
         "hoverinfo": "text",
         "marker": {
          "color": "rgb(255,65,54)"
         },
         "mode": "lines",
         "text": [
          "husband_tammy_woman_affair_wife",
          "",
          "",
          "woman_young woman_carla_pain_suffers"
         ],
         "type": "scatter",
         "x": {
          "bdata": "AAAAAAAAAACzFGUvItrsP7MUZS8i2uw/AAAAAAAAAAA=",
          "dtype": "f8"
         },
         "xaxis": "x",
         "y": {
          "bdata": "AAAAAABQecAAAAAAAFB5wAAAAAAA8HnAAAAAAADwecA=",
          "dtype": "f8"
         },
         "yaxis": "y"
        },
        {
         "hoverinfo": "text",
         "marker": {
          "color": "rgb(255,65,54)"
         },
         "mode": "lines",
         "text": [
          "man_hospital_mental_mental hospital_wife",
          "",
          "",
          "murder_besson_patient_woman_witness"
         ],
         "type": "scatter",
         "x": {
          "bdata": "AAAAAAAAAAAe/8vWVr3rPx7/y9ZWves/AAAAAAAAAAA=",
          "dtype": "f8"
         },
         "xaxis": "x",
         "y": {
          "bdata": "AAAAAACQesAAAAAAAJB6wAAAAAAAMHvAAAAAAAAwe8A=",
          "dtype": "f8"
         },
         "yaxis": "y"
        },
        {
         "hoverinfo": "text",
         "marker": {
          "color": "rgb(255,65,54)"
         },
         "mode": "lines",
         "text": [
          "murder_patient_hospital_man_violent",
          "",
          "",
          "court_supreme_case_murder_story"
         ],
         "type": "scatter",
         "x": {
          "bdata": "Hv/L1la96z9Sv5ZfCzXtP1K/ll8LNe0/AAAAAAAAAAA=",
          "dtype": "f8"
         },
         "xaxis": "x",
         "y": {
          "bdata": "AAAAAADgesAAAAAAAOB6wAAAAAAA0HvAAAAAAADQe8A=",
          "dtype": "f8"
         },
         "yaxis": "y"
        },
        {
         "hoverinfo": "text",
         "marker": {
          "color": "rgb(255,65,54)"
         },
         "mode": "lines",
         "text": [
          "husband_woman_young woman_tammy_affair",
          "",
          "",
          "murder_court_patient_supreme_case"
         ],
         "type": "scatter",
         "x": {
          "bdata": "sxRlLyLa7D+CyE457Q3uP4LITjntDe4/Ur+WXws17T8=",
          "dtype": "f8"
         },
         "xaxis": "x",
         "y": {
          "bdata": "AAAAAACgecAAAAAAAKB5wAAAAAAAWHvAAAAAAABYe8A=",
          "dtype": "f8"
         },
         "yaxis": "y"
        },
        {
         "hoverinfo": "text",
         "marker": {
          "color": "rgb(255,65,54)"
         },
         "mode": "lines",
         "text": [
          "woman_murder_husband_court_wife",
          "",
          "",
          "mason_burned_egypt_caretaker_son"
         ],
         "type": "scatter",
         "x": {
          "bdata": "gshOOe0N7j88L6pk6GfuPzwvqmToZ+4/AAAAAAAAAAA=",
          "dtype": "f8"
         },
         "xaxis": "x",
         "y": {
          "bdata": "AAAAAAB8esAAAAAAAHx6wAAAAAAAcHzAAAAAAABwfMA=",
          "dtype": "f8"
         },
         "yaxis": "y"
        },
        {
         "hoverinfo": "text",
         "marker": {
          "color": "rgb(35,205,205)"
         },
         "mode": "lines",
         "text": [
          "mother_daughter_father_finds_birthday",
          "",
          "",
          "mother_father_young_brother_woman"
         ],
         "type": "scatter",
         "x": {
          "bdata": "AAAAAAAAAAB2PYJHt0bnP3Y9gke3Ruc/AAAAAAAAAAA=",
          "dtype": "f8"
         },
         "xaxis": "x",
         "y": {
          "bdata": "AAAAAACwfcAAAAAAALB9wAAAAAAAUH7AAAAAAABQfsA=",
          "dtype": "f8"
         },
         "yaxis": "y"
        },
        {
         "hoverinfo": "text",
         "marker": {
          "color": "rgb(35,205,205)"
         },
         "mode": "lines",
         "text": [
          "mother_father_daughter_family_woman",
          "",
          "",
          "year old_old_school_year_boy"
         ],
         "type": "scatter",
         "x": {
          "bdata": "dj2CR7dG5z95M9q+jHXqP3kz2r6Mdeo/AAAAAAAAAAA=",
          "dtype": "f8"
         },
         "xaxis": "x",
         "y": {
          "bdata": "AAAAAAAAfsAAAAAAAAB+wAAAAAAA8H7AAAAAAADwfsA=",
          "dtype": "f8"
         },
         "yaxis": "y"
        },
        {
         "hoverinfo": "text",
         "marker": {
          "color": "rgb(35,205,205)"
         },
         "mode": "lines",
         "text": [
          "sorority_father_son_girl_mother",
          "",
          "",
          "mother_father_year old_old_family"
         ],
         "type": "scatter",
         "x": {
          "bdata": "AAAAAAAAAAChtj+I9sfqP6G2P4j2x+o/eTPavox16j8=",
          "dtype": "f8"
         },
         "xaxis": "x",
         "y": {
          "bdata": "AAAAAAAQfcAAAAAAABB9wAAAAAAAeH7AAAAAAAB4fsA=",
          "dtype": "f8"
         },
         "yaxis": "y"
        },
        {
         "hoverinfo": "text",
         "marker": {
          "color": "rgb(35,205,205)"
         },
         "mode": "lines",
         "text": [
          "mother_father_son_old_year old",
          "",
          "",
          "claim_inheritance_moore_psychiatric_mother"
         ],
         "type": "scatter",
         "x": {
          "bdata": "obY/iPbH6j+r62ebCNbrP6vrZ5sI1us/AAAAAAAAAAA=",
          "dtype": "f8"
         },
         "xaxis": "x",
         "y": {
          "bdata": "AAAAAADEfcAAAAAAAMR9wAAAAAAAkH/AAAAAAACQf8A=",
          "dtype": "f8"
         },
         "yaxis": "y"
        },
        {
         "hoverinfo": "text",
         "marker": {
          "color": "rgb(0,116,217)"
         },
         "mode": "lines",
         "text": [
          "woman_murder_husband_court_wife",
          "",
          "",
          "mother_father_son_year old_old"
         ],
         "type": "scatter",
         "x": {
          "bdata": "PC+qZOhn7j/Jfa8i4D/wP8l9ryLgP/A/q+tnmwjW6z8=",
          "dtype": "f8"
         },
         "xaxis": "x",
         "y": {
          "bdata": "AAAAAAB2e8AAAAAAAHZ7wAAAAAAAqn7AAAAAAACqfsA=",
          "dtype": "f8"
         },
         "yaxis": "y"
        },
        {
         "hoverinfo": "text",
         "marker": {
          "color": "rgb(133,20,75)"
         },
         "mode": "lines",
         "text": [
          "hit_stone_melvin_jeffrey_scene",
          "",
          "",
          "police_cop_killer_case_officer"
         ],
         "type": "scatter",
         "x": {
          "bdata": "AAAAAAAAAAAysQC+IQfoPzKxAL4hB+g/AAAAAAAAAAA=",
          "dtype": "f8"
         },
         "xaxis": "x",
         "y": {
          "bdata": "AAAAAABogMAAAAAAAGiAwAAAAAAAuIDAAAAAAAC4gMA=",
          "dtype": "f8"
         },
         "yaxis": "y"
        },
        {
         "hoverinfo": "text",
         "marker": {
          "color": "rgb(133,20,75)"
         },
         "mode": "lines",
         "text": [
          "police_cop_killer_officer_case",
          "",
          "",
          "driver_taxi_car_police_seat"
         ],
         "type": "scatter",
         "x": {
          "bdata": "MrEAviEH6D88VT8Q7grsPzxVPxDuCuw/AAAAAAAAAAA=",
          "dtype": "f8"
         },
         "xaxis": "x",
         "y": {
          "bdata": "AAAAAACQgMAAAAAAAJCAwAAAAAAACIHAAAAAAAAIgcA=",
          "dtype": "f8"
         },
         "yaxis": "y"
        },
        {
         "hoverinfo": "text",
         "marker": {
          "color": "rgb(133,20,75)"
         },
         "mode": "lines",
         "text": [
          "cat mouse_mouse_cat_quick_hester",
          "",
          "",
          "police_cop_killer_officer_case"
         ],
         "type": "scatter",
         "x": {
          "bdata": "AAAAAAAAAABIqu5mVxDtP0iq7mZXEO0/PFU/EO4K7D8=",
          "dtype": "f8"
         },
         "xaxis": "x",
         "y": {
          "bdata": "AAAAAAAYgMAAAAAAABiAwAAAAAAAzIDAAAAAAADMgMA=",
          "dtype": "f8"
         },
         "yaxis": "y"
        },
        {
         "hoverinfo": "text",
         "marker": {
          "color": "rgb(255,220,0)"
         },
         "mode": "lines",
         "text": [
          "crime_life crime_spain_billionaire_benoit",
          "",
          "",
          "gotham_batman_gotham city_bruce wayne_joker"
         ],
         "type": "scatter",
         "x": {
          "bdata": "AAAAAAAAAADK40i6QPXsP8rjSLpA9ew/AAAAAAAAAAA=",
          "dtype": "f8"
         },
         "xaxis": "x",
         "y": {
          "bdata": "AAAAAACogcAAAAAAAKiBwAAAAAAA+IHAAAAAAAD4gcA=",
          "dtype": "f8"
         },
         "yaxis": "y"
        },
        {
         "hoverinfo": "text",
         "marker": {
          "color": "rgb(255,220,0)"
         },
         "mode": "lines",
         "text": [
          "corleone_crime family_cuba_1956_organized crime",
          "",
          "",
          "gotham_batman_gotham city_joker_bruce wayne"
         ],
         "type": "scatter",
         "x": {
          "bdata": "AAAAAAAAAAAMRzz0tgzvPwxHPPS2DO8/yuNIukD17D8=",
          "dtype": "f8"
         },
         "xaxis": "x",
         "y": {
          "bdata": "AAAAAABYgcAAAAAAAFiBwAAAAAAA0IHAAAAAAADQgcA=",
          "dtype": "f8"
         },
         "yaxis": "y"
        },
        {
         "hoverinfo": "text",
         "marker": {
          "color": "rgb(0,116,217)"
         },
         "mode": "lines",
         "text": [
          "police_cop_killer_officer_drug",
          "",
          "",
          "gotham_batman_gotham city_bruce wayne_joker"
         ],
         "type": "scatter",
         "x": {
          "bdata": "SKruZlcQ7T+K0POJ3YvwP4rQ84ndi/A/DEc89LYM7z8=",
          "dtype": "f8"
         },
         "xaxis": "x",
         "y": {
          "bdata": "AAAAAABygMAAAAAAAHKAwAAAAAAAlIHAAAAAAACUgcA=",
          "dtype": "f8"
         },
         "yaxis": "y"
        },
        {
         "hoverinfo": "text",
         "marker": {
          "color": "rgb(0,116,217)"
         },
         "mode": "lines",
         "text": [
          "mother_father_woman_husband_son",
          "",
          "",
          "police_cop_killer_crime_officer"
         ],
         "type": "scatter",
         "x": {
          "bdata": "yX2vIuA/8D/SXtM3pGHyP9Je0zekYfI/itDzid2L8D8=",
          "dtype": "f8"
         },
         "xaxis": "x",
         "y": {
          "bdata": "AAAAAAAQfcAAAAAAABB9wAAAAAAAA4HAAAAAAAADgcA=",
          "dtype": "f8"
         },
         "yaxis": "y"
        },
        {
         "hoverinfo": "text",
         "marker": {
          "color": "rgb(0,116,217)"
         },
         "mode": "lines",
         "text": [
          "life_love_new_film_story",
          "",
          "",
          "police_murder_cop_killer_mother"
         ],
         "type": "scatter",
         "x": {
          "bdata": "M8TM0cCa8D+9obyqY/zyP72hvKpj/PI/0l7TN6Rh8j8=",
          "dtype": "f8"
         },
         "xaxis": "x",
         "y": {
          "bdata": "AAAAAID7dcAAAAAAgPt1wAAAAAAAi3/AAAAAAACLf8A=",
          "dtype": "f8"
         },
         "yaxis": "y"
        },
        {
         "hoverinfo": "text",
         "marker": {
          "color": "rgb(40,35,35)"
         },
         "mode": "lines",
         "text": [
          "school_students_high school_high_student",
          "",
          "",
          "high school_high_school_friends_reunion"
         ],
         "type": "scatter",
         "x": {
          "bdata": "AAAAAAAAAADYlL5872DnP9iUvnzvYOc/AAAAAAAAAAA=",
          "dtype": "f8"
         },
         "xaxis": "x",
         "y": {
          "bdata": "AAAAAACYgsAAAAAAAJiCwAAAAAAA6ILAAAAAAADogsA=",
          "dtype": "f8"
         },
         "yaxis": "y"
        },
        {
         "hoverinfo": "text",
         "marker": {
          "color": "rgb(40,35,35)"
         },
         "mode": "lines",
         "text": [
          "student_high school_girls_high school student_school student",
          "",
          "",
          "school_high school_high_students_college"
         ],
         "type": "scatter",
         "x": {
          "bdata": "AAAAAAAAAACA5/rqH8TpP4Dn+uofxOk/2JS+fO9g5z8=",
          "dtype": "f8"
         },
         "xaxis": "x",
         "y": {
          "bdata": "AAAAAABIgsAAAAAAAEiCwAAAAAAAwILAAAAAAADAgsA=",
          "dtype": "f8"
         },
         "yaxis": "y"
        },
        {
         "hoverinfo": "text",
         "marker": {
          "color": "rgb(40,35,35)"
         },
         "mode": "lines",
         "text": [
          "school_shelley_halloweentown_regina_cady",
          "",
          "",
          "elle_cher_school_tara_clive"
         ],
         "type": "scatter",
         "x": {
          "bdata": "AAAAAAAAAABD1wMuuY/qP0PXAy65j+o/AAAAAAAAAAA=",
          "dtype": "f8"
         },
         "xaxis": "x",
         "y": {
          "bdata": "AAAAAAA4g8AAAAAAADiDwAAAAAAAiIPAAAAAAACIg8A=",
          "dtype": "f8"
         },
         "yaxis": "y"
        },
        {
         "hoverinfo": "text",
         "marker": {
          "color": "rgb(40,35,35)"
         },
         "mode": "lines",
         "text": [
          "school_high school_high_student_college",
          "",
          "",
          "school_high school_high_regina_cady"
         ],
         "type": "scatter",
         "x": {
          "bdata": "gOf66h/E6T8AY2uZ3zLtPwBja5nfMu0/Q9cDLrmP6j8=",
          "dtype": "f8"
         },
         "xaxis": "x",
         "y": {
          "bdata": "AAAAAACEgsAAAAAAAISCwAAAAAAAYIPAAAAAAABgg8A=",
          "dtype": "f8"
         },
         "yaxis": "y"
        },
        {
         "hoverinfo": "text",
         "marker": {
          "color": "rgb(0,116,217)"
         },
         "mode": "lines",
         "text": [
          "life_man_new_young_love",
          "",
          "",
          "school_high school_high_student_college"
         ],
         "type": "scatter",
         "x": {
          "bdata": "vaG8qmP88j/Jg/KZjF/1P8mD8pmMX/U/AGNrmd8y7T8=",
          "dtype": "f8"
         },
         "xaxis": "x",
         "y": {
          "bdata": "AAAAAEDDesAAAAAAQMN6wAAAAAAA8oLAAAAAAADygsA=",
          "dtype": "f8"
         },
         "yaxis": "y"
        },
        {
         "hoverinfo": "text",
         "marker": {
          "color": "rgb(0,116,217)"
         },
         "mode": "lines",
         "text": [
          "world_war_team_earth_king",
          "",
          "",
          "life_new_school_man_young"
         ],
         "type": "scatter",
         "x": {
          "bdata": "a/UZ+24I8z9pHjZax8P2P2keNlrHw/Y/yYPymYxf9T8=",
          "dtype": "f8"
         },
         "xaxis": "x",
         "y": {
          "bdata": "AAAAAABxW8AAAAAAAHFbwAAAAADQKYDAAAAAANApgMA=",
          "dtype": "f8"
         },
         "yaxis": "y"
        },
        {
         "hoverinfo": "text",
         "hovertext": [
          "war_world war_world war ii_war ii_ii",
          "cia_president_agent_government_nuclear",
          "team_coach_football_players_baseball",
          "scooby_mystery_scooby doo_doo_gang",
          "christmas_santa_claus_santa claus_christmas eve",
          "priest_vatican_exorcism_religious_faith",
          "king_evil_ancient_dragon_named",
          "christmas_santa_claus_santa claus_christmas eve",
          "group_virus_survivors_deadly_friends",
          "superman_luthor_steel_batman_super",
          "earth_planet_alien_group_space",
          "king_evil_christmas_santa_ancient",
          "war_team_world war_war ii_world war ii",
          "life_film_story_star_music",
          "relationship_love_married_wedding_couple",
          "meets_su_taiwan_jong_love",
          "money_job_bank_executive_pay",
          "life_love_film_story_relationship",
          "teenage_year old girl_old girl_african american_sexual abuse",
          "sexual_year old girl_old girl_love_childhood",
          "life_love_new_film_story",
          "murder_patient_hospital_man_violent",
          "husband_woman_young woman_tammy_affair",
          "woman_murder_husband_court_wife",
          "mother_father_daughter_family_woman",
          "mother_father_son_old_year old",
          "woman_murder_husband_court_wife",
          "police_cop_killer_officer_case",
          "police_cop_killer_officer_drug",
          "mother_father_woman_husband_son",
          "life_love_new_film_story",
          "school_high school_high_student_college",
          "life_man_new_young_love",
          "world_war_team_earth_king"
         ],
         "marker": {
          "color": "black"
         },
         "mode": "markers",
         "showlegend": false,
         "type": "scatter",
         "x": [
          0.9131458330421184,
          0.7966859344334092,
          0.7918510465748652,
          0.9376808757576902,
          0.965732362675615,
          0.9576606322178867,
          0.8559445144155347,
          1.0037323961432265,
          0.7023056655062621,
          0.8717778090315571,
          0.7834736716270585,
          1.035965981350288,
          1.0706790609901804,
          0.6238153752325717,
          0.6934867567151821,
          0.9243099161385784,
          0.8569213452212695,
          0.9393391851626147,
          0.9058542687298093,
          0.9384200995007159,
          1.0003649360053237,
          0.8668626971484377,
          0.901627628868161,
          0.9392000312129911,
          0.7273823162703781,
          0.8369095479117342,
          0.9501840559109733,
          0.7508705817213353,
          0.9082448015590865,
          1.0155946116354804,
          1.0377815432841657,
          0.8051910008864382,
          1.1866184873016288,
          1.1895589646004179
         ],
         "y": [
          -52.5,
          -30,
          -10,
          -120,
          -127.5,
          -92.5,
          -172.5,
          -115.625,
          -210,
          -240,
          -217.5,
          -149.6875,
          -28.4375,
          -310,
          -290,
          -270,
          -340,
          -286.875,
          -370,
          -377.5,
          -317.1875,
          -430,
          -410,
          -423.75,
          -480,
          -476.25,
          -439.375,
          -530,
          -526.25,
          -465,
          -351.71875,
          -592.5,
          -428.203125,
          -109.765625
         ]
        },
        {
         "hoverinfo": "text",
         "hovertext": [
          "war_world war_war ii_world war ii_ii",
          "war_world war_war ii_world war ii_ii",
          "war_world war_world war ii_war ii_ii",
          "priest_vatican_exorcism_religious_faith",
          "connor_terminator_john connor_captain america_john",
          "christmas_santa_claus_santa claus_christmas eve",
          "king_evil_ancient_goku_power",
          "king_evil_ancient_dragon_princess",
          "superman_luthor_steel_super_batman",
          "earth_planet_alien_group_space",
          "earth_king_planet_world_evil",
          "life_film_story_star_world",
          "life_love_film_story_star",
          "job_money_boss_new_career",
          "love_sexual_girl_year old girl_old girl",
          "murder_court_patient_supreme_case",
          "mother_father_year old_old_family",
          "mother_father_son_year old_old",
          "police_cop_killer_officer_case",
          "gotham_batman_gotham city_joker_bruce wayne",
          "gotham_batman_gotham city_bruce wayne_joker",
          "police_cop_killer_crime_officer",
          "police_murder_cop_killer_mother",
          "school_high school_high_students_college",
          "school_high school_high_regina_cady",
          "school_high school_high_student_college",
          "life_new_school_man_young"
         ],
         "marker": {
          "color": "black"
         },
         "mode": "markers",
         "showlegend": false,
         "type": "scatter",
         "x": [
          0.7770388077543122,
          0.942809068419891,
          0.9751243857222556,
          0.89097177497152,
          0.9496534995127923,
          0.9937603539346372,
          0.7033917631792319,
          0.9464674348868178,
          0.921948419445341,
          1.0519264518404172,
          1.0607894447681365,
          0.8035315835775212,
          0.8589587907672326,
          0.8783609947564102,
          0.9591673513509179,
          0.9127251498193607,
          0.8268493392548485,
          0.8698771510383855,
          0.8763342206317826,
          0.9049380911229659,
          0.9703020830367861,
          1.0341468228116661,
          1.148838251179701,
          0.7305829464354714,
          0.8300443552713904,
          0.9124601360773283,
          1.3358274472777671
         ],
         "y": [
          -60,
          -63.75,
          -46.875,
          -100,
          -150,
          -138.75,
          -180,
          -183.75,
          -247.5,
          -232.5,
          -191.09375,
          -317.5,
          -303.75,
          -347.5,
          -386.25,
          -437.5,
          -487.5,
          -490.625,
          -537.5,
          -570,
          -562.5,
          -544.375,
          -504.6875,
          -600,
          -620,
          -606.25,
          -517.2265625
         ]
        }
       ],
       "layout": {
        "autosize": false,
        "height": 1145,
        "hoverlabel": {
         "bgcolor": "white",
         "font": {
          "family": "Rockwell",
          "size": 16
         }
        },
        "hovermode": "closest",
        "plot_bgcolor": "#ECEFF1",
        "showlegend": false,
        "template": {
         "data": {
          "bar": [
           {
            "error_x": {
             "color": "#2a3f5f"
            },
            "error_y": {
             "color": "#2a3f5f"
            },
            "marker": {
             "line": {
              "color": "white",
              "width": 0.5
             },
             "pattern": {
              "fillmode": "overlay",
              "size": 10,
              "solidity": 0.2
             }
            },
            "type": "bar"
           }
          ],
          "barpolar": [
           {
            "marker": {
             "line": {
              "color": "white",
              "width": 0.5
             },
             "pattern": {
              "fillmode": "overlay",
              "size": 10,
              "solidity": 0.2
             }
            },
            "type": "barpolar"
           }
          ],
          "carpet": [
           {
            "aaxis": {
             "endlinecolor": "#2a3f5f",
             "gridcolor": "#C8D4E3",
             "linecolor": "#C8D4E3",
             "minorgridcolor": "#C8D4E3",
             "startlinecolor": "#2a3f5f"
            },
            "baxis": {
             "endlinecolor": "#2a3f5f",
             "gridcolor": "#C8D4E3",
             "linecolor": "#C8D4E3",
             "minorgridcolor": "#C8D4E3",
             "startlinecolor": "#2a3f5f"
            },
            "type": "carpet"
           }
          ],
          "choropleth": [
           {
            "colorbar": {
             "outlinewidth": 0,
             "ticks": ""
            },
            "type": "choropleth"
           }
          ],
          "contour": [
           {
            "colorbar": {
             "outlinewidth": 0,
             "ticks": ""
            },
            "colorscale": [
             [
              0,
              "#0d0887"
             ],
             [
              0.1111111111111111,
              "#46039f"
             ],
             [
              0.2222222222222222,
              "#7201a8"
             ],
             [
              0.3333333333333333,
              "#9c179e"
             ],
             [
              0.4444444444444444,
              "#bd3786"
             ],
             [
              0.5555555555555556,
              "#d8576b"
             ],
             [
              0.6666666666666666,
              "#ed7953"
             ],
             [
              0.7777777777777778,
              "#fb9f3a"
             ],
             [
              0.8888888888888888,
              "#fdca26"
             ],
             [
              1,
              "#f0f921"
             ]
            ],
            "type": "contour"
           }
          ],
          "contourcarpet": [
           {
            "colorbar": {
             "outlinewidth": 0,
             "ticks": ""
            },
            "type": "contourcarpet"
           }
          ],
          "heatmap": [
           {
            "colorbar": {
             "outlinewidth": 0,
             "ticks": ""
            },
            "colorscale": [
             [
              0,
              "#0d0887"
             ],
             [
              0.1111111111111111,
              "#46039f"
             ],
             [
              0.2222222222222222,
              "#7201a8"
             ],
             [
              0.3333333333333333,
              "#9c179e"
             ],
             [
              0.4444444444444444,
              "#bd3786"
             ],
             [
              0.5555555555555556,
              "#d8576b"
             ],
             [
              0.6666666666666666,
              "#ed7953"
             ],
             [
              0.7777777777777778,
              "#fb9f3a"
             ],
             [
              0.8888888888888888,
              "#fdca26"
             ],
             [
              1,
              "#f0f921"
             ]
            ],
            "type": "heatmap"
           }
          ],
          "histogram": [
           {
            "marker": {
             "pattern": {
              "fillmode": "overlay",
              "size": 10,
              "solidity": 0.2
             }
            },
            "type": "histogram"
           }
          ],
          "histogram2d": [
           {
            "colorbar": {
             "outlinewidth": 0,
             "ticks": ""
            },
            "colorscale": [
             [
              0,
              "#0d0887"
             ],
             [
              0.1111111111111111,
              "#46039f"
             ],
             [
              0.2222222222222222,
              "#7201a8"
             ],
             [
              0.3333333333333333,
              "#9c179e"
             ],
             [
              0.4444444444444444,
              "#bd3786"
             ],
             [
              0.5555555555555556,
              "#d8576b"
             ],
             [
              0.6666666666666666,
              "#ed7953"
             ],
             [
              0.7777777777777778,
              "#fb9f3a"
             ],
             [
              0.8888888888888888,
              "#fdca26"
             ],
             [
              1,
              "#f0f921"
             ]
            ],
            "type": "histogram2d"
           }
          ],
          "histogram2dcontour": [
           {
            "colorbar": {
             "outlinewidth": 0,
             "ticks": ""
            },
            "colorscale": [
             [
              0,
              "#0d0887"
             ],
             [
              0.1111111111111111,
              "#46039f"
             ],
             [
              0.2222222222222222,
              "#7201a8"
             ],
             [
              0.3333333333333333,
              "#9c179e"
             ],
             [
              0.4444444444444444,
              "#bd3786"
             ],
             [
              0.5555555555555556,
              "#d8576b"
             ],
             [
              0.6666666666666666,
              "#ed7953"
             ],
             [
              0.7777777777777778,
              "#fb9f3a"
             ],
             [
              0.8888888888888888,
              "#fdca26"
             ],
             [
              1,
              "#f0f921"
             ]
            ],
            "type": "histogram2dcontour"
           }
          ],
          "mesh3d": [
           {
            "colorbar": {
             "outlinewidth": 0,
             "ticks": ""
            },
            "type": "mesh3d"
           }
          ],
          "parcoords": [
           {
            "line": {
             "colorbar": {
              "outlinewidth": 0,
              "ticks": ""
             }
            },
            "type": "parcoords"
           }
          ],
          "pie": [
           {
            "automargin": true,
            "type": "pie"
           }
          ],
          "scatter": [
           {
            "fillpattern": {
             "fillmode": "overlay",
             "size": 10,
             "solidity": 0.2
            },
            "type": "scatter"
           }
          ],
          "scatter3d": [
           {
            "line": {
             "colorbar": {
              "outlinewidth": 0,
              "ticks": ""
             }
            },
            "marker": {
             "colorbar": {
              "outlinewidth": 0,
              "ticks": ""
             }
            },
            "type": "scatter3d"
           }
          ],
          "scattercarpet": [
           {
            "marker": {
             "colorbar": {
              "outlinewidth": 0,
              "ticks": ""
             }
            },
            "type": "scattercarpet"
           }
          ],
          "scattergeo": [
           {
            "marker": {
             "colorbar": {
              "outlinewidth": 0,
              "ticks": ""
             }
            },
            "type": "scattergeo"
           }
          ],
          "scattergl": [
           {
            "marker": {
             "colorbar": {
              "outlinewidth": 0,
              "ticks": ""
             }
            },
            "type": "scattergl"
           }
          ],
          "scattermap": [
           {
            "marker": {
             "colorbar": {
              "outlinewidth": 0,
              "ticks": ""
             }
            },
            "type": "scattermap"
           }
          ],
          "scattermapbox": [
           {
            "marker": {
             "colorbar": {
              "outlinewidth": 0,
              "ticks": ""
             }
            },
            "type": "scattermapbox"
           }
          ],
          "scatterpolar": [
           {
            "marker": {
             "colorbar": {
              "outlinewidth": 0,
              "ticks": ""
             }
            },
            "type": "scatterpolar"
           }
          ],
          "scatterpolargl": [
           {
            "marker": {
             "colorbar": {
              "outlinewidth": 0,
              "ticks": ""
             }
            },
            "type": "scatterpolargl"
           }
          ],
          "scatterternary": [
           {
            "marker": {
             "colorbar": {
              "outlinewidth": 0,
              "ticks": ""
             }
            },
            "type": "scatterternary"
           }
          ],
          "surface": [
           {
            "colorbar": {
             "outlinewidth": 0,
             "ticks": ""
            },
            "colorscale": [
             [
              0,
              "#0d0887"
             ],
             [
              0.1111111111111111,
              "#46039f"
             ],
             [
              0.2222222222222222,
              "#7201a8"
             ],
             [
              0.3333333333333333,
              "#9c179e"
             ],
             [
              0.4444444444444444,
              "#bd3786"
             ],
             [
              0.5555555555555556,
              "#d8576b"
             ],
             [
              0.6666666666666666,
              "#ed7953"
             ],
             [
              0.7777777777777778,
              "#fb9f3a"
             ],
             [
              0.8888888888888888,
              "#fdca26"
             ],
             [
              1,
              "#f0f921"
             ]
            ],
            "type": "surface"
           }
          ],
          "table": [
           {
            "cells": {
             "fill": {
              "color": "#EBF0F8"
             },
             "line": {
              "color": "white"
             }
            },
            "header": {
             "fill": {
              "color": "#C8D4E3"
             },
             "line": {
              "color": "white"
             }
            },
            "type": "table"
           }
          ]
         },
         "layout": {
          "annotationdefaults": {
           "arrowcolor": "#2a3f5f",
           "arrowhead": 0,
           "arrowwidth": 1
          },
          "autotypenumbers": "strict",
          "coloraxis": {
           "colorbar": {
            "outlinewidth": 0,
            "ticks": ""
           }
          },
          "colorscale": {
           "diverging": [
            [
             0,
             "#8e0152"
            ],
            [
             0.1,
             "#c51b7d"
            ],
            [
             0.2,
             "#de77ae"
            ],
            [
             0.3,
             "#f1b6da"
            ],
            [
             0.4,
             "#fde0ef"
            ],
            [
             0.5,
             "#f7f7f7"
            ],
            [
             0.6,
             "#e6f5d0"
            ],
            [
             0.7,
             "#b8e186"
            ],
            [
             0.8,
             "#7fbc41"
            ],
            [
             0.9,
             "#4d9221"
            ],
            [
             1,
             "#276419"
            ]
           ],
           "sequential": [
            [
             0,
             "#0d0887"
            ],
            [
             0.1111111111111111,
             "#46039f"
            ],
            [
             0.2222222222222222,
             "#7201a8"
            ],
            [
             0.3333333333333333,
             "#9c179e"
            ],
            [
             0.4444444444444444,
             "#bd3786"
            ],
            [
             0.5555555555555556,
             "#d8576b"
            ],
            [
             0.6666666666666666,
             "#ed7953"
            ],
            [
             0.7777777777777778,
             "#fb9f3a"
            ],
            [
             0.8888888888888888,
             "#fdca26"
            ],
            [
             1,
             "#f0f921"
            ]
           ],
           "sequentialminus": [
            [
             0,
             "#0d0887"
            ],
            [
             0.1111111111111111,
             "#46039f"
            ],
            [
             0.2222222222222222,
             "#7201a8"
            ],
            [
             0.3333333333333333,
             "#9c179e"
            ],
            [
             0.4444444444444444,
             "#bd3786"
            ],
            [
             0.5555555555555556,
             "#d8576b"
            ],
            [
             0.6666666666666666,
             "#ed7953"
            ],
            [
             0.7777777777777778,
             "#fb9f3a"
            ],
            [
             0.8888888888888888,
             "#fdca26"
            ],
            [
             1,
             "#f0f921"
            ]
           ]
          },
          "colorway": [
           "#636efa",
           "#EF553B",
           "#00cc96",
           "#ab63fa",
           "#FFA15A",
           "#19d3f3",
           "#FF6692",
           "#B6E880",
           "#FF97FF",
           "#FECB52"
          ],
          "font": {
           "color": "#2a3f5f"
          },
          "geo": {
           "bgcolor": "white",
           "lakecolor": "white",
           "landcolor": "white",
           "showlakes": true,
           "showland": true,
           "subunitcolor": "#C8D4E3"
          },
          "hoverlabel": {
           "align": "left"
          },
          "hovermode": "closest",
          "mapbox": {
           "style": "light"
          },
          "paper_bgcolor": "white",
          "plot_bgcolor": "white",
          "polar": {
           "angularaxis": {
            "gridcolor": "#EBF0F8",
            "linecolor": "#EBF0F8",
            "ticks": ""
           },
           "bgcolor": "white",
           "radialaxis": {
            "gridcolor": "#EBF0F8",
            "linecolor": "#EBF0F8",
            "ticks": ""
           }
          },
          "scene": {
           "xaxis": {
            "backgroundcolor": "white",
            "gridcolor": "#DFE8F3",
            "gridwidth": 2,
            "linecolor": "#EBF0F8",
            "showbackground": true,
            "ticks": "",
            "zerolinecolor": "#EBF0F8"
           },
           "yaxis": {
            "backgroundcolor": "white",
            "gridcolor": "#DFE8F3",
            "gridwidth": 2,
            "linecolor": "#EBF0F8",
            "showbackground": true,
            "ticks": "",
            "zerolinecolor": "#EBF0F8"
           },
           "zaxis": {
            "backgroundcolor": "white",
            "gridcolor": "#DFE8F3",
            "gridwidth": 2,
            "linecolor": "#EBF0F8",
            "showbackground": true,
            "ticks": "",
            "zerolinecolor": "#EBF0F8"
           }
          },
          "shapedefaults": {
           "line": {
            "color": "#2a3f5f"
           }
          },
          "ternary": {
           "aaxis": {
            "gridcolor": "#DFE8F3",
            "linecolor": "#A2B1C6",
            "ticks": ""
           },
           "baxis": {
            "gridcolor": "#DFE8F3",
            "linecolor": "#A2B1C6",
            "ticks": ""
           },
           "bgcolor": "white",
           "caxis": {
            "gridcolor": "#DFE8F3",
            "linecolor": "#A2B1C6",
            "ticks": ""
           }
          },
          "title": {
           "x": 0.05
          },
          "xaxis": {
           "automargin": true,
           "gridcolor": "#EBF0F8",
           "linecolor": "#EBF0F8",
           "ticks": "",
           "title": {
            "standoff": 15
           },
           "zerolinecolor": "#EBF0F8",
           "zerolinewidth": 2
          },
          "yaxis": {
           "automargin": true,
           "gridcolor": "#EBF0F8",
           "linecolor": "#EBF0F8",
           "ticks": "",
           "title": {
            "standoff": 15
           },
           "zerolinecolor": "#EBF0F8",
           "zerolinewidth": 2
          }
         }
        },
        "title": {
         "font": {
          "color": "Black",
          "size": 22
         },
         "text": "<b>Hierarchical Clustering</b>",
         "x": 0.5,
         "xanchor": "center",
         "yanchor": "top"
        },
        "width": 1000,
        "xaxis": {
         "mirror": "allticks",
         "rangemode": "tozero",
         "showgrid": false,
         "showline": true,
         "showticklabels": true,
         "ticks": "outside",
         "type": "linear",
         "zeroline": false
        },
        "yaxis": {
         "mirror": "allticks",
         "range": [
          -630,
          0
         ],
         "rangemode": "tozero",
         "showgrid": false,
         "showline": true,
         "showticklabels": true,
         "tickmode": "array",
         "ticks": "outside",
         "ticktext": [
          "27_champion_boxer_boxing",
          "11_team_coach_football",
          "28_president_election_presi...",
          "6_cia_agent_nuclear",
          "23_civil war_civil_slave",
          "4_war_world war_war ii",
          "35_platoon_dodge_war",
          "32_martial_ip_china",
          "62_liam_strange_bodies",
          "56_shun_saved_young woman",
          "29_priest_vatican_exorcism",
          "44_scooby_mystery_doo",
          "52_witches_witch_wendy",
          "16_christmas_santa_claus",
          "50_connor_terminator_john c...",
          "59_lincoln_caesar_okoye",
          "14_egg_bear_named",
          "1_king_ancient_goku",
          "19_fairy_princess_ariel",
          "45_queen_royal_king",
          "5_group_friends_discover",
          "7_virus_survivors_zombies",
          "3_earth_planet_space",
          "41_superman_luthor_steel",
          "24_sonic_spider_super",
          "57_xavier_wolverine_mutants",
          "47_taiwan_su_jong",
          "46_sage_meets_longing",
          "8_relationship_love_couple",
          "12_married_wedding_relation...",
          "10_woman_life_1960s",
          "0_life_film_story",
          "17_erik_marvin_life",
          "18_money_job_pay",
          "20_executive_blanco_invest",
          "30_boss_jorge_chelsea",
          "51_african american_african...",
          "36_year old girl_old girl_v...",
          "42_societal_generational_ch...",
          "48_worlds_parallel_moments",
          "33_husband_tammy_woman",
          "34_woman_young woman_carla",
          "22_man_hospital_mental",
          "43_murder_besson_patient",
          "39_court_supreme_case",
          "55_mason_burned_egypt",
          "25_sorority_father_son",
          "13_mother_daughter_father",
          "15_mother_father_young",
          "21_year old_old_school",
          "26_claim_inheritance_moore",
          "49_cat mouse_mouse_cat",
          "37_hit_stone_melvin",
          "2_police_cop_killer",
          "40_driver_taxi_car",
          "54_corleone_crime family_cuba",
          "58_crime_life crime_spain",
          "31_gotham_batman_gotham city",
          "60_student_high school_girls",
          "9_school_students_high school",
          "53_high school_high_school",
          "38_school_shelley_halloween...",
          "61_elle_cher_school"
         ],
         "tickvals": [
          -5,
          -15,
          -25,
          -35,
          -45,
          -55,
          -65,
          -75,
          -85,
          -95,
          -105,
          -115,
          -125,
          -135,
          -145,
          -155,
          -165,
          -175,
          -185,
          -195,
          -205,
          -215,
          -225,
          -235,
          -245,
          -255,
          -265,
          -275,
          -285,
          -295,
          -305,
          -315,
          -325,
          -335,
          -345,
          -355,
          -365,
          -375,
          -385,
          -395,
          -405,
          -415,
          -425,
          -435,
          -445,
          -455,
          -465,
          -475,
          -485,
          -495,
          -505,
          -515,
          -525,
          -535,
          -545,
          -555,
          -565,
          -575,
          -585,
          -595,
          -605,
          -615,
          -625
         ],
         "type": "linear",
         "zeroline": false
        }
       }
      }
     },
     "metadata": {},
     "output_type": "display_data"
    }
   ],
   "source": [
    "# visualização hierárquica dos tópicos\n",
    "hierarchical_topics = topic_model.hierarchical_topics(valid_overviews)\n",
    "topic_model.visualize_hierarchy(hierarchical_topics=hierarchical_topics).show(height=800, width=1200)\n"
   ]
  },
  {
   "cell_type": "code",
   "execution_count": 7,
   "id": "576c46dc",
   "metadata": {},
   "outputs": [],
   "source": [
    "import ast\n",
    "\n",
    "movies_overview = pd.read_csv('data/movies_overview.csv')\n",
    "movies_genres = pd.read_csv('data/movies_genres.csv')\n",
    "\n",
    "# convertendo 'genre_ids' de string para lista\n",
    "movies_overview['genre_ids'] = movies_overview['genre_ids'].apply(lambda x: ast.literal_eval(x) if pd.notnull(x) else [])\n",
    "\n",
    "# dicionário de gêneros\n",
    "genre_dict = movies_genres.set_index('id')['name'].to_dict()\n",
    "\n",
    "# coluna com nomes dos gêneros\n",
    "movies_overview['genres'] = movies_overview['genre_ids'].apply(\n",
    "    lambda ids: [genre_dict[id] for id in ids if id in genre_dict]\n",
    ")\n",
    "\n",
    "# remoção de linhas sem overview\n",
    "movies_overview = movies_overview.dropna(subset=['overview']).reset_index(drop=True)"
   ]
  },
  {
   "cell_type": "code",
   "execution_count": 8,
   "id": "40c560be",
   "metadata": {},
   "outputs": [
    {
     "data": {
      "application/vnd.plotly.v1+json": {
       "config": {
        "plotlyServerURL": "https://plot.ly"
       },
       "data": [
        {
         "hoverinfo": "text",
         "hovertext": [
          "<b>Topic 0</b><br>Words: life, film, story, star, music",
          "<b>Topic 0</b><br>Words: life, film, story, star, music",
          "<b>Topic 0</b><br>Words: life, film, story, star, music",
          "<b>Topic 0</b><br>Words: life, film, story, star, music",
          "<b>Topic 0</b><br>Words: life, film, story, star, music",
          "<b>Topic 0</b><br>Words: life, film, story, star, music",
          "<b>Topic 0</b><br>Words: life, film, story, star, music",
          "<b>Topic 0</b><br>Words: life, film, story, star, music",
          "<b>Topic 0</b><br>Words: life, film, story, star, music",
          "<b>Topic 0</b><br>Words: life, film, story, star, music",
          "<b>Topic 0</b><br>Words: life, film, story, star, music",
          "<b>Topic 0</b><br>Words: life, film, story, star, music",
          "<b>Topic 0</b><br>Words: life, film, story, star, music",
          "<b>Topic 0</b><br>Words: life, film, story, star, music",
          "<b>Topic 0</b><br>Words: life, film, story, star, music",
          "<b>Topic 0</b><br>Words: life, film, story, star, music",
          "<b>Topic 0</b><br>Words: life, film, story, star, music",
          "<b>Topic 0</b><br>Words: life, film, story, star, music"
         ],
         "marker": {
          "color": "#E69F00"
         },
         "name": "0_life_film_story_star",
         "orientation": "h",
         "type": "bar",
         "visible": true,
         "x": {
          "bdata": "qrkQ8ccZoz8pOFjM3hOxP+v/zzRs7bc/B7bQTSccxz/pRvULFJ6xPysG3XJ698k/X4RZ4S6xtj9c56EQXSi5P3izmu+6LdI/pQGJN7LksT/0wJfvXjLrPwqY+2FTirY/EO6BE/0TyD/P5xiAOOutPx0Dye7ALaY/FHaAQyhGsD/3bc+2CWLFP2O9oFwVXaE/",
          "dtype": "f8"
         },
         "y": [
          "Action",
          "Adventure",
          "Animation",
          "Comedy",
          "Crime",
          "Drama",
          "Family",
          "Fantasy",
          "History",
          "Horror",
          "Music",
          "Mystery",
          "Romance",
          "Science Fiction",
          "TV Movie",
          "Thriller",
          "War",
          "Western"
         ]
        },
        {
         "hoverinfo": "text",
         "hovertext": [
          "<b>Topic 1</b><br>Words: king, ancient, goku, power, evil",
          "<b>Topic 1</b><br>Words: king, ancient, goku, power, evil",
          "<b>Topic 1</b><br>Words: king, ancient, goku, power, evil",
          "<b>Topic 1</b><br>Words: king, ancient, goku, power, evil",
          "<b>Topic 1</b><br>Words: king, ancient, goku, power, evil",
          "<b>Topic 1</b><br>Words: king, ancient, goku, power, evil",
          "<b>Topic 1</b><br>Words: king, ancient, goku, power, evil",
          "<b>Topic 1</b><br>Words: king, ancient, goku, power, evil",
          "<b>Topic 1</b><br>Words: king, ancient, goku, power, evil",
          "<b>Topic 1</b><br>Words: king, ancient, goku, power, evil",
          "<b>Topic 1</b><br>Words: king, ancient, goku, power, evil",
          "<b>Topic 1</b><br>Words: king, ancient, goku, power, evil",
          "<b>Topic 1</b><br>Words: king, ancient, goku, power, evil",
          "<b>Topic 1</b><br>Words: king, ancient, goku, power, evil",
          "<b>Topic 1</b><br>Words: king, ancient, goku, power, evil",
          "<b>Topic 1</b><br>Words: king, ancient, goku, power, evil",
          "<b>Topic 1</b><br>Words: king, ancient, goku, power, evil",
          "<b>Topic 1</b><br>Words: king, ancient, goku, power, evil"
         ],
         "marker": {
          "color": "#56B4E9"
         },
         "name": "1_king_ancient_goku_power",
         "orientation": "h",
         "type": "bar",
         "visible": "legendonly",
         "x": {
          "bdata": "g1J7925b0j9edOH3RfDbP6ZKetC7h90/Fg3PPvfXsj8QjJYjXzCVP8EclRJ95bM/b5i9j2+30D+yPE0sDpffPxfS8RGrJ9A/cPiEq+nmtD8RBZWAg+SXP6XnNGtImps/5lxTddN7qj8emrNbfaPJP5W78CumAcU/Nu+kx8dXoz/mEUtTv7fJP3GAD8uC7bU/",
          "dtype": "f8"
         },
         "y": [
          "Action",
          "Adventure",
          "Animation",
          "Comedy",
          "Crime",
          "Drama",
          "Family",
          "Fantasy",
          "History",
          "Horror",
          "Music",
          "Mystery",
          "Romance",
          "Science Fiction",
          "TV Movie",
          "Thriller",
          "War",
          "Western"
         ]
        },
        {
         "hoverinfo": "text",
         "hovertext": [
          "<b>Topic 2</b><br>Words: police, cop, killer, case, officer",
          "<b>Topic 2</b><br>Words: police, cop, killer, case, officer",
          "<b>Topic 2</b><br>Words: police, cop, killer, case, officer",
          "<b>Topic 2</b><br>Words: police, cop, killer, case, officer",
          "<b>Topic 2</b><br>Words: police, cop, killer, case, officer",
          "<b>Topic 2</b><br>Words: police, cop, killer, case, officer",
          "<b>Topic 2</b><br>Words: police, cop, killer, case, officer",
          "<b>Topic 2</b><br>Words: police, cop, killer, case, officer",
          "<b>Topic 2</b><br>Words: police, cop, killer, case, officer",
          "<b>Topic 2</b><br>Words: police, cop, killer, case, officer",
          "<b>Topic 2</b><br>Words: police, cop, killer, case, officer",
          "<b>Topic 2</b><br>Words: police, cop, killer, case, officer",
          "<b>Topic 2</b><br>Words: police, cop, killer, case, officer",
          "<b>Topic 2</b><br>Words: police, cop, killer, case, officer",
          "<b>Topic 2</b><br>Words: police, cop, killer, case, officer",
          "<b>Topic 2</b><br>Words: police, cop, killer, case, officer",
          "<b>Topic 2</b><br>Words: police, cop, killer, case, officer"
         ],
         "marker": {
          "color": "#009E73"
         },
         "name": "2_police_cop_killer_case",
         "orientation": "h",
         "type": "bar",
         "visible": "legendonly",
         "x": {
          "bdata": "S9VXieGu2T/ZQhHZ9I6sPyqPNuY2G4k/DqB9gbj1uz/zdGlrEH3nP4xK4t7XC8c/gzBbJ6QldD/1RReMYbKNPyH/5YQYfKE/7KvtfzYbqz8urPMS5sfPP0mQONVUiKc/ZE08asO/qz8kVOEuqf+3P7FTrJIno9k/c8pvou+gkT+ZPuV3wi68Pw==",
          "dtype": "f8"
         },
         "y": [
          "Action",
          "Adventure",
          "Animation",
          "Comedy",
          "Crime",
          "Drama",
          "Family",
          "Fantasy",
          "History",
          "Horror",
          "Mystery",
          "Romance",
          "Science Fiction",
          "TV Movie",
          "Thriller",
          "War",
          "Western"
         ]
        },
        {
         "hoverinfo": "text",
         "hovertext": [
          "<b>Topic 3</b><br>Words: earth, planet, space, alien, crew",
          "<b>Topic 3</b><br>Words: earth, planet, space, alien, crew",
          "<b>Topic 3</b><br>Words: earth, planet, space, alien, crew",
          "<b>Topic 3</b><br>Words: earth, planet, space, alien, crew",
          "<b>Topic 3</b><br>Words: earth, planet, space, alien, crew",
          "<b>Topic 3</b><br>Words: earth, planet, space, alien, crew",
          "<b>Topic 3</b><br>Words: earth, planet, space, alien, crew",
          "<b>Topic 3</b><br>Words: earth, planet, space, alien, crew",
          "<b>Topic 3</b><br>Words: earth, planet, space, alien, crew",
          "<b>Topic 3</b><br>Words: earth, planet, space, alien, crew",
          "<b>Topic 3</b><br>Words: earth, planet, space, alien, crew",
          "<b>Topic 3</b><br>Words: earth, planet, space, alien, crew",
          "<b>Topic 3</b><br>Words: earth, planet, space, alien, crew",
          "<b>Topic 3</b><br>Words: earth, planet, space, alien, crew",
          "<b>Topic 3</b><br>Words: earth, planet, space, alien, crew",
          "<b>Topic 3</b><br>Words: earth, planet, space, alien, crew"
         ],
         "marker": {
          "color": "#F0E442"
         },
         "name": "3_earth_planet_space_alien",
         "orientation": "h",
         "type": "bar",
         "visible": "legendonly",
         "x": {
          "bdata": "SUuKU/ddzD8aNsF5O4nQP64yrH6/K7k/fvofAZL4pj/sX+m8PC6FPxAAhABb3Kg/3CMZYL6GsD9v+QtI+N6sP32+RT6f/7A/Cg9WHIalzT+PcVh9XI61P4LrCoUlg5g/SLEBjAnS6z8WRMBlnH/BP7Nl0P3R4cI/OlS1Iyi1mT8=",
          "dtype": "f8"
         },
         "y": [
          "Action",
          "Adventure",
          "Animation",
          "Comedy",
          "Crime",
          "Drama",
          "Family",
          "Fantasy",
          "History",
          "Horror",
          "Mystery",
          "Romance",
          "Science Fiction",
          "TV Movie",
          "Thriller",
          "War"
         ]
        },
        {
         "hoverinfo": "text",
         "hovertext": [
          "<b>Topic 4</b><br>Words: war, world war, war ii, world war ii, ii",
          "<b>Topic 4</b><br>Words: war, world war, war ii, world war ii, ii",
          "<b>Topic 4</b><br>Words: war, world war, war ii, world war ii, ii",
          "<b>Topic 4</b><br>Words: war, world war, war ii, world war ii, ii",
          "<b>Topic 4</b><br>Words: war, world war, war ii, world war ii, ii",
          "<b>Topic 4</b><br>Words: war, world war, war ii, world war ii, ii",
          "<b>Topic 4</b><br>Words: war, world war, war ii, world war ii, ii",
          "<b>Topic 4</b><br>Words: war, world war, war ii, world war ii, ii",
          "<b>Topic 4</b><br>Words: war, world war, war ii, world war ii, ii",
          "<b>Topic 4</b><br>Words: war, world war, war ii, world war ii, ii",
          "<b>Topic 4</b><br>Words: war, world war, war ii, world war ii, ii",
          "<b>Topic 4</b><br>Words: war, world war, war ii, world war ii, ii",
          "<b>Topic 4</b><br>Words: war, world war, war ii, world war ii, ii",
          "<b>Topic 4</b><br>Words: war, world war, war ii, world war ii, ii",
          "<b>Topic 4</b><br>Words: war, world war, war ii, world war ii, ii"
         ],
         "marker": {
          "color": "#D55E00"
         },
         "name": "4_war_world war_war ii_world war ii",
         "orientation": "h",
         "type": "bar",
         "visible": "legendonly",
         "x": {
          "bdata": "D6XtlnXaqz9C1dZYdn6hP5hPHyUWJXo/YEkD/g/3hj9P8tUoEUBuP3jxsUJQxLA/izyeFumdhD84IENZOgnZP8qioUZLIXA/2j963BSheD9+ZxnWwQGMPyqDS0cnfZo/FQx8o839mD/MNK9Z+x+dP0tyW1YFQu0/",
          "dtype": "f8"
         },
         "y": [
          "Action",
          "Adventure",
          "Animation",
          "Comedy",
          "Crime",
          "Drama",
          "Fantasy",
          "History",
          "Horror",
          "Mystery",
          "Romance",
          "Science Fiction",
          "TV Movie",
          "Thriller",
          "War"
         ]
        },
        {
         "hoverinfo": "text",
         "hovertext": [
          "<b>Topic 5</b><br>Words: group, friends, discover, deserted, group friends",
          "<b>Topic 5</b><br>Words: group, friends, discover, deserted, group friends",
          "<b>Topic 5</b><br>Words: group, friends, discover, deserted, group friends",
          "<b>Topic 5</b><br>Words: group, friends, discover, deserted, group friends",
          "<b>Topic 5</b><br>Words: group, friends, discover, deserted, group friends",
          "<b>Topic 5</b><br>Words: group, friends, discover, deserted, group friends",
          "<b>Topic 5</b><br>Words: group, friends, discover, deserted, group friends",
          "<b>Topic 5</b><br>Words: group, friends, discover, deserted, group friends",
          "<b>Topic 5</b><br>Words: group, friends, discover, deserted, group friends",
          "<b>Topic 5</b><br>Words: group, friends, discover, deserted, group friends",
          "<b>Topic 5</b><br>Words: group, friends, discover, deserted, group friends",
          "<b>Topic 5</b><br>Words: group, friends, discover, deserted, group friends",
          "<b>Topic 5</b><br>Words: group, friends, discover, deserted, group friends",
          "<b>Topic 5</b><br>Words: group, friends, discover, deserted, group friends",
          "<b>Topic 5</b><br>Words: group, friends, discover, deserted, group friends"
         ],
         "marker": {
          "color": "#0072B2"
         },
         "name": "5_group_friends_discover_deserted",
         "orientation": "h",
         "type": "bar",
         "visible": "legendonly",
         "x": {
          "bdata": "ZlMwwxySvj+HrdjzLCzOP4rSmEVqm9U/lgSEjRLrwT8UM2CgPhaqPyzJtY2MtKk/xuljd6Inzj9epFTdgcfBP/00FNXF5OY/xkiT3lCDqD8Wtaj2pJXSPxmI7in8GZA/sUMV8k+wyz9EFQtNxx/QP/9GsfRAf7Y/",
          "dtype": "f8"
         },
         "y": [
          "Action",
          "Adventure",
          "Animation",
          "Comedy",
          "Crime",
          "Drama",
          "Family",
          "Fantasy",
          "Horror",
          "Music",
          "Mystery",
          "Romance",
          "Science Fiction",
          "Thriller",
          "Western"
         ]
        },
        {
         "hoverinfo": "text",
         "hovertext": [
          "<b>Topic 6</b><br>Words: cia, agent, nuclear, government, international",
          "<b>Topic 6</b><br>Words: cia, agent, nuclear, government, international",
          "<b>Topic 6</b><br>Words: cia, agent, nuclear, government, international",
          "<b>Topic 6</b><br>Words: cia, agent, nuclear, government, international",
          "<b>Topic 6</b><br>Words: cia, agent, nuclear, government, international",
          "<b>Topic 6</b><br>Words: cia, agent, nuclear, government, international",
          "<b>Topic 6</b><br>Words: cia, agent, nuclear, government, international",
          "<b>Topic 6</b><br>Words: cia, agent, nuclear, government, international",
          "<b>Topic 6</b><br>Words: cia, agent, nuclear, government, international",
          "<b>Topic 6</b><br>Words: cia, agent, nuclear, government, international",
          "<b>Topic 6</b><br>Words: cia, agent, nuclear, government, international",
          "<b>Topic 6</b><br>Words: cia, agent, nuclear, government, international",
          "<b>Topic 6</b><br>Words: cia, agent, nuclear, government, international",
          "<b>Topic 6</b><br>Words: cia, agent, nuclear, government, international",
          "<b>Topic 6</b><br>Words: cia, agent, nuclear, government, international",
          "<b>Topic 6</b><br>Words: cia, agent, nuclear, government, international"
         ],
         "marker": {
          "color": "#CC79A7"
         },
         "name": "6_cia_agent_nuclear_government",
         "orientation": "h",
         "type": "bar",
         "visible": "legendonly",
         "x": {
          "bdata": "yX28PHD74D855Q8RI3fXP7YIb1Wce5M/SgYUmoOruT/Yt214GgXTPzJPrQ02JsE/FIa4qM5Ejz+IxHZlE7qeP4oFKuMwncY/B0QeUTQKiD/VWcVMeVqyP3X4W/XR3oQ/L6YciWQfuT8IfQSskZ/CP+Xrjjbuvd0/UnWh0zRc2z8=",
          "dtype": "f8"
         },
         "y": [
          "Action",
          "Adventure",
          "Animation",
          "Comedy",
          "Crime",
          "Drama",
          "Family",
          "Fantasy",
          "History",
          "Horror",
          "Mystery",
          "Romance",
          "Science Fiction",
          "TV Movie",
          "Thriller",
          "War"
         ]
        },
        {
         "hoverinfo": "text",
         "hovertext": [
          "<b>Topic 7</b><br>Words: virus, survivors, zombies, infected, outbreak",
          "<b>Topic 7</b><br>Words: virus, survivors, zombies, infected, outbreak",
          "<b>Topic 7</b><br>Words: virus, survivors, zombies, infected, outbreak",
          "<b>Topic 7</b><br>Words: virus, survivors, zombies, infected, outbreak",
          "<b>Topic 7</b><br>Words: virus, survivors, zombies, infected, outbreak",
          "<b>Topic 7</b><br>Words: virus, survivors, zombies, infected, outbreak",
          "<b>Topic 7</b><br>Words: virus, survivors, zombies, infected, outbreak",
          "<b>Topic 7</b><br>Words: virus, survivors, zombies, infected, outbreak",
          "<b>Topic 7</b><br>Words: virus, survivors, zombies, infected, outbreak",
          "<b>Topic 7</b><br>Words: virus, survivors, zombies, infected, outbreak",
          "<b>Topic 7</b><br>Words: virus, survivors, zombies, infected, outbreak",
          "<b>Topic 7</b><br>Words: virus, survivors, zombies, infected, outbreak",
          "<b>Topic 7</b><br>Words: virus, survivors, zombies, infected, outbreak",
          "<b>Topic 7</b><br>Words: virus, survivors, zombies, infected, outbreak",
          "<b>Topic 7</b><br>Words: virus, survivors, zombies, infected, outbreak",
          "<b>Topic 7</b><br>Words: virus, survivors, zombies, infected, outbreak"
         ],
         "marker": {
          "color": "#E69F00"
         },
         "name": "7_virus_survivors_zombies_infected",
         "orientation": "h",
         "type": "bar",
         "visible": "legendonly",
         "x": {
          "bdata": "/C2JNG6bzT/IU+Fh72O+P5PePqT7d7E/lJPAzWe6sz+HASn3MTaEP+MDBsOcc7I/dU9rD8mFsT/aU/DJCjixP9PQZzhag+E/nZsM0gR9rD9KfZA7G6+4P069mmR4toI/BM6Kyo645T92CS2KsLLQP6guBA1tN9A/caL8exmIqD8=",
          "dtype": "f8"
         },
         "y": [
          "Action",
          "Adventure",
          "Animation",
          "Comedy",
          "Crime",
          "Drama",
          "Family",
          "Fantasy",
          "Horror",
          "Music",
          "Mystery",
          "Romance",
          "Science Fiction",
          "TV Movie",
          "Thriller",
          "War"
         ]
        },
        {
         "hoverinfo": "text",
         "hovertext": [
          "<b>Topic 8</b><br>Words: relationship, love, couple, friends, relationships",
          "<b>Topic 8</b><br>Words: relationship, love, couple, friends, relationships",
          "<b>Topic 8</b><br>Words: relationship, love, couple, friends, relationships",
          "<b>Topic 8</b><br>Words: relationship, love, couple, friends, relationships",
          "<b>Topic 8</b><br>Words: relationship, love, couple, friends, relationships",
          "<b>Topic 8</b><br>Words: relationship, love, couple, friends, relationships",
          "<b>Topic 8</b><br>Words: relationship, love, couple, friends, relationships",
          "<b>Topic 8</b><br>Words: relationship, love, couple, friends, relationships",
          "<b>Topic 8</b><br>Words: relationship, love, couple, friends, relationships",
          "<b>Topic 8</b><br>Words: relationship, love, couple, friends, relationships",
          "<b>Topic 8</b><br>Words: relationship, love, couple, friends, relationships",
          "<b>Topic 8</b><br>Words: relationship, love, couple, friends, relationships",
          "<b>Topic 8</b><br>Words: relationship, love, couple, friends, relationships",
          "<b>Topic 8</b><br>Words: relationship, love, couple, friends, relationships",
          "<b>Topic 8</b><br>Words: relationship, love, couple, friends, relationships"
         ],
         "marker": {
          "color": "#56B4E9"
         },
         "name": "8_relationship_love_couple_friends",
         "orientation": "h",
         "type": "bar",
         "visible": "legendonly",
         "x": {
          "bdata": "z2wdpdtGgz8XYlUG0KKKPwKDcXY44Zg/uzRmqksG1z8Vs/eZWMmcPwvJff60RNA/U9sWhafyrT+rl+qzhZ6TP4mRk1M6Bqc/chBiQYpJtD+aUoyJ/W+XP0X2l9qc0ek/Kh1hIRxVkj+UF4O8OcjXP10VxVzYoqg/",
          "dtype": "f8"
         },
         "y": [
          "Action",
          "Adventure",
          "Animation",
          "Comedy",
          "Crime",
          "Drama",
          "Family",
          "Fantasy",
          "Horror",
          "Music",
          "Mystery",
          "Romance",
          "Science Fiction",
          "TV Movie",
          "Thriller"
         ]
        },
        {
         "hoverinfo": "text",
         "hovertext": [
          "<b>Topic 9</b><br>Words: school, students, high school, high, student",
          "<b>Topic 9</b><br>Words: school, students, high school, high, student",
          "<b>Topic 9</b><br>Words: school, students, high school, high, student",
          "<b>Topic 9</b><br>Words: school, students, high school, high, student",
          "<b>Topic 9</b><br>Words: school, students, high school, high, student",
          "<b>Topic 9</b><br>Words: school, students, high school, high, student",
          "<b>Topic 9</b><br>Words: school, students, high school, high, student",
          "<b>Topic 9</b><br>Words: school, students, high school, high, student",
          "<b>Topic 9</b><br>Words: school, students, high school, high, student",
          "<b>Topic 9</b><br>Words: school, students, high school, high, student",
          "<b>Topic 9</b><br>Words: school, students, high school, high, student",
          "<b>Topic 9</b><br>Words: school, students, high school, high, student",
          "<b>Topic 9</b><br>Words: school, students, high school, high, student",
          "<b>Topic 9</b><br>Words: school, students, high school, high, student",
          "<b>Topic 9</b><br>Words: school, students, high school, high, student",
          "<b>Topic 9</b><br>Words: school, students, high school, high, student"
         ],
         "marker": {
          "color": "#009E73"
         },
         "name": "9_school_students_high school_high",
         "orientation": "h",
         "type": "bar",
         "visible": "legendonly",
         "x": {
          "bdata": "lG4qC7Bsuj+DQyN0mkGSP6JjViN0DaE/2Oujelu/2j9JWFQ9aJjNP0KL6Xs9utM/YqnZnUheqz8SAJaL2+SqPwm5MmZFq68/GtHmyzVpwj+T0ENXd9vkP47uY0ZiEMA/yQFi/eWM1D/GrcLVTCGpP7VX1jDcTNA/z5QP5iazwz8=",
          "dtype": "f8"
         },
         "y": [
          "Action",
          "Adventure",
          "Animation",
          "Comedy",
          "Crime",
          "Drama",
          "Family",
          "Fantasy",
          "History",
          "Horror",
          "Music",
          "Mystery",
          "Romance",
          "Science Fiction",
          "TV Movie",
          "Thriller"
         ]
        }
       ],
       "layout": {
        "height": 600,
        "hoverlabel": {
         "bgcolor": "white",
         "font": {
          "family": "Rockwell",
          "size": 16
         }
        },
        "legend": {
         "title": {
          "text": "<b>Global Topic Representation"
         }
        },
        "template": {
         "data": {
          "bar": [
           {
            "error_x": {
             "color": "rgb(36,36,36)"
            },
            "error_y": {
             "color": "rgb(36,36,36)"
            },
            "marker": {
             "line": {
              "color": "white",
              "width": 0.5
             },
             "pattern": {
              "fillmode": "overlay",
              "size": 10,
              "solidity": 0.2
             }
            },
            "type": "bar"
           }
          ],
          "barpolar": [
           {
            "marker": {
             "line": {
              "color": "white",
              "width": 0.5
             },
             "pattern": {
              "fillmode": "overlay",
              "size": 10,
              "solidity": 0.2
             }
            },
            "type": "barpolar"
           }
          ],
          "carpet": [
           {
            "aaxis": {
             "endlinecolor": "rgb(36,36,36)",
             "gridcolor": "white",
             "linecolor": "white",
             "minorgridcolor": "white",
             "startlinecolor": "rgb(36,36,36)"
            },
            "baxis": {
             "endlinecolor": "rgb(36,36,36)",
             "gridcolor": "white",
             "linecolor": "white",
             "minorgridcolor": "white",
             "startlinecolor": "rgb(36,36,36)"
            },
            "type": "carpet"
           }
          ],
          "choropleth": [
           {
            "colorbar": {
             "outlinewidth": 1,
             "tickcolor": "rgb(36,36,36)",
             "ticks": "outside"
            },
            "type": "choropleth"
           }
          ],
          "contour": [
           {
            "colorbar": {
             "outlinewidth": 1,
             "tickcolor": "rgb(36,36,36)",
             "ticks": "outside"
            },
            "colorscale": [
             [
              0,
              "#440154"
             ],
             [
              0.1111111111111111,
              "#482878"
             ],
             [
              0.2222222222222222,
              "#3e4989"
             ],
             [
              0.3333333333333333,
              "#31688e"
             ],
             [
              0.4444444444444444,
              "#26828e"
             ],
             [
              0.5555555555555556,
              "#1f9e89"
             ],
             [
              0.6666666666666666,
              "#35b779"
             ],
             [
              0.7777777777777778,
              "#6ece58"
             ],
             [
              0.8888888888888888,
              "#b5de2b"
             ],
             [
              1,
              "#fde725"
             ]
            ],
            "type": "contour"
           }
          ],
          "contourcarpet": [
           {
            "colorbar": {
             "outlinewidth": 1,
             "tickcolor": "rgb(36,36,36)",
             "ticks": "outside"
            },
            "type": "contourcarpet"
           }
          ],
          "heatmap": [
           {
            "colorbar": {
             "outlinewidth": 1,
             "tickcolor": "rgb(36,36,36)",
             "ticks": "outside"
            },
            "colorscale": [
             [
              0,
              "#440154"
             ],
             [
              0.1111111111111111,
              "#482878"
             ],
             [
              0.2222222222222222,
              "#3e4989"
             ],
             [
              0.3333333333333333,
              "#31688e"
             ],
             [
              0.4444444444444444,
              "#26828e"
             ],
             [
              0.5555555555555556,
              "#1f9e89"
             ],
             [
              0.6666666666666666,
              "#35b779"
             ],
             [
              0.7777777777777778,
              "#6ece58"
             ],
             [
              0.8888888888888888,
              "#b5de2b"
             ],
             [
              1,
              "#fde725"
             ]
            ],
            "type": "heatmap"
           }
          ],
          "histogram": [
           {
            "marker": {
             "line": {
              "color": "white",
              "width": 0.6
             }
            },
            "type": "histogram"
           }
          ],
          "histogram2d": [
           {
            "colorbar": {
             "outlinewidth": 1,
             "tickcolor": "rgb(36,36,36)",
             "ticks": "outside"
            },
            "colorscale": [
             [
              0,
              "#440154"
             ],
             [
              0.1111111111111111,
              "#482878"
             ],
             [
              0.2222222222222222,
              "#3e4989"
             ],
             [
              0.3333333333333333,
              "#31688e"
             ],
             [
              0.4444444444444444,
              "#26828e"
             ],
             [
              0.5555555555555556,
              "#1f9e89"
             ],
             [
              0.6666666666666666,
              "#35b779"
             ],
             [
              0.7777777777777778,
              "#6ece58"
             ],
             [
              0.8888888888888888,
              "#b5de2b"
             ],
             [
              1,
              "#fde725"
             ]
            ],
            "type": "histogram2d"
           }
          ],
          "histogram2dcontour": [
           {
            "colorbar": {
             "outlinewidth": 1,
             "tickcolor": "rgb(36,36,36)",
             "ticks": "outside"
            },
            "colorscale": [
             [
              0,
              "#440154"
             ],
             [
              0.1111111111111111,
              "#482878"
             ],
             [
              0.2222222222222222,
              "#3e4989"
             ],
             [
              0.3333333333333333,
              "#31688e"
             ],
             [
              0.4444444444444444,
              "#26828e"
             ],
             [
              0.5555555555555556,
              "#1f9e89"
             ],
             [
              0.6666666666666666,
              "#35b779"
             ],
             [
              0.7777777777777778,
              "#6ece58"
             ],
             [
              0.8888888888888888,
              "#b5de2b"
             ],
             [
              1,
              "#fde725"
             ]
            ],
            "type": "histogram2dcontour"
           }
          ],
          "mesh3d": [
           {
            "colorbar": {
             "outlinewidth": 1,
             "tickcolor": "rgb(36,36,36)",
             "ticks": "outside"
            },
            "type": "mesh3d"
           }
          ],
          "parcoords": [
           {
            "line": {
             "colorbar": {
              "outlinewidth": 1,
              "tickcolor": "rgb(36,36,36)",
              "ticks": "outside"
             }
            },
            "type": "parcoords"
           }
          ],
          "pie": [
           {
            "automargin": true,
            "type": "pie"
           }
          ],
          "scatter": [
           {
            "fillpattern": {
             "fillmode": "overlay",
             "size": 10,
             "solidity": 0.2
            },
            "type": "scatter"
           }
          ],
          "scatter3d": [
           {
            "line": {
             "colorbar": {
              "outlinewidth": 1,
              "tickcolor": "rgb(36,36,36)",
              "ticks": "outside"
             }
            },
            "marker": {
             "colorbar": {
              "outlinewidth": 1,
              "tickcolor": "rgb(36,36,36)",
              "ticks": "outside"
             }
            },
            "type": "scatter3d"
           }
          ],
          "scattercarpet": [
           {
            "marker": {
             "colorbar": {
              "outlinewidth": 1,
              "tickcolor": "rgb(36,36,36)",
              "ticks": "outside"
             }
            },
            "type": "scattercarpet"
           }
          ],
          "scattergeo": [
           {
            "marker": {
             "colorbar": {
              "outlinewidth": 1,
              "tickcolor": "rgb(36,36,36)",
              "ticks": "outside"
             }
            },
            "type": "scattergeo"
           }
          ],
          "scattergl": [
           {
            "marker": {
             "colorbar": {
              "outlinewidth": 1,
              "tickcolor": "rgb(36,36,36)",
              "ticks": "outside"
             }
            },
            "type": "scattergl"
           }
          ],
          "scattermap": [
           {
            "marker": {
             "colorbar": {
              "outlinewidth": 1,
              "tickcolor": "rgb(36,36,36)",
              "ticks": "outside"
             }
            },
            "type": "scattermap"
           }
          ],
          "scattermapbox": [
           {
            "marker": {
             "colorbar": {
              "outlinewidth": 1,
              "tickcolor": "rgb(36,36,36)",
              "ticks": "outside"
             }
            },
            "type": "scattermapbox"
           }
          ],
          "scatterpolar": [
           {
            "marker": {
             "colorbar": {
              "outlinewidth": 1,
              "tickcolor": "rgb(36,36,36)",
              "ticks": "outside"
             }
            },
            "type": "scatterpolar"
           }
          ],
          "scatterpolargl": [
           {
            "marker": {
             "colorbar": {
              "outlinewidth": 1,
              "tickcolor": "rgb(36,36,36)",
              "ticks": "outside"
             }
            },
            "type": "scatterpolargl"
           }
          ],
          "scatterternary": [
           {
            "marker": {
             "colorbar": {
              "outlinewidth": 1,
              "tickcolor": "rgb(36,36,36)",
              "ticks": "outside"
             }
            },
            "type": "scatterternary"
           }
          ],
          "surface": [
           {
            "colorbar": {
             "outlinewidth": 1,
             "tickcolor": "rgb(36,36,36)",
             "ticks": "outside"
            },
            "colorscale": [
             [
              0,
              "#440154"
             ],
             [
              0.1111111111111111,
              "#482878"
             ],
             [
              0.2222222222222222,
              "#3e4989"
             ],
             [
              0.3333333333333333,
              "#31688e"
             ],
             [
              0.4444444444444444,
              "#26828e"
             ],
             [
              0.5555555555555556,
              "#1f9e89"
             ],
             [
              0.6666666666666666,
              "#35b779"
             ],
             [
              0.7777777777777778,
              "#6ece58"
             ],
             [
              0.8888888888888888,
              "#b5de2b"
             ],
             [
              1,
              "#fde725"
             ]
            ],
            "type": "surface"
           }
          ],
          "table": [
           {
            "cells": {
             "fill": {
              "color": "rgb(237,237,237)"
             },
             "line": {
              "color": "white"
             }
            },
            "header": {
             "fill": {
              "color": "rgb(217,217,217)"
             },
             "line": {
              "color": "white"
             }
            },
            "type": "table"
           }
          ]
         },
         "layout": {
          "annotationdefaults": {
           "arrowhead": 0,
           "arrowwidth": 1
          },
          "autotypenumbers": "strict",
          "coloraxis": {
           "colorbar": {
            "outlinewidth": 1,
            "tickcolor": "rgb(36,36,36)",
            "ticks": "outside"
           }
          },
          "colorscale": {
           "diverging": [
            [
             0,
             "rgb(103,0,31)"
            ],
            [
             0.1,
             "rgb(178,24,43)"
            ],
            [
             0.2,
             "rgb(214,96,77)"
            ],
            [
             0.3,
             "rgb(244,165,130)"
            ],
            [
             0.4,
             "rgb(253,219,199)"
            ],
            [
             0.5,
             "rgb(247,247,247)"
            ],
            [
             0.6,
             "rgb(209,229,240)"
            ],
            [
             0.7,
             "rgb(146,197,222)"
            ],
            [
             0.8,
             "rgb(67,147,195)"
            ],
            [
             0.9,
             "rgb(33,102,172)"
            ],
            [
             1,
             "rgb(5,48,97)"
            ]
           ],
           "sequential": [
            [
             0,
             "#440154"
            ],
            [
             0.1111111111111111,
             "#482878"
            ],
            [
             0.2222222222222222,
             "#3e4989"
            ],
            [
             0.3333333333333333,
             "#31688e"
            ],
            [
             0.4444444444444444,
             "#26828e"
            ],
            [
             0.5555555555555556,
             "#1f9e89"
            ],
            [
             0.6666666666666666,
             "#35b779"
            ],
            [
             0.7777777777777778,
             "#6ece58"
            ],
            [
             0.8888888888888888,
             "#b5de2b"
            ],
            [
             1,
             "#fde725"
            ]
           ],
           "sequentialminus": [
            [
             0,
             "#440154"
            ],
            [
             0.1111111111111111,
             "#482878"
            ],
            [
             0.2222222222222222,
             "#3e4989"
            ],
            [
             0.3333333333333333,
             "#31688e"
            ],
            [
             0.4444444444444444,
             "#26828e"
            ],
            [
             0.5555555555555556,
             "#1f9e89"
            ],
            [
             0.6666666666666666,
             "#35b779"
            ],
            [
             0.7777777777777778,
             "#6ece58"
            ],
            [
             0.8888888888888888,
             "#b5de2b"
            ],
            [
             1,
             "#fde725"
            ]
           ]
          },
          "colorway": [
           "#1F77B4",
           "#FF7F0E",
           "#2CA02C",
           "#D62728",
           "#9467BD",
           "#8C564B",
           "#E377C2",
           "#7F7F7F",
           "#BCBD22",
           "#17BECF"
          ],
          "font": {
           "color": "rgb(36,36,36)"
          },
          "geo": {
           "bgcolor": "white",
           "lakecolor": "white",
           "landcolor": "white",
           "showlakes": true,
           "showland": true,
           "subunitcolor": "white"
          },
          "hoverlabel": {
           "align": "left"
          },
          "hovermode": "closest",
          "mapbox": {
           "style": "light"
          },
          "paper_bgcolor": "white",
          "plot_bgcolor": "white",
          "polar": {
           "angularaxis": {
            "gridcolor": "rgb(232,232,232)",
            "linecolor": "rgb(36,36,36)",
            "showgrid": false,
            "showline": true,
            "ticks": "outside"
           },
           "bgcolor": "white",
           "radialaxis": {
            "gridcolor": "rgb(232,232,232)",
            "linecolor": "rgb(36,36,36)",
            "showgrid": false,
            "showline": true,
            "ticks": "outside"
           }
          },
          "scene": {
           "xaxis": {
            "backgroundcolor": "white",
            "gridcolor": "rgb(232,232,232)",
            "gridwidth": 2,
            "linecolor": "rgb(36,36,36)",
            "showbackground": true,
            "showgrid": false,
            "showline": true,
            "ticks": "outside",
            "zeroline": false,
            "zerolinecolor": "rgb(36,36,36)"
           },
           "yaxis": {
            "backgroundcolor": "white",
            "gridcolor": "rgb(232,232,232)",
            "gridwidth": 2,
            "linecolor": "rgb(36,36,36)",
            "showbackground": true,
            "showgrid": false,
            "showline": true,
            "ticks": "outside",
            "zeroline": false,
            "zerolinecolor": "rgb(36,36,36)"
           },
           "zaxis": {
            "backgroundcolor": "white",
            "gridcolor": "rgb(232,232,232)",
            "gridwidth": 2,
            "linecolor": "rgb(36,36,36)",
            "showbackground": true,
            "showgrid": false,
            "showline": true,
            "ticks": "outside",
            "zeroline": false,
            "zerolinecolor": "rgb(36,36,36)"
           }
          },
          "shapedefaults": {
           "fillcolor": "black",
           "line": {
            "width": 0
           },
           "opacity": 0.3
          },
          "ternary": {
           "aaxis": {
            "gridcolor": "rgb(232,232,232)",
            "linecolor": "rgb(36,36,36)",
            "showgrid": false,
            "showline": true,
            "ticks": "outside"
           },
           "baxis": {
            "gridcolor": "rgb(232,232,232)",
            "linecolor": "rgb(36,36,36)",
            "showgrid": false,
            "showline": true,
            "ticks": "outside"
           },
           "bgcolor": "white",
           "caxis": {
            "gridcolor": "rgb(232,232,232)",
            "linecolor": "rgb(36,36,36)",
            "showgrid": false,
            "showline": true,
            "ticks": "outside"
           }
          },
          "title": {
           "x": 0.05
          },
          "xaxis": {
           "automargin": true,
           "gridcolor": "rgb(232,232,232)",
           "linecolor": "rgb(36,36,36)",
           "showgrid": false,
           "showline": true,
           "ticks": "outside",
           "title": {
            "standoff": 15
           },
           "zeroline": false,
           "zerolinecolor": "rgb(36,36,36)"
          },
          "yaxis": {
           "automargin": true,
           "gridcolor": "rgb(232,232,232)",
           "linecolor": "rgb(36,36,36)",
           "showgrid": false,
           "showline": true,
           "ticks": "outside",
           "title": {
            "standoff": 15
           },
           "zeroline": false,
           "zerolinecolor": "rgb(36,36,36)"
          }
         }
        },
        "title": {
         "font": {
          "color": "Black",
          "size": 22
         },
         "text": "Distribuição de Tópicos por Gênero",
         "x": 0.4,
         "xanchor": "center",
         "y": 0.95,
         "yanchor": "top"
        },
        "width": 1200,
        "xaxis": {
         "showgrid": true,
         "title": {
          "text": "Normalized Frequency"
         }
        },
        "yaxis": {
         "showgrid": true,
         "title": {
          "text": "Class"
         }
        }
       }
      }
     },
     "metadata": {},
     "output_type": "display_data"
    }
   ],
   "source": [
    "from bertopic.plotting import visualize_topics_per_class\n",
    "\n",
    "\n",
    "#informações dos tópicos\n",
    "topic_info = topic_model.get_topic_info()\n",
    "\n",
    "#  mapeamentos\n",
    "topic_name_map = dict(zip(topic_info['Topic'], topic_info['Name']))\n",
    "\n",
    "# extração de palavras-chave \n",
    "def get_topic_words(topic):\n",
    "    try:\n",
    "        topic_words = topic_model.get_topic(topic)\n",
    "        if isinstance(topic_words[0], tuple):\n",
    "            return [word for word, _ in topic_words[:5]]\n",
    "        else:\n",
    "            return topic_words[:5]\n",
    "    except:\n",
    "        return [\"N/A\"]\n",
    "\n",
    "# criação do dataframe para tópicos por classe\n",
    "data = []\n",
    "for idx, (topic, genres) in enumerate(zip(topics, movies_overview['genres'])):\n",
    "    for genre in genres:\n",
    "        data.append({\n",
    "            'Genre': genre,\n",
    "            'Topic': topic,\n",
    "            'Name': topic_name_map.get(topic, f\"Topic_{topic}\"),\n",
    "            'Words': \", \".join(get_topic_words(topic))\n",
    "        })\n",
    "\n",
    "topics_per_class = pd.DataFrame(data)\n",
    "\n",
    "# cálculo das frequências dos tópicos por gênero\n",
    "counts = topics_per_class.groupby(['Genre', 'Topic', 'Name', 'Words']).size().reset_index(name='Count')\n",
    "genre_totals = counts.groupby('Genre')['Count'].sum()\n",
    "counts['Frequency'] = counts.apply(lambda x: x['Count'] / genre_totals[x['Genre']], axis=1)\n",
    "\n",
    "\n",
    "try:\n",
    "    #método padrão primeiro\n",
    "    fig = topic_model.visualize_topics_per_class(\n",
    "        counts.rename(columns={'Genre': 'Class'}),\n",
    "        normalize_frequency=True,\n",
    "        title='Distribuição de Tópicos por Gênero',\n",
    "        height=600,\n",
    "        width=1200\n",
    "    )\n",
    "    fig.show()\n",
    "except Exception as e:\n",
    "    print(f\"Usando visualização alternativa devido a: {str(e)}\")\n",
    "    \n",
    "    # visualização alternativa \n",
    "    import plotly.express as px\n",
    "    \n",
    "    top_genres = counts.groupby('Genre')['Count'].sum().nlargest(15).index\n",
    "    filtered = counts[counts['Genre'].isin(top_genres)]\n",
    "    \n",
    "    fig = px.bar(\n",
    "        filtered.sort_values(['Genre', 'Frequency'], ascending=[True, False]),\n",
    "        x='Genre',\n",
    "        y='Frequency',\n",
    "        color='Name',\n",
    "        hover_data=['Words'],\n",
    "        facet_row='Name',\n",
    "        height=1200,\n",
    "        title='Distribuição de Tópicos por Gênero (Top 15)'\n",
    "    )\n",
    "    fig.update_layout(showlegend=False)\n",
    "    fig.show()"
   ]
  },
  {
   "cell_type": "code",
   "execution_count": 9,
   "id": "a4e4083c",
   "metadata": {},
   "outputs": [
    {
     "data": {
      "application/vnd.plotly.v1+json": {
       "config": {
        "plotlyServerURL": "https://plot.ly"
       },
       "data": [
        {
         "coloraxis": "coloraxis",
         "hovertemplate": "x: %{x}<br>y: %{y}<br>Similarity Score: %{z}<extra></extra>",
         "name": "0",
         "type": "heatmap",
         "x": [
          "0_life_film_story",
          "1_king_ancient_goku",
          "2_police_cop_killer",
          "3_earth_planet_space",
          "4_war_world war_war ii",
          "5_group_friends_discover",
          "6_cia_agent_nuclear",
          "7_virus_survivors_zombies",
          "8_relationship_love_couple",
          "9_school_students_high school",
          "10_woman_life_1960s",
          "11_team_coach_football",
          "12_married_wedding_relation...",
          "13_mother_daughter_father",
          "14_egg_bear_named",
          "15_mother_father_young",
          "16_christmas_santa_claus",
          "17_erik_marvin_life",
          "18_money_job_pay",
          "19_fairy_princess_ariel",
          "20_executive_blanco_invest",
          "21_year old_old_school",
          "22_man_hospital_mental",
          "23_civil war_civil_slave",
          "24_sonic_spider_super",
          "25_sorority_father_son",
          "26_claim_inheritance_moore",
          "27_champion_boxer_boxing",
          "28_president_election_presi...",
          "29_priest_vatican_exorcism",
          "30_boss_jorge_chelsea",
          "31_gotham_batman_gotham city",
          "32_martial_ip_china",
          "33_husband_tammy_woman",
          "34_woman_young woman_carla",
          "35_platoon_dodge_war",
          "36_year old girl_old girl_v...",
          "37_hit_stone_melvin",
          "38_school_shelley_halloween...",
          "39_court_supreme_case",
          "40_driver_taxi_car",
          "41_superman_luthor_steel",
          "42_societal_generational_ch...",
          "43_murder_besson_patient",
          "44_scooby_mystery_doo",
          "45_queen_royal_king",
          "46_sage_meets_longing",
          "47_taiwan_su_jong",
          "48_worlds_parallel_moments",
          "49_cat mouse_mouse_cat",
          "50_connor_terminator_john c...",
          "51_african american_african...",
          "52_witches_witch_wendy",
          "53_high school_high_school",
          "54_corleone_crime family_cuba",
          "55_mason_burned_egypt",
          "56_shun_saved_young woman",
          "57_xavier_wolverine_mutants",
          "58_crime_life crime_spain",
          "59_lincoln_caesar_okoye",
          "60_student_high school_girls",
          "61_elle_cher_school",
          "62_liam_strange_bodies"
         ],
         "xaxis": "x",
         "y": [
          "0_life_film_story",
          "1_king_ancient_goku",
          "2_police_cop_killer",
          "3_earth_planet_space",
          "4_war_world war_war ii",
          "5_group_friends_discover",
          "6_cia_agent_nuclear",
          "7_virus_survivors_zombies",
          "8_relationship_love_couple",
          "9_school_students_high school",
          "10_woman_life_1960s",
          "11_team_coach_football",
          "12_married_wedding_relation...",
          "13_mother_daughter_father",
          "14_egg_bear_named",
          "15_mother_father_young",
          "16_christmas_santa_claus",
          "17_erik_marvin_life",
          "18_money_job_pay",
          "19_fairy_princess_ariel",
          "20_executive_blanco_invest",
          "21_year old_old_school",
          "22_man_hospital_mental",
          "23_civil war_civil_slave",
          "24_sonic_spider_super",
          "25_sorority_father_son",
          "26_claim_inheritance_moore",
          "27_champion_boxer_boxing",
          "28_president_election_presi...",
          "29_priest_vatican_exorcism",
          "30_boss_jorge_chelsea",
          "31_gotham_batman_gotham city",
          "32_martial_ip_china",
          "33_husband_tammy_woman",
          "34_woman_young woman_carla",
          "35_platoon_dodge_war",
          "36_year old girl_old girl_v...",
          "37_hit_stone_melvin",
          "38_school_shelley_halloween...",
          "39_court_supreme_case",
          "40_driver_taxi_car",
          "41_superman_luthor_steel",
          "42_societal_generational_ch...",
          "43_murder_besson_patient",
          "44_scooby_mystery_doo",
          "45_queen_royal_king",
          "46_sage_meets_longing",
          "47_taiwan_su_jong",
          "48_worlds_parallel_moments",
          "49_cat mouse_mouse_cat",
          "50_connor_terminator_john c...",
          "51_african american_african...",
          "52_witches_witch_wendy",
          "53_high school_high_school",
          "54_corleone_crime family_cuba",
          "55_mason_burned_egypt",
          "56_shun_saved_young woman",
          "57_xavier_wolverine_mutants",
          "58_crime_life crime_spain",
          "59_lincoln_caesar_okoye",
          "60_student_high school_girls",
          "61_elle_cher_school",
          "62_liam_strange_bodies"
         ],
         "yaxis": "y",
         "z": {
          "bdata": "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",
          "dtype": "f4",
          "shape": "63, 63"
         }
        }
       ],
       "layout": {
        "coloraxis": {
         "colorbar": {
          "title": {
           "text": "Similarity Score"
          }
         },
         "colorscale": [
          [
           0,
           "rgb(247,252,240)"
          ],
          [
           0.125,
           "rgb(224,243,219)"
          ],
          [
           0.25,
           "rgb(204,235,197)"
          ],
          [
           0.375,
           "rgb(168,221,181)"
          ],
          [
           0.5,
           "rgb(123,204,196)"
          ],
          [
           0.625,
           "rgb(78,179,211)"
          ],
          [
           0.75,
           "rgb(43,140,190)"
          ],
          [
           0.875,
           "rgb(8,104,172)"
          ],
          [
           1,
           "rgb(8,64,129)"
          ]
         ]
        },
        "height": 800,
        "hoverlabel": {
         "bgcolor": "white",
         "font": {
          "family": "Rockwell",
          "size": 16
         }
        },
        "legend": {
         "title": {
          "text": "Trend"
         }
        },
        "margin": {
         "t": 60
        },
        "showlegend": true,
        "template": {
         "data": {
          "bar": [
           {
            "error_x": {
             "color": "#2a3f5f"
            },
            "error_y": {
             "color": "#2a3f5f"
            },
            "marker": {
             "line": {
              "color": "#E5ECF6",
              "width": 0.5
             },
             "pattern": {
              "fillmode": "overlay",
              "size": 10,
              "solidity": 0.2
             }
            },
            "type": "bar"
           }
          ],
          "barpolar": [
           {
            "marker": {
             "line": {
              "color": "#E5ECF6",
              "width": 0.5
             },
             "pattern": {
              "fillmode": "overlay",
              "size": 10,
              "solidity": 0.2
             }
            },
            "type": "barpolar"
           }
          ],
          "carpet": [
           {
            "aaxis": {
             "endlinecolor": "#2a3f5f",
             "gridcolor": "white",
             "linecolor": "white",
             "minorgridcolor": "white",
             "startlinecolor": "#2a3f5f"
            },
            "baxis": {
             "endlinecolor": "#2a3f5f",
             "gridcolor": "white",
             "linecolor": "white",
             "minorgridcolor": "white",
             "startlinecolor": "#2a3f5f"
            },
            "type": "carpet"
           }
          ],
          "choropleth": [
           {
            "colorbar": {
             "outlinewidth": 0,
             "ticks": ""
            },
            "type": "choropleth"
           }
          ],
          "contour": [
           {
            "colorbar": {
             "outlinewidth": 0,
             "ticks": ""
            },
            "colorscale": [
             [
              0,
              "#0d0887"
             ],
             [
              0.1111111111111111,
              "#46039f"
             ],
             [
              0.2222222222222222,
              "#7201a8"
             ],
             [
              0.3333333333333333,
              "#9c179e"
             ],
             [
              0.4444444444444444,
              "#bd3786"
             ],
             [
              0.5555555555555556,
              "#d8576b"
             ],
             [
              0.6666666666666666,
              "#ed7953"
             ],
             [
              0.7777777777777778,
              "#fb9f3a"
             ],
             [
              0.8888888888888888,
              "#fdca26"
             ],
             [
              1,
              "#f0f921"
             ]
            ],
            "type": "contour"
           }
          ],
          "contourcarpet": [
           {
            "colorbar": {
             "outlinewidth": 0,
             "ticks": ""
            },
            "type": "contourcarpet"
           }
          ],
          "heatmap": [
           {
            "colorbar": {
             "outlinewidth": 0,
             "ticks": ""
            },
            "colorscale": [
             [
              0,
              "#0d0887"
             ],
             [
              0.1111111111111111,
              "#46039f"
             ],
             [
              0.2222222222222222,
              "#7201a8"
             ],
             [
              0.3333333333333333,
              "#9c179e"
             ],
             [
              0.4444444444444444,
              "#bd3786"
             ],
             [
              0.5555555555555556,
              "#d8576b"
             ],
             [
              0.6666666666666666,
              "#ed7953"
             ],
             [
              0.7777777777777778,
              "#fb9f3a"
             ],
             [
              0.8888888888888888,
              "#fdca26"
             ],
             [
              1,
              "#f0f921"
             ]
            ],
            "type": "heatmap"
           }
          ],
          "histogram": [
           {
            "marker": {
             "pattern": {
              "fillmode": "overlay",
              "size": 10,
              "solidity": 0.2
             }
            },
            "type": "histogram"
           }
          ],
          "histogram2d": [
           {
            "colorbar": {
             "outlinewidth": 0,
             "ticks": ""
            },
            "colorscale": [
             [
              0,
              "#0d0887"
             ],
             [
              0.1111111111111111,
              "#46039f"
             ],
             [
              0.2222222222222222,
              "#7201a8"
             ],
             [
              0.3333333333333333,
              "#9c179e"
             ],
             [
              0.4444444444444444,
              "#bd3786"
             ],
             [
              0.5555555555555556,
              "#d8576b"
             ],
             [
              0.6666666666666666,
              "#ed7953"
             ],
             [
              0.7777777777777778,
              "#fb9f3a"
             ],
             [
              0.8888888888888888,
              "#fdca26"
             ],
             [
              1,
              "#f0f921"
             ]
            ],
            "type": "histogram2d"
           }
          ],
          "histogram2dcontour": [
           {
            "colorbar": {
             "outlinewidth": 0,
             "ticks": ""
            },
            "colorscale": [
             [
              0,
              "#0d0887"
             ],
             [
              0.1111111111111111,
              "#46039f"
             ],
             [
              0.2222222222222222,
              "#7201a8"
             ],
             [
              0.3333333333333333,
              "#9c179e"
             ],
             [
              0.4444444444444444,
              "#bd3786"
             ],
             [
              0.5555555555555556,
              "#d8576b"
             ],
             [
              0.6666666666666666,
              "#ed7953"
             ],
             [
              0.7777777777777778,
              "#fb9f3a"
             ],
             [
              0.8888888888888888,
              "#fdca26"
             ],
             [
              1,
              "#f0f921"
             ]
            ],
            "type": "histogram2dcontour"
           }
          ],
          "mesh3d": [
           {
            "colorbar": {
             "outlinewidth": 0,
             "ticks": ""
            },
            "type": "mesh3d"
           }
          ],
          "parcoords": [
           {
            "line": {
             "colorbar": {
              "outlinewidth": 0,
              "ticks": ""
             }
            },
            "type": "parcoords"
           }
          ],
          "pie": [
           {
            "automargin": true,
            "type": "pie"
           }
          ],
          "scatter": [
           {
            "fillpattern": {
             "fillmode": "overlay",
             "size": 10,
             "solidity": 0.2
            },
            "type": "scatter"
           }
          ],
          "scatter3d": [
           {
            "line": {
             "colorbar": {
              "outlinewidth": 0,
              "ticks": ""
             }
            },
            "marker": {
             "colorbar": {
              "outlinewidth": 0,
              "ticks": ""
             }
            },
            "type": "scatter3d"
           }
          ],
          "scattercarpet": [
           {
            "marker": {
             "colorbar": {
              "outlinewidth": 0,
              "ticks": ""
             }
            },
            "type": "scattercarpet"
           }
          ],
          "scattergeo": [
           {
            "marker": {
             "colorbar": {
              "outlinewidth": 0,
              "ticks": ""
             }
            },
            "type": "scattergeo"
           }
          ],
          "scattergl": [
           {
            "marker": {
             "colorbar": {
              "outlinewidth": 0,
              "ticks": ""
             }
            },
            "type": "scattergl"
           }
          ],
          "scattermap": [
           {
            "marker": {
             "colorbar": {
              "outlinewidth": 0,
              "ticks": ""
             }
            },
            "type": "scattermap"
           }
          ],
          "scattermapbox": [
           {
            "marker": {
             "colorbar": {
              "outlinewidth": 0,
              "ticks": ""
             }
            },
            "type": "scattermapbox"
           }
          ],
          "scatterpolar": [
           {
            "marker": {
             "colorbar": {
              "outlinewidth": 0,
              "ticks": ""
             }
            },
            "type": "scatterpolar"
           }
          ],
          "scatterpolargl": [
           {
            "marker": {
             "colorbar": {
              "outlinewidth": 0,
              "ticks": ""
             }
            },
            "type": "scatterpolargl"
           }
          ],
          "scatterternary": [
           {
            "marker": {
             "colorbar": {
              "outlinewidth": 0,
              "ticks": ""
             }
            },
            "type": "scatterternary"
           }
          ],
          "surface": [
           {
            "colorbar": {
             "outlinewidth": 0,
             "ticks": ""
            },
            "colorscale": [
             [
              0,
              "#0d0887"
             ],
             [
              0.1111111111111111,
              "#46039f"
             ],
             [
              0.2222222222222222,
              "#7201a8"
             ],
             [
              0.3333333333333333,
              "#9c179e"
             ],
             [
              0.4444444444444444,
              "#bd3786"
             ],
             [
              0.5555555555555556,
              "#d8576b"
             ],
             [
              0.6666666666666666,
              "#ed7953"
             ],
             [
              0.7777777777777778,
              "#fb9f3a"
             ],
             [
              0.8888888888888888,
              "#fdca26"
             ],
             [
              1,
              "#f0f921"
             ]
            ],
            "type": "surface"
           }
          ],
          "table": [
           {
            "cells": {
             "fill": {
              "color": "#EBF0F8"
             },
             "line": {
              "color": "white"
             }
            },
            "header": {
             "fill": {
              "color": "#C8D4E3"
             },
             "line": {
              "color": "white"
             }
            },
            "type": "table"
           }
          ]
         },
         "layout": {
          "annotationdefaults": {
           "arrowcolor": "#2a3f5f",
           "arrowhead": 0,
           "arrowwidth": 1
          },
          "autotypenumbers": "strict",
          "coloraxis": {
           "colorbar": {
            "outlinewidth": 0,
            "ticks": ""
           }
          },
          "colorscale": {
           "diverging": [
            [
             0,
             "#8e0152"
            ],
            [
             0.1,
             "#c51b7d"
            ],
            [
             0.2,
             "#de77ae"
            ],
            [
             0.3,
             "#f1b6da"
            ],
            [
             0.4,
             "#fde0ef"
            ],
            [
             0.5,
             "#f7f7f7"
            ],
            [
             0.6,
             "#e6f5d0"
            ],
            [
             0.7,
             "#b8e186"
            ],
            [
             0.8,
             "#7fbc41"
            ],
            [
             0.9,
             "#4d9221"
            ],
            [
             1,
             "#276419"
            ]
           ],
           "sequential": [
            [
             0,
             "#0d0887"
            ],
            [
             0.1111111111111111,
             "#46039f"
            ],
            [
             0.2222222222222222,
             "#7201a8"
            ],
            [
             0.3333333333333333,
             "#9c179e"
            ],
            [
             0.4444444444444444,
             "#bd3786"
            ],
            [
             0.5555555555555556,
             "#d8576b"
            ],
            [
             0.6666666666666666,
             "#ed7953"
            ],
            [
             0.7777777777777778,
             "#fb9f3a"
            ],
            [
             0.8888888888888888,
             "#fdca26"
            ],
            [
             1,
             "#f0f921"
            ]
           ],
           "sequentialminus": [
            [
             0,
             "#0d0887"
            ],
            [
             0.1111111111111111,
             "#46039f"
            ],
            [
             0.2222222222222222,
             "#7201a8"
            ],
            [
             0.3333333333333333,
             "#9c179e"
            ],
            [
             0.4444444444444444,
             "#bd3786"
            ],
            [
             0.5555555555555556,
             "#d8576b"
            ],
            [
             0.6666666666666666,
             "#ed7953"
            ],
            [
             0.7777777777777778,
             "#fb9f3a"
            ],
            [
             0.8888888888888888,
             "#fdca26"
            ],
            [
             1,
             "#f0f921"
            ]
           ]
          },
          "colorway": [
           "#636efa",
           "#EF553B",
           "#00cc96",
           "#ab63fa",
           "#FFA15A",
           "#19d3f3",
           "#FF6692",
           "#B6E880",
           "#FF97FF",
           "#FECB52"
          ],
          "font": {
           "color": "#2a3f5f"
          },
          "geo": {
           "bgcolor": "white",
           "lakecolor": "white",
           "landcolor": "#E5ECF6",
           "showlakes": true,
           "showland": true,
           "subunitcolor": "white"
          },
          "hoverlabel": {
           "align": "left"
          },
          "hovermode": "closest",
          "mapbox": {
           "style": "light"
          },
          "paper_bgcolor": "white",
          "plot_bgcolor": "#E5ECF6",
          "polar": {
           "angularaxis": {
            "gridcolor": "white",
            "linecolor": "white",
            "ticks": ""
           },
           "bgcolor": "#E5ECF6",
           "radialaxis": {
            "gridcolor": "white",
            "linecolor": "white",
            "ticks": ""
           }
          },
          "scene": {
           "xaxis": {
            "backgroundcolor": "#E5ECF6",
            "gridcolor": "white",
            "gridwidth": 2,
            "linecolor": "white",
            "showbackground": true,
            "ticks": "",
            "zerolinecolor": "white"
           },
           "yaxis": {
            "backgroundcolor": "#E5ECF6",
            "gridcolor": "white",
            "gridwidth": 2,
            "linecolor": "white",
            "showbackground": true,
            "ticks": "",
            "zerolinecolor": "white"
           },
           "zaxis": {
            "backgroundcolor": "#E5ECF6",
            "gridcolor": "white",
            "gridwidth": 2,
            "linecolor": "white",
            "showbackground": true,
            "ticks": "",
            "zerolinecolor": "white"
           }
          },
          "shapedefaults": {
           "line": {
            "color": "#2a3f5f"
           }
          },
          "ternary": {
           "aaxis": {
            "gridcolor": "white",
            "linecolor": "white",
            "ticks": ""
           },
           "baxis": {
            "gridcolor": "white",
            "linecolor": "white",
            "ticks": ""
           },
           "bgcolor": "#E5ECF6",
           "caxis": {
            "gridcolor": "white",
            "linecolor": "white",
            "ticks": ""
           }
          },
          "title": {
           "x": 0.05
          },
          "xaxis": {
           "automargin": true,
           "gridcolor": "white",
           "linecolor": "white",
           "ticks": "",
           "title": {
            "standoff": 15
           },
           "zerolinecolor": "white",
           "zerolinewidth": 2
          },
          "yaxis": {
           "automargin": true,
           "gridcolor": "white",
           "linecolor": "white",
           "ticks": "",
           "title": {
            "standoff": 15
           },
           "zerolinecolor": "white",
           "zerolinewidth": 2
          }
         }
        },
        "title": {
         "font": {
          "color": "Black",
          "size": 22
         },
         "text": "<b>Similarity Matrix</b>",
         "x": 0.55,
         "xanchor": "center",
         "y": 0.95,
         "yanchor": "top"
        },
        "width": 800,
        "xaxis": {
         "anchor": "y",
         "constrain": "domain",
         "domain": [
          0,
          1
         ],
         "scaleanchor": "y"
        },
        "yaxis": {
         "anchor": "x",
         "autorange": "reversed",
         "constrain": "domain",
         "domain": [
          0,
          1
         ]
        }
       }
      }
     },
     "metadata": {},
     "output_type": "display_data"
    }
   ],
   "source": [
    "#matriz de similaridade entre tópicos\n",
    "topic_model.visualize_heatmap().show()\n"
   ]
  },
  {
   "cell_type": "code",
   "execution_count": 10,
   "id": "5bb26c9f",
   "metadata": {},
   "outputs": [],
   "source": [
    "from collections import Counter\n",
    "\n",
    "\n",
    "df_overview = movies_overview\n",
    "df_overview['topic'] = topics\n",
    "\n"
   ]
  },
  {
   "cell_type": "code",
   "execution_count": 11,
   "id": "0c3b938a",
   "metadata": {},
   "outputs": [
    {
     "name": "stdout",
     "output_type": "stream",
     "text": [
      "\n",
      "Relacionando tópicos com gêneros:\n",
      "\n",
      "Tópicos com gêneros associados:\n",
      "   Topic  Count                          Top Genres  \\\n",
      "0     -1   6553             Drama, Comedy, Thriller   \n",
      "1      0    557              Drama, Comedy, Romance   \n",
      "2      1    389          Adventure, Action, Fantasy   \n",
      "3      2    314             Crime, Thriller, Action   \n",
      "4      3    140  Science Fiction, Action, Adventure   \n",
      "5      4    134                 Drama, War, History   \n",
      "6      5    128            Horror, Thriller, Comedy   \n",
      "7      6     98         Thriller, Action, Adventure   \n",
      "8      7     88   Science Fiction, Horror, Thriller   \n",
      "9      8     87              Romance, Comedy, Drama   \n",
      "\n",
      "                                            Keywords  \\\n",
      "0  life, young, new, family, world, man, old, lov...   \n",
      "1  life, film, story, star, music, world, band, f...   \n",
      "2  king, ancient, goku, power, evil, dragon, warr...   \n",
      "3  police, cop, killer, case, officer, murder, dr...   \n",
      "4  earth, planet, space, alien, crew, mission, ma...   \n",
      "5  war, world war, war ii, world war ii, ii, nazi...   \n",
      "6  group, friends, discover, deserted, group frie...   \n",
      "7  cia, agent, nuclear, government, international...   \n",
      "8  virus, survivors, zombies, infected, outbreak,...   \n",
      "9  relationship, love, couple, friends, relations...   \n",
      "\n",
      "                                  Name  \n",
      "0             -1_life_young_new_family  \n",
      "1               0_life_film_story_star  \n",
      "2            1_king_ancient_goku_power  \n",
      "3             2_police_cop_killer_case  \n",
      "4           3_earth_planet_space_alien  \n",
      "5  4_war_world war_war ii_world war ii  \n",
      "6    5_group_friends_discover_deserted  \n",
      "7       6_cia_agent_nuclear_government  \n",
      "8   7_virus_survivors_zombies_infected  \n",
      "9   8_relationship_love_couple_friends  \n"
     ]
    }
   ],
   "source": [
    "topic_keywords = {}\n",
    "for topic_id in topic_info['Topic']:\n",
    "    keywords = [word for word, _ in topic_model.get_topic(topic_id)]\n",
    "    topic_keywords[topic_id] = \", \".join(keywords)\n",
    "\n",
    "# relacionar tópicos com gêneros\n",
    "print(\"\\nRelacionando tópicos com gêneros:\")\n",
    "\n",
    "# função para encontrar gêneros mais comuns por tópico\n",
    "def get_top_genres(group, n=3):\n",
    "    all_genres = [genre for sublist in group for genre in sublist]\n",
    "    counter = Counter(all_genres)\n",
    "    return [genre for genre, _ in counter.most_common(n)]\n",
    "\n",
    "# calcular top gêneros por tópico\n",
    "topic_genres = (\n",
    "    df_overview.groupby('topic')['genres']\n",
    "    .apply(get_top_genres)\n",
    "    .reset_index()\n",
    ")\n",
    "\n",
    "# combinar as infos\n",
    "topic_analysis = pd.merge(\n",
    "    topic_info[['Topic', 'Count', 'Name']],\n",
    "    topic_genres,\n",
    "    left_on='Topic',\n",
    "    right_on='topic'\n",
    ")\n",
    "\n",
    "topic_analysis['Keywords'] = topic_analysis['Topic'].map(topic_keywords)\n",
    "topic_analysis['Top Genres'] = topic_analysis['genres'].apply(lambda x: \", \".join(x))\n",
    "topic_analysis = topic_analysis[['Topic', 'Count', 'Top Genres', 'Keywords', 'Name']]\n",
    "\n",
    "print(\"\\nTópicos com gêneros associados:\")\n",
    "print(topic_analysis.head(10))"
   ]
  }
 ],
 "metadata": {
  "kernelspec": {
   "display_name": ".venv",
   "language": "python",
   "name": "python3"
  },
  "language_info": {
   "codemirror_mode": {
    "name": "ipython",
    "version": 3
   },
   "file_extension": ".py",
   "mimetype": "text/x-python",
   "name": "python",
   "nbconvert_exporter": "python",
   "pygments_lexer": "ipython3",
   "version": "3.12.9"
  }
 },
 "nbformat": 4,
 "nbformat_minor": 5
}
